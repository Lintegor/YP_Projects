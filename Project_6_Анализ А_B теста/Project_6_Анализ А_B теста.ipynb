{
 "cells": [
  {
   "cell_type": "markdown",
   "metadata": {
    "toc": true
   },
   "source": [
    "<h1>Table of Contents<span class=\"tocSkip\"></span></h1>\n",
    "<div class=\"toc\"><ul class=\"toc-item\"><li><span><a href=\"#Часть-1.-Приоритизация-гипотез\" data-toc-modified-id=\"Часть-1.-Приоритизация-гипотез-1\"><span class=\"toc-item-num\">1&nbsp;&nbsp;</span>Часть 1. Приоритизация гипотез</a></span><ul class=\"toc-item\"><li><span><a href=\"#Вывод\" data-toc-modified-id=\"Вывод-1.1\"><span class=\"toc-item-num\">1.1&nbsp;&nbsp;</span>Вывод</a></span></li></ul></li><li><span><a href=\"#Часть-2.-Анализ-A/B-теста\" data-toc-modified-id=\"Часть-2.-Анализ-A/B-теста-2\"><span class=\"toc-item-num\">2&nbsp;&nbsp;</span>Часть 2. Анализ A/B-теста</a></span><ul class=\"toc-item\"><li><span><a href=\"#График-кумулятивной-выручки-по-группам\" data-toc-modified-id=\"График-кумулятивной-выручки-по-группам-2.1\"><span class=\"toc-item-num\">2.1&nbsp;&nbsp;</span>График кумулятивной выручки по группам</a></span><ul class=\"toc-item\"><li><span><a href=\"#Вывод\" data-toc-modified-id=\"Вывод-2.1.1\"><span class=\"toc-item-num\">2.1.1&nbsp;&nbsp;</span>Вывод</a></span></li></ul></li><li><span><a href=\"#График-кумулятивного-среднего-чека-по-группам\" data-toc-modified-id=\"График-кумулятивного-среднего-чека-по-группам-2.2\"><span class=\"toc-item-num\">2.2&nbsp;&nbsp;</span>График кумулятивного среднего чека по группам</a></span><ul class=\"toc-item\"><li><span><a href=\"#Вывод\" data-toc-modified-id=\"Вывод-2.2.1\"><span class=\"toc-item-num\">2.2.1&nbsp;&nbsp;</span>Вывод</a></span></li></ul></li><li><span><a href=\"#График-относительного-изменения-кумулятивного-среднего-чека-группы-B-к-группе-A\" data-toc-modified-id=\"График-относительного-изменения-кумулятивного-среднего-чека-группы-B-к-группе-A-2.3\"><span class=\"toc-item-num\">2.3&nbsp;&nbsp;</span>График относительного изменения кумулятивного среднего чека группы B к группе A</a></span><ul class=\"toc-item\"><li><span><a href=\"#Вывод\" data-toc-modified-id=\"Вывод-2.3.1\"><span class=\"toc-item-num\">2.3.1&nbsp;&nbsp;</span>Вывод</a></span></li></ul></li><li><span><a href=\"#График-кумулятивной-конверсии-по-группам\" data-toc-modified-id=\"График-кумулятивной-конверсии-по-группам-2.4\"><span class=\"toc-item-num\">2.4&nbsp;&nbsp;</span>График кумулятивной конверсии по группам</a></span><ul class=\"toc-item\"><li><span><a href=\"#Вывод\" data-toc-modified-id=\"Вывод-2.4.1\"><span class=\"toc-item-num\">2.4.1&nbsp;&nbsp;</span>Вывод</a></span></li></ul></li><li><span><a href=\"#График-относительного-изменения-кумулятивной-конверсии-группы-B-к-группе-A\" data-toc-modified-id=\"График-относительного-изменения-кумулятивной-конверсии-группы-B-к-группе-A-2.5\"><span class=\"toc-item-num\">2.5&nbsp;&nbsp;</span>График относительного изменения кумулятивной конверсии группы B к группе A</a></span><ul class=\"toc-item\"><li><span><a href=\"#Вывод\" data-toc-modified-id=\"Вывод-2.5.1\"><span class=\"toc-item-num\">2.5.1&nbsp;&nbsp;</span>Вывод</a></span></li></ul></li><li><span><a href=\"#Точечный-график-количества-заказов-по-пользователям\" data-toc-modified-id=\"Точечный-график-количества-заказов-по-пользователям-2.6\"><span class=\"toc-item-num\">2.6&nbsp;&nbsp;</span>Точечный график количества заказов по пользователям</a></span><ul class=\"toc-item\"><li><span><a href=\"#Вывод\" data-toc-modified-id=\"Вывод-2.6.1\"><span class=\"toc-item-num\">2.6.1&nbsp;&nbsp;</span>Вывод</a></span></li></ul></li><li><span><a href=\"#Подсчёт-95-го-и-99-го-перцентиля-количества-заказов-на-пользователя.-Выбор-границы-для-определения-аномальных-пользователей\" data-toc-modified-id=\"Подсчёт-95-го-и-99-го-перцентиля-количества-заказов-на-пользователя.-Выбор-границы-для-определения-аномальных-пользователей-2.7\"><span class=\"toc-item-num\">2.7&nbsp;&nbsp;</span>Подсчёт 95-го и 99-го перцентиля количества заказов на пользователя. Выбор границы для определения аномальных пользователей</a></span><ul class=\"toc-item\"><li><span><a href=\"#Вывод\" data-toc-modified-id=\"Вывод-2.7.1\"><span class=\"toc-item-num\">2.7.1&nbsp;&nbsp;</span>Вывод</a></span></li></ul></li><li><span><a href=\"#Точечный-график-стоимостей-заказов\" data-toc-modified-id=\"Точечный-график-стоимостей-заказов-2.8\"><span class=\"toc-item-num\">2.8&nbsp;&nbsp;</span>Точечный график стоимостей заказов</a></span><ul class=\"toc-item\"><li><span><a href=\"#Вывод\" data-toc-modified-id=\"Вывод-2.8.1\"><span class=\"toc-item-num\">2.8.1&nbsp;&nbsp;</span>Вывод</a></span></li></ul></li><li><span><a href=\"#Подсчёт-95-го-и-99-го-перцентиля-стоимости-заказов.-Выбор-границы-для-определения-аномальных-заказов\" data-toc-modified-id=\"Подсчёт-95-го-и-99-го-перцентиля-стоимости-заказов.-Выбор-границы-для-определения-аномальных-заказов-2.9\"><span class=\"toc-item-num\">2.9&nbsp;&nbsp;</span>Подсчёт 95-го и 99-го перцентиля стоимости заказов. Выбор границы для определения аномальных заказов</a></span><ul class=\"toc-item\"><li><span><a href=\"#Вывод\" data-toc-modified-id=\"Вывод-2.9.1\"><span class=\"toc-item-num\">2.9.1&nbsp;&nbsp;</span>Вывод</a></span></li></ul></li><li><span><a href=\"#Cтатистическая-значимость-различий-в-конверсии-между-группами-по-«сырым»-данным\" data-toc-modified-id=\"Cтатистическая-значимость-различий-в-конверсии-между-группами-по-«сырым»-данным-2.10\"><span class=\"toc-item-num\">2.10&nbsp;&nbsp;</span>Cтатистическая значимость различий в конверсии между группами по «сырым» данным</a></span><ul class=\"toc-item\"><li><span><a href=\"#Вывод\" data-toc-modified-id=\"Вывод-2.10.1\"><span class=\"toc-item-num\">2.10.1&nbsp;&nbsp;</span>Вывод</a></span></li></ul></li><li><span><a href=\"#Cтатистическую-значимость-различий-в-среднем-чеке-заказа-между-группами-по-«сырым»-данным\" data-toc-modified-id=\"Cтатистическую-значимость-различий-в-среднем-чеке-заказа-между-группами-по-«сырым»-данным-2.11\"><span class=\"toc-item-num\">2.11&nbsp;&nbsp;</span>Cтатистическую значимость различий в среднем чеке заказа между группами по «сырым» данным</a></span><ul class=\"toc-item\"><li><span><a href=\"#Вывод\" data-toc-modified-id=\"Вывод-2.11.1\"><span class=\"toc-item-num\">2.11.1&nbsp;&nbsp;</span>Вывод</a></span></li></ul></li><li><span><a href=\"#Cтатистическая-значимость-различий-в-конверсии-между-группами-по-«очищенным»-данным\" data-toc-modified-id=\"Cтатистическая-значимость-различий-в-конверсии-между-группами-по-«очищенным»-данным-2.12\"><span class=\"toc-item-num\">2.12&nbsp;&nbsp;</span>Cтатистическая значимость различий в конверсии между группами по «очищенным» данным</a></span><ul class=\"toc-item\"><li><span><a href=\"#Вывод\" data-toc-modified-id=\"Вывод-2.12.1\"><span class=\"toc-item-num\">2.12.1&nbsp;&nbsp;</span>Вывод</a></span></li></ul></li><li><span><a href=\"#Cтатистическую-значимость-различий-в-среднем-чеке-заказа-между-группами-по-«очищенным»-данным\" data-toc-modified-id=\"Cтатистическую-значимость-различий-в-среднем-чеке-заказа-между-группами-по-«очищенным»-данным-2.13\"><span class=\"toc-item-num\">2.13&nbsp;&nbsp;</span>Cтатистическую значимость различий в среднем чеке заказа между группами по «очищенным» данным</a></span><ul class=\"toc-item\"><li><span><a href=\"#Вывод\" data-toc-modified-id=\"Вывод-2.13.1\"><span class=\"toc-item-num\">2.13.1&nbsp;&nbsp;</span>Вывод</a></span></li></ul></li><li><span><a href=\"#Общий-вывод\" data-toc-modified-id=\"Общий-вывод-2.14\"><span class=\"toc-item-num\">2.14&nbsp;&nbsp;</span>Общий вывод</a></span></li></ul></li></ul></div>"
   ]
  },
  {
   "cell_type": "markdown",
   "metadata": {},
   "source": [
    "# Принятие решений в бизнесе"
   ]
  },
  {
   "cell_type": "markdown",
   "metadata": {},
   "source": [
    "Я — аналитик крупного интернет-магазина. Вместе с отделом маркетинга вы подготовили список гипотез для увеличения выручки.\n",
    "Необходимо приоритизировать гипотезы, запустить A/B-тест и проанализировать результаты."
   ]
  },
  {
   "cell_type": "code",
   "execution_count": 1,
   "metadata": {},
   "outputs": [],
   "source": [
    "#импорт библиотек\n",
    "import pandas as pd\n",
    "import numpy as np\n",
    "import matplotlib.pyplot as plt\n",
    "from datetime import datetime as dt\n",
    "from scipy import stats as st\n",
    "from pylab import rcParams\n",
    "import math as mth\n",
    "rcParams['figure.figsize'] = 10,7\n",
    "#plt.style.use('dark_background')"
   ]
  },
  {
   "cell_type": "markdown",
   "metadata": {},
   "source": [
    "## Часть 1. Приоритизация гипотез"
   ]
  },
  {
   "cell_type": "markdown",
   "metadata": {},
   "source": [
    "Разберём список гипотез, посмотрим на данные."
   ]
  },
  {
   "cell_type": "code",
   "execution_count": 2,
   "metadata": {},
   "outputs": [],
   "source": [
    "#Импортируем данные\n",
    "try:\n",
    "    hypothesis = pd.read_csv('hypothesis.csv') \n",
    "except:\n",
    "    hypothesis = pd.read_csv('/datasets/hypothesis.csv')"
   ]
  },
  {
   "cell_type": "code",
   "execution_count": 3,
   "metadata": {
    "scrolled": false
   },
   "outputs": [
    {
     "name": "stdout",
     "output_type": "stream",
     "text": [
      "                                          Hypothesis  Reach  Impact  \\\n",
      "0  Добавить два новых канала привлечения трафика,...      3      10   \n",
      "1  Запустить собственную службу доставки, что сок...      2       5   \n",
      "2  Добавить блоки рекомендаций товаров на сайт ин...      8       3   \n",
      "3  Изменить структура категорий, что увеличит кон...      8       3   \n",
      "4  Изменить цвет фона главной страницы, чтобы уве...      3       1   \n",
      "5  Добавить страницу отзывов клиентов о магазине,...      3       2   \n",
      "6  Показать на главной странице баннеры с актуаль...      5       3   \n",
      "7  Добавить форму подписки на все основные страни...     10       7   \n",
      "8  Запустить акцию, дающую скидку на товар в день...      1       9   \n",
      "\n",
      "   Confidence  Efforts  \n",
      "0           8        6  \n",
      "1           4       10  \n",
      "2           7        3  \n",
      "3           3        8  \n",
      "4           1        1  \n",
      "5           2        3  \n",
      "6           8        3  \n",
      "7           8        5  \n",
      "8           9        5  \n",
      "<class 'pandas.core.frame.DataFrame'>\n",
      "RangeIndex: 9 entries, 0 to 8\n",
      "Data columns (total 5 columns):\n",
      " #   Column      Non-Null Count  Dtype \n",
      "---  ------      --------------  ----- \n",
      " 0   Hypothesis  9 non-null      object\n",
      " 1   Reach       9 non-null      int64 \n",
      " 2   Impact      9 non-null      int64 \n",
      " 3   Confidence  9 non-null      int64 \n",
      " 4   Efforts     9 non-null      int64 \n",
      "dtypes: int64(4), object(1)\n",
      "memory usage: 488.0+ bytes\n"
     ]
    }
   ],
   "source": [
    "print(hypothesis)\n",
    "hypothesis.info()"
   ]
  },
  {
   "cell_type": "markdown",
   "metadata": {},
   "source": [
    "Итого, в файле 9 гипотез по увеличению выручки интернет-магазина с указанными параметрами:    \n",
    "**Reach** -  скольких пользователей затронет изменение, которое вы хотите внести,    \n",
    "**Impact** - насколько сильно изменение повлияет на пользователей, их опыт и удовлетворение от продукта,    \n",
    "**Confidence** - насколько вы уверены, что это изменение повлияет на пользователей именно так,    \n",
    "**Effort** - сколько стоит протестировать эту гипотезу.    \n",
    "Проблем в виде пропусков и прочего в данных отсутствует. Шкала важности представлена от 0 до 10. Приступим к приоретизации гипотез с помощью фреймворков ICE и RICE."
   ]
  },
  {
   "cell_type": "code",
   "execution_count": 4,
   "metadata": {},
   "outputs": [
    {
     "data": {
      "text/html": [
       "<div>\n",
       "<style scoped>\n",
       "    .dataframe tbody tr th:only-of-type {\n",
       "        vertical-align: middle;\n",
       "    }\n",
       "\n",
       "    .dataframe tbody tr th {\n",
       "        vertical-align: top;\n",
       "    }\n",
       "\n",
       "    .dataframe thead th {\n",
       "        text-align: right;\n",
       "    }\n",
       "</style>\n",
       "<table border=\"1\" class=\"dataframe\">\n",
       "  <thead>\n",
       "    <tr style=\"text-align: right;\">\n",
       "      <th></th>\n",
       "      <th>Hypothesis</th>\n",
       "      <th>ICE</th>\n",
       "    </tr>\n",
       "  </thead>\n",
       "  <tbody>\n",
       "    <tr>\n",
       "      <th>8</th>\n",
       "      <td>Запустить акцию, дающую скидку на товар в день рождения</td>\n",
       "      <td>16.20</td>\n",
       "    </tr>\n",
       "    <tr>\n",
       "      <th>0</th>\n",
       "      <td>Добавить два новых канала привлечения трафика, что позволит привлекать на 30% больше пользователей</td>\n",
       "      <td>13.33</td>\n",
       "    </tr>\n",
       "    <tr>\n",
       "      <th>7</th>\n",
       "      <td>Добавить форму подписки на все основные страницы, чтобы собрать базу клиентов для email-рассылок</td>\n",
       "      <td>11.20</td>\n",
       "    </tr>\n",
       "    <tr>\n",
       "      <th>6</th>\n",
       "      <td>Показать на главной странице баннеры с актуальными акциями и распродажами, чтобы увеличить конверсию</td>\n",
       "      <td>8.00</td>\n",
       "    </tr>\n",
       "    <tr>\n",
       "      <th>2</th>\n",
       "      <td>Добавить блоки рекомендаций товаров на сайт интернет магазина, чтобы повысить конверсию и средний чек заказа</td>\n",
       "      <td>7.00</td>\n",
       "    </tr>\n",
       "    <tr>\n",
       "      <th>1</th>\n",
       "      <td>Запустить собственную службу доставки, что сократит срок доставки заказов</td>\n",
       "      <td>2.00</td>\n",
       "    </tr>\n",
       "    <tr>\n",
       "      <th>5</th>\n",
       "      <td>Добавить страницу отзывов клиентов о магазине, что позволит увеличить количество заказов</td>\n",
       "      <td>1.33</td>\n",
       "    </tr>\n",
       "    <tr>\n",
       "      <th>3</th>\n",
       "      <td>Изменить структура категорий, что увеличит конверсию, т.к. пользователи быстрее найдут нужный товар</td>\n",
       "      <td>1.12</td>\n",
       "    </tr>\n",
       "    <tr>\n",
       "      <th>4</th>\n",
       "      <td>Изменить цвет фона главной страницы, чтобы увеличить вовлеченность пользователей</td>\n",
       "      <td>1.00</td>\n",
       "    </tr>\n",
       "  </tbody>\n",
       "</table>\n",
       "</div>"
      ],
      "text/plain": [
       "                                                                                                     Hypothesis  \\\n",
       "8                                                       Запустить акцию, дающую скидку на товар в день рождения   \n",
       "0            Добавить два новых канала привлечения трафика, что позволит привлекать на 30% больше пользователей   \n",
       "7              Добавить форму подписки на все основные страницы, чтобы собрать базу клиентов для email-рассылок   \n",
       "6          Показать на главной странице баннеры с актуальными акциями и распродажами, чтобы увеличить конверсию   \n",
       "2  Добавить блоки рекомендаций товаров на сайт интернет магазина, чтобы повысить конверсию и средний чек заказа   \n",
       "1                                     Запустить собственную службу доставки, что сократит срок доставки заказов   \n",
       "5                      Добавить страницу отзывов клиентов о магазине, что позволит увеличить количество заказов   \n",
       "3           Изменить структура категорий, что увеличит конверсию, т.к. пользователи быстрее найдут нужный товар   \n",
       "4                              Изменить цвет фона главной страницы, чтобы увеличить вовлеченность пользователей   \n",
       "\n",
       "     ICE  \n",
       "8  16.20  \n",
       "0  13.33  \n",
       "7  11.20  \n",
       "6   8.00  \n",
       "2   7.00  \n",
       "1   2.00  \n",
       "5   1.33  \n",
       "3   1.12  \n",
       "4   1.00  "
      ]
     },
     "metadata": {},
     "output_type": "display_data"
    },
    {
     "data": {
      "text/html": [
       "<div>\n",
       "<style scoped>\n",
       "    .dataframe tbody tr th:only-of-type {\n",
       "        vertical-align: middle;\n",
       "    }\n",
       "\n",
       "    .dataframe tbody tr th {\n",
       "        vertical-align: top;\n",
       "    }\n",
       "\n",
       "    .dataframe thead th {\n",
       "        text-align: right;\n",
       "    }\n",
       "</style>\n",
       "<table border=\"1\" class=\"dataframe\">\n",
       "  <thead>\n",
       "    <tr style=\"text-align: right;\">\n",
       "      <th></th>\n",
       "      <th>Hypothesis</th>\n",
       "      <th>RICE</th>\n",
       "    </tr>\n",
       "  </thead>\n",
       "  <tbody>\n",
       "    <tr>\n",
       "      <th>7</th>\n",
       "      <td>Добавить форму подписки на все основные страницы, чтобы собрать базу клиентов для email-рассылок</td>\n",
       "      <td>112.0</td>\n",
       "    </tr>\n",
       "    <tr>\n",
       "      <th>2</th>\n",
       "      <td>Добавить блоки рекомендаций товаров на сайт интернет магазина, чтобы повысить конверсию и средний чек заказа</td>\n",
       "      <td>56.0</td>\n",
       "    </tr>\n",
       "    <tr>\n",
       "      <th>0</th>\n",
       "      <td>Добавить два новых канала привлечения трафика, что позволит привлекать на 30% больше пользователей</td>\n",
       "      <td>40.0</td>\n",
       "    </tr>\n",
       "    <tr>\n",
       "      <th>6</th>\n",
       "      <td>Показать на главной странице баннеры с актуальными акциями и распродажами, чтобы увеличить конверсию</td>\n",
       "      <td>40.0</td>\n",
       "    </tr>\n",
       "    <tr>\n",
       "      <th>8</th>\n",
       "      <td>Запустить акцию, дающую скидку на товар в день рождения</td>\n",
       "      <td>16.2</td>\n",
       "    </tr>\n",
       "    <tr>\n",
       "      <th>3</th>\n",
       "      <td>Изменить структура категорий, что увеличит конверсию, т.к. пользователи быстрее найдут нужный товар</td>\n",
       "      <td>9.0</td>\n",
       "    </tr>\n",
       "    <tr>\n",
       "      <th>1</th>\n",
       "      <td>Запустить собственную службу доставки, что сократит срок доставки заказов</td>\n",
       "      <td>4.0</td>\n",
       "    </tr>\n",
       "    <tr>\n",
       "      <th>5</th>\n",
       "      <td>Добавить страницу отзывов клиентов о магазине, что позволит увеличить количество заказов</td>\n",
       "      <td>4.0</td>\n",
       "    </tr>\n",
       "    <tr>\n",
       "      <th>4</th>\n",
       "      <td>Изменить цвет фона главной страницы, чтобы увеличить вовлеченность пользователей</td>\n",
       "      <td>3.0</td>\n",
       "    </tr>\n",
       "  </tbody>\n",
       "</table>\n",
       "</div>"
      ],
      "text/plain": [
       "                                                                                                     Hypothesis  \\\n",
       "7              Добавить форму подписки на все основные страницы, чтобы собрать базу клиентов для email-рассылок   \n",
       "2  Добавить блоки рекомендаций товаров на сайт интернет магазина, чтобы повысить конверсию и средний чек заказа   \n",
       "0            Добавить два новых канала привлечения трафика, что позволит привлекать на 30% больше пользователей   \n",
       "6          Показать на главной странице баннеры с актуальными акциями и распродажами, чтобы увеличить конверсию   \n",
       "8                                                       Запустить акцию, дающую скидку на товар в день рождения   \n",
       "3           Изменить структура категорий, что увеличит конверсию, т.к. пользователи быстрее найдут нужный товар   \n",
       "1                                     Запустить собственную службу доставки, что сократит срок доставки заказов   \n",
       "5                      Добавить страницу отзывов клиентов о магазине, что позволит увеличить количество заказов   \n",
       "4                              Изменить цвет фона главной страницы, чтобы увеличить вовлеченность пользователей   \n",
       "\n",
       "    RICE  \n",
       "7  112.0  \n",
       "2   56.0  \n",
       "0   40.0  \n",
       "6   40.0  \n",
       "8   16.2  \n",
       "3    9.0  \n",
       "1    4.0  \n",
       "5    4.0  \n",
       "4    3.0  "
      ]
     },
     "metadata": {},
     "output_type": "display_data"
    }
   ],
   "source": [
    "#Добавим столбец со способом приоритизации гипотез ICE\n",
    "hypothesis['ICE'] = round((hypothesis['Impact']*hypothesis['Confidence'])/hypothesis['Efforts'],2)\n",
    "#Добавим столбец со способом приоритизации гипотез RICE\n",
    "hypothesis['RICE'] = (hypothesis['Reach']*hypothesis['Impact']*hypothesis['Confidence'])/hypothesis['Efforts']\n",
    "#Отсортируем наши гипотезы сначалапо ICE, потомпо RICE\n",
    "pd.set_option('max_colwidth', 120)\n",
    "display(hypothesis[['Hypothesis','ICE']].sort_values(by = 'ICE', ascending = False))\n",
    "display(hypothesis[['Hypothesis','RICE']].sort_values(by = 'RICE', ascending = False))"
   ]
  },
  {
   "cell_type": "markdown",
   "metadata": {},
   "source": [
    "### Вывод"
   ]
  },
  {
   "cell_type": "markdown",
   "metadata": {},
   "source": [
    "При применении разных способов приоритезации ICE И RICE, у нас получилась разная очерёдность гипотез. При способе ICE самой приоритетной гипотезой стала **Запуск акции, дающую скидку на товар в день рождения**. А при способе RICE самой приоритетной гипотезой стала **Добавление формы подписки на все основные страницы, чтобы собрать базу клиентов для email-рассылок**. Так получилось, потому что при приоритезации RICE используется дополнительный параметр **Reach** - охват пользователей, которых затронет изменение. Например акция в день рождение охватит только тех пользователей, которые будут заказывать товар в день рождение, а форму подписки на всех оснаовных страниц увидят все."
   ]
  },
  {
   "cell_type": "markdown",
   "metadata": {},
   "source": [
    "## Часть 2. Анализ A/B-теста"
   ]
  },
  {
   "cell_type": "markdown",
   "metadata": {},
   "source": [
    "Загрузим в наши датафреймы данные с результатами A/B тестов."
   ]
  },
  {
   "cell_type": "code",
   "execution_count": 5,
   "metadata": {},
   "outputs": [],
   "source": [
    "#Импортируем данные\n",
    "try:\n",
    "    orders = pd.read_csv('orders.csv')\n",
    "    visitors = pd.read_csv('visitors.csv')\n",
    "except:\n",
    "    orders = pd.read_csv('/datasets/orders.csv')\n",
    "    visitors = pd.read_csv('/datasets/visitors.csv')"
   ]
  },
  {
   "cell_type": "code",
   "execution_count": 6,
   "metadata": {
    "scrolled": false
   },
   "outputs": [
    {
     "data": {
      "text/html": [
       "<div>\n",
       "<style scoped>\n",
       "    .dataframe tbody tr th:only-of-type {\n",
       "        vertical-align: middle;\n",
       "    }\n",
       "\n",
       "    .dataframe tbody tr th {\n",
       "        vertical-align: top;\n",
       "    }\n",
       "\n",
       "    .dataframe thead th {\n",
       "        text-align: right;\n",
       "    }\n",
       "</style>\n",
       "<table border=\"1\" class=\"dataframe\">\n",
       "  <thead>\n",
       "    <tr style=\"text-align: right;\">\n",
       "      <th></th>\n",
       "      <th>transactionId</th>\n",
       "      <th>visitorId</th>\n",
       "      <th>date</th>\n",
       "      <th>revenue</th>\n",
       "      <th>group</th>\n",
       "    </tr>\n",
       "  </thead>\n",
       "  <tbody>\n",
       "    <tr>\n",
       "      <th>0</th>\n",
       "      <td>3667963787</td>\n",
       "      <td>3312258926</td>\n",
       "      <td>2019-08-15</td>\n",
       "      <td>1650</td>\n",
       "      <td>B</td>\n",
       "    </tr>\n",
       "    <tr>\n",
       "      <th>1</th>\n",
       "      <td>2804400009</td>\n",
       "      <td>3642806036</td>\n",
       "      <td>2019-08-15</td>\n",
       "      <td>730</td>\n",
       "      <td>B</td>\n",
       "    </tr>\n",
       "    <tr>\n",
       "      <th>2</th>\n",
       "      <td>2961555356</td>\n",
       "      <td>4069496402</td>\n",
       "      <td>2019-08-15</td>\n",
       "      <td>400</td>\n",
       "      <td>A</td>\n",
       "    </tr>\n",
       "    <tr>\n",
       "      <th>3</th>\n",
       "      <td>3797467345</td>\n",
       "      <td>1196621759</td>\n",
       "      <td>2019-08-15</td>\n",
       "      <td>9759</td>\n",
       "      <td>B</td>\n",
       "    </tr>\n",
       "    <tr>\n",
       "      <th>4</th>\n",
       "      <td>2282983706</td>\n",
       "      <td>2322279887</td>\n",
       "      <td>2019-08-15</td>\n",
       "      <td>2308</td>\n",
       "      <td>B</td>\n",
       "    </tr>\n",
       "    <tr>\n",
       "      <th>5</th>\n",
       "      <td>182168103</td>\n",
       "      <td>935554773</td>\n",
       "      <td>2019-08-15</td>\n",
       "      <td>2210</td>\n",
       "      <td>B</td>\n",
       "    </tr>\n",
       "    <tr>\n",
       "      <th>6</th>\n",
       "      <td>398296753</td>\n",
       "      <td>2900797465</td>\n",
       "      <td>2019-08-15</td>\n",
       "      <td>1860</td>\n",
       "      <td>B</td>\n",
       "    </tr>\n",
       "    <tr>\n",
       "      <th>7</th>\n",
       "      <td>2626614568</td>\n",
       "      <td>78758296</td>\n",
       "      <td>2019-08-15</td>\n",
       "      <td>1044</td>\n",
       "      <td>A</td>\n",
       "    </tr>\n",
       "    <tr>\n",
       "      <th>8</th>\n",
       "      <td>1576988021</td>\n",
       "      <td>295230930</td>\n",
       "      <td>2019-08-15</td>\n",
       "      <td>13710</td>\n",
       "      <td>A</td>\n",
       "    </tr>\n",
       "    <tr>\n",
       "      <th>9</th>\n",
       "      <td>1506739906</td>\n",
       "      <td>1882260405</td>\n",
       "      <td>2019-08-15</td>\n",
       "      <td>1855</td>\n",
       "      <td>B</td>\n",
       "    </tr>\n",
       "  </tbody>\n",
       "</table>\n",
       "</div>"
      ],
      "text/plain": [
       "   transactionId   visitorId        date  revenue group\n",
       "0     3667963787  3312258926  2019-08-15     1650     B\n",
       "1     2804400009  3642806036  2019-08-15      730     B\n",
       "2     2961555356  4069496402  2019-08-15      400     A\n",
       "3     3797467345  1196621759  2019-08-15     9759     B\n",
       "4     2282983706  2322279887  2019-08-15     2308     B\n",
       "5      182168103   935554773  2019-08-15     2210     B\n",
       "6      398296753  2900797465  2019-08-15     1860     B\n",
       "7     2626614568    78758296  2019-08-15     1044     A\n",
       "8     1576988021   295230930  2019-08-15    13710     A\n",
       "9     1506739906  1882260405  2019-08-15     1855     B"
      ]
     },
     "metadata": {},
     "output_type": "display_data"
    },
    {
     "name": "stdout",
     "output_type": "stream",
     "text": [
      "<class 'pandas.core.frame.DataFrame'>\n",
      "RangeIndex: 1197 entries, 0 to 1196\n",
      "Data columns (total 5 columns):\n",
      " #   Column         Non-Null Count  Dtype \n",
      "---  ------         --------------  ----- \n",
      " 0   transactionId  1197 non-null   int64 \n",
      " 1   visitorId      1197 non-null   int64 \n",
      " 2   date           1197 non-null   object\n",
      " 3   revenue        1197 non-null   int64 \n",
      " 4   group          1197 non-null   object\n",
      "dtypes: int64(3), object(2)\n",
      "memory usage: 46.9+ KB\n"
     ]
    },
    {
     "data": {
      "text/plain": [
       "None"
      ]
     },
     "metadata": {},
     "output_type": "display_data"
    },
    {
     "data": {
      "text/html": [
       "<div>\n",
       "<style scoped>\n",
       "    .dataframe tbody tr th:only-of-type {\n",
       "        vertical-align: middle;\n",
       "    }\n",
       "\n",
       "    .dataframe tbody tr th {\n",
       "        vertical-align: top;\n",
       "    }\n",
       "\n",
       "    .dataframe thead th {\n",
       "        text-align: right;\n",
       "    }\n",
       "</style>\n",
       "<table border=\"1\" class=\"dataframe\">\n",
       "  <thead>\n",
       "    <tr style=\"text-align: right;\">\n",
       "      <th></th>\n",
       "      <th>date</th>\n",
       "      <th>group</th>\n",
       "      <th>visitors</th>\n",
       "    </tr>\n",
       "  </thead>\n",
       "  <tbody>\n",
       "    <tr>\n",
       "      <th>0</th>\n",
       "      <td>2019-08-01</td>\n",
       "      <td>A</td>\n",
       "      <td>719</td>\n",
       "    </tr>\n",
       "    <tr>\n",
       "      <th>1</th>\n",
       "      <td>2019-08-02</td>\n",
       "      <td>A</td>\n",
       "      <td>619</td>\n",
       "    </tr>\n",
       "    <tr>\n",
       "      <th>2</th>\n",
       "      <td>2019-08-03</td>\n",
       "      <td>A</td>\n",
       "      <td>507</td>\n",
       "    </tr>\n",
       "    <tr>\n",
       "      <th>3</th>\n",
       "      <td>2019-08-04</td>\n",
       "      <td>A</td>\n",
       "      <td>717</td>\n",
       "    </tr>\n",
       "    <tr>\n",
       "      <th>4</th>\n",
       "      <td>2019-08-05</td>\n",
       "      <td>A</td>\n",
       "      <td>756</td>\n",
       "    </tr>\n",
       "    <tr>\n",
       "      <th>5</th>\n",
       "      <td>2019-08-06</td>\n",
       "      <td>A</td>\n",
       "      <td>667</td>\n",
       "    </tr>\n",
       "    <tr>\n",
       "      <th>6</th>\n",
       "      <td>2019-08-07</td>\n",
       "      <td>A</td>\n",
       "      <td>644</td>\n",
       "    </tr>\n",
       "    <tr>\n",
       "      <th>7</th>\n",
       "      <td>2019-08-08</td>\n",
       "      <td>A</td>\n",
       "      <td>610</td>\n",
       "    </tr>\n",
       "    <tr>\n",
       "      <th>8</th>\n",
       "      <td>2019-08-09</td>\n",
       "      <td>A</td>\n",
       "      <td>617</td>\n",
       "    </tr>\n",
       "    <tr>\n",
       "      <th>9</th>\n",
       "      <td>2019-08-10</td>\n",
       "      <td>A</td>\n",
       "      <td>406</td>\n",
       "    </tr>\n",
       "  </tbody>\n",
       "</table>\n",
       "</div>"
      ],
      "text/plain": [
       "         date group  visitors\n",
       "0  2019-08-01     A       719\n",
       "1  2019-08-02     A       619\n",
       "2  2019-08-03     A       507\n",
       "3  2019-08-04     A       717\n",
       "4  2019-08-05     A       756\n",
       "5  2019-08-06     A       667\n",
       "6  2019-08-07     A       644\n",
       "7  2019-08-08     A       610\n",
       "8  2019-08-09     A       617\n",
       "9  2019-08-10     A       406"
      ]
     },
     "metadata": {},
     "output_type": "display_data"
    },
    {
     "name": "stdout",
     "output_type": "stream",
     "text": [
      "<class 'pandas.core.frame.DataFrame'>\n",
      "RangeIndex: 62 entries, 0 to 61\n",
      "Data columns (total 3 columns):\n",
      " #   Column    Non-Null Count  Dtype \n",
      "---  ------    --------------  ----- \n",
      " 0   date      62 non-null     object\n",
      " 1   group     62 non-null     object\n",
      " 2   visitors  62 non-null     int64 \n",
      "dtypes: int64(1), object(2)\n",
      "memory usage: 1.6+ KB\n"
     ]
    },
    {
     "data": {
      "text/plain": [
       "None"
      ]
     },
     "metadata": {},
     "output_type": "display_data"
    }
   ],
   "source": [
    "#Посмотрим на наши данные orders\n",
    "display(orders.head(10))\n",
    "display(orders.info())\n",
    "#Посмотрим на наши данные visitors\n",
    "display(visitors.head(10))\n",
    "display(visitors.info())"
   ]
  },
  {
   "cell_type": "code",
   "execution_count": 7,
   "metadata": {},
   "outputs": [
    {
     "name": "stdout",
     "output_type": "stream",
     "text": [
      "Дубликаты в orders -  0\n",
      "Дубликаты в visitors -  0\n"
     ]
    }
   ],
   "source": [
    "#ищем дубликаты в данных orders\n",
    "print('Дубликаты в orders - ',orders.duplicated().sum())\n",
    "#ищем дубликаты в данных visitors\n",
    "print('Дубликаты в visitors - ',visitors.duplicated().sum())"
   ]
  },
  {
   "cell_type": "code",
   "execution_count": 8,
   "metadata": {},
   "outputs": [],
   "source": [
    "#Перевод дат в нужный нам формат\n",
    "orders['date'] = orders['date'].map(lambda x: dt.strptime(x, '%Y-%m-%d'))\n",
    "#Перевод дат в нужный нам формат\n",
    "visitors['date'] = visitors['date'].map(lambda x: dt.strptime(x, '%Y-%m-%d'))"
   ]
  },
  {
   "cell_type": "code",
   "execution_count": 9,
   "metadata": {},
   "outputs": [],
   "source": [
    "def about(row):\n",
    "    print('Количество групп в исходных данных - ', row['group'].nunique())\n",
    "    print('Название групп в исходных данных  - ', row['group'].unique())\n",
    "    print('Начало теста - ', row['date'].min().date())\n",
    "    print('Конец теста - ', row['date'].max().date())\n",
    "    print('Количество уникальных пользователей:')\n",
    "    try:\n",
    "        print(row.groupby('group',as_index = False).agg({'visitorId':'nunique'}))\n",
    "    except:\n",
    "        print(row.groupby('group',as_index = False).agg({'visitors':'sum'}))"
   ]
  },
  {
   "cell_type": "code",
   "execution_count": 10,
   "metadata": {},
   "outputs": [
    {
     "name": "stdout",
     "output_type": "stream",
     "text": [
      "Количество групп в исходных данных -  2\n",
      "Название групп в исходных данных  -  ['B' 'A']\n",
      "Начало теста -  2019-08-01\n",
      "Конец теста -  2019-08-31\n",
      "Количество уникальных пользователей:\n",
      "  group  visitorId\n",
      "0     A        503\n",
      "1     B        586\n"
     ]
    }
   ],
   "source": [
    "#исходные данные для таблицы orders\n",
    "about(orders)"
   ]
  },
  {
   "cell_type": "code",
   "execution_count": 11,
   "metadata": {},
   "outputs": [
    {
     "name": "stdout",
     "output_type": "stream",
     "text": [
      "Количество групп в исходных данных -  2\n",
      "Название групп в исходных данных  -  ['A' 'B']\n",
      "Начало теста -  2019-08-01\n",
      "Конец теста -  2019-08-31\n",
      "Количество уникальных пользователей:\n",
      "  group  visitors\n",
      "0     A     18736\n",
      "1     B     18916\n"
     ]
    }
   ],
   "source": [
    "#исходные данные для таблицы visitors\n",
    "about(visitors)"
   ]
  },
  {
   "cell_type": "code",
   "execution_count": 12,
   "metadata": {},
   "outputs": [
    {
     "name": "stdout",
     "output_type": "stream",
     "text": [
      "Количество пользователей вошедших в обе группы - 58\n"
     ]
    }
   ],
   "source": [
    "bad_users = np.intersect1d(orders[orders['group'] == 'A']['visitorId'].unique(),\\\n",
    "               orders[orders['group'] == 'B']['visitorId'].unique())\n",
    "print('Количество пользователей вошедших в обе группы -',len(bad_users))"
   ]
  },
  {
   "cell_type": "markdown",
   "metadata": {},
   "source": [
    "Данных пользователей удалим из нашей выборки"
   ]
  },
  {
   "cell_type": "code",
   "execution_count": 13,
   "metadata": {},
   "outputs": [],
   "source": [
    "orders = orders[np.logical_not(orders['visitorId'].isin(bad_users))]"
   ]
  },
  {
   "cell_type": "markdown",
   "metadata": {},
   "source": [
    "### График кумулятивной выручки по группам"
   ]
  },
  {
   "cell_type": "markdown",
   "metadata": {},
   "source": [
    "Соберём агрегированные кумулятивные по дням данные о заказах в несколько действий"
   ]
  },
  {
   "cell_type": "code",
   "execution_count": 14,
   "metadata": {},
   "outputs": [
    {
     "data": {
      "text/html": [
       "<div>\n",
       "<style scoped>\n",
       "    .dataframe tbody tr th:only-of-type {\n",
       "        vertical-align: middle;\n",
       "    }\n",
       "\n",
       "    .dataframe tbody tr th {\n",
       "        vertical-align: top;\n",
       "    }\n",
       "\n",
       "    .dataframe thead th {\n",
       "        text-align: right;\n",
       "    }\n",
       "</style>\n",
       "<table border=\"1\" class=\"dataframe\">\n",
       "  <thead>\n",
       "    <tr style=\"text-align: right;\">\n",
       "      <th></th>\n",
       "      <th>date</th>\n",
       "      <th>group</th>\n",
       "    </tr>\n",
       "  </thead>\n",
       "  <tbody>\n",
       "    <tr>\n",
       "      <th>0</th>\n",
       "      <td>2019-08-15</td>\n",
       "      <td>B</td>\n",
       "    </tr>\n",
       "    <tr>\n",
       "      <th>7</th>\n",
       "      <td>2019-08-15</td>\n",
       "      <td>A</td>\n",
       "    </tr>\n",
       "    <tr>\n",
       "      <th>45</th>\n",
       "      <td>2019-08-16</td>\n",
       "      <td>A</td>\n",
       "    </tr>\n",
       "    <tr>\n",
       "      <th>47</th>\n",
       "      <td>2019-08-16</td>\n",
       "      <td>B</td>\n",
       "    </tr>\n",
       "    <tr>\n",
       "      <th>55</th>\n",
       "      <td>2019-08-01</td>\n",
       "      <td>A</td>\n",
       "    </tr>\n",
       "  </tbody>\n",
       "</table>\n",
       "</div>"
      ],
      "text/plain": [
       "         date group\n",
       "0  2019-08-15     B\n",
       "7  2019-08-15     A\n",
       "45 2019-08-16     A\n",
       "47 2019-08-16     B\n",
       "55 2019-08-01     A"
      ]
     },
     "execution_count": 14,
     "metadata": {},
     "output_type": "execute_result"
    }
   ],
   "source": [
    "# создаем массив уникальных пар значений дат и групп теста\n",
    "datesGroups = orders[['date','group']].drop_duplicates()\n",
    "datesGroups.head()"
   ]
  },
  {
   "cell_type": "code",
   "execution_count": 15,
   "metadata": {},
   "outputs": [
    {
     "data": {
      "text/html": [
       "<div>\n",
       "<style scoped>\n",
       "    .dataframe tbody tr th:only-of-type {\n",
       "        vertical-align: middle;\n",
       "    }\n",
       "\n",
       "    .dataframe tbody tr th {\n",
       "        vertical-align: top;\n",
       "    }\n",
       "\n",
       "    .dataframe thead th {\n",
       "        text-align: right;\n",
       "    }\n",
       "</style>\n",
       "<table border=\"1\" class=\"dataframe\">\n",
       "  <thead>\n",
       "    <tr style=\"text-align: right;\">\n",
       "      <th></th>\n",
       "      <th>date</th>\n",
       "      <th>group</th>\n",
       "      <th>transactionId</th>\n",
       "      <th>visitorId</th>\n",
       "      <th>revenue</th>\n",
       "    </tr>\n",
       "  </thead>\n",
       "  <tbody>\n",
       "    <tr>\n",
       "      <th>55</th>\n",
       "      <td>2019-08-01</td>\n",
       "      <td>A</td>\n",
       "      <td>23</td>\n",
       "      <td>19</td>\n",
       "      <td>142779</td>\n",
       "    </tr>\n",
       "    <tr>\n",
       "      <th>66</th>\n",
       "      <td>2019-08-01</td>\n",
       "      <td>B</td>\n",
       "      <td>17</td>\n",
       "      <td>17</td>\n",
       "      <td>59758</td>\n",
       "    </tr>\n",
       "    <tr>\n",
       "      <th>175</th>\n",
       "      <td>2019-08-02</td>\n",
       "      <td>A</td>\n",
       "      <td>42</td>\n",
       "      <td>36</td>\n",
       "      <td>234381</td>\n",
       "    </tr>\n",
       "    <tr>\n",
       "      <th>173</th>\n",
       "      <td>2019-08-02</td>\n",
       "      <td>B</td>\n",
       "      <td>40</td>\n",
       "      <td>39</td>\n",
       "      <td>221801</td>\n",
       "    </tr>\n",
       "    <tr>\n",
       "      <th>291</th>\n",
       "      <td>2019-08-03</td>\n",
       "      <td>A</td>\n",
       "      <td>66</td>\n",
       "      <td>60</td>\n",
       "      <td>346854</td>\n",
       "    </tr>\n",
       "  </tbody>\n",
       "</table>\n",
       "</div>"
      ],
      "text/plain": [
       "          date group  transactionId  visitorId  revenue\n",
       "55  2019-08-01     A             23         19   142779\n",
       "66  2019-08-01     B             17         17    59758\n",
       "175 2019-08-02     A             42         36   234381\n",
       "173 2019-08-02     B             40         39   221801\n",
       "291 2019-08-03     A             66         60   346854"
      ]
     },
     "execution_count": 15,
     "metadata": {},
     "output_type": "execute_result"
    }
   ],
   "source": [
    "#Получим строки таблицы orders, дата которых меньше или равна дате элемента из datesGroups, \n",
    "#а группа теста равна группе из datesGroups. Далее применим к ним агрегирующие функции\n",
    "#и вычислим кумулятивные значения выручки\n",
    "ordersAggregated = datesGroups.apply(lambda x: orders[np.logical_and\\\n",
    "                                    (orders['date'] <= x['date'], orders['group'] == x['group'])]\\\n",
    ".agg({'date' : 'max', 'group' : 'max', 'transactionId' : 'nunique', \\\n",
    "      'visitorId' : 'nunique', 'revenue' : 'sum'}), axis=1).sort_values(by=['date','group']) \n",
    "ordersAggregated.head()"
   ]
  },
  {
   "cell_type": "code",
   "execution_count": 16,
   "metadata": {},
   "outputs": [],
   "source": [
    "ordersAggregated_my = datesGroups.apply(\n",
    "lambda x: orders[np.logical_and(orders['date'] <= x['date'], orders['group'] == x['group'])].agg({\n",
    "    'date' : 'max',\n",
    "    'group' : 'max',\n",
    "    'transactionId' : pd.Series.nunique,\n",
    "    'visitorId' : pd.Series.nunique,\n",
    "    'revenue' : 'sum'}), axis=1).sort_values(by=['date','group'])"
   ]
  },
  {
   "cell_type": "code",
   "execution_count": 17,
   "metadata": {},
   "outputs": [
    {
     "data": {
      "text/html": [
       "<div>\n",
       "<style scoped>\n",
       "    .dataframe tbody tr th:only-of-type {\n",
       "        vertical-align: middle;\n",
       "    }\n",
       "\n",
       "    .dataframe tbody tr th {\n",
       "        vertical-align: top;\n",
       "    }\n",
       "\n",
       "    .dataframe thead th {\n",
       "        text-align: right;\n",
       "    }\n",
       "</style>\n",
       "<table border=\"1\" class=\"dataframe\">\n",
       "  <thead>\n",
       "    <tr style=\"text-align: right;\">\n",
       "      <th></th>\n",
       "      <th>date</th>\n",
       "      <th>group</th>\n",
       "      <th>visitors</th>\n",
       "    </tr>\n",
       "  </thead>\n",
       "  <tbody>\n",
       "    <tr>\n",
       "      <th>55</th>\n",
       "      <td>2019-08-01</td>\n",
       "      <td>A</td>\n",
       "      <td>719</td>\n",
       "    </tr>\n",
       "    <tr>\n",
       "      <th>66</th>\n",
       "      <td>2019-08-01</td>\n",
       "      <td>B</td>\n",
       "      <td>713</td>\n",
       "    </tr>\n",
       "    <tr>\n",
       "      <th>175</th>\n",
       "      <td>2019-08-02</td>\n",
       "      <td>A</td>\n",
       "      <td>1338</td>\n",
       "    </tr>\n",
       "    <tr>\n",
       "      <th>173</th>\n",
       "      <td>2019-08-02</td>\n",
       "      <td>B</td>\n",
       "      <td>1294</td>\n",
       "    </tr>\n",
       "    <tr>\n",
       "      <th>291</th>\n",
       "      <td>2019-08-03</td>\n",
       "      <td>A</td>\n",
       "      <td>1845</td>\n",
       "    </tr>\n",
       "  </tbody>\n",
       "</table>\n",
       "</div>"
      ],
      "text/plain": [
       "          date group  visitors\n",
       "55  2019-08-01     A       719\n",
       "66  2019-08-01     B       713\n",
       "175 2019-08-02     A      1338\n",
       "173 2019-08-02     B      1294\n",
       "291 2019-08-03     A      1845"
      ]
     },
     "execution_count": 17,
     "metadata": {},
     "output_type": "execute_result"
    }
   ],
   "source": [
    "#Аналогично получим агрегированные кумулятивные по дням данные о посетителях\n",
    "visitorsAggregated = datesGroups.apply(lambda x: visitors[np.logical_and\\\n",
    "                    (visitors['date'] <= x['date'], visitors['group'] == x['group'])]\\\n",
    "                    .agg({'date' : 'max', 'group' : 'max', 'visitors' : 'sum'}), axis=1)\\\n",
    "                    .sort_values(by=['date','group']) \n",
    "visitorsAggregated.head()"
   ]
  },
  {
   "cell_type": "code",
   "execution_count": 18,
   "metadata": {},
   "outputs": [
    {
     "data": {
      "text/html": [
       "<div>\n",
       "<style scoped>\n",
       "    .dataframe tbody tr th:only-of-type {\n",
       "        vertical-align: middle;\n",
       "    }\n",
       "\n",
       "    .dataframe tbody tr th {\n",
       "        vertical-align: top;\n",
       "    }\n",
       "\n",
       "    .dataframe thead th {\n",
       "        text-align: right;\n",
       "    }\n",
       "</style>\n",
       "<table border=\"1\" class=\"dataframe\">\n",
       "  <thead>\n",
       "    <tr style=\"text-align: right;\">\n",
       "      <th></th>\n",
       "      <th>date</th>\n",
       "      <th>group</th>\n",
       "      <th>orders</th>\n",
       "      <th>buyers</th>\n",
       "      <th>revenue</th>\n",
       "      <th>visitors</th>\n",
       "    </tr>\n",
       "  </thead>\n",
       "  <tbody>\n",
       "    <tr>\n",
       "      <th>0</th>\n",
       "      <td>2019-08-01</td>\n",
       "      <td>A</td>\n",
       "      <td>23</td>\n",
       "      <td>19</td>\n",
       "      <td>142779</td>\n",
       "      <td>719</td>\n",
       "    </tr>\n",
       "    <tr>\n",
       "      <th>1</th>\n",
       "      <td>2019-08-01</td>\n",
       "      <td>B</td>\n",
       "      <td>17</td>\n",
       "      <td>17</td>\n",
       "      <td>59758</td>\n",
       "      <td>713</td>\n",
       "    </tr>\n",
       "    <tr>\n",
       "      <th>2</th>\n",
       "      <td>2019-08-02</td>\n",
       "      <td>A</td>\n",
       "      <td>42</td>\n",
       "      <td>36</td>\n",
       "      <td>234381</td>\n",
       "      <td>1338</td>\n",
       "    </tr>\n",
       "    <tr>\n",
       "      <th>3</th>\n",
       "      <td>2019-08-02</td>\n",
       "      <td>B</td>\n",
       "      <td>40</td>\n",
       "      <td>39</td>\n",
       "      <td>221801</td>\n",
       "      <td>1294</td>\n",
       "    </tr>\n",
       "    <tr>\n",
       "      <th>4</th>\n",
       "      <td>2019-08-03</td>\n",
       "      <td>A</td>\n",
       "      <td>66</td>\n",
       "      <td>60</td>\n",
       "      <td>346854</td>\n",
       "      <td>1845</td>\n",
       "    </tr>\n",
       "  </tbody>\n",
       "</table>\n",
       "</div>"
      ],
      "text/plain": [
       "        date group  orders  buyers  revenue  visitors\n",
       "0 2019-08-01     A      23      19   142779       719\n",
       "1 2019-08-01     B      17      17    59758       713\n",
       "2 2019-08-02     A      42      36   234381      1338\n",
       "3 2019-08-02     B      40      39   221801      1294\n",
       "4 2019-08-03     A      66      60   346854      1845"
      ]
     },
     "execution_count": 18,
     "metadata": {},
     "output_type": "execute_result"
    }
   ],
   "source": [
    "# объединяем кумулятивные данные в одной таблице и присваиваем ее столбцам понятные названия\n",
    "cumulativeData = ordersAggregated.merge(visitorsAggregated, left_on=['date', 'group'], right_on=['date', 'group'])\n",
    "cumulativeData.columns = ['date', 'group', 'orders', 'buyers', 'revenue', 'visitors']\n",
    "cumulativeData.head()"
   ]
  },
  {
   "cell_type": "code",
   "execution_count": 19,
   "metadata": {
    "scrolled": true
   },
   "outputs": [
    {
     "data": {
      "image/png": "[encoded data removed]",
      "text/plain": [
       "<Figure size 720x504 with 1 Axes>"
      ]
     },
     "metadata": {
      "needs_background": "light"
     },
     "output_type": "display_data"
    }
   ],
   "source": [
    "# датафрейм с кумулятивным количеством заказов и кумулятивной выручкой по дням в группе А\n",
    "cumulativeRevenueA = cumulativeData[cumulativeData['group']=='A'][['date','revenue', 'orders']]\n",
    "# датафрейм с кумулятивным количеством заказов и кумулятивной выручкой по дням в группе B\n",
    "cumulativeRevenueB = cumulativeData[cumulativeData['group']=='B'][['date','revenue', 'orders']]\n",
    "# Строим график выручки группы Аb\n",
    "plt.plot(cumulativeRevenueA['date'], cumulativeRevenueA['revenue'], label='A')\n",
    "# Строим график выручки группы B\n",
    "plt.plot(cumulativeRevenueB['date'], cumulativeRevenueB['revenue'], label='B')\n",
    "plt.xticks(rotation=70)\n",
    "plt.grid()           \n",
    "plt.legend();"
   ]
  },
  {
   "cell_type": "markdown",
   "metadata": {},
   "source": [
    "#### Вывод"
   ]
  },
  {
   "cell_type": "markdown",
   "metadata": {},
   "source": [
    "Из графика видно, что кумулятивная выручка группы B выше и изменения в группе В пошли на пользу, будем продолжать исследование. В группе B виден значительный скачок в районе 17.08-21.08.19, похожий на аномалию."
   ]
  },
  {
   "cell_type": "markdown",
   "metadata": {},
   "source": [
    " <br/>\n",
    "\n",
    "<div class=\"alert alert-success\">\n",
    "<h2> Комментарий ревьюера <a class=\"tocSkip\"> </h2>\n",
    "\n",
    "<b>Все отлично!👍:</b>\n",
    "    \n",
    "Здесь всё корректно!\n",
    "    \n",
    "</div>"
   ]
  },
  {
   "cell_type": "markdown",
   "metadata": {},
   "source": [
    "### График кумулятивного среднего чека по группам"
   ]
  },
  {
   "cell_type": "markdown",
   "metadata": {},
   "source": [
    "Построим графики среднего чека по группам — разделим кумулятивную выручку на кумулятивное число заказов"
   ]
  },
  {
   "cell_type": "code",
   "execution_count": 20,
   "metadata": {},
   "outputs": [
    {
     "data": {
      "image/png": "[encoded data removed]",
      "text/plain": [
       "<Figure size 720x504 with 1 Axes>"
      ]
     },
     "metadata": {
      "needs_background": "light"
     },
     "output_type": "display_data"
    }
   ],
   "source": [
    "fig = plt.figure(figsize=[10,7])\n",
    "\n",
    "#разделим кумулятивную выручку на кумулятивное число заказов\n",
    "plt.plot(cumulativeRevenueA['date'], cumulativeRevenueA['revenue']/cumulativeRevenueA['orders'], label='A')\n",
    "plt.plot(cumulativeRevenueB['date'], cumulativeRevenueB['revenue']/cumulativeRevenueB['orders'], label='B')\n",
    "fig.autofmt_xdate()\n",
    "plt.title('График среднего чека по группам А и В')\n",
    "plt.xlabel('Дата совершения заказа')\n",
    "plt.ylabel('Средний чек')\n",
    "plt.legend();"
   ]
  },
  {
   "cell_type": "markdown",
   "metadata": {},
   "source": [
    "#### Вывод"
   ]
  },
  {
   "cell_type": "markdown",
   "metadata": {},
   "source": [
    "Что касается графика среднего чека, то здесь так же виден скачок в районе 17.08-21.08.19, возможно благодаря ему средний чек группы В выше."
   ]
  },
  {
   "cell_type": "markdown",
   "metadata": {},
   "source": [
    "### График относительного изменения кумулятивного среднего чека группы B к группе A"
   ]
  },
  {
   "cell_type": "code",
   "execution_count": 21,
   "metadata": {},
   "outputs": [
    {
     "data": {
      "image/png": "[encoded data removed]",
      "text/plain": [
       "<Figure size 720x504 with 1 Axes>"
      ]
     },
     "metadata": {
      "needs_background": "light"
     },
     "output_type": "display_data"
    }
   ],
   "source": [
    "# собираем данные в одном датафрейме\n",
    "mergedCumulativeRevenue = cumulativeRevenueA.merge(cumulativeRevenueB, \\\n",
    "                          left_on='date', right_on='date', how='left', suffixes=['A', 'B'])\n",
    "#cтроим отношение средних чеков\n",
    "plt.plot(mergedCumulativeRevenue['date'], \\\n",
    "         (mergedCumulativeRevenue['revenueB']/mergedCumulativeRevenue['ordersB'])/\\\n",
    "         (mergedCumulativeRevenue['revenueA']/mergedCumulativeRevenue['ordersA'])-1)\n",
    "#добавляем ось X\n",
    "plt.axhline(y=0, color='green', linestyle='--')\n",
    "plt.xticks(rotation=70)\n",
    "plt.grid();"
   ]
  },
  {
   "cell_type": "markdown",
   "metadata": {},
   "source": [
    "#### Вывод"
   ]
  },
  {
   "cell_type": "markdown",
   "metadata": {},
   "source": [
    "В самом начале средний чек группы А значительно превышал средний чек группы В. Но со временем средний чек группы В почти догнал средний чек группы А. Затем на графике видны колебания, в том числе вызванные аномальным скачком."
   ]
  },
  {
   "cell_type": "markdown",
   "metadata": {},
   "source": [
    "### График кумулятивной конверсии по группам"
   ]
  },
  {
   "cell_type": "code",
   "execution_count": 22,
   "metadata": {},
   "outputs": [
    {
     "data": {
      "image/png": "[encoded data removed]",
      "text/plain": [
       "<Figure size 720x504 with 1 Axes>"
      ]
     },
     "metadata": {
      "needs_background": "light"
     },
     "output_type": "display_data"
    }
   ],
   "source": [
    "# считаем кумулятивную конверсию\n",
    "cumulativeData['conversion'] = cumulativeData['orders']/cumulativeData['visitors']\n",
    "# отделяем данные по группе A\n",
    "cumulativeDataA = cumulativeData[cumulativeData['group']=='A']\n",
    "# отделяем данные по группе B\n",
    "cumulativeDataB = cumulativeData[cumulativeData['group']=='B']\n",
    "# строим графики\n",
    "plt.plot(cumulativeDataA['date'], cumulativeDataA['conversion'], label='A')\n",
    "plt.plot(cumulativeDataB['date'], cumulativeDataB['conversion'], label='B')\n",
    "plt.axhline(y=0.029, color='green', linestyle='--')\n",
    "plt.axhline(y=0.025, color='red', linestyle='--')\n",
    "plt.legend()\n",
    "plt.xticks(rotation=70)\n",
    "plt.grid();"
   ]
  },
  {
   "cell_type": "markdown",
   "metadata": {},
   "source": [
    "#### Вывод"
   ]
  },
  {
   "cell_type": "markdown",
   "metadata": {},
   "source": [
    "Кумулятивные конверсии групп разошлись между собой, конверсия группы А установилась на уровне 0.025, конверсия группы В тоже устанавливается и находится на уровне 0.029. "
   ]
  },
  {
   "cell_type": "markdown",
   "metadata": {},
   "source": [
    "### График относительного изменения кумулятивной конверсии группы B к группе A"
   ]
  },
  {
   "cell_type": "code",
   "execution_count": 23,
   "metadata": {},
   "outputs": [
    {
     "data": {
      "image/png": "[encoded data removed]",
      "text/plain": [
       "<Figure size 720x504 with 1 Axes>"
      ]
     },
     "metadata": {
      "needs_background": "light"
     },
     "output_type": "display_data"
    }
   ],
   "source": [
    "mergedCumulativeConversions = cumulativeDataA[['date','conversion']].\\\n",
    "                              merge(cumulativeDataB[['date','conversion']], left_on='date', \\\n",
    "                                    right_on='date', how='left', suffixes=['A', 'B'])\n",
    "plt.plot(mergedCumulativeConversions['date'], mergedCumulativeConversions['conversionB']/\\\n",
    "         mergedCumulativeConversions['conversionA']-1, \\\n",
    "         label=\"Относительный прирост конверсии группы B относительно группы A\")\n",
    "plt.legend()\n",
    "plt.axhline(y=0, color='green', linestyle='--')\n",
    "plt.axhline(y=0.17, color='red', linestyle='--')\n",
    "plt.xticks(rotation=70)\n",
    "plt.grid();"
   ]
  },
  {
   "cell_type": "markdown",
   "metadata": {},
   "source": [
    "#### Вывод"
   ]
  },
  {
   "cell_type": "markdown",
   "metadata": {},
   "source": [
    "Конверсия группы B относительно конверсии группы А колеблется вокруг значения 0.17, значительные колебания отсутствуют, что говорит, что конверсия группы В выше конверсии группы А, подтверждая предыдущий график"
   ]
  },
  {
   "cell_type": "markdown",
   "metadata": {},
   "source": [
    "### Точечный график количества заказов по пользователям"
   ]
  },
  {
   "cell_type": "markdown",
   "metadata": {},
   "source": [
    "Подсчитаем количество заказов по пользователям и посмотрим на результат:"
   ]
  },
  {
   "cell_type": "code",
   "execution_count": 24,
   "metadata": {},
   "outputs": [
    {
     "data": {
      "text/html": [
       "<div>\n",
       "<style scoped>\n",
       "    .dataframe tbody tr th:only-of-type {\n",
       "        vertical-align: middle;\n",
       "    }\n",
       "\n",
       "    .dataframe tbody tr th {\n",
       "        vertical-align: top;\n",
       "    }\n",
       "\n",
       "    .dataframe thead th {\n",
       "        text-align: right;\n",
       "    }\n",
       "</style>\n",
       "<table border=\"1\" class=\"dataframe\">\n",
       "  <thead>\n",
       "    <tr style=\"text-align: right;\">\n",
       "      <th></th>\n",
       "      <th>userId</th>\n",
       "      <th>orders</th>\n",
       "    </tr>\n",
       "  </thead>\n",
       "  <tbody>\n",
       "    <tr>\n",
       "      <th>908</th>\n",
       "      <td>3967698036</td>\n",
       "      <td>3</td>\n",
       "    </tr>\n",
       "    <tr>\n",
       "      <th>55</th>\n",
       "      <td>249864742</td>\n",
       "      <td>3</td>\n",
       "    </tr>\n",
       "    <tr>\n",
       "      <th>478</th>\n",
       "      <td>2108163459</td>\n",
       "      <td>3</td>\n",
       "    </tr>\n",
       "    <tr>\n",
       "      <th>687</th>\n",
       "      <td>2988190573</td>\n",
       "      <td>3</td>\n",
       "    </tr>\n",
       "    <tr>\n",
       "      <th>890</th>\n",
       "      <td>3908431265</td>\n",
       "      <td>3</td>\n",
       "    </tr>\n",
       "    <tr>\n",
       "      <th>138</th>\n",
       "      <td>611059232</td>\n",
       "      <td>3</td>\n",
       "    </tr>\n",
       "    <tr>\n",
       "      <th>632</th>\n",
       "      <td>2742574263</td>\n",
       "      <td>3</td>\n",
       "    </tr>\n",
       "    <tr>\n",
       "      <th>157</th>\n",
       "      <td>678354126</td>\n",
       "      <td>2</td>\n",
       "    </tr>\n",
       "    <tr>\n",
       "      <th>323</th>\n",
       "      <td>1404560065</td>\n",
       "      <td>2</td>\n",
       "    </tr>\n",
       "    <tr>\n",
       "      <th>452</th>\n",
       "      <td>1985475298</td>\n",
       "      <td>2</td>\n",
       "    </tr>\n",
       "  </tbody>\n",
       "</table>\n",
       "</div>"
      ],
      "text/plain": [
       "         userId  orders\n",
       "908  3967698036       3\n",
       "55    249864742       3\n",
       "478  2108163459       3\n",
       "687  2988190573       3\n",
       "890  3908431265       3\n",
       "138   611059232       3\n",
       "632  2742574263       3\n",
       "157   678354126       2\n",
       "323  1404560065       2\n",
       "452  1985475298       2"
      ]
     },
     "execution_count": 24,
     "metadata": {},
     "output_type": "execute_result"
    }
   ],
   "source": [
    "ordersByUsers = orders.groupby('visitorId', as_index = False).agg({'transactionId':'count'})\n",
    "ordersByUsers.columns = ['userId', 'orders']\n",
    "ordersByUsers.sort_values(by = 'orders', ascending = False).head(10)"
   ]
  },
  {
   "cell_type": "code",
   "execution_count": 25,
   "metadata": {},
   "outputs": [
    {
     "data": {
      "image/png": "[encoded data removed]",
      "text/plain": [
       "<Figure size 720x504 with 1 Axes>"
      ]
     },
     "metadata": {
      "needs_background": "light"
     },
     "output_type": "display_data"
    }
   ],
   "source": [
    "plt.hist(ordersByUsers['orders'])\n",
    "plt.grid();"
   ]
  },
  {
   "cell_type": "code",
   "execution_count": 26,
   "metadata": {},
   "outputs": [
    {
     "data": {
      "image/png": "[encoded data removed]",
      "text/plain": [
       "<Figure size 720x504 with 1 Axes>"
      ]
     },
     "metadata": {
      "needs_background": "light"
     },
     "output_type": "display_data"
    }
   ],
   "source": [
    "x_values = pd.Series(range(0,len(ordersByUsers['orders'])))\n",
    "plt.scatter(x_values, ordersByUsers['orders'])\n",
    "plt.grid();"
   ]
  },
  {
   "cell_type": "markdown",
   "metadata": {},
   "source": [
    "#### Вывод"
   ]
  },
  {
   "cell_type": "markdown",
   "metadata": {},
   "source": [
    "Есть пользователи, которые совершали 5, 8, 9, 11 заказов. Значительно больше, чем обычный пользователь за неделю. Большинство покупателей заказывали только один раз. Однако доля пользователей с 2-3 заказами тоже значительна. Необходимо посчитать выборочные перцентили количества заказов на одного пользователя, что бы определить, какое количество заказов считать аномалиями."
   ]
  },
  {
   "cell_type": "markdown",
   "metadata": {},
   "source": [
    "### Подсчёт 95-го и 99-го перцентиля количества заказов на пользователя. Выбор границы для определения аномальных пользователей"
   ]
  },
  {
   "cell_type": "code",
   "execution_count": 27,
   "metadata": {},
   "outputs": [
    {
     "name": "stdout",
     "output_type": "stream",
     "text": [
      "[1. 2.]\n"
     ]
    }
   ],
   "source": [
    "print(np.percentile(ordersByUsers['orders'], [95, 99]))"
   ]
  },
  {
   "cell_type": "markdown",
   "metadata": {},
   "source": [
    "#### Вывод"
   ]
  },
  {
   "cell_type": "markdown",
   "metadata": {},
   "source": [
    "Всего лишь 5% пользователей делали больше 1 заказа, их можно считать аномалиями."
   ]
  },
  {
   "cell_type": "markdown",
   "metadata": {},
   "source": [
    "### Точечный график стоимостей заказов"
   ]
  },
  {
   "cell_type": "code",
   "execution_count": 28,
   "metadata": {},
   "outputs": [
    {
     "data": {
      "image/png": "[encoded data removed]",
      "text/plain": [
       "<Figure size 720x504 with 1 Axes>"
      ]
     },
     "metadata": {
      "needs_background": "light"
     },
     "output_type": "display_data"
    }
   ],
   "source": [
    "plt.hist(orders['revenue'])\n",
    "plt.grid();"
   ]
  },
  {
   "cell_type": "code",
   "execution_count": 29,
   "metadata": {},
   "outputs": [
    {
     "data": {
      "image/png": "[encoded data removed]",
      "text/plain": [
       "<Figure size 720x504 with 1 Axes>"
      ]
     },
     "metadata": {
      "needs_background": "light"
     },
     "output_type": "display_data"
    }
   ],
   "source": [
    "x_values = pd.Series(range(0,len(orders['revenue'])))\n",
    "plt.scatter(x_values, orders['revenue'])\n",
    "plt.grid();"
   ]
  },
  {
   "cell_type": "markdown",
   "metadata": {},
   "source": [
    "#### Вывод"
   ]
  },
  {
   "cell_type": "markdown",
   "metadata": {},
   "source": [
    "Значительная аномалия бросается сразу в глаза. Но для того, чтобы точно определить какие значения стоимости заказа считать за аномалию, посчитаем 95-й и 99-й перцентили."
   ]
  },
  {
   "cell_type": "markdown",
   "metadata": {},
   "source": [
    "### Подсчёт 95-го и 99-го перцентиля стоимости заказов. Выбор границы для определения аномальных заказов"
   ]
  },
  {
   "cell_type": "code",
   "execution_count": 30,
   "metadata": {},
   "outputs": [
    {
     "name": "stdout",
     "output_type": "stream",
     "text": [
      "[26785. 53904.]\n"
     ]
    }
   ],
   "source": [
    "print(np.percentile(orders['revenue'], [95, 99]))"
   ]
  },
  {
   "cell_type": "markdown",
   "metadata": {},
   "source": [
    "#### Вывод"
   ]
  },
  {
   "cell_type": "markdown",
   "metadata": {},
   "source": [
    "Все заказы дороже 26785 можем считать аномалиями."
   ]
  },
  {
   "cell_type": "markdown",
   "metadata": {},
   "source": [
    "### Cтатистическая значимость различий в конверсии между группами по «сырым» данным"
   ]
  },
  {
   "cell_type": "markdown",
   "metadata": {},
   "source": [
    "Сформулируем гипотезу. Нулевая: различий в конверсиях между группами нет. Альтернативная: различия в конверсиях между группами есть. Проверять гипотезу будет с помощью z-теста, так как мы будем сравнивать следующие доли - отношение покупателей к пользователям одной группы А(конверсия группы А) и отношению покупателей к пользователям другой группы В(конверсия группы В)"
   ]
  },
  {
   "cell_type": "markdown",
   "metadata": {},
   "source": [
    "Сгруппируем количество посетителей и покупателей по группам без привязки к дням, затем вычислим статистику в ст.отклонениях стандартного нормального распределения"
   ]
  },
  {
   "cell_type": "code",
   "execution_count": 40,
   "metadata": {},
   "outputs": [
    {
     "data": {
      "text/plain": [
       "445"
      ]
     },
     "execution_count": 40,
     "metadata": {},
     "output_type": "execute_result"
    }
   ],
   "source": [
    "orders[orders['group']=='A'].groupby('group').agg({'visitorId':'nunique'}).loc['A','visitorId']"
   ]
  },
  {
   "cell_type": "code",
   "execution_count": 44,
   "metadata": {},
   "outputs": [
    {
     "data": {
      "text/plain": [
       "18736"
      ]
     },
     "execution_count": 44,
     "metadata": {},
     "output_type": "execute_result"
    }
   ],
   "source": [
    "visitors[visitors['group']=='A'].groupby('group').agg({'visitors':'sum'}).loc['A','visitors']"
   ]
  },
  {
   "cell_type": "code",
   "execution_count": 42,
   "metadata": {},
   "outputs": [
    {
     "data": {
      "text/plain": [
       "528"
      ]
     },
     "execution_count": 42,
     "metadata": {},
     "output_type": "execute_result"
    }
   ],
   "source": [
    "orders[orders['group']=='B'].groupby('group').agg({'visitorId':'nunique'}).loc['B','visitorId']"
   ]
  },
  {
   "cell_type": "code",
   "execution_count": 32,
   "metadata": {},
   "outputs": [
    {
     "name": "stdout",
     "output_type": "stream",
     "text": [
      "p-значение:  0.01093208956553604\n",
      "Отвергаем нулевую гипотезу: между долями есть значимая разница\n",
      "Относительная разница конверсий группы В к группе А 0.175\n"
     ]
    }
   ],
   "source": [
    "successes = [orders[orders['group']=='A'].groupby('group').agg({'visitorId':'nunique'}).loc['A','visitorId'],\\\n",
    "             orders[orders['group']=='B'].groupby('group').agg({'visitorId':'nunique'}).loc['B','visitorId']]\n",
    "trials = [visitors[visitors['group']=='A'].groupby('group').agg({'visitors':'sum'}).loc['A','visitors'],\\\n",
    "          visitors[visitors['group']=='B'].groupby('group').agg({'visitors':'sum'}).loc['B','visitors']]\n",
    "\n",
    "# пропорция успехов в первой группе:\n",
    "p1 = successes[0]/trials[0]\n",
    "\n",
    "# пропорция успехов во второй группе:\n",
    "p2 = successes[1]/trials[1]\n",
    "\n",
    "# пропорция успехов в комбинированном датасете:\n",
    "p_combined = (successes[0] + successes[1]) / (trials[0] + trials[1])\n",
    "\n",
    "# разница пропорций в датасетах\n",
    "difference = p1 - p2\n",
    "\n",
    "# считаем статистику в ст.отклонениях стандартного нормального распределения\n",
    "z_value = difference / mth.sqrt(p_combined * (1 - p_combined) * (1 / trials[0] + 1 / trials[1]))\n",
    "\n",
    "# задаем стандартное нормальное распределение (среднее 0, ст.отклонение 1)\n",
    "distr = st.norm(0, 1)\n",
    "\n",
    "p_value = (1 - distr.cdf(abs(z_value))) * 2\n",
    "\n",
    "print('p-значение: ', p_value)\n",
    "\n",
    "alpha = .05 # критический уровень статистической значимости\n",
    "\n",
    "if p_value < alpha:\n",
    "    print('Отвергаем нулевую гипотезу: между долями есть значимая разница')\n",
    "else:\n",
    "    print('Не получилось отвергнуть нулевую гипотезу, нет оснований считать доли разными')\n",
    "    \n",
    "#Относительное различие конверсий    \n",
    "print('Относительная разница конверсий группы В к группе А','{0:.3f}'.format(p2/p1-1))    "
   ]
  },
  {
   "cell_type": "markdown",
   "metadata": {},
   "source": [
    "#### Вывод"
   ]
  },
  {
   "cell_type": "markdown",
   "metadata": {},
   "source": [
    "P-value меньше 0.05. Значит мы отвергаем нулевую гипотезу в пользуальтернативной, что означает, что в различиии конверсий между группами А и В имеется статистическая значимость. Относительный проигрыш средней конверсии группы А равен 17.5%. "
   ]
  },
  {
   "cell_type": "markdown",
   "metadata": {},
   "source": [
    "### Cтатистическую значимость различий в среднем чеке заказа между группами по «сырым» данным"
   ]
  },
  {
   "cell_type": "markdown",
   "metadata": {},
   "source": [
    "Сформулируем гипотезу. Нулевая: различий в среднем чеке заказа между группами нет. Альтернативная: различия в среднем чеке заказа между группами есть. Проверять гипотезу будем спомощью критерия Манна-Уитни, так как данные распределены не нормально."
   ]
  },
  {
   "cell_type": "code",
   "execution_count": 33,
   "metadata": {},
   "outputs": [
    {
     "name": "stdout",
     "output_type": "stream",
     "text": [
      "P-value равно  0.829\n",
      "Относительная разница среднего чека группы В к группе А 0.287\n"
     ]
    }
   ],
   "source": [
    "print('P-value равно ', '{0:.3f}'.format(st.mannwhitneyu(orders[orders['group']=='A']['revenue'], \\\n",
    "                                          orders[orders['group']=='B']['revenue'])[1]))\n",
    "print('Относительная разница среднего чека группы В к группе А', '{0:.3f}'.format(orders[orders['group']=='B']['revenue']\\\n",
    "                                         .mean()/orders[orders['group']=='A']['revenue'].mean()-1)) "
   ]
  },
  {
   "cell_type": "markdown",
   "metadata": {},
   "source": [
    "#### Вывод"
   ]
  },
  {
   "cell_type": "markdown",
   "metadata": {},
   "source": [
    "P-value значительно больше 0.05. Значит, причин отвергать нулевую гипотезу и считать, что в среднем чеке есть различия, нет. Статистической значимости в различий в среднем чеке нет. Так же относительный проигрыш группы А равен 28.7%."
   ]
  },
  {
   "cell_type": "markdown",
   "metadata": {},
   "source": [
    "### Cтатистическая значимость различий в конверсии между группами по «очищенным» данным"
   ]
  },
  {
   "cell_type": "markdown",
   "metadata": {},
   "source": [
    "Как мы уже выяснили ранее, все пользователи, которые делали больше 1го заказа, а так же заказы больше 26785 являются аномалиями, очистим наши датафреймы и выполним теже действия что и при подсчёте статистической значимости различий в конверсии между группами по «сырым» данным."
   ]
  },
  {
   "cell_type": "code",
   "execution_count": 34,
   "metadata": {},
   "outputs": [
    {
     "name": "stdout",
     "output_type": "stream",
     "text": [
      "Количество аномальных пользователей - 128\n",
      "Доля аномальных пользователей -  12.6\n"
     ]
    }
   ],
   "source": [
    "#Применив филтр найдём все visitorId которые удовлетворяют условиям\n",
    "#сначала выбераем все заказы меньше 26785\n",
    "#группируем по visitorId\n",
    "#считаем кол-во аказов на пользователя\n",
    "good_visit = orders.query('revenue <= 26785')\\\n",
    "                   .groupby(['visitorId'], as_index=False)\\\n",
    "                   .agg({'transactionId':'count',})\\\n",
    "                   .query('(transactionId == 1)') # выбираем только тех у кого 1 заказ\n",
    "#выбираем в исходном датафрейме только тех пользователей которые вошли в наш список.\n",
    "orders_clean = orders[orders['visitorId'].isin(good_visit['visitorId'])]\n",
    "#Абсолютные потери\n",
    "print('Количество аномальных пользователей -', len(orders) - len(good_visit))\n",
    "#Относительные потери\n",
    "print('Доля аномальных пользователей - ',  '{0:.1f}'.format((len(orders) - len(good_visit))*100/len(orders)))"
   ]
  },
  {
   "cell_type": "markdown",
   "metadata": {},
   "source": [
    "Сформулируем гипотезу. Нулевая: различий в конверсиях между группами нет. Альтернативная: различия в конверсиях между группами есть."
   ]
  },
  {
   "cell_type": "code",
   "execution_count": 35,
   "metadata": {},
   "outputs": [
    {
     "name": "stdout",
     "output_type": "stream",
     "text": [
      "p-значение:  0.017838829464266404\n",
      "Отвергаем нулевую гипотезу: между долями есть значимая разница\n",
      "Относительная разница конверсий группы В к группе А 0.171\n"
     ]
    }
   ],
   "source": [
    "successes = [orders_clean[orders_clean['group']=='A'].groupby('group').agg({'visitorId':'nunique'}).loc['A','visitorId'],\\\n",
    "             orders_clean[orders_clean['group']=='B'].groupby('group').agg({'visitorId':'nunique'}).loc['B','visitorId']]\n",
    "trials = [visitors[visitors['group']=='A'].groupby('group').agg({'visitors':'sum'}).loc['A','visitors'],\\\n",
    "          visitors[visitors['group']=='B'].groupby('group').agg({'visitors':'sum'}).loc['B','visitors']]\n",
    "\n",
    "# пропорция успехов в первой группе:\n",
    "p1 = successes[0]/trials[0]\n",
    "\n",
    "# пропорция успехов во второй группе:\n",
    "p2 = successes[1]/trials[1]\n",
    "\n",
    "# пропорция успехов в комбинированном датасете:\n",
    "p_combined = (successes[0] + successes[1]) / (trials[0] + trials[1])\n",
    "\n",
    "# разница пропорций в датасетах\n",
    "difference = p1 - p2\n",
    "\n",
    "# считаем статистику в ст.отклонениях стандартного нормального распределения\n",
    "z_value = difference / mth.sqrt(p_combined * (1 - p_combined) * (1 / trials[0] + 1 / trials[1]))\n",
    "\n",
    "# задаем стандартное нормальное распределение (среднее 0, ст.отклонение 1)\n",
    "distr = st.norm(0, 1)\n",
    "\n",
    "p_value = (1 - distr.cdf(abs(z_value))) * 2\n",
    "\n",
    "print('p-значение: ', p_value)\n",
    "\n",
    "alpha = .05 # критический уровень статистической значимости\n",
    "\n",
    "if p_value < alpha:\n",
    "    print('Отвергаем нулевую гипотезу: между долями есть значимая разница')\n",
    "else:\n",
    "    print('Не получилось отвергнуть нулевую гипотезу, нет оснований считать доли разными')\n",
    "\n",
    "#Относительное различие конверсий    \n",
    "print('Относительная разница конверсий группы В к группе А','{0:.3f}'.format(p2/p1-1))  "
   ]
  },
  {
   "cell_type": "markdown",
   "metadata": {},
   "source": [
    "#### Вывод"
   ]
  },
  {
   "cell_type": "markdown",
   "metadata": {},
   "source": [
    "В очищенных данных P-value меньше 0.05 как и при сырых данных. Значит, мы отвергаем нулевую гипотезу в пользу альтернативной. В различий конверсии между группами есть статистической значимость, так же как и по сырым данным. Относительный проигрыш средней конверсии группы А по очищенным данным равен 17.1%. "
   ]
  },
  {
   "cell_type": "markdown",
   "metadata": {},
   "source": [
    "### Cтатистическую значимость различий в среднем чеке заказа между группами по «очищенным» данным"
   ]
  },
  {
   "cell_type": "markdown",
   "metadata": {},
   "source": [
    "Сформулируем гипотезу. Нулевая: различий в среднем чеке заказа между группами нет. Альтернативная: различия в среднем чеке заказа между группами есть."
   ]
  },
  {
   "cell_type": "code",
   "execution_count": 36,
   "metadata": {},
   "outputs": [
    {
     "name": "stdout",
     "output_type": "stream",
     "text": [
      "P-value равно  0.638\n",
      "Относительная разница среднего чека группы В к группе А -0.062\n"
     ]
    }
   ],
   "source": [
    "print('P-value равно ', '{0:.3f}'.format(st.mannwhitneyu(orders_clean[orders_clean['group']=='A']['revenue'], \\\n",
    "                                          orders_clean[orders_clean['group']=='B']['revenue'])[1]))\n",
    "print('Относительная разница среднего чека группы В к группе А', '{0:.3f}'.format(orders_clean[orders_clean['group']=='B']['revenue'].mean()/\\\n",
    "                       orders_clean[orders_clean['group']=='A']['revenue'].mean()-1)) "
   ]
  },
  {
   "cell_type": "markdown",
   "metadata": {},
   "source": [
    "#### Вывод"
   ]
  },
  {
   "cell_type": "markdown",
   "metadata": {},
   "source": [
    "По очищенным данным, так же как и по сырым P-value значительно больше 0.05. Значит, причин отвергать нулевую гипотезу и считать, что в среднем чеке есть различия, нет. Статистической значимости в различий в среднем чеке нет. В то время как относительный проигрыш группы B равен 6.2%."
   ]
  },
  {
   "cell_type": "markdown",
   "metadata": {},
   "source": [
    "### Общий вывод"
   ]
  },
  {
   "cell_type": "markdown",
   "metadata": {},
   "source": [
    "Итого имеем неоднозначные выводы:    \n",
    "- мы обнаружили 58 пользователей, которые были в обоих группах, они были удалены из выборки\n",
    "- по графику кумулятивной выручки группа B лучше группы А,    \n",
    "- по графику кумулятивного среднего чека, так же как и по графику относительного изменения кумулятивного среднего чека группа А лучше группы В,    \n",
    "- по графику кумулятивной конверсии группа B лучше группы А,    \n",
    "- при сырых данных различия в конверсии между группами имеет статистическую значимость, так же как и при очищенных данных,\n",
    "- при сырых данных, так же как и при очищенных статистическая значимость различий в среднем чеке заказа между группами отсутствует, группы А и В не отличаются, не смотря на значительное отличие в относительных величинах,    \n",
    "- значения стоимости заказа выше 26785 являются аномалиями, так же как и количество заказов больше 1го, подэтиусловия попадают 128 пользователей, что является около 12,6 % от всей выборки пользователей сделавших покупки.    \n",
    "Напрашивается вывод, что конверсия группы В выше, чем конверсия группы А,  в то время как средний чек между группами не отличается. Очистка данных от аномалий не поменяла картину. Судя по установивишимся значениям, не стоит продолжать тест, так как это не поменяет результатов в целом."
   ]
  }
 ],
 "metadata": {
  "ExecuteTimeLog": [
   {
    "duration": 110,
    "start_time": "2022-07-20T13:14:31.664Z"
   },
   {
    "duration": 1128,
    "start_time": "2022-07-20T13:22:37.424Z"
   },
   {
    "duration": 142,
    "start_time": "2022-07-20T13:22:38.555Z"
   },
   {
    "duration": 18,
    "start_time": "2022-07-20T13:22:38.699Z"
   },
   {
    "duration": 42,
    "start_time": "2022-07-20T13:22:38.720Z"
   },
   {
    "duration": 250,
    "start_time": "2022-07-20T13:22:38.766Z"
   },
   {
    "duration": 47,
    "start_time": "2022-07-20T13:22:39.018Z"
   },
   {
    "duration": 38,
    "start_time": "2022-07-20T13:22:39.067Z"
   },
   {
    "duration": 27,
    "start_time": "2022-07-20T13:22:39.107Z"
   },
   {
    "duration": 26,
    "start_time": "2022-07-20T13:22:39.136Z"
   },
   {
    "duration": 213,
    "start_time": "2022-07-20T13:22:39.175Z"
   },
   {
    "duration": 163,
    "start_time": "2022-07-20T13:22:39.390Z"
   },
   {
    "duration": 33,
    "start_time": "2022-07-20T13:22:39.555Z"
   },
   {
    "duration": 325,
    "start_time": "2022-07-20T13:22:39.591Z"
   },
   {
    "duration": 273,
    "start_time": "2022-07-20T13:22:39.921Z"
   },
   {
    "duration": 358,
    "start_time": "2022-07-20T13:22:40.197Z"
   },
   {
    "duration": 380,
    "start_time": "2022-07-20T13:22:40.557Z"
   },
   {
    "duration": 364,
    "start_time": "2022-07-20T13:22:40.940Z"
   },
   {
    "duration": 14,
    "start_time": "2022-07-20T13:22:41.307Z"
   },
   {
    "duration": 176,
    "start_time": "2022-07-20T13:22:41.323Z"
   },
   {
    "duration": 147,
    "start_time": "2022-07-20T13:22:41.502Z"
   },
   {
    "duration": 5,
    "start_time": "2022-07-20T13:22:41.651Z"
   },
   {
    "duration": 185,
    "start_time": "2022-07-20T13:22:41.667Z"
   },
   {
    "duration": 175,
    "start_time": "2022-07-20T13:22:41.855Z"
   },
   {
    "duration": 4,
    "start_time": "2022-07-20T13:22:42.032Z"
   },
   {
    "duration": 46,
    "start_time": "2022-07-20T13:22:42.038Z"
   },
   {
    "duration": 108,
    "start_time": "2022-07-20T13:22:42.086Z"
   },
   {
    "duration": 13,
    "start_time": "2022-07-20T13:22:42.196Z"
   },
   {
    "duration": 14,
    "start_time": "2022-07-20T13:22:42.211Z"
   },
   {
    "duration": 51,
    "start_time": "2022-07-20T13:22:42.227Z"
   },
   {
    "duration": 10,
    "start_time": "2022-07-20T13:22:42.284Z"
   },
   {
    "duration": 21,
    "start_time": "2022-07-20T13:22:42.296Z"
   },
   {
    "duration": 23,
    "start_time": "2022-07-20T13:23:12.366Z"
   },
   {
    "duration": 54,
    "start_time": "2022-07-20T15:04:38.301Z"
   },
   {
    "duration": 1377,
    "start_time": "2022-07-20T15:04:41.854Z"
   },
   {
    "duration": 142,
    "start_time": "2022-07-20T15:04:44.754Z"
   },
   {
    "duration": 16,
    "start_time": "2022-07-20T15:04:47.817Z"
   },
   {
    "duration": 31,
    "start_time": "2022-07-20T15:04:50.587Z"
   },
   {
    "duration": 200,
    "start_time": "2022-07-20T15:04:59.815Z"
   },
   {
    "duration": 41,
    "start_time": "2022-07-20T15:05:00.018Z"
   },
   {
    "duration": 10,
    "start_time": "2022-07-20T15:05:03.980Z"
   },
   {
    "duration": 15,
    "start_time": "2022-07-20T15:05:07.476Z"
   },
   {
    "duration": 65,
    "start_time": "2022-07-20T15:06:46.251Z"
   },
   {
    "duration": 5,
    "start_time": "2022-07-20T15:06:54.052Z"
   },
   {
    "duration": 5,
    "start_time": "2022-07-20T15:09:27.078Z"
   },
   {
    "duration": 6,
    "start_time": "2022-07-20T15:09:47.453Z"
   },
   {
    "duration": 7,
    "start_time": "2022-07-20T15:10:23.472Z"
   },
   {
    "duration": 3,
    "start_time": "2022-07-20T15:12:29.781Z"
   },
   {
    "duration": 6,
    "start_time": "2022-07-20T15:12:39.953Z"
   },
   {
    "duration": 5,
    "start_time": "2022-07-20T15:15:54.499Z"
   },
   {
    "duration": 5,
    "start_time": "2022-07-20T15:15:55.087Z"
   },
   {
    "duration": 351,
    "start_time": "2022-07-20T15:16:17.250Z"
   },
   {
    "duration": 154,
    "start_time": "2022-07-20T15:16:39.663Z"
   },
   {
    "duration": 33,
    "start_time": "2022-07-20T15:16:41.055Z"
   },
   {
    "duration": 8,
    "start_time": "2022-07-20T15:16:43.979Z"
   },
   {
    "duration": 14,
    "start_time": "2022-07-20T15:16:45.912Z"
   },
   {
    "duration": 7,
    "start_time": "2022-07-20T15:16:49.924Z"
   },
   {
    "duration": 4,
    "start_time": "2022-07-20T15:17:59.239Z"
   },
   {
    "duration": 7,
    "start_time": "2022-07-20T15:18:00.154Z"
   },
   {
    "duration": 5,
    "start_time": "2022-07-20T15:21:10.733Z"
   },
   {
    "duration": 10,
    "start_time": "2022-07-20T15:21:11.454Z"
   },
   {
    "duration": 4,
    "start_time": "2022-07-20T15:21:33.356Z"
   },
   {
    "duration": 12,
    "start_time": "2022-07-20T15:21:34.373Z"
   },
   {
    "duration": 60,
    "start_time": "2022-07-20T15:25:17.269Z"
   },
   {
    "duration": 10,
    "start_time": "2022-07-20T15:25:18.301Z"
   },
   {
    "duration": 4,
    "start_time": "2022-07-20T15:25:28.804Z"
   },
   {
    "duration": 10,
    "start_time": "2022-07-20T15:25:30.222Z"
   },
   {
    "duration": 5,
    "start_time": "2022-07-20T15:25:55.255Z"
   },
   {
    "duration": 13,
    "start_time": "2022-07-20T15:25:55.804Z"
   },
   {
    "duration": 4,
    "start_time": "2022-07-20T15:32:00.549Z"
   },
   {
    "duration": 11,
    "start_time": "2022-07-20T15:32:03.952Z"
   },
   {
    "duration": 60,
    "start_time": "2022-07-20T15:32:19.759Z"
   },
   {
    "duration": 1428,
    "start_time": "2022-07-20T15:32:23.762Z"
   },
   {
    "duration": 1073,
    "start_time": "2022-07-20T15:34:29.986Z"
   },
   {
    "duration": 16,
    "start_time": "2022-07-20T15:36:51.015Z"
   },
   {
    "duration": 590,
    "start_time": "2022-07-20T15:37:11.710Z"
   },
   {
    "duration": 15,
    "start_time": "2022-07-20T15:37:17.608Z"
   },
   {
    "duration": 11,
    "start_time": "2022-07-20T15:37:23.610Z"
   },
   {
    "duration": 8,
    "start_time": "2022-07-20T15:37:27.188Z"
   },
   {
    "duration": 9,
    "start_time": "2022-07-20T15:38:00.302Z"
   },
   {
    "duration": 12,
    "start_time": "2022-07-20T15:38:25.852Z"
   },
   {
    "duration": 10,
    "start_time": "2022-07-20T15:38:38.344Z"
   },
   {
    "duration": 19,
    "start_time": "2022-07-20T15:39:08.009Z"
   },
   {
    "duration": 8,
    "start_time": "2022-07-20T15:39:42.744Z"
   },
   {
    "duration": 8,
    "start_time": "2022-07-20T15:40:13.157Z"
   },
   {
    "duration": 9,
    "start_time": "2022-07-20T15:40:29.667Z"
   },
   {
    "duration": 10,
    "start_time": "2022-07-20T15:41:52.757Z"
   },
   {
    "duration": 7,
    "start_time": "2022-07-20T16:00:39.203Z"
   },
   {
    "duration": 9,
    "start_time": "2022-07-20T16:01:28.814Z"
   },
   {
    "duration": 10,
    "start_time": "2022-07-20T16:02:38.792Z"
   },
   {
    "duration": 13,
    "start_time": "2022-07-20T16:02:51.453Z"
   },
   {
    "duration": 10,
    "start_time": "2022-07-20T16:05:25.002Z"
   },
   {
    "duration": 14,
    "start_time": "2022-07-20T16:06:38.959Z"
   },
   {
    "duration": 10,
    "start_time": "2022-07-20T16:10:15.415Z"
   },
   {
    "duration": 5,
    "start_time": "2022-07-20T16:11:39.986Z"
   },
   {
    "duration": 11,
    "start_time": "2022-07-20T16:11:41.259Z"
   },
   {
    "duration": 12,
    "start_time": "2022-07-20T16:11:59.413Z"
   },
   {
    "duration": 6,
    "start_time": "2022-07-20T16:13:15.166Z"
   },
   {
    "duration": 8,
    "start_time": "2022-07-20T16:13:54.657Z"
   },
   {
    "duration": 15,
    "start_time": "2022-07-20T16:14:42.641Z"
   },
   {
    "duration": 7,
    "start_time": "2022-07-20T16:14:51.025Z"
   },
   {
    "duration": 9,
    "start_time": "2022-07-20T16:15:17.091Z"
   },
   {
    "duration": 7,
    "start_time": "2022-07-20T16:15:54.584Z"
   },
   {
    "duration": 5,
    "start_time": "2022-07-20T17:00:30.949Z"
   },
   {
    "duration": 8,
    "start_time": "2022-07-20T17:00:39.912Z"
   },
   {
    "duration": 89,
    "start_time": "2022-07-20T17:00:58.880Z"
   },
   {
    "duration": 32,
    "start_time": "2022-07-20T17:00:59.649Z"
   },
   {
    "duration": 16,
    "start_time": "2022-07-20T17:01:07.715Z"
   },
   {
    "duration": 13,
    "start_time": "2022-07-20T17:01:15.232Z"
   },
   {
    "duration": 4,
    "start_time": "2022-07-20T17:01:17.412Z"
   },
   {
    "duration": 12,
    "start_time": "2022-07-20T17:01:18.968Z"
   },
   {
    "duration": 10,
    "start_time": "2022-07-20T17:01:20.631Z"
   },
   {
    "duration": 7,
    "start_time": "2022-07-20T17:01:22.617Z"
   },
   {
    "duration": 4,
    "start_time": "2022-07-20T17:01:26.910Z"
   },
   {
    "duration": 11,
    "start_time": "2022-07-20T17:01:31.190Z"
   },
   {
    "duration": 171,
    "start_time": "2022-07-20T17:01:33.616Z"
   },
   {
    "duration": 128,
    "start_time": "2022-07-20T17:01:36.737Z"
   },
   {
    "duration": 15,
    "start_time": "2022-07-20T17:01:38.794Z"
   },
   {
    "duration": 291,
    "start_time": "2022-07-20T17:01:41.088Z"
   },
   {
    "duration": 13,
    "start_time": "2022-07-20T17:02:45.042Z"
   },
   {
    "duration": 11,
    "start_time": "2022-07-20T17:19:14.805Z"
   },
   {
    "duration": 15,
    "start_time": "2022-07-20T17:19:23.971Z"
   },
   {
    "duration": 8,
    "start_time": "2022-07-20T17:19:26.970Z"
   },
   {
    "duration": 17,
    "start_time": "2022-07-20T17:19:38.137Z"
   },
   {
    "duration": 18,
    "start_time": "2022-07-20T17:19:40.301Z"
   },
   {
    "duration": 12,
    "start_time": "2022-07-20T17:19:44.490Z"
   },
   {
    "duration": 13,
    "start_time": "2022-07-20T17:20:14.433Z"
   },
   {
    "duration": 13,
    "start_time": "2022-07-20T17:20:19.054Z"
   },
   {
    "duration": 13,
    "start_time": "2022-07-20T17:20:33.065Z"
   },
   {
    "duration": 14,
    "start_time": "2022-07-20T17:20:41.888Z"
   },
   {
    "duration": 8,
    "start_time": "2022-07-20T17:20:45.154Z"
   },
   {
    "duration": 11,
    "start_time": "2022-07-20T17:21:13.838Z"
   },
   {
    "duration": 9,
    "start_time": "2022-07-20T17:21:26.903Z"
   },
   {
    "duration": 9,
    "start_time": "2022-07-20T17:22:13.105Z"
   },
   {
    "duration": 8,
    "start_time": "2022-07-20T17:22:17.530Z"
   },
   {
    "duration": 10,
    "start_time": "2022-07-20T17:22:29.691Z"
   },
   {
    "duration": 11,
    "start_time": "2022-07-20T17:22:34.237Z"
   },
   {
    "duration": 15,
    "start_time": "2022-07-20T17:23:47.795Z"
   },
   {
    "duration": 20,
    "start_time": "2022-07-20T17:23:53.748Z"
   },
   {
    "duration": 17,
    "start_time": "2022-07-20T17:24:32.654Z"
   },
   {
    "duration": 5,
    "start_time": "2022-07-20T17:24:45.954Z"
   },
   {
    "duration": 5,
    "start_time": "2022-07-20T17:24:51.814Z"
   },
   {
    "duration": 6,
    "start_time": "2022-07-20T17:25:06.255Z"
   },
   {
    "duration": 16,
    "start_time": "2022-07-20T17:26:07.083Z"
   },
   {
    "duration": 20,
    "start_time": "2022-07-20T17:26:21.257Z"
   },
   {
    "duration": 20,
    "start_time": "2022-07-20T17:26:28.720Z"
   },
   {
    "duration": 16,
    "start_time": "2022-07-20T17:26:35.703Z"
   },
   {
    "duration": 24,
    "start_time": "2022-07-20T17:27:18.363Z"
   },
   {
    "duration": 4,
    "start_time": "2022-07-20T17:27:42.544Z"
   },
   {
    "duration": 40,
    "start_time": "2022-07-20T17:27:56.785Z"
   },
   {
    "duration": 31,
    "start_time": "2022-07-20T17:28:17.994Z"
   },
   {
    "duration": 13,
    "start_time": "2022-07-20T17:31:22.669Z"
   },
   {
    "duration": 11,
    "start_time": "2022-07-20T17:32:53.447Z"
   },
   {
    "duration": 14,
    "start_time": "2022-07-20T17:33:28.616Z"
   },
   {
    "duration": 13,
    "start_time": "2022-07-20T18:10:15.701Z"
   },
   {
    "duration": 12,
    "start_time": "2022-07-20T18:10:20.586Z"
   },
   {
    "duration": 28,
    "start_time": "2022-07-20T18:10:22.873Z"
   },
   {
    "duration": 10,
    "start_time": "2022-07-20T18:11:26.301Z"
   },
   {
    "duration": 11,
    "start_time": "2022-07-20T18:11:41.981Z"
   },
   {
    "duration": 10,
    "start_time": "2022-07-20T18:16:15.901Z"
   },
   {
    "duration": 1178,
    "start_time": "2022-07-20T18:16:43.701Z"
   },
   {
    "duration": 52,
    "start_time": "2022-07-20T18:16:44.881Z"
   },
   {
    "duration": 16,
    "start_time": "2022-07-20T18:16:44.935Z"
   },
   {
    "duration": 22,
    "start_time": "2022-07-20T18:16:44.954Z"
   },
   {
    "duration": 113,
    "start_time": "2022-07-20T18:16:44.977Z"
   },
   {
    "duration": 31,
    "start_time": "2022-07-20T18:16:45.092Z"
   },
   {
    "duration": 7,
    "start_time": "2022-07-20T18:16:45.125Z"
   },
   {
    "duration": 24,
    "start_time": "2022-07-20T18:16:45.133Z"
   },
   {
    "duration": 9,
    "start_time": "2022-07-20T18:16:45.159Z"
   },
   {
    "duration": 30,
    "start_time": "2022-07-20T18:16:45.170Z"
   },
   {
    "duration": 11,
    "start_time": "2022-07-20T18:16:45.202Z"
   },
   {
    "duration": 10,
    "start_time": "2022-07-20T18:16:45.223Z"
   },
   {
    "duration": 16,
    "start_time": "2022-07-20T18:16:45.235Z"
   },
   {
    "duration": 17,
    "start_time": "2022-07-20T18:16:45.253Z"
   },
   {
    "duration": 179,
    "start_time": "2022-07-20T18:16:45.271Z"
   },
   {
    "duration": 130,
    "start_time": "2022-07-20T18:16:45.452Z"
   },
   {
    "duration": 12,
    "start_time": "2022-07-20T18:16:45.584Z"
   },
   {
    "duration": 302,
    "start_time": "2022-07-20T18:16:45.597Z"
   },
   {
    "duration": 207,
    "start_time": "2022-07-20T18:16:45.900Z"
   },
   {
    "duration": 323,
    "start_time": "2022-07-20T18:16:46.109Z"
   },
   {
    "duration": 316,
    "start_time": "2022-07-20T18:16:46.433Z"
   },
   {
    "duration": 320,
    "start_time": "2022-07-20T18:16:46.751Z"
   },
   {
    "duration": 13,
    "start_time": "2022-07-20T18:16:47.073Z"
   },
   {
    "duration": 161,
    "start_time": "2022-07-20T18:16:47.088Z"
   },
   {
    "duration": 154,
    "start_time": "2022-07-20T18:16:47.250Z"
   },
   {
    "duration": 4,
    "start_time": "2022-07-20T18:16:47.406Z"
   },
   {
    "duration": 148,
    "start_time": "2022-07-20T18:16:47.422Z"
   },
   {
    "duration": 154,
    "start_time": "2022-07-20T18:16:47.573Z"
   },
   {
    "duration": 5,
    "start_time": "2022-07-20T18:16:47.730Z"
   },
   {
    "duration": 123,
    "start_time": "2022-07-20T18:16:47.737Z"
   },
   {
    "duration": 9,
    "start_time": "2022-07-20T18:16:47.862Z"
   },
   {
    "duration": 11,
    "start_time": "2022-07-20T18:16:47.872Z"
   },
   {
    "duration": 38,
    "start_time": "2022-07-20T18:16:47.885Z"
   },
   {
    "duration": 11,
    "start_time": "2022-07-20T18:16:47.925Z"
   },
   {
    "duration": 335,
    "start_time": "2022-07-20T18:18:06.525Z"
   },
   {
    "duration": 313,
    "start_time": "2022-07-20T18:18:14.985Z"
   },
   {
    "duration": 351,
    "start_time": "2022-07-20T18:18:30.915Z"
   },
   {
    "duration": 1185,
    "start_time": "2022-07-20T18:19:26.011Z"
   },
   {
    "duration": 61,
    "start_time": "2022-07-20T18:19:27.198Z"
   },
   {
    "duration": 15,
    "start_time": "2022-07-20T18:19:27.262Z"
   },
   {
    "duration": 23,
    "start_time": "2022-07-20T18:19:27.279Z"
   },
   {
    "duration": 75,
    "start_time": "2022-07-20T18:19:27.303Z"
   },
   {
    "duration": 31,
    "start_time": "2022-07-20T18:19:27.380Z"
   },
   {
    "duration": 7,
    "start_time": "2022-07-20T18:19:27.413Z"
   },
   {
    "duration": 21,
    "start_time": "2022-07-20T18:19:27.421Z"
   },
   {
    "duration": 7,
    "start_time": "2022-07-20T18:19:27.444Z"
   },
   {
    "duration": 13,
    "start_time": "2022-07-20T18:19:27.454Z"
   },
   {
    "duration": 15,
    "start_time": "2022-07-20T18:19:27.468Z"
   },
   {
    "duration": 10,
    "start_time": "2022-07-20T18:19:27.485Z"
   },
   {
    "duration": 26,
    "start_time": "2022-07-20T18:19:27.497Z"
   },
   {
    "duration": 32,
    "start_time": "2022-07-20T18:19:27.525Z"
   },
   {
    "duration": 181,
    "start_time": "2022-07-20T18:19:27.559Z"
   },
   {
    "duration": 131,
    "start_time": "2022-07-20T18:19:27.741Z"
   },
   {
    "duration": 13,
    "start_time": "2022-07-20T18:19:27.873Z"
   },
   {
    "duration": 312,
    "start_time": "2022-07-20T18:19:27.888Z"
   },
   {
    "duration": 201,
    "start_time": "2022-07-20T18:19:28.202Z"
   },
   {
    "duration": 332,
    "start_time": "2022-07-20T18:19:28.405Z"
   },
   {
    "duration": 318,
    "start_time": "2022-07-20T18:19:28.739Z"
   },
   {
    "duration": 307,
    "start_time": "2022-07-20T18:19:29.059Z"
   },
   {
    "duration": 12,
    "start_time": "2022-07-20T18:19:29.367Z"
   },
   {
    "duration": 162,
    "start_time": "2022-07-20T18:19:29.381Z"
   },
   {
    "duration": 157,
    "start_time": "2022-07-20T18:19:29.545Z"
   },
   {
    "duration": 5,
    "start_time": "2022-07-20T18:19:29.703Z"
   },
   {
    "duration": 155,
    "start_time": "2022-07-20T18:19:29.710Z"
   },
   {
    "duration": 151,
    "start_time": "2022-07-20T18:19:29.868Z"
   },
   {
    "duration": 5,
    "start_time": "2022-07-20T18:19:30.021Z"
   },
   {
    "duration": 124,
    "start_time": "2022-07-20T18:19:30.028Z"
   },
   {
    "duration": 10,
    "start_time": "2022-07-20T18:19:30.153Z"
   },
   {
    "duration": 21,
    "start_time": "2022-07-20T18:19:30.165Z"
   },
   {
    "duration": 40,
    "start_time": "2022-07-20T18:19:30.187Z"
   },
   {
    "duration": 10,
    "start_time": "2022-07-20T18:19:30.229Z"
   },
   {
    "duration": 11,
    "start_time": "2022-07-20T18:21:20.542Z"
   },
   {
    "duration": 19,
    "start_time": "2022-07-20T18:21:24.535Z"
   },
   {
    "duration": 10,
    "start_time": "2022-07-20T18:21:29.284Z"
   },
   {
    "duration": 1121,
    "start_time": "2022-07-20T18:22:49.953Z"
   },
   {
    "duration": 127,
    "start_time": "2022-07-20T18:22:51.076Z"
   },
   {
    "duration": 14,
    "start_time": "2022-07-20T18:22:51.205Z"
   },
   {
    "duration": 30,
    "start_time": "2022-07-20T18:22:51.222Z"
   },
   {
    "duration": 85,
    "start_time": "2022-07-20T18:22:51.254Z"
   },
   {
    "duration": 30,
    "start_time": "2022-07-20T18:22:51.341Z"
   },
   {
    "duration": 6,
    "start_time": "2022-07-20T18:22:51.372Z"
   },
   {
    "duration": 12,
    "start_time": "2022-07-20T18:22:51.380Z"
   },
   {
    "duration": 7,
    "start_time": "2022-07-20T18:22:51.394Z"
   },
   {
    "duration": 29,
    "start_time": "2022-07-20T18:22:51.403Z"
   },
   {
    "duration": 11,
    "start_time": "2022-07-20T18:22:51.434Z"
   },
   {
    "duration": 8,
    "start_time": "2022-07-20T18:22:51.446Z"
   },
   {
    "duration": 4,
    "start_time": "2022-07-20T18:22:51.455Z"
   },
   {
    "duration": 11,
    "start_time": "2022-07-20T18:22:51.460Z"
   },
   {
    "duration": 191,
    "start_time": "2022-07-20T18:22:51.473Z"
   },
   {
    "duration": 137,
    "start_time": "2022-07-20T18:22:51.667Z"
   },
   {
    "duration": 27,
    "start_time": "2022-07-20T18:22:51.806Z"
   },
   {
    "duration": 302,
    "start_time": "2022-07-20T18:22:51.835Z"
   },
   {
    "duration": 206,
    "start_time": "2022-07-20T18:22:52.138Z"
   },
   {
    "duration": 311,
    "start_time": "2022-07-20T18:22:52.346Z"
   },
   {
    "duration": 318,
    "start_time": "2022-07-20T18:22:52.658Z"
   },
   {
    "duration": 372,
    "start_time": "2022-07-20T18:22:52.978Z"
   },
   {
    "duration": 11,
    "start_time": "2022-07-20T18:22:53.352Z"
   },
   {
    "duration": 162,
    "start_time": "2022-07-20T18:22:53.365Z"
   },
   {
    "duration": 171,
    "start_time": "2022-07-20T18:22:53.529Z"
   },
   {
    "duration": 5,
    "start_time": "2022-07-20T18:22:53.701Z"
   },
   {
    "duration": 158,
    "start_time": "2022-07-20T18:22:53.707Z"
   },
   {
    "duration": 162,
    "start_time": "2022-07-20T18:22:53.869Z"
   },
   {
    "duration": 5,
    "start_time": "2022-07-20T18:22:54.033Z"
   },
   {
    "duration": 121,
    "start_time": "2022-07-20T18:22:54.040Z"
   },
   {
    "duration": 10,
    "start_time": "2022-07-20T18:22:54.162Z"
   },
   {
    "duration": 11,
    "start_time": "2022-07-20T18:22:54.173Z"
   },
   {
    "duration": 46,
    "start_time": "2022-07-20T18:22:54.185Z"
   },
   {
    "duration": 11,
    "start_time": "2022-07-20T18:22:54.233Z"
   },
   {
    "duration": 1094,
    "start_time": "2022-07-21T22:57:45.336Z"
   },
   {
    "duration": 123,
    "start_time": "2022-07-21T22:57:46.432Z"
   },
   {
    "duration": 12,
    "start_time": "2022-07-21T22:57:46.557Z"
   },
   {
    "duration": 17,
    "start_time": "2022-07-21T22:57:46.571Z"
   },
   {
    "duration": 178,
    "start_time": "2022-07-21T22:57:46.590Z"
   },
   {
    "duration": 25,
    "start_time": "2022-07-21T22:57:46.769Z"
   },
   {
    "duration": 5,
    "start_time": "2022-07-21T22:57:46.795Z"
   },
   {
    "duration": 12,
    "start_time": "2022-07-21T22:57:46.802Z"
   },
   {
    "duration": 7,
    "start_time": "2022-07-21T22:57:46.815Z"
   },
   {
    "duration": 9,
    "start_time": "2022-07-21T22:57:46.824Z"
   },
   {
    "duration": 9,
    "start_time": "2022-07-21T22:57:46.834Z"
   },
   {
    "duration": 7,
    "start_time": "2022-07-21T22:57:46.844Z"
   },
   {
    "duration": 3,
    "start_time": "2022-07-21T22:57:46.852Z"
   },
   {
    "duration": 11,
    "start_time": "2022-07-21T22:57:46.856Z"
   },
   {
    "duration": 176,
    "start_time": "2022-07-21T22:57:46.868Z"
   },
   {
    "duration": 122,
    "start_time": "2022-07-21T22:57:47.045Z"
   },
   {
    "duration": 14,
    "start_time": "2022-07-21T22:57:47.168Z"
   },
   {
    "duration": 277,
    "start_time": "2022-07-21T22:57:47.183Z"
   },
   {
    "duration": 432,
    "start_time": "2022-07-21T22:57:47.461Z"
   },
   {
    "duration": 179,
    "start_time": "2022-07-21T22:57:47.894Z"
   },
   {
    "duration": 348,
    "start_time": "2022-07-21T22:57:48.074Z"
   },
   {
    "duration": 281,
    "start_time": "2022-07-21T22:57:48.424Z"
   },
   {
    "duration": 336,
    "start_time": "2022-07-21T22:57:48.706Z"
   },
   {
    "duration": 61,
    "start_time": "2022-07-21T22:57:49.043Z"
   },
   {
    "duration": 226,
    "start_time": "2022-07-21T22:57:49.106Z"
   },
   {
    "duration": 278,
    "start_time": "2022-07-21T22:57:49.333Z"
   },
   {
    "duration": 4,
    "start_time": "2022-07-21T22:57:49.613Z"
   },
   {
    "duration": 226,
    "start_time": "2022-07-21T22:57:49.619Z"
   },
   {
    "duration": 400,
    "start_time": "2022-07-21T22:57:49.847Z"
   },
   {
    "duration": 4,
    "start_time": "2022-07-21T22:57:50.301Z"
   },
   {
    "duration": 18,
    "start_time": "2022-07-21T22:57:50.307Z"
   },
   {
    "duration": 8,
    "start_time": "2022-07-21T22:57:50.327Z"
   },
   {
    "duration": 66,
    "start_time": "2022-07-21T22:57:50.336Z"
   },
   {
    "duration": 17,
    "start_time": "2022-07-21T22:57:50.404Z"
   },
   {
    "duration": 8,
    "start_time": "2022-07-21T22:57:50.422Z"
   },
   {
    "duration": 173,
    "start_time": "2022-07-21T22:58:22.023Z"
   },
   {
    "duration": 144,
    "start_time": "2022-07-21T23:01:04.597Z"
   },
   {
    "duration": 4,
    "start_time": "2022-07-21T23:01:21.665Z"
   },
   {
    "duration": 166,
    "start_time": "2022-07-21T23:01:23.549Z"
   },
   {
    "duration": 4,
    "start_time": "2022-07-21T23:01:27.912Z"
   },
   {
    "duration": 110,
    "start_time": "2022-07-21T23:01:54.568Z"
   },
   {
    "duration": 118,
    "start_time": "2022-07-21T23:01:55.984Z"
   },
   {
    "duration": 127,
    "start_time": "2022-07-21T23:01:57.269Z"
   },
   {
    "duration": 4,
    "start_time": "2022-07-21T23:02:08.325Z"
   },
   {
    "duration": 106,
    "start_time": "2022-07-21T23:02:10.576Z"
   },
   {
    "duration": 4,
    "start_time": "2022-07-21T23:02:14.537Z"
   },
   {
    "duration": 147,
    "start_time": "2022-07-21T23:02:50.863Z"
   },
   {
    "duration": 116,
    "start_time": "2022-07-21T23:02:53.827Z"
   },
   {
    "duration": 11,
    "start_time": "2022-07-21T23:02:58.256Z"
   },
   {
    "duration": 85,
    "start_time": "2022-07-21T23:03:45.036Z"
   },
   {
    "duration": 3,
    "start_time": "2022-07-21T23:04:12.818Z"
   },
   {
    "duration": 420,
    "start_time": "2022-07-21T23:04:22.794Z"
   },
   {
    "duration": 262,
    "start_time": "2022-07-21T23:04:29.256Z"
   },
   {
    "duration": 4,
    "start_time": "2022-07-21T23:04:39.581Z"
   },
   {
    "duration": 1058,
    "start_time": "2022-07-21T23:06:35.676Z"
   },
   {
    "duration": 138,
    "start_time": "2022-07-21T23:06:36.736Z"
   },
   {
    "duration": 13,
    "start_time": "2022-07-21T23:06:36.875Z"
   },
   {
    "duration": 19,
    "start_time": "2022-07-21T23:06:36.890Z"
   },
   {
    "duration": 103,
    "start_time": "2022-07-21T23:06:36.911Z"
   },
   {
    "duration": 29,
    "start_time": "2022-07-21T23:06:37.016Z"
   },
   {
    "duration": 6,
    "start_time": "2022-07-21T23:06:37.047Z"
   },
   {
    "duration": 16,
    "start_time": "2022-07-21T23:06:37.055Z"
   },
   {
    "duration": 8,
    "start_time": "2022-07-21T23:06:37.072Z"
   },
   {
    "duration": 24,
    "start_time": "2022-07-21T23:06:37.082Z"
   },
   {
    "duration": 9,
    "start_time": "2022-07-21T23:06:37.108Z"
   },
   {
    "duration": 5,
    "start_time": "2022-07-21T23:06:37.119Z"
   },
   {
    "duration": 9,
    "start_time": "2022-07-21T23:06:37.125Z"
   },
   {
    "duration": 10,
    "start_time": "2022-07-21T23:06:37.136Z"
   },
   {
    "duration": 194,
    "start_time": "2022-07-21T23:06:37.147Z"
   },
   {
    "duration": 123,
    "start_time": "2022-07-21T23:06:37.343Z"
   },
   {
    "duration": 11,
    "start_time": "2022-07-21T23:06:37.467Z"
   },
   {
    "duration": 6,
    "start_time": "2022-07-21T23:06:37.479Z"
   },
   {
    "duration": 276,
    "start_time": "2022-07-21T23:06:37.503Z"
   },
   {
    "duration": 3,
    "start_time": "2022-07-21T23:06:37.781Z"
   },
   {
    "duration": 252,
    "start_time": "2022-07-21T23:06:37.786Z"
   },
   {
    "duration": 172,
    "start_time": "2022-07-21T23:06:38.039Z"
   },
   {
    "duration": 91,
    "start_time": "2022-07-21T23:06:38.212Z"
   },
   {
    "duration": 0,
    "start_time": "2022-07-21T23:06:38.304Z"
   },
   {
    "duration": 0,
    "start_time": "2022-07-21T23:06:38.305Z"
   },
   {
    "duration": 0,
    "start_time": "2022-07-21T23:06:38.306Z"
   },
   {
    "duration": 0,
    "start_time": "2022-07-21T23:06:38.307Z"
   },
   {
    "duration": 0,
    "start_time": "2022-07-21T23:06:38.308Z"
   },
   {
    "duration": 0,
    "start_time": "2022-07-21T23:06:38.309Z"
   },
   {
    "duration": 0,
    "start_time": "2022-07-21T23:06:38.310Z"
   },
   {
    "duration": 0,
    "start_time": "2022-07-21T23:06:38.311Z"
   },
   {
    "duration": 0,
    "start_time": "2022-07-21T23:06:38.312Z"
   },
   {
    "duration": 0,
    "start_time": "2022-07-21T23:06:38.313Z"
   },
   {
    "duration": 1,
    "start_time": "2022-07-21T23:06:38.313Z"
   },
   {
    "duration": 0,
    "start_time": "2022-07-21T23:06:38.314Z"
   },
   {
    "duration": 0,
    "start_time": "2022-07-21T23:06:38.315Z"
   },
   {
    "duration": 0,
    "start_time": "2022-07-21T23:06:38.316Z"
   },
   {
    "duration": 0,
    "start_time": "2022-07-21T23:06:38.317Z"
   },
   {
    "duration": 173,
    "start_time": "2022-07-21T23:07:33.322Z"
   },
   {
    "duration": 170,
    "start_time": "2022-07-21T23:07:45.310Z"
   },
   {
    "duration": 990,
    "start_time": "2022-07-21T23:08:31.527Z"
   },
   {
    "duration": 77,
    "start_time": "2022-07-21T23:08:32.519Z"
   },
   {
    "duration": 12,
    "start_time": "2022-07-21T23:08:32.598Z"
   },
   {
    "duration": 20,
    "start_time": "2022-07-21T23:08:32.612Z"
   },
   {
    "duration": 103,
    "start_time": "2022-07-21T23:08:32.634Z"
   },
   {
    "duration": 25,
    "start_time": "2022-07-21T23:08:32.739Z"
   },
   {
    "duration": 4,
    "start_time": "2022-07-21T23:08:32.766Z"
   },
   {
    "duration": 11,
    "start_time": "2022-07-21T23:08:32.772Z"
   },
   {
    "duration": 5,
    "start_time": "2022-07-21T23:08:32.785Z"
   },
   {
    "duration": 14,
    "start_time": "2022-07-21T23:08:32.792Z"
   },
   {
    "duration": 11,
    "start_time": "2022-07-21T23:08:32.807Z"
   },
   {
    "duration": 7,
    "start_time": "2022-07-21T23:08:32.819Z"
   },
   {
    "duration": 3,
    "start_time": "2022-07-21T23:08:32.828Z"
   },
   {
    "duration": 10,
    "start_time": "2022-07-21T23:08:32.833Z"
   },
   {
    "duration": 175,
    "start_time": "2022-07-21T23:08:32.844Z"
   },
   {
    "duration": 121,
    "start_time": "2022-07-21T23:08:33.020Z"
   },
   {
    "duration": 10,
    "start_time": "2022-07-21T23:08:33.143Z"
   },
   {
    "duration": 250,
    "start_time": "2022-07-21T23:08:33.154Z"
   },
   {
    "duration": 180,
    "start_time": "2022-07-21T23:08:33.406Z"
   },
   {
    "duration": 92,
    "start_time": "2022-07-21T23:08:33.588Z"
   },
   {
    "duration": 0,
    "start_time": "2022-07-21T23:08:33.681Z"
   },
   {
    "duration": 0,
    "start_time": "2022-07-21T23:08:33.682Z"
   },
   {
    "duration": 0,
    "start_time": "2022-07-21T23:08:33.683Z"
   },
   {
    "duration": 0,
    "start_time": "2022-07-21T23:08:33.684Z"
   },
   {
    "duration": 0,
    "start_time": "2022-07-21T23:08:33.685Z"
   },
   {
    "duration": 0,
    "start_time": "2022-07-21T23:08:33.686Z"
   },
   {
    "duration": 0,
    "start_time": "2022-07-21T23:08:33.687Z"
   },
   {
    "duration": 0,
    "start_time": "2022-07-21T23:08:33.702Z"
   },
   {
    "duration": 0,
    "start_time": "2022-07-21T23:08:33.703Z"
   },
   {
    "duration": 0,
    "start_time": "2022-07-21T23:08:33.703Z"
   },
   {
    "duration": 0,
    "start_time": "2022-07-21T23:08:33.704Z"
   },
   {
    "duration": 0,
    "start_time": "2022-07-21T23:08:33.705Z"
   },
   {
    "duration": 0,
    "start_time": "2022-07-21T23:08:33.706Z"
   },
   {
    "duration": 0,
    "start_time": "2022-07-21T23:08:33.707Z"
   },
   {
    "duration": 0,
    "start_time": "2022-07-21T23:08:33.708Z"
   },
   {
    "duration": 1025,
    "start_time": "2022-07-21T23:10:21.279Z"
   },
   {
    "duration": 78,
    "start_time": "2022-07-21T23:10:22.306Z"
   },
   {
    "duration": 12,
    "start_time": "2022-07-21T23:10:22.385Z"
   },
   {
    "duration": 20,
    "start_time": "2022-07-21T23:10:22.399Z"
   },
   {
    "duration": 100,
    "start_time": "2022-07-21T23:10:22.420Z"
   },
   {
    "duration": 26,
    "start_time": "2022-07-21T23:10:22.522Z"
   },
   {
    "duration": 5,
    "start_time": "2022-07-21T23:10:22.550Z"
   },
   {
    "duration": 12,
    "start_time": "2022-07-21T23:10:22.556Z"
   },
   {
    "duration": 4,
    "start_time": "2022-07-21T23:10:22.570Z"
   },
   {
    "duration": 25,
    "start_time": "2022-07-21T23:10:22.577Z"
   },
   {
    "duration": 10,
    "start_time": "2022-07-21T23:10:22.603Z"
   },
   {
    "duration": 8,
    "start_time": "2022-07-21T23:10:22.614Z"
   },
   {
    "duration": 4,
    "start_time": "2022-07-21T23:10:22.623Z"
   },
   {
    "duration": 9,
    "start_time": "2022-07-21T23:10:22.629Z"
   },
   {
    "duration": 163,
    "start_time": "2022-07-21T23:10:22.639Z"
   },
   {
    "duration": 120,
    "start_time": "2022-07-21T23:10:22.803Z"
   },
   {
    "duration": 10,
    "start_time": "2022-07-21T23:10:22.924Z"
   },
   {
    "duration": 246,
    "start_time": "2022-07-21T23:10:22.936Z"
   },
   {
    "duration": 168,
    "start_time": "2022-07-21T23:10:23.183Z"
   },
   {
    "duration": 185,
    "start_time": "2022-07-21T23:10:23.353Z"
   },
   {
    "duration": 262,
    "start_time": "2022-07-21T23:10:23.540Z"
   },
   {
    "duration": 299,
    "start_time": "2022-07-21T23:10:23.803Z"
   },
   {
    "duration": 301,
    "start_time": "2022-07-21T23:10:24.103Z"
   },
   {
    "duration": 9,
    "start_time": "2022-07-21T23:10:24.406Z"
   },
   {
    "duration": 128,
    "start_time": "2022-07-21T23:10:24.417Z"
   },
   {
    "duration": 129,
    "start_time": "2022-07-21T23:10:24.546Z"
   },
   {
    "duration": 4,
    "start_time": "2022-07-21T23:10:24.676Z"
   },
   {
    "duration": 129,
    "start_time": "2022-07-21T23:10:24.682Z"
   },
   {
    "duration": 186,
    "start_time": "2022-07-21T23:10:24.812Z"
   },
   {
    "duration": 3,
    "start_time": "2022-07-21T23:10:25.002Z"
   },
   {
    "duration": 16,
    "start_time": "2022-07-21T23:10:25.007Z"
   },
   {
    "duration": 9,
    "start_time": "2022-07-21T23:10:25.024Z"
   },
   {
    "duration": 9,
    "start_time": "2022-07-21T23:10:25.034Z"
   },
   {
    "duration": 15,
    "start_time": "2022-07-21T23:10:25.045Z"
   },
   {
    "duration": 41,
    "start_time": "2022-07-21T23:10:25.062Z"
   },
   {
    "duration": 1012,
    "start_time": "2022-07-21T23:11:33.097Z"
   },
   {
    "duration": 99,
    "start_time": "2022-07-21T23:11:34.111Z"
   },
   {
    "duration": 12,
    "start_time": "2022-07-21T23:11:34.212Z"
   },
   {
    "duration": 18,
    "start_time": "2022-07-21T23:11:34.225Z"
   },
   {
    "duration": 140,
    "start_time": "2022-07-21T23:11:34.244Z"
   },
   {
    "duration": 25,
    "start_time": "2022-07-21T23:11:34.386Z"
   },
   {
    "duration": 4,
    "start_time": "2022-07-21T23:11:34.412Z"
   },
   {
    "duration": 13,
    "start_time": "2022-07-21T23:11:34.417Z"
   },
   {
    "duration": 5,
    "start_time": "2022-07-21T23:11:34.431Z"
   },
   {
    "duration": 10,
    "start_time": "2022-07-21T23:11:34.438Z"
   },
   {
    "duration": 10,
    "start_time": "2022-07-21T23:11:34.449Z"
   },
   {
    "duration": 5,
    "start_time": "2022-07-21T23:11:34.460Z"
   },
   {
    "duration": 3,
    "start_time": "2022-07-21T23:11:34.467Z"
   },
   {
    "duration": 81,
    "start_time": "2022-07-21T23:11:34.502Z"
   },
   {
    "duration": 0,
    "start_time": "2022-07-21T23:11:34.585Z"
   },
   {
    "duration": 0,
    "start_time": "2022-07-21T23:11:34.586Z"
   },
   {
    "duration": 0,
    "start_time": "2022-07-21T23:11:34.587Z"
   },
   {
    "duration": 0,
    "start_time": "2022-07-21T23:11:34.601Z"
   },
   {
    "duration": 0,
    "start_time": "2022-07-21T23:11:34.602Z"
   },
   {
    "duration": 0,
    "start_time": "2022-07-21T23:11:34.603Z"
   },
   {
    "duration": 0,
    "start_time": "2022-07-21T23:11:34.604Z"
   },
   {
    "duration": 0,
    "start_time": "2022-07-21T23:11:34.605Z"
   },
   {
    "duration": 0,
    "start_time": "2022-07-21T23:11:34.606Z"
   },
   {
    "duration": 0,
    "start_time": "2022-07-21T23:11:34.607Z"
   },
   {
    "duration": 0,
    "start_time": "2022-07-21T23:11:34.608Z"
   },
   {
    "duration": 0,
    "start_time": "2022-07-21T23:11:34.609Z"
   },
   {
    "duration": 0,
    "start_time": "2022-07-21T23:11:34.610Z"
   },
   {
    "duration": 0,
    "start_time": "2022-07-21T23:11:34.611Z"
   },
   {
    "duration": 0,
    "start_time": "2022-07-21T23:11:34.611Z"
   },
   {
    "duration": 0,
    "start_time": "2022-07-21T23:11:34.612Z"
   },
   {
    "duration": 0,
    "start_time": "2022-07-21T23:11:34.613Z"
   },
   {
    "duration": 0,
    "start_time": "2022-07-21T23:11:34.614Z"
   },
   {
    "duration": 0,
    "start_time": "2022-07-21T23:11:34.615Z"
   },
   {
    "duration": 0,
    "start_time": "2022-07-21T23:11:34.616Z"
   },
   {
    "duration": 0,
    "start_time": "2022-07-21T23:11:34.616Z"
   },
   {
    "duration": 0,
    "start_time": "2022-07-21T23:11:34.617Z"
   },
   {
    "duration": 9,
    "start_time": "2022-07-21T23:12:46.296Z"
   },
   {
    "duration": 5,
    "start_time": "2022-07-21T23:12:48.662Z"
   },
   {
    "duration": 12,
    "start_time": "2022-07-21T23:13:08.178Z"
   },
   {
    "duration": 14,
    "start_time": "2022-07-21T23:13:20.678Z"
   },
   {
    "duration": 147,
    "start_time": "2022-07-21T23:14:19.720Z"
   },
   {
    "duration": 160,
    "start_time": "2022-07-21T23:14:21.796Z"
   },
   {
    "duration": 11,
    "start_time": "2022-07-21T23:14:25.393Z"
   },
   {
    "duration": 15,
    "start_time": "2022-07-21T23:16:05.795Z"
   },
   {
    "duration": 160,
    "start_time": "2022-07-21T23:16:28.392Z"
   },
   {
    "duration": 18,
    "start_time": "2022-07-21T23:16:29.883Z"
   },
   {
    "duration": 156,
    "start_time": "2022-07-21T23:16:42.431Z"
   },
   {
    "duration": 13,
    "start_time": "2022-07-21T23:16:43.593Z"
   },
   {
    "duration": 117,
    "start_time": "2022-07-21T23:16:58.345Z"
   },
   {
    "duration": 114,
    "start_time": "2022-07-21T23:16:59.069Z"
   },
   {
    "duration": 111,
    "start_time": "2022-07-21T23:17:09.858Z"
   },
   {
    "duration": 105,
    "start_time": "2022-07-21T23:17:10.649Z"
   },
   {
    "duration": 12,
    "start_time": "2022-07-21T23:17:19.978Z"
   },
   {
    "duration": 12,
    "start_time": "2022-07-21T23:17:28.358Z"
   },
   {
    "duration": 11,
    "start_time": "2022-07-21T23:18:02.904Z"
   },
   {
    "duration": 6,
    "start_time": "2022-07-21T23:18:03.549Z"
   },
   {
    "duration": 16,
    "start_time": "2022-07-21T23:18:20.529Z"
   },
   {
    "duration": 7,
    "start_time": "2022-07-21T23:19:15.963Z"
   },
   {
    "duration": 11,
    "start_time": "2022-07-21T23:19:30.626Z"
   },
   {
    "duration": 11,
    "start_time": "2022-07-21T23:19:39.360Z"
   },
   {
    "duration": 11,
    "start_time": "2022-07-21T23:20:21.673Z"
   },
   {
    "duration": 6,
    "start_time": "2022-07-21T23:20:36.162Z"
   },
   {
    "duration": 11,
    "start_time": "2022-07-21T23:20:39.388Z"
   },
   {
    "duration": 1029,
    "start_time": "2022-07-21T23:20:50.401Z"
   },
   {
    "duration": 92,
    "start_time": "2022-07-21T23:20:51.431Z"
   },
   {
    "duration": 12,
    "start_time": "2022-07-21T23:20:51.524Z"
   },
   {
    "duration": 20,
    "start_time": "2022-07-21T23:20:51.538Z"
   },
   {
    "duration": 125,
    "start_time": "2022-07-21T23:20:51.559Z"
   },
   {
    "duration": 28,
    "start_time": "2022-07-21T23:20:51.685Z"
   },
   {
    "duration": 5,
    "start_time": "2022-07-21T23:20:51.715Z"
   },
   {
    "duration": 12,
    "start_time": "2022-07-21T23:20:51.722Z"
   },
   {
    "duration": 5,
    "start_time": "2022-07-21T23:20:51.736Z"
   },
   {
    "duration": 10,
    "start_time": "2022-07-21T23:20:51.743Z"
   },
   {
    "duration": 10,
    "start_time": "2022-07-21T23:20:51.754Z"
   },
   {
    "duration": 38,
    "start_time": "2022-07-21T23:20:51.765Z"
   },
   {
    "duration": 2,
    "start_time": "2022-07-21T23:20:51.805Z"
   },
   {
    "duration": 82,
    "start_time": "2022-07-21T23:20:51.808Z"
   },
   {
    "duration": 0,
    "start_time": "2022-07-21T23:20:51.891Z"
   },
   {
    "duration": 0,
    "start_time": "2022-07-21T23:20:51.892Z"
   },
   {
    "duration": 0,
    "start_time": "2022-07-21T23:20:51.902Z"
   },
   {
    "duration": 0,
    "start_time": "2022-07-21T23:20:51.903Z"
   },
   {
    "duration": 0,
    "start_time": "2022-07-21T23:20:51.903Z"
   },
   {
    "duration": 0,
    "start_time": "2022-07-21T23:20:51.905Z"
   },
   {
    "duration": 0,
    "start_time": "2022-07-21T23:20:51.905Z"
   },
   {
    "duration": 0,
    "start_time": "2022-07-21T23:20:51.906Z"
   },
   {
    "duration": 0,
    "start_time": "2022-07-21T23:20:51.907Z"
   },
   {
    "duration": 0,
    "start_time": "2022-07-21T23:20:51.908Z"
   },
   {
    "duration": 0,
    "start_time": "2022-07-21T23:20:51.909Z"
   },
   {
    "duration": 0,
    "start_time": "2022-07-21T23:20:51.910Z"
   },
   {
    "duration": 0,
    "start_time": "2022-07-21T23:20:51.911Z"
   },
   {
    "duration": 0,
    "start_time": "2022-07-21T23:20:51.912Z"
   },
   {
    "duration": 0,
    "start_time": "2022-07-21T23:20:51.913Z"
   },
   {
    "duration": 0,
    "start_time": "2022-07-21T23:20:51.913Z"
   },
   {
    "duration": 0,
    "start_time": "2022-07-21T23:20:51.914Z"
   },
   {
    "duration": 0,
    "start_time": "2022-07-21T23:20:51.915Z"
   },
   {
    "duration": 0,
    "start_time": "2022-07-21T23:20:51.916Z"
   },
   {
    "duration": 0,
    "start_time": "2022-07-21T23:20:51.917Z"
   },
   {
    "duration": 0,
    "start_time": "2022-07-21T23:20:51.918Z"
   },
   {
    "duration": 0,
    "start_time": "2022-07-21T23:20:51.919Z"
   },
   {
    "duration": 0,
    "start_time": "2022-07-21T23:20:51.920Z"
   },
   {
    "duration": 980,
    "start_time": "2022-07-21T23:21:09.244Z"
   },
   {
    "duration": 134,
    "start_time": "2022-07-21T23:21:10.226Z"
   },
   {
    "duration": 13,
    "start_time": "2022-07-21T23:21:10.361Z"
   },
   {
    "duration": 22,
    "start_time": "2022-07-21T23:21:10.375Z"
   },
   {
    "duration": 109,
    "start_time": "2022-07-21T23:21:10.399Z"
   },
   {
    "duration": 26,
    "start_time": "2022-07-21T23:21:10.510Z"
   },
   {
    "duration": 6,
    "start_time": "2022-07-21T23:21:10.537Z"
   },
   {
    "duration": 12,
    "start_time": "2022-07-21T23:21:10.544Z"
   },
   {
    "duration": 6,
    "start_time": "2022-07-21T23:21:10.558Z"
   },
   {
    "duration": 11,
    "start_time": "2022-07-21T23:21:10.566Z"
   },
   {
    "duration": 10,
    "start_time": "2022-07-21T23:21:10.601Z"
   },
   {
    "duration": 5,
    "start_time": "2022-07-21T23:21:10.613Z"
   },
   {
    "duration": 5,
    "start_time": "2022-07-21T23:21:10.619Z"
   },
   {
    "duration": 9,
    "start_time": "2022-07-21T23:21:10.625Z"
   },
   {
    "duration": 170,
    "start_time": "2022-07-21T23:21:10.636Z"
   },
   {
    "duration": 162,
    "start_time": "2022-07-21T23:21:10.807Z"
   },
   {
    "duration": 118,
    "start_time": "2022-07-21T23:21:10.970Z"
   },
   {
    "duration": 20,
    "start_time": "2022-07-21T23:21:11.089Z"
   },
   {
    "duration": 248,
    "start_time": "2022-07-21T23:21:11.110Z"
   },
   {
    "duration": 181,
    "start_time": "2022-07-21T23:21:11.360Z"
   },
   {
    "duration": 195,
    "start_time": "2022-07-21T23:21:11.543Z"
   },
   {
    "duration": 244,
    "start_time": "2022-07-21T23:21:11.740Z"
   },
   {
    "duration": 318,
    "start_time": "2022-07-21T23:21:11.986Z"
   },
   {
    "duration": 290,
    "start_time": "2022-07-21T23:21:12.305Z"
   },
   {
    "duration": 12,
    "start_time": "2022-07-21T23:21:12.601Z"
   },
   {
    "duration": 134,
    "start_time": "2022-07-21T23:21:12.614Z"
   },
   {
    "duration": 134,
    "start_time": "2022-07-21T23:21:12.750Z"
   },
   {
    "duration": 4,
    "start_time": "2022-07-21T23:21:12.888Z"
   },
   {
    "duration": 192,
    "start_time": "2022-07-21T23:21:12.893Z"
   },
   {
    "duration": 124,
    "start_time": "2022-07-21T23:21:13.086Z"
   },
   {
    "duration": 4,
    "start_time": "2022-07-21T23:21:13.212Z"
   },
   {
    "duration": 20,
    "start_time": "2022-07-21T23:21:13.217Z"
   },
   {
    "duration": 8,
    "start_time": "2022-07-21T23:21:13.238Z"
   },
   {
    "duration": 9,
    "start_time": "2022-07-21T23:21:13.247Z"
   },
   {
    "duration": 45,
    "start_time": "2022-07-21T23:21:13.258Z"
   },
   {
    "duration": 8,
    "start_time": "2022-07-21T23:21:13.304Z"
   },
   {
    "duration": 11,
    "start_time": "2022-07-21T23:37:23.585Z"
   },
   {
    "duration": 11,
    "start_time": "2022-07-21T23:37:32.547Z"
   },
   {
    "duration": 946,
    "start_time": "2022-07-21T23:39:06.165Z"
   },
   {
    "duration": 75,
    "start_time": "2022-07-21T23:39:07.113Z"
   },
   {
    "duration": 12,
    "start_time": "2022-07-21T23:39:07.189Z"
   },
   {
    "duration": 20,
    "start_time": "2022-07-21T23:39:07.203Z"
   },
   {
    "duration": 104,
    "start_time": "2022-07-21T23:39:07.224Z"
   },
   {
    "duration": 28,
    "start_time": "2022-07-21T23:39:07.330Z"
   },
   {
    "duration": 5,
    "start_time": "2022-07-21T23:39:07.359Z"
   },
   {
    "duration": 12,
    "start_time": "2022-07-21T23:39:07.365Z"
   },
   {
    "duration": 5,
    "start_time": "2022-07-21T23:39:07.379Z"
   },
   {
    "duration": 16,
    "start_time": "2022-07-21T23:39:07.386Z"
   },
   {
    "duration": 9,
    "start_time": "2022-07-21T23:39:07.404Z"
   },
   {
    "duration": 9,
    "start_time": "2022-07-21T23:39:07.414Z"
   },
   {
    "duration": 9,
    "start_time": "2022-07-21T23:39:07.424Z"
   },
   {
    "duration": 12,
    "start_time": "2022-07-21T23:39:07.434Z"
   },
   {
    "duration": 161,
    "start_time": "2022-07-21T23:39:07.448Z"
   },
   {
    "duration": 162,
    "start_time": "2022-07-21T23:39:07.611Z"
   },
   {
    "duration": 111,
    "start_time": "2022-07-21T23:39:07.775Z"
   },
   {
    "duration": 18,
    "start_time": "2022-07-21T23:39:07.888Z"
   },
   {
    "duration": 239,
    "start_time": "2022-07-21T23:39:07.908Z"
   },
   {
    "duration": 181,
    "start_time": "2022-07-21T23:39:08.148Z"
   },
   {
    "duration": 258,
    "start_time": "2022-07-21T23:39:08.331Z"
   },
   {
    "duration": 306,
    "start_time": "2022-07-21T23:39:08.590Z"
   },
   {
    "duration": 305,
    "start_time": "2022-07-21T23:39:08.903Z"
   },
   {
    "duration": 9,
    "start_time": "2022-07-21T23:39:09.209Z"
   },
   {
    "duration": 129,
    "start_time": "2022-07-21T23:39:09.220Z"
   },
   {
    "duration": 135,
    "start_time": "2022-07-21T23:39:09.351Z"
   },
   {
    "duration": 4,
    "start_time": "2022-07-21T23:39:09.487Z"
   },
   {
    "duration": 128,
    "start_time": "2022-07-21T23:39:09.493Z"
   },
   {
    "duration": 194,
    "start_time": "2022-07-21T23:39:09.623Z"
   },
   {
    "duration": 4,
    "start_time": "2022-07-21T23:39:09.819Z"
   },
   {
    "duration": 19,
    "start_time": "2022-07-21T23:39:09.825Z"
   },
   {
    "duration": 10,
    "start_time": "2022-07-21T23:39:09.845Z"
   },
   {
    "duration": 10,
    "start_time": "2022-07-21T23:39:09.856Z"
   },
   {
    "duration": 48,
    "start_time": "2022-07-21T23:39:09.867Z"
   },
   {
    "duration": 10,
    "start_time": "2022-07-21T23:39:09.917Z"
   },
   {
    "duration": 45,
    "start_time": "2022-07-22T03:43:14.746Z"
   },
   {
    "duration": 1244,
    "start_time": "2022-07-22T03:43:27.827Z"
   },
   {
    "duration": 1081,
    "start_time": "2022-07-22T03:43:34.078Z"
   },
   {
    "duration": 81,
    "start_time": "2022-07-22T03:43:35.160Z"
   },
   {
    "duration": 14,
    "start_time": "2022-07-22T03:43:35.242Z"
   },
   {
    "duration": 28,
    "start_time": "2022-07-22T03:43:35.258Z"
   },
   {
    "duration": 145,
    "start_time": "2022-07-22T03:43:35.288Z"
   },
   {
    "duration": 30,
    "start_time": "2022-07-22T03:43:35.434Z"
   },
   {
    "duration": 6,
    "start_time": "2022-07-22T03:43:35.466Z"
   },
   {
    "duration": 23,
    "start_time": "2022-07-22T03:43:35.474Z"
   },
   {
    "duration": 27,
    "start_time": "2022-07-22T03:43:35.499Z"
   },
   {
    "duration": 28,
    "start_time": "2022-07-22T03:43:35.529Z"
   },
   {
    "duration": 15,
    "start_time": "2022-07-22T03:43:35.558Z"
   },
   {
    "duration": 6,
    "start_time": "2022-07-22T03:43:35.574Z"
   },
   {
    "duration": 15,
    "start_time": "2022-07-22T03:43:35.582Z"
   },
   {
    "duration": 25,
    "start_time": "2022-07-22T03:43:35.599Z"
   },
   {
    "duration": 172,
    "start_time": "2022-07-22T03:43:35.625Z"
   },
   {
    "duration": 187,
    "start_time": "2022-07-22T03:43:35.798Z"
   },
   {
    "duration": 143,
    "start_time": "2022-07-22T03:43:35.987Z"
   },
   {
    "duration": 11,
    "start_time": "2022-07-22T03:43:36.131Z"
   },
   {
    "duration": 283,
    "start_time": "2022-07-22T03:43:36.144Z"
   },
   {
    "duration": 203,
    "start_time": "2022-07-22T03:43:36.429Z"
   },
   {
    "duration": 310,
    "start_time": "2022-07-22T03:43:36.634Z"
   },
   {
    "duration": 390,
    "start_time": "2022-07-22T03:43:36.945Z"
   },
   {
    "duration": 311,
    "start_time": "2022-07-22T03:43:37.337Z"
   },
   {
    "duration": 12,
    "start_time": "2022-07-22T03:43:37.650Z"
   },
   {
    "duration": 150,
    "start_time": "2022-07-22T03:43:37.663Z"
   },
   {
    "duration": 152,
    "start_time": "2022-07-22T03:43:37.814Z"
   },
   {
    "duration": 4,
    "start_time": "2022-07-22T03:43:37.968Z"
   },
   {
    "duration": 251,
    "start_time": "2022-07-22T03:43:37.975Z"
   },
   {
    "duration": 421,
    "start_time": "2022-07-22T03:43:38.227Z"
   },
   {
    "duration": 5,
    "start_time": "2022-07-22T03:43:38.649Z"
   },
   {
    "duration": 71,
    "start_time": "2022-07-22T03:43:38.655Z"
   },
   {
    "duration": 10,
    "start_time": "2022-07-22T03:43:38.728Z"
   },
   {
    "duration": 16,
    "start_time": "2022-07-22T03:43:38.740Z"
   },
   {
    "duration": 79,
    "start_time": "2022-07-22T03:43:38.758Z"
   },
   {
    "duration": 9,
    "start_time": "2022-07-22T03:43:38.839Z"
   },
   {
    "duration": 343,
    "start_time": "2022-07-22T03:53:47.188Z"
   },
   {
    "duration": 20,
    "start_time": "2022-07-22T04:04:27.571Z"
   },
   {
    "duration": 21,
    "start_time": "2022-07-22T04:04:35.361Z"
   },
   {
    "duration": 18,
    "start_time": "2022-07-22T04:04:45.110Z"
   },
   {
    "duration": 19,
    "start_time": "2022-07-22T04:04:51.746Z"
   },
   {
    "duration": 124,
    "start_time": "2022-07-22T04:17:33.180Z"
   },
   {
    "duration": 19,
    "start_time": "2022-07-22T04:21:11.607Z"
   },
   {
    "duration": 4,
    "start_time": "2022-07-22T04:21:25.087Z"
   },
   {
    "duration": 8,
    "start_time": "2022-07-22T04:21:26.527Z"
   },
   {
    "duration": 25,
    "start_time": "2022-07-22T04:22:11.562Z"
   },
   {
    "duration": 20,
    "start_time": "2022-07-22T04:22:28.446Z"
   },
   {
    "duration": 14,
    "start_time": "2022-07-22T04:22:36.647Z"
   },
   {
    "duration": 773,
    "start_time": "2022-07-22T04:23:02.605Z"
   },
   {
    "duration": 11,
    "start_time": "2022-07-22T04:23:30.109Z"
   },
   {
    "duration": 13,
    "start_time": "2022-07-22T04:23:34.608Z"
   },
   {
    "duration": 13,
    "start_time": "2022-07-22T04:23:38.730Z"
   },
   {
    "duration": 11,
    "start_time": "2022-07-22T04:23:45.968Z"
   },
   {
    "duration": 25,
    "start_time": "2022-07-22T04:26:18.881Z"
   },
   {
    "duration": 4,
    "start_time": "2022-07-22T04:27:54.122Z"
   },
   {
    "duration": 4,
    "start_time": "2022-07-22T04:28:04.742Z"
   },
   {
    "duration": 19,
    "start_time": "2022-07-22T04:28:50.982Z"
   },
   {
    "duration": 4,
    "start_time": "2022-07-22T04:29:16.230Z"
   },
   {
    "duration": 8,
    "start_time": "2022-07-22T04:29:52.796Z"
   },
   {
    "duration": 13,
    "start_time": "2022-07-22T04:29:58.896Z"
   },
   {
    "duration": 12,
    "start_time": "2022-07-22T04:30:32.276Z"
   },
   {
    "duration": 1235,
    "start_time": "2022-07-22T04:30:52.055Z"
   },
   {
    "duration": 11,
    "start_time": "2022-07-22T04:32:01.469Z"
   },
   {
    "duration": 910,
    "start_time": "2022-07-22T04:32:04.901Z"
   },
   {
    "duration": 12,
    "start_time": "2022-07-22T04:32:14.309Z"
   },
   {
    "duration": 91,
    "start_time": "2022-07-22T04:33:09.062Z"
   },
   {
    "duration": 8,
    "start_time": "2022-07-22T04:33:26.051Z"
   },
   {
    "duration": 9,
    "start_time": "2022-07-22T04:34:02.185Z"
   },
   {
    "duration": 10,
    "start_time": "2022-07-22T04:34:15.472Z"
   },
   {
    "duration": 20,
    "start_time": "2022-07-22T04:34:53.734Z"
   },
   {
    "duration": 21,
    "start_time": "2022-07-22T04:36:28.833Z"
   },
   {
    "duration": 20,
    "start_time": "2022-07-22T04:37:06.691Z"
   },
   {
    "duration": 12,
    "start_time": "2022-07-22T04:37:38.735Z"
   },
   {
    "duration": 24,
    "start_time": "2022-07-22T04:37:42.729Z"
   },
   {
    "duration": 20,
    "start_time": "2022-07-22T04:37:56.429Z"
   },
   {
    "duration": 20,
    "start_time": "2022-07-22T04:38:48.606Z"
   },
   {
    "duration": 23,
    "start_time": "2022-07-22T04:39:16.297Z"
   },
   {
    "duration": 9,
    "start_time": "2022-07-22T04:44:04.517Z"
   },
   {
    "duration": 3,
    "start_time": "2022-07-22T04:44:48.886Z"
   },
   {
    "duration": 4,
    "start_time": "2022-07-22T04:46:52.887Z"
   },
   {
    "duration": 13,
    "start_time": "2022-07-22T04:47:55.404Z"
   },
   {
    "duration": 13,
    "start_time": "2022-07-22T04:48:13.397Z"
   },
   {
    "duration": 12,
    "start_time": "2022-07-22T04:48:53.689Z"
   },
   {
    "duration": 14,
    "start_time": "2022-07-22T04:49:10.452Z"
   },
   {
    "duration": 13,
    "start_time": "2022-07-22T04:49:29.441Z"
   },
   {
    "duration": 10,
    "start_time": "2022-07-22T04:56:21.866Z"
   },
   {
    "duration": 1062,
    "start_time": "2022-07-22T05:07:13.623Z"
   },
   {
    "duration": 49,
    "start_time": "2022-07-22T05:07:14.687Z"
   },
   {
    "duration": 13,
    "start_time": "2022-07-22T05:07:14.738Z"
   },
   {
    "duration": 22,
    "start_time": "2022-07-22T05:07:14.753Z"
   },
   {
    "duration": 75,
    "start_time": "2022-07-22T05:07:14.776Z"
   },
   {
    "duration": 30,
    "start_time": "2022-07-22T05:07:14.852Z"
   },
   {
    "duration": 6,
    "start_time": "2022-07-22T05:07:14.884Z"
   },
   {
    "duration": 13,
    "start_time": "2022-07-22T05:07:14.892Z"
   },
   {
    "duration": 7,
    "start_time": "2022-07-22T05:07:14.906Z"
   },
   {
    "duration": 14,
    "start_time": "2022-07-22T05:07:14.923Z"
   },
   {
    "duration": 11,
    "start_time": "2022-07-22T05:07:14.939Z"
   },
   {
    "duration": 7,
    "start_time": "2022-07-22T05:07:14.952Z"
   },
   {
    "duration": 8,
    "start_time": "2022-07-22T05:07:14.960Z"
   },
   {
    "duration": 12,
    "start_time": "2022-07-22T05:07:14.969Z"
   },
   {
    "duration": 189,
    "start_time": "2022-07-22T05:07:14.983Z"
   },
   {
    "duration": 187,
    "start_time": "2022-07-22T05:07:15.174Z"
   },
   {
    "duration": 131,
    "start_time": "2022-07-22T05:07:15.363Z"
   },
   {
    "duration": 12,
    "start_time": "2022-07-22T05:07:15.496Z"
   },
   {
    "duration": 288,
    "start_time": "2022-07-22T05:07:15.524Z"
   },
   {
    "duration": 213,
    "start_time": "2022-07-22T05:07:15.814Z"
   },
   {
    "duration": 323,
    "start_time": "2022-07-22T05:07:16.028Z"
   },
   {
    "duration": 307,
    "start_time": "2022-07-22T05:07:16.354Z"
   },
   {
    "duration": 303,
    "start_time": "2022-07-22T05:07:16.663Z"
   },
   {
    "duration": 10,
    "start_time": "2022-07-22T05:07:16.968Z"
   },
   {
    "duration": 159,
    "start_time": "2022-07-22T05:07:16.980Z"
   },
   {
    "duration": 194,
    "start_time": "2022-07-22T05:07:17.141Z"
   },
   {
    "duration": 5,
    "start_time": "2022-07-22T05:07:17.338Z"
   },
   {
    "duration": 196,
    "start_time": "2022-07-22T05:07:17.347Z"
   },
   {
    "duration": 219,
    "start_time": "2022-07-22T05:07:17.544Z"
   },
   {
    "duration": 5,
    "start_time": "2022-07-22T05:07:17.764Z"
   },
   {
    "duration": 20,
    "start_time": "2022-07-22T05:07:17.770Z"
   },
   {
    "duration": 8,
    "start_time": "2022-07-22T05:07:17.792Z"
   },
   {
    "duration": 13,
    "start_time": "2022-07-22T05:07:17.824Z"
   },
   {
    "duration": 21,
    "start_time": "2022-07-22T05:07:17.839Z"
   },
   {
    "duration": 12,
    "start_time": "2022-07-22T05:07:17.861Z"
   },
   {
    "duration": 38,
    "start_time": "2022-07-22T05:11:10.090Z"
   },
   {
    "duration": 12,
    "start_time": "2022-07-22T05:11:18.011Z"
   },
   {
    "duration": 1136,
    "start_time": "2022-07-22T05:12:14.993Z"
   },
   {
    "duration": 47,
    "start_time": "2022-07-22T05:12:16.131Z"
   },
   {
    "duration": 14,
    "start_time": "2022-07-22T05:12:16.180Z"
   },
   {
    "duration": 23,
    "start_time": "2022-07-22T05:12:16.196Z"
   },
   {
    "duration": 105,
    "start_time": "2022-07-22T05:12:16.221Z"
   },
   {
    "duration": 28,
    "start_time": "2022-07-22T05:12:16.327Z"
   },
   {
    "duration": 7,
    "start_time": "2022-07-22T05:12:16.356Z"
   },
   {
    "duration": 19,
    "start_time": "2022-07-22T05:12:16.365Z"
   },
   {
    "duration": 16,
    "start_time": "2022-07-22T05:12:16.386Z"
   },
   {
    "duration": 27,
    "start_time": "2022-07-22T05:12:16.405Z"
   },
   {
    "duration": 11,
    "start_time": "2022-07-22T05:12:16.434Z"
   },
   {
    "duration": 9,
    "start_time": "2022-07-22T05:12:16.447Z"
   },
   {
    "duration": 4,
    "start_time": "2022-07-22T05:12:16.457Z"
   },
   {
    "duration": 11,
    "start_time": "2022-07-22T05:12:16.463Z"
   },
   {
    "duration": 191,
    "start_time": "2022-07-22T05:12:16.476Z"
   },
   {
    "duration": 181,
    "start_time": "2022-07-22T05:12:16.668Z"
   },
   {
    "duration": 134,
    "start_time": "2022-07-22T05:12:16.851Z"
   },
   {
    "duration": 13,
    "start_time": "2022-07-22T05:12:16.987Z"
   },
   {
    "duration": 340,
    "start_time": "2022-07-22T05:12:17.002Z"
   },
   {
    "duration": 226,
    "start_time": "2022-07-22T05:12:17.344Z"
   },
   {
    "duration": 264,
    "start_time": "2022-07-22T05:12:17.571Z"
   },
   {
    "duration": 354,
    "start_time": "2022-07-22T05:12:17.837Z"
   },
   {
    "duration": 366,
    "start_time": "2022-07-22T05:12:18.193Z"
   },
   {
    "duration": 11,
    "start_time": "2022-07-22T05:12:18.561Z"
   },
   {
    "duration": 156,
    "start_time": "2022-07-22T05:12:18.574Z"
   },
   {
    "duration": 158,
    "start_time": "2022-07-22T05:12:18.732Z"
   },
   {
    "duration": 4,
    "start_time": "2022-07-22T05:12:18.892Z"
   },
   {
    "duration": 155,
    "start_time": "2022-07-22T05:12:18.899Z"
   },
   {
    "duration": 225,
    "start_time": "2022-07-22T05:12:19.056Z"
   },
   {
    "duration": 4,
    "start_time": "2022-07-22T05:12:19.282Z"
   },
   {
    "duration": 39,
    "start_time": "2022-07-22T05:12:19.288Z"
   },
   {
    "duration": 11,
    "start_time": "2022-07-22T05:12:19.328Z"
   },
   {
    "duration": 16,
    "start_time": "2022-07-22T05:12:19.340Z"
   },
   {
    "duration": 20,
    "start_time": "2022-07-22T05:12:19.358Z"
   },
   {
    "duration": 47,
    "start_time": "2022-07-22T05:12:19.379Z"
   }
  ],
  "kernelspec": {
   "display_name": "Python 3 (ipykernel)",
   "language": "python",
   "name": "python3"
  },
  "language_info": {
   "codemirror_mode": {
    "name": "ipython",
    "version": 3
   },
   "file_extension": ".py",
   "mimetype": "text/x-python",
   "name": "python",
   "nbconvert_exporter": "python",
   "pygments_lexer": "ipython3",
   "version": "3.9.7"
  },
  "toc": {
   "base_numbering": 1,
   "nav_menu": {},
   "number_sections": true,
   "sideBar": true,
   "skip_h1_title": true,
   "title_cell": "Table of Contents",
   "title_sidebar": "Contents",
   "toc_cell": true,
   "toc_position": {},
   "toc_section_display": true,
   "toc_window_display": true
  }
 },
 "nbformat": 4,
 "nbformat_minor": 2
}
