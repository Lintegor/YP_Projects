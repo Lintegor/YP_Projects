{
 "cells": [
  {
   "cell_type": "markdown",
   "metadata": {
    "toc": true
   },
   "source": [
    "<h1>Содержание<span class=\"tocSkip\"></span></h1>\n",
    "<div class=\"toc\"><ul class=\"toc-item\"><li><span><a href=\"#Обзор-данных\" data-toc-modified-id=\"Обзор-данных-1\"><span class=\"toc-item-num\">1&nbsp;&nbsp;</span>Обзор данных</a></span></li><li><span><a href=\"#Предобработка-данных\" data-toc-modified-id=\"Предобработка-данных-2\"><span class=\"toc-item-num\">2&nbsp;&nbsp;</span>Предобработка данных</a></span><ul class=\"toc-item\"><li><span><a href=\"#Вывод\" data-toc-modified-id=\"Вывод-2.1\"><span class=\"toc-item-num\">2.1&nbsp;&nbsp;</span>Вывод</a></span></li></ul></li><li><span><a href=\"#Объединение-таблиц\" data-toc-modified-id=\"Объединение-таблиц-3\"><span class=\"toc-item-num\">3&nbsp;&nbsp;</span>Объединение таблиц</a></span><ul class=\"toc-item\"><li><span><a href=\"#Вывод\" data-toc-modified-id=\"Вывод-3.1\"><span class=\"toc-item-num\">3.1&nbsp;&nbsp;</span>Вывод</a></span></li></ul></li><li><span><a href=\"#Добавление-столбцов\" data-toc-modified-id=\"Добавление-столбцов-4\"><span class=\"toc-item-num\">4&nbsp;&nbsp;</span>Добавление столбцов</a></span><ul class=\"toc-item\"><li><span><a href=\"#Оrругление-значений-столбца-mb_used\" data-toc-modified-id=\"Оrругление-значений-столбца-mb_used-4.1\"><span class=\"toc-item-num\">4.1&nbsp;&nbsp;</span>Оrругление значений столбца mb_used</a></span></li><li><span><a href=\"#Добавление-столбца-с-выручкой-с-каждого-пользователя-за-месяц\" data-toc-modified-id=\"Добавление-столбца-с-выручкой-с-каждого-пользователя-за-месяц-4.2\"><span class=\"toc-item-num\">4.2&nbsp;&nbsp;</span>Добавление столбца с выручкой с каждого пользователя за месяц</a></span></li></ul></li><li><span><a href=\"#Анализ-данных\" data-toc-modified-id=\"Анализ-данных-5\"><span class=\"toc-item-num\">5&nbsp;&nbsp;</span>Анализ данных</a></span><ul class=\"toc-item\"><li><span><a href=\"#Количество-минут-разговора\" data-toc-modified-id=\"Количество-минут-разговора-5.1\"><span class=\"toc-item-num\">5.1&nbsp;&nbsp;</span>Количество минут разговора</a></span><ul class=\"toc-item\"><li><span><a href=\"#Вывод\" data-toc-modified-id=\"Вывод-5.1.1\"><span class=\"toc-item-num\">5.1.1&nbsp;&nbsp;</span>Вывод</a></span></li></ul></li><li><span><a href=\"#Количество-сообщений\" data-toc-modified-id=\"Количество-сообщений-5.2\"><span class=\"toc-item-num\">5.2&nbsp;&nbsp;</span>Количество сообщений</a></span><ul class=\"toc-item\"><li><span><a href=\"#Вывод\" data-toc-modified-id=\"Вывод-5.2.1\"><span class=\"toc-item-num\">5.2.1&nbsp;&nbsp;</span>Вывод</a></span></li></ul></li><li><span><a href=\"#Использование-интернета\" data-toc-modified-id=\"Использование-интернета-5.3\"><span class=\"toc-item-num\">5.3&nbsp;&nbsp;</span>Использование интернета</a></span><ul class=\"toc-item\"><li><span><a href=\"#Вывод\" data-toc-modified-id=\"Вывод-5.3.1\"><span class=\"toc-item-num\">5.3.1&nbsp;&nbsp;</span>Вывод</a></span></li></ul></li><li><span><a href=\"#Общий-вывод\" data-toc-modified-id=\"Общий-вывод-5.4\"><span class=\"toc-item-num\">5.4&nbsp;&nbsp;</span>Общий вывод</a></span></li></ul></li><li><span><a href=\"#Проверка-гепотез\" data-toc-modified-id=\"Проверка-гепотез-6\"><span class=\"toc-item-num\">6&nbsp;&nbsp;</span>Проверка гепотез</a></span><ul class=\"toc-item\"><li><span><a href=\"#Гипотеза-1\" data-toc-modified-id=\"Гипотеза-1-6.1\"><span class=\"toc-item-num\">6.1&nbsp;&nbsp;</span>Гипотеза 1</a></span><ul class=\"toc-item\"><li><span><a href=\"#Вывод-по-Гипотезе-1\" data-toc-modified-id=\"Вывод-по-Гипотезе-1-6.1.1\"><span class=\"toc-item-num\">6.1.1&nbsp;&nbsp;</span>Вывод по Гипотезе 1</a></span></li></ul></li><li><span><a href=\"#Гипотеза-2\" data-toc-modified-id=\"Гипотеза-2-6.2\"><span class=\"toc-item-num\">6.2&nbsp;&nbsp;</span>Гипотеза 2</a></span><ul class=\"toc-item\"><li><span><a href=\"#Вывод-по-Гипотезе-2\" data-toc-modified-id=\"Вывод-по-Гипотезе-2-6.2.1\"><span class=\"toc-item-num\">6.2.1&nbsp;&nbsp;</span>Вывод по Гипотезе 2</a></span></li></ul></li></ul></li><li><span><a href=\"#Общий-вывод\" data-toc-modified-id=\"Общий-вывод-7\"><span class=\"toc-item-num\">7&nbsp;&nbsp;</span>Общий вывод</a></span></li></ul></div>"
   ]
  },
  {
   "cell_type": "markdown",
   "metadata": {},
   "source": [
    "# Определение перспективного тарифа для телеком-компании"
   ]
  },
  {
   "cell_type": "markdown",
   "metadata": {},
   "source": [
    "В нашем распоряжении данные 500 пользователей «Мегалайна»: кто они, откуда, каким тарифом пользуются, сколько звонков и сообщений каждый отправил за 2018 год. Нужно проанализировать поведение клиентов и сделать вывод — какой тариф лучше."
   ]
  },
  {
   "cell_type": "code",
   "execution_count": 1,
   "metadata": {},
   "outputs": [],
   "source": [
    "#Импорт библиотек перед началом работы\n",
    "import pandas as pd\n",
    "import numpy as np\n",
    "#изменим дефолтный размер графиков\n",
    "from pylab import rcParams\n",
    "rcParams['figure.figsize'] = 7,5\n",
    "#тема для графиков\n",
    "import seaborn as sns\n",
    "sns.set_theme(style=\"whitegrid\")\n",
    "#для проверки гипотиз\n",
    "from scipy import stats as st"
   ]
  },
  {
   "cell_type": "markdown",
   "metadata": {},
   "source": [
    "## Обзор данных"
   ]
  },
  {
   "cell_type": "code",
   "execution_count": 2,
   "metadata": {},
   "outputs": [],
   "source": [
    "try:\n",
    "    calls = pd.read_csv('/datasets/calls.csv')\n",
    "    internet = pd.read_csv('/datasets/internet.csv')\n",
    "    messages = pd.read_csv('/datasets/messages.csv')\n",
    "    tariffs = pd.read_csv('/datasets/tariffs.csv')\n",
    "    users = pd.read_csv('/datasets/users.csv')\n",
    "except:\n",
    "    calls = pd.read_csv('calls.csv')\n",
    "    internet = pd.read_csv('internet.csv')\n",
    "    messages = pd.read_csv('messages.csv')\n",
    "    tariffs = pd.read_csv('tariffs.csv')\n",
    "    users = pd.read_csv('users.csv')"
   ]
  },
  {
   "cell_type": "code",
   "execution_count": 3,
   "metadata": {},
   "outputs": [
    {
     "name": "stdout",
     "output_type": "stream",
     "text": [
      "<class 'pandas.core.frame.DataFrame'>\n",
      "RangeIndex: 202607 entries, 0 to 202606\n",
      "Data columns (total 4 columns):\n",
      " #   Column     Non-Null Count   Dtype  \n",
      "---  ------     --------------   -----  \n",
      " 0   id         202607 non-null  object \n",
      " 1   call_date  202607 non-null  object \n",
      " 2   duration   202607 non-null  float64\n",
      " 3   user_id    202607 non-null  int64  \n",
      "dtypes: float64(1), int64(1), object(2)\n",
      "memory usage: 6.2+ MB\n"
     ]
    },
    {
     "data": {
      "text/html": [
       "<div>\n",
       "<style scoped>\n",
       "    .dataframe tbody tr th:only-of-type {\n",
       "        vertical-align: middle;\n",
       "    }\n",
       "\n",
       "    .dataframe tbody tr th {\n",
       "        vertical-align: top;\n",
       "    }\n",
       "\n",
       "    .dataframe thead th {\n",
       "        text-align: right;\n",
       "    }\n",
       "</style>\n",
       "<table border=\"1\" class=\"dataframe\">\n",
       "  <thead>\n",
       "    <tr style=\"text-align: right;\">\n",
       "      <th></th>\n",
       "      <th>id</th>\n",
       "      <th>call_date</th>\n",
       "      <th>duration</th>\n",
       "      <th>user_id</th>\n",
       "    </tr>\n",
       "  </thead>\n",
       "  <tbody>\n",
       "    <tr>\n",
       "      <th>0</th>\n",
       "      <td>1000_0</td>\n",
       "      <td>2018-07-25</td>\n",
       "      <td>0.00</td>\n",
       "      <td>1000</td>\n",
       "    </tr>\n",
       "    <tr>\n",
       "      <th>1</th>\n",
       "      <td>1000_1</td>\n",
       "      <td>2018-08-17</td>\n",
       "      <td>0.00</td>\n",
       "      <td>1000</td>\n",
       "    </tr>\n",
       "    <tr>\n",
       "      <th>2</th>\n",
       "      <td>1000_2</td>\n",
       "      <td>2018-06-11</td>\n",
       "      <td>2.85</td>\n",
       "      <td>1000</td>\n",
       "    </tr>\n",
       "    <tr>\n",
       "      <th>3</th>\n",
       "      <td>1000_3</td>\n",
       "      <td>2018-09-21</td>\n",
       "      <td>13.80</td>\n",
       "      <td>1000</td>\n",
       "    </tr>\n",
       "    <tr>\n",
       "      <th>4</th>\n",
       "      <td>1000_4</td>\n",
       "      <td>2018-12-15</td>\n",
       "      <td>5.18</td>\n",
       "      <td>1000</td>\n",
       "    </tr>\n",
       "    <tr>\n",
       "      <th>5</th>\n",
       "      <td>1000_5</td>\n",
       "      <td>2018-11-02</td>\n",
       "      <td>0.00</td>\n",
       "      <td>1000</td>\n",
       "    </tr>\n",
       "    <tr>\n",
       "      <th>6</th>\n",
       "      <td>1000_6</td>\n",
       "      <td>2018-10-18</td>\n",
       "      <td>0.00</td>\n",
       "      <td>1000</td>\n",
       "    </tr>\n",
       "    <tr>\n",
       "      <th>7</th>\n",
       "      <td>1000_7</td>\n",
       "      <td>2018-08-22</td>\n",
       "      <td>18.31</td>\n",
       "      <td>1000</td>\n",
       "    </tr>\n",
       "    <tr>\n",
       "      <th>8</th>\n",
       "      <td>1000_8</td>\n",
       "      <td>2018-09-15</td>\n",
       "      <td>18.44</td>\n",
       "      <td>1000</td>\n",
       "    </tr>\n",
       "    <tr>\n",
       "      <th>9</th>\n",
       "      <td>1000_9</td>\n",
       "      <td>2018-08-15</td>\n",
       "      <td>0.00</td>\n",
       "      <td>1000</td>\n",
       "    </tr>\n",
       "  </tbody>\n",
       "</table>\n",
       "</div>"
      ],
      "text/plain": [
       "       id   call_date  duration  user_id\n",
       "0  1000_0  2018-07-25      0.00     1000\n",
       "1  1000_1  2018-08-17      0.00     1000\n",
       "2  1000_2  2018-06-11      2.85     1000\n",
       "3  1000_3  2018-09-21     13.80     1000\n",
       "4  1000_4  2018-12-15      5.18     1000\n",
       "5  1000_5  2018-11-02      0.00     1000\n",
       "6  1000_6  2018-10-18      0.00     1000\n",
       "7  1000_7  2018-08-22     18.31     1000\n",
       "8  1000_8  2018-09-15     18.44     1000\n",
       "9  1000_9  2018-08-15      0.00     1000"
      ]
     },
     "execution_count": 3,
     "metadata": {},
     "output_type": "execute_result"
    }
   ],
   "source": [
    "calls.info()\n",
    "calls.head(10)"
   ]
  },
  {
   "cell_type": "code",
   "execution_count": 4,
   "metadata": {},
   "outputs": [
    {
     "name": "stdout",
     "output_type": "stream",
     "text": [
      "<class 'pandas.core.frame.DataFrame'>\n",
      "RangeIndex: 149396 entries, 0 to 149395\n",
      "Data columns (total 5 columns):\n",
      " #   Column        Non-Null Count   Dtype  \n",
      "---  ------        --------------   -----  \n",
      " 0   Unnamed: 0    149396 non-null  int64  \n",
      " 1   id            149396 non-null  object \n",
      " 2   mb_used       149396 non-null  float64\n",
      " 3   session_date  149396 non-null  object \n",
      " 4   user_id       149396 non-null  int64  \n",
      "dtypes: float64(1), int64(2), object(2)\n",
      "memory usage: 5.7+ MB\n"
     ]
    },
    {
     "data": {
      "text/html": [
       "<div>\n",
       "<style scoped>\n",
       "    .dataframe tbody tr th:only-of-type {\n",
       "        vertical-align: middle;\n",
       "    }\n",
       "\n",
       "    .dataframe tbody tr th {\n",
       "        vertical-align: top;\n",
       "    }\n",
       "\n",
       "    .dataframe thead th {\n",
       "        text-align: right;\n",
       "    }\n",
       "</style>\n",
       "<table border=\"1\" class=\"dataframe\">\n",
       "  <thead>\n",
       "    <tr style=\"text-align: right;\">\n",
       "      <th></th>\n",
       "      <th>Unnamed: 0</th>\n",
       "      <th>id</th>\n",
       "      <th>mb_used</th>\n",
       "      <th>session_date</th>\n",
       "      <th>user_id</th>\n",
       "    </tr>\n",
       "  </thead>\n",
       "  <tbody>\n",
       "    <tr>\n",
       "      <th>0</th>\n",
       "      <td>0</td>\n",
       "      <td>1000_0</td>\n",
       "      <td>112.95</td>\n",
       "      <td>2018-11-25</td>\n",
       "      <td>1000</td>\n",
       "    </tr>\n",
       "    <tr>\n",
       "      <th>1</th>\n",
       "      <td>1</td>\n",
       "      <td>1000_1</td>\n",
       "      <td>1052.81</td>\n",
       "      <td>2018-09-07</td>\n",
       "      <td>1000</td>\n",
       "    </tr>\n",
       "    <tr>\n",
       "      <th>2</th>\n",
       "      <td>2</td>\n",
       "      <td>1000_2</td>\n",
       "      <td>1197.26</td>\n",
       "      <td>2018-06-25</td>\n",
       "      <td>1000</td>\n",
       "    </tr>\n",
       "    <tr>\n",
       "      <th>3</th>\n",
       "      <td>3</td>\n",
       "      <td>1000_3</td>\n",
       "      <td>550.27</td>\n",
       "      <td>2018-08-22</td>\n",
       "      <td>1000</td>\n",
       "    </tr>\n",
       "    <tr>\n",
       "      <th>4</th>\n",
       "      <td>4</td>\n",
       "      <td>1000_4</td>\n",
       "      <td>302.56</td>\n",
       "      <td>2018-09-24</td>\n",
       "      <td>1000</td>\n",
       "    </tr>\n",
       "  </tbody>\n",
       "</table>\n",
       "</div>"
      ],
      "text/plain": [
       "   Unnamed: 0      id  mb_used session_date  user_id\n",
       "0           0  1000_0   112.95   2018-11-25     1000\n",
       "1           1  1000_1  1052.81   2018-09-07     1000\n",
       "2           2  1000_2  1197.26   2018-06-25     1000\n",
       "3           3  1000_3   550.27   2018-08-22     1000\n",
       "4           4  1000_4   302.56   2018-09-24     1000"
      ]
     },
     "execution_count": 4,
     "metadata": {},
     "output_type": "execute_result"
    }
   ],
   "source": [
    "internet.info()\n",
    "internet.head()"
   ]
  },
  {
   "cell_type": "code",
   "execution_count": 5,
   "metadata": {},
   "outputs": [
    {
     "name": "stdout",
     "output_type": "stream",
     "text": [
      "<class 'pandas.core.frame.DataFrame'>\n",
      "RangeIndex: 123036 entries, 0 to 123035\n",
      "Data columns (total 3 columns):\n",
      " #   Column        Non-Null Count   Dtype \n",
      "---  ------        --------------   ----- \n",
      " 0   id            123036 non-null  object\n",
      " 1   message_date  123036 non-null  object\n",
      " 2   user_id       123036 non-null  int64 \n",
      "dtypes: int64(1), object(2)\n",
      "memory usage: 2.8+ MB\n"
     ]
    },
    {
     "data": {
      "text/html": [
       "<div>\n",
       "<style scoped>\n",
       "    .dataframe tbody tr th:only-of-type {\n",
       "        vertical-align: middle;\n",
       "    }\n",
       "\n",
       "    .dataframe tbody tr th {\n",
       "        vertical-align: top;\n",
       "    }\n",
       "\n",
       "    .dataframe thead th {\n",
       "        text-align: right;\n",
       "    }\n",
       "</style>\n",
       "<table border=\"1\" class=\"dataframe\">\n",
       "  <thead>\n",
       "    <tr style=\"text-align: right;\">\n",
       "      <th></th>\n",
       "      <th>id</th>\n",
       "      <th>message_date</th>\n",
       "      <th>user_id</th>\n",
       "    </tr>\n",
       "  </thead>\n",
       "  <tbody>\n",
       "    <tr>\n",
       "      <th>0</th>\n",
       "      <td>1000_0</td>\n",
       "      <td>2018-06-27</td>\n",
       "      <td>1000</td>\n",
       "    </tr>\n",
       "    <tr>\n",
       "      <th>1</th>\n",
       "      <td>1000_1</td>\n",
       "      <td>2018-10-08</td>\n",
       "      <td>1000</td>\n",
       "    </tr>\n",
       "    <tr>\n",
       "      <th>2</th>\n",
       "      <td>1000_2</td>\n",
       "      <td>2018-08-04</td>\n",
       "      <td>1000</td>\n",
       "    </tr>\n",
       "    <tr>\n",
       "      <th>3</th>\n",
       "      <td>1000_3</td>\n",
       "      <td>2018-06-16</td>\n",
       "      <td>1000</td>\n",
       "    </tr>\n",
       "    <tr>\n",
       "      <th>4</th>\n",
       "      <td>1000_4</td>\n",
       "      <td>2018-12-05</td>\n",
       "      <td>1000</td>\n",
       "    </tr>\n",
       "  </tbody>\n",
       "</table>\n",
       "</div>"
      ],
      "text/plain": [
       "       id message_date  user_id\n",
       "0  1000_0   2018-06-27     1000\n",
       "1  1000_1   2018-10-08     1000\n",
       "2  1000_2   2018-08-04     1000\n",
       "3  1000_3   2018-06-16     1000\n",
       "4  1000_4   2018-12-05     1000"
      ]
     },
     "execution_count": 5,
     "metadata": {},
     "output_type": "execute_result"
    }
   ],
   "source": [
    "messages.info()\n",
    "messages.head()"
   ]
  },
  {
   "cell_type": "code",
   "execution_count": 6,
   "metadata": {},
   "outputs": [
    {
     "name": "stdout",
     "output_type": "stream",
     "text": [
      "<class 'pandas.core.frame.DataFrame'>\n",
      "RangeIndex: 2 entries, 0 to 1\n",
      "Data columns (total 8 columns):\n",
      " #   Column                 Non-Null Count  Dtype \n",
      "---  ------                 --------------  ----- \n",
      " 0   messages_included      2 non-null      int64 \n",
      " 1   mb_per_month_included  2 non-null      int64 \n",
      " 2   minutes_included       2 non-null      int64 \n",
      " 3   rub_monthly_fee        2 non-null      int64 \n",
      " 4   rub_per_gb             2 non-null      int64 \n",
      " 5   rub_per_message        2 non-null      int64 \n",
      " 6   rub_per_minute         2 non-null      int64 \n",
      " 7   tariff_name            2 non-null      object\n",
      "dtypes: int64(7), object(1)\n",
      "memory usage: 256.0+ bytes\n"
     ]
    },
    {
     "data": {
      "text/html": [
       "<div>\n",
       "<style scoped>\n",
       "    .dataframe tbody tr th:only-of-type {\n",
       "        vertical-align: middle;\n",
       "    }\n",
       "\n",
       "    .dataframe tbody tr th {\n",
       "        vertical-align: top;\n",
       "    }\n",
       "\n",
       "    .dataframe thead th {\n",
       "        text-align: right;\n",
       "    }\n",
       "</style>\n",
       "<table border=\"1\" class=\"dataframe\">\n",
       "  <thead>\n",
       "    <tr style=\"text-align: right;\">\n",
       "      <th></th>\n",
       "      <th>messages_included</th>\n",
       "      <th>mb_per_month_included</th>\n",
       "      <th>minutes_included</th>\n",
       "      <th>rub_monthly_fee</th>\n",
       "      <th>rub_per_gb</th>\n",
       "      <th>rub_per_message</th>\n",
       "      <th>rub_per_minute</th>\n",
       "      <th>tariff_name</th>\n",
       "    </tr>\n",
       "  </thead>\n",
       "  <tbody>\n",
       "    <tr>\n",
       "      <th>0</th>\n",
       "      <td>50</td>\n",
       "      <td>15360</td>\n",
       "      <td>500</td>\n",
       "      <td>550</td>\n",
       "      <td>200</td>\n",
       "      <td>3</td>\n",
       "      <td>3</td>\n",
       "      <td>smart</td>\n",
       "    </tr>\n",
       "    <tr>\n",
       "      <th>1</th>\n",
       "      <td>1000</td>\n",
       "      <td>30720</td>\n",
       "      <td>3000</td>\n",
       "      <td>1950</td>\n",
       "      <td>150</td>\n",
       "      <td>1</td>\n",
       "      <td>1</td>\n",
       "      <td>ultra</td>\n",
       "    </tr>\n",
       "  </tbody>\n",
       "</table>\n",
       "</div>"
      ],
      "text/plain": [
       "   messages_included  mb_per_month_included  minutes_included  \\\n",
       "0                 50                  15360               500   \n",
       "1               1000                  30720              3000   \n",
       "\n",
       "   rub_monthly_fee  rub_per_gb  rub_per_message  rub_per_minute tariff_name  \n",
       "0              550         200                3               3       smart  \n",
       "1             1950         150                1               1       ultra  "
      ]
     },
     "execution_count": 6,
     "metadata": {},
     "output_type": "execute_result"
    }
   ],
   "source": [
    "tariffs.info()\n",
    "tariffs.head()"
   ]
  },
  {
   "cell_type": "code",
   "execution_count": 7,
   "metadata": {},
   "outputs": [
    {
     "name": "stdout",
     "output_type": "stream",
     "text": [
      "<class 'pandas.core.frame.DataFrame'>\n",
      "RangeIndex: 500 entries, 0 to 499\n",
      "Data columns (total 8 columns):\n",
      " #   Column      Non-Null Count  Dtype \n",
      "---  ------      --------------  ----- \n",
      " 0   user_id     500 non-null    int64 \n",
      " 1   age         500 non-null    int64 \n",
      " 2   churn_date  38 non-null     object\n",
      " 3   city        500 non-null    object\n",
      " 4   first_name  500 non-null    object\n",
      " 5   last_name   500 non-null    object\n",
      " 6   reg_date    500 non-null    object\n",
      " 7   tariff      500 non-null    object\n",
      "dtypes: int64(2), object(6)\n",
      "memory usage: 31.4+ KB\n"
     ]
    },
    {
     "data": {
      "text/html": [
       "<div>\n",
       "<style scoped>\n",
       "    .dataframe tbody tr th:only-of-type {\n",
       "        vertical-align: middle;\n",
       "    }\n",
       "\n",
       "    .dataframe tbody tr th {\n",
       "        vertical-align: top;\n",
       "    }\n",
       "\n",
       "    .dataframe thead th {\n",
       "        text-align: right;\n",
       "    }\n",
       "</style>\n",
       "<table border=\"1\" class=\"dataframe\">\n",
       "  <thead>\n",
       "    <tr style=\"text-align: right;\">\n",
       "      <th></th>\n",
       "      <th>user_id</th>\n",
       "      <th>age</th>\n",
       "      <th>churn_date</th>\n",
       "      <th>city</th>\n",
       "      <th>first_name</th>\n",
       "      <th>last_name</th>\n",
       "      <th>reg_date</th>\n",
       "      <th>tariff</th>\n",
       "    </tr>\n",
       "  </thead>\n",
       "  <tbody>\n",
       "    <tr>\n",
       "      <th>0</th>\n",
       "      <td>1000</td>\n",
       "      <td>52</td>\n",
       "      <td>NaN</td>\n",
       "      <td>Краснодар</td>\n",
       "      <td>Рафаил</td>\n",
       "      <td>Верещагин</td>\n",
       "      <td>2018-05-25</td>\n",
       "      <td>ultra</td>\n",
       "    </tr>\n",
       "    <tr>\n",
       "      <th>1</th>\n",
       "      <td>1001</td>\n",
       "      <td>41</td>\n",
       "      <td>NaN</td>\n",
       "      <td>Москва</td>\n",
       "      <td>Иван</td>\n",
       "      <td>Ежов</td>\n",
       "      <td>2018-11-01</td>\n",
       "      <td>smart</td>\n",
       "    </tr>\n",
       "    <tr>\n",
       "      <th>2</th>\n",
       "      <td>1002</td>\n",
       "      <td>59</td>\n",
       "      <td>NaN</td>\n",
       "      <td>Стерлитамак</td>\n",
       "      <td>Евгений</td>\n",
       "      <td>Абрамович</td>\n",
       "      <td>2018-06-17</td>\n",
       "      <td>smart</td>\n",
       "    </tr>\n",
       "    <tr>\n",
       "      <th>3</th>\n",
       "      <td>1003</td>\n",
       "      <td>23</td>\n",
       "      <td>NaN</td>\n",
       "      <td>Москва</td>\n",
       "      <td>Белла</td>\n",
       "      <td>Белякова</td>\n",
       "      <td>2018-08-17</td>\n",
       "      <td>ultra</td>\n",
       "    </tr>\n",
       "    <tr>\n",
       "      <th>4</th>\n",
       "      <td>1004</td>\n",
       "      <td>68</td>\n",
       "      <td>NaN</td>\n",
       "      <td>Новокузнецк</td>\n",
       "      <td>Татьяна</td>\n",
       "      <td>Авдеенко</td>\n",
       "      <td>2018-05-14</td>\n",
       "      <td>ultra</td>\n",
       "    </tr>\n",
       "  </tbody>\n",
       "</table>\n",
       "</div>"
      ],
      "text/plain": [
       "   user_id  age churn_date         city first_name  last_name    reg_date  \\\n",
       "0     1000   52        NaN    Краснодар     Рафаил  Верещагин  2018-05-25   \n",
       "1     1001   41        NaN       Москва       Иван       Ежов  2018-11-01   \n",
       "2     1002   59        NaN  Стерлитамак    Евгений  Абрамович  2018-06-17   \n",
       "3     1003   23        NaN       Москва      Белла   Белякова  2018-08-17   \n",
       "4     1004   68        NaN  Новокузнецк    Татьяна   Авдеенко  2018-05-14   \n",
       "\n",
       "  tariff  \n",
       "0  ultra  \n",
       "1  smart  \n",
       "2  smart  \n",
       "3  ultra  \n",
       "4  ultra  "
      ]
     },
     "execution_count": 7,
     "metadata": {},
     "output_type": "execute_result"
    }
   ],
   "source": [
    "users.info()\n",
    "users.head()"
   ]
  },
  {
   "cell_type": "markdown",
   "metadata": {},
   "source": [
    "## Предобработка данных"
   ]
  },
  {
   "cell_type": "markdown",
   "metadata": {},
   "source": [
    "Разберём каждый датафрейм, проведём предобработку данных. Начнём с датафрейма **calls**, изменим тип данных **call_dat**e на **datetime**, а длительность звонков округлим в большую сторону в соответствии с условиями тарифов. Затем методом **describe** проверим нет ли проблем в значениях, если они есть то попытаемся исправить. Так же добавим столбец с номером месяца."
   ]
  },
  {
   "cell_type": "code",
   "execution_count": 8,
   "metadata": {},
   "outputs": [
    {
     "name": "stdout",
     "output_type": "stream",
     "text": [
      "Количество дубликатов - 0\n"
     ]
    },
    {
     "data": {
      "text/html": [
       "<div>\n",
       "<style scoped>\n",
       "    .dataframe tbody tr th:only-of-type {\n",
       "        vertical-align: middle;\n",
       "    }\n",
       "\n",
       "    .dataframe tbody tr th {\n",
       "        vertical-align: top;\n",
       "    }\n",
       "\n",
       "    .dataframe thead th {\n",
       "        text-align: right;\n",
       "    }\n",
       "</style>\n",
       "<table border=\"1\" class=\"dataframe\">\n",
       "  <thead>\n",
       "    <tr style=\"text-align: right;\">\n",
       "      <th></th>\n",
       "      <th>duration</th>\n",
       "      <th>user_id</th>\n",
       "    </tr>\n",
       "  </thead>\n",
       "  <tbody>\n",
       "    <tr>\n",
       "      <th>count</th>\n",
       "      <td>202607.000000</td>\n",
       "      <td>202607.000000</td>\n",
       "    </tr>\n",
       "    <tr>\n",
       "      <th>mean</th>\n",
       "      <td>6.755887</td>\n",
       "      <td>1253.940619</td>\n",
       "    </tr>\n",
       "    <tr>\n",
       "      <th>std</th>\n",
       "      <td>5.843365</td>\n",
       "      <td>144.722751</td>\n",
       "    </tr>\n",
       "    <tr>\n",
       "      <th>min</th>\n",
       "      <td>0.000000</td>\n",
       "      <td>1000.000000</td>\n",
       "    </tr>\n",
       "    <tr>\n",
       "      <th>25%</th>\n",
       "      <td>1.300000</td>\n",
       "      <td>1126.000000</td>\n",
       "    </tr>\n",
       "    <tr>\n",
       "      <th>50%</th>\n",
       "      <td>6.000000</td>\n",
       "      <td>1260.000000</td>\n",
       "    </tr>\n",
       "    <tr>\n",
       "      <th>75%</th>\n",
       "      <td>10.700000</td>\n",
       "      <td>1379.000000</td>\n",
       "    </tr>\n",
       "    <tr>\n",
       "      <th>max</th>\n",
       "      <td>38.000000</td>\n",
       "      <td>1499.000000</td>\n",
       "    </tr>\n",
       "  </tbody>\n",
       "</table>\n",
       "</div>"
      ],
      "text/plain": [
       "            duration        user_id\n",
       "count  202607.000000  202607.000000\n",
       "mean        6.755887    1253.940619\n",
       "std         5.843365     144.722751\n",
       "min         0.000000    1000.000000\n",
       "25%         1.300000    1126.000000\n",
       "50%         6.000000    1260.000000\n",
       "75%        10.700000    1379.000000\n",
       "max        38.000000    1499.000000"
      ]
     },
     "execution_count": 8,
     "metadata": {},
     "output_type": "execute_result"
    }
   ],
   "source": [
    "#calls\n",
    "calls.call_date = pd.to_datetime(calls.call_date, format='%Y-%m-%d')\n",
    "np.ceil(calls.duration).astype('int')\n",
    "print(f'Количество дубликатов - {calls.duplicated().sum()}')\n",
    "calls.describe()"
   ]
  },
  {
   "cell_type": "code",
   "execution_count": 9,
   "metadata": {},
   "outputs": [
    {
     "data": {
      "text/html": [
       "<div>\n",
       "<style scoped>\n",
       "    .dataframe tbody tr th:only-of-type {\n",
       "        vertical-align: middle;\n",
       "    }\n",
       "\n",
       "    .dataframe tbody tr th {\n",
       "        vertical-align: top;\n",
       "    }\n",
       "\n",
       "    .dataframe thead th {\n",
       "        text-align: right;\n",
       "    }\n",
       "</style>\n",
       "<table border=\"1\" class=\"dataframe\">\n",
       "  <thead>\n",
       "    <tr style=\"text-align: right;\">\n",
       "      <th></th>\n",
       "      <th>id</th>\n",
       "      <th>call_date</th>\n",
       "      <th>duration</th>\n",
       "      <th>user_id</th>\n",
       "      <th>month</th>\n",
       "    </tr>\n",
       "  </thead>\n",
       "  <tbody>\n",
       "    <tr>\n",
       "      <th>0</th>\n",
       "      <td>1000_0</td>\n",
       "      <td>2018-07-25</td>\n",
       "      <td>0.00</td>\n",
       "      <td>1000</td>\n",
       "      <td>7</td>\n",
       "    </tr>\n",
       "    <tr>\n",
       "      <th>1</th>\n",
       "      <td>1000_1</td>\n",
       "      <td>2018-08-17</td>\n",
       "      <td>0.00</td>\n",
       "      <td>1000</td>\n",
       "      <td>8</td>\n",
       "    </tr>\n",
       "    <tr>\n",
       "      <th>2</th>\n",
       "      <td>1000_2</td>\n",
       "      <td>2018-06-11</td>\n",
       "      <td>2.85</td>\n",
       "      <td>1000</td>\n",
       "      <td>6</td>\n",
       "    </tr>\n",
       "    <tr>\n",
       "      <th>3</th>\n",
       "      <td>1000_3</td>\n",
       "      <td>2018-09-21</td>\n",
       "      <td>13.80</td>\n",
       "      <td>1000</td>\n",
       "      <td>9</td>\n",
       "    </tr>\n",
       "    <tr>\n",
       "      <th>4</th>\n",
       "      <td>1000_4</td>\n",
       "      <td>2018-12-15</td>\n",
       "      <td>5.18</td>\n",
       "      <td>1000</td>\n",
       "      <td>12</td>\n",
       "    </tr>\n",
       "  </tbody>\n",
       "</table>\n",
       "</div>"
      ],
      "text/plain": [
       "       id  call_date  duration  user_id  month\n",
       "0  1000_0 2018-07-25      0.00     1000      7\n",
       "1  1000_1 2018-08-17      0.00     1000      8\n",
       "2  1000_2 2018-06-11      2.85     1000      6\n",
       "3  1000_3 2018-09-21     13.80     1000      9\n",
       "4  1000_4 2018-12-15      5.18     1000     12"
      ]
     },
     "execution_count": 9,
     "metadata": {},
     "output_type": "execute_result"
    }
   ],
   "source": [
    "calls['month'] = calls.call_date.dt.month\n",
    "calls.head()"
   ]
  },
  {
   "cell_type": "markdown",
   "metadata": {},
   "source": [
    "В датафрейме **internet** имеется столбец **Unnamed: 0**, который повторяет индекс, его можно удалить. Так же приведём столбец **session_date** к типу **datetime**. Затем методом describe проверим нет ли проблем в значениях, если они есть то попытаемся исправить. Так же добавим столбец с номером месяца."
   ]
  },
  {
   "cell_type": "code",
   "execution_count": 10,
   "metadata": {},
   "outputs": [
    {
     "name": "stdout",
     "output_type": "stream",
     "text": [
      "Количество дубликатов - 0\n"
     ]
    },
    {
     "data": {
      "text/html": [
       "<div>\n",
       "<style scoped>\n",
       "    .dataframe tbody tr th:only-of-type {\n",
       "        vertical-align: middle;\n",
       "    }\n",
       "\n",
       "    .dataframe tbody tr th {\n",
       "        vertical-align: top;\n",
       "    }\n",
       "\n",
       "    .dataframe thead th {\n",
       "        text-align: right;\n",
       "    }\n",
       "</style>\n",
       "<table border=\"1\" class=\"dataframe\">\n",
       "  <thead>\n",
       "    <tr style=\"text-align: right;\">\n",
       "      <th></th>\n",
       "      <th>mb_used</th>\n",
       "      <th>user_id</th>\n",
       "    </tr>\n",
       "  </thead>\n",
       "  <tbody>\n",
       "    <tr>\n",
       "      <th>count</th>\n",
       "      <td>149396.000000</td>\n",
       "      <td>149396.000000</td>\n",
       "    </tr>\n",
       "    <tr>\n",
       "      <th>mean</th>\n",
       "      <td>370.192426</td>\n",
       "      <td>1252.099842</td>\n",
       "    </tr>\n",
       "    <tr>\n",
       "      <th>std</th>\n",
       "      <td>278.300951</td>\n",
       "      <td>144.050823</td>\n",
       "    </tr>\n",
       "    <tr>\n",
       "      <th>min</th>\n",
       "      <td>0.000000</td>\n",
       "      <td>1000.000000</td>\n",
       "    </tr>\n",
       "    <tr>\n",
       "      <th>25%</th>\n",
       "      <td>138.187500</td>\n",
       "      <td>1130.000000</td>\n",
       "    </tr>\n",
       "    <tr>\n",
       "      <th>50%</th>\n",
       "      <td>348.015000</td>\n",
       "      <td>1251.000000</td>\n",
       "    </tr>\n",
       "    <tr>\n",
       "      <th>75%</th>\n",
       "      <td>559.552500</td>\n",
       "      <td>1380.000000</td>\n",
       "    </tr>\n",
       "    <tr>\n",
       "      <th>max</th>\n",
       "      <td>1724.830000</td>\n",
       "      <td>1499.000000</td>\n",
       "    </tr>\n",
       "  </tbody>\n",
       "</table>\n",
       "</div>"
      ],
      "text/plain": [
       "             mb_used        user_id\n",
       "count  149396.000000  149396.000000\n",
       "mean      370.192426    1252.099842\n",
       "std       278.300951     144.050823\n",
       "min         0.000000    1000.000000\n",
       "25%       138.187500    1130.000000\n",
       "50%       348.015000    1251.000000\n",
       "75%       559.552500    1380.000000\n",
       "max      1724.830000    1499.000000"
      ]
     },
     "execution_count": 10,
     "metadata": {},
     "output_type": "execute_result"
    }
   ],
   "source": [
    "#inernet\n",
    "del internet['Unnamed: 0']\n",
    "internet.session_date = pd.to_datetime(internet.session_date, format='%Y-%m-%d')\n",
    "print(f'Количество дубликатов - {internet.duplicated().sum()}')\n",
    "internet.describe()"
   ]
  },
  {
   "cell_type": "code",
   "execution_count": 11,
   "metadata": {},
   "outputs": [
    {
     "data": {
      "text/html": [
       "<div>\n",
       "<style scoped>\n",
       "    .dataframe tbody tr th:only-of-type {\n",
       "        vertical-align: middle;\n",
       "    }\n",
       "\n",
       "    .dataframe tbody tr th {\n",
       "        vertical-align: top;\n",
       "    }\n",
       "\n",
       "    .dataframe thead th {\n",
       "        text-align: right;\n",
       "    }\n",
       "</style>\n",
       "<table border=\"1\" class=\"dataframe\">\n",
       "  <thead>\n",
       "    <tr style=\"text-align: right;\">\n",
       "      <th></th>\n",
       "      <th>id</th>\n",
       "      <th>mb_used</th>\n",
       "      <th>session_date</th>\n",
       "      <th>user_id</th>\n",
       "      <th>month</th>\n",
       "    </tr>\n",
       "  </thead>\n",
       "  <tbody>\n",
       "    <tr>\n",
       "      <th>0</th>\n",
       "      <td>1000_0</td>\n",
       "      <td>112.95</td>\n",
       "      <td>2018-11-25</td>\n",
       "      <td>1000</td>\n",
       "      <td>11</td>\n",
       "    </tr>\n",
       "    <tr>\n",
       "      <th>1</th>\n",
       "      <td>1000_1</td>\n",
       "      <td>1052.81</td>\n",
       "      <td>2018-09-07</td>\n",
       "      <td>1000</td>\n",
       "      <td>9</td>\n",
       "    </tr>\n",
       "    <tr>\n",
       "      <th>2</th>\n",
       "      <td>1000_2</td>\n",
       "      <td>1197.26</td>\n",
       "      <td>2018-06-25</td>\n",
       "      <td>1000</td>\n",
       "      <td>6</td>\n",
       "    </tr>\n",
       "    <tr>\n",
       "      <th>3</th>\n",
       "      <td>1000_3</td>\n",
       "      <td>550.27</td>\n",
       "      <td>2018-08-22</td>\n",
       "      <td>1000</td>\n",
       "      <td>8</td>\n",
       "    </tr>\n",
       "    <tr>\n",
       "      <th>4</th>\n",
       "      <td>1000_4</td>\n",
       "      <td>302.56</td>\n",
       "      <td>2018-09-24</td>\n",
       "      <td>1000</td>\n",
       "      <td>9</td>\n",
       "    </tr>\n",
       "  </tbody>\n",
       "</table>\n",
       "</div>"
      ],
      "text/plain": [
       "       id  mb_used session_date  user_id  month\n",
       "0  1000_0   112.95   2018-11-25     1000     11\n",
       "1  1000_1  1052.81   2018-09-07     1000      9\n",
       "2  1000_2  1197.26   2018-06-25     1000      6\n",
       "3  1000_3   550.27   2018-08-22     1000      8\n",
       "4  1000_4   302.56   2018-09-24     1000      9"
      ]
     },
     "execution_count": 11,
     "metadata": {},
     "output_type": "execute_result"
    }
   ],
   "source": [
    "internet['month'] = internet.session_date.dt.month\n",
    "internet.head()"
   ]
  },
  {
   "cell_type": "markdown",
   "metadata": {},
   "source": [
    "В датафрейме messages приведём столбец **message_date** к типу данных **datetime**.Так же добавим столбец с номером месяца."
   ]
  },
  {
   "cell_type": "code",
   "execution_count": 12,
   "metadata": {},
   "outputs": [
    {
     "name": "stdout",
     "output_type": "stream",
     "text": [
      "Количество дубликатов - 0\n"
     ]
    },
    {
     "data": {
      "text/html": [
       "<div>\n",
       "<style scoped>\n",
       "    .dataframe tbody tr th:only-of-type {\n",
       "        vertical-align: middle;\n",
       "    }\n",
       "\n",
       "    .dataframe tbody tr th {\n",
       "        vertical-align: top;\n",
       "    }\n",
       "\n",
       "    .dataframe thead th {\n",
       "        text-align: right;\n",
       "    }\n",
       "</style>\n",
       "<table border=\"1\" class=\"dataframe\">\n",
       "  <thead>\n",
       "    <tr style=\"text-align: right;\">\n",
       "      <th></th>\n",
       "      <th>id</th>\n",
       "      <th>message_date</th>\n",
       "      <th>user_id</th>\n",
       "      <th>month</th>\n",
       "    </tr>\n",
       "  </thead>\n",
       "  <tbody>\n",
       "    <tr>\n",
       "      <th>0</th>\n",
       "      <td>1000_0</td>\n",
       "      <td>2018-06-27</td>\n",
       "      <td>1000</td>\n",
       "      <td>6</td>\n",
       "    </tr>\n",
       "    <tr>\n",
       "      <th>1</th>\n",
       "      <td>1000_1</td>\n",
       "      <td>2018-10-08</td>\n",
       "      <td>1000</td>\n",
       "      <td>10</td>\n",
       "    </tr>\n",
       "    <tr>\n",
       "      <th>2</th>\n",
       "      <td>1000_2</td>\n",
       "      <td>2018-08-04</td>\n",
       "      <td>1000</td>\n",
       "      <td>8</td>\n",
       "    </tr>\n",
       "    <tr>\n",
       "      <th>3</th>\n",
       "      <td>1000_3</td>\n",
       "      <td>2018-06-16</td>\n",
       "      <td>1000</td>\n",
       "      <td>6</td>\n",
       "    </tr>\n",
       "    <tr>\n",
       "      <th>4</th>\n",
       "      <td>1000_4</td>\n",
       "      <td>2018-12-05</td>\n",
       "      <td>1000</td>\n",
       "      <td>12</td>\n",
       "    </tr>\n",
       "  </tbody>\n",
       "</table>\n",
       "</div>"
      ],
      "text/plain": [
       "       id message_date  user_id  month\n",
       "0  1000_0   2018-06-27     1000      6\n",
       "1  1000_1   2018-10-08     1000     10\n",
       "2  1000_2   2018-08-04     1000      8\n",
       "3  1000_3   2018-06-16     1000      6\n",
       "4  1000_4   2018-12-05     1000     12"
      ]
     },
     "execution_count": 12,
     "metadata": {},
     "output_type": "execute_result"
    }
   ],
   "source": [
    "messages.message_date = pd.to_datetime(messages.message_date, format='%Y-%m-%d')\n",
    "print(f'Количество дубликатов - {messages.duplicated().sum()}')\n",
    "messages['month'] = messages.message_date.dt.month\n",
    "messages.head()"
   ]
  },
  {
   "cell_type": "markdown",
   "metadata": {},
   "source": [
    "В датафрейме users приведём столбцы **reg_date** и **churn_date** к типу данных **datetime**. Но сначало заполним все пропущенные значения **churn_date** на 0"
   ]
  },
  {
   "cell_type": "code",
   "execution_count": 13,
   "metadata": {},
   "outputs": [
    {
     "name": "stdout",
     "output_type": "stream",
     "text": [
      "Количество дубликатов - 0\n"
     ]
    },
    {
     "data": {
      "text/html": [
       "<div>\n",
       "<style scoped>\n",
       "    .dataframe tbody tr th:only-of-type {\n",
       "        vertical-align: middle;\n",
       "    }\n",
       "\n",
       "    .dataframe tbody tr th {\n",
       "        vertical-align: top;\n",
       "    }\n",
       "\n",
       "    .dataframe thead th {\n",
       "        text-align: right;\n",
       "    }\n",
       "</style>\n",
       "<table border=\"1\" class=\"dataframe\">\n",
       "  <thead>\n",
       "    <tr style=\"text-align: right;\">\n",
       "      <th></th>\n",
       "      <th>user_id</th>\n",
       "      <th>age</th>\n",
       "    </tr>\n",
       "  </thead>\n",
       "  <tbody>\n",
       "    <tr>\n",
       "      <th>count</th>\n",
       "      <td>500.000000</td>\n",
       "      <td>500.00000</td>\n",
       "    </tr>\n",
       "    <tr>\n",
       "      <th>mean</th>\n",
       "      <td>1249.500000</td>\n",
       "      <td>46.58800</td>\n",
       "    </tr>\n",
       "    <tr>\n",
       "      <th>std</th>\n",
       "      <td>144.481833</td>\n",
       "      <td>16.66763</td>\n",
       "    </tr>\n",
       "    <tr>\n",
       "      <th>min</th>\n",
       "      <td>1000.000000</td>\n",
       "      <td>18.00000</td>\n",
       "    </tr>\n",
       "    <tr>\n",
       "      <th>25%</th>\n",
       "      <td>1124.750000</td>\n",
       "      <td>32.00000</td>\n",
       "    </tr>\n",
       "    <tr>\n",
       "      <th>50%</th>\n",
       "      <td>1249.500000</td>\n",
       "      <td>46.00000</td>\n",
       "    </tr>\n",
       "    <tr>\n",
       "      <th>75%</th>\n",
       "      <td>1374.250000</td>\n",
       "      <td>62.00000</td>\n",
       "    </tr>\n",
       "    <tr>\n",
       "      <th>max</th>\n",
       "      <td>1499.000000</td>\n",
       "      <td>75.00000</td>\n",
       "    </tr>\n",
       "  </tbody>\n",
       "</table>\n",
       "</div>"
      ],
      "text/plain": [
       "           user_id        age\n",
       "count   500.000000  500.00000\n",
       "mean   1249.500000   46.58800\n",
       "std     144.481833   16.66763\n",
       "min    1000.000000   18.00000\n",
       "25%    1124.750000   32.00000\n",
       "50%    1249.500000   46.00000\n",
       "75%    1374.250000   62.00000\n",
       "max    1499.000000   75.00000"
      ]
     },
     "execution_count": 13,
     "metadata": {},
     "output_type": "execute_result"
    }
   ],
   "source": [
    "users.reg_date = pd.to_datetime(users.reg_date, format='%Y-%m-%d')\n",
    "users.churn_date = users.churn_date.fillna(0)\n",
    "users.churn_date = pd.to_datetime(users.churn_date, format='%Y-%m-%d')\n",
    "print(f'Количество дубликатов - {users.duplicated().sum()}')\n",
    "users.describe()"
   ]
  },
  {
   "cell_type": "code",
   "execution_count": 14,
   "metadata": {},
   "outputs": [
    {
     "data": {
      "text/html": [
       "<div>\n",
       "<style scoped>\n",
       "    .dataframe tbody tr th:only-of-type {\n",
       "        vertical-align: middle;\n",
       "    }\n",
       "\n",
       "    .dataframe tbody tr th {\n",
       "        vertical-align: top;\n",
       "    }\n",
       "\n",
       "    .dataframe thead th {\n",
       "        text-align: right;\n",
       "    }\n",
       "</style>\n",
       "<table border=\"1\" class=\"dataframe\">\n",
       "  <thead>\n",
       "    <tr style=\"text-align: right;\">\n",
       "      <th></th>\n",
       "      <th>user_id</th>\n",
       "      <th>age</th>\n",
       "      <th>churn_date</th>\n",
       "      <th>city</th>\n",
       "      <th>first_name</th>\n",
       "      <th>last_name</th>\n",
       "      <th>reg_date</th>\n",
       "      <th>tariff</th>\n",
       "      <th>reg_month</th>\n",
       "    </tr>\n",
       "  </thead>\n",
       "  <tbody>\n",
       "    <tr>\n",
       "      <th>0</th>\n",
       "      <td>1000</td>\n",
       "      <td>52</td>\n",
       "      <td>1970-01-01</td>\n",
       "      <td>Краснодар</td>\n",
       "      <td>Рафаил</td>\n",
       "      <td>Верещагин</td>\n",
       "      <td>2018-05-25</td>\n",
       "      <td>ultra</td>\n",
       "      <td>5</td>\n",
       "    </tr>\n",
       "    <tr>\n",
       "      <th>1</th>\n",
       "      <td>1001</td>\n",
       "      <td>41</td>\n",
       "      <td>1970-01-01</td>\n",
       "      <td>Москва</td>\n",
       "      <td>Иван</td>\n",
       "      <td>Ежов</td>\n",
       "      <td>2018-11-01</td>\n",
       "      <td>smart</td>\n",
       "      <td>11</td>\n",
       "    </tr>\n",
       "    <tr>\n",
       "      <th>2</th>\n",
       "      <td>1002</td>\n",
       "      <td>59</td>\n",
       "      <td>1970-01-01</td>\n",
       "      <td>Стерлитамак</td>\n",
       "      <td>Евгений</td>\n",
       "      <td>Абрамович</td>\n",
       "      <td>2018-06-17</td>\n",
       "      <td>smart</td>\n",
       "      <td>6</td>\n",
       "    </tr>\n",
       "    <tr>\n",
       "      <th>3</th>\n",
       "      <td>1003</td>\n",
       "      <td>23</td>\n",
       "      <td>1970-01-01</td>\n",
       "      <td>Москва</td>\n",
       "      <td>Белла</td>\n",
       "      <td>Белякова</td>\n",
       "      <td>2018-08-17</td>\n",
       "      <td>ultra</td>\n",
       "      <td>8</td>\n",
       "    </tr>\n",
       "    <tr>\n",
       "      <th>4</th>\n",
       "      <td>1004</td>\n",
       "      <td>68</td>\n",
       "      <td>1970-01-01</td>\n",
       "      <td>Новокузнецк</td>\n",
       "      <td>Татьяна</td>\n",
       "      <td>Авдеенко</td>\n",
       "      <td>2018-05-14</td>\n",
       "      <td>ultra</td>\n",
       "      <td>5</td>\n",
       "    </tr>\n",
       "  </tbody>\n",
       "</table>\n",
       "</div>"
      ],
      "text/plain": [
       "   user_id  age churn_date         city first_name  last_name   reg_date  \\\n",
       "0     1000   52 1970-01-01    Краснодар     Рафаил  Верещагин 2018-05-25   \n",
       "1     1001   41 1970-01-01       Москва       Иван       Ежов 2018-11-01   \n",
       "2     1002   59 1970-01-01  Стерлитамак    Евгений  Абрамович 2018-06-17   \n",
       "3     1003   23 1970-01-01       Москва      Белла   Белякова 2018-08-17   \n",
       "4     1004   68 1970-01-01  Новокузнецк    Татьяна   Авдеенко 2018-05-14   \n",
       "\n",
       "  tariff  reg_month  \n",
       "0  ultra          5  \n",
       "1  smart         11  \n",
       "2  smart          6  \n",
       "3  ultra          8  \n",
       "4  ultra          5  "
      ]
     },
     "execution_count": 14,
     "metadata": {},
     "output_type": "execute_result"
    }
   ],
   "source": [
    "users['reg_month'] = users.reg_date.dt.month\n",
    "users.head()"
   ]
  },
  {
   "cell_type": "markdown",
   "metadata": {},
   "source": [
    "### Вывод"
   ]
  },
  {
   "cell_type": "markdown",
   "metadata": {},
   "source": [
    "Произведена предобработка данных всех предоставленных таблиц,в целом данные впорядке, необходимо было лишь привести даты в соответствующий тип и данные о длительности звонков округлить в большую сторону. Дубликатов не обнаружино."
   ]
  },
  {
   "cell_type": "markdown",
   "metadata": {},
   "source": [
    "## Объединение таблиц"
   ]
  },
  {
   "cell_type": "markdown",
   "metadata": {},
   "source": [
    "Перед началом объединения таблиц в одну, для выполнения поставленных задач, сначала сгруппируем каждую таблицу по **user_id** и **month**. А затем объединим их."
   ]
  },
  {
   "cell_type": "code",
   "execution_count": 15,
   "metadata": {},
   "outputs": [
    {
     "data": {
      "text/html": [
       "<div>\n",
       "<style scoped>\n",
       "    .dataframe tbody tr th:only-of-type {\n",
       "        vertical-align: middle;\n",
       "    }\n",
       "\n",
       "    .dataframe tbody tr th {\n",
       "        vertical-align: top;\n",
       "    }\n",
       "\n",
       "    .dataframe thead th {\n",
       "        text-align: right;\n",
       "    }\n",
       "</style>\n",
       "<table border=\"1\" class=\"dataframe\">\n",
       "  <thead>\n",
       "    <tr style=\"text-align: right;\">\n",
       "      <th></th>\n",
       "      <th>user_id</th>\n",
       "      <th>month</th>\n",
       "      <th>duration</th>\n",
       "      <th>calls_count</th>\n",
       "    </tr>\n",
       "  </thead>\n",
       "  <tbody>\n",
       "    <tr>\n",
       "      <th>0</th>\n",
       "      <td>1000</td>\n",
       "      <td>5</td>\n",
       "      <td>150.06</td>\n",
       "      <td>22</td>\n",
       "    </tr>\n",
       "    <tr>\n",
       "      <th>1</th>\n",
       "      <td>1000</td>\n",
       "      <td>6</td>\n",
       "      <td>158.90</td>\n",
       "      <td>43</td>\n",
       "    </tr>\n",
       "    <tr>\n",
       "      <th>2</th>\n",
       "      <td>1000</td>\n",
       "      <td>7</td>\n",
       "      <td>318.80</td>\n",
       "      <td>47</td>\n",
       "    </tr>\n",
       "    <tr>\n",
       "      <th>3</th>\n",
       "      <td>1000</td>\n",
       "      <td>8</td>\n",
       "      <td>389.87</td>\n",
       "      <td>52</td>\n",
       "    </tr>\n",
       "    <tr>\n",
       "      <th>4</th>\n",
       "      <td>1000</td>\n",
       "      <td>9</td>\n",
       "      <td>440.14</td>\n",
       "      <td>58</td>\n",
       "    </tr>\n",
       "  </tbody>\n",
       "</table>\n",
       "</div>"
      ],
      "text/plain": [
       "   user_id  month  duration  calls_count\n",
       "0     1000      5    150.06           22\n",
       "1     1000      6    158.90           43\n",
       "2     1000      7    318.80           47\n",
       "3     1000      8    389.87           52\n",
       "4     1000      9    440.14           58"
      ]
     },
     "execution_count": 15,
     "metadata": {},
     "output_type": "execute_result"
    }
   ],
   "source": [
    "#При группировке в таблице calls используем функции sum и count, что бы определить длительность и количество звонков\n",
    "calls_pivot = calls.pivot_table(index= ['user_id', 'month'], values = 'duration', \\\n",
    "                                aggfunc = ['sum','count'])\n",
    "calls_pivot = calls_pivot.reset_index()\n",
    "calls_pivot.columns = ['user_id','month','duration','calls_count']\n",
    "calls_pivot.head()"
   ]
  },
  {
   "cell_type": "code",
   "execution_count": 16,
   "metadata": {},
   "outputs": [
    {
     "data": {
      "text/html": [
       "<div>\n",
       "<style scoped>\n",
       "    .dataframe tbody tr th:only-of-type {\n",
       "        vertical-align: middle;\n",
       "    }\n",
       "\n",
       "    .dataframe tbody tr th {\n",
       "        vertical-align: top;\n",
       "    }\n",
       "\n",
       "    .dataframe thead th {\n",
       "        text-align: right;\n",
       "    }\n",
       "</style>\n",
       "<table border=\"1\" class=\"dataframe\">\n",
       "  <thead>\n",
       "    <tr style=\"text-align: right;\">\n",
       "      <th></th>\n",
       "      <th>user_id</th>\n",
       "      <th>month</th>\n",
       "      <th>sum_massege</th>\n",
       "    </tr>\n",
       "  </thead>\n",
       "  <tbody>\n",
       "    <tr>\n",
       "      <th>0</th>\n",
       "      <td>1000</td>\n",
       "      <td>5</td>\n",
       "      <td>22</td>\n",
       "    </tr>\n",
       "    <tr>\n",
       "      <th>1</th>\n",
       "      <td>1000</td>\n",
       "      <td>6</td>\n",
       "      <td>60</td>\n",
       "    </tr>\n",
       "    <tr>\n",
       "      <th>2</th>\n",
       "      <td>1000</td>\n",
       "      <td>7</td>\n",
       "      <td>75</td>\n",
       "    </tr>\n",
       "    <tr>\n",
       "      <th>3</th>\n",
       "      <td>1000</td>\n",
       "      <td>8</td>\n",
       "      <td>81</td>\n",
       "    </tr>\n",
       "    <tr>\n",
       "      <th>4</th>\n",
       "      <td>1000</td>\n",
       "      <td>9</td>\n",
       "      <td>57</td>\n",
       "    </tr>\n",
       "  </tbody>\n",
       "</table>\n",
       "</div>"
      ],
      "text/plain": [
       "   user_id  month  sum_massege\n",
       "0     1000      5           22\n",
       "1     1000      6           60\n",
       "2     1000      7           75\n",
       "3     1000      8           81\n",
       "4     1000      9           57"
      ]
     },
     "execution_count": 16,
     "metadata": {},
     "output_type": "execute_result"
    }
   ],
   "source": [
    "messages_pivot = messages.pivot_table(index =['user_id','month'], values = 'id', aggfunc = 'count')\n",
    "messages_pivot = messages_pivot.reset_index()\n",
    "messages_pivot = messages_pivot.rename(columns = {'id':'sum_massege'})\n",
    "messages_pivot.head()"
   ]
  },
  {
   "cell_type": "code",
   "execution_count": 17,
   "metadata": {},
   "outputs": [
    {
     "data": {
      "text/html": [
       "<div>\n",
       "<style scoped>\n",
       "    .dataframe tbody tr th:only-of-type {\n",
       "        vertical-align: middle;\n",
       "    }\n",
       "\n",
       "    .dataframe tbody tr th {\n",
       "        vertical-align: top;\n",
       "    }\n",
       "\n",
       "    .dataframe thead th {\n",
       "        text-align: right;\n",
       "    }\n",
       "</style>\n",
       "<table border=\"1\" class=\"dataframe\">\n",
       "  <thead>\n",
       "    <tr style=\"text-align: right;\">\n",
       "      <th></th>\n",
       "      <th>user_id</th>\n",
       "      <th>month</th>\n",
       "      <th>mb_used</th>\n",
       "    </tr>\n",
       "  </thead>\n",
       "  <tbody>\n",
       "    <tr>\n",
       "      <th>0</th>\n",
       "      <td>1000</td>\n",
       "      <td>5</td>\n",
       "      <td>2253.49</td>\n",
       "    </tr>\n",
       "    <tr>\n",
       "      <th>1</th>\n",
       "      <td>1000</td>\n",
       "      <td>6</td>\n",
       "      <td>23233.77</td>\n",
       "    </tr>\n",
       "    <tr>\n",
       "      <th>2</th>\n",
       "      <td>1000</td>\n",
       "      <td>7</td>\n",
       "      <td>14003.64</td>\n",
       "    </tr>\n",
       "    <tr>\n",
       "      <th>3</th>\n",
       "      <td>1000</td>\n",
       "      <td>8</td>\n",
       "      <td>14055.93</td>\n",
       "    </tr>\n",
       "    <tr>\n",
       "      <th>4</th>\n",
       "      <td>1000</td>\n",
       "      <td>9</td>\n",
       "      <td>14568.91</td>\n",
       "    </tr>\n",
       "  </tbody>\n",
       "</table>\n",
       "</div>"
      ],
      "text/plain": [
       "   user_id  month   mb_used\n",
       "0     1000      5   2253.49\n",
       "1     1000      6  23233.77\n",
       "2     1000      7  14003.64\n",
       "3     1000      8  14055.93\n",
       "4     1000      9  14568.91"
      ]
     },
     "execution_count": 17,
     "metadata": {},
     "output_type": "execute_result"
    }
   ],
   "source": [
    "internet_pivot = internet.pivot_table(index =['user_id','month'], values = 'mb_used', aggfunc = 'sum')\n",
    "internet_pivot = internet_pivot.reset_index()\n",
    "internet_pivot.head()"
   ]
  },
  {
   "cell_type": "code",
   "execution_count": 18,
   "metadata": {},
   "outputs": [],
   "source": [
    "#Для объединения таблицы tariffs с общей таблицей переименуем столбец tariff_name\n",
    "tariffs = tariffs.rename(columns = {'tariff_name':'tariff'})"
   ]
  },
  {
   "cell_type": "markdown",
   "metadata": {},
   "source": [
    "Теперь, когда данные полностью готовы объединим все таблицы в одну **general**"
   ]
  },
  {
   "cell_type": "code",
   "execution_count": 19,
   "metadata": {},
   "outputs": [
    {
     "data": {
      "text/html": [
       "<div>\n",
       "<style scoped>\n",
       "    .dataframe tbody tr th:only-of-type {\n",
       "        vertical-align: middle;\n",
       "    }\n",
       "\n",
       "    .dataframe tbody tr th {\n",
       "        vertical-align: top;\n",
       "    }\n",
       "\n",
       "    .dataframe thead th {\n",
       "        text-align: right;\n",
       "    }\n",
       "</style>\n",
       "<table border=\"1\" class=\"dataframe\">\n",
       "  <thead>\n",
       "    <tr style=\"text-align: right;\">\n",
       "      <th></th>\n",
       "      <th>user_id</th>\n",
       "      <th>month</th>\n",
       "      <th>duration</th>\n",
       "      <th>calls_count</th>\n",
       "      <th>mb_used</th>\n",
       "      <th>sum_massege</th>\n",
       "      <th>age</th>\n",
       "      <th>churn_date</th>\n",
       "      <th>city</th>\n",
       "      <th>first_name</th>\n",
       "      <th>...</th>\n",
       "      <th>reg_date</th>\n",
       "      <th>tariff</th>\n",
       "      <th>reg_month</th>\n",
       "      <th>messages_included</th>\n",
       "      <th>mb_per_month_included</th>\n",
       "      <th>minutes_included</th>\n",
       "      <th>rub_monthly_fee</th>\n",
       "      <th>rub_per_gb</th>\n",
       "      <th>rub_per_message</th>\n",
       "      <th>rub_per_minute</th>\n",
       "    </tr>\n",
       "  </thead>\n",
       "  <tbody>\n",
       "    <tr>\n",
       "      <th>0</th>\n",
       "      <td>1000</td>\n",
       "      <td>5.0</td>\n",
       "      <td>150.06</td>\n",
       "      <td>22.0</td>\n",
       "      <td>2253.49</td>\n",
       "      <td>22.0</td>\n",
       "      <td>52</td>\n",
       "      <td>1970-01-01</td>\n",
       "      <td>Краснодар</td>\n",
       "      <td>Рафаил</td>\n",
       "      <td>...</td>\n",
       "      <td>2018-05-25</td>\n",
       "      <td>ultra</td>\n",
       "      <td>5</td>\n",
       "      <td>1000</td>\n",
       "      <td>30720</td>\n",
       "      <td>3000</td>\n",
       "      <td>1950</td>\n",
       "      <td>150</td>\n",
       "      <td>1</td>\n",
       "      <td>1</td>\n",
       "    </tr>\n",
       "    <tr>\n",
       "      <th>1</th>\n",
       "      <td>1000</td>\n",
       "      <td>6.0</td>\n",
       "      <td>158.90</td>\n",
       "      <td>43.0</td>\n",
       "      <td>23233.77</td>\n",
       "      <td>60.0</td>\n",
       "      <td>52</td>\n",
       "      <td>1970-01-01</td>\n",
       "      <td>Краснодар</td>\n",
       "      <td>Рафаил</td>\n",
       "      <td>...</td>\n",
       "      <td>2018-05-25</td>\n",
       "      <td>ultra</td>\n",
       "      <td>5</td>\n",
       "      <td>1000</td>\n",
       "      <td>30720</td>\n",
       "      <td>3000</td>\n",
       "      <td>1950</td>\n",
       "      <td>150</td>\n",
       "      <td>1</td>\n",
       "      <td>1</td>\n",
       "    </tr>\n",
       "    <tr>\n",
       "      <th>2</th>\n",
       "      <td>1000</td>\n",
       "      <td>7.0</td>\n",
       "      <td>318.80</td>\n",
       "      <td>47.0</td>\n",
       "      <td>14003.64</td>\n",
       "      <td>75.0</td>\n",
       "      <td>52</td>\n",
       "      <td>1970-01-01</td>\n",
       "      <td>Краснодар</td>\n",
       "      <td>Рафаил</td>\n",
       "      <td>...</td>\n",
       "      <td>2018-05-25</td>\n",
       "      <td>ultra</td>\n",
       "      <td>5</td>\n",
       "      <td>1000</td>\n",
       "      <td>30720</td>\n",
       "      <td>3000</td>\n",
       "      <td>1950</td>\n",
       "      <td>150</td>\n",
       "      <td>1</td>\n",
       "      <td>1</td>\n",
       "    </tr>\n",
       "    <tr>\n",
       "      <th>3</th>\n",
       "      <td>1000</td>\n",
       "      <td>8.0</td>\n",
       "      <td>389.87</td>\n",
       "      <td>52.0</td>\n",
       "      <td>14055.93</td>\n",
       "      <td>81.0</td>\n",
       "      <td>52</td>\n",
       "      <td>1970-01-01</td>\n",
       "      <td>Краснодар</td>\n",
       "      <td>Рафаил</td>\n",
       "      <td>...</td>\n",
       "      <td>2018-05-25</td>\n",
       "      <td>ultra</td>\n",
       "      <td>5</td>\n",
       "      <td>1000</td>\n",
       "      <td>30720</td>\n",
       "      <td>3000</td>\n",
       "      <td>1950</td>\n",
       "      <td>150</td>\n",
       "      <td>1</td>\n",
       "      <td>1</td>\n",
       "    </tr>\n",
       "    <tr>\n",
       "      <th>4</th>\n",
       "      <td>1000</td>\n",
       "      <td>9.0</td>\n",
       "      <td>440.14</td>\n",
       "      <td>58.0</td>\n",
       "      <td>14568.91</td>\n",
       "      <td>57.0</td>\n",
       "      <td>52</td>\n",
       "      <td>1970-01-01</td>\n",
       "      <td>Краснодар</td>\n",
       "      <td>Рафаил</td>\n",
       "      <td>...</td>\n",
       "      <td>2018-05-25</td>\n",
       "      <td>ultra</td>\n",
       "      <td>5</td>\n",
       "      <td>1000</td>\n",
       "      <td>30720</td>\n",
       "      <td>3000</td>\n",
       "      <td>1950</td>\n",
       "      <td>150</td>\n",
       "      <td>1</td>\n",
       "      <td>1</td>\n",
       "    </tr>\n",
       "  </tbody>\n",
       "</table>\n",
       "<p>5 rows × 21 columns</p>\n",
       "</div>"
      ],
      "text/plain": [
       "   user_id  month  duration  calls_count   mb_used  sum_massege  age  \\\n",
       "0     1000    5.0    150.06         22.0   2253.49         22.0   52   \n",
       "1     1000    6.0    158.90         43.0  23233.77         60.0   52   \n",
       "2     1000    7.0    318.80         47.0  14003.64         75.0   52   \n",
       "3     1000    8.0    389.87         52.0  14055.93         81.0   52   \n",
       "4     1000    9.0    440.14         58.0  14568.91         57.0   52   \n",
       "\n",
       "  churn_date       city first_name  ...   reg_date tariff reg_month  \\\n",
       "0 1970-01-01  Краснодар     Рафаил  ... 2018-05-25  ultra         5   \n",
       "1 1970-01-01  Краснодар     Рафаил  ... 2018-05-25  ultra         5   \n",
       "2 1970-01-01  Краснодар     Рафаил  ... 2018-05-25  ultra         5   \n",
       "3 1970-01-01  Краснодар     Рафаил  ... 2018-05-25  ultra         5   \n",
       "4 1970-01-01  Краснодар     Рафаил  ... 2018-05-25  ultra         5   \n",
       "\n",
       "   messages_included  mb_per_month_included  minutes_included  \\\n",
       "0               1000                  30720              3000   \n",
       "1               1000                  30720              3000   \n",
       "2               1000                  30720              3000   \n",
       "3               1000                  30720              3000   \n",
       "4               1000                  30720              3000   \n",
       "\n",
       "   rub_monthly_fee  rub_per_gb  rub_per_message  rub_per_minute  \n",
       "0             1950         150                1               1  \n",
       "1             1950         150                1               1  \n",
       "2             1950         150                1               1  \n",
       "3             1950         150                1               1  \n",
       "4             1950         150                1               1  \n",
       "\n",
       "[5 rows x 21 columns]"
      ]
     },
     "execution_count": 19,
     "metadata": {},
     "output_type": "execute_result"
    }
   ],
   "source": [
    "#Объявим новую переменную, в которую запишем нашу объединённую таблицу\n",
    "general = calls_pivot.copy() #копируем одну таблицу calls_pivot, что бы было что с чем объединять\n",
    "#объединяем с таблицей internet_pivot по user_id и месяцу\n",
    "general = general.merge(internet_pivot, on=['user_id','month'], how='outer')\n",
    "#объединяем с таблицей messages_pivot по user_id и месяцу\n",
    "general = general.merge(messages_pivot, on=['user_id','month'], how='outer')\n",
    "#объединяем с таблицей users по user_id\n",
    "general = general.merge(users, on='user_id', how='outer')\n",
    "#объединяем с таблицей tariffs по tariff\n",
    "general = general.merge(tariffs, on='tariff', how='outer')\n",
    "general.head()"
   ]
  },
  {
   "cell_type": "code",
   "execution_count": 21,
   "metadata": {},
   "outputs": [
    {
     "name": "stdout",
     "output_type": "stream",
     "text": [
      "<class 'pandas.core.frame.DataFrame'>\n",
      "Int64Index: 3216 entries, 0 to 3215\n",
      "Data columns (total 21 columns):\n",
      " #   Column                 Non-Null Count  Dtype         \n",
      "---  ------                 --------------  -----         \n",
      " 0   user_id                3216 non-null   int64         \n",
      " 1   month                  3214 non-null   float64       \n",
      " 2   duration               3174 non-null   float64       \n",
      " 3   calls_count            3174 non-null   float64       \n",
      " 4   mb_used                3203 non-null   float64       \n",
      " 5   sum_massege            2717 non-null   float64       \n",
      " 6   age                    3216 non-null   int64         \n",
      " 7   churn_date             3216 non-null   datetime64[ns]\n",
      " 8   city                   3216 non-null   object        \n",
      " 9   first_name             3216 non-null   object        \n",
      " 10  last_name              3216 non-null   object        \n",
      " 11  reg_date               3216 non-null   datetime64[ns]\n",
      " 12  tariff                 3216 non-null   object        \n",
      " 13  reg_month              3216 non-null   int64         \n",
      " 14  messages_included      3216 non-null   int64         \n",
      " 15  mb_per_month_included  3216 non-null   int64         \n",
      " 16  minutes_included       3216 non-null   int64         \n",
      " 17  rub_monthly_fee        3216 non-null   int64         \n",
      " 18  rub_per_gb             3216 non-null   int64         \n",
      " 19  rub_per_message        3216 non-null   int64         \n",
      " 20  rub_per_minute         3216 non-null   int64         \n",
      "dtypes: datetime64[ns](2), float64(5), int64(10), object(4)\n",
      "memory usage: 552.8+ KB\n"
     ]
    }
   ],
   "source": [
    "general.info()"
   ]
  },
  {
   "cell_type": "markdown",
   "metadata": {},
   "source": [
    "Изза объединения таблиц методом **merge** c аргументом **how = 'outer'** в таблице появились пропущенне значения. Заполним пропущенные значения в столбцах **duration,mb_used,sum_massege** нулём. А строки с пропущенными значениями в столбце **month** удалим, так как эти пользователи ничем не пользовались, таких всего два человека. Так же изменим тип некоторых столбцов на int"
   ]
  },
  {
   "cell_type": "code",
   "execution_count": 22,
   "metadata": {},
   "outputs": [
    {
     "name": "stdout",
     "output_type": "stream",
     "text": [
      "<class 'pandas.core.frame.DataFrame'>\n",
      "Int64Index: 3214 entries, 0 to 3214\n",
      "Data columns (total 21 columns):\n",
      " #   Column                 Non-Null Count  Dtype         \n",
      "---  ------                 --------------  -----         \n",
      " 0   user_id                3214 non-null   int64         \n",
      " 1   month                  3214 non-null   int64         \n",
      " 2   duration               3214 non-null   int64         \n",
      " 3   calls_count            3214 non-null   int64         \n",
      " 4   mb_used                3214 non-null   float64       \n",
      " 5   sum_massege            3214 non-null   int64         \n",
      " 6   age                    3214 non-null   int64         \n",
      " 7   churn_date             3214 non-null   datetime64[ns]\n",
      " 8   city                   3214 non-null   object        \n",
      " 9   first_name             3214 non-null   object        \n",
      " 10  last_name              3214 non-null   object        \n",
      " 11  reg_date               3214 non-null   datetime64[ns]\n",
      " 12  tariff                 3214 non-null   object        \n",
      " 13  reg_month              3214 non-null   int64         \n",
      " 14  messages_included      3214 non-null   int64         \n",
      " 15  mb_per_month_included  3214 non-null   int64         \n",
      " 16  minutes_included       3214 non-null   int64         \n",
      " 17  rub_monthly_fee        3214 non-null   int64         \n",
      " 18  rub_per_gb             3214 non-null   int64         \n",
      " 19  rub_per_message        3214 non-null   int64         \n",
      " 20  rub_per_minute         3214 non-null   int64         \n",
      "dtypes: datetime64[ns](2), float64(1), int64(14), object(4)\n",
      "memory usage: 552.4+ KB\n"
     ]
    }
   ],
   "source": [
    "general[['duration','mb_used','sum_massege','calls_count']] = \\\n",
    "general[['duration','mb_used','sum_massege','calls_count']].fillna(0)\n",
    "general = general.dropna(subset = ['month'])\n",
    "general[['month', 'duration', 'calls_count', 'sum_massege']] = \\\n",
    "general[['month', 'duration', 'calls_count', 'sum_massege']].astype('int')\n",
    "general.info()"
   ]
  },
  {
   "cell_type": "markdown",
   "metadata": {},
   "source": [
    "### Вывод"
   ]
  },
  {
   "cell_type": "markdown",
   "metadata": {},
   "source": [
    "Мы объединили все наши таблицы в одну, и подготовили её для дальнейшего выполнения поставленных задач. Исправили все пропущенные значения, возникшие при объединении таблиц. Так же обнаружили двух человек, которые не пользовались мобильной связью."
   ]
  },
  {
   "cell_type": "markdown",
   "metadata": {},
   "source": [
    "## Добавление столбцов"
   ]
  },
  {
   "cell_type": "markdown",
   "metadata": {},
   "source": [
    "По заданию нам необходимо добавить:    \n",
    "1) количество сделанных звонков и израсходованных минут разговора по месяцам;    \n",
    "2) количество отправленных сообщений по месяцам;    \n",
    "3) объем израсходованного интернет-трафика по месяцам;   \n",
    "4) помесячную выручку с каждого пользователя.   \n",
    "\n",
    "После группировки и подготовки таблиц к объединению, в нашей общей таблице уже имеется информация по пунктам 1(столбцы **duration** и **call_count**), 2(столбец **sum_massege**) и 3(столбец **mb_used**).    \n",
    "Нам необходимо\n",
    "1) округлить значения израсходованных мегобайт в месяц в большую сторону до гигабайта    \n",
    "2) добавить столбец с выручкой с каждого пользователя за месяц    "
   ]
  },
  {
   "cell_type": "markdown",
   "metadata": {},
   "source": [
    "### Оrругление значений столбца mb_used"
   ]
  },
  {
   "cell_type": "code",
   "execution_count": 23,
   "metadata": {},
   "outputs": [
    {
     "data": {
      "text/html": [
       "<div>\n",
       "<style scoped>\n",
       "    .dataframe tbody tr th:only-of-type {\n",
       "        vertical-align: middle;\n",
       "    }\n",
       "\n",
       "    .dataframe tbody tr th {\n",
       "        vertical-align: top;\n",
       "    }\n",
       "\n",
       "    .dataframe thead th {\n",
       "        text-align: right;\n",
       "    }\n",
       "</style>\n",
       "<table border=\"1\" class=\"dataframe\">\n",
       "  <thead>\n",
       "    <tr style=\"text-align: right;\">\n",
       "      <th></th>\n",
       "      <th>user_id</th>\n",
       "      <th>month</th>\n",
       "      <th>duration</th>\n",
       "      <th>calls_count</th>\n",
       "      <th>gb_used</th>\n",
       "      <th>sum_massege</th>\n",
       "      <th>age</th>\n",
       "      <th>churn_date</th>\n",
       "      <th>city</th>\n",
       "      <th>first_name</th>\n",
       "      <th>...</th>\n",
       "      <th>reg_date</th>\n",
       "      <th>tariff</th>\n",
       "      <th>reg_month</th>\n",
       "      <th>messages_included</th>\n",
       "      <th>gb_per_month_included</th>\n",
       "      <th>minutes_included</th>\n",
       "      <th>rub_monthly_fee</th>\n",
       "      <th>rub_per_gb</th>\n",
       "      <th>rub_per_message</th>\n",
       "      <th>rub_per_minute</th>\n",
       "    </tr>\n",
       "  </thead>\n",
       "  <tbody>\n",
       "    <tr>\n",
       "      <th>0</th>\n",
       "      <td>1000</td>\n",
       "      <td>5</td>\n",
       "      <td>150</td>\n",
       "      <td>22</td>\n",
       "      <td>3</td>\n",
       "      <td>22</td>\n",
       "      <td>52</td>\n",
       "      <td>1970-01-01</td>\n",
       "      <td>Краснодар</td>\n",
       "      <td>Рафаил</td>\n",
       "      <td>...</td>\n",
       "      <td>2018-05-25</td>\n",
       "      <td>ultra</td>\n",
       "      <td>5</td>\n",
       "      <td>1000</td>\n",
       "      <td>30</td>\n",
       "      <td>3000</td>\n",
       "      <td>1950</td>\n",
       "      <td>150</td>\n",
       "      <td>1</td>\n",
       "      <td>1</td>\n",
       "    </tr>\n",
       "    <tr>\n",
       "      <th>1</th>\n",
       "      <td>1000</td>\n",
       "      <td>6</td>\n",
       "      <td>158</td>\n",
       "      <td>43</td>\n",
       "      <td>24</td>\n",
       "      <td>60</td>\n",
       "      <td>52</td>\n",
       "      <td>1970-01-01</td>\n",
       "      <td>Краснодар</td>\n",
       "      <td>Рафаил</td>\n",
       "      <td>...</td>\n",
       "      <td>2018-05-25</td>\n",
       "      <td>ultra</td>\n",
       "      <td>5</td>\n",
       "      <td>1000</td>\n",
       "      <td>30</td>\n",
       "      <td>3000</td>\n",
       "      <td>1950</td>\n",
       "      <td>150</td>\n",
       "      <td>1</td>\n",
       "      <td>1</td>\n",
       "    </tr>\n",
       "    <tr>\n",
       "      <th>2</th>\n",
       "      <td>1000</td>\n",
       "      <td>7</td>\n",
       "      <td>318</td>\n",
       "      <td>47</td>\n",
       "      <td>15</td>\n",
       "      <td>75</td>\n",
       "      <td>52</td>\n",
       "      <td>1970-01-01</td>\n",
       "      <td>Краснодар</td>\n",
       "      <td>Рафаил</td>\n",
       "      <td>...</td>\n",
       "      <td>2018-05-25</td>\n",
       "      <td>ultra</td>\n",
       "      <td>5</td>\n",
       "      <td>1000</td>\n",
       "      <td>30</td>\n",
       "      <td>3000</td>\n",
       "      <td>1950</td>\n",
       "      <td>150</td>\n",
       "      <td>1</td>\n",
       "      <td>1</td>\n",
       "    </tr>\n",
       "    <tr>\n",
       "      <th>3</th>\n",
       "      <td>1000</td>\n",
       "      <td>8</td>\n",
       "      <td>389</td>\n",
       "      <td>52</td>\n",
       "      <td>15</td>\n",
       "      <td>81</td>\n",
       "      <td>52</td>\n",
       "      <td>1970-01-01</td>\n",
       "      <td>Краснодар</td>\n",
       "      <td>Рафаил</td>\n",
       "      <td>...</td>\n",
       "      <td>2018-05-25</td>\n",
       "      <td>ultra</td>\n",
       "      <td>5</td>\n",
       "      <td>1000</td>\n",
       "      <td>30</td>\n",
       "      <td>3000</td>\n",
       "      <td>1950</td>\n",
       "      <td>150</td>\n",
       "      <td>1</td>\n",
       "      <td>1</td>\n",
       "    </tr>\n",
       "    <tr>\n",
       "      <th>4</th>\n",
       "      <td>1000</td>\n",
       "      <td>9</td>\n",
       "      <td>440</td>\n",
       "      <td>58</td>\n",
       "      <td>15</td>\n",
       "      <td>57</td>\n",
       "      <td>52</td>\n",
       "      <td>1970-01-01</td>\n",
       "      <td>Краснодар</td>\n",
       "      <td>Рафаил</td>\n",
       "      <td>...</td>\n",
       "      <td>2018-05-25</td>\n",
       "      <td>ultra</td>\n",
       "      <td>5</td>\n",
       "      <td>1000</td>\n",
       "      <td>30</td>\n",
       "      <td>3000</td>\n",
       "      <td>1950</td>\n",
       "      <td>150</td>\n",
       "      <td>1</td>\n",
       "      <td>1</td>\n",
       "    </tr>\n",
       "  </tbody>\n",
       "</table>\n",
       "<p>5 rows × 21 columns</p>\n",
       "</div>"
      ],
      "text/plain": [
       "   user_id  month  duration  calls_count  gb_used  sum_massege  age  \\\n",
       "0     1000      5       150           22        3           22   52   \n",
       "1     1000      6       158           43       24           60   52   \n",
       "2     1000      7       318           47       15           75   52   \n",
       "3     1000      8       389           52       15           81   52   \n",
       "4     1000      9       440           58       15           57   52   \n",
       "\n",
       "  churn_date       city first_name  ...   reg_date tariff reg_month  \\\n",
       "0 1970-01-01  Краснодар     Рафаил  ... 2018-05-25  ultra         5   \n",
       "1 1970-01-01  Краснодар     Рафаил  ... 2018-05-25  ultra         5   \n",
       "2 1970-01-01  Краснодар     Рафаил  ... 2018-05-25  ultra         5   \n",
       "3 1970-01-01  Краснодар     Рафаил  ... 2018-05-25  ultra         5   \n",
       "4 1970-01-01  Краснодар     Рафаил  ... 2018-05-25  ultra         5   \n",
       "\n",
       "   messages_included  gb_per_month_included  minutes_included  \\\n",
       "0               1000                     30              3000   \n",
       "1               1000                     30              3000   \n",
       "2               1000                     30              3000   \n",
       "3               1000                     30              3000   \n",
       "4               1000                     30              3000   \n",
       "\n",
       "   rub_monthly_fee  rub_per_gb  rub_per_message  rub_per_minute  \n",
       "0             1950         150                1               1  \n",
       "1             1950         150                1               1  \n",
       "2             1950         150                1               1  \n",
       "3             1950         150                1               1  \n",
       "4             1950         150                1               1  \n",
       "\n",
       "[5 rows x 21 columns]"
      ]
     },
     "execution_count": 23,
     "metadata": {},
     "output_type": "execute_result"
    }
   ],
   "source": [
    "#Переводим Мб в Гб, округляем в большую сторону и приводим к типу данных int и переименовываем столбец\n",
    "general.mb_used = (general.mb_used/1000).apply(np.ceil).astype('int')\n",
    "#Тоже и со столбцом mb_per_month_included только округляем в меньшую сторону\n",
    "general.mb_per_month_included = (general.mb_per_month_included/1000).apply(np.floor).astype('int')\n",
    "general = general.rename(columns = {'mb_used':'gb_used','mb_per_month_included':'gb_per_month_included'})\n",
    "general.head()"
   ]
  },
  {
   "cell_type": "markdown",
   "metadata": {},
   "source": [
    "### Добавление столбца с выручкой с каждого пользователя за месяц"
   ]
  },
  {
   "cell_type": "markdown",
   "metadata": {},
   "source": [
    "Для добавления столбца с выручкой с каждого пользователя за месяц, напишем функцию **gein**, которая будет считать эту выручку с учётом условий тарифа и входящих в него пакетов. "
   ]
  },
  {
   "cell_type": "code",
   "execution_count": 24,
   "metadata": {},
   "outputs": [],
   "source": [
    "def gein(row):\n",
    "    fee = row['rub_monthly_fee'] #Абонентская плата\n",
    "    massege = row['rub_per_message']*(row['sum_massege'] - row['messages_included']) #Плата за сообщения сверх пакета\n",
    "    call = row['rub_per_minute']*(row['duration'] - row['minutes_included']) #Плата за минуты сверх пакета \n",
    "    inet = row['rub_per_gb']*(row['gb_used'] - row['gb_per_month_included']) #Плата за интеренет сверх пакета\n",
    "    if massege < 0: #если пакет не израсходован, то плата равна нулю\n",
    "        massege = 0\n",
    "    if call < 0: #если пакет не израсходован, то плата равна нулю\n",
    "        call = 0\n",
    "    if inet < 0: #если пакет не израсходован, то плата равна нулю\n",
    "        inet = 0\n",
    "    return fee+massege+call+inet #возвращаем полную сумму за все услуги"
   ]
  },
  {
   "cell_type": "markdown",
   "metadata": {},
   "source": [
    "Для проверки работы функции, применим её к небольшому датафрейму **for_check**, который содержит 5 случайных строк нашего датафрейма."
   ]
  },
  {
   "cell_type": "code",
   "execution_count": 25,
   "metadata": {},
   "outputs": [
    {
     "data": {
      "text/html": [
       "<div>\n",
       "<style scoped>\n",
       "    .dataframe tbody tr th:only-of-type {\n",
       "        vertical-align: middle;\n",
       "    }\n",
       "\n",
       "    .dataframe tbody tr th {\n",
       "        vertical-align: top;\n",
       "    }\n",
       "\n",
       "    .dataframe thead th {\n",
       "        text-align: right;\n",
       "    }\n",
       "</style>\n",
       "<table border=\"1\" class=\"dataframe\">\n",
       "  <thead>\n",
       "    <tr style=\"text-align: right;\">\n",
       "      <th></th>\n",
       "      <th>user_id</th>\n",
       "      <th>month</th>\n",
       "      <th>duration</th>\n",
       "      <th>calls_count</th>\n",
       "      <th>gb_used</th>\n",
       "      <th>sum_massege</th>\n",
       "      <th>age</th>\n",
       "      <th>churn_date</th>\n",
       "      <th>city</th>\n",
       "      <th>first_name</th>\n",
       "      <th>...</th>\n",
       "      <th>tariff</th>\n",
       "      <th>reg_month</th>\n",
       "      <th>messages_included</th>\n",
       "      <th>gb_per_month_included</th>\n",
       "      <th>minutes_included</th>\n",
       "      <th>rub_monthly_fee</th>\n",
       "      <th>rub_per_gb</th>\n",
       "      <th>rub_per_message</th>\n",
       "      <th>rub_per_minute</th>\n",
       "      <th>gain</th>\n",
       "    </tr>\n",
       "  </thead>\n",
       "  <tbody>\n",
       "    <tr>\n",
       "      <th>1867</th>\n",
       "      <td>1188</td>\n",
       "      <td>6</td>\n",
       "      <td>6</td>\n",
       "      <td>1</td>\n",
       "      <td>9</td>\n",
       "      <td>10</td>\n",
       "      <td>41</td>\n",
       "      <td>1970-01-01</td>\n",
       "      <td>Санкт-Петербург</td>\n",
       "      <td>Габриэль</td>\n",
       "      <td>...</td>\n",
       "      <td>smart</td>\n",
       "      <td>2</td>\n",
       "      <td>50</td>\n",
       "      <td>15</td>\n",
       "      <td>500</td>\n",
       "      <td>550</td>\n",
       "      <td>200</td>\n",
       "      <td>3</td>\n",
       "      <td>3</td>\n",
       "      <td>550</td>\n",
       "    </tr>\n",
       "    <tr>\n",
       "      <th>94</th>\n",
       "      <td>1057</td>\n",
       "      <td>11</td>\n",
       "      <td>613</td>\n",
       "      <td>87</td>\n",
       "      <td>21</td>\n",
       "      <td>30</td>\n",
       "      <td>43</td>\n",
       "      <td>1970-01-01</td>\n",
       "      <td>Москва</td>\n",
       "      <td>Динара</td>\n",
       "      <td>...</td>\n",
       "      <td>ultra</td>\n",
       "      <td>3</td>\n",
       "      <td>1000</td>\n",
       "      <td>30</td>\n",
       "      <td>3000</td>\n",
       "      <td>1950</td>\n",
       "      <td>150</td>\n",
       "      <td>1</td>\n",
       "      <td>1</td>\n",
       "      <td>1950</td>\n",
       "    </tr>\n",
       "    <tr>\n",
       "      <th>1521</th>\n",
       "      <td>1118</td>\n",
       "      <td>4</td>\n",
       "      <td>711</td>\n",
       "      <td>93</td>\n",
       "      <td>15</td>\n",
       "      <td>0</td>\n",
       "      <td>65</td>\n",
       "      <td>1970-01-01</td>\n",
       "      <td>Казань</td>\n",
       "      <td>Вера</td>\n",
       "      <td>...</td>\n",
       "      <td>smart</td>\n",
       "      <td>3</td>\n",
       "      <td>50</td>\n",
       "      <td>15</td>\n",
       "      <td>500</td>\n",
       "      <td>550</td>\n",
       "      <td>200</td>\n",
       "      <td>3</td>\n",
       "      <td>3</td>\n",
       "      <td>1183</td>\n",
       "    </tr>\n",
       "    <tr>\n",
       "      <th>3032</th>\n",
       "      <td>1462</td>\n",
       "      <td>12</td>\n",
       "      <td>831</td>\n",
       "      <td>136</td>\n",
       "      <td>25</td>\n",
       "      <td>0</td>\n",
       "      <td>72</td>\n",
       "      <td>1970-01-01</td>\n",
       "      <td>Тольятти</td>\n",
       "      <td>Алёна</td>\n",
       "      <td>...</td>\n",
       "      <td>smart</td>\n",
       "      <td>10</td>\n",
       "      <td>50</td>\n",
       "      <td>15</td>\n",
       "      <td>500</td>\n",
       "      <td>550</td>\n",
       "      <td>200</td>\n",
       "      <td>3</td>\n",
       "      <td>3</td>\n",
       "      <td>3543</td>\n",
       "    </tr>\n",
       "    <tr>\n",
       "      <th>395</th>\n",
       "      <td>1243</td>\n",
       "      <td>12</td>\n",
       "      <td>380</td>\n",
       "      <td>53</td>\n",
       "      <td>31</td>\n",
       "      <td>85</td>\n",
       "      <td>74</td>\n",
       "      <td>1970-01-01</td>\n",
       "      <td>Пермь</td>\n",
       "      <td>Артём</td>\n",
       "      <td>...</td>\n",
       "      <td>ultra</td>\n",
       "      <td>6</td>\n",
       "      <td>1000</td>\n",
       "      <td>30</td>\n",
       "      <td>3000</td>\n",
       "      <td>1950</td>\n",
       "      <td>150</td>\n",
       "      <td>1</td>\n",
       "      <td>1</td>\n",
       "      <td>2100</td>\n",
       "    </tr>\n",
       "  </tbody>\n",
       "</table>\n",
       "<p>5 rows × 22 columns</p>\n",
       "</div>"
      ],
      "text/plain": [
       "      user_id  month  duration  calls_count  gb_used  sum_massege  age  \\\n",
       "1867     1188      6         6            1        9           10   41   \n",
       "94       1057     11       613           87       21           30   43   \n",
       "1521     1118      4       711           93       15            0   65   \n",
       "3032     1462     12       831          136       25            0   72   \n",
       "395      1243     12       380           53       31           85   74   \n",
       "\n",
       "     churn_date             city first_name  ... tariff reg_month  \\\n",
       "1867 1970-01-01  Санкт-Петербург   Габриэль  ...  smart         2   \n",
       "94   1970-01-01           Москва     Динара  ...  ultra         3   \n",
       "1521 1970-01-01           Казань       Вера  ...  smart         3   \n",
       "3032 1970-01-01         Тольятти      Алёна  ...  smart        10   \n",
       "395  1970-01-01            Пермь      Артём  ...  ultra         6   \n",
       "\n",
       "     messages_included  gb_per_month_included  minutes_included  \\\n",
       "1867                50                     15               500   \n",
       "94                1000                     30              3000   \n",
       "1521                50                     15               500   \n",
       "3032                50                     15               500   \n",
       "395               1000                     30              3000   \n",
       "\n",
       "      rub_monthly_fee  rub_per_gb  rub_per_message  rub_per_minute  gain  \n",
       "1867              550         200                3               3   550  \n",
       "94               1950         150                1               1  1950  \n",
       "1521              550         200                3               3  1183  \n",
       "3032              550         200                3               3  3543  \n",
       "395              1950         150                1               1  2100  \n",
       "\n",
       "[5 rows x 22 columns]"
      ]
     },
     "execution_count": 25,
     "metadata": {},
     "output_type": "execute_result"
    }
   ],
   "source": [
    "for_check = general.sample(5).copy()\n",
    "for_check['gain'] = for_check.apply(gein, axis=1)\n",
    "for_check"
   ]
  },
  {
   "cell_type": "markdown",
   "metadata": {},
   "source": [
    "Всё сходится, функция работает корректно, можно применять к нашему датафрейму."
   ]
  },
  {
   "cell_type": "code",
   "execution_count": 26,
   "metadata": {},
   "outputs": [
    {
     "data": {
      "text/html": [
       "<div>\n",
       "<style scoped>\n",
       "    .dataframe tbody tr th:only-of-type {\n",
       "        vertical-align: middle;\n",
       "    }\n",
       "\n",
       "    .dataframe tbody tr th {\n",
       "        vertical-align: top;\n",
       "    }\n",
       "\n",
       "    .dataframe thead th {\n",
       "        text-align: right;\n",
       "    }\n",
       "</style>\n",
       "<table border=\"1\" class=\"dataframe\">\n",
       "  <thead>\n",
       "    <tr style=\"text-align: right;\">\n",
       "      <th></th>\n",
       "      <th>user_id</th>\n",
       "      <th>month</th>\n",
       "      <th>duration</th>\n",
       "      <th>calls_count</th>\n",
       "      <th>gb_used</th>\n",
       "      <th>sum_massege</th>\n",
       "      <th>age</th>\n",
       "      <th>churn_date</th>\n",
       "      <th>city</th>\n",
       "      <th>first_name</th>\n",
       "      <th>...</th>\n",
       "      <th>tariff</th>\n",
       "      <th>reg_month</th>\n",
       "      <th>messages_included</th>\n",
       "      <th>gb_per_month_included</th>\n",
       "      <th>minutes_included</th>\n",
       "      <th>rub_monthly_fee</th>\n",
       "      <th>rub_per_gb</th>\n",
       "      <th>rub_per_message</th>\n",
       "      <th>rub_per_minute</th>\n",
       "      <th>gain</th>\n",
       "    </tr>\n",
       "  </thead>\n",
       "  <tbody>\n",
       "    <tr>\n",
       "      <th>2544</th>\n",
       "      <td>1342</td>\n",
       "      <td>11</td>\n",
       "      <td>304</td>\n",
       "      <td>51</td>\n",
       "      <td>20</td>\n",
       "      <td>88</td>\n",
       "      <td>20</td>\n",
       "      <td>1970-01-01</td>\n",
       "      <td>Новосибирск</td>\n",
       "      <td>Валентина</td>\n",
       "      <td>...</td>\n",
       "      <td>smart</td>\n",
       "      <td>10</td>\n",
       "      <td>50</td>\n",
       "      <td>15</td>\n",
       "      <td>500</td>\n",
       "      <td>550</td>\n",
       "      <td>200</td>\n",
       "      <td>3</td>\n",
       "      <td>3</td>\n",
       "      <td>1664</td>\n",
       "    </tr>\n",
       "    <tr>\n",
       "      <th>728</th>\n",
       "      <td>1382</td>\n",
       "      <td>10</td>\n",
       "      <td>758</td>\n",
       "      <td>97</td>\n",
       "      <td>11</td>\n",
       "      <td>66</td>\n",
       "      <td>42</td>\n",
       "      <td>1970-01-01</td>\n",
       "      <td>Самара</td>\n",
       "      <td>Оксана</td>\n",
       "      <td>...</td>\n",
       "      <td>ultra</td>\n",
       "      <td>3</td>\n",
       "      <td>1000</td>\n",
       "      <td>30</td>\n",
       "      <td>3000</td>\n",
       "      <td>1950</td>\n",
       "      <td>150</td>\n",
       "      <td>1</td>\n",
       "      <td>1</td>\n",
       "      <td>1950</td>\n",
       "    </tr>\n",
       "    <tr>\n",
       "      <th>2044</th>\n",
       "      <td>1227</td>\n",
       "      <td>7</td>\n",
       "      <td>601</td>\n",
       "      <td>80</td>\n",
       "      <td>25</td>\n",
       "      <td>23</td>\n",
       "      <td>66</td>\n",
       "      <td>1970-01-01</td>\n",
       "      <td>Санкт-Петербург</td>\n",
       "      <td>Раиса</td>\n",
       "      <td>...</td>\n",
       "      <td>smart</td>\n",
       "      <td>1</td>\n",
       "      <td>50</td>\n",
       "      <td>15</td>\n",
       "      <td>500</td>\n",
       "      <td>550</td>\n",
       "      <td>200</td>\n",
       "      <td>3</td>\n",
       "      <td>3</td>\n",
       "      <td>2853</td>\n",
       "    </tr>\n",
       "    <tr>\n",
       "      <th>1630</th>\n",
       "      <td>1142</td>\n",
       "      <td>8</td>\n",
       "      <td>333</td>\n",
       "      <td>59</td>\n",
       "      <td>20</td>\n",
       "      <td>43</td>\n",
       "      <td>51</td>\n",
       "      <td>1970-01-01</td>\n",
       "      <td>Новосибирск</td>\n",
       "      <td>Симона</td>\n",
       "      <td>...</td>\n",
       "      <td>smart</td>\n",
       "      <td>3</td>\n",
       "      <td>50</td>\n",
       "      <td>15</td>\n",
       "      <td>500</td>\n",
       "      <td>550</td>\n",
       "      <td>200</td>\n",
       "      <td>3</td>\n",
       "      <td>3</td>\n",
       "      <td>1550</td>\n",
       "    </tr>\n",
       "    <tr>\n",
       "      <th>3214</th>\n",
       "      <td>1489</td>\n",
       "      <td>12</td>\n",
       "      <td>0</td>\n",
       "      <td>0</td>\n",
       "      <td>18</td>\n",
       "      <td>35</td>\n",
       "      <td>35</td>\n",
       "      <td>1970-01-01</td>\n",
       "      <td>Санкт-Петербург</td>\n",
       "      <td>Павел</td>\n",
       "      <td>...</td>\n",
       "      <td>smart</td>\n",
       "      <td>8</td>\n",
       "      <td>50</td>\n",
       "      <td>15</td>\n",
       "      <td>500</td>\n",
       "      <td>550</td>\n",
       "      <td>200</td>\n",
       "      <td>3</td>\n",
       "      <td>3</td>\n",
       "      <td>1150</td>\n",
       "    </tr>\n",
       "  </tbody>\n",
       "</table>\n",
       "<p>5 rows × 22 columns</p>\n",
       "</div>"
      ],
      "text/plain": [
       "      user_id  month  duration  calls_count  gb_used  sum_massege  age  \\\n",
       "2544     1342     11       304           51       20           88   20   \n",
       "728      1382     10       758           97       11           66   42   \n",
       "2044     1227      7       601           80       25           23   66   \n",
       "1630     1142      8       333           59       20           43   51   \n",
       "3214     1489     12         0            0       18           35   35   \n",
       "\n",
       "     churn_date             city first_name  ... tariff reg_month  \\\n",
       "2544 1970-01-01      Новосибирск  Валентина  ...  smart        10   \n",
       "728  1970-01-01           Самара     Оксана  ...  ultra         3   \n",
       "2044 1970-01-01  Санкт-Петербург      Раиса  ...  smart         1   \n",
       "1630 1970-01-01      Новосибирск     Симона  ...  smart         3   \n",
       "3214 1970-01-01  Санкт-Петербург      Павел  ...  smart         8   \n",
       "\n",
       "     messages_included  gb_per_month_included  minutes_included  \\\n",
       "2544                50                     15               500   \n",
       "728               1000                     30              3000   \n",
       "2044                50                     15               500   \n",
       "1630                50                     15               500   \n",
       "3214                50                     15               500   \n",
       "\n",
       "      rub_monthly_fee  rub_per_gb  rub_per_message  rub_per_minute  gain  \n",
       "2544              550         200                3               3  1664  \n",
       "728              1950         150                1               1  1950  \n",
       "2044              550         200                3               3  2853  \n",
       "1630              550         200                3               3  1550  \n",
       "3214              550         200                3               3  1150  \n",
       "\n",
       "[5 rows x 22 columns]"
      ]
     },
     "execution_count": 26,
     "metadata": {},
     "output_type": "execute_result"
    }
   ],
   "source": [
    "general['gain'] = general.apply(gein,axis=1)\n",
    "general.sample(5)"
   ]
  },
  {
   "cell_type": "markdown",
   "metadata": {},
   "source": [
    "## Анализ данных"
   ]
  },
  {
   "cell_type": "markdown",
   "metadata": {},
   "source": [
    "Проанализируем сколько минут разговора, сколько сообщений и интернета требуется пользователям каждого тарифа в месяц. Для этого построим графики и гистограммы распределений и диаграммы разброса. Выясним средние, медианные значения и стандартное отклонение. Но для начала определим долю пользователей тарифа smart."
   ]
  },
  {
   "cell_type": "code",
   "execution_count": 27,
   "metadata": {},
   "outputs": [
    {
     "name": "stdout",
     "output_type": "stream",
     "text": [
      "Доля пользователей тарифа Smart составлет - 0.702\n"
     ]
    }
   ],
   "source": [
    "print('Доля пользователей тарифа Smart составлет', end = ' - ')\n",
    "print(users.loc[users['tariff']=='smart','user_id'].count()/500)"
   ]
  },
  {
   "cell_type": "markdown",
   "metadata": {},
   "source": [
    "### Количество минут разговора"
   ]
  },
  {
   "cell_type": "code",
   "execution_count": 28,
   "metadata": {},
   "outputs": [
    {
     "data": {
      "text/plain": [
       "<AxesSubplot:xlabel='month', ylabel='duration'>"
      ]
     },
     "execution_count": 28,
     "metadata": {},
     "output_type": "execute_result"
    },
    {
     "data": {
      "image/png": "[encoded data removed]",
      "text/plain": [
       "<Figure size 504x360 with 1 Axes>"
      ]
     },
     "metadata": {},
     "output_type": "display_data"
    }
   ],
   "source": [
    "#новая вспомагательная переменная которая хранит сводную таблицу по месяцам для пользователей тарифа smart\n",
    "minut_month_smart = general[general['tariff']=='smart']\\\n",
    "                    .pivot_table(index = 'month', values = 'duration', aggfunc = 'sum')\n",
    "#новая вспомагательная переменная которая хранит сводную таблицу по месяцам для пользователей тарифа ultra\n",
    "minut_month_ultra = general[general['tariff']=='ultra']\\\n",
    "                    .pivot_table(index = 'month',\\values = 'duration', aggfunc = 'sum')\n",
    "# почему легенда не добавилась?\n",
    "sns.lineplot(x = 'month', y = 'duration', data = minut_month_smart.reset_index(), legend = 'full')\n",
    "# почему легенда не добавилась?\n",
    "sns.lineplot(x = 'month', y = 'duration', data = minut_month_ultra.reset_index(), legend = 'full');"
   ]
  },
  {
   "cell_type": "code",
   "execution_count": 29,
   "metadata": {},
   "outputs": [
    {
     "data": {
      "text/plain": [
       "<AxesSubplot:ylabel='Count'>"
      ]
     },
     "execution_count": 29,
     "metadata": {},
     "output_type": "execute_result"
    },
    {
     "data": {
      "image/png": "[encoded data removed]",
      "text/plain": [
       "<Figure size 504x360 with 1 Axes>"
      ]
     },
     "metadata": {},
     "output_type": "display_data"
    }
   ],
   "source": [
    "#новая вспомагательная переменная которая хранит сводную таблицу по пользователям для длительности звонков тарифа smart\n",
    "minut_user_smart = general[general['tariff']=='smart']\\\n",
    "                  .pivot_table(index = ['user_id', 'month'], values = 'duration', aggfunc = 'sum')\n",
    "#новая вспомагательная переменная которая хранит сводную таблицу по пользователям для длительности звонков тарифа ultra\n",
    "minut_user_ultra = general[general['tariff']=='ultra']\\\n",
    "                  .pivot_table(index = ['user_id', 'month'], values = 'duration', aggfunc = 'sum')\n",
    "sns.histplot(minut_user_smart, kde = True, alpha = 0.3, bins = 20) \n",
    "sns.histplot(minut_user_ultra, kde = True, bins = 20);"
   ]
  },
  {
   "cell_type": "code",
   "execution_count": 30,
   "metadata": {},
   "outputs": [
    {
     "data": {
      "text/plain": [
       "<AxesSubplot:>"
      ]
     },
     "execution_count": 30,
     "metadata": {},
     "output_type": "execute_result"
    },
    {
     "data": {
      "image/png": "[encoded data removed]",
      "text/plain": [
       "<Figure size 504x360 with 1 Axes>"
      ]
     },
     "metadata": {},
     "output_type": "display_data"
    }
   ],
   "source": [
    "sns.boxplot(data = [minut_user_smart,minut_user_ultra]);"
   ]
  },
  {
   "cell_type": "markdown",
   "metadata": {},
   "source": [
    "#### Вывод"
   ]
  },
  {
   "cell_type": "markdown",
   "metadata": {},
   "source": [
    "Время разговора клиентов у обоих тарифов растёт с каждым месяцем. В тоже время пользователи тарифа smart как не странно разговаривают больше пользователей тарифа ultra, это потому, что пользователей тарифа smart больше. Диапозон долготы разговора и средняя времени разговора пользователей тарифа ultra больше, чем у smart, оно и понятно, они не сдерживают себя и разговаривают долго. Из диаграммы размаха видно, что пользователи тарифа ultra никогда не превышают кол-во минут в пакете тарифа, а примерно 25% пользователей тарифа smart превышают 500 минут в месяц."
   ]
  },
  {
   "cell_type": "markdown",
   "metadata": {},
   "source": [
    "### Количество сообщений"
   ]
  },
  {
   "cell_type": "code",
   "execution_count": 31,
   "metadata": {},
   "outputs": [
    {
     "data": {
      "text/plain": [
       "<AxesSubplot:xlabel='month', ylabel='sum_massege'>"
      ]
     },
     "execution_count": 31,
     "metadata": {},
     "output_type": "execute_result"
    },
    {
     "data": {
      "image/png": "[encoded data removed]",
      "text/plain": [
       "<Figure size 504x360 with 1 Axes>"
      ]
     },
     "metadata": {},
     "output_type": "display_data"
    }
   ],
   "source": [
    "#новая вспомагательная переменная которая хранит сводную таблицу по месяцам для пользователей тарифа smart\n",
    "message_month_smart = general[general['tariff']=='smart']\\\n",
    "                     .pivot_table(index = 'month', values = 'sum_massege', aggfunc = 'sum')\n",
    "#новая вспомагательная переменная которая хранит сводную таблицу по месяцам для пользователей тарифа ultra\n",
    "message_month_ultra = general[general['tariff']=='ultra']\\\n",
    "                    .pivot_table(index = 'month', values = 'sum_massege', aggfunc = 'sum')\n",
    "sns.lineplot(x = 'month', y = 'sum_massege', data = message_month_smart.reset_index(), legend = 'full')\n",
    "sns.lineplot(x = 'month', y = 'sum_massege', data = message_month_ultra.reset_index(), legend = 'full');"
   ]
  },
  {
   "cell_type": "code",
   "execution_count": 32,
   "metadata": {},
   "outputs": [
    {
     "data": {
      "text/plain": [
       "<AxesSubplot:ylabel='Count'>"
      ]
     },
     "execution_count": 32,
     "metadata": {},
     "output_type": "execute_result"
    },
    {
     "data": {
      "image/png": "[encoded data removed]",
      "text/plain": [
       "<Figure size 504x360 with 1 Axes>"
      ]
     },
     "metadata": {},
     "output_type": "display_data"
    }
   ],
   "source": [
    "#новая вспомагательная переменная которая хранит сводную таблицу по пользователям для суммы сообщений тарифа smart\n",
    "message_user_smart = general[general['tariff']=='smart']\\\n",
    ".pivot_table(index = ['user_id', 'month'], values = 'sum_massege', aggfunc = 'sum')\n",
    "#новая вспомагательная переменная которая хранит сводную таблицу по пользователям для суммы сообщений тарифа ultra\n",
    "message_user_ultra = general[general['tariff']=='ultra']\\\n",
    ".pivot_table(index = ['user_id', 'month'], values = 'sum_massege', aggfunc = 'sum')\n",
    "sns.histplot(message_user_smart, kde = True, alpha = 0.3, bins = 20) \n",
    "sns.histplot(message_user_ultra, kde = True, bins = 20);"
   ]
  },
  {
   "cell_type": "code",
   "execution_count": 33,
   "metadata": {},
   "outputs": [
    {
     "data": {
      "text/plain": [
       "<AxesSubplot:>"
      ]
     },
     "execution_count": 33,
     "metadata": {},
     "output_type": "execute_result"
    },
    {
     "data": {
      "image/png": "[encoded data removed]",
      "text/plain": [
       "<Figure size 504x360 with 1 Axes>"
      ]
     },
     "metadata": {},
     "output_type": "display_data"
    }
   ],
   "source": [
    "sns.boxplot(data = [message_user_smart,message_user_ultra]);"
   ]
  },
  {
   "cell_type": "markdown",
   "metadata": {},
   "source": [
    "#### Вывод"
   ]
  },
  {
   "cell_type": "markdown",
   "metadata": {},
   "source": [
    "Количество отправленных сообщений у обоих тарифов растёт с каждым месяцем. Много пользователей вообще не отправляют сообщений, поэтому распределение похоже на Пуассона. В тоже время пользователи тарифа smart  отправляют больше сообщений пользователей тарифа ultra, это потому, что пользователей тарифа smart больше. Диапозон количества сообщений в месяц  и средняя времени разговора пользователей тарифа ultra больше, чем у smart, оно и понятно, они не сдерживают себя и пишут столько сколько нужно. Из диаграммы размаха видно, что пользователи тарифа ultra никогда не превышают кол-во минут в пакете тарифа, а примерно 75% пользователей тарифа smart укладываются в кол-во сообщений входящих в пакет."
   ]
  },
  {
   "cell_type": "markdown",
   "metadata": {},
   "source": [
    "### Использование интернета"
   ]
  },
  {
   "cell_type": "code",
   "execution_count": 34,
   "metadata": {},
   "outputs": [
    {
     "data": {
      "text/plain": [
       "<AxesSubplot:xlabel='month', ylabel='gb_used'>"
      ]
     },
     "execution_count": 34,
     "metadata": {},
     "output_type": "execute_result"
    },
    {
     "data": {
      "image/png": "[encoded data removed]",
      "text/plain": [
       "<Figure size 504x360 with 1 Axes>"
      ]
     },
     "metadata": {},
     "output_type": "display_data"
    }
   ],
   "source": [
    "#новая вспомагательная переменная которая хранит сводную таблицу по месяцам для пользователей тарифа smart\n",
    "inet_month_smart = general[general['tariff']=='smart']\\\n",
    ".pivot_table(index = 'month', values = 'gb_used', aggfunc = 'sum')\n",
    "#новая вспомагательная переменная которая хранит сводную таблицу по месяцам для пользователей тарифа ultra\n",
    "inet_month_ultra = general[general['tariff']=='ultra']\\\n",
    ".pivot_table(index = 'month', values = 'gb_used', aggfunc = 'sum')\n",
    "sns.lineplot(x = 'month', y = 'gb_used', data = inet_month_smart.reset_index(), legend = 'full')\n",
    "sns.lineplot(x = 'month', y = 'gb_used', data = inet_month_ultra.reset_index(), legend = 'full');"
   ]
  },
  {
   "cell_type": "code",
   "execution_count": 35,
   "metadata": {},
   "outputs": [
    {
     "data": {
      "text/plain": [
       "<AxesSubplot:ylabel='Count'>"
      ]
     },
     "execution_count": 35,
     "metadata": {},
     "output_type": "execute_result"
    },
    {
     "data": {
      "image/png": "[encoded data removed]",
      "text/plain": [
       "<Figure size 504x360 with 1 Axes>"
      ]
     },
     "metadata": {},
     "output_type": "display_data"
    }
   ],
   "source": [
    "#новая вспомагательная переменная которая хранит сводную таблицу по пользователям и интернета тарифа smart\n",
    "inet_user_smart = general[general['tariff']=='smart']\\\n",
    ".pivot_table(index = ['user_id','month'], values = 'gb_used', aggfunc = 'sum')\n",
    "#новая вспомагательная переменная которая хранит сводную таблицу по пользователям ди интернета тарифа ultra\n",
    "inet_user_ultra = general[general['tariff']=='ultra']\\\n",
    ".pivot_table(index = ['user_id','month'], values = 'gb_used', aggfunc = 'sum')\n",
    "sns.histplot(inet_user_smart, kde = True, alpha = 0.3, bins = 20) \n",
    "sns.histplot(inet_user_ultra, kde = True, bins = 20);"
   ]
  },
  {
   "cell_type": "code",
   "execution_count": 36,
   "metadata": {},
   "outputs": [
    {
     "data": {
      "text/plain": [
       "<AxesSubplot:>"
      ]
     },
     "execution_count": 36,
     "metadata": {},
     "output_type": "execute_result"
    },
    {
     "data": {
      "image/png": "[encoded data removed]",
      "text/plain": [
       "<Figure size 504x360 with 1 Axes>"
      ]
     },
     "metadata": {},
     "output_type": "display_data"
    }
   ],
   "source": [
    "sns.boxplot(data = [inet_user_smart,inet_user_ultra]);"
   ]
  },
  {
   "cell_type": "markdown",
   "metadata": {},
   "source": [
    "#### Вывод"
   ]
  },
  {
   "cell_type": "markdown",
   "metadata": {},
   "source": [
    "Использовнный трафик у обоих тарифов растёт с каждым месяцем. Распределения похожи на нормальные, исходя из того что вершина рапсределения пользователей тарифа ultra значительно ниже чем у тарифа smart, это означает, что у него и стандартное отклонение больше(тоесть разброс значений). Пользователи тарифа smart пользуются интернетом больше пользователей тарифа ultra, это потому, что пользователей тарифа smart больше. Диапозон трафика в месяц  и средняя трафика пользователей тарифа ultra больше, чем у smart, оно и понятно, они не сдерживают себя в интернете. Из диаграммы размаха видно, что пользователи обоих тарифов выходят за рамки предоставленные им в пакете тарифа. В тарифе ultra их доля составляет меньше 25%, в тарифе smart их доля составляет больше 50%."
   ]
  },
  {
   "cell_type": "markdown",
   "metadata": {},
   "source": [
    "### Общий вывод"
   ]
  },
  {
   "cell_type": "code",
   "execution_count": 37,
   "metadata": {},
   "outputs": [
    {
     "data": {
      "text/html": [
       "<div>\n",
       "<style scoped>\n",
       "    .dataframe tbody tr th:only-of-type {\n",
       "        vertical-align: middle;\n",
       "    }\n",
       "\n",
       "    .dataframe tbody tr th {\n",
       "        vertical-align: top;\n",
       "    }\n",
       "\n",
       "    .dataframe thead th {\n",
       "        text-align: right;\n",
       "    }\n",
       "</style>\n",
       "<table border=\"1\" class=\"dataframe\">\n",
       "  <thead>\n",
       "    <tr style=\"text-align: right;\">\n",
       "      <th></th>\n",
       "      <th>duration_smart</th>\n",
       "      <th>gb_used_smart</th>\n",
       "      <th>sum_massege_smart</th>\n",
       "      <th>duration_ultra</th>\n",
       "      <th>gb_used_ultra</th>\n",
       "      <th>sum_massege_ultra</th>\n",
       "    </tr>\n",
       "  </thead>\n",
       "  <tbody>\n",
       "    <tr>\n",
       "      <th>count</th>\n",
       "      <td>2229.000000</td>\n",
       "      <td>2229.000000</td>\n",
       "      <td>2229.000000</td>\n",
       "      <td>985.000000</td>\n",
       "      <td>985.000000</td>\n",
       "      <td>985.000000</td>\n",
       "    </tr>\n",
       "    <tr>\n",
       "      <th>mean</th>\n",
       "      <td>393.929565</td>\n",
       "      <td>16.695828</td>\n",
       "      <td>33.384029</td>\n",
       "      <td>496.588832</td>\n",
       "      <td>19.965482</td>\n",
       "      <td>49.363452</td>\n",
       "    </tr>\n",
       "    <tr>\n",
       "      <th>std</th>\n",
       "      <td>179.969846</td>\n",
       "      <td>5.877404</td>\n",
       "      <td>28.227876</td>\n",
       "      <td>299.864584</td>\n",
       "      <td>10.100955</td>\n",
       "      <td>47.804457</td>\n",
       "    </tr>\n",
       "    <tr>\n",
       "      <th>min</th>\n",
       "      <td>0.000000</td>\n",
       "      <td>0.000000</td>\n",
       "      <td>0.000000</td>\n",
       "      <td>0.000000</td>\n",
       "      <td>0.000000</td>\n",
       "      <td>0.000000</td>\n",
       "    </tr>\n",
       "    <tr>\n",
       "      <th>25%</th>\n",
       "      <td>267.000000</td>\n",
       "      <td>13.000000</td>\n",
       "      <td>10.000000</td>\n",
       "      <td>267.000000</td>\n",
       "      <td>12.000000</td>\n",
       "      <td>6.000000</td>\n",
       "    </tr>\n",
       "    <tr>\n",
       "      <th>50%</th>\n",
       "      <td>397.000000</td>\n",
       "      <td>17.000000</td>\n",
       "      <td>28.000000</td>\n",
       "      <td>488.000000</td>\n",
       "      <td>20.000000</td>\n",
       "      <td>38.000000</td>\n",
       "    </tr>\n",
       "    <tr>\n",
       "      <th>75%</th>\n",
       "      <td>515.000000</td>\n",
       "      <td>21.000000</td>\n",
       "      <td>51.000000</td>\n",
       "      <td>711.000000</td>\n",
       "      <td>27.000000</td>\n",
       "      <td>79.000000</td>\n",
       "    </tr>\n",
       "    <tr>\n",
       "      <th>max</th>\n",
       "      <td>1354.000000</td>\n",
       "      <td>39.000000</td>\n",
       "      <td>143.000000</td>\n",
       "      <td>1578.000000</td>\n",
       "      <td>50.000000</td>\n",
       "      <td>224.000000</td>\n",
       "    </tr>\n",
       "  </tbody>\n",
       "</table>\n",
       "</div>"
      ],
      "text/plain": [
       "       duration_smart  gb_used_smart  sum_massege_smart  duration_ultra  \\\n",
       "count     2229.000000    2229.000000        2229.000000      985.000000   \n",
       "mean       393.929565      16.695828          33.384029      496.588832   \n",
       "std        179.969846       5.877404          28.227876      299.864584   \n",
       "min          0.000000       0.000000           0.000000        0.000000   \n",
       "25%        267.000000      13.000000          10.000000      267.000000   \n",
       "50%        397.000000      17.000000          28.000000      488.000000   \n",
       "75%        515.000000      21.000000          51.000000      711.000000   \n",
       "max       1354.000000      39.000000         143.000000     1578.000000   \n",
       "\n",
       "       gb_used_ultra  sum_massege_ultra  \n",
       "count     985.000000         985.000000  \n",
       "mean       19.965482          49.363452  \n",
       "std        10.100955          47.804457  \n",
       "min         0.000000           0.000000  \n",
       "25%        12.000000           6.000000  \n",
       "50%        20.000000          38.000000  \n",
       "75%        27.000000          79.000000  \n",
       "max        50.000000         224.000000  "
      ]
     },
     "execution_count": 37,
     "metadata": {},
     "output_type": "execute_result"
    }
   ],
   "source": [
    "general.loc[general['tariff']=='smart',['duration','gb_used','sum_massege']].describe().join(\n",
    "    general.loc[general['tariff']=='ultra',['duration','gb_used','sum_massege']].describe(), \\\n",
    "    rsuffix='_ultra', lsuffix='_smart')"
   ]
  },
  {
   "cell_type": "markdown",
   "metadata": {},
   "source": [
    "После проведённого анализа выборки, стало ясно, что помимо того, что пользователей тарифа smart больше, чем пользователей тарифа ultra и они в виду этого больше отправляют сообщений, дольше разговаривают и больше тратят интернета, они так же больше выходят за рамки пакета услуг предоставленного в тарифе, а значит, скорее всего и больше прибыли приносят.   "
   ]
  },
  {
   "cell_type": "code",
   "execution_count": 38,
   "metadata": {},
   "outputs": [
    {
     "data": {
      "text/html": [
       "<div>\n",
       "<style scoped>\n",
       "    .dataframe tbody tr th:only-of-type {\n",
       "        vertical-align: middle;\n",
       "    }\n",
       "\n",
       "    .dataframe tbody tr th {\n",
       "        vertical-align: top;\n",
       "    }\n",
       "\n",
       "    .dataframe thead th {\n",
       "        text-align: right;\n",
       "    }\n",
       "</style>\n",
       "<table border=\"1\" class=\"dataframe\">\n",
       "  <thead>\n",
       "    <tr style=\"text-align: right;\">\n",
       "      <th></th>\n",
       "      <th>gain</th>\n",
       "    </tr>\n",
       "    <tr>\n",
       "      <th>tariff</th>\n",
       "      <th></th>\n",
       "    </tr>\n",
       "  </thead>\n",
       "  <tbody>\n",
       "    <tr>\n",
       "      <th>smart</th>\n",
       "      <td>2926096</td>\n",
       "    </tr>\n",
       "    <tr>\n",
       "      <th>ultra</th>\n",
       "      <td>2058000</td>\n",
       "    </tr>\n",
       "  </tbody>\n",
       "</table>\n",
       "</div>"
      ],
      "text/plain": [
       "           gain\n",
       "tariff         \n",
       "smart   2926096\n",
       "ultra   2058000"
      ]
     },
     "execution_count": 38,
     "metadata": {},
     "output_type": "execute_result"
    }
   ],
   "source": [
    "general.pivot_table(index = 'tariff', values = 'gain', aggfunc = 'sum')"
   ]
  },
  {
   "cell_type": "markdown",
   "metadata": {},
   "source": [
    "Большинство пользователей тарифа smart разговаривают от 282 до 545 минут в месяц, в то время как пользователи тарифа ultra от 284 до 752 минут.    \n",
    "Большинство пользователей тарифа smart отправляют от 10 до 51 сообщения в месяц, в то время как пользователи тарифа ultra от 6 до 79 сообщений.    \n",
    "Большинство пользователей тарифа smart тратят трафик интернета от 13 до 17 Гбайт в месяц, в то время как пользователи тарифа ultra от 12 до 27 Гбайт.\n",
    "Стандартное отклонение пользователей тарифа ultra больше по всем параметрам, что указывает на больший разброс значений."
   ]
  },
  {
   "cell_type": "code",
   "execution_count": 39,
   "metadata": {},
   "outputs": [
    {
     "data": {
      "text/html": [
       "<div>\n",
       "<style scoped>\n",
       "    .dataframe tbody tr th:only-of-type {\n",
       "        vertical-align: middle;\n",
       "    }\n",
       "\n",
       "    .dataframe tbody tr th {\n",
       "        vertical-align: top;\n",
       "    }\n",
       "\n",
       "    .dataframe thead tr th {\n",
       "        text-align: left;\n",
       "    }\n",
       "\n",
       "    .dataframe thead tr:last-of-type th {\n",
       "        text-align: right;\n",
       "    }\n",
       "</style>\n",
       "<table border=\"1\" class=\"dataframe\">\n",
       "  <thead>\n",
       "    <tr>\n",
       "      <th></th>\n",
       "      <th colspan=\"3\" halign=\"left\">mean</th>\n",
       "      <th colspan=\"3\" halign=\"left\">median</th>\n",
       "      <th colspan=\"3\" halign=\"left\">var</th>\n",
       "      <th colspan=\"3\" halign=\"left\">std</th>\n",
       "    </tr>\n",
       "    <tr>\n",
       "      <th></th>\n",
       "      <th>duration</th>\n",
       "      <th>gb_used</th>\n",
       "      <th>sum_massege</th>\n",
       "      <th>duration</th>\n",
       "      <th>gb_used</th>\n",
       "      <th>sum_massege</th>\n",
       "      <th>duration</th>\n",
       "      <th>gb_used</th>\n",
       "      <th>sum_massege</th>\n",
       "      <th>duration</th>\n",
       "      <th>gb_used</th>\n",
       "      <th>sum_massege</th>\n",
       "    </tr>\n",
       "    <tr>\n",
       "      <th>tariff</th>\n",
       "      <th></th>\n",
       "      <th></th>\n",
       "      <th></th>\n",
       "      <th></th>\n",
       "      <th></th>\n",
       "      <th></th>\n",
       "      <th></th>\n",
       "      <th></th>\n",
       "      <th></th>\n",
       "      <th></th>\n",
       "      <th></th>\n",
       "      <th></th>\n",
       "    </tr>\n",
       "  </thead>\n",
       "  <tbody>\n",
       "    <tr>\n",
       "      <th>smart</th>\n",
       "      <td>393.929565</td>\n",
       "      <td>16.695828</td>\n",
       "      <td>33.384029</td>\n",
       "      <td>397</td>\n",
       "      <td>17</td>\n",
       "      <td>28</td>\n",
       "      <td>32389.145396</td>\n",
       "      <td>34.543883</td>\n",
       "      <td>796.812958</td>\n",
       "      <td>179.969846</td>\n",
       "      <td>5.877404</td>\n",
       "      <td>28.227876</td>\n",
       "    </tr>\n",
       "    <tr>\n",
       "      <th>ultra</th>\n",
       "      <td>496.588832</td>\n",
       "      <td>19.965482</td>\n",
       "      <td>49.363452</td>\n",
       "      <td>488</td>\n",
       "      <td>20</td>\n",
       "      <td>38</td>\n",
       "      <td>89918.768778</td>\n",
       "      <td>102.029295</td>\n",
       "      <td>2285.266143</td>\n",
       "      <td>299.864584</td>\n",
       "      <td>10.100955</td>\n",
       "      <td>47.804457</td>\n",
       "    </tr>\n",
       "  </tbody>\n",
       "</table>\n",
       "</div>"
      ],
      "text/plain": [
       "              mean                          median                      \\\n",
       "          duration    gb_used sum_massege duration gb_used sum_massege   \n",
       "tariff                                                                   \n",
       "smart   393.929565  16.695828   33.384029      397      17          28   \n",
       "ultra   496.588832  19.965482   49.363452      488      20          38   \n",
       "\n",
       "                 var                                  std             \\\n",
       "            duration     gb_used  sum_massege    duration    gb_used   \n",
       "tariff                                                                 \n",
       "smart   32389.145396   34.543883   796.812958  179.969846   5.877404   \n",
       "ultra   89918.768778  102.029295  2285.266143  299.864584  10.100955   \n",
       "\n",
       "                    \n",
       "       sum_massege  \n",
       "tariff              \n",
       "smart    28.227876  \n",
       "ultra    47.804457  "
      ]
     },
     "execution_count": 39,
     "metadata": {},
     "output_type": "execute_result"
    }
   ],
   "source": [
    "general.pivot_table(index = 'tariff', values = ['duration','gb_used', 'sum_massege'], \\\n",
    "                    aggfunc = ['mean', 'median', 'var', 'std'])"
   ]
  },
  {
   "cell_type": "markdown",
   "metadata": {},
   "source": [
    "## Проверка гипотез"
   ]
  },
  {
   "cell_type": "markdown",
   "metadata": {},
   "source": [
    "Нам необходимо проверить две гипотезы о генеральной совокупности по нашей имеющейся выборке:    \n",
    "\n",
    "1) средняя выручка пользователей тарифов «Ультра» и «Смарт» различаются;    \n",
    "2) средняя выручка пользователей из Москвы отличается от выручки пользователей из других регионов."
   ]
  },
  {
   "cell_type": "markdown",
   "metadata": {},
   "source": [
    "### Гипотеза 1"
   ]
  },
  {
   "cell_type": "markdown",
   "metadata": {},
   "source": [
    "Сформулируем гипотезу H0 которая состоит в том, что средняя выручка пользователей тарифов «Ультра» и «Смарт» равны в генеральной совокупности, тогда обратная ей гипотеза H1 будет состоять в том, что средняя выручка пользователей тарифов «Ультра» и «Смарт» в генеральной совокупности не равны друг другу. Для проверки этих гипотез объявим новые переменные, которые будут содержать прибыли пользователей тарифов."
   ]
  },
  {
   "cell_type": "code",
   "execution_count": 40,
   "metadata": {},
   "outputs": [],
   "source": [
    "#перменная содержащая прибыль по пользователям тарифа smart\n",
    "sample_smart = general[general['tariff']=='smart']['gain']\n",
    "#перменная содержащая прибыль по пользователям тарифа ultra\n",
    "sample_ultra = general[general['tariff']=='ultra']['gain']"
   ]
  },
  {
   "cell_type": "markdown",
   "metadata": {},
   "source": [
    "Уровень значимости для проверки нашей односторонней гипотезы примем стандартный - 5 %. Проверку Гипотизы проведём с помощью функции st.ttest_ind(), где в качестве аргумента equal_var передадим False, потому что у нас размер выборок отличается и есть основания полагать, что дисперсии совокупностей отличаются друг от друга."
   ]
  },
  {
   "cell_type": "code",
   "execution_count": 41,
   "metadata": {},
   "outputs": [
    {
     "name": "stdout",
     "output_type": "stream",
     "text": [
      "Среднее значение прибыли пользователей Smart: 1312.739344997757\n",
      "Среднее значение прибыли пользователей Ultra: 2089.340101522843\n",
      "P-значение = 6.903548809051448e-229\n",
      "Отвергаем гипотизу H0 в пользу Н1\n"
     ]
    }
   ],
   "source": [
    "alpha = 0.05 #уровень знаимости\n",
    "print('Среднее значение прибыли пользователей Smart:', sample_smart.mean())\n",
    "print('Среднее значение прибыли пользователей Ultra:', sample_ultra.mean())\n",
    "\n",
    "result = st.ttest_ind(sample_smart, sample_ultra, equal_var=False)\n",
    "\n",
    "print('P-значение =', result.pvalue)\n",
    "\n",
    "if result.pvalue < alpha:\n",
    "    print(\"Отвергаем гипотизу H0 в пользу Н1\")\n",
    "else:\n",
    "    print(\"Не можем отвергнуть гипотезу H0\")"
   ]
  },
  {
   "cell_type": "markdown",
   "metadata": {},
   "source": [
    "#### Вывод по Гипотезе 1"
   ]
  },
  {
   "cell_type": "markdown",
   "metadata": {},
   "source": [
    "Исходя из результатов проверки нашей двухсторонней гипотезы, мы можем сказать, что среднии выручки генеральных совокупностей тарифов «Ультра» и «Смарт» не равны между собой, а различаются, в какую сторону мы не знаем, потому что проверяли двустороннюю гипотезу. Но если рассматривать именно выборки генеральных совокупностей, а не сами генеральные совокупности, то средняя прибыль тарифа Smart больше."
   ]
  },
  {
   "cell_type": "markdown",
   "metadata": {},
   "source": [
    "### Гипотеза 2"
   ]
  },
  {
   "cell_type": "markdown",
   "metadata": {},
   "source": [
    "Сформулируем гипотезу H0, которая состоит в том, что средняя выручка пользователей из Москвы равна выручке пользователей из других регионов, тогда обратная ей гипотеза H1 будет состоять в том, что средние выручки пользователей из Москвы и пользователей из других регионов в генеральной совокупности не равны друг другу. Для проверки этих гипотез объявим новые переменные, которые будут содержать таблицы сгруппированные по нужным нам данным."
   ]
  },
  {
   "cell_type": "code",
   "execution_count": 42,
   "metadata": {},
   "outputs": [],
   "source": [
    "#Переменная содержащая данные по прибыли с пользователей в гоороде Москвы\n",
    "sample_moscow = general[general['city']=='Москва']['gain']\n",
    "#Переменная содержащая данные по прибыли с пользователей в других регионов\n",
    "sample_regions = general[general['city']!='Москва']['gain']"
   ]
  },
  {
   "cell_type": "markdown",
   "metadata": {},
   "source": [
    "Уровень значимости для проверки нашей односторонней гипотизы примем стандартный - 5 %. Проверку Гипотезы проведём с помощью функции st.ttest_ind(), где в качестве аргумента equal_var передадим False, потому что у нас размер выборок отличается и есть основания полагать, что дисперсии совокупностей отличаются друг от друга."
   ]
  },
  {
   "cell_type": "code",
   "execution_count": 43,
   "metadata": {},
   "outputs": [
    {
     "name": "stdout",
     "output_type": "stream",
     "text": [
      "Средняя выручка с пользователей в Москве: 1569.024549918167\n",
      "Средняя выручка с пользователей в других регионах: 1546.4548597771802\n",
      "Значение P-value = 0.5213228431049566\n",
      "Не можем отвергнуть гипотизу Н0\n"
     ]
    }
   ],
   "source": [
    "alpha = 0.05\n",
    "print('Средняя выручка с пользователей в Москве:', sample_moscow.mean())\n",
    "print('Средняя выручка с пользователей в других регионах:', sample_regions.mean())\n",
    "\n",
    "result = st.ttest_ind(sample_moscow, sample_regions, equal_var = False)\n",
    "\n",
    "print('Значение P-value =', result.pvalue)\n",
    "\n",
    "if result.pvalue < alpha:\n",
    "    print('Отвергаем гипотизу Н0 в пользу Н1')\n",
    "else:\n",
    "    print('Не можем отвергнуть гипотизу Н0')        "
   ]
  },
  {
   "cell_type": "markdown",
   "metadata": {},
   "source": [
    "#### Вывод по Гипотезе 2"
   ]
  },
  {
   "cell_type": "markdown",
   "metadata": {},
   "source": [
    "С вероятностью больше уровня значимости мы не можем отрицать, что средняя выручка Москвы равна средней выручке в других регионах в объёме нашей генеральной совокупности. В объёме наших выборок из генеральной совокупности мы видим, что среднии выручки пользователей достаточно близки по значениям."
   ]
  },
  {
   "cell_type": "markdown",
   "metadata": {},
   "source": [
    "## Общий вывод"
   ]
  },
  {
   "cell_type": "markdown",
   "metadata": {},
   "source": [
    "При анализе данных из выборок генеральной совокупности нам удалось выяснить, что пользователей тарифа Smart больше чем пользователей тарифа Ultra, вероятней всего, потому что Smart дешевле. В тоже время пользователи тарифа Smart больше выходят за рамки предоставленных в пакете тарифа объёма услуг. Как минимум эти два фактора объясняют то, что пользователи тарифа Smart приносят больше прибыли оператору телефонной связи.\n",
    "Доходы с каждого тарифа регулярно растут с каждым месяцем. \n",
    "При уровне значимости в 5 %, мы отвергли гипотезу о том, что средняя выручка пользователей тарифов «Ультра» и «Смарт» одинаковы в пользу того, что они различаются.\n",
    "При том же уровне значимости в 5 % мы не смогли отвергнуть гипотезу, что средняя выручка пользователей из Москвы равна выручки пользователей из других регионов, так как полученная вероятность больше уровня значимости."
   ]
  }
 ],
 "metadata": {
  "ExecuteTimeLog": [
   {
    "duration": 3,
    "start_time": "2022-05-23T11:44:49.029Z"
   },
   {
    "duration": 9,
    "start_time": "2022-05-23T11:44:49.034Z"
   },
   {
    "duration": 510,
    "start_time": "2022-05-23T11:49:29.157Z"
   },
   {
    "duration": 1342,
    "start_time": "2022-05-23T11:50:46.478Z"
   },
   {
    "duration": 27,
    "start_time": "2022-05-23T11:53:46.601Z"
   },
   {
    "duration": 30,
    "start_time": "2022-05-23T11:54:17.778Z"
   },
   {
    "duration": 25,
    "start_time": "2022-05-23T11:54:52.517Z"
   },
   {
    "duration": 46,
    "start_time": "2022-05-23T11:55:47.111Z"
   },
   {
    "duration": 50,
    "start_time": "2022-05-23T11:56:23.019Z"
   },
   {
    "duration": 43,
    "start_time": "2022-05-23T11:56:25.778Z"
   },
   {
    "duration": 30,
    "start_time": "2022-05-23T11:56:30.057Z"
   },
   {
    "duration": 28,
    "start_time": "2022-05-23T11:56:50.496Z"
   },
   {
    "duration": 33,
    "start_time": "2022-05-23T11:57:47.002Z"
   },
   {
    "duration": 15,
    "start_time": "2022-05-23T11:58:18.564Z"
   },
   {
    "duration": 27,
    "start_time": "2022-05-23T11:58:54.116Z"
   },
   {
    "duration": 97,
    "start_time": "2022-05-23T12:08:47.558Z"
   },
   {
    "duration": 27,
    "start_time": "2022-05-23T12:09:41.116Z"
   },
   {
    "duration": 19,
    "start_time": "2022-05-23T12:10:31.540Z"
   },
   {
    "duration": 23,
    "start_time": "2022-05-23T12:10:44.724Z"
   },
   {
    "duration": 17,
    "start_time": "2022-05-23T12:10:54.394Z"
   },
   {
    "duration": 24,
    "start_time": "2022-05-23T12:11:43.544Z"
   },
   {
    "duration": 25,
    "start_time": "2022-05-23T12:11:51.284Z"
   },
   {
    "duration": 29,
    "start_time": "2022-05-23T12:11:58.846Z"
   },
   {
    "duration": 8,
    "start_time": "2022-05-23T12:14:19.560Z"
   },
   {
    "duration": 34,
    "start_time": "2022-05-23T12:14:32.644Z"
   },
   {
    "duration": 420,
    "start_time": "2022-05-23T12:16:04.055Z"
   },
   {
    "duration": 1351,
    "start_time": "2022-05-23T12:16:04.477Z"
   },
   {
    "duration": 36,
    "start_time": "2022-05-23T12:16:05.830Z"
   },
   {
    "duration": 25,
    "start_time": "2022-05-23T12:16:05.868Z"
   },
   {
    "duration": 23,
    "start_time": "2022-05-23T12:16:05.895Z"
   },
   {
    "duration": 36,
    "start_time": "2022-05-23T12:16:05.919Z"
   },
   {
    "duration": 19,
    "start_time": "2022-05-23T12:16:05.957Z"
   },
   {
    "duration": 35,
    "start_time": "2022-05-23T12:34:37.329Z"
   },
   {
    "duration": 55,
    "start_time": "2022-05-23T12:35:07.839Z"
   },
   {
    "duration": 40,
    "start_time": "2022-05-23T12:35:16.951Z"
   },
   {
    "duration": 59,
    "start_time": "2022-05-23T12:35:19.940Z"
   },
   {
    "duration": 26,
    "start_time": "2022-05-23T12:37:38.411Z"
   },
   {
    "duration": 33,
    "start_time": "2022-05-23T12:37:45.655Z"
   },
   {
    "duration": 18,
    "start_time": "2022-05-23T12:38:04.994Z"
   },
   {
    "duration": 31,
    "start_time": "2022-05-23T12:38:12.041Z"
   },
   {
    "duration": 19,
    "start_time": "2022-05-23T12:39:08.780Z"
   },
   {
    "duration": 26,
    "start_time": "2022-05-23T12:39:38.728Z"
   },
   {
    "duration": 30,
    "start_time": "2022-05-23T12:40:11.917Z"
   },
   {
    "duration": 36,
    "start_time": "2022-05-23T12:41:02.761Z"
   },
   {
    "duration": 58,
    "start_time": "2022-05-23T12:41:31.542Z"
   },
   {
    "duration": 489,
    "start_time": "2022-05-23T12:41:36.997Z"
   },
   {
    "duration": 1357,
    "start_time": "2022-05-23T12:41:37.488Z"
   },
   {
    "duration": 42,
    "start_time": "2022-05-23T12:41:38.846Z"
   },
   {
    "duration": 30,
    "start_time": "2022-05-23T12:41:38.890Z"
   },
   {
    "duration": 42,
    "start_time": "2022-05-23T12:41:38.923Z"
   },
   {
    "duration": 17,
    "start_time": "2022-05-23T12:41:38.967Z"
   },
   {
    "duration": 21,
    "start_time": "2022-05-23T12:41:38.986Z"
   },
   {
    "duration": 68,
    "start_time": "2022-05-23T12:41:39.008Z"
   },
   {
    "duration": 1055,
    "start_time": "2022-05-23T12:42:55.557Z"
   },
   {
    "duration": 36,
    "start_time": "2022-05-23T12:43:36.364Z"
   },
   {
    "duration": 1040,
    "start_time": "2022-05-23T12:43:46.794Z"
   },
   {
    "duration": 66,
    "start_time": "2022-05-23T12:44:25.064Z"
   },
   {
    "duration": 14,
    "start_time": "2022-05-23T13:35:47.306Z"
   },
   {
    "duration": 23,
    "start_time": "2022-05-23T13:36:39.064Z"
   },
   {
    "duration": 54,
    "start_time": "2022-05-23T13:42:56.694Z"
   },
   {
    "duration": 29,
    "start_time": "2022-05-23T13:45:29.603Z"
   },
   {
    "duration": 25,
    "start_time": "2022-05-23T13:45:41.303Z"
   },
   {
    "duration": 39,
    "start_time": "2022-05-23T13:46:55.497Z"
   },
   {
    "duration": 28,
    "start_time": "2022-05-23T13:47:43.545Z"
   },
   {
    "duration": 474,
    "start_time": "2022-05-23T13:47:53.016Z"
   },
   {
    "duration": 435,
    "start_time": "2022-05-23T13:47:53.492Z"
   },
   {
    "duration": 40,
    "start_time": "2022-05-23T13:47:53.929Z"
   },
   {
    "duration": 27,
    "start_time": "2022-05-23T13:47:53.970Z"
   },
   {
    "duration": 42,
    "start_time": "2022-05-23T13:47:54.000Z"
   },
   {
    "duration": 16,
    "start_time": "2022-05-23T13:47:54.044Z"
   },
   {
    "duration": 20,
    "start_time": "2022-05-23T13:47:54.062Z"
   },
   {
    "duration": 41,
    "start_time": "2022-05-23T13:47:54.084Z"
   },
   {
    "duration": 30,
    "start_time": "2022-05-23T13:49:22.936Z"
   },
   {
    "duration": 451,
    "start_time": "2022-05-23T13:49:28.514Z"
   },
   {
    "duration": 411,
    "start_time": "2022-05-23T13:49:28.967Z"
   },
   {
    "duration": 37,
    "start_time": "2022-05-23T13:49:29.379Z"
   },
   {
    "duration": 27,
    "start_time": "2022-05-23T13:49:29.418Z"
   },
   {
    "duration": 23,
    "start_time": "2022-05-23T13:49:29.447Z"
   },
   {
    "duration": 15,
    "start_time": "2022-05-23T13:49:29.471Z"
   },
   {
    "duration": 16,
    "start_time": "2022-05-23T13:49:29.487Z"
   },
   {
    "duration": 61,
    "start_time": "2022-05-23T13:49:29.504Z"
   },
   {
    "duration": 57,
    "start_time": "2022-05-23T13:50:03.631Z"
   },
   {
    "duration": 64,
    "start_time": "2022-05-23T13:56:29.565Z"
   },
   {
    "duration": 460,
    "start_time": "2022-05-23T13:56:36.682Z"
   },
   {
    "duration": 1353,
    "start_time": "2022-05-23T13:56:37.144Z"
   },
   {
    "duration": 46,
    "start_time": "2022-05-23T13:56:38.500Z"
   },
   {
    "duration": 31,
    "start_time": "2022-05-23T13:56:38.548Z"
   },
   {
    "duration": 29,
    "start_time": "2022-05-23T13:56:38.581Z"
   },
   {
    "duration": 44,
    "start_time": "2022-05-23T13:56:38.612Z"
   },
   {
    "duration": 19,
    "start_time": "2022-05-23T13:56:38.658Z"
   },
   {
    "duration": 3,
    "start_time": "2022-05-23T13:57:11.195Z"
   },
   {
    "duration": 1103,
    "start_time": "2022-05-23T13:57:16.676Z"
   },
   {
    "duration": 1418,
    "start_time": "2022-05-23T13:57:17.781Z"
   },
   {
    "duration": 55,
    "start_time": "2022-05-23T13:57:19.201Z"
   },
   {
    "duration": 32,
    "start_time": "2022-05-23T13:57:19.258Z"
   },
   {
    "duration": 47,
    "start_time": "2022-05-23T13:57:19.293Z"
   },
   {
    "duration": 18,
    "start_time": "2022-05-23T13:57:19.343Z"
   },
   {
    "duration": 22,
    "start_time": "2022-05-23T13:57:19.363Z"
   },
   {
    "duration": 3,
    "start_time": "2022-05-23T13:57:19.387Z"
   },
   {
    "duration": 47,
    "start_time": "2022-05-23T14:15:44.693Z"
   },
   {
    "duration": 34,
    "start_time": "2022-05-23T14:15:51.789Z"
   },
   {
    "duration": 26,
    "start_time": "2022-05-23T14:20:23.393Z"
   },
   {
    "duration": 32,
    "start_time": "2022-05-23T14:22:18.062Z"
   },
   {
    "duration": 25,
    "start_time": "2022-05-23T14:22:32.974Z"
   },
   {
    "duration": 27,
    "start_time": "2022-05-23T14:22:37.382Z"
   },
   {
    "duration": 27,
    "start_time": "2022-05-23T14:22:43.175Z"
   },
   {
    "duration": 88,
    "start_time": "2022-05-23T14:24:44.374Z"
   },
   {
    "duration": 71,
    "start_time": "2022-05-23T14:25:19.332Z"
   },
   {
    "duration": 3,
    "start_time": "2022-05-23T14:27:19.112Z"
   },
   {
    "duration": 25,
    "start_time": "2022-05-23T14:27:24.807Z"
   },
   {
    "duration": 27,
    "start_time": "2022-05-23T14:27:50.134Z"
   },
   {
    "duration": 23,
    "start_time": "2022-05-23T14:28:36.486Z"
   },
   {
    "duration": 2,
    "start_time": "2022-05-23T14:30:44.335Z"
   },
   {
    "duration": 499,
    "start_time": "2022-05-23T14:30:50.314Z"
   },
   {
    "duration": 493,
    "start_time": "2022-05-23T14:30:50.816Z"
   },
   {
    "duration": 46,
    "start_time": "2022-05-23T14:30:51.310Z"
   },
   {
    "duration": 30,
    "start_time": "2022-05-23T14:30:51.358Z"
   },
   {
    "duration": 27,
    "start_time": "2022-05-23T14:30:51.390Z"
   },
   {
    "duration": 37,
    "start_time": "2022-05-23T14:30:51.419Z"
   },
   {
    "duration": 31,
    "start_time": "2022-05-23T14:30:51.457Z"
   },
   {
    "duration": 4,
    "start_time": "2022-05-23T14:30:51.490Z"
   },
   {
    "duration": 135,
    "start_time": "2022-05-23T14:30:51.496Z"
   },
   {
    "duration": 25,
    "start_time": "2022-05-23T14:30:58.405Z"
   },
   {
    "duration": 33,
    "start_time": "2022-05-23T14:31:19.932Z"
   },
   {
    "duration": 29,
    "start_time": "2022-05-23T14:32:12.925Z"
   },
   {
    "duration": 33,
    "start_time": "2022-05-23T15:03:35.216Z"
   },
   {
    "duration": 26,
    "start_time": "2022-05-23T15:03:40.136Z"
   },
   {
    "duration": 507,
    "start_time": "2022-05-23T15:06:05.195Z"
   },
   {
    "duration": 481,
    "start_time": "2022-05-23T15:06:18.010Z"
   },
   {
    "duration": 472,
    "start_time": "2022-05-23T15:06:18.493Z"
   },
   {
    "duration": 44,
    "start_time": "2022-05-23T15:06:18.967Z"
   },
   {
    "duration": 31,
    "start_time": "2022-05-23T15:06:19.013Z"
   },
   {
    "duration": 29,
    "start_time": "2022-05-23T15:06:19.047Z"
   },
   {
    "duration": 20,
    "start_time": "2022-05-23T15:06:19.078Z"
   },
   {
    "duration": 50,
    "start_time": "2022-05-23T15:06:19.100Z"
   },
   {
    "duration": 10,
    "start_time": "2022-05-23T15:06:19.152Z"
   },
   {
    "duration": 46,
    "start_time": "2022-05-23T15:06:19.164Z"
   },
   {
    "duration": 45,
    "start_time": "2022-05-23T15:06:19.212Z"
   },
   {
    "duration": 112,
    "start_time": "2022-05-23T15:06:31.965Z"
   },
   {
    "duration": 486,
    "start_time": "2022-05-23T15:06:46.465Z"
   },
   {
    "duration": 536,
    "start_time": "2022-05-23T15:06:46.954Z"
   },
   {
    "duration": 46,
    "start_time": "2022-05-23T15:06:47.491Z"
   },
   {
    "duration": 32,
    "start_time": "2022-05-23T15:06:47.539Z"
   },
   {
    "duration": 27,
    "start_time": "2022-05-23T15:06:47.573Z"
   },
   {
    "duration": 49,
    "start_time": "2022-05-23T15:06:47.602Z"
   },
   {
    "duration": 37,
    "start_time": "2022-05-23T15:06:47.654Z"
   },
   {
    "duration": 5,
    "start_time": "2022-05-23T15:06:47.693Z"
   },
   {
    "duration": 57,
    "start_time": "2022-05-23T15:06:47.700Z"
   },
   {
    "duration": 46,
    "start_time": "2022-05-23T15:06:47.759Z"
   },
   {
    "duration": 488,
    "start_time": "2022-05-23T15:07:01.165Z"
   },
   {
    "duration": 502,
    "start_time": "2022-05-23T15:07:01.655Z"
   },
   {
    "duration": 62,
    "start_time": "2022-05-23T15:07:02.159Z"
   },
   {
    "duration": 51,
    "start_time": "2022-05-23T15:07:02.223Z"
   },
   {
    "duration": 28,
    "start_time": "2022-05-23T15:07:02.276Z"
   },
   {
    "duration": 37,
    "start_time": "2022-05-23T15:07:02.306Z"
   },
   {
    "duration": 23,
    "start_time": "2022-05-23T15:07:02.345Z"
   },
   {
    "duration": 8,
    "start_time": "2022-05-23T15:07:02.370Z"
   },
   {
    "duration": 68,
    "start_time": "2022-05-23T15:07:02.381Z"
   },
   {
    "duration": 44,
    "start_time": "2022-05-23T15:07:02.452Z"
   },
   {
    "duration": 469,
    "start_time": "2022-05-23T15:07:24.860Z"
   },
   {
    "duration": 485,
    "start_time": "2022-05-23T15:07:25.331Z"
   },
   {
    "duration": 47,
    "start_time": "2022-05-23T15:07:25.818Z"
   },
   {
    "duration": 31,
    "start_time": "2022-05-23T15:07:25.867Z"
   },
   {
    "duration": 50,
    "start_time": "2022-05-23T15:07:25.902Z"
   },
   {
    "duration": 18,
    "start_time": "2022-05-23T15:07:25.954Z"
   },
   {
    "duration": 21,
    "start_time": "2022-05-23T15:07:25.975Z"
   },
   {
    "duration": 15,
    "start_time": "2022-05-23T15:07:25.999Z"
   },
   {
    "duration": 48,
    "start_time": "2022-05-23T15:07:26.041Z"
   },
   {
    "duration": 30,
    "start_time": "2022-05-23T15:07:26.091Z"
   },
   {
    "duration": 16,
    "start_time": "2022-05-23T15:07:35.097Z"
   },
   {
    "duration": 100,
    "start_time": "2022-05-23T15:08:44.417Z"
   },
   {
    "duration": 23,
    "start_time": "2022-05-23T15:09:07.866Z"
   },
   {
    "duration": 5,
    "start_time": "2022-05-23T15:11:58.762Z"
   },
   {
    "duration": 6,
    "start_time": "2022-05-23T15:12:35.219Z"
   },
   {
    "duration": 7,
    "start_time": "2022-05-23T15:12:53.287Z"
   },
   {
    "duration": 8,
    "start_time": "2022-05-23T15:12:57.317Z"
   },
   {
    "duration": 11,
    "start_time": "2022-05-23T15:13:12.867Z"
   },
   {
    "duration": 8,
    "start_time": "2022-05-23T15:13:29.077Z"
   },
   {
    "duration": 25,
    "start_time": "2022-05-23T15:14:29.396Z"
   },
   {
    "duration": 58,
    "start_time": "2022-05-23T15:14:56.752Z"
   },
   {
    "duration": 583,
    "start_time": "2022-05-23T15:16:25.196Z"
   },
   {
    "duration": 502,
    "start_time": "2022-05-23T15:16:40.462Z"
   },
   {
    "duration": 100,
    "start_time": "2022-05-23T15:16:40.967Z"
   },
   {
    "duration": 0,
    "start_time": "2022-05-23T15:16:41.069Z"
   },
   {
    "duration": 1,
    "start_time": "2022-05-23T15:16:41.070Z"
   },
   {
    "duration": 0,
    "start_time": "2022-05-23T15:16:41.072Z"
   },
   {
    "duration": 0,
    "start_time": "2022-05-23T15:16:41.073Z"
   },
   {
    "duration": 0,
    "start_time": "2022-05-23T15:16:41.074Z"
   },
   {
    "duration": 0,
    "start_time": "2022-05-23T15:16:41.074Z"
   },
   {
    "duration": 0,
    "start_time": "2022-05-23T15:16:41.076Z"
   },
   {
    "duration": 0,
    "start_time": "2022-05-23T15:16:41.078Z"
   },
   {
    "duration": 0,
    "start_time": "2022-05-23T15:16:41.079Z"
   },
   {
    "duration": 0,
    "start_time": "2022-05-23T15:16:41.080Z"
   },
   {
    "duration": 482,
    "start_time": "2022-05-23T15:17:00.710Z"
   },
   {
    "duration": 89,
    "start_time": "2022-05-23T15:17:01.194Z"
   },
   {
    "duration": 0,
    "start_time": "2022-05-23T15:17:01.285Z"
   },
   {
    "duration": 0,
    "start_time": "2022-05-23T15:17:01.286Z"
   },
   {
    "duration": 0,
    "start_time": "2022-05-23T15:17:01.287Z"
   },
   {
    "duration": 0,
    "start_time": "2022-05-23T15:17:01.289Z"
   },
   {
    "duration": 0,
    "start_time": "2022-05-23T15:17:01.290Z"
   },
   {
    "duration": 0,
    "start_time": "2022-05-23T15:17:01.291Z"
   },
   {
    "duration": 0,
    "start_time": "2022-05-23T15:17:01.292Z"
   },
   {
    "duration": 0,
    "start_time": "2022-05-23T15:17:01.293Z"
   },
   {
    "duration": 0,
    "start_time": "2022-05-23T15:17:01.294Z"
   },
   {
    "duration": 0,
    "start_time": "2022-05-23T15:17:01.295Z"
   },
   {
    "duration": 400,
    "start_time": "2022-05-23T19:42:36.653Z"
   },
   {
    "duration": 1321,
    "start_time": "2022-05-23T19:42:38.581Z"
   },
   {
    "duration": 36,
    "start_time": "2022-05-23T19:42:44.864Z"
   },
   {
    "duration": 463,
    "start_time": "2022-05-23T19:42:51.011Z"
   },
   {
    "duration": 451,
    "start_time": "2022-05-23T19:42:51.477Z"
   },
   {
    "duration": 39,
    "start_time": "2022-05-23T19:42:51.930Z"
   },
   {
    "duration": 29,
    "start_time": "2022-05-23T19:42:51.971Z"
   },
   {
    "duration": 46,
    "start_time": "2022-05-23T19:42:52.002Z"
   },
   {
    "duration": 15,
    "start_time": "2022-05-23T19:42:52.050Z"
   },
   {
    "duration": 19,
    "start_time": "2022-05-23T19:42:52.067Z"
   },
   {
    "duration": 12,
    "start_time": "2022-05-23T19:42:52.088Z"
   },
   {
    "duration": 100,
    "start_time": "2022-05-23T19:42:52.102Z"
   },
   {
    "duration": 50,
    "start_time": "2022-05-23T19:42:52.203Z"
   },
   {
    "duration": 19,
    "start_time": "2022-05-23T19:42:52.255Z"
   },
   {
    "duration": 6,
    "start_time": "2022-05-23T19:42:52.276Z"
   },
   {
    "duration": 25,
    "start_time": "2022-05-23T19:56:56.899Z"
   },
   {
    "duration": 21,
    "start_time": "2022-05-23T19:57:13.213Z"
   },
   {
    "duration": 49,
    "start_time": "2022-05-23T19:57:20.682Z"
   },
   {
    "duration": 389,
    "start_time": "2022-05-23T19:57:36.166Z"
   },
   {
    "duration": 1048,
    "start_time": "2022-05-23T19:57:36.557Z"
   },
   {
    "duration": 36,
    "start_time": "2022-05-23T19:57:37.606Z"
   },
   {
    "duration": 24,
    "start_time": "2022-05-23T19:57:37.644Z"
   },
   {
    "duration": 21,
    "start_time": "2022-05-23T19:57:37.670Z"
   },
   {
    "duration": 34,
    "start_time": "2022-05-23T19:57:37.693Z"
   },
   {
    "duration": 16,
    "start_time": "2022-05-23T19:57:37.729Z"
   },
   {
    "duration": 81,
    "start_time": "2022-05-23T19:57:37.747Z"
   },
   {
    "duration": 54,
    "start_time": "2022-05-23T19:57:37.830Z"
   },
   {
    "duration": 61,
    "start_time": "2022-05-23T19:57:37.886Z"
   },
   {
    "duration": 20,
    "start_time": "2022-05-23T19:57:37.949Z"
   },
   {
    "duration": 6,
    "start_time": "2022-05-23T19:57:37.970Z"
   },
   {
    "duration": 3,
    "start_time": "2022-05-23T19:59:49.104Z"
   },
   {
    "duration": 438,
    "start_time": "2022-05-23T19:59:54.417Z"
   },
   {
    "duration": 1031,
    "start_time": "2022-05-23T19:59:54.857Z"
   },
   {
    "duration": 38,
    "start_time": "2022-05-23T19:59:55.890Z"
   },
   {
    "duration": 26,
    "start_time": "2022-05-23T19:59:55.930Z"
   },
   {
    "duration": 22,
    "start_time": "2022-05-23T19:59:55.958Z"
   },
   {
    "duration": 14,
    "start_time": "2022-05-23T19:59:55.982Z"
   },
   {
    "duration": 17,
    "start_time": "2022-05-23T19:59:56.026Z"
   },
   {
    "duration": 8,
    "start_time": "2022-05-23T19:59:56.045Z"
   },
   {
    "duration": 74,
    "start_time": "2022-05-23T19:59:56.054Z"
   },
   {
    "duration": 40,
    "start_time": "2022-05-23T19:59:56.130Z"
   },
   {
    "duration": 17,
    "start_time": "2022-05-23T19:59:56.172Z"
   },
   {
    "duration": 6,
    "start_time": "2022-05-23T19:59:56.191Z"
   },
   {
    "duration": 442,
    "start_time": "2022-05-23T20:00:49.384Z"
   },
   {
    "duration": 471,
    "start_time": "2022-05-23T20:00:49.829Z"
   },
   {
    "duration": 42,
    "start_time": "2022-05-23T20:00:50.302Z"
   },
   {
    "duration": 27,
    "start_time": "2022-05-23T20:00:50.345Z"
   },
   {
    "duration": 24,
    "start_time": "2022-05-23T20:00:50.374Z"
   },
   {
    "duration": 38,
    "start_time": "2022-05-23T20:00:50.399Z"
   },
   {
    "duration": 20,
    "start_time": "2022-05-23T20:00:50.439Z"
   },
   {
    "duration": 7,
    "start_time": "2022-05-23T20:00:50.461Z"
   },
   {
    "duration": 87,
    "start_time": "2022-05-23T20:00:50.470Z"
   },
   {
    "duration": 43,
    "start_time": "2022-05-23T20:00:50.559Z"
   },
   {
    "duration": 28,
    "start_time": "2022-05-23T20:00:50.603Z"
   },
   {
    "duration": 13,
    "start_time": "2022-05-23T20:00:50.633Z"
   },
   {
    "duration": 25,
    "start_time": "2022-05-23T20:02:00.865Z"
   },
   {
    "duration": 32,
    "start_time": "2022-05-23T20:02:24.259Z"
   },
   {
    "duration": 23,
    "start_time": "2022-05-23T20:02:47.333Z"
   },
   {
    "duration": 186,
    "start_time": "2022-05-23T20:03:04.052Z"
   },
   {
    "duration": 18,
    "start_time": "2022-05-23T20:03:42.502Z"
   },
   {
    "duration": 13,
    "start_time": "2022-05-23T20:19:16.380Z"
   },
   {
    "duration": 77,
    "start_time": "2022-05-23T20:36:09.788Z"
   },
   {
    "duration": 2411,
    "start_time": "2022-05-23T20:36:13.872Z"
   },
   {
    "duration": 19,
    "start_time": "2022-05-23T20:36:41.257Z"
   },
   {
    "duration": 273,
    "start_time": "2022-05-23T20:37:18.673Z"
   },
   {
    "duration": 45,
    "start_time": "2022-05-23T20:37:51.691Z"
   },
   {
    "duration": 55,
    "start_time": "2022-05-24T03:49:35.356Z"
   },
   {
    "duration": 409,
    "start_time": "2022-05-24T03:49:44.271Z"
   },
   {
    "duration": 1603,
    "start_time": "2022-05-24T03:49:44.682Z"
   },
   {
    "duration": 37,
    "start_time": "2022-05-24T03:49:46.287Z"
   },
   {
    "duration": 31,
    "start_time": "2022-05-24T03:49:46.325Z"
   },
   {
    "duration": 28,
    "start_time": "2022-05-24T03:49:46.358Z"
   },
   {
    "duration": 14,
    "start_time": "2022-05-24T03:49:46.388Z"
   },
   {
    "duration": 16,
    "start_time": "2022-05-24T03:49:46.404Z"
   },
   {
    "duration": 6,
    "start_time": "2022-05-24T03:49:46.421Z"
   },
   {
    "duration": 145,
    "start_time": "2022-05-24T03:49:46.452Z"
   },
   {
    "duration": 54,
    "start_time": "2022-05-24T03:49:46.599Z"
   },
   {
    "duration": 18,
    "start_time": "2022-05-24T03:49:46.655Z"
   },
   {
    "duration": 17,
    "start_time": "2022-05-24T03:49:46.674Z"
   },
   {
    "duration": 66,
    "start_time": "2022-05-24T03:49:46.692Z"
   },
   {
    "duration": 116,
    "start_time": "2022-05-24T03:51:10.556Z"
   },
   {
    "duration": 570,
    "start_time": "2022-05-24T03:51:29.264Z"
   },
   {
    "duration": 398,
    "start_time": "2022-05-24T03:51:40.265Z"
   },
   {
    "duration": 400,
    "start_time": "2022-05-24T03:51:40.665Z"
   },
   {
    "duration": 37,
    "start_time": "2022-05-24T03:51:41.067Z"
   },
   {
    "duration": 30,
    "start_time": "2022-05-24T03:51:41.106Z"
   },
   {
    "duration": 23,
    "start_time": "2022-05-24T03:51:41.138Z"
   },
   {
    "duration": 14,
    "start_time": "2022-05-24T03:51:41.163Z"
   },
   {
    "duration": 18,
    "start_time": "2022-05-24T03:51:41.178Z"
   },
   {
    "duration": 2,
    "start_time": "2022-05-24T03:51:41.198Z"
   },
   {
    "duration": 178,
    "start_time": "2022-05-24T03:51:41.202Z"
   },
   {
    "duration": 88,
    "start_time": "2022-05-24T03:51:41.382Z"
   },
   {
    "duration": 18,
    "start_time": "2022-05-24T03:51:41.471Z"
   },
   {
    "duration": 18,
    "start_time": "2022-05-24T03:51:41.490Z"
   },
   {
    "duration": 74,
    "start_time": "2022-05-24T03:51:41.510Z"
   },
   {
    "duration": 47,
    "start_time": "2022-05-24T03:52:20.345Z"
   },
   {
    "duration": 20,
    "start_time": "2022-05-24T03:52:48.696Z"
   },
   {
    "duration": 66,
    "start_time": "2022-05-24T03:58:00.125Z"
   },
   {
    "duration": 16,
    "start_time": "2022-05-24T03:58:08.740Z"
   },
   {
    "duration": 27,
    "start_time": "2022-05-24T03:58:14.642Z"
   },
   {
    "duration": 40,
    "start_time": "2022-05-24T03:58:26.465Z"
   },
   {
    "duration": 30,
    "start_time": "2022-05-24T03:58:33.805Z"
   },
   {
    "duration": 29,
    "start_time": "2022-05-24T04:11:38.982Z"
   },
   {
    "duration": 31,
    "start_time": "2022-05-24T04:13:14.913Z"
   },
   {
    "duration": 26,
    "start_time": "2022-05-24T04:13:30.142Z"
   },
   {
    "duration": 8,
    "start_time": "2022-05-24T04:15:45.057Z"
   },
   {
    "duration": 20,
    "start_time": "2022-05-24T04:15:51.708Z"
   },
   {
    "duration": 22,
    "start_time": "2022-05-24T04:16:15.486Z"
   },
   {
    "duration": 52,
    "start_time": "2022-05-24T04:17:09.479Z"
   },
   {
    "duration": 85,
    "start_time": "2022-05-24T04:17:47.672Z"
   },
   {
    "duration": 13,
    "start_time": "2022-05-24T04:20:23.771Z"
   },
   {
    "duration": 40,
    "start_time": "2022-05-24T04:36:36.802Z"
   },
   {
    "duration": 34,
    "start_time": "2022-05-24T04:36:56.902Z"
   },
   {
    "duration": 288,
    "start_time": "2022-05-24T04:38:22.432Z"
   },
   {
    "duration": 28,
    "start_time": "2022-05-24T04:38:52.936Z"
   },
   {
    "duration": 418,
    "start_time": "2022-05-24T15:44:15.876Z"
   },
   {
    "duration": 1296,
    "start_time": "2022-05-24T15:44:16.296Z"
   },
   {
    "duration": 34,
    "start_time": "2022-05-24T15:44:17.594Z"
   },
   {
    "duration": 38,
    "start_time": "2022-05-24T15:44:17.629Z"
   },
   {
    "duration": 20,
    "start_time": "2022-05-24T15:44:17.669Z"
   },
   {
    "duration": 14,
    "start_time": "2022-05-24T15:44:17.690Z"
   },
   {
    "duration": 16,
    "start_time": "2022-05-24T15:44:17.706Z"
   },
   {
    "duration": 4,
    "start_time": "2022-05-24T15:44:17.724Z"
   },
   {
    "duration": 175,
    "start_time": "2022-05-24T15:44:17.730Z"
   },
   {
    "duration": 28,
    "start_time": "2022-05-24T15:44:17.906Z"
   },
   {
    "duration": 108,
    "start_time": "2022-05-24T15:44:17.935Z"
   },
   {
    "duration": 32,
    "start_time": "2022-05-24T15:44:18.044Z"
   },
   {
    "duration": 94,
    "start_time": "2022-05-24T15:44:18.077Z"
   },
   {
    "duration": 21,
    "start_time": "2022-05-24T15:44:18.173Z"
   },
   {
    "duration": 12,
    "start_time": "2022-05-24T15:44:18.195Z"
   },
   {
    "duration": 60,
    "start_time": "2022-05-24T15:44:18.209Z"
   },
   {
    "duration": 28,
    "start_time": "2022-05-24T15:44:18.271Z"
   },
   {
    "duration": 24,
    "start_time": "2022-05-24T15:44:18.301Z"
   },
   {
    "duration": 396,
    "start_time": "2022-05-24T15:46:12.006Z"
   },
   {
    "duration": 427,
    "start_time": "2022-05-24T15:46:12.404Z"
   },
   {
    "duration": 41,
    "start_time": "2022-05-24T15:46:12.832Z"
   },
   {
    "duration": 25,
    "start_time": "2022-05-24T15:46:12.874Z"
   },
   {
    "duration": 21,
    "start_time": "2022-05-24T15:46:12.901Z"
   },
   {
    "duration": 32,
    "start_time": "2022-05-24T15:46:12.924Z"
   },
   {
    "duration": 25,
    "start_time": "2022-05-24T15:46:12.958Z"
   },
   {
    "duration": 7,
    "start_time": "2022-05-24T15:46:12.985Z"
   },
   {
    "duration": 175,
    "start_time": "2022-05-24T15:46:12.994Z"
   },
   {
    "duration": 28,
    "start_time": "2022-05-24T15:46:13.170Z"
   },
   {
    "duration": 105,
    "start_time": "2022-05-24T15:46:13.200Z"
   },
   {
    "duration": 24,
    "start_time": "2022-05-24T15:46:13.306Z"
   },
   {
    "duration": 92,
    "start_time": "2022-05-24T15:46:13.332Z"
   },
   {
    "duration": 36,
    "start_time": "2022-05-24T15:46:13.427Z"
   },
   {
    "duration": 12,
    "start_time": "2022-05-24T15:46:13.466Z"
   },
   {
    "duration": 38,
    "start_time": "2022-05-24T15:46:13.480Z"
   },
   {
    "duration": 54,
    "start_time": "2022-05-24T15:46:13.520Z"
   },
   {
    "duration": 25,
    "start_time": "2022-05-24T15:46:13.576Z"
   },
   {
    "duration": 91,
    "start_time": "2022-05-24T15:46:13.603Z"
   },
   {
    "duration": 26,
    "start_time": "2022-05-24T15:47:23.273Z"
   },
   {
    "duration": 32,
    "start_time": "2022-05-24T15:50:00.268Z"
   },
   {
    "duration": 28,
    "start_time": "2022-05-24T15:50:05.360Z"
   },
   {
    "duration": 28,
    "start_time": "2022-05-24T15:51:07.306Z"
   },
   {
    "duration": 25,
    "start_time": "2022-05-24T15:51:51.916Z"
   },
   {
    "duration": 28,
    "start_time": "2022-05-24T15:52:13.964Z"
   },
   {
    "duration": 27,
    "start_time": "2022-05-24T15:53:15.044Z"
   },
   {
    "duration": 17,
    "start_time": "2022-05-24T15:53:21.645Z"
   },
   {
    "duration": 32,
    "start_time": "2022-05-24T15:54:38.208Z"
   },
   {
    "duration": 11,
    "start_time": "2022-05-24T15:55:16.364Z"
   },
   {
    "duration": 12,
    "start_time": "2022-05-24T15:55:20.694Z"
   },
   {
    "duration": 458,
    "start_time": "2022-05-24T15:55:28.149Z"
   },
   {
    "duration": 388,
    "start_time": "2022-05-24T15:55:28.609Z"
   },
   {
    "duration": 36,
    "start_time": "2022-05-24T15:55:28.999Z"
   },
   {
    "duration": 24,
    "start_time": "2022-05-24T15:55:29.036Z"
   },
   {
    "duration": 22,
    "start_time": "2022-05-24T15:55:29.062Z"
   },
   {
    "duration": 27,
    "start_time": "2022-05-24T15:55:29.086Z"
   },
   {
    "duration": 28,
    "start_time": "2022-05-24T15:55:29.114Z"
   },
   {
    "duration": 189,
    "start_time": "2022-05-24T15:55:29.144Z"
   },
   {
    "duration": 43,
    "start_time": "2022-05-24T15:55:29.335Z"
   },
   {
    "duration": 102,
    "start_time": "2022-05-24T15:55:29.379Z"
   },
   {
    "duration": 26,
    "start_time": "2022-05-24T15:55:29.483Z"
   },
   {
    "duration": 97,
    "start_time": "2022-05-24T15:55:29.511Z"
   },
   {
    "duration": 22,
    "start_time": "2022-05-24T15:55:29.610Z"
   },
   {
    "duration": 13,
    "start_time": "2022-05-24T15:55:29.652Z"
   },
   {
    "duration": 41,
    "start_time": "2022-05-24T15:55:29.667Z"
   },
   {
    "duration": 48,
    "start_time": "2022-05-24T15:55:29.710Z"
   },
   {
    "duration": 28,
    "start_time": "2022-05-24T15:55:29.760Z"
   },
   {
    "duration": 18,
    "start_time": "2022-05-24T15:55:29.790Z"
   },
   {
    "duration": 22,
    "start_time": "2022-05-24T15:58:31.533Z"
   },
   {
    "duration": 34,
    "start_time": "2022-05-24T15:58:47.454Z"
   },
   {
    "duration": 32,
    "start_time": "2022-05-24T15:59:40.765Z"
   },
   {
    "duration": 32,
    "start_time": "2022-05-24T15:59:57.490Z"
   },
   {
    "duration": 33,
    "start_time": "2022-05-24T16:00:21.277Z"
   },
   {
    "duration": 20,
    "start_time": "2022-05-24T16:01:05.695Z"
   },
   {
    "duration": 33,
    "start_time": "2022-05-24T16:01:22.182Z"
   },
   {
    "duration": 35,
    "start_time": "2022-05-24T16:02:51.607Z"
   },
   {
    "duration": 26,
    "start_time": "2022-05-24T16:02:58.248Z"
   },
   {
    "duration": 29,
    "start_time": "2022-05-24T16:05:33.428Z"
   },
   {
    "duration": 27,
    "start_time": "2022-05-24T16:05:46.176Z"
   },
   {
    "duration": 29,
    "start_time": "2022-05-24T16:06:00.733Z"
   },
   {
    "duration": 36,
    "start_time": "2022-05-24T16:11:47.431Z"
   },
   {
    "duration": 34,
    "start_time": "2022-05-24T16:11:52.525Z"
   },
   {
    "duration": 33,
    "start_time": "2022-05-24T16:11:57.173Z"
   },
   {
    "duration": 47,
    "start_time": "2022-05-24T16:12:00.221Z"
   },
   {
    "duration": 76,
    "start_time": "2022-05-24T16:12:15.072Z"
   },
   {
    "duration": 29,
    "start_time": "2022-05-24T16:12:24.650Z"
   },
   {
    "duration": 35,
    "start_time": "2022-05-24T16:13:12.581Z"
   },
   {
    "duration": 33,
    "start_time": "2022-05-24T16:15:00.264Z"
   },
   {
    "duration": 35,
    "start_time": "2022-05-24T16:15:16.560Z"
   },
   {
    "duration": 34,
    "start_time": "2022-05-24T16:17:09.736Z"
   },
   {
    "duration": 36,
    "start_time": "2022-05-24T16:17:12.488Z"
   },
   {
    "duration": 35,
    "start_time": "2022-05-24T16:17:13.373Z"
   },
   {
    "duration": 35,
    "start_time": "2022-05-24T16:17:56.118Z"
   },
   {
    "duration": 32,
    "start_time": "2022-05-24T16:17:56.702Z"
   },
   {
    "duration": 32,
    "start_time": "2022-05-24T16:17:58.487Z"
   },
   {
    "duration": 24,
    "start_time": "2022-05-24T16:42:36.776Z"
   },
   {
    "duration": 24,
    "start_time": "2022-05-24T16:43:02.320Z"
   },
   {
    "duration": 30,
    "start_time": "2022-05-24T16:43:26.310Z"
   },
   {
    "duration": 4,
    "start_time": "2022-05-24T16:44:26.804Z"
   },
   {
    "duration": 52,
    "start_time": "2022-05-24T16:44:34.190Z"
   },
   {
    "duration": 35,
    "start_time": "2022-05-24T16:45:13.581Z"
   },
   {
    "duration": 50,
    "start_time": "2022-05-24T16:45:24.802Z"
   },
   {
    "duration": 29,
    "start_time": "2022-05-24T16:46:38.892Z"
   },
   {
    "duration": 24,
    "start_time": "2022-05-24T16:46:44.610Z"
   },
   {
    "duration": 37,
    "start_time": "2022-05-24T16:46:57.325Z"
   },
   {
    "duration": 46,
    "start_time": "2022-05-24T16:47:13.836Z"
   },
   {
    "duration": 43,
    "start_time": "2022-05-24T16:47:23.979Z"
   },
   {
    "duration": 51,
    "start_time": "2022-05-24T16:47:55.463Z"
   },
   {
    "duration": 46,
    "start_time": "2022-05-24T16:48:26.727Z"
   },
   {
    "duration": 41,
    "start_time": "2022-05-24T16:48:41.622Z"
   },
   {
    "duration": 29,
    "start_time": "2022-05-24T16:48:59.584Z"
   },
   {
    "duration": 37,
    "start_time": "2022-05-24T16:49:28.908Z"
   },
   {
    "duration": 42,
    "start_time": "2022-05-24T16:49:41.034Z"
   },
   {
    "duration": 60,
    "start_time": "2022-05-24T16:49:48.036Z"
   },
   {
    "duration": 11,
    "start_time": "2022-05-24T16:50:13.002Z"
   },
   {
    "duration": 11,
    "start_time": "2022-05-24T16:50:18.715Z"
   },
   {
    "duration": 16,
    "start_time": "2022-05-24T16:50:25.870Z"
   },
   {
    "duration": 23,
    "start_time": "2022-05-24T16:50:36.009Z"
   },
   {
    "duration": 30,
    "start_time": "2022-05-24T16:50:51.752Z"
   },
   {
    "duration": 12,
    "start_time": "2022-05-24T16:51:51.569Z"
   },
   {
    "duration": 12,
    "start_time": "2022-05-24T16:51:58.392Z"
   },
   {
    "duration": 41,
    "start_time": "2022-05-24T16:53:23.967Z"
   },
   {
    "duration": 12,
    "start_time": "2022-05-24T17:12:47.786Z"
   },
   {
    "duration": 13,
    "start_time": "2022-05-24T17:13:06.587Z"
   },
   {
    "duration": 35,
    "start_time": "2022-05-24T17:13:56.530Z"
   },
   {
    "duration": 11,
    "start_time": "2022-05-24T17:15:23.142Z"
   },
   {
    "duration": 19,
    "start_time": "2022-05-24T17:15:47.585Z"
   },
   {
    "duration": 12,
    "start_time": "2022-05-24T17:15:49.617Z"
   },
   {
    "duration": 13,
    "start_time": "2022-05-24T17:15:53.034Z"
   },
   {
    "duration": 2,
    "start_time": "2022-05-24T17:16:02.437Z"
   },
   {
    "duration": 16,
    "start_time": "2022-05-24T17:16:30.744Z"
   },
   {
    "duration": 14,
    "start_time": "2022-05-24T17:16:55.035Z"
   },
   {
    "duration": 20,
    "start_time": "2022-05-24T17:17:03.623Z"
   },
   {
    "duration": 38,
    "start_time": "2022-05-24T17:18:14.653Z"
   },
   {
    "duration": 32,
    "start_time": "2022-05-24T17:18:22.280Z"
   },
   {
    "duration": 7,
    "start_time": "2022-05-24T17:18:49.840Z"
   },
   {
    "duration": 7,
    "start_time": "2022-05-24T17:19:12.322Z"
   },
   {
    "duration": 6,
    "start_time": "2022-05-24T17:19:17.671Z"
   },
   {
    "duration": 25,
    "start_time": "2022-05-24T17:20:00.381Z"
   },
   {
    "duration": 13,
    "start_time": "2022-05-24T17:20:03.563Z"
   },
   {
    "duration": 18,
    "start_time": "2022-05-24T17:20:17.308Z"
   },
   {
    "duration": 13,
    "start_time": "2022-05-24T17:20:19.012Z"
   },
   {
    "duration": 24,
    "start_time": "2022-05-24T17:20:28.591Z"
   },
   {
    "duration": 12,
    "start_time": "2022-05-24T17:20:29.291Z"
   },
   {
    "duration": 17,
    "start_time": "2022-05-24T17:20:29.815Z"
   },
   {
    "duration": 22,
    "start_time": "2022-05-24T17:20:48.096Z"
   },
   {
    "duration": 18,
    "start_time": "2022-05-24T17:22:41.804Z"
   },
   {
    "duration": 11,
    "start_time": "2022-05-24T17:22:42.863Z"
   },
   {
    "duration": 12,
    "start_time": "2022-05-24T17:22:44.143Z"
   },
   {
    "duration": 12,
    "start_time": "2022-05-24T17:23:21.318Z"
   },
   {
    "duration": 24,
    "start_time": "2022-05-24T17:23:44.529Z"
   },
   {
    "duration": 12,
    "start_time": "2022-05-24T17:23:46.371Z"
   },
   {
    "duration": 24,
    "start_time": "2022-05-24T17:23:46.806Z"
   },
   {
    "duration": 17,
    "start_time": "2022-05-24T17:23:53.069Z"
   },
   {
    "duration": 6,
    "start_time": "2022-05-24T17:24:17.867Z"
   },
   {
    "duration": 24,
    "start_time": "2022-05-24T17:25:52.261Z"
   },
   {
    "duration": 12,
    "start_time": "2022-05-24T17:25:58.475Z"
   },
   {
    "duration": 17,
    "start_time": "2022-05-24T17:26:22.992Z"
   },
   {
    "duration": 12,
    "start_time": "2022-05-24T17:26:24.303Z"
   },
   {
    "duration": 12,
    "start_time": "2022-05-24T17:26:25.283Z"
   },
   {
    "duration": 12,
    "start_time": "2022-05-24T17:26:26.843Z"
   },
   {
    "duration": 15,
    "start_time": "2022-05-24T17:26:47.008Z"
   },
   {
    "duration": 12,
    "start_time": "2022-05-24T17:26:51.591Z"
   },
   {
    "duration": 10,
    "start_time": "2022-05-24T17:26:56.997Z"
   },
   {
    "duration": 8,
    "start_time": "2022-05-24T17:26:57.785Z"
   },
   {
    "duration": 6,
    "start_time": "2022-05-24T17:27:00.873Z"
   },
   {
    "duration": 17,
    "start_time": "2022-05-24T17:28:44.390Z"
   },
   {
    "duration": 14,
    "start_time": "2022-05-24T17:28:45.213Z"
   },
   {
    "duration": 10,
    "start_time": "2022-05-24T17:28:45.622Z"
   },
   {
    "duration": 12,
    "start_time": "2022-05-24T17:28:46.159Z"
   },
   {
    "duration": 17,
    "start_time": "2022-05-24T17:29:12.471Z"
   },
   {
    "duration": 14,
    "start_time": "2022-05-24T17:29:15.367Z"
   },
   {
    "duration": 12,
    "start_time": "2022-05-24T17:29:24.134Z"
   },
   {
    "duration": 9,
    "start_time": "2022-05-24T17:29:25.693Z"
   },
   {
    "duration": 12,
    "start_time": "2022-05-24T17:29:26.216Z"
   },
   {
    "duration": 7,
    "start_time": "2022-05-24T17:29:29.182Z"
   },
   {
    "duration": 24,
    "start_time": "2022-05-24T17:29:48.195Z"
   },
   {
    "duration": 12,
    "start_time": "2022-05-24T17:29:49.650Z"
   },
   {
    "duration": 11,
    "start_time": "2022-05-24T17:29:54.088Z"
   },
   {
    "duration": 13,
    "start_time": "2022-05-24T17:29:54.702Z"
   },
   {
    "duration": 6,
    "start_time": "2022-05-24T17:29:56.300Z"
   },
   {
    "duration": 18,
    "start_time": "2022-05-24T17:30:29.526Z"
   },
   {
    "duration": 9,
    "start_time": "2022-05-24T17:31:04.785Z"
   },
   {
    "duration": 24,
    "start_time": "2022-05-24T17:31:28.199Z"
   },
   {
    "duration": 29,
    "start_time": "2022-05-24T17:31:37.104Z"
   },
   {
    "duration": 13,
    "start_time": "2022-05-24T17:31:37.875Z"
   },
   {
    "duration": 20,
    "start_time": "2022-05-24T17:31:40.163Z"
   },
   {
    "duration": 25,
    "start_time": "2022-05-24T17:31:42.916Z"
   },
   {
    "duration": 17,
    "start_time": "2022-05-24T17:31:46.480Z"
   },
   {
    "duration": 6,
    "start_time": "2022-05-24T17:31:47.226Z"
   },
   {
    "duration": 8,
    "start_time": "2022-05-24T17:31:47.722Z"
   },
   {
    "duration": 27,
    "start_time": "2022-05-24T17:39:44.464Z"
   },
   {
    "duration": 22,
    "start_time": "2022-05-24T17:39:46.077Z"
   },
   {
    "duration": 334,
    "start_time": "2022-05-24T17:39:53.687Z"
   },
   {
    "duration": 26,
    "start_time": "2022-05-24T17:40:04.598Z"
   },
   {
    "duration": 12,
    "start_time": "2022-05-24T17:40:05.428Z"
   },
   {
    "duration": 17,
    "start_time": "2022-05-24T17:40:05.946Z"
   },
   {
    "duration": 29,
    "start_time": "2022-05-24T17:40:11.095Z"
   },
   {
    "duration": 24,
    "start_time": "2022-05-24T17:40:12.065Z"
   },
   {
    "duration": 8,
    "start_time": "2022-05-24T17:40:12.607Z"
   },
   {
    "duration": 9,
    "start_time": "2022-05-24T17:40:13.103Z"
   },
   {
    "duration": 429,
    "start_time": "2022-05-24T18:59:51.476Z"
   },
   {
    "duration": 2213,
    "start_time": "2022-05-24T18:59:51.907Z"
   },
   {
    "duration": 36,
    "start_time": "2022-05-24T18:59:54.121Z"
   },
   {
    "duration": 31,
    "start_time": "2022-05-24T18:59:54.160Z"
   },
   {
    "duration": 19,
    "start_time": "2022-05-24T18:59:54.193Z"
   },
   {
    "duration": 13,
    "start_time": "2022-05-24T18:59:54.213Z"
   },
   {
    "duration": 43,
    "start_time": "2022-05-24T18:59:54.227Z"
   },
   {
    "duration": 150,
    "start_time": "2022-05-24T18:59:54.271Z"
   },
   {
    "duration": 37,
    "start_time": "2022-05-24T18:59:54.423Z"
   },
   {
    "duration": 79,
    "start_time": "2022-05-24T18:59:54.464Z"
   },
   {
    "duration": 38,
    "start_time": "2022-05-24T18:59:54.545Z"
   },
   {
    "duration": 79,
    "start_time": "2022-05-24T18:59:54.584Z"
   },
   {
    "duration": 19,
    "start_time": "2022-05-24T18:59:54.668Z"
   },
   {
    "duration": 15,
    "start_time": "2022-05-24T18:59:54.688Z"
   },
   {
    "duration": 45,
    "start_time": "2022-05-24T18:59:54.704Z"
   },
   {
    "duration": 38,
    "start_time": "2022-05-24T18:59:54.751Z"
   },
   {
    "duration": 38,
    "start_time": "2022-05-24T18:59:54.790Z"
   },
   {
    "duration": 3,
    "start_time": "2022-05-24T18:59:54.829Z"
   },
   {
    "duration": 46,
    "start_time": "2022-05-24T18:59:54.834Z"
   },
   {
    "duration": 18,
    "start_time": "2022-05-24T18:59:54.881Z"
   },
   {
    "duration": 30,
    "start_time": "2022-05-24T18:59:54.900Z"
   },
   {
    "duration": 25,
    "start_time": "2022-05-24T18:59:54.931Z"
   },
   {
    "duration": 35,
    "start_time": "2022-05-24T18:59:54.958Z"
   },
   {
    "duration": 22,
    "start_time": "2022-05-24T18:59:54.994Z"
   },
   {
    "duration": 21,
    "start_time": "2022-05-24T18:59:55.017Z"
   },
   {
    "duration": 29,
    "start_time": "2022-05-24T19:03:53.770Z"
   },
   {
    "duration": 12,
    "start_time": "2022-05-24T19:03:55.435Z"
   },
   {
    "duration": 21,
    "start_time": "2022-05-24T19:03:59.972Z"
   },
   {
    "duration": 23,
    "start_time": "2022-05-24T19:04:01.161Z"
   },
   {
    "duration": 17,
    "start_time": "2022-05-24T19:04:07.900Z"
   },
   {
    "duration": 7,
    "start_time": "2022-05-24T19:04:14.120Z"
   },
   {
    "duration": 8,
    "start_time": "2022-05-24T19:04:15.285Z"
   },
   {
    "duration": 38,
    "start_time": "2022-05-24T19:05:33.533Z"
   },
   {
    "duration": 13,
    "start_time": "2022-05-24T19:05:37.025Z"
   },
   {
    "duration": 16,
    "start_time": "2022-05-24T19:05:38.123Z"
   },
   {
    "duration": 15,
    "start_time": "2022-05-24T19:05:49.280Z"
   },
   {
    "duration": 11,
    "start_time": "2022-05-24T19:05:51.480Z"
   },
   {
    "duration": 12,
    "start_time": "2022-05-24T19:05:56.772Z"
   },
   {
    "duration": 8,
    "start_time": "2022-05-24T19:06:07.559Z"
   },
   {
    "duration": 15,
    "start_time": "2022-05-24T19:06:08.770Z"
   },
   {
    "duration": 31,
    "start_time": "2022-05-24T19:06:39.229Z"
   },
   {
    "duration": 14,
    "start_time": "2022-05-24T19:06:44.209Z"
   },
   {
    "duration": 15,
    "start_time": "2022-05-24T19:06:44.455Z"
   },
   {
    "duration": 15,
    "start_time": "2022-05-24T19:06:44.769Z"
   },
   {
    "duration": 15,
    "start_time": "2022-05-24T19:06:45.648Z"
   },
   {
    "duration": 6,
    "start_time": "2022-05-24T19:06:55.655Z"
   },
   {
    "duration": 12,
    "start_time": "2022-05-24T19:06:56.240Z"
   },
   {
    "duration": 85,
    "start_time": "2022-05-24T19:08:14.960Z"
   },
   {
    "duration": 18,
    "start_time": "2022-05-24T19:08:32.238Z"
   },
   {
    "duration": 18,
    "start_time": "2022-05-24T19:08:35.107Z"
   },
   {
    "duration": 11,
    "start_time": "2022-05-24T19:08:35.466Z"
   },
   {
    "duration": 15,
    "start_time": "2022-05-24T19:08:35.664Z"
   },
   {
    "duration": 9,
    "start_time": "2022-05-24T19:08:35.847Z"
   },
   {
    "duration": 11,
    "start_time": "2022-05-24T19:08:36.384Z"
   },
   {
    "duration": 6,
    "start_time": "2022-05-24T19:08:37.221Z"
   },
   {
    "duration": 8,
    "start_time": "2022-05-24T19:08:37.646Z"
   },
   {
    "duration": 23,
    "start_time": "2022-05-24T19:08:50.795Z"
   },
   {
    "duration": 12,
    "start_time": "2022-05-24T19:08:53.434Z"
   },
   {
    "duration": 15,
    "start_time": "2022-05-24T19:08:53.946Z"
   },
   {
    "duration": 27,
    "start_time": "2022-05-24T19:09:19.953Z"
   },
   {
    "duration": 16,
    "start_time": "2022-05-24T19:09:20.201Z"
   },
   {
    "duration": 6,
    "start_time": "2022-05-24T19:09:20.784Z"
   },
   {
    "duration": 36,
    "start_time": "2022-05-24T19:10:12.991Z"
   },
   {
    "duration": 13,
    "start_time": "2022-05-24T19:10:13.771Z"
   },
   {
    "duration": 19,
    "start_time": "2022-05-24T19:10:13.972Z"
   },
   {
    "duration": 25,
    "start_time": "2022-05-24T19:10:14.280Z"
   },
   {
    "duration": 16,
    "start_time": "2022-05-24T19:10:14.872Z"
   },
   {
    "duration": 6,
    "start_time": "2022-05-24T19:10:15.519Z"
   },
   {
    "duration": 9,
    "start_time": "2022-05-24T19:10:16.641Z"
   },
   {
    "duration": 42,
    "start_time": "2022-05-24T19:10:44.577Z"
   },
   {
    "duration": 12,
    "start_time": "2022-05-24T19:10:46.119Z"
   },
   {
    "duration": 24,
    "start_time": "2022-05-24T19:10:46.326Z"
   },
   {
    "duration": 32,
    "start_time": "2022-05-24T19:10:46.774Z"
   },
   {
    "duration": 33,
    "start_time": "2022-05-24T19:10:48.278Z"
   },
   {
    "duration": 6,
    "start_time": "2022-05-24T19:10:49.043Z"
   },
   {
    "duration": 9,
    "start_time": "2022-05-24T19:10:49.494Z"
   },
   {
    "duration": 35,
    "start_time": "2022-05-24T19:19:53.700Z"
   },
   {
    "duration": 12,
    "start_time": "2022-05-24T19:20:23.322Z"
   },
   {
    "duration": 39,
    "start_time": "2022-05-24T19:20:31.505Z"
   },
   {
    "duration": 558,
    "start_time": "2022-05-24T19:21:23.675Z"
   },
   {
    "duration": 31,
    "start_time": "2022-05-24T19:21:53.769Z"
   },
   {
    "duration": 498,
    "start_time": "2022-05-24T19:22:11.705Z"
   },
   {
    "duration": 441,
    "start_time": "2022-05-24T19:24:20.574Z"
   },
   {
    "duration": 13,
    "start_time": "2022-05-24T19:24:39.712Z"
   },
   {
    "duration": 480,
    "start_time": "2022-05-24T19:25:20.471Z"
   },
   {
    "duration": 14,
    "start_time": "2022-05-24T19:25:35.891Z"
   },
   {
    "duration": 22,
    "start_time": "2022-05-24T19:26:56.512Z"
   },
   {
    "duration": 34,
    "start_time": "2022-05-24T19:28:45.137Z"
   },
   {
    "duration": 29,
    "start_time": "2022-05-24T19:29:21.907Z"
   },
   {
    "duration": 1475,
    "start_time": "2022-05-24T19:31:10.468Z"
   },
   {
    "duration": 942,
    "start_time": "2022-05-24T19:31:28.398Z"
   },
   {
    "duration": 21,
    "start_time": "2022-05-24T19:33:02.498Z"
   },
   {
    "duration": 24,
    "start_time": "2022-05-24T19:33:21.708Z"
   },
   {
    "duration": 20,
    "start_time": "2022-05-24T19:33:30.676Z"
   },
   {
    "duration": 24,
    "start_time": "2022-05-24T19:33:44.744Z"
   },
   {
    "duration": 2,
    "start_time": "2022-05-24T19:34:17.346Z"
   },
   {
    "duration": 5,
    "start_time": "2022-05-24T19:34:41.305Z"
   },
   {
    "duration": 6,
    "start_time": "2022-05-24T19:34:55.194Z"
   },
   {
    "duration": 5,
    "start_time": "2022-05-24T19:41:28.043Z"
   },
   {
    "duration": 23,
    "start_time": "2022-05-24T19:42:00.494Z"
   },
   {
    "duration": 5,
    "start_time": "2022-05-24T19:42:01.301Z"
   },
   {
    "duration": 6,
    "start_time": "2022-05-24T19:42:24.960Z"
   },
   {
    "duration": 4,
    "start_time": "2022-05-24T19:44:15.615Z"
   },
   {
    "duration": 36,
    "start_time": "2022-05-24T19:46:32.793Z"
   },
   {
    "duration": 4,
    "start_time": "2022-05-24T19:46:37.769Z"
   },
   {
    "duration": 6,
    "start_time": "2022-05-24T19:48:11.244Z"
   },
   {
    "duration": 3,
    "start_time": "2022-05-24T19:48:37.064Z"
   },
   {
    "duration": 5,
    "start_time": "2022-05-24T19:49:01.062Z"
   },
   {
    "duration": 47,
    "start_time": "2022-05-24T19:51:00.840Z"
   },
   {
    "duration": 33,
    "start_time": "2022-05-24T19:51:13.651Z"
   },
   {
    "duration": 14774,
    "start_time": "2022-05-24T19:51:19.839Z"
   },
   {
    "duration": 2,
    "start_time": "2022-05-24T20:00:14.851Z"
   },
   {
    "duration": 423,
    "start_time": "2022-05-24T20:03:58.238Z"
   },
   {
    "duration": 4,
    "start_time": "2022-05-24T20:05:42.856Z"
   },
   {
    "duration": 413,
    "start_time": "2022-05-24T20:06:03.595Z"
   },
   {
    "duration": 496,
    "start_time": "2022-05-24T20:06:33.929Z"
   },
   {
    "duration": 457,
    "start_time": "2022-05-24T20:08:02.411Z"
   },
   {
    "duration": 5,
    "start_time": "2022-05-24T20:08:23.052Z"
   },
   {
    "duration": 9539,
    "start_time": "2022-05-24T20:08:40.223Z"
   },
   {
    "duration": 9544,
    "start_time": "2022-05-24T20:09:09.822Z"
   },
   {
    "duration": 3,
    "start_time": "2022-05-24T20:10:14.515Z"
   },
   {
    "duration": 8,
    "start_time": "2022-05-24T20:10:54.505Z"
   },
   {
    "duration": 3,
    "start_time": "2022-05-24T20:11:04.560Z"
   },
   {
    "duration": 10,
    "start_time": "2022-05-24T20:11:28.184Z"
   },
   {
    "duration": 10,
    "start_time": "2022-05-24T20:11:56.361Z"
   },
   {
    "duration": 10,
    "start_time": "2022-05-24T20:12:05.565Z"
   },
   {
    "duration": 10,
    "start_time": "2022-05-24T20:12:31.039Z"
   },
   {
    "duration": 7,
    "start_time": "2022-05-24T20:15:14.626Z"
   },
   {
    "duration": 8,
    "start_time": "2022-05-24T20:15:58.613Z"
   },
   {
    "duration": 10,
    "start_time": "2022-05-24T20:16:20.204Z"
   },
   {
    "duration": 4,
    "start_time": "2022-05-24T20:16:26.799Z"
   },
   {
    "duration": 22,
    "start_time": "2022-05-24T20:23:12.293Z"
   },
   {
    "duration": 221,
    "start_time": "2022-05-24T20:23:45.962Z"
   },
   {
    "duration": 13,
    "start_time": "2022-05-24T20:24:02.644Z"
   },
   {
    "duration": 8,
    "start_time": "2022-05-24T20:24:23.835Z"
   },
   {
    "duration": 577,
    "start_time": "2022-05-24T20:24:55.744Z"
   },
   {
    "duration": 7,
    "start_time": "2022-05-24T20:25:07.779Z"
   },
   {
    "duration": 41,
    "start_time": "2022-05-24T20:28:50.287Z"
   },
   {
    "duration": 28,
    "start_time": "2022-05-24T20:32:07.919Z"
   },
   {
    "duration": 3,
    "start_time": "2022-05-24T20:32:35.751Z"
   },
   {
    "duration": 3,
    "start_time": "2022-05-24T20:33:05.975Z"
   },
   {
    "duration": 31,
    "start_time": "2022-05-24T20:33:52.273Z"
   },
   {
    "duration": 3,
    "start_time": "2022-05-24T20:34:14.971Z"
   },
   {
    "duration": 26,
    "start_time": "2022-05-24T20:34:17.418Z"
   },
   {
    "duration": 489,
    "start_time": "2022-05-24T20:34:28.197Z"
   },
   {
    "duration": 434,
    "start_time": "2022-05-25T08:00:48.520Z"
   },
   {
    "duration": 1039,
    "start_time": "2022-05-25T08:00:48.958Z"
   },
   {
    "duration": 41,
    "start_time": "2022-05-25T08:00:49.999Z"
   },
   {
    "duration": 29,
    "start_time": "2022-05-25T08:00:50.041Z"
   },
   {
    "duration": 25,
    "start_time": "2022-05-25T08:00:50.072Z"
   },
   {
    "duration": 17,
    "start_time": "2022-05-25T08:00:50.098Z"
   },
   {
    "duration": 49,
    "start_time": "2022-05-25T08:00:50.117Z"
   },
   {
    "duration": 178,
    "start_time": "2022-05-25T08:00:50.168Z"
   },
   {
    "duration": 35,
    "start_time": "2022-05-25T08:00:50.348Z"
   },
   {
    "duration": 108,
    "start_time": "2022-05-25T08:00:50.385Z"
   },
   {
    "duration": 31,
    "start_time": "2022-05-25T08:00:50.495Z"
   },
   {
    "duration": 113,
    "start_time": "2022-05-25T08:00:50.529Z"
   },
   {
    "duration": 34,
    "start_time": "2022-05-25T08:00:50.644Z"
   },
   {
    "duration": 13,
    "start_time": "2022-05-25T08:00:50.682Z"
   },
   {
    "duration": 44,
    "start_time": "2022-05-25T08:00:50.698Z"
   },
   {
    "duration": 33,
    "start_time": "2022-05-25T08:00:50.765Z"
   },
   {
    "duration": 29,
    "start_time": "2022-05-25T08:00:50.800Z"
   },
   {
    "duration": 4,
    "start_time": "2022-05-25T08:00:50.830Z"
   },
   {
    "duration": 72,
    "start_time": "2022-05-25T08:00:50.835Z"
   },
   {
    "duration": 14,
    "start_time": "2022-05-25T08:00:50.909Z"
   },
   {
    "duration": 48,
    "start_time": "2022-05-25T08:00:50.925Z"
   },
   {
    "duration": 34,
    "start_time": "2022-05-25T08:00:50.976Z"
   },
   {
    "duration": 26,
    "start_time": "2022-05-25T08:00:51.012Z"
   },
   {
    "duration": 30,
    "start_time": "2022-05-25T08:00:51.040Z"
   },
   {
    "duration": 10,
    "start_time": "2022-05-25T08:00:51.072Z"
   },
   {
    "duration": 10,
    "start_time": "2022-05-25T08:00:51.084Z"
   },
   {
    "duration": 8,
    "start_time": "2022-05-25T08:00:51.095Z"
   },
   {
    "duration": 5,
    "start_time": "2022-05-25T08:01:42.372Z"
   },
   {
    "duration": 4,
    "start_time": "2022-05-25T08:01:53.989Z"
   },
   {
    "duration": 82,
    "start_time": "2022-05-25T08:02:01.986Z"
   },
   {
    "duration": 8,
    "start_time": "2022-05-25T08:02:21.609Z"
   },
   {
    "duration": 8,
    "start_time": "2022-05-25T08:03:30.592Z"
   },
   {
    "duration": 12,
    "start_time": "2022-05-25T08:03:46.234Z"
   },
   {
    "duration": 4,
    "start_time": "2022-05-25T08:04:24.221Z"
   },
   {
    "duration": 5,
    "start_time": "2022-05-25T08:05:16.054Z"
   },
   {
    "duration": 7,
    "start_time": "2022-05-25T08:05:26.519Z"
   },
   {
    "duration": 34,
    "start_time": "2022-05-25T08:11:25.996Z"
   },
   {
    "duration": 51,
    "start_time": "2022-05-25T08:11:39.019Z"
   },
   {
    "duration": 5,
    "start_time": "2022-05-25T08:12:50.588Z"
   },
   {
    "duration": 118,
    "start_time": "2022-05-25T08:13:15.408Z"
   },
   {
    "duration": 46,
    "start_time": "2022-05-25T08:14:53.852Z"
   },
   {
    "duration": 6,
    "start_time": "2022-05-25T08:15:13.605Z"
   },
   {
    "duration": 30,
    "start_time": "2022-05-25T08:15:20.065Z"
   },
   {
    "duration": 20,
    "start_time": "2022-05-25T08:15:30.029Z"
   },
   {
    "duration": 11,
    "start_time": "2022-05-25T08:15:58.448Z"
   },
   {
    "duration": 30,
    "start_time": "2022-05-25T08:16:05.178Z"
   },
   {
    "duration": 30,
    "start_time": "2022-05-25T08:16:12.435Z"
   },
   {
    "duration": 11,
    "start_time": "2022-05-25T08:16:54.788Z"
   },
   {
    "duration": 7,
    "start_time": "2022-05-25T08:19:11.395Z"
   },
   {
    "duration": 7,
    "start_time": "2022-05-25T08:20:06.746Z"
   },
   {
    "duration": 20,
    "start_time": "2022-05-25T08:20:30.376Z"
   },
   {
    "duration": 8,
    "start_time": "2022-05-25T08:20:39.655Z"
   },
   {
    "duration": 5,
    "start_time": "2022-05-25T08:20:57.306Z"
   },
   {
    "duration": 7,
    "start_time": "2022-05-25T08:24:40.233Z"
   },
   {
    "duration": 7,
    "start_time": "2022-05-25T08:25:42.411Z"
   },
   {
    "duration": 16,
    "start_time": "2022-05-25T08:25:48.575Z"
   },
   {
    "duration": 15,
    "start_time": "2022-05-25T08:26:08.421Z"
   },
   {
    "duration": 15,
    "start_time": "2022-05-25T08:26:14.245Z"
   },
   {
    "duration": 11,
    "start_time": "2022-05-25T08:29:09.703Z"
   },
   {
    "duration": 7,
    "start_time": "2022-05-25T08:33:41.604Z"
   },
   {
    "duration": 6,
    "start_time": "2022-05-25T08:34:09.480Z"
   },
   {
    "duration": 301,
    "start_time": "2022-05-25T08:36:32.541Z"
   },
   {
    "duration": 7,
    "start_time": "2022-05-25T08:36:56.851Z"
   },
   {
    "duration": 9,
    "start_time": "2022-05-25T08:37:18.700Z"
   },
   {
    "duration": 8,
    "start_time": "2022-05-25T08:37:22.272Z"
   },
   {
    "duration": 6,
    "start_time": "2022-05-25T08:39:25.433Z"
   },
   {
    "duration": 7,
    "start_time": "2022-05-25T08:39:29.392Z"
   },
   {
    "duration": 401,
    "start_time": "2022-05-25T08:39:35.411Z"
   },
   {
    "duration": 548,
    "start_time": "2022-05-25T08:39:40.512Z"
   },
   {
    "duration": 8,
    "start_time": "2022-05-25T08:39:44.682Z"
   },
   {
    "duration": 5,
    "start_time": "2022-05-25T08:40:03.920Z"
   },
   {
    "duration": 7,
    "start_time": "2022-05-25T08:40:06.672Z"
   },
   {
    "duration": 14,
    "start_time": "2022-05-25T08:40:11.252Z"
   },
   {
    "duration": 6,
    "start_time": "2022-05-25T08:40:56.539Z"
   },
   {
    "duration": 11,
    "start_time": "2022-05-25T08:41:00.932Z"
   },
   {
    "duration": 21,
    "start_time": "2022-05-25T08:41:06.384Z"
   },
   {
    "duration": 10,
    "start_time": "2022-05-25T08:41:15.192Z"
   },
   {
    "duration": 11,
    "start_time": "2022-05-25T08:42:28.094Z"
   },
   {
    "duration": 12,
    "start_time": "2022-05-25T08:42:50.215Z"
   },
   {
    "duration": 8,
    "start_time": "2022-05-25T08:42:53.344Z"
   },
   {
    "duration": 6,
    "start_time": "2022-05-25T08:43:04.534Z"
   },
   {
    "duration": 10,
    "start_time": "2022-05-25T08:43:16.372Z"
   },
   {
    "duration": 9,
    "start_time": "2022-05-25T08:43:49.909Z"
   },
   {
    "duration": 7,
    "start_time": "2022-05-25T08:44:06.952Z"
   },
   {
    "duration": 18,
    "start_time": "2022-05-25T08:44:59.566Z"
   },
   {
    "duration": 13,
    "start_time": "2022-05-25T08:45:09.701Z"
   },
   {
    "duration": 6,
    "start_time": "2022-05-25T08:45:22.281Z"
   },
   {
    "duration": 536,
    "start_time": "2022-05-25T08:45:48.395Z"
   },
   {
    "duration": 749,
    "start_time": "2022-05-25T08:45:52.796Z"
   },
   {
    "duration": 7,
    "start_time": "2022-05-25T08:45:56.977Z"
   },
   {
    "duration": 12,
    "start_time": "2022-05-25T08:46:07.037Z"
   },
   {
    "duration": 8,
    "start_time": "2022-05-25T08:46:24.997Z"
   },
   {
    "duration": 24,
    "start_time": "2022-05-25T08:46:29.238Z"
   },
   {
    "duration": 10,
    "start_time": "2022-05-25T08:46:54.348Z"
   },
   {
    "duration": 11,
    "start_time": "2022-05-25T08:47:53.935Z"
   },
   {
    "duration": 503,
    "start_time": "2022-05-25T08:48:18.436Z"
   },
   {
    "duration": 535,
    "start_time": "2022-05-25T08:48:18.942Z"
   },
   {
    "duration": 43,
    "start_time": "2022-05-25T08:48:19.479Z"
   },
   {
    "duration": 42,
    "start_time": "2022-05-25T08:48:19.524Z"
   },
   {
    "duration": 28,
    "start_time": "2022-05-25T08:48:19.568Z"
   },
   {
    "duration": 24,
    "start_time": "2022-05-25T08:48:19.598Z"
   },
   {
    "duration": 58,
    "start_time": "2022-05-25T08:48:19.624Z"
   },
   {
    "duration": 206,
    "start_time": "2022-05-25T08:48:19.684Z"
   },
   {
    "duration": 30,
    "start_time": "2022-05-25T08:48:19.892Z"
   },
   {
    "duration": 142,
    "start_time": "2022-05-25T08:48:19.924Z"
   },
   {
    "duration": 25,
    "start_time": "2022-05-25T08:48:20.068Z"
   },
   {
    "duration": 118,
    "start_time": "2022-05-25T08:48:20.095Z"
   },
   {
    "duration": 25,
    "start_time": "2022-05-25T08:48:20.215Z"
   },
   {
    "duration": 32,
    "start_time": "2022-05-25T08:48:20.243Z"
   },
   {
    "duration": 47,
    "start_time": "2022-05-25T08:48:20.277Z"
   },
   {
    "duration": 52,
    "start_time": "2022-05-25T08:48:20.325Z"
   },
   {
    "duration": 29,
    "start_time": "2022-05-25T08:48:20.379Z"
   },
   {
    "duration": 4,
    "start_time": "2022-05-25T08:48:20.409Z"
   },
   {
    "duration": 66,
    "start_time": "2022-05-25T08:48:20.415Z"
   },
   {
    "duration": 15,
    "start_time": "2022-05-25T08:48:20.483Z"
   },
   {
    "duration": 36,
    "start_time": "2022-05-25T08:48:20.500Z"
   },
   {
    "duration": 81,
    "start_time": "2022-05-25T08:48:20.539Z"
   },
   {
    "duration": 47,
    "start_time": "2022-05-25T08:48:20.623Z"
   },
   {
    "duration": 37,
    "start_time": "2022-05-25T08:48:20.672Z"
   },
   {
    "duration": 28,
    "start_time": "2022-05-25T08:48:20.711Z"
   },
   {
    "duration": 29,
    "start_time": "2022-05-25T08:48:20.740Z"
   },
   {
    "duration": 27,
    "start_time": "2022-05-25T08:48:20.771Z"
   },
   {
    "duration": 170,
    "start_time": "2022-05-25T08:48:31.974Z"
   },
   {
    "duration": 44,
    "start_time": "2022-05-25T08:48:37.679Z"
   },
   {
    "duration": 12,
    "start_time": "2022-05-25T08:48:45.006Z"
   },
   {
    "duration": 8,
    "start_time": "2022-05-25T08:54:27.586Z"
   },
   {
    "duration": 8,
    "start_time": "2022-05-25T08:55:37.752Z"
   },
   {
    "duration": 8,
    "start_time": "2022-05-25T08:55:42.035Z"
   },
   {
    "duration": 16,
    "start_time": "2022-05-25T08:57:14.569Z"
   },
   {
    "duration": 9,
    "start_time": "2022-05-25T08:59:24.781Z"
   },
   {
    "duration": 3,
    "start_time": "2022-05-25T09:00:18.258Z"
   },
   {
    "duration": 2,
    "start_time": "2022-05-25T09:16:17.809Z"
   },
   {
    "duration": 6,
    "start_time": "2022-05-25T09:18:54.996Z"
   },
   {
    "duration": 7,
    "start_time": "2022-05-25T09:19:00.648Z"
   },
   {
    "duration": 24,
    "start_time": "2022-05-25T09:20:56.148Z"
   },
   {
    "duration": 35,
    "start_time": "2022-05-25T09:27:24.013Z"
   },
   {
    "duration": 39,
    "start_time": "2022-05-25T09:27:44.724Z"
   },
   {
    "duration": 12,
    "start_time": "2022-05-25T09:28:20.422Z"
   },
   {
    "duration": 57,
    "start_time": "2022-05-25T09:28:44.601Z"
   },
   {
    "duration": 27,
    "start_time": "2022-05-25T09:28:45.801Z"
   },
   {
    "duration": 5,
    "start_time": "2022-05-25T09:28:56.334Z"
   },
   {
    "duration": 49,
    "start_time": "2022-05-25T09:48:13.478Z"
   },
   {
    "duration": 34,
    "start_time": "2022-05-25T09:50:02.717Z"
   },
   {
    "duration": 21,
    "start_time": "2022-05-25T09:50:13.800Z"
   },
   {
    "duration": 35,
    "start_time": "2022-05-25T09:50:42.348Z"
   },
   {
    "duration": 412,
    "start_time": "2022-05-25T10:21:39.630Z"
   },
   {
    "duration": 446,
    "start_time": "2022-05-25T10:21:40.044Z"
   },
   {
    "duration": 38,
    "start_time": "2022-05-25T10:21:40.491Z"
   },
   {
    "duration": 28,
    "start_time": "2022-05-25T10:21:40.531Z"
   },
   {
    "duration": 37,
    "start_time": "2022-05-25T10:21:40.560Z"
   },
   {
    "duration": 23,
    "start_time": "2022-05-25T10:21:40.599Z"
   },
   {
    "duration": 26,
    "start_time": "2022-05-25T10:21:40.624Z"
   },
   {
    "duration": 164,
    "start_time": "2022-05-25T10:21:40.666Z"
   },
   {
    "duration": 35,
    "start_time": "2022-05-25T10:21:40.831Z"
   },
   {
    "duration": 101,
    "start_time": "2022-05-25T10:21:40.870Z"
   },
   {
    "duration": 24,
    "start_time": "2022-05-25T10:21:40.975Z"
   },
   {
    "duration": 99,
    "start_time": "2022-05-25T10:21:41.000Z"
   },
   {
    "duration": 21,
    "start_time": "2022-05-25T10:21:41.100Z"
   },
   {
    "duration": 11,
    "start_time": "2022-05-25T10:21:41.122Z"
   },
   {
    "duration": 69,
    "start_time": "2022-05-25T10:21:41.135Z"
   },
   {
    "duration": 31,
    "start_time": "2022-05-25T10:21:41.206Z"
   },
   {
    "duration": 52,
    "start_time": "2022-05-25T10:21:41.238Z"
   },
   {
    "duration": 3,
    "start_time": "2022-05-25T10:21:41.292Z"
   },
   {
    "duration": 39,
    "start_time": "2022-05-25T10:21:41.296Z"
   },
   {
    "duration": 32,
    "start_time": "2022-05-25T10:21:41.337Z"
   },
   {
    "duration": 4,
    "start_time": "2022-05-25T10:21:41.371Z"
   },
   {
    "duration": 10,
    "start_time": "2022-05-25T10:21:41.376Z"
   },
   {
    "duration": 22,
    "start_time": "2022-05-25T10:21:41.388Z"
   },
   {
    "duration": 23,
    "start_time": "2022-05-25T10:21:41.412Z"
   },
   {
    "duration": 111,
    "start_time": "2022-05-25T10:21:41.437Z"
   },
   {
    "duration": 417,
    "start_time": "2022-05-25T10:38:37.727Z"
   },
   {
    "duration": 460,
    "start_time": "2022-05-25T10:38:38.146Z"
   },
   {
    "duration": 39,
    "start_time": "2022-05-25T10:38:38.607Z"
   },
   {
    "duration": 33,
    "start_time": "2022-05-25T10:38:38.648Z"
   },
   {
    "duration": 23,
    "start_time": "2022-05-25T10:38:38.683Z"
   },
   {
    "duration": 15,
    "start_time": "2022-05-25T10:38:38.707Z"
   },
   {
    "duration": 23,
    "start_time": "2022-05-25T10:38:38.723Z"
   },
   {
    "duration": 201,
    "start_time": "2022-05-25T10:38:38.748Z"
   },
   {
    "duration": 44,
    "start_time": "2022-05-25T10:38:38.951Z"
   },
   {
    "duration": 115,
    "start_time": "2022-05-25T10:38:38.997Z"
   },
   {
    "duration": 25,
    "start_time": "2022-05-25T10:38:39.114Z"
   },
   {
    "duration": 115,
    "start_time": "2022-05-25T10:38:39.141Z"
   },
   {
    "duration": 33,
    "start_time": "2022-05-25T10:38:39.258Z"
   },
   {
    "duration": 13,
    "start_time": "2022-05-25T10:38:39.294Z"
   },
   {
    "duration": 60,
    "start_time": "2022-05-25T10:38:39.309Z"
   },
   {
    "duration": 34,
    "start_time": "2022-05-25T10:38:39.371Z"
   },
   {
    "duration": 25,
    "start_time": "2022-05-25T10:38:39.406Z"
   },
   {
    "duration": 3,
    "start_time": "2022-05-25T10:38:39.433Z"
   },
   {
    "duration": 71,
    "start_time": "2022-05-25T10:38:39.437Z"
   },
   {
    "duration": 13,
    "start_time": "2022-05-25T10:38:39.511Z"
   },
   {
    "duration": 2,
    "start_time": "2022-05-25T10:38:39.525Z"
   },
   {
    "duration": 10,
    "start_time": "2022-05-25T10:38:39.529Z"
   },
   {
    "duration": 37,
    "start_time": "2022-05-25T10:38:39.540Z"
   },
   {
    "duration": 22,
    "start_time": "2022-05-25T10:38:39.579Z"
   },
   {
    "duration": 106,
    "start_time": "2022-05-25T10:38:39.602Z"
   },
   {
    "duration": 20,
    "start_time": "2022-05-25T10:38:53.879Z"
   },
   {
    "duration": 15,
    "start_time": "2022-05-25T10:39:15.178Z"
   },
   {
    "duration": 45,
    "start_time": "2022-05-25T10:39:49.063Z"
   },
   {
    "duration": 346,
    "start_time": "2022-05-25T10:40:31.912Z"
   },
   {
    "duration": 28,
    "start_time": "2022-05-25T10:41:13.133Z"
   },
   {
    "duration": 553,
    "start_time": "2022-05-25T10:41:36.164Z"
   },
   {
    "duration": 42,
    "start_time": "2022-05-25T10:41:44.403Z"
   },
   {
    "duration": 569,
    "start_time": "2022-05-25T10:41:47.178Z"
   },
   {
    "duration": 32,
    "start_time": "2022-05-25T10:41:52.231Z"
   },
   {
    "duration": 359,
    "start_time": "2022-05-25T10:42:01.195Z"
   },
   {
    "duration": 12,
    "start_time": "2022-05-25T10:42:15.535Z"
   },
   {
    "duration": 30,
    "start_time": "2022-05-25T10:48:06.960Z"
   },
   {
    "duration": 14,
    "start_time": "2022-05-25T10:48:45.877Z"
   },
   {
    "duration": 398,
    "start_time": "2022-05-25T10:49:09.123Z"
   },
   {
    "duration": 447,
    "start_time": "2022-05-25T10:49:09.523Z"
   },
   {
    "duration": 39,
    "start_time": "2022-05-25T10:49:09.972Z"
   },
   {
    "duration": 31,
    "start_time": "2022-05-25T10:49:10.012Z"
   },
   {
    "duration": 50,
    "start_time": "2022-05-25T10:49:10.046Z"
   },
   {
    "duration": 15,
    "start_time": "2022-05-25T10:49:10.097Z"
   },
   {
    "duration": 23,
    "start_time": "2022-05-25T10:49:10.114Z"
   },
   {
    "duration": 187,
    "start_time": "2022-05-25T10:49:10.139Z"
   },
   {
    "duration": 43,
    "start_time": "2022-05-25T10:49:10.327Z"
   },
   {
    "duration": 81,
    "start_time": "2022-05-25T10:49:10.377Z"
   },
   {
    "duration": 30,
    "start_time": "2022-05-25T10:49:10.459Z"
   },
   {
    "duration": 91,
    "start_time": "2022-05-25T10:49:10.491Z"
   },
   {
    "duration": 21,
    "start_time": "2022-05-25T10:49:10.584Z"
   },
   {
    "duration": 19,
    "start_time": "2022-05-25T10:49:10.609Z"
   },
   {
    "duration": 59,
    "start_time": "2022-05-25T10:49:10.630Z"
   },
   {
    "duration": 33,
    "start_time": "2022-05-25T10:49:10.691Z"
   },
   {
    "duration": 49,
    "start_time": "2022-05-25T10:49:10.726Z"
   },
   {
    "duration": 3,
    "start_time": "2022-05-25T10:49:10.778Z"
   },
   {
    "duration": 54,
    "start_time": "2022-05-25T10:49:10.783Z"
   },
   {
    "duration": 13,
    "start_time": "2022-05-25T10:49:10.838Z"
   },
   {
    "duration": 25,
    "start_time": "2022-05-25T10:49:10.852Z"
   },
   {
    "duration": 18,
    "start_time": "2022-05-25T10:49:10.878Z"
   },
   {
    "duration": 33,
    "start_time": "2022-05-25T10:49:10.897Z"
   },
   {
    "duration": 24,
    "start_time": "2022-05-25T10:49:10.931Z"
   },
   {
    "duration": 20,
    "start_time": "2022-05-25T10:49:10.957Z"
   },
   {
    "duration": 52,
    "start_time": "2022-05-25T10:49:10.979Z"
   },
   {
    "duration": 405,
    "start_time": "2022-05-25T10:50:04.113Z"
   },
   {
    "duration": 467,
    "start_time": "2022-05-25T10:50:04.519Z"
   },
   {
    "duration": 39,
    "start_time": "2022-05-25T10:50:04.988Z"
   },
   {
    "duration": 26,
    "start_time": "2022-05-25T10:50:05.030Z"
   },
   {
    "duration": 34,
    "start_time": "2022-05-25T10:50:05.059Z"
   },
   {
    "duration": 15,
    "start_time": "2022-05-25T10:50:05.095Z"
   },
   {
    "duration": 21,
    "start_time": "2022-05-25T10:50:05.112Z"
   },
   {
    "duration": 195,
    "start_time": "2022-05-25T10:50:05.134Z"
   },
   {
    "duration": 39,
    "start_time": "2022-05-25T10:50:05.331Z"
   },
   {
    "duration": 105,
    "start_time": "2022-05-25T10:50:05.372Z"
   },
   {
    "duration": 25,
    "start_time": "2022-05-25T10:50:05.479Z"
   },
   {
    "duration": 112,
    "start_time": "2022-05-25T10:50:05.505Z"
   },
   {
    "duration": 20,
    "start_time": "2022-05-25T10:50:05.619Z"
   },
   {
    "duration": 34,
    "start_time": "2022-05-25T10:50:05.643Z"
   },
   {
    "duration": 40,
    "start_time": "2022-05-25T10:50:05.681Z"
   },
   {
    "duration": 48,
    "start_time": "2022-05-25T10:50:05.723Z"
   },
   {
    "duration": 32,
    "start_time": "2022-05-25T10:50:05.774Z"
   },
   {
    "duration": 2,
    "start_time": "2022-05-25T10:50:05.808Z"
   },
   {
    "duration": 67,
    "start_time": "2022-05-25T10:50:05.812Z"
   },
   {
    "duration": 14,
    "start_time": "2022-05-25T10:50:05.882Z"
   },
   {
    "duration": 2,
    "start_time": "2022-05-25T10:50:05.899Z"
   },
   {
    "duration": 17,
    "start_time": "2022-05-25T10:50:05.903Z"
   },
   {
    "duration": 35,
    "start_time": "2022-05-25T10:50:05.922Z"
   },
   {
    "duration": 34,
    "start_time": "2022-05-25T10:50:05.959Z"
   },
   {
    "duration": 11,
    "start_time": "2022-05-25T10:50:05.994Z"
   },
   {
    "duration": 33,
    "start_time": "2022-05-25T10:50:06.006Z"
   },
   {
    "duration": 18,
    "start_time": "2022-05-25T10:50:29.625Z"
   },
   {
    "duration": 83,
    "start_time": "2022-05-25T10:50:56.615Z"
   },
   {
    "duration": 471,
    "start_time": "2022-05-25T10:51:01.562Z"
   },
   {
    "duration": 465,
    "start_time": "2022-05-25T10:51:02.035Z"
   },
   {
    "duration": 37,
    "start_time": "2022-05-25T10:51:02.502Z"
   },
   {
    "duration": 29,
    "start_time": "2022-05-25T10:51:02.541Z"
   },
   {
    "duration": 27,
    "start_time": "2022-05-25T10:51:02.578Z"
   },
   {
    "duration": 15,
    "start_time": "2022-05-25T10:51:02.607Z"
   },
   {
    "duration": 16,
    "start_time": "2022-05-25T10:51:02.624Z"
   },
   {
    "duration": 201,
    "start_time": "2022-05-25T10:51:02.642Z"
   },
   {
    "duration": 43,
    "start_time": "2022-05-25T10:51:02.845Z"
   },
   {
    "duration": 107,
    "start_time": "2022-05-25T10:51:02.892Z"
   },
   {
    "duration": 24,
    "start_time": "2022-05-25T10:51:03.000Z"
   },
   {
    "duration": 112,
    "start_time": "2022-05-25T10:51:03.025Z"
   },
   {
    "duration": 21,
    "start_time": "2022-05-25T10:51:03.139Z"
   },
   {
    "duration": 17,
    "start_time": "2022-05-25T10:51:03.164Z"
   },
   {
    "duration": 41,
    "start_time": "2022-05-25T10:51:03.183Z"
   },
   {
    "duration": 54,
    "start_time": "2022-05-25T10:51:03.225Z"
   },
   {
    "duration": 26,
    "start_time": "2022-05-25T10:51:03.281Z"
   },
   {
    "duration": 3,
    "start_time": "2022-05-25T10:51:03.309Z"
   },
   {
    "duration": 67,
    "start_time": "2022-05-25T10:51:03.313Z"
   },
   {
    "duration": 13,
    "start_time": "2022-05-25T10:51:03.382Z"
   },
   {
    "duration": 2,
    "start_time": "2022-05-25T10:51:03.396Z"
   },
   {
    "duration": 5,
    "start_time": "2022-05-25T10:51:03.400Z"
   },
   {
    "duration": 22,
    "start_time": "2022-05-25T10:51:03.407Z"
   },
   {
    "duration": 49,
    "start_time": "2022-05-25T10:51:03.431Z"
   },
   {
    "duration": 6,
    "start_time": "2022-05-25T10:51:03.482Z"
   },
   {
    "duration": 27,
    "start_time": "2022-05-25T10:51:03.489Z"
   },
   {
    "duration": 18,
    "start_time": "2022-05-25T10:51:03.518Z"
   },
   {
    "duration": 33,
    "start_time": "2022-05-25T10:52:21.219Z"
   },
   {
    "duration": 16,
    "start_time": "2022-05-25T10:52:26.939Z"
   },
   {
    "duration": 18,
    "start_time": "2022-05-25T10:52:27.399Z"
   },
   {
    "duration": 4,
    "start_time": "2022-05-25T10:52:27.898Z"
   },
   {
    "duration": 13,
    "start_time": "2022-05-25T10:52:28.180Z"
   },
   {
    "duration": 12,
    "start_time": "2022-05-25T10:52:28.908Z"
   },
   {
    "duration": 89,
    "start_time": "2022-05-25T10:54:45.419Z"
   },
   {
    "duration": 11,
    "start_time": "2022-05-25T10:54:55.081Z"
   },
   {
    "duration": 11,
    "start_time": "2022-05-25T10:54:58.603Z"
   },
   {
    "duration": 27,
    "start_time": "2022-05-25T10:55:00.231Z"
   },
   {
    "duration": 18,
    "start_time": "2022-05-25T10:55:36.473Z"
   },
   {
    "duration": 437,
    "start_time": "2022-05-25T10:55:46.075Z"
   },
   {
    "duration": 468,
    "start_time": "2022-05-25T10:55:46.514Z"
   },
   {
    "duration": 38,
    "start_time": "2022-05-25T10:55:46.984Z"
   },
   {
    "duration": 23,
    "start_time": "2022-05-25T10:55:47.024Z"
   },
   {
    "duration": 28,
    "start_time": "2022-05-25T10:55:47.049Z"
   },
   {
    "duration": 23,
    "start_time": "2022-05-25T10:55:47.079Z"
   },
   {
    "duration": 18,
    "start_time": "2022-05-25T10:55:47.103Z"
   },
   {
    "duration": 194,
    "start_time": "2022-05-25T10:55:47.123Z"
   },
   {
    "duration": 27,
    "start_time": "2022-05-25T10:55:47.318Z"
   },
   {
    "duration": 129,
    "start_time": "2022-05-25T10:55:47.348Z"
   },
   {
    "duration": 25,
    "start_time": "2022-05-25T10:55:47.479Z"
   },
   {
    "duration": 88,
    "start_time": "2022-05-25T10:55:47.505Z"
   },
   {
    "duration": 20,
    "start_time": "2022-05-25T10:55:47.594Z"
   },
   {
    "duration": 10,
    "start_time": "2022-05-25T10:55:47.615Z"
   },
   {
    "duration": 69,
    "start_time": "2022-05-25T10:55:47.627Z"
   },
   {
    "duration": 30,
    "start_time": "2022-05-25T10:55:47.698Z"
   },
   {
    "duration": 47,
    "start_time": "2022-05-25T10:55:47.730Z"
   },
   {
    "duration": 3,
    "start_time": "2022-05-25T10:55:47.779Z"
   },
   {
    "duration": 34,
    "start_time": "2022-05-25T10:55:47.784Z"
   },
   {
    "duration": 13,
    "start_time": "2022-05-25T10:55:47.819Z"
   },
   {
    "duration": 4,
    "start_time": "2022-05-25T10:55:47.834Z"
   },
   {
    "duration": 5,
    "start_time": "2022-05-25T10:55:47.839Z"
   },
   {
    "duration": 21,
    "start_time": "2022-05-25T10:55:47.869Z"
   },
   {
    "duration": 15,
    "start_time": "2022-05-25T10:55:47.892Z"
   },
   {
    "duration": 5,
    "start_time": "2022-05-25T10:55:47.908Z"
   },
   {
    "duration": 15,
    "start_time": "2022-05-25T10:55:47.914Z"
   },
   {
    "duration": 15,
    "start_time": "2022-05-25T10:55:47.930Z"
   },
   {
    "duration": 18,
    "start_time": "2022-05-25T10:55:47.966Z"
   },
   {
    "duration": 20,
    "start_time": "2022-05-25T10:55:47.986Z"
   },
   {
    "duration": 17,
    "start_time": "2022-05-25T10:58:47.363Z"
   },
   {
    "duration": 21,
    "start_time": "2022-05-25T11:02:13.261Z"
   },
   {
    "duration": 12,
    "start_time": "2022-05-25T11:02:24.440Z"
   },
   {
    "duration": 94,
    "start_time": "2022-05-25T11:03:12.561Z"
   },
   {
    "duration": 18,
    "start_time": "2022-05-25T11:03:16.721Z"
   },
   {
    "duration": 19,
    "start_time": "2022-05-25T11:03:21.732Z"
   },
   {
    "duration": 11,
    "start_time": "2022-05-25T11:03:27.140Z"
   },
   {
    "duration": 33,
    "start_time": "2022-05-25T11:04:05.611Z"
   },
   {
    "duration": 21,
    "start_time": "2022-05-25T11:04:08.948Z"
   },
   {
    "duration": 32,
    "start_time": "2022-05-25T11:04:33.820Z"
   },
   {
    "duration": 13,
    "start_time": "2022-05-25T11:04:36.284Z"
   },
   {
    "duration": 14,
    "start_time": "2022-05-25T11:17:19.861Z"
   },
   {
    "duration": 16,
    "start_time": "2022-05-25T11:19:04.015Z"
   },
   {
    "duration": 9,
    "start_time": "2022-05-25T11:19:40.903Z"
   },
   {
    "duration": 15,
    "start_time": "2022-05-25T11:19:45.762Z"
   },
   {
    "duration": 51,
    "start_time": "2022-05-25T11:21:20.075Z"
   },
   {
    "duration": 35,
    "start_time": "2022-05-25T11:24:01.492Z"
   },
   {
    "duration": 15,
    "start_time": "2022-05-25T11:24:18.341Z"
   },
   {
    "duration": 13,
    "start_time": "2022-05-25T11:28:05.247Z"
   },
   {
    "duration": 13,
    "start_time": "2022-05-25T11:28:27.046Z"
   },
   {
    "duration": 14,
    "start_time": "2022-05-25T11:28:35.678Z"
   },
   {
    "duration": 16,
    "start_time": "2022-05-25T11:30:05.542Z"
   },
   {
    "duration": 15,
    "start_time": "2022-05-25T11:30:19.578Z"
   },
   {
    "duration": 404,
    "start_time": "2022-05-25T12:00:26.609Z"
   },
   {
    "duration": 438,
    "start_time": "2022-05-25T12:00:27.015Z"
   },
   {
    "duration": 55,
    "start_time": "2022-05-25T12:00:27.455Z"
   },
   {
    "duration": 26,
    "start_time": "2022-05-25T12:00:27.512Z"
   },
   {
    "duration": 38,
    "start_time": "2022-05-25T12:00:27.540Z"
   },
   {
    "duration": 16,
    "start_time": "2022-05-25T12:00:27.579Z"
   },
   {
    "duration": 20,
    "start_time": "2022-05-25T12:00:27.596Z"
   },
   {
    "duration": 193,
    "start_time": "2022-05-25T12:00:27.619Z"
   },
   {
    "duration": 28,
    "start_time": "2022-05-25T12:00:27.814Z"
   },
   {
    "duration": 107,
    "start_time": "2022-05-25T12:00:27.844Z"
   },
   {
    "duration": 24,
    "start_time": "2022-05-25T12:00:27.964Z"
   },
   {
    "duration": 93,
    "start_time": "2022-05-25T12:00:27.989Z"
   },
   {
    "duration": 22,
    "start_time": "2022-05-25T12:00:28.083Z"
   },
   {
    "duration": 18,
    "start_time": "2022-05-25T12:00:28.108Z"
   },
   {
    "duration": 68,
    "start_time": "2022-05-25T12:00:28.129Z"
   },
   {
    "duration": 30,
    "start_time": "2022-05-25T12:00:28.199Z"
   },
   {
    "duration": 50,
    "start_time": "2022-05-25T12:00:28.231Z"
   },
   {
    "duration": 3,
    "start_time": "2022-05-25T12:00:28.283Z"
   },
   {
    "duration": 36,
    "start_time": "2022-05-25T12:00:28.288Z"
   },
   {
    "duration": 2,
    "start_time": "2022-05-25T12:00:28.325Z"
   },
   {
    "duration": 45,
    "start_time": "2022-05-25T12:00:28.329Z"
   },
   {
    "duration": 16,
    "start_time": "2022-05-25T12:00:28.375Z"
   },
   {
    "duration": 6,
    "start_time": "2022-05-25T12:12:43.938Z"
   },
   {
    "duration": 7,
    "start_time": "2022-05-25T12:13:28.104Z"
   },
   {
    "duration": 8,
    "start_time": "2022-05-25T12:14:18.777Z"
   },
   {
    "duration": 7,
    "start_time": "2022-05-25T12:14:34.446Z"
   },
   {
    "duration": 8,
    "start_time": "2022-05-25T12:14:40.982Z"
   },
   {
    "duration": 7,
    "start_time": "2022-05-25T12:15:07.915Z"
   },
   {
    "duration": 24,
    "start_time": "2022-05-25T12:15:18.776Z"
   },
   {
    "duration": 24,
    "start_time": "2022-05-25T12:15:43.934Z"
   },
   {
    "duration": 483,
    "start_time": "2022-05-25T12:16:01.948Z"
   },
   {
    "duration": 477,
    "start_time": "2022-05-25T12:16:02.433Z"
   },
   {
    "duration": 42,
    "start_time": "2022-05-25T12:16:02.912Z"
   },
   {
    "duration": 33,
    "start_time": "2022-05-25T12:16:02.956Z"
   },
   {
    "duration": 24,
    "start_time": "2022-05-25T12:16:02.992Z"
   },
   {
    "duration": 15,
    "start_time": "2022-05-25T12:16:03.018Z"
   },
   {
    "duration": 43,
    "start_time": "2022-05-25T12:16:03.035Z"
   },
   {
    "duration": 171,
    "start_time": "2022-05-25T12:16:03.080Z"
   },
   {
    "duration": 36,
    "start_time": "2022-05-25T12:16:03.252Z"
   },
   {
    "duration": 103,
    "start_time": "2022-05-25T12:16:03.289Z"
   },
   {
    "duration": 23,
    "start_time": "2022-05-25T12:16:03.394Z"
   },
   {
    "duration": 100,
    "start_time": "2022-05-25T12:16:03.419Z"
   },
   {
    "duration": 19,
    "start_time": "2022-05-25T12:16:03.521Z"
   },
   {
    "duration": 32,
    "start_time": "2022-05-25T12:16:03.543Z"
   },
   {
    "duration": 42,
    "start_time": "2022-05-25T12:16:03.578Z"
   },
   {
    "duration": 59,
    "start_time": "2022-05-25T12:16:03.622Z"
   },
   {
    "duration": 32,
    "start_time": "2022-05-25T12:16:03.683Z"
   },
   {
    "duration": 3,
    "start_time": "2022-05-25T12:16:03.717Z"
   },
   {
    "duration": 61,
    "start_time": "2022-05-25T12:16:03.721Z"
   },
   {
    "duration": 2,
    "start_time": "2022-05-25T12:16:03.784Z"
   },
   {
    "duration": 15,
    "start_time": "2022-05-25T12:16:03.788Z"
   },
   {
    "duration": 16,
    "start_time": "2022-05-25T12:16:03.804Z"
   },
   {
    "duration": 3,
    "start_time": "2022-05-25T12:16:03.821Z"
   },
   {
    "duration": 458,
    "start_time": "2022-05-25T12:23:35.145Z"
   },
   {
    "duration": 465,
    "start_time": "2022-05-25T12:23:35.605Z"
   },
   {
    "duration": 44,
    "start_time": "2022-05-25T12:23:36.073Z"
   },
   {
    "duration": 46,
    "start_time": "2022-05-25T12:23:36.119Z"
   },
   {
    "duration": 36,
    "start_time": "2022-05-25T12:23:36.168Z"
   },
   {
    "duration": 16,
    "start_time": "2022-05-25T12:23:36.206Z"
   },
   {
    "duration": 50,
    "start_time": "2022-05-25T12:23:36.225Z"
   },
   {
    "duration": 190,
    "start_time": "2022-05-25T12:23:36.277Z"
   },
   {
    "duration": 32,
    "start_time": "2022-05-25T12:23:36.469Z"
   },
   {
    "duration": 119,
    "start_time": "2022-05-25T12:23:36.504Z"
   },
   {
    "duration": 22,
    "start_time": "2022-05-25T12:23:36.625Z"
   },
   {
    "duration": 105,
    "start_time": "2022-05-25T12:23:36.649Z"
   },
   {
    "duration": 34,
    "start_time": "2022-05-25T12:23:36.755Z"
   },
   {
    "duration": 13,
    "start_time": "2022-05-25T12:23:36.792Z"
   },
   {
    "duration": 59,
    "start_time": "2022-05-25T12:23:36.807Z"
   },
   {
    "duration": 41,
    "start_time": "2022-05-25T12:23:36.868Z"
   },
   {
    "duration": 28,
    "start_time": "2022-05-25T12:23:36.910Z"
   },
   {
    "duration": 27,
    "start_time": "2022-05-25T12:23:36.939Z"
   },
   {
    "duration": 51,
    "start_time": "2022-05-25T12:23:36.968Z"
   },
   {
    "duration": 3,
    "start_time": "2022-05-25T12:23:37.020Z"
   },
   {
    "duration": 18,
    "start_time": "2022-05-25T12:23:37.024Z"
   },
   {
    "duration": 21,
    "start_time": "2022-05-25T12:23:37.044Z"
   },
   {
    "duration": 3,
    "start_time": "2022-05-25T12:23:37.067Z"
   },
   {
    "duration": 30,
    "start_time": "2022-05-25T12:23:40.053Z"
   },
   {
    "duration": 21,
    "start_time": "2022-05-25T12:23:49.915Z"
   },
   {
    "duration": 24,
    "start_time": "2022-05-25T12:23:58.805Z"
   },
   {
    "duration": 33,
    "start_time": "2022-05-25T12:24:07.892Z"
   },
   {
    "duration": 3,
    "start_time": "2022-05-25T12:24:10.315Z"
   },
   {
    "duration": 19,
    "start_time": "2022-05-25T12:24:10.664Z"
   },
   {
    "duration": 19,
    "start_time": "2022-05-25T12:24:11.377Z"
   },
   {
    "duration": 28,
    "start_time": "2022-05-25T12:24:18.284Z"
   },
   {
    "duration": 25,
    "start_time": "2022-05-25T12:24:27.276Z"
   },
   {
    "duration": 33,
    "start_time": "2022-05-25T12:42:13.415Z"
   },
   {
    "duration": 24,
    "start_time": "2022-05-25T12:42:20.029Z"
   },
   {
    "duration": 27,
    "start_time": "2022-05-25T12:42:26.390Z"
   },
   {
    "duration": 182,
    "start_time": "2022-05-25T12:43:05.813Z"
   },
   {
    "duration": 19,
    "start_time": "2022-05-25T12:44:45.916Z"
   },
   {
    "duration": 32,
    "start_time": "2022-05-25T12:44:51.476Z"
   },
   {
    "duration": 19,
    "start_time": "2022-05-25T12:44:55.828Z"
   },
   {
    "duration": 425,
    "start_time": "2022-05-25T12:45:19.913Z"
   },
   {
    "duration": 461,
    "start_time": "2022-05-25T12:45:20.339Z"
   },
   {
    "duration": 39,
    "start_time": "2022-05-25T12:45:20.802Z"
   },
   {
    "duration": 32,
    "start_time": "2022-05-25T12:45:20.843Z"
   },
   {
    "duration": 29,
    "start_time": "2022-05-25T12:45:20.877Z"
   },
   {
    "duration": 14,
    "start_time": "2022-05-25T12:45:20.908Z"
   },
   {
    "duration": 17,
    "start_time": "2022-05-25T12:45:20.923Z"
   },
   {
    "duration": 206,
    "start_time": "2022-05-25T12:45:20.942Z"
   },
   {
    "duration": 40,
    "start_time": "2022-05-25T12:45:21.150Z"
   },
   {
    "duration": 108,
    "start_time": "2022-05-25T12:45:21.191Z"
   },
   {
    "duration": 23,
    "start_time": "2022-05-25T12:45:21.300Z"
   },
   {
    "duration": 100,
    "start_time": "2022-05-25T12:45:21.324Z"
   },
   {
    "duration": 20,
    "start_time": "2022-05-25T12:45:21.426Z"
   },
   {
    "duration": 17,
    "start_time": "2022-05-25T12:45:21.464Z"
   },
   {
    "duration": 40,
    "start_time": "2022-05-25T12:45:21.483Z"
   },
   {
    "duration": 50,
    "start_time": "2022-05-25T12:45:21.525Z"
   },
   {
    "duration": 27,
    "start_time": "2022-05-25T12:45:21.578Z"
   },
   {
    "duration": 3,
    "start_time": "2022-05-25T12:45:21.607Z"
   },
   {
    "duration": 36,
    "start_time": "2022-05-25T12:45:21.611Z"
   },
   {
    "duration": 4,
    "start_time": "2022-05-25T12:45:21.665Z"
   },
   {
    "duration": 24,
    "start_time": "2022-05-25T12:45:21.670Z"
   },
   {
    "duration": 15,
    "start_time": "2022-05-25T12:45:21.695Z"
   },
   {
    "duration": 17,
    "start_time": "2022-05-25T12:45:21.711Z"
   },
   {
    "duration": 17,
    "start_time": "2022-05-25T12:45:38.833Z"
   },
   {
    "duration": 454,
    "start_time": "2022-05-25T12:45:53.775Z"
   },
   {
    "duration": 450,
    "start_time": "2022-05-25T12:45:54.231Z"
   },
   {
    "duration": 40,
    "start_time": "2022-05-25T12:45:54.683Z"
   },
   {
    "duration": 24,
    "start_time": "2022-05-25T12:45:54.725Z"
   },
   {
    "duration": 38,
    "start_time": "2022-05-25T12:45:54.752Z"
   },
   {
    "duration": 15,
    "start_time": "2022-05-25T12:45:54.791Z"
   },
   {
    "duration": 19,
    "start_time": "2022-05-25T12:45:54.808Z"
   },
   {
    "duration": 190,
    "start_time": "2022-05-25T12:45:54.828Z"
   },
   {
    "duration": 27,
    "start_time": "2022-05-25T12:45:55.019Z"
   },
   {
    "duration": 121,
    "start_time": "2022-05-25T12:45:55.047Z"
   },
   {
    "duration": 25,
    "start_time": "2022-05-25T12:45:55.171Z"
   },
   {
    "duration": 91,
    "start_time": "2022-05-25T12:45:55.197Z"
   },
   {
    "duration": 21,
    "start_time": "2022-05-25T12:45:55.290Z"
   },
   {
    "duration": 11,
    "start_time": "2022-05-25T12:45:55.315Z"
   },
   {
    "duration": 74,
    "start_time": "2022-05-25T12:45:55.328Z"
   },
   {
    "duration": 41,
    "start_time": "2022-05-25T12:45:55.404Z"
   },
   {
    "duration": 50,
    "start_time": "2022-05-25T12:45:55.447Z"
   },
   {
    "duration": 3,
    "start_time": "2022-05-25T12:45:55.499Z"
   },
   {
    "duration": 36,
    "start_time": "2022-05-25T12:45:55.504Z"
   },
   {
    "duration": 24,
    "start_time": "2022-05-25T12:45:55.541Z"
   },
   {
    "duration": 24,
    "start_time": "2022-05-25T12:45:55.567Z"
   },
   {
    "duration": 23,
    "start_time": "2022-05-25T12:45:55.593Z"
   },
   {
    "duration": 49,
    "start_time": "2022-05-25T12:45:55.618Z"
   },
   {
    "duration": 21,
    "start_time": "2022-05-25T12:46:03.279Z"
   },
   {
    "duration": 417,
    "start_time": "2022-05-25T12:46:43.937Z"
   },
   {
    "duration": 424,
    "start_time": "2022-05-25T12:46:44.356Z"
   },
   {
    "duration": 36,
    "start_time": "2022-05-25T12:46:44.782Z"
   },
   {
    "duration": 25,
    "start_time": "2022-05-25T12:46:44.819Z"
   },
   {
    "duration": 33,
    "start_time": "2022-05-25T12:46:44.847Z"
   },
   {
    "duration": 15,
    "start_time": "2022-05-25T12:46:44.882Z"
   },
   {
    "duration": 17,
    "start_time": "2022-05-25T12:46:44.899Z"
   },
   {
    "duration": 192,
    "start_time": "2022-05-25T12:46:44.918Z"
   },
   {
    "duration": 27,
    "start_time": "2022-05-25T12:46:45.111Z"
   },
   {
    "duration": 102,
    "start_time": "2022-05-25T12:46:45.140Z"
   },
   {
    "duration": 38,
    "start_time": "2022-05-25T12:46:45.244Z"
   },
   {
    "duration": 72,
    "start_time": "2022-05-25T12:46:45.283Z"
   },
   {
    "duration": 27,
    "start_time": "2022-05-25T12:46:45.365Z"
   },
   {
    "duration": 10,
    "start_time": "2022-05-25T12:46:45.394Z"
   },
   {
    "duration": 38,
    "start_time": "2022-05-25T12:46:45.406Z"
   },
   {
    "duration": 51,
    "start_time": "2022-05-25T12:46:45.446Z"
   },
   {
    "duration": 25,
    "start_time": "2022-05-25T12:46:45.498Z"
   },
   {
    "duration": 3,
    "start_time": "2022-05-25T12:46:45.525Z"
   },
   {
    "duration": 64,
    "start_time": "2022-05-25T12:46:45.529Z"
   },
   {
    "duration": 3,
    "start_time": "2022-05-25T12:46:45.594Z"
   },
   {
    "duration": 19,
    "start_time": "2022-05-25T12:46:45.598Z"
   },
   {
    "duration": 14,
    "start_time": "2022-05-25T12:46:45.618Z"
   },
   {
    "duration": 32,
    "start_time": "2022-05-25T12:46:45.633Z"
   },
   {
    "duration": 24,
    "start_time": "2022-05-25T12:46:52.755Z"
   },
   {
    "duration": 19,
    "start_time": "2022-05-25T13:03:27.678Z"
   },
   {
    "duration": 32,
    "start_time": "2022-05-25T13:03:38.331Z"
   },
   {
    "duration": 22,
    "start_time": "2022-05-25T13:03:41.781Z"
   },
   {
    "duration": 14,
    "start_time": "2022-05-25T13:03:52.333Z"
   },
   {
    "duration": 494,
    "start_time": "2022-05-25T13:04:13.642Z"
   },
   {
    "duration": 458,
    "start_time": "2022-05-25T13:04:14.138Z"
   },
   {
    "duration": 41,
    "start_time": "2022-05-25T13:04:14.598Z"
   },
   {
    "duration": 59,
    "start_time": "2022-05-25T13:04:14.641Z"
   },
   {
    "duration": 21,
    "start_time": "2022-05-25T13:04:14.703Z"
   },
   {
    "duration": 14,
    "start_time": "2022-05-25T13:04:14.725Z"
   },
   {
    "duration": 37,
    "start_time": "2022-05-25T13:04:14.740Z"
   },
   {
    "duration": 157,
    "start_time": "2022-05-25T13:04:14.779Z"
   },
   {
    "duration": 44,
    "start_time": "2022-05-25T13:04:14.937Z"
   },
   {
    "duration": 111,
    "start_time": "2022-05-25T13:04:14.983Z"
   },
   {
    "duration": 24,
    "start_time": "2022-05-25T13:04:15.096Z"
   },
   {
    "duration": 103,
    "start_time": "2022-05-25T13:04:15.122Z"
   },
   {
    "duration": 21,
    "start_time": "2022-05-25T13:04:15.227Z"
   },
   {
    "duration": 31,
    "start_time": "2022-05-25T13:04:15.251Z"
   },
   {
    "duration": 50,
    "start_time": "2022-05-25T13:04:15.284Z"
   },
   {
    "duration": 54,
    "start_time": "2022-05-25T13:04:15.336Z"
   },
   {
    "duration": 28,
    "start_time": "2022-05-25T13:04:15.392Z"
   },
   {
    "duration": 2,
    "start_time": "2022-05-25T13:04:15.422Z"
   },
   {
    "duration": 57,
    "start_time": "2022-05-25T13:04:15.426Z"
   },
   {
    "duration": 3,
    "start_time": "2022-05-25T13:04:15.484Z"
   },
   {
    "duration": 16,
    "start_time": "2022-05-25T13:04:15.488Z"
   },
   {
    "duration": 15,
    "start_time": "2022-05-25T13:04:15.506Z"
   },
   {
    "duration": 13,
    "start_time": "2022-05-25T13:04:15.522Z"
   },
   {
    "duration": 18,
    "start_time": "2022-05-25T13:04:34.781Z"
   },
   {
    "duration": 461,
    "start_time": "2022-05-25T13:04:50.450Z"
   },
   {
    "duration": 447,
    "start_time": "2022-05-25T13:04:50.913Z"
   },
   {
    "duration": 46,
    "start_time": "2022-05-25T13:04:51.362Z"
   },
   {
    "duration": 25,
    "start_time": "2022-05-25T13:04:51.409Z"
   },
   {
    "duration": 45,
    "start_time": "2022-05-25T13:04:51.437Z"
   },
   {
    "duration": 16,
    "start_time": "2022-05-25T13:04:51.483Z"
   },
   {
    "duration": 20,
    "start_time": "2022-05-25T13:04:51.500Z"
   },
   {
    "duration": 188,
    "start_time": "2022-05-25T13:04:51.522Z"
   },
   {
    "duration": 26,
    "start_time": "2022-05-25T13:04:51.712Z"
   },
   {
    "duration": 107,
    "start_time": "2022-05-25T13:04:51.740Z"
   },
   {
    "duration": 34,
    "start_time": "2022-05-25T13:04:51.849Z"
   },
   {
    "duration": 86,
    "start_time": "2022-05-25T13:04:51.885Z"
   },
   {
    "duration": 24,
    "start_time": "2022-05-25T13:04:51.973Z"
   },
   {
    "duration": 12,
    "start_time": "2022-05-25T13:04:52.000Z"
   },
   {
    "duration": 73,
    "start_time": "2022-05-25T13:04:52.014Z"
   },
   {
    "duration": 31,
    "start_time": "2022-05-25T13:04:52.089Z"
   },
   {
    "duration": 50,
    "start_time": "2022-05-25T13:04:52.122Z"
   },
   {
    "duration": 4,
    "start_time": "2022-05-25T13:04:52.175Z"
   },
   {
    "duration": 41,
    "start_time": "2022-05-25T13:04:52.181Z"
   },
   {
    "duration": 2,
    "start_time": "2022-05-25T13:04:52.223Z"
   },
   {
    "duration": 19,
    "start_time": "2022-05-25T13:04:52.227Z"
   },
   {
    "duration": 35,
    "start_time": "2022-05-25T13:04:52.247Z"
   },
   {
    "duration": 24,
    "start_time": "2022-05-25T13:04:52.284Z"
   },
   {
    "duration": 19,
    "start_time": "2022-05-25T13:05:01.134Z"
   },
   {
    "duration": 420,
    "start_time": "2022-05-25T13:05:32.700Z"
   },
   {
    "duration": 459,
    "start_time": "2022-05-25T13:05:33.122Z"
   },
   {
    "duration": 42,
    "start_time": "2022-05-25T13:05:33.583Z"
   },
   {
    "duration": 28,
    "start_time": "2022-05-25T13:05:33.628Z"
   },
   {
    "duration": 37,
    "start_time": "2022-05-25T13:05:33.664Z"
   },
   {
    "duration": 21,
    "start_time": "2022-05-25T13:05:33.703Z"
   },
   {
    "duration": 46,
    "start_time": "2022-05-25T13:05:33.726Z"
   },
   {
    "duration": 215,
    "start_time": "2022-05-25T13:05:33.774Z"
   },
   {
    "duration": 28,
    "start_time": "2022-05-25T13:05:33.991Z"
   },
   {
    "duration": 108,
    "start_time": "2022-05-25T13:05:34.021Z"
   },
   {
    "duration": 36,
    "start_time": "2022-05-25T13:05:34.130Z"
   },
   {
    "duration": 83,
    "start_time": "2022-05-25T13:05:34.169Z"
   },
   {
    "duration": 31,
    "start_time": "2022-05-25T13:05:34.254Z"
   },
   {
    "duration": 33,
    "start_time": "2022-05-25T13:05:34.287Z"
   },
   {
    "duration": 59,
    "start_time": "2022-05-25T13:05:34.321Z"
   },
   {
    "duration": 30,
    "start_time": "2022-05-25T13:05:34.382Z"
   },
   {
    "duration": 35,
    "start_time": "2022-05-25T13:05:34.413Z"
   },
   {
    "duration": 15,
    "start_time": "2022-05-25T13:05:34.451Z"
   },
   {
    "duration": 54,
    "start_time": "2022-05-25T13:05:34.468Z"
   },
   {
    "duration": 2,
    "start_time": "2022-05-25T13:05:34.524Z"
   },
   {
    "duration": 14,
    "start_time": "2022-05-25T13:05:34.528Z"
   },
   {
    "duration": 29,
    "start_time": "2022-05-25T13:05:34.544Z"
   },
   {
    "duration": 22,
    "start_time": "2022-05-25T13:05:34.575Z"
   },
   {
    "duration": 20,
    "start_time": "2022-05-25T13:08:41.551Z"
   },
   {
    "duration": 33,
    "start_time": "2022-05-25T13:12:23.115Z"
   },
   {
    "duration": 34,
    "start_time": "2022-05-25T13:12:40.325Z"
   },
   {
    "duration": 45,
    "start_time": "2022-05-25T13:14:32.300Z"
   },
   {
    "duration": 75,
    "start_time": "2022-05-25T13:15:49.182Z"
   },
   {
    "duration": 65,
    "start_time": "2022-05-25T13:16:40.815Z"
   },
   {
    "duration": 63,
    "start_time": "2022-05-25T13:20:39.181Z"
   },
   {
    "duration": 68,
    "start_time": "2022-05-25T13:20:44.741Z"
   },
   {
    "duration": 440,
    "start_time": "2022-05-25T13:21:02.022Z"
   },
   {
    "duration": 460,
    "start_time": "2022-05-25T13:21:02.464Z"
   },
   {
    "duration": 42,
    "start_time": "2022-05-25T13:21:02.926Z"
   },
   {
    "duration": 28,
    "start_time": "2022-05-25T13:21:02.970Z"
   },
   {
    "duration": 23,
    "start_time": "2022-05-25T13:21:03.000Z"
   },
   {
    "duration": 15,
    "start_time": "2022-05-25T13:21:03.025Z"
   },
   {
    "duration": 17,
    "start_time": "2022-05-25T13:21:03.064Z"
   },
   {
    "duration": 186,
    "start_time": "2022-05-25T13:21:03.083Z"
   },
   {
    "duration": 28,
    "start_time": "2022-05-25T13:21:03.271Z"
   },
   {
    "duration": 108,
    "start_time": "2022-05-25T13:21:03.301Z"
   },
   {
    "duration": 35,
    "start_time": "2022-05-25T13:21:03.412Z"
   },
   {
    "duration": 105,
    "start_time": "2022-05-25T13:21:03.450Z"
   },
   {
    "duration": 27,
    "start_time": "2022-05-25T13:21:03.557Z"
   },
   {
    "duration": 13,
    "start_time": "2022-05-25T13:21:03.588Z"
   },
   {
    "duration": 108,
    "start_time": "2022-05-25T13:21:03.603Z"
   },
   {
    "duration": 39,
    "start_time": "2022-05-25T13:21:03.714Z"
   },
   {
    "duration": 42,
    "start_time": "2022-05-25T13:21:03.765Z"
   },
   {
    "duration": 4,
    "start_time": "2022-05-25T13:21:03.810Z"
   },
   {
    "duration": 66,
    "start_time": "2022-05-25T13:21:03.815Z"
   },
   {
    "duration": 3,
    "start_time": "2022-05-25T13:21:03.883Z"
   },
   {
    "duration": 17,
    "start_time": "2022-05-25T13:21:03.887Z"
   },
   {
    "duration": 16,
    "start_time": "2022-05-25T13:21:03.906Z"
   },
   {
    "duration": 50,
    "start_time": "2022-05-25T13:21:03.924Z"
   },
   {
    "duration": 5,
    "start_time": "2022-05-25T13:21:51.461Z"
   },
   {
    "duration": 5,
    "start_time": "2022-05-25T13:21:54.485Z"
   },
   {
    "duration": 17,
    "start_time": "2022-05-25T13:21:57.121Z"
   },
   {
    "duration": 7,
    "start_time": "2022-05-25T13:41:36.031Z"
   },
   {
    "duration": 441,
    "start_time": "2022-05-25T13:55:06.483Z"
   },
   {
    "duration": 478,
    "start_time": "2022-05-25T13:55:06.926Z"
   },
   {
    "duration": 43,
    "start_time": "2022-05-25T13:55:07.406Z"
   },
   {
    "duration": 42,
    "start_time": "2022-05-25T13:55:07.451Z"
   },
   {
    "duration": 31,
    "start_time": "2022-05-25T13:55:07.496Z"
   },
   {
    "duration": 42,
    "start_time": "2022-05-25T13:55:07.530Z"
   },
   {
    "duration": 20,
    "start_time": "2022-05-25T13:55:07.576Z"
   },
   {
    "duration": 191,
    "start_time": "2022-05-25T13:55:07.597Z"
   },
   {
    "duration": 28,
    "start_time": "2022-05-25T13:55:07.790Z"
   },
   {
    "duration": 120,
    "start_time": "2022-05-25T13:55:07.819Z"
   },
   {
    "duration": 33,
    "start_time": "2022-05-25T13:55:07.940Z"
   },
   {
    "duration": 94,
    "start_time": "2022-05-25T13:55:07.975Z"
   },
   {
    "duration": 27,
    "start_time": "2022-05-25T13:55:08.071Z"
   },
   {
    "duration": 18,
    "start_time": "2022-05-25T13:55:08.101Z"
   },
   {
    "duration": 101,
    "start_time": "2022-05-25T13:55:08.122Z"
   },
   {
    "duration": 41,
    "start_time": "2022-05-25T13:55:08.225Z"
   },
   {
    "duration": 35,
    "start_time": "2022-05-25T13:55:08.267Z"
   },
   {
    "duration": 4,
    "start_time": "2022-05-25T13:55:08.304Z"
   },
   {
    "duration": 77,
    "start_time": "2022-05-25T13:55:08.310Z"
   },
   {
    "duration": 9,
    "start_time": "2022-05-25T13:55:08.389Z"
   },
   {
    "duration": 22,
    "start_time": "2022-05-25T13:55:08.400Z"
   },
   {
    "duration": 27,
    "start_time": "2022-05-25T13:55:08.423Z"
   },
   {
    "duration": 28,
    "start_time": "2022-05-25T13:55:08.452Z"
   },
   {
    "duration": 34,
    "start_time": "2022-05-25T13:55:08.481Z"
   },
   {
    "duration": 4,
    "start_time": "2022-05-25T13:55:08.517Z"
   },
   {
    "duration": 455,
    "start_time": "2022-05-25T14:15:35.349Z"
   },
   {
    "duration": 473,
    "start_time": "2022-05-25T14:15:35.806Z"
   },
   {
    "duration": 38,
    "start_time": "2022-05-25T14:15:36.281Z"
   },
   {
    "duration": 27,
    "start_time": "2022-05-25T14:15:36.320Z"
   },
   {
    "duration": 43,
    "start_time": "2022-05-25T14:15:36.349Z"
   },
   {
    "duration": 16,
    "start_time": "2022-05-25T14:15:36.394Z"
   },
   {
    "duration": 17,
    "start_time": "2022-05-25T14:15:36.411Z"
   },
   {
    "duration": 211,
    "start_time": "2022-05-25T14:15:36.429Z"
   },
   {
    "duration": 42,
    "start_time": "2022-05-25T14:15:36.642Z"
   },
   {
    "duration": 99,
    "start_time": "2022-05-25T14:15:36.686Z"
   },
   {
    "duration": 23,
    "start_time": "2022-05-25T14:15:36.786Z"
   },
   {
    "duration": 101,
    "start_time": "2022-05-25T14:15:36.810Z"
   },
   {
    "duration": 20,
    "start_time": "2022-05-25T14:15:36.913Z"
   },
   {
    "duration": 29,
    "start_time": "2022-05-25T14:15:36.936Z"
   },
   {
    "duration": 74,
    "start_time": "2022-05-25T14:15:36.968Z"
   },
   {
    "duration": 50,
    "start_time": "2022-05-25T14:15:37.044Z"
   },
   {
    "duration": 28,
    "start_time": "2022-05-25T14:15:37.096Z"
   },
   {
    "duration": 3,
    "start_time": "2022-05-25T14:15:37.126Z"
   },
   {
    "duration": 61,
    "start_time": "2022-05-25T14:15:37.130Z"
   },
   {
    "duration": 8,
    "start_time": "2022-05-25T14:15:37.192Z"
   },
   {
    "duration": 7,
    "start_time": "2022-05-25T14:15:37.202Z"
   },
   {
    "duration": 20,
    "start_time": "2022-05-25T14:15:37.211Z"
   },
   {
    "duration": 37,
    "start_time": "2022-05-25T14:15:37.233Z"
   },
   {
    "duration": 27,
    "start_time": "2022-05-25T14:15:37.273Z"
   },
   {
    "duration": 2,
    "start_time": "2022-05-25T14:15:37.301Z"
   },
   {
    "duration": 36,
    "start_time": "2022-05-25T14:16:13.235Z"
   },
   {
    "duration": 4,
    "start_time": "2022-05-25T14:44:38.006Z"
   },
   {
    "duration": 4,
    "start_time": "2022-05-25T14:47:45.239Z"
   },
   {
    "duration": 27,
    "start_time": "2022-05-25T14:47:51.320Z"
   },
   {
    "duration": 34,
    "start_time": "2022-05-25T14:48:07.260Z"
   },
   {
    "duration": 30,
    "start_time": "2022-05-25T14:49:58.306Z"
   },
   {
    "duration": 24,
    "start_time": "2022-05-25T14:54:24.812Z"
   },
   {
    "duration": 89,
    "start_time": "2022-05-25T14:58:38.335Z"
   },
   {
    "duration": 445,
    "start_time": "2022-05-25T14:58:50.379Z"
   },
   {
    "duration": 494,
    "start_time": "2022-05-25T14:58:50.827Z"
   },
   {
    "duration": 40,
    "start_time": "2022-05-25T14:58:51.323Z"
   },
   {
    "duration": 38,
    "start_time": "2022-05-25T14:58:51.364Z"
   },
   {
    "duration": 24,
    "start_time": "2022-05-25T14:58:51.404Z"
   },
   {
    "duration": 44,
    "start_time": "2022-05-25T14:58:51.430Z"
   },
   {
    "duration": 29,
    "start_time": "2022-05-25T14:58:51.476Z"
   },
   {
    "duration": 189,
    "start_time": "2022-05-25T14:58:51.507Z"
   },
   {
    "duration": 32,
    "start_time": "2022-05-25T14:58:51.699Z"
   },
   {
    "duration": 124,
    "start_time": "2022-05-25T14:58:51.733Z"
   },
   {
    "duration": 31,
    "start_time": "2022-05-25T14:58:51.865Z"
   },
   {
    "duration": 107,
    "start_time": "2022-05-25T14:58:51.898Z"
   },
   {
    "duration": 23,
    "start_time": "2022-05-25T14:58:52.007Z"
   },
   {
    "duration": 12,
    "start_time": "2022-05-25T14:58:52.033Z"
   },
   {
    "duration": 69,
    "start_time": "2022-05-25T14:58:52.067Z"
   },
   {
    "duration": 56,
    "start_time": "2022-05-25T14:58:52.138Z"
   },
   {
    "duration": 27,
    "start_time": "2022-05-25T14:58:52.196Z"
   },
   {
    "duration": 4,
    "start_time": "2022-05-25T14:58:52.225Z"
   },
   {
    "duration": 67,
    "start_time": "2022-05-25T14:58:52.230Z"
   },
   {
    "duration": 2,
    "start_time": "2022-05-25T14:58:52.299Z"
   },
   {
    "duration": 38,
    "start_time": "2022-05-25T14:58:52.303Z"
   },
   {
    "duration": 18,
    "start_time": "2022-05-25T14:58:52.342Z"
   },
   {
    "duration": 83,
    "start_time": "2022-05-25T14:58:52.362Z"
   },
   {
    "duration": 0,
    "start_time": "2022-05-25T14:58:52.446Z"
   },
   {
    "duration": 0,
    "start_time": "2022-05-25T14:58:52.448Z"
   },
   {
    "duration": 18,
    "start_time": "2022-05-25T14:59:29.193Z"
   },
   {
    "duration": 416,
    "start_time": "2022-05-25T14:59:38.136Z"
   },
   {
    "duration": 483,
    "start_time": "2022-05-25T14:59:38.554Z"
   },
   {
    "duration": 52,
    "start_time": "2022-05-25T14:59:39.040Z"
   },
   {
    "duration": 42,
    "start_time": "2022-05-25T14:59:39.094Z"
   },
   {
    "duration": 45,
    "start_time": "2022-05-25T14:59:39.138Z"
   },
   {
    "duration": 26,
    "start_time": "2022-05-25T14:59:39.185Z"
   },
   {
    "duration": 38,
    "start_time": "2022-05-25T14:59:39.213Z"
   },
   {
    "duration": 185,
    "start_time": "2022-05-25T14:59:39.253Z"
   },
   {
    "duration": 43,
    "start_time": "2022-05-25T14:59:39.440Z"
   },
   {
    "duration": 95,
    "start_time": "2022-05-25T14:59:39.484Z"
   },
   {
    "duration": 22,
    "start_time": "2022-05-25T14:59:39.580Z"
   },
   {
    "duration": 94,
    "start_time": "2022-05-25T14:59:39.604Z"
   },
   {
    "duration": 20,
    "start_time": "2022-05-25T14:59:39.700Z"
   },
   {
    "duration": 10,
    "start_time": "2022-05-25T14:59:39.723Z"
   },
   {
    "duration": 91,
    "start_time": "2022-05-25T14:59:39.735Z"
   },
   {
    "duration": 53,
    "start_time": "2022-05-25T14:59:39.828Z"
   },
   {
    "duration": 29,
    "start_time": "2022-05-25T14:59:39.883Z"
   },
   {
    "duration": 2,
    "start_time": "2022-05-25T14:59:39.914Z"
   },
   {
    "duration": 63,
    "start_time": "2022-05-25T14:59:39.918Z"
   },
   {
    "duration": 2,
    "start_time": "2022-05-25T14:59:39.982Z"
   },
   {
    "duration": 18,
    "start_time": "2022-05-25T14:59:39.985Z"
   },
   {
    "duration": 17,
    "start_time": "2022-05-25T14:59:40.005Z"
   },
   {
    "duration": 57,
    "start_time": "2022-05-25T14:59:40.024Z"
   },
   {
    "duration": 4,
    "start_time": "2022-05-25T14:59:40.083Z"
   },
   {
    "duration": 27,
    "start_time": "2022-05-25T14:59:40.089Z"
   },
   {
    "duration": 437,
    "start_time": "2022-05-25T15:00:27.642Z"
   },
   {
    "duration": 454,
    "start_time": "2022-05-25T15:00:28.082Z"
   },
   {
    "duration": 41,
    "start_time": "2022-05-25T15:00:28.537Z"
   },
   {
    "duration": 48,
    "start_time": "2022-05-25T15:00:28.580Z"
   },
   {
    "duration": 42,
    "start_time": "2022-05-25T15:00:28.631Z"
   },
   {
    "duration": 20,
    "start_time": "2022-05-25T15:00:28.675Z"
   },
   {
    "duration": 21,
    "start_time": "2022-05-25T15:00:28.697Z"
   },
   {
    "duration": 198,
    "start_time": "2022-05-25T15:00:28.720Z"
   },
   {
    "duration": 48,
    "start_time": "2022-05-25T15:00:28.920Z"
   },
   {
    "duration": 122,
    "start_time": "2022-05-25T15:00:28.970Z"
   },
   {
    "duration": 30,
    "start_time": "2022-05-25T15:00:29.094Z"
   },
   {
    "duration": 118,
    "start_time": "2022-05-25T15:00:29.126Z"
   },
   {
    "duration": 37,
    "start_time": "2022-05-25T15:00:29.246Z"
   },
   {
    "duration": 25,
    "start_time": "2022-05-25T15:00:29.287Z"
   },
   {
    "duration": 92,
    "start_time": "2022-05-25T15:00:29.314Z"
   },
   {
    "duration": 31,
    "start_time": "2022-05-25T15:00:29.408Z"
   },
   {
    "duration": 48,
    "start_time": "2022-05-25T15:00:29.441Z"
   },
   {
    "duration": 3,
    "start_time": "2022-05-25T15:00:29.491Z"
   },
   {
    "duration": 47,
    "start_time": "2022-05-25T15:00:29.495Z"
   },
   {
    "duration": 2,
    "start_time": "2022-05-25T15:00:29.544Z"
   },
   {
    "duration": 45,
    "start_time": "2022-05-25T15:00:29.547Z"
   },
   {
    "duration": 18,
    "start_time": "2022-05-25T15:00:29.594Z"
   },
   {
    "duration": 20,
    "start_time": "2022-05-25T15:00:29.613Z"
   },
   {
    "duration": 4,
    "start_time": "2022-05-25T15:00:29.635Z"
   },
   {
    "duration": 39,
    "start_time": "2022-05-25T15:00:29.641Z"
   },
   {
    "duration": 33,
    "start_time": "2022-05-25T15:13:26.218Z"
   },
   {
    "duration": 154,
    "start_time": "2022-05-25T15:13:32.792Z"
   },
   {
    "duration": 131,
    "start_time": "2022-05-25T15:13:57.092Z"
   },
   {
    "duration": 462,
    "start_time": "2022-05-25T17:26:00.278Z"
   },
   {
    "duration": 1576,
    "start_time": "2022-05-25T17:26:00.742Z"
   },
   {
    "duration": 41,
    "start_time": "2022-05-25T17:26:02.320Z"
   },
   {
    "duration": 33,
    "start_time": "2022-05-25T17:26:02.364Z"
   },
   {
    "duration": 22,
    "start_time": "2022-05-25T17:26:02.399Z"
   },
   {
    "duration": 31,
    "start_time": "2022-05-25T17:26:02.422Z"
   },
   {
    "duration": 29,
    "start_time": "2022-05-25T17:26:02.455Z"
   },
   {
    "duration": 250,
    "start_time": "2022-05-25T17:26:02.486Z"
   },
   {
    "duration": 37,
    "start_time": "2022-05-25T17:26:02.738Z"
   },
   {
    "duration": 148,
    "start_time": "2022-05-25T17:26:02.780Z"
   },
   {
    "duration": 40,
    "start_time": "2022-05-25T17:26:02.930Z"
   },
   {
    "duration": 115,
    "start_time": "2022-05-25T17:26:02.972Z"
   },
   {
    "duration": 27,
    "start_time": "2022-05-25T17:26:03.090Z"
   },
   {
    "duration": 13,
    "start_time": "2022-05-25T17:26:03.118Z"
   },
   {
    "duration": 95,
    "start_time": "2022-05-25T17:26:03.133Z"
   },
   {
    "duration": 65,
    "start_time": "2022-05-25T17:26:03.230Z"
   },
   {
    "duration": 37,
    "start_time": "2022-05-25T17:26:03.299Z"
   },
   {
    "duration": 5,
    "start_time": "2022-05-25T17:26:03.339Z"
   },
   {
    "duration": 57,
    "start_time": "2022-05-25T17:26:03.346Z"
   },
   {
    "duration": 3,
    "start_time": "2022-05-25T17:26:03.405Z"
   },
   {
    "duration": 26,
    "start_time": "2022-05-25T17:26:03.410Z"
   },
   {
    "duration": 40,
    "start_time": "2022-05-25T17:26:03.438Z"
   },
   {
    "duration": 48,
    "start_time": "2022-05-25T17:26:03.480Z"
   },
   {
    "duration": 7,
    "start_time": "2022-05-25T17:26:03.530Z"
   },
   {
    "duration": 50,
    "start_time": "2022-05-25T17:26:03.538Z"
   },
   {
    "duration": 188,
    "start_time": "2022-05-25T17:26:03.590Z"
   },
   {
    "duration": 843,
    "start_time": "2022-05-25T20:08:42.045Z"
   },
   {
    "duration": 635,
    "start_time": "2022-05-25T20:10:36.848Z"
   },
   {
    "duration": 1124,
    "start_time": "2022-05-25T20:10:42.373Z"
   },
   {
    "duration": 885,
    "start_time": "2022-05-25T20:10:43.499Z"
   },
   {
    "duration": 33,
    "start_time": "2022-05-25T20:10:44.386Z"
   },
   {
    "duration": 26,
    "start_time": "2022-05-25T20:10:44.421Z"
   },
   {
    "duration": 21,
    "start_time": "2022-05-25T20:10:44.448Z"
   },
   {
    "duration": 17,
    "start_time": "2022-05-25T20:10:44.470Z"
   },
   {
    "duration": 23,
    "start_time": "2022-05-25T20:10:44.489Z"
   },
   {
    "duration": 172,
    "start_time": "2022-05-25T20:10:44.514Z"
   },
   {
    "duration": 28,
    "start_time": "2022-05-25T20:10:44.688Z"
   },
   {
    "duration": 99,
    "start_time": "2022-05-25T20:10:44.719Z"
   },
   {
    "duration": 33,
    "start_time": "2022-05-25T20:10:44.820Z"
   },
   {
    "duration": 82,
    "start_time": "2022-05-25T20:10:44.854Z"
   },
   {
    "duration": 22,
    "start_time": "2022-05-25T20:10:44.951Z"
   },
   {
    "duration": 12,
    "start_time": "2022-05-25T20:10:44.975Z"
   },
   {
    "duration": 84,
    "start_time": "2022-05-25T20:10:44.989Z"
   },
   {
    "duration": 31,
    "start_time": "2022-05-25T20:10:45.074Z"
   },
   {
    "duration": 27,
    "start_time": "2022-05-25T20:10:45.107Z"
   },
   {
    "duration": 3,
    "start_time": "2022-05-25T20:10:45.152Z"
   },
   {
    "duration": 61,
    "start_time": "2022-05-25T20:10:45.157Z"
   },
   {
    "duration": 3,
    "start_time": "2022-05-25T20:10:45.219Z"
   },
   {
    "duration": 31,
    "start_time": "2022-05-25T20:10:45.224Z"
   },
   {
    "duration": 20,
    "start_time": "2022-05-25T20:10:45.257Z"
   },
   {
    "duration": 29,
    "start_time": "2022-05-25T20:10:45.279Z"
   },
   {
    "duration": 5,
    "start_time": "2022-05-25T20:10:45.311Z"
   },
   {
    "duration": 53,
    "start_time": "2022-05-25T20:10:45.318Z"
   },
   {
    "duration": 185,
    "start_time": "2022-05-25T20:10:45.373Z"
   },
   {
    "duration": 523,
    "start_time": "2022-05-25T20:12:24.526Z"
   },
   {
    "duration": 4,
    "start_time": "2022-05-25T20:13:34.678Z"
   },
   {
    "duration": 350,
    "start_time": "2022-05-25T20:13:40.521Z"
   },
   {
    "duration": 3,
    "start_time": "2022-05-25T20:13:51.419Z"
   },
   {
    "duration": 209,
    "start_time": "2022-05-25T20:14:50.495Z"
   },
   {
    "duration": 102,
    "start_time": "2022-05-25T20:18:30.782Z"
   },
   {
    "duration": 11,
    "start_time": "2022-05-25T20:18:39.974Z"
   },
   {
    "duration": 146,
    "start_time": "2022-05-25T20:19:16.584Z"
   },
   {
    "duration": 164,
    "start_time": "2022-05-25T20:19:44.831Z"
   },
   {
    "duration": 137,
    "start_time": "2022-05-25T20:19:58.841Z"
   },
   {
    "duration": 150,
    "start_time": "2022-05-25T20:20:03.523Z"
   },
   {
    "duration": 4,
    "start_time": "2022-05-25T20:22:22.935Z"
   },
   {
    "duration": 181,
    "start_time": "2022-05-25T20:22:29.558Z"
   },
   {
    "duration": 31,
    "start_time": "2022-05-25T20:24:13.037Z"
   },
   {
    "duration": 26,
    "start_time": "2022-05-25T20:24:20.520Z"
   },
   {
    "duration": 198,
    "start_time": "2022-05-25T20:24:41.342Z"
   },
   {
    "duration": 1320,
    "start_time": "2022-05-26T06:23:53.259Z"
   },
   {
    "duration": 935,
    "start_time": "2022-05-26T06:23:54.581Z"
   },
   {
    "duration": 37,
    "start_time": "2022-05-26T06:23:55.518Z"
   },
   {
    "duration": 27,
    "start_time": "2022-05-26T06:23:55.557Z"
   },
   {
    "duration": 41,
    "start_time": "2022-05-26T06:23:55.587Z"
   },
   {
    "duration": 16,
    "start_time": "2022-05-26T06:23:55.630Z"
   },
   {
    "duration": 42,
    "start_time": "2022-05-26T06:23:55.648Z"
   },
   {
    "duration": 175,
    "start_time": "2022-05-26T06:23:55.692Z"
   },
   {
    "duration": 27,
    "start_time": "2022-05-26T06:23:55.869Z"
   },
   {
    "duration": 101,
    "start_time": "2022-05-26T06:23:55.897Z"
   },
   {
    "duration": 31,
    "start_time": "2022-05-26T06:23:55.999Z"
   },
   {
    "duration": 74,
    "start_time": "2022-05-26T06:23:56.032Z"
   },
   {
    "duration": 37,
    "start_time": "2022-05-26T06:23:56.108Z"
   },
   {
    "duration": 12,
    "start_time": "2022-05-26T06:23:56.147Z"
   },
   {
    "duration": 96,
    "start_time": "2022-05-26T06:23:56.161Z"
   },
   {
    "duration": 40,
    "start_time": "2022-05-26T06:23:56.259Z"
   },
   {
    "duration": 48,
    "start_time": "2022-05-26T06:23:56.301Z"
   },
   {
    "duration": 4,
    "start_time": "2022-05-26T06:23:56.351Z"
   },
   {
    "duration": 59,
    "start_time": "2022-05-26T06:23:56.357Z"
   },
   {
    "duration": 3,
    "start_time": "2022-05-26T06:23:56.426Z"
   },
   {
    "duration": 31,
    "start_time": "2022-05-26T06:23:56.431Z"
   },
   {
    "duration": 23,
    "start_time": "2022-05-26T06:23:56.466Z"
   },
   {
    "duration": 37,
    "start_time": "2022-05-26T06:23:56.492Z"
   },
   {
    "duration": 5,
    "start_time": "2022-05-26T06:23:56.531Z"
   },
   {
    "duration": 29,
    "start_time": "2022-05-26T06:23:56.538Z"
   },
   {
    "duration": 207,
    "start_time": "2022-05-26T06:23:56.569Z"
   },
   {
    "duration": 225,
    "start_time": "2022-05-26T06:23:56.778Z"
   },
   {
    "duration": 188,
    "start_time": "2022-05-26T06:23:57.004Z"
   },
   {
    "duration": 5,
    "start_time": "2022-05-26T06:25:49.482Z"
   },
   {
    "duration": 315,
    "start_time": "2022-05-26T06:25:56.234Z"
   },
   {
    "duration": 182,
    "start_time": "2022-05-26T06:25:59.578Z"
   },
   {
    "duration": 1395,
    "start_time": "2022-05-28T06:27:40.051Z"
   },
   {
    "duration": 983,
    "start_time": "2022-05-28T06:27:41.448Z"
   },
   {
    "duration": 57,
    "start_time": "2022-05-28T06:27:42.433Z"
   },
   {
    "duration": 45,
    "start_time": "2022-05-28T06:27:42.493Z"
   },
   {
    "duration": 26,
    "start_time": "2022-05-28T06:27:42.540Z"
   },
   {
    "duration": 46,
    "start_time": "2022-05-28T06:27:42.568Z"
   },
   {
    "duration": 18,
    "start_time": "2022-05-28T06:27:42.616Z"
   },
   {
    "duration": 171,
    "start_time": "2022-05-28T06:27:42.635Z"
   },
   {
    "duration": 28,
    "start_time": "2022-05-28T06:27:42.812Z"
   },
   {
    "duration": 104,
    "start_time": "2022-05-28T06:27:42.843Z"
   },
   {
    "duration": 22,
    "start_time": "2022-05-28T06:27:42.949Z"
   },
   {
    "duration": 103,
    "start_time": "2022-05-28T06:27:42.972Z"
   },
   {
    "duration": 39,
    "start_time": "2022-05-28T06:27:43.077Z"
   },
   {
    "duration": 16,
    "start_time": "2022-05-28T06:27:43.118Z"
   },
   {
    "duration": 97,
    "start_time": "2022-05-28T06:27:43.136Z"
   },
   {
    "duration": 37,
    "start_time": "2022-05-28T06:27:43.236Z"
   },
   {
    "duration": 49,
    "start_time": "2022-05-28T06:27:43.275Z"
   },
   {
    "duration": 4,
    "start_time": "2022-05-28T06:27:43.328Z"
   },
   {
    "duration": 61,
    "start_time": "2022-05-28T06:27:43.334Z"
   },
   {
    "duration": 16,
    "start_time": "2022-05-28T06:27:43.399Z"
   },
   {
    "duration": 21,
    "start_time": "2022-05-28T06:27:43.417Z"
   },
   {
    "duration": 21,
    "start_time": "2022-05-28T06:27:43.440Z"
   },
   {
    "duration": 33,
    "start_time": "2022-05-28T06:27:43.462Z"
   },
   {
    "duration": 7,
    "start_time": "2022-05-28T06:27:43.498Z"
   },
   {
    "duration": 43,
    "start_time": "2022-05-28T06:27:43.506Z"
   },
   {
    "duration": 134,
    "start_time": "2022-05-28T06:27:43.551Z"
   },
   {
    "duration": 18,
    "start_time": "2022-05-28T06:27:43.686Z"
   },
   {
    "duration": 295,
    "start_time": "2022-05-28T06:27:43.708Z"
   },
   {
    "duration": 347,
    "start_time": "2022-05-28T06:27:44.010Z"
   },
   {
    "duration": 144,
    "start_time": "2022-05-28T06:27:44.359Z"
   },
   {
    "duration": 214,
    "start_time": "2022-05-28T06:27:44.508Z"
   },
   {
    "duration": 319,
    "start_time": "2022-05-28T06:27:44.724Z"
   },
   {
    "duration": 116,
    "start_time": "2022-05-28T06:27:45.044Z"
   },
   {
    "duration": 200,
    "start_time": "2022-05-28T06:27:45.162Z"
   },
   {
    "duration": 357,
    "start_time": "2022-05-28T06:27:45.363Z"
   },
   {
    "duration": 121,
    "start_time": "2022-05-28T06:27:45.722Z"
   },
   {
    "duration": 30,
    "start_time": "2022-05-28T06:27:45.845Z"
   },
   {
    "duration": 30,
    "start_time": "2022-05-28T06:27:45.877Z"
   },
   {
    "duration": 11,
    "start_time": "2022-05-28T06:27:45.908Z"
   },
   {
    "duration": 15,
    "start_time": "2022-05-28T06:27:45.921Z"
   },
   {
    "duration": 5,
    "start_time": "2022-05-28T06:27:45.938Z"
   },
   {
    "duration": 10,
    "start_time": "2022-05-28T06:27:45.944Z"
   },
   {
    "duration": 240,
    "start_time": "2022-05-28T06:30:10.243Z"
   },
   {
    "duration": 368,
    "start_time": "2022-05-28T06:35:41.349Z"
   },
   {
    "duration": 387,
    "start_time": "2022-05-28T06:36:05.576Z"
   },
   {
    "duration": 357,
    "start_time": "2022-05-28T06:36:15.018Z"
   },
   {
    "duration": 920,
    "start_time": "2022-05-28T06:36:21.330Z"
   },
   {
    "duration": 995,
    "start_time": "2022-05-28T06:36:28.948Z"
   },
   {
    "duration": 377,
    "start_time": "2022-05-28T06:36:36.959Z"
   },
   {
    "duration": 595,
    "start_time": "2022-05-28T06:36:47.919Z"
   },
   {
    "duration": 646,
    "start_time": "2022-05-28T06:36:54.699Z"
   },
   {
    "duration": 140,
    "start_time": "2022-05-28T06:38:12.930Z"
   },
   {
    "duration": 821,
    "start_time": "2022-05-28T06:38:19.639Z"
   },
   {
    "duration": 987,
    "start_time": "2022-05-28T06:38:29.559Z"
   },
   {
    "duration": 442,
    "start_time": "2022-05-28T06:38:36.367Z"
   },
   {
    "duration": 359,
    "start_time": "2022-05-28T06:38:59.726Z"
   },
   {
    "duration": 4,
    "start_time": "2022-05-28T06:39:11.085Z"
   },
   {
    "duration": 420,
    "start_time": "2022-05-28T06:39:14.129Z"
   },
   {
    "duration": 55,
    "start_time": "2022-05-28T06:45:42.469Z"
   },
   {
    "duration": 29,
    "start_time": "2022-05-28T06:46:31.544Z"
   },
   {
    "duration": 320,
    "start_time": "2022-05-28T06:48:12.246Z"
   },
   {
    "duration": 67,
    "start_time": "2022-05-28T11:56:12.142Z"
   },
   {
    "duration": 1320,
    "start_time": "2022-05-28T11:56:19.921Z"
   },
   {
    "duration": 1237,
    "start_time": "2022-05-28T11:56:21.243Z"
   },
   {
    "duration": 48,
    "start_time": "2022-05-28T11:56:22.482Z"
   },
   {
    "duration": 29,
    "start_time": "2022-05-28T11:56:22.532Z"
   },
   {
    "duration": 52,
    "start_time": "2022-05-28T11:56:22.563Z"
   },
   {
    "duration": 18,
    "start_time": "2022-05-28T11:56:22.616Z"
   },
   {
    "duration": 24,
    "start_time": "2022-05-28T11:56:22.635Z"
   },
   {
    "duration": 182,
    "start_time": "2022-05-28T11:56:22.686Z"
   },
   {
    "duration": 42,
    "start_time": "2022-05-28T11:56:22.870Z"
   },
   {
    "duration": 106,
    "start_time": "2022-05-28T11:56:22.916Z"
   },
   {
    "duration": 24,
    "start_time": "2022-05-28T11:56:23.023Z"
   },
   {
    "duration": 102,
    "start_time": "2022-05-28T11:56:23.049Z"
   },
   {
    "duration": 43,
    "start_time": "2022-05-28T11:56:23.153Z"
   },
   {
    "duration": 19,
    "start_time": "2022-05-28T11:56:23.198Z"
   },
   {
    "duration": 79,
    "start_time": "2022-05-28T11:56:23.219Z"
   },
   {
    "duration": 44,
    "start_time": "2022-05-28T11:56:23.300Z"
   },
   {
    "duration": 52,
    "start_time": "2022-05-28T11:56:23.346Z"
   },
   {
    "duration": 3,
    "start_time": "2022-05-28T11:56:23.402Z"
   },
   {
    "duration": 53,
    "start_time": "2022-05-28T11:56:23.407Z"
   },
   {
    "duration": 2,
    "start_time": "2022-05-28T11:56:23.462Z"
   },
   {
    "duration": 17,
    "start_time": "2022-05-28T11:56:23.466Z"
   },
   {
    "duration": 28,
    "start_time": "2022-05-28T11:56:23.485Z"
   },
   {
    "duration": 19,
    "start_time": "2022-05-28T11:56:23.515Z"
   },
   {
    "duration": 5,
    "start_time": "2022-05-28T11:56:23.536Z"
   },
   {
    "duration": 27,
    "start_time": "2022-05-28T11:56:23.542Z"
   },
   {
    "duration": 235,
    "start_time": "2022-05-28T11:56:23.570Z"
   },
   {
    "duration": 5,
    "start_time": "2022-05-28T11:56:23.807Z"
   },
   {
    "duration": 227,
    "start_time": "2022-05-28T11:56:23.816Z"
   },
   {
    "duration": 367,
    "start_time": "2022-05-28T11:56:24.044Z"
   },
   {
    "duration": 148,
    "start_time": "2022-05-28T11:56:24.414Z"
   },
   {
    "duration": 219,
    "start_time": "2022-05-28T11:56:24.564Z"
   },
   {
    "duration": 514,
    "start_time": "2022-05-28T11:56:24.785Z"
   },
   {
    "duration": 283,
    "start_time": "2022-05-28T11:56:25.304Z"
   },
   {
    "duration": 420,
    "start_time": "2022-05-28T11:56:25.591Z"
   },
   {
    "duration": 788,
    "start_time": "2022-05-28T11:56:26.013Z"
   },
   {
    "duration": 162,
    "start_time": "2022-05-28T11:56:26.803Z"
   },
   {
    "duration": 45,
    "start_time": "2022-05-28T11:56:26.967Z"
   },
   {
    "duration": 12,
    "start_time": "2022-05-28T11:56:27.014Z"
   },
   {
    "duration": 11,
    "start_time": "2022-05-28T11:56:27.027Z"
   },
   {
    "duration": 20,
    "start_time": "2022-05-28T11:56:27.040Z"
   },
   {
    "duration": 7,
    "start_time": "2022-05-28T11:56:27.063Z"
   },
   {
    "duration": 27,
    "start_time": "2022-05-28T11:56:27.071Z"
   },
   {
    "duration": 54,
    "start_time": "2022-05-28T16:42:16.285Z"
   },
   {
    "duration": 1329,
    "start_time": "2022-05-28T16:42:22.962Z"
   },
   {
    "duration": 1294,
    "start_time": "2022-05-28T16:42:24.294Z"
   },
   {
    "duration": 35,
    "start_time": "2022-05-28T16:42:25.592Z"
   },
   {
    "duration": 25,
    "start_time": "2022-05-28T16:42:25.628Z"
   },
   {
    "duration": 40,
    "start_time": "2022-05-28T16:42:25.655Z"
   },
   {
    "duration": 14,
    "start_time": "2022-05-28T16:42:25.696Z"
   },
   {
    "duration": 20,
    "start_time": "2022-05-28T16:42:25.712Z"
   },
   {
    "duration": 145,
    "start_time": "2022-05-28T16:42:25.733Z"
   },
   {
    "duration": 0,
    "start_time": "2022-05-28T16:42:25.881Z"
   },
   {
    "duration": 0,
    "start_time": "2022-05-28T16:42:25.882Z"
   },
   {
    "duration": 0,
    "start_time": "2022-05-28T16:42:25.894Z"
   },
   {
    "duration": 0,
    "start_time": "2022-05-28T16:42:25.895Z"
   },
   {
    "duration": 0,
    "start_time": "2022-05-28T16:42:25.896Z"
   },
   {
    "duration": 0,
    "start_time": "2022-05-28T16:42:25.897Z"
   },
   {
    "duration": 0,
    "start_time": "2022-05-28T16:42:25.898Z"
   },
   {
    "duration": 0,
    "start_time": "2022-05-28T16:42:25.899Z"
   },
   {
    "duration": 0,
    "start_time": "2022-05-28T16:42:25.900Z"
   },
   {
    "duration": 0,
    "start_time": "2022-05-28T16:42:25.901Z"
   },
   {
    "duration": 0,
    "start_time": "2022-05-28T16:42:25.903Z"
   },
   {
    "duration": 0,
    "start_time": "2022-05-28T16:42:25.904Z"
   },
   {
    "duration": 0,
    "start_time": "2022-05-28T16:42:25.904Z"
   },
   {
    "duration": 0,
    "start_time": "2022-05-28T16:42:25.906Z"
   },
   {
    "duration": 0,
    "start_time": "2022-05-28T16:42:25.907Z"
   },
   {
    "duration": 0,
    "start_time": "2022-05-28T16:42:25.908Z"
   },
   {
    "duration": 0,
    "start_time": "2022-05-28T16:42:25.910Z"
   },
   {
    "duration": 0,
    "start_time": "2022-05-28T16:42:25.911Z"
   },
   {
    "duration": 0,
    "start_time": "2022-05-28T16:42:25.912Z"
   },
   {
    "duration": 0,
    "start_time": "2022-05-28T16:42:25.914Z"
   },
   {
    "duration": 0,
    "start_time": "2022-05-28T16:42:25.915Z"
   },
   {
    "duration": 0,
    "start_time": "2022-05-28T16:42:25.917Z"
   },
   {
    "duration": 0,
    "start_time": "2022-05-28T16:42:25.918Z"
   },
   {
    "duration": 0,
    "start_time": "2022-05-28T16:42:25.919Z"
   },
   {
    "duration": 0,
    "start_time": "2022-05-28T16:42:25.921Z"
   },
   {
    "duration": 0,
    "start_time": "2022-05-28T16:42:25.922Z"
   },
   {
    "duration": 0,
    "start_time": "2022-05-28T16:42:25.924Z"
   },
   {
    "duration": 0,
    "start_time": "2022-05-28T16:42:25.925Z"
   },
   {
    "duration": 0,
    "start_time": "2022-05-28T16:42:25.926Z"
   },
   {
    "duration": 0,
    "start_time": "2022-05-28T16:42:25.927Z"
   },
   {
    "duration": 0,
    "start_time": "2022-05-28T16:42:25.928Z"
   },
   {
    "duration": 0,
    "start_time": "2022-05-28T16:42:25.930Z"
   },
   {
    "duration": 0,
    "start_time": "2022-05-28T16:42:25.931Z"
   },
   {
    "duration": 0,
    "start_time": "2022-05-28T16:42:25.932Z"
   },
   {
    "duration": 96,
    "start_time": "2022-05-28T16:42:54.182Z"
   },
   {
    "duration": 136,
    "start_time": "2022-05-28T16:43:29.727Z"
   },
   {
    "duration": 137,
    "start_time": "2022-05-28T16:43:38.747Z"
   },
   {
    "duration": 125,
    "start_time": "2022-05-28T16:43:43.010Z"
   },
   {
    "duration": 119,
    "start_time": "2022-05-28T16:43:46.810Z"
   },
   {
    "duration": 123,
    "start_time": "2022-05-28T16:43:51.353Z"
   },
   {
    "duration": 1421,
    "start_time": "2022-05-28T18:54:11.963Z"
   },
   {
    "duration": 994,
    "start_time": "2022-05-28T18:54:13.386Z"
   },
   {
    "duration": 38,
    "start_time": "2022-05-28T18:54:14.382Z"
   },
   {
    "duration": 29,
    "start_time": "2022-05-28T18:54:14.423Z"
   },
   {
    "duration": 24,
    "start_time": "2022-05-28T18:54:14.454Z"
   },
   {
    "duration": 56,
    "start_time": "2022-05-28T18:54:14.480Z"
   },
   {
    "duration": 29,
    "start_time": "2022-05-28T18:54:14.538Z"
   },
   {
    "duration": 169,
    "start_time": "2022-05-28T18:54:14.568Z"
   },
   {
    "duration": 28,
    "start_time": "2022-05-28T18:54:14.739Z"
   },
   {
    "duration": 124,
    "start_time": "2022-05-28T18:54:14.770Z"
   },
   {
    "duration": 38,
    "start_time": "2022-05-28T18:54:14.896Z"
   },
   {
    "duration": 107,
    "start_time": "2022-05-28T18:54:14.936Z"
   },
   {
    "duration": 26,
    "start_time": "2022-05-28T18:54:15.045Z"
   },
   {
    "duration": 13,
    "start_time": "2022-05-28T18:54:15.073Z"
   },
   {
    "duration": 99,
    "start_time": "2022-05-28T18:54:15.088Z"
   },
   {
    "duration": 42,
    "start_time": "2022-05-28T18:54:15.189Z"
   },
   {
    "duration": 29,
    "start_time": "2022-05-28T18:54:15.233Z"
   },
   {
    "duration": 6,
    "start_time": "2022-05-28T18:54:15.263Z"
   },
   {
    "duration": 62,
    "start_time": "2022-05-28T18:54:15.271Z"
   },
   {
    "duration": 3,
    "start_time": "2022-05-28T18:54:15.335Z"
   },
   {
    "duration": 23,
    "start_time": "2022-05-28T18:54:15.340Z"
   },
   {
    "duration": 27,
    "start_time": "2022-05-28T18:54:15.364Z"
   },
   {
    "duration": 46,
    "start_time": "2022-05-28T18:54:15.393Z"
   },
   {
    "duration": 5,
    "start_time": "2022-05-28T18:54:15.441Z"
   },
   {
    "duration": 29,
    "start_time": "2022-05-28T18:54:15.447Z"
   },
   {
    "duration": 233,
    "start_time": "2022-05-28T18:54:15.477Z"
   },
   {
    "duration": 3,
    "start_time": "2022-05-28T18:54:15.713Z"
   },
   {
    "duration": 230,
    "start_time": "2022-05-28T18:54:15.724Z"
   },
   {
    "duration": 357,
    "start_time": "2022-05-28T18:54:15.957Z"
   },
   {
    "duration": 159,
    "start_time": "2022-05-28T18:54:16.315Z"
   },
   {
    "duration": 221,
    "start_time": "2022-05-28T18:54:16.476Z"
   },
   {
    "duration": 319,
    "start_time": "2022-05-28T18:54:16.699Z"
   },
   {
    "duration": 146,
    "start_time": "2022-05-28T18:54:17.023Z"
   },
   {
    "duration": 227,
    "start_time": "2022-05-28T18:54:17.171Z"
   },
   {
    "duration": 350,
    "start_time": "2022-05-28T18:54:17.400Z"
   },
   {
    "duration": 170,
    "start_time": "2022-05-28T18:54:17.752Z"
   },
   {
    "duration": 43,
    "start_time": "2022-05-28T18:54:17.924Z"
   },
   {
    "duration": 14,
    "start_time": "2022-05-28T18:54:17.970Z"
   },
   {
    "duration": 15,
    "start_time": "2022-05-28T18:54:17.986Z"
   },
   {
    "duration": 8,
    "start_time": "2022-05-28T18:54:18.022Z"
   },
   {
    "duration": 9,
    "start_time": "2022-05-28T18:54:18.031Z"
   },
   {
    "duration": 9,
    "start_time": "2022-05-28T18:54:18.042Z"
   },
   {
    "duration": 116,
    "start_time": "2022-05-28T19:03:46.146Z"
   },
   {
    "duration": 29,
    "start_time": "2022-05-28T19:03:51.754Z"
   },
   {
    "duration": 27,
    "start_time": "2022-05-28T19:06:03.808Z"
   },
   {
    "duration": 1156,
    "start_time": "2022-05-28T20:15:41.203Z"
   },
   {
    "duration": 455,
    "start_time": "2022-05-28T20:15:42.361Z"
   },
   {
    "duration": 33,
    "start_time": "2022-05-28T20:15:42.818Z"
   },
   {
    "duration": 30,
    "start_time": "2022-05-28T20:15:42.852Z"
   },
   {
    "duration": 21,
    "start_time": "2022-05-28T20:15:42.883Z"
   },
   {
    "duration": 30,
    "start_time": "2022-05-28T20:15:42.905Z"
   },
   {
    "duration": 15,
    "start_time": "2022-05-28T20:15:42.937Z"
   },
   {
    "duration": 176,
    "start_time": "2022-05-28T20:15:42.953Z"
   },
   {
    "duration": 26,
    "start_time": "2022-05-28T20:15:43.130Z"
   },
   {
    "duration": 104,
    "start_time": "2022-05-28T20:15:43.159Z"
   },
   {
    "duration": 21,
    "start_time": "2022-05-28T20:15:43.264Z"
   },
   {
    "duration": 86,
    "start_time": "2022-05-28T20:15:43.287Z"
   },
   {
    "duration": 19,
    "start_time": "2022-05-28T20:15:43.375Z"
   },
   {
    "duration": 28,
    "start_time": "2022-05-28T20:15:43.395Z"
   },
   {
    "duration": 61,
    "start_time": "2022-05-28T20:15:43.425Z"
   },
   {
    "duration": 47,
    "start_time": "2022-05-28T20:15:43.487Z"
   },
   {
    "duration": 26,
    "start_time": "2022-05-28T20:15:43.536Z"
   },
   {
    "duration": 3,
    "start_time": "2022-05-28T20:15:43.563Z"
   },
   {
    "duration": 39,
    "start_time": "2022-05-28T20:15:43.567Z"
   },
   {
    "duration": 3,
    "start_time": "2022-05-28T20:15:43.623Z"
   },
   {
    "duration": 15,
    "start_time": "2022-05-28T20:15:43.628Z"
   },
   {
    "duration": 16,
    "start_time": "2022-05-28T20:15:43.645Z"
   },
   {
    "duration": 18,
    "start_time": "2022-05-28T20:15:43.662Z"
   },
   {
    "duration": 3,
    "start_time": "2022-05-28T20:15:43.682Z"
   },
   {
    "duration": 46,
    "start_time": "2022-05-28T20:15:43.687Z"
   },
   {
    "duration": 123,
    "start_time": "2022-05-28T20:15:43.735Z"
   },
   {
    "duration": 4,
    "start_time": "2022-05-28T20:15:43.859Z"
   },
   {
    "duration": 275,
    "start_time": "2022-05-28T20:15:43.866Z"
   },
   {
    "duration": 306,
    "start_time": "2022-05-28T20:15:44.143Z"
   },
   {
    "duration": 127,
    "start_time": "2022-05-28T20:15:44.451Z"
   },
   {
    "duration": 192,
    "start_time": "2022-05-28T20:15:44.579Z"
   },
   {
    "duration": 281,
    "start_time": "2022-05-28T20:15:44.772Z"
   },
   {
    "duration": 113,
    "start_time": "2022-05-28T20:15:45.055Z"
   },
   {
    "duration": 193,
    "start_time": "2022-05-28T20:15:45.169Z"
   },
   {
    "duration": 295,
    "start_time": "2022-05-28T20:15:45.364Z"
   },
   {
    "duration": 115,
    "start_time": "2022-05-28T20:15:45.661Z"
   },
   {
    "duration": 29,
    "start_time": "2022-05-28T20:15:45.778Z"
   },
   {
    "duration": 24,
    "start_time": "2022-05-28T20:15:45.808Z"
   },
   {
    "duration": 30,
    "start_time": "2022-05-28T20:15:45.833Z"
   },
   {
    "duration": 5,
    "start_time": "2022-05-28T20:15:45.865Z"
   },
   {
    "duration": 11,
    "start_time": "2022-05-28T20:15:45.872Z"
   },
   {
    "duration": 6,
    "start_time": "2022-05-28T20:15:45.884Z"
   },
   {
    "duration": 34,
    "start_time": "2022-05-28T20:15:45.891Z"
   },
   {
    "duration": 58,
    "start_time": "2022-05-28T20:16:49.974Z"
   },
   {
    "duration": 1128,
    "start_time": "2022-05-28T20:25:10.051Z"
   },
   {
    "duration": 411,
    "start_time": "2022-05-28T20:25:11.181Z"
   },
   {
    "duration": 32,
    "start_time": "2022-05-28T20:25:11.594Z"
   },
   {
    "duration": 24,
    "start_time": "2022-05-28T20:25:11.628Z"
   },
   {
    "duration": 21,
    "start_time": "2022-05-28T20:25:11.653Z"
   },
   {
    "duration": 14,
    "start_time": "2022-05-28T20:25:11.676Z"
   },
   {
    "duration": 40,
    "start_time": "2022-05-28T20:25:11.691Z"
   },
   {
    "duration": 167,
    "start_time": "2022-05-28T20:25:11.732Z"
   },
   {
    "duration": 35,
    "start_time": "2022-05-28T20:25:11.900Z"
   },
   {
    "duration": 99,
    "start_time": "2022-05-28T20:25:11.938Z"
   },
   {
    "duration": 21,
    "start_time": "2022-05-28T20:25:12.038Z"
   },
   {
    "duration": 88,
    "start_time": "2022-05-28T20:25:12.061Z"
   },
   {
    "duration": 19,
    "start_time": "2022-05-28T20:25:12.150Z"
   },
   {
    "duration": 11,
    "start_time": "2022-05-28T20:25:12.170Z"
   },
   {
    "duration": 82,
    "start_time": "2022-05-28T20:25:12.182Z"
   },
   {
    "duration": 30,
    "start_time": "2022-05-28T20:25:12.266Z"
   },
   {
    "duration": 44,
    "start_time": "2022-05-28T20:25:12.297Z"
   },
   {
    "duration": 3,
    "start_time": "2022-05-28T20:25:12.342Z"
   },
   {
    "duration": 41,
    "start_time": "2022-05-28T20:25:12.346Z"
   },
   {
    "duration": 2,
    "start_time": "2022-05-28T20:25:12.389Z"
   },
   {
    "duration": 15,
    "start_time": "2022-05-28T20:25:12.392Z"
   },
   {
    "duration": 18,
    "start_time": "2022-05-28T20:25:12.423Z"
   },
   {
    "duration": 19,
    "start_time": "2022-05-28T20:25:12.442Z"
   },
   {
    "duration": 4,
    "start_time": "2022-05-28T20:25:12.463Z"
   },
   {
    "duration": 20,
    "start_time": "2022-05-28T20:25:12.468Z"
   },
   {
    "duration": 182,
    "start_time": "2022-05-28T20:25:12.490Z"
   },
   {
    "duration": 5,
    "start_time": "2022-05-28T20:25:12.674Z"
   },
   {
    "duration": 299,
    "start_time": "2022-05-28T20:25:12.684Z"
   },
   {
    "duration": 309,
    "start_time": "2022-05-28T20:25:12.985Z"
   },
   {
    "duration": 123,
    "start_time": "2022-05-28T20:25:13.295Z"
   },
   {
    "duration": 186,
    "start_time": "2022-05-28T20:25:13.423Z"
   },
   {
    "duration": 267,
    "start_time": "2022-05-28T20:25:13.611Z"
   },
   {
    "duration": 103,
    "start_time": "2022-05-28T20:25:13.879Z"
   },
   {
    "duration": 193,
    "start_time": "2022-05-28T20:25:13.984Z"
   },
   {
    "duration": 310,
    "start_time": "2022-05-28T20:25:14.179Z"
   },
   {
    "duration": 108,
    "start_time": "2022-05-28T20:25:14.491Z"
   },
   {
    "duration": 38,
    "start_time": "2022-05-28T20:25:14.601Z"
   },
   {
    "duration": 11,
    "start_time": "2022-05-28T20:25:14.641Z"
   },
   {
    "duration": 42,
    "start_time": "2022-05-28T20:25:14.654Z"
   },
   {
    "duration": 26,
    "start_time": "2022-05-28T20:25:14.698Z"
   },
   {
    "duration": 7,
    "start_time": "2022-05-28T20:25:14.726Z"
   },
   {
    "duration": 7,
    "start_time": "2022-05-28T20:25:14.734Z"
   },
   {
    "duration": 7,
    "start_time": "2022-05-28T20:25:14.742Z"
   },
   {
    "duration": 58,
    "start_time": "2022-05-29T04:13:23.065Z"
   },
   {
    "duration": 48,
    "start_time": "2022-05-29T04:15:00.308Z"
   },
   {
    "duration": 1379,
    "start_time": "2022-05-29T04:15:17.495Z"
   },
   {
    "duration": 993,
    "start_time": "2022-05-29T04:15:18.877Z"
   },
   {
    "duration": 36,
    "start_time": "2022-05-29T04:15:19.871Z"
   },
   {
    "duration": 26,
    "start_time": "2022-05-29T04:15:19.909Z"
   },
   {
    "duration": 22,
    "start_time": "2022-05-29T04:15:19.937Z"
   },
   {
    "duration": 15,
    "start_time": "2022-05-29T04:15:19.960Z"
   },
   {
    "duration": 22,
    "start_time": "2022-05-29T04:15:19.977Z"
   },
   {
    "duration": 201,
    "start_time": "2022-05-29T04:15:20.001Z"
   },
   {
    "duration": 37,
    "start_time": "2022-05-29T04:15:20.203Z"
   },
   {
    "duration": 102,
    "start_time": "2022-05-29T04:15:20.242Z"
   },
   {
    "duration": 22,
    "start_time": "2022-05-29T04:15:20.346Z"
   },
   {
    "duration": 87,
    "start_time": "2022-05-29T04:15:20.370Z"
   },
   {
    "duration": 20,
    "start_time": "2022-05-29T04:15:20.459Z"
   },
   {
    "duration": 13,
    "start_time": "2022-05-29T04:15:20.481Z"
   },
   {
    "duration": 94,
    "start_time": "2022-05-29T04:15:20.496Z"
   },
   {
    "duration": 46,
    "start_time": "2022-05-29T04:15:20.592Z"
   },
   {
    "duration": 27,
    "start_time": "2022-05-29T04:15:20.640Z"
   },
   {
    "duration": 4,
    "start_time": "2022-05-29T04:15:20.668Z"
   },
   {
    "duration": 61,
    "start_time": "2022-05-29T04:15:20.673Z"
   },
   {
    "duration": 3,
    "start_time": "2022-05-29T04:15:20.736Z"
   },
   {
    "duration": 15,
    "start_time": "2022-05-29T04:15:20.741Z"
   },
   {
    "duration": 20,
    "start_time": "2022-05-29T04:15:20.758Z"
   },
   {
    "duration": 49,
    "start_time": "2022-05-29T04:15:20.779Z"
   },
   {
    "duration": 5,
    "start_time": "2022-05-29T04:15:20.830Z"
   },
   {
    "duration": 23,
    "start_time": "2022-05-29T04:15:20.837Z"
   },
   {
    "duration": 141,
    "start_time": "2022-05-29T04:15:20.862Z"
   },
   {
    "duration": 4,
    "start_time": "2022-05-29T04:15:21.005Z"
   },
   {
    "duration": 311,
    "start_time": "2022-05-29T04:15:21.026Z"
   },
   {
    "duration": 318,
    "start_time": "2022-05-29T04:15:21.338Z"
   },
   {
    "duration": 136,
    "start_time": "2022-05-29T04:15:21.658Z"
   },
   {
    "duration": 197,
    "start_time": "2022-05-29T04:15:21.795Z"
   },
   {
    "duration": 297,
    "start_time": "2022-05-29T04:15:21.994Z"
   },
   {
    "duration": 114,
    "start_time": "2022-05-29T04:15:22.293Z"
   },
   {
    "duration": 208,
    "start_time": "2022-05-29T04:15:22.408Z"
   },
   {
    "duration": 309,
    "start_time": "2022-05-29T04:15:22.618Z"
   },
   {
    "duration": 128,
    "start_time": "2022-05-29T04:15:22.929Z"
   },
   {
    "duration": 30,
    "start_time": "2022-05-29T04:15:23.059Z"
   },
   {
    "duration": 13,
    "start_time": "2022-05-29T04:15:23.090Z"
   },
   {
    "duration": 63,
    "start_time": "2022-05-29T04:15:23.104Z"
   },
   {
    "duration": 6,
    "start_time": "2022-05-29T04:15:23.169Z"
   },
   {
    "duration": 9,
    "start_time": "2022-05-29T04:15:23.176Z"
   },
   {
    "duration": 8,
    "start_time": "2022-05-29T04:15:23.187Z"
   },
   {
    "duration": 33,
    "start_time": "2022-05-29T04:15:23.196Z"
   },
   {
    "duration": 469,
    "start_time": "2022-05-29T04:16:01.449Z"
   },
   {
    "duration": 364,
    "start_time": "2022-05-29T04:16:13.997Z"
   },
   {
    "duration": 423,
    "start_time": "2022-05-29T04:16:21.601Z"
   },
   {
    "duration": 1155,
    "start_time": "2022-05-29T04:16:44.131Z"
   },
   {
    "duration": 397,
    "start_time": "2022-05-29T04:16:45.287Z"
   },
   {
    "duration": 36,
    "start_time": "2022-05-29T04:16:45.686Z"
   },
   {
    "duration": 26,
    "start_time": "2022-05-29T04:16:45.724Z"
   },
   {
    "duration": 23,
    "start_time": "2022-05-29T04:16:45.752Z"
   },
   {
    "duration": 15,
    "start_time": "2022-05-29T04:16:45.776Z"
   },
   {
    "duration": 40,
    "start_time": "2022-05-29T04:16:45.793Z"
   },
   {
    "duration": 188,
    "start_time": "2022-05-29T04:16:45.835Z"
   },
   {
    "duration": 28,
    "start_time": "2022-05-29T04:16:46.024Z"
   },
   {
    "duration": 99,
    "start_time": "2022-05-29T04:16:46.054Z"
   },
   {
    "duration": 28,
    "start_time": "2022-05-29T04:16:46.155Z"
   },
   {
    "duration": 100,
    "start_time": "2022-05-29T04:16:46.186Z"
   },
   {
    "duration": 39,
    "start_time": "2022-05-29T04:16:46.288Z"
   },
   {
    "duration": 16,
    "start_time": "2022-05-29T04:16:46.330Z"
   },
   {
    "duration": 106,
    "start_time": "2022-05-29T04:16:46.349Z"
   },
   {
    "duration": 38,
    "start_time": "2022-05-29T04:16:46.457Z"
   },
   {
    "duration": 42,
    "start_time": "2022-05-29T04:16:46.498Z"
   },
   {
    "duration": 3,
    "start_time": "2022-05-29T04:16:46.542Z"
   },
   {
    "duration": 36,
    "start_time": "2022-05-29T04:16:46.547Z"
   },
   {
    "duration": 2,
    "start_time": "2022-05-29T04:16:46.586Z"
   },
   {
    "duration": 38,
    "start_time": "2022-05-29T04:16:46.590Z"
   },
   {
    "duration": 19,
    "start_time": "2022-05-29T04:16:46.629Z"
   },
   {
    "duration": 18,
    "start_time": "2022-05-29T04:16:46.650Z"
   },
   {
    "duration": 4,
    "start_time": "2022-05-29T04:16:46.669Z"
   },
   {
    "duration": 19,
    "start_time": "2022-05-29T04:16:46.675Z"
   },
   {
    "duration": 145,
    "start_time": "2022-05-29T04:16:46.696Z"
   },
   {
    "duration": 4,
    "start_time": "2022-05-29T04:16:46.843Z"
   },
   {
    "duration": 248,
    "start_time": "2022-05-29T04:16:46.851Z"
   },
   {
    "duration": 290,
    "start_time": "2022-05-29T04:16:47.101Z"
   },
   {
    "duration": 309,
    "start_time": "2022-05-29T04:16:47.393Z"
   },
   {
    "duration": 116,
    "start_time": "2022-05-29T04:16:47.704Z"
   },
   {
    "duration": 157,
    "start_time": "2022-05-29T04:16:47.821Z"
   },
   {
    "duration": 280,
    "start_time": "2022-05-29T04:16:47.980Z"
   },
   {
    "duration": 108,
    "start_time": "2022-05-29T04:16:48.262Z"
   },
   {
    "duration": 163,
    "start_time": "2022-05-29T04:16:48.371Z"
   },
   {
    "duration": 283,
    "start_time": "2022-05-29T04:16:48.536Z"
   },
   {
    "duration": 186,
    "start_time": "2022-05-29T04:16:48.821Z"
   },
   {
    "duration": 41,
    "start_time": "2022-05-29T04:16:49.009Z"
   },
   {
    "duration": 11,
    "start_time": "2022-05-29T04:16:49.052Z"
   },
   {
    "duration": 43,
    "start_time": "2022-05-29T04:16:49.064Z"
   },
   {
    "duration": 22,
    "start_time": "2022-05-29T04:16:49.108Z"
   },
   {
    "duration": 10,
    "start_time": "2022-05-29T04:16:49.132Z"
   },
   {
    "duration": 8,
    "start_time": "2022-05-29T04:16:49.143Z"
   },
   {
    "duration": 7,
    "start_time": "2022-05-29T04:16:49.152Z"
   },
   {
    "duration": 1106,
    "start_time": "2022-05-29T04:17:13.659Z"
   },
   {
    "duration": 412,
    "start_time": "2022-05-29T04:17:14.767Z"
   },
   {
    "duration": 33,
    "start_time": "2022-05-29T04:17:15.180Z"
   },
   {
    "duration": 26,
    "start_time": "2022-05-29T04:17:15.215Z"
   },
   {
    "duration": 23,
    "start_time": "2022-05-29T04:17:15.242Z"
   },
   {
    "duration": 19,
    "start_time": "2022-05-29T04:17:15.266Z"
   },
   {
    "duration": 42,
    "start_time": "2022-05-29T04:17:15.288Z"
   },
   {
    "duration": 166,
    "start_time": "2022-05-29T04:17:15.331Z"
   },
   {
    "duration": 36,
    "start_time": "2022-05-29T04:17:15.498Z"
   },
   {
    "duration": 90,
    "start_time": "2022-05-29T04:17:15.537Z"
   },
   {
    "duration": 21,
    "start_time": "2022-05-29T04:17:15.629Z"
   },
   {
    "duration": 85,
    "start_time": "2022-05-29T04:17:15.652Z"
   },
   {
    "duration": 20,
    "start_time": "2022-05-29T04:17:15.738Z"
   },
   {
    "duration": 10,
    "start_time": "2022-05-29T04:17:15.760Z"
   },
   {
    "duration": 90,
    "start_time": "2022-05-29T04:17:15.772Z"
   },
   {
    "duration": 29,
    "start_time": "2022-05-29T04:17:15.864Z"
   },
   {
    "duration": 44,
    "start_time": "2022-05-29T04:17:15.895Z"
   },
   {
    "duration": 3,
    "start_time": "2022-05-29T04:17:15.941Z"
   },
   {
    "duration": 42,
    "start_time": "2022-05-29T04:17:15.945Z"
   },
   {
    "duration": 2,
    "start_time": "2022-05-29T04:17:15.988Z"
   },
   {
    "duration": 29,
    "start_time": "2022-05-29T04:17:15.991Z"
   },
   {
    "duration": 18,
    "start_time": "2022-05-29T04:17:16.026Z"
   },
   {
    "duration": 18,
    "start_time": "2022-05-29T04:17:16.045Z"
   },
   {
    "duration": 4,
    "start_time": "2022-05-29T04:17:16.064Z"
   },
   {
    "duration": 24,
    "start_time": "2022-05-29T04:17:16.070Z"
   },
   {
    "duration": 175,
    "start_time": "2022-05-29T04:17:16.096Z"
   },
   {
    "duration": 6,
    "start_time": "2022-05-29T04:17:16.273Z"
   },
   {
    "duration": 344,
    "start_time": "2022-05-29T04:17:16.283Z"
   },
   {
    "duration": 316,
    "start_time": "2022-05-29T04:17:16.628Z"
   },
   {
    "duration": 123,
    "start_time": "2022-05-29T04:17:16.945Z"
   },
   {
    "duration": 202,
    "start_time": "2022-05-29T04:17:17.070Z"
   },
   {
    "duration": 307,
    "start_time": "2022-05-29T04:17:17.274Z"
   },
   {
    "duration": 116,
    "start_time": "2022-05-29T04:17:17.582Z"
   },
   {
    "duration": 198,
    "start_time": "2022-05-29T04:17:17.699Z"
   },
   {
    "duration": 316,
    "start_time": "2022-05-29T04:17:17.899Z"
   },
   {
    "duration": 121,
    "start_time": "2022-05-29T04:17:18.217Z"
   },
   {
    "duration": 30,
    "start_time": "2022-05-29T04:17:18.340Z"
   },
   {
    "duration": 13,
    "start_time": "2022-05-29T04:17:18.371Z"
   },
   {
    "duration": 67,
    "start_time": "2022-05-29T04:17:18.385Z"
   },
   {
    "duration": 6,
    "start_time": "2022-05-29T04:17:18.453Z"
   },
   {
    "duration": 7,
    "start_time": "2022-05-29T04:17:18.460Z"
   },
   {
    "duration": 7,
    "start_time": "2022-05-29T04:17:18.468Z"
   },
   {
    "duration": 8,
    "start_time": "2022-05-29T04:17:18.477Z"
   },
   {
    "duration": 35,
    "start_time": "2022-05-29T04:20:49.076Z"
   }
  ],
  "celltoolbar": "Необработанный формат ячейки",
  "kernelspec": {
   "display_name": "Python 3 (ipykernel)",
   "language": "python",
   "name": "python3"
  },
  "language_info": {
   "codemirror_mode": {
    "name": "ipython",
    "version": 3
   },
   "file_extension": ".py",
   "mimetype": "text/x-python",
   "name": "python",
   "nbconvert_exporter": "python",
   "pygments_lexer": "ipython3",
   "version": "3.9.7"
  },
  "toc": {
   "base_numbering": 1,
   "nav_menu": {
    "height": "317px",
    "width": "200px"
   },
   "number_sections": true,
   "sideBar": true,
   "skip_h1_title": true,
   "title_cell": "Содержание",
   "title_sidebar": "Contents",
   "toc_cell": true,
   "toc_position": {},
   "toc_section_display": true,
   "toc_window_display": true
  }
 },
 "nbformat": 4,
 "nbformat_minor": 2
}
