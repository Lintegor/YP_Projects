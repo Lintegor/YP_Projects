{
 "cells": [
  {
   "cell_type": "markdown",
   "metadata": {
    "toc": true
   },
   "source": [
    "<h1>Содержание<span class=\"tocSkip\"></span></h1>\n",
    "<div class=\"toc\"><ul class=\"toc-item\"><li><span><a href=\"#Изучение-данных-из-файла\" data-toc-modified-id=\"Изучение-данных-из-файла-1\"><span class=\"toc-item-num\">1&nbsp;&nbsp;</span>Изучение данных из файла</a></span><ul class=\"toc-item\"><li><span><a href=\"#Вывод\" data-toc-modified-id=\"Вывод-1.1\"><span class=\"toc-item-num\">1.1&nbsp;&nbsp;</span>Вывод</a></span></li></ul></li><li><span><a href=\"#Предобработка-данных\" data-toc-modified-id=\"Предобработка-данных-2\"><span class=\"toc-item-num\">2&nbsp;&nbsp;</span>Предобработка данных</a></span><ul class=\"toc-item\"><li><span><a href=\"#Столбец-first_day_exposition\" data-toc-modified-id=\"Столбец-first_day_exposition-2.1\"><span class=\"toc-item-num\">2.1&nbsp;&nbsp;</span>Столбец first_day_exposition</a></span></li><li><span><a href=\"#Столбец-last_price\" data-toc-modified-id=\"Столбец-last_price-2.2\"><span class=\"toc-item-num\">2.2&nbsp;&nbsp;</span>Столбец last_price</a></span></li><li><span><a href=\"#Столбец-ceiling_height\" data-toc-modified-id=\"Столбец-ceiling_height-2.3\"><span class=\"toc-item-num\">2.3&nbsp;&nbsp;</span>Столбец ceiling_height</a></span></li><li><span><a href=\"#Столбец-floors_total\" data-toc-modified-id=\"Столбец-floors_total-2.4\"><span class=\"toc-item-num\">2.4&nbsp;&nbsp;</span>Столбец floors_total</a></span></li><li><span><a href=\"#Столбец-living_area\" data-toc-modified-id=\"Столбец-living_area-2.5\"><span class=\"toc-item-num\">2.5&nbsp;&nbsp;</span>Столбец living_area</a></span></li><li><span><a href=\"#Столбец-is_apartment\" data-toc-modified-id=\"Столбец-is_apartment-2.6\"><span class=\"toc-item-num\">2.6&nbsp;&nbsp;</span>Столбец is_apartment</a></span></li><li><span><a href=\"#Столбец-kitchen_area\" data-toc-modified-id=\"Столбец-kitchen_area-2.7\"><span class=\"toc-item-num\">2.7&nbsp;&nbsp;</span>Столбец kitchen_area</a></span></li><li><span><a href=\"#Столбец-balcony\" data-toc-modified-id=\"Столбец-balcony-2.8\"><span class=\"toc-item-num\">2.8&nbsp;&nbsp;</span>Столбец balcony</a></span></li><li><span><a href=\"#Столбец-locality_name\" data-toc-modified-id=\"Столбец-locality_name-2.9\"><span class=\"toc-item-num\">2.9&nbsp;&nbsp;</span>Столбец locality_name</a></span></li><li><span><a href=\"#Столбцы-airports_nearest,-parks_around_3000,-parks_nearest,-ponds_around_3000,-ponds_nearest\" data-toc-modified-id=\"Столбцы-airports_nearest,-parks_around_3000,-parks_nearest,-ponds_around_3000,-ponds_nearest-2.10\"><span class=\"toc-item-num\">2.10&nbsp;&nbsp;</span>Столбцы airports_nearest, parks_around_3000, parks_nearest, ponds_around_3000, ponds_nearest</a></span></li><li><span><a href=\"#Столбец-city_centers_nearest\" data-toc-modified-id=\"Столбец-city_centers_nearest-2.11\"><span class=\"toc-item-num\">2.11&nbsp;&nbsp;</span>Столбец city_centers_nearest</a></span></li><li><span><a href=\"#Столбец-days_exposition\" data-toc-modified-id=\"Столбец-days_exposition-2.12\"><span class=\"toc-item-num\">2.12&nbsp;&nbsp;</span>Столбец days_exposition</a></span></li><li><span><a href=\"#Вывод-по-предобработке\" data-toc-modified-id=\"Вывод-по-предобработке-2.13\"><span class=\"toc-item-num\">2.13&nbsp;&nbsp;</span>Вывод по предобработке</a></span></li></ul></li><li><span><a href=\"#Расчёты-и-добавление-результатов-в-таблицу\" data-toc-modified-id=\"Расчёты-и-добавление-результатов-в-таблицу-3\"><span class=\"toc-item-num\">3&nbsp;&nbsp;</span>Расчёты и добавление результатов в таблицу</a></span><ul class=\"toc-item\"><li><span><a href=\"#Расчёт-и-добавление-стоимости-квадратного-метра\" data-toc-modified-id=\"Расчёт-и-добавление-стоимости-квадратного-метра-3.1\"><span class=\"toc-item-num\">3.1&nbsp;&nbsp;</span>Расчёт и добавление стоимости квадратного метра</a></span></li><li><span><a href=\"#Добавление-дня-недели,-месяца-и-года-публикации-объявления\" data-toc-modified-id=\"Добавление-дня-недели,-месяца-и-года-публикации-объявления-3.2\"><span class=\"toc-item-num\">3.2&nbsp;&nbsp;</span>Добавление дня недели, месяца и года публикации объявления</a></span></li><li><span><a href=\"#Добавление-этажа-квартиры---первый,-последний,-другой\" data-toc-modified-id=\"Добавление-этажа-квартиры---первый,-последний,-другой-3.3\"><span class=\"toc-item-num\">3.3&nbsp;&nbsp;</span>Добавление этажа квартиры - первый, последний, другой</a></span></li><li><span><a href=\"#Добавление-соотношение-жилой-и-общей-площади,-а-также-отношение-площади-кухни-к-общей\" data-toc-modified-id=\"Добавление-соотношение-жилой-и-общей-площади,-а-также-отношение-площади-кухни-к-общей-3.4\"><span class=\"toc-item-num\">3.4&nbsp;&nbsp;</span>Добавление соотношение жилой и общей площади, а также отношение площади кухни к общей</a></span></li></ul></li><li><span><a href=\"#Исследовательский-анализ-данных\" data-toc-modified-id=\"Исследовательский-анализ-данных-4\"><span class=\"toc-item-num\">4&nbsp;&nbsp;</span>Исследовательский анализ данных</a></span><ul class=\"toc-item\"><li><span><a href=\"#Изучение-параметров:-площадь,цена,-число-комнат,-высота-потолков\" data-toc-modified-id=\"Изучение-параметров:-площадь,цена,-число-комнат,-высота-потолков-4.1\"><span class=\"toc-item-num\">4.1&nbsp;&nbsp;</span>Изучение параметров: площадь,цена, число комнат, высота потолков</a></span><ul class=\"toc-item\"><li><span><a href=\"#Вывод\" data-toc-modified-id=\"Вывод-4.1.1\"><span class=\"toc-item-num\">4.1.1&nbsp;&nbsp;</span>Вывод</a></span></li></ul></li><li><span><a href=\"#Изучение-времени-продажи-квартиры\" data-toc-modified-id=\"Изучение-времени-продажи-квартиры-4.2\"><span class=\"toc-item-num\">4.2&nbsp;&nbsp;</span>Изучение времени продажи квартиры</a></span></li><li><span><a href=\"#Поиск-редких-и-выбивающихся-значений,-аномалий.\" data-toc-modified-id=\"Поиск-редких-и-выбивающихся-значений,-аномалий.-4.3\"><span class=\"toc-item-num\">4.3&nbsp;&nbsp;</span>Поиск редких и выбивающихся значений, аномалий.</a></span><ul class=\"toc-item\"><li><span><a href=\"#Вывод\" data-toc-modified-id=\"Вывод-4.3.1\"><span class=\"toc-item-num\">4.3.1&nbsp;&nbsp;</span>Вывод</a></span></li></ul></li><li><span><a href=\"#Влияние-факторов-на-стоимость-квартиры\" data-toc-modified-id=\"Влияние-факторов-на-стоимость-квартиры-4.4\"><span class=\"toc-item-num\">4.4&nbsp;&nbsp;</span>Влияние факторов на стоимость квартиры</a></span></li><li><span><a href=\"#Вывод\" data-toc-modified-id=\"Вывод-4.5\"><span class=\"toc-item-num\">4.5&nbsp;&nbsp;</span>Вывод</a></span></li></ul></li><li><span><a href=\"#Задания-по-датафрейму\" data-toc-modified-id=\"Задания-по-датафрейму-5\"><span class=\"toc-item-num\">5&nbsp;&nbsp;</span>Задания по датафрейму</a></span><ul class=\"toc-item\"><li><span><a href=\"#Задача-1\" data-toc-modified-id=\"Задача-1-5.1\"><span class=\"toc-item-num\">5.1&nbsp;&nbsp;</span>Задача 1</a></span></li><li><span><a href=\"#Задача-2\" data-toc-modified-id=\"Задача-2-5.2\"><span class=\"toc-item-num\">5.2&nbsp;&nbsp;</span>Задача 2</a></span></li><li><span><a href=\"#Задача-3\" data-toc-modified-id=\"Задача-3-5.3\"><span class=\"toc-item-num\">5.3&nbsp;&nbsp;</span>Задача 3</a></span><ul class=\"toc-item\"><li><span><a href=\"#Вывод\" data-toc-modified-id=\"Вывод-5.3.1\"><span class=\"toc-item-num\">5.3.1&nbsp;&nbsp;</span>Вывод</a></span></li></ul></li></ul></li><li><span><a href=\"#Общий-вывод\" data-toc-modified-id=\"Общий-вывод-6\"><span class=\"toc-item-num\">6&nbsp;&nbsp;</span>Общий вывод</a></span></li><li><span><a href=\"#Чек-лист-готовности-проекта\" data-toc-modified-id=\"Чек-лист-готовности-проекта-7\"><span class=\"toc-item-num\">7&nbsp;&nbsp;</span>Чек-лист готовности проекта</a></span></li></ul></div>"
   ]
  },
  {
   "cell_type": "markdown",
   "metadata": {},
   "source": [
    "# Исследование объявлений о продаже квартир\n",
    "В моём распоряжении данные сервиса Яндекc Недвижимость — архив объявлений о продаже квартир в Санкт-Петербурге и соседних населённых пунктах за несколько лет. Нужно определять рыночную стоимость объектов недвижимости. Моя задача — установить параметры которые влияют на цену недвижимости, что позволит построить автоматизированную систему: она отследит аномалии и мошенническую деятельность.    \n",
    "По каждой квартире на продажу доступны два вида данных. Первые вписаны пользователем, вторые получены автоматически на основе картографических данных. Например, расстояние до центра, аэропорта, ближайшего парка и водоёма. "
   ]
  },
  {
   "cell_type": "markdown",
   "metadata": {},
   "source": [
    "## Изучение данных из файла"
   ]
  },
  {
   "cell_type": "code",
   "execution_count": 1,
   "metadata": {},
   "outputs": [],
   "source": [
    "import pandas as pd\n",
    "import os #Для загрузки данных с разных источников"
   ]
  },
  {
   "cell_type": "code",
   "execution_count": 2,
   "metadata": {},
   "outputs": [],
   "source": [
    "#Загрузка файла с данными\n",
    "pth1 = 'real_estate_data.csv'\n",
    "pth2 = '/datasets/real_estate_data.csv'\n",
    "if os.path.exists(pth1):\n",
    "    estate_data = pd.read_csv(pth1, sep = '\\t')\n",
    "elif os.path.exists(pth2):\n",
    "    estate_data = pd.read_csv(pth2, sep = '\\t')\n",
    "else:\n",
    "    print('Somthing is rong')"
   ]
  },
  {
   "cell_type": "code",
   "execution_count": 3,
   "metadata": {},
   "outputs": [
    {
     "data": {
      "text/html": [
       "<div>\n",
       "<style scoped>\n",
       "    .dataframe tbody tr th:only-of-type {\n",
       "        vertical-align: middle;\n",
       "    }\n",
       "\n",
       "    .dataframe tbody tr th {\n",
       "        vertical-align: top;\n",
       "    }\n",
       "\n",
       "    .dataframe thead th {\n",
       "        text-align: right;\n",
       "    }\n",
       "</style>\n",
       "<table border=\"1\" class=\"dataframe\">\n",
       "  <thead>\n",
       "    <tr style=\"text-align: right;\">\n",
       "      <th></th>\n",
       "      <th>total_images</th>\n",
       "      <th>last_price</th>\n",
       "      <th>total_area</th>\n",
       "      <th>first_day_exposition</th>\n",
       "      <th>rooms</th>\n",
       "      <th>ceiling_height</th>\n",
       "      <th>floors_total</th>\n",
       "      <th>living_area</th>\n",
       "      <th>floor</th>\n",
       "      <th>is_apartment</th>\n",
       "      <th>...</th>\n",
       "      <th>kitchen_area</th>\n",
       "      <th>balcony</th>\n",
       "      <th>locality_name</th>\n",
       "      <th>airports_nearest</th>\n",
       "      <th>cityCenters_nearest</th>\n",
       "      <th>parks_around3000</th>\n",
       "      <th>parks_nearest</th>\n",
       "      <th>ponds_around3000</th>\n",
       "      <th>ponds_nearest</th>\n",
       "      <th>days_exposition</th>\n",
       "    </tr>\n",
       "  </thead>\n",
       "  <tbody>\n",
       "    <tr>\n",
       "      <th>0</th>\n",
       "      <td>20</td>\n",
       "      <td>13000000.0</td>\n",
       "      <td>108.0</td>\n",
       "      <td>2019-03-07T00:00:00</td>\n",
       "      <td>3</td>\n",
       "      <td>2.70</td>\n",
       "      <td>16.0</td>\n",
       "      <td>51.0</td>\n",
       "      <td>8</td>\n",
       "      <td>NaN</td>\n",
       "      <td>...</td>\n",
       "      <td>25.0</td>\n",
       "      <td>NaN</td>\n",
       "      <td>Санкт-Петербург</td>\n",
       "      <td>18863.0</td>\n",
       "      <td>16028.0</td>\n",
       "      <td>1.0</td>\n",
       "      <td>482.0</td>\n",
       "      <td>2.0</td>\n",
       "      <td>755.0</td>\n",
       "      <td>NaN</td>\n",
       "    </tr>\n",
       "    <tr>\n",
       "      <th>1</th>\n",
       "      <td>7</td>\n",
       "      <td>3350000.0</td>\n",
       "      <td>40.4</td>\n",
       "      <td>2018-12-04T00:00:00</td>\n",
       "      <td>1</td>\n",
       "      <td>NaN</td>\n",
       "      <td>11.0</td>\n",
       "      <td>18.6</td>\n",
       "      <td>1</td>\n",
       "      <td>NaN</td>\n",
       "      <td>...</td>\n",
       "      <td>11.0</td>\n",
       "      <td>2.0</td>\n",
       "      <td>посёлок Шушары</td>\n",
       "      <td>12817.0</td>\n",
       "      <td>18603.0</td>\n",
       "      <td>0.0</td>\n",
       "      <td>NaN</td>\n",
       "      <td>0.0</td>\n",
       "      <td>NaN</td>\n",
       "      <td>81.0</td>\n",
       "    </tr>\n",
       "    <tr>\n",
       "      <th>2</th>\n",
       "      <td>10</td>\n",
       "      <td>5196000.0</td>\n",
       "      <td>56.0</td>\n",
       "      <td>2015-08-20T00:00:00</td>\n",
       "      <td>2</td>\n",
       "      <td>NaN</td>\n",
       "      <td>5.0</td>\n",
       "      <td>34.3</td>\n",
       "      <td>4</td>\n",
       "      <td>NaN</td>\n",
       "      <td>...</td>\n",
       "      <td>8.3</td>\n",
       "      <td>0.0</td>\n",
       "      <td>Санкт-Петербург</td>\n",
       "      <td>21741.0</td>\n",
       "      <td>13933.0</td>\n",
       "      <td>1.0</td>\n",
       "      <td>90.0</td>\n",
       "      <td>2.0</td>\n",
       "      <td>574.0</td>\n",
       "      <td>558.0</td>\n",
       "    </tr>\n",
       "    <tr>\n",
       "      <th>3</th>\n",
       "      <td>0</td>\n",
       "      <td>64900000.0</td>\n",
       "      <td>159.0</td>\n",
       "      <td>2015-07-24T00:00:00</td>\n",
       "      <td>3</td>\n",
       "      <td>NaN</td>\n",
       "      <td>14.0</td>\n",
       "      <td>NaN</td>\n",
       "      <td>9</td>\n",
       "      <td>NaN</td>\n",
       "      <td>...</td>\n",
       "      <td>NaN</td>\n",
       "      <td>0.0</td>\n",
       "      <td>Санкт-Петербург</td>\n",
       "      <td>28098.0</td>\n",
       "      <td>6800.0</td>\n",
       "      <td>2.0</td>\n",
       "      <td>84.0</td>\n",
       "      <td>3.0</td>\n",
       "      <td>234.0</td>\n",
       "      <td>424.0</td>\n",
       "    </tr>\n",
       "    <tr>\n",
       "      <th>4</th>\n",
       "      <td>2</td>\n",
       "      <td>10000000.0</td>\n",
       "      <td>100.0</td>\n",
       "      <td>2018-06-19T00:00:00</td>\n",
       "      <td>2</td>\n",
       "      <td>3.03</td>\n",
       "      <td>14.0</td>\n",
       "      <td>32.0</td>\n",
       "      <td>13</td>\n",
       "      <td>NaN</td>\n",
       "      <td>...</td>\n",
       "      <td>41.0</td>\n",
       "      <td>NaN</td>\n",
       "      <td>Санкт-Петербург</td>\n",
       "      <td>31856.0</td>\n",
       "      <td>8098.0</td>\n",
       "      <td>2.0</td>\n",
       "      <td>112.0</td>\n",
       "      <td>1.0</td>\n",
       "      <td>48.0</td>\n",
       "      <td>121.0</td>\n",
       "    </tr>\n",
       "  </tbody>\n",
       "</table>\n",
       "<p>5 rows × 22 columns</p>\n",
       "</div>"
      ],
      "text/plain": [
       "   total_images  last_price  total_area first_day_exposition  rooms  \\\n",
       "0            20  13000000.0       108.0  2019-03-07T00:00:00      3   \n",
       "1             7   3350000.0        40.4  2018-12-04T00:00:00      1   \n",
       "2            10   5196000.0        56.0  2015-08-20T00:00:00      2   \n",
       "3             0  64900000.0       159.0  2015-07-24T00:00:00      3   \n",
       "4             2  10000000.0       100.0  2018-06-19T00:00:00      2   \n",
       "\n",
       "   ceiling_height  floors_total  living_area  floor is_apartment  ...  \\\n",
       "0            2.70          16.0         51.0      8          NaN  ...   \n",
       "1             NaN          11.0         18.6      1          NaN  ...   \n",
       "2             NaN           5.0         34.3      4          NaN  ...   \n",
       "3             NaN          14.0          NaN      9          NaN  ...   \n",
       "4            3.03          14.0         32.0     13          NaN  ...   \n",
       "\n",
       "   kitchen_area  balcony    locality_name  airports_nearest  \\\n",
       "0          25.0      NaN  Санкт-Петербург           18863.0   \n",
       "1          11.0      2.0   посёлок Шушары           12817.0   \n",
       "2           8.3      0.0  Санкт-Петербург           21741.0   \n",
       "3           NaN      0.0  Санкт-Петербург           28098.0   \n",
       "4          41.0      NaN  Санкт-Петербург           31856.0   \n",
       "\n",
       "  cityCenters_nearest  parks_around3000  parks_nearest  ponds_around3000  \\\n",
       "0             16028.0               1.0          482.0               2.0   \n",
       "1             18603.0               0.0            NaN               0.0   \n",
       "2             13933.0               1.0           90.0               2.0   \n",
       "3              6800.0               2.0           84.0               3.0   \n",
       "4              8098.0               2.0          112.0               1.0   \n",
       "\n",
       "   ponds_nearest  days_exposition  \n",
       "0          755.0              NaN  \n",
       "1            NaN             81.0  \n",
       "2          574.0            558.0  \n",
       "3          234.0            424.0  \n",
       "4           48.0            121.0  \n",
       "\n",
       "[5 rows x 22 columns]"
      ]
     },
     "execution_count": 3,
     "metadata": {},
     "output_type": "execute_result"
    }
   ],
   "source": [
    "estate_data.head()"
   ]
  },
  {
   "cell_type": "markdown",
   "metadata": {},
   "source": [
    "Теперь можем изучить представленную информацию методом **info()**"
   ]
  },
  {
   "cell_type": "code",
   "execution_count": 4,
   "metadata": {
    "scrolled": true
   },
   "outputs": [
    {
     "name": "stdout",
     "output_type": "stream",
     "text": [
      "<class 'pandas.core.frame.DataFrame'>\n",
      "RangeIndex: 23699 entries, 0 to 23698\n",
      "Data columns (total 22 columns):\n",
      " #   Column                Non-Null Count  Dtype  \n",
      "---  ------                --------------  -----  \n",
      " 0   total_images          23699 non-null  int64  \n",
      " 1   last_price            23699 non-null  float64\n",
      " 2   total_area            23699 non-null  float64\n",
      " 3   first_day_exposition  23699 non-null  object \n",
      " 4   rooms                 23699 non-null  int64  \n",
      " 5   ceiling_height        14504 non-null  float64\n",
      " 6   floors_total          23613 non-null  float64\n",
      " 7   living_area           21796 non-null  float64\n",
      " 8   floor                 23699 non-null  int64  \n",
      " 9   is_apartment          2775 non-null   object \n",
      " 10  studio                23699 non-null  bool   \n",
      " 11  open_plan             23699 non-null  bool   \n",
      " 12  kitchen_area          21421 non-null  float64\n",
      " 13  balcony               12180 non-null  float64\n",
      " 14  locality_name         23650 non-null  object \n",
      " 15  airports_nearest      18157 non-null  float64\n",
      " 16  cityCenters_nearest   18180 non-null  float64\n",
      " 17  parks_around3000      18181 non-null  float64\n",
      " 18  parks_nearest         8079 non-null   float64\n",
      " 19  ponds_around3000      18181 non-null  float64\n",
      " 20  ponds_nearest         9110 non-null   float64\n",
      " 21  days_exposition       20518 non-null  float64\n",
      "dtypes: bool(2), float64(14), int64(3), object(3)\n",
      "memory usage: 3.7+ MB\n"
     ]
    }
   ],
   "source": [
    "estate_data.info()"
   ]
  },
  {
   "cell_type": "markdown",
   "metadata": {},
   "source": [
    "По выведенной информации видно, что в столбцах (**ceiling_height, floors_total, living_area, is_apartment, kitchen_area, balcony, locality_name, airports_nearest, cityCenters_nearest, parks_around3000, parks_nearest, ponds_around3000, ponds_nearest, days_exposition**) имеются нулевые значения. Учитывая задачу поставленную перед нами - \"Ваша задача — установить параметры\", придётся рассмотреть все столбцы и заполнить пропуски. Но сначала обратим внимание на названия столбцов и приведём их все к нижнему регистру, 'змеиному' стилю написанию."
   ]
  },
  {
   "cell_type": "code",
   "execution_count": 5,
   "metadata": {},
   "outputs": [
    {
     "name": "stdout",
     "output_type": "stream",
     "text": [
      "<class 'pandas.core.frame.DataFrame'>\n",
      "RangeIndex: 23699 entries, 0 to 23698\n",
      "Data columns (total 22 columns):\n",
      " #   Column                Non-Null Count  Dtype  \n",
      "---  ------                --------------  -----  \n",
      " 0   total_images          23699 non-null  int64  \n",
      " 1   last_price            23699 non-null  float64\n",
      " 2   total_area            23699 non-null  float64\n",
      " 3   first_day_exposition  23699 non-null  object \n",
      " 4   rooms                 23699 non-null  int64  \n",
      " 5   ceiling_height        14504 non-null  float64\n",
      " 6   floors_total          23613 non-null  float64\n",
      " 7   living_area           21796 non-null  float64\n",
      " 8   floor                 23699 non-null  int64  \n",
      " 9   is_apartment          2775 non-null   object \n",
      " 10  studio                23699 non-null  bool   \n",
      " 11  open_plan             23699 non-null  bool   \n",
      " 12  kitchen_area          21421 non-null  float64\n",
      " 13  balcony               12180 non-null  float64\n",
      " 14  locality_name         23650 non-null  object \n",
      " 15  airports_nearest      18157 non-null  float64\n",
      " 16  city_centers_nearest  18180 non-null  float64\n",
      " 17  parks_around_3000     18181 non-null  float64\n",
      " 18  parks_nearest         8079 non-null   float64\n",
      " 19  ponds_around_3000     18181 non-null  float64\n",
      " 20  ponds_nearest         9110 non-null   float64\n",
      " 21  days_exposition       20518 non-null  float64\n",
      "dtypes: bool(2), float64(14), int64(3), object(3)\n",
      "memory usage: 3.7+ MB\n"
     ]
    }
   ],
   "source": [
    "estate_data = estate_data.rename(\n",
    "    columns={'cityCenters_nearest':'city_centers_nearest', #меняем название столбца cityCenters_nearest\n",
    "             'parks_around3000':'parks_around_3000', #меняем название столбца parks_around3000\n",
    "             'ponds_around3000':'ponds_around_3000'})#меняем название столбца ponds_around3000\n",
    "estate_data.info() #проверяем выполнение замены"
   ]
  },
  {
   "cell_type": "markdown",
   "metadata": {},
   "source": [
    "### Вывод"
   ]
  },
  {
   "cell_type": "markdown",
   "metadata": {},
   "source": [
    "Исходный файл с датафреймом предоставлен заказчиком в формате CSV и имеет не стандартный разделитель \\t, который был учтён при его чтении и записи в переменную **estate_data**. Имеются столбцы с нулевыми значениями, которые необходимо заполнить. Все наименования столбцов датафрейма приведены к нижнему регистру и 'змеиному' стилю написания.    \n",
    "Столбцы **first_day_exposition, floors_total, is_apartment, balcony, parks_around_3000, ponds_around_3000,days_exposition** имеют не соответствующие, представленным данным, типы данных."
   ]
  },
  {
   "cell_type": "markdown",
   "metadata": {},
   "source": [
    "## Предобработка данных"
   ]
  },
  {
   "cell_type": "markdown",
   "metadata": {},
   "source": [
    "Перед разбором отдельных столбцов удалим явные дубликаты если они есть."
   ]
  },
  {
   "cell_type": "code",
   "execution_count": 6,
   "metadata": {},
   "outputs": [
    {
     "data": {
      "text/plain": [
       "0"
      ]
     },
     "execution_count": 6,
     "metadata": {},
     "output_type": "execute_result"
    }
   ],
   "source": [
    "estate_data.duplicated().sum()"
   ]
  },
  {
   "cell_type": "markdown",
   "metadata": {},
   "source": [
    "Явных дубликатов нет"
   ]
  },
  {
   "cell_type": "markdown",
   "metadata": {},
   "source": [
    "### Столбец first_day_exposition"
   ]
  },
  {
   "cell_type": "markdown",
   "metadata": {},
   "source": [
    "При предобработке данных пойдём по порядку, начиная с первого проблемного столбца **first_day_exposition**, который содержит даты публикаий объявлени, но имеет тип данных **object**. Переведём данные в тип **datetime**"
   ]
  },
  {
   "cell_type": "code",
   "execution_count": 7,
   "metadata": {},
   "outputs": [
    {
     "data": {
      "text/plain": [
       "0    2019-03-07T00:00:00\n",
       "1    2018-12-04T00:00:00\n",
       "2    2015-08-20T00:00:00\n",
       "3    2015-07-24T00:00:00\n",
       "4    2018-06-19T00:00:00\n",
       "Name: first_day_exposition, dtype: object"
      ]
     },
     "execution_count": 7,
     "metadata": {},
     "output_type": "execute_result"
    }
   ],
   "source": [
    "estate_data['first_day_exposition'].head() #ещё раз посмотрим на формат first_day_exposition"
   ]
  },
  {
   "cell_type": "code",
   "execution_count": 8,
   "metadata": {},
   "outputs": [
    {
     "data": {
      "text/plain": [
       "0   2019-03-07\n",
       "1   2018-12-04\n",
       "2   2015-08-20\n",
       "3   2015-07-24\n",
       "4   2018-06-19\n",
       "Name: first_day_exposition, dtype: datetime64[ns]"
      ]
     },
     "execution_count": 8,
     "metadata": {},
     "output_type": "execute_result"
    }
   ],
   "source": [
    "estate_data['first_day_exposition'] = pd.to_datetime(estate_data['first_day_exposition'], format = '%Y-%m-%dT%H:%M:%S')\n",
    "estate_data['first_day_exposition'].head() #проверим результат замены типа данных"
   ]
  },
  {
   "cell_type": "markdown",
   "metadata": {},
   "source": [
    "### Столбец last_price"
   ]
  },
  {
   "cell_type": "markdown",
   "metadata": {},
   "source": [
    "Данный столбец необходимо привести к типу данных int"
   ]
  },
  {
   "cell_type": "code",
   "execution_count": 9,
   "metadata": {},
   "outputs": [],
   "source": [
    "estate_data['last_price'] = estate_data['last_price'].astype('int')"
   ]
  },
  {
   "cell_type": "markdown",
   "metadata": {},
   "source": [
    "### Столбец ceiling_height"
   ]
  },
  {
   "cell_type": "markdown",
   "metadata": {},
   "source": [
    "Следующий столбец **ceiling_height**  - высота потолков, тип данных float подходит, но столбец имеет нулевые значение, которые необходимо заполнить. Пропущенные значения заполним медианными значениями из квартир расположенных в похожих домах, из одного населенного пункта. Так как в **floors_total, locality_name** тоже имеются пропущенные значения, оставшиеся значения столбца **ceiling_height** заполним общими медианными значениями."
   ]
  },
  {
   "cell_type": "code",
   "execution_count": 10,
   "metadata": {},
   "outputs": [
    {
     "data": {
      "text/plain": [
       "0"
      ]
     },
     "execution_count": 10,
     "metadata": {},
     "output_type": "execute_result"
    }
   ],
   "source": [
    "#Замена пропущенных значений на имеющиеся медианные значения высоты потолков сгруппированные по локации и этажности здания\n",
    "estate_data['ceiling_height'] = estate_data['ceiling_height'].fillna(\n",
    "    estate_data.groupby(['locality_name','floors_total'])['ceiling_height'].transform('median'))\n",
    "#Замена пропущенных значений на оставшиеся медианные значения высоты потолков сгруппированные только по этажности здания\n",
    "estate_data['ceiling_height'] = estate_data['ceiling_height'].fillna(\n",
    "    estate_data.groupby('floors_total')['ceiling_height'].transform('median'))\n",
    "#Оставшиеся знаяения заполним медианными значениями по всей выборке\n",
    "estate_data['ceiling_height'] = estate_data['ceiling_height'].fillna(estate_data['ceiling_height'].median())\n",
    "#Проверим количество пропущенных значений\n",
    "estate_data['ceiling_height'].isna().sum()"
   ]
  },
  {
   "cell_type": "markdown",
   "metadata": {},
   "source": [
    "### Столбец floors_total"
   ]
  },
  {
   "cell_type": "markdown",
   "metadata": {},
   "source": [
    "В столбце **floors_total** тип данных float, а так же имеются пропущенные значения. Сначала заполним пропущенные данные, а затем переведём тип данные в int. Учитывая, что доля пустых значений от кол-ва позиций мала, а именно 0,3 %, заменим их этажностью квартиры, которая указана в объявлении, потому что этажность дома не может быть меньше чем этаж на котором располагается квартира."
   ]
  },
  {
   "cell_type": "code",
   "execution_count": 11,
   "metadata": {},
   "outputs": [],
   "source": [
    "#Заменяем все NaN столбца floors_total на значения столбца floor\n",
    "estate_data['floors_total'] = estate_data['floors_total'].fillna(estate_data['floor'])"
   ]
  },
  {
   "cell_type": "code",
   "execution_count": 12,
   "metadata": {},
   "outputs": [
    {
     "name": "stdout",
     "output_type": "stream",
     "text": [
      "<class 'pandas.core.frame.DataFrame'>\n",
      "RangeIndex: 23699 entries, 0 to 23698\n",
      "Data columns (total 22 columns):\n",
      " #   Column                Non-Null Count  Dtype         \n",
      "---  ------                --------------  -----         \n",
      " 0   total_images          23699 non-null  int64         \n",
      " 1   last_price            23699 non-null  int32         \n",
      " 2   total_area            23699 non-null  float64       \n",
      " 3   first_day_exposition  23699 non-null  datetime64[ns]\n",
      " 4   rooms                 23699 non-null  int64         \n",
      " 5   ceiling_height        23699 non-null  float64       \n",
      " 6   floors_total          23699 non-null  int32         \n",
      " 7   living_area           21796 non-null  float64       \n",
      " 8   floor                 23699 non-null  int64         \n",
      " 9   is_apartment          2775 non-null   object        \n",
      " 10  studio                23699 non-null  bool          \n",
      " 11  open_plan             23699 non-null  bool          \n",
      " 12  kitchen_area          21421 non-null  float64       \n",
      " 13  balcony               12180 non-null  float64       \n",
      " 14  locality_name         23650 non-null  object        \n",
      " 15  airports_nearest      18157 non-null  float64       \n",
      " 16  city_centers_nearest  18180 non-null  float64       \n",
      " 17  parks_around_3000     18181 non-null  float64       \n",
      " 18  parks_nearest         8079 non-null   float64       \n",
      " 19  ponds_around_3000     18181 non-null  float64       \n",
      " 20  ponds_nearest         9110 non-null   float64       \n",
      " 21  days_exposition       20518 non-null  float64       \n",
      "dtypes: bool(2), datetime64[ns](1), float64(12), int32(2), int64(3), object(2)\n",
      "memory usage: 3.5+ MB\n"
     ]
    }
   ],
   "source": [
    "#меняем тип данных на int\n",
    "estate_data['floors_total'] = estate_data['floors_total'].astype('int')\n",
    "#проверяем изменение типа данных и заполнение нулевых значений\n",
    "estate_data.info()"
   ]
  },
  {
   "cell_type": "markdown",
   "metadata": {},
   "source": [
    "### Столбец living_area"
   ]
  },
  {
   "cell_type": "markdown",
   "metadata": {},
   "source": [
    "Пустые значения в этом столбце заполним средним процентом жилой площади от всей площади по всей выборке"
   ]
  },
  {
   "cell_type": "code",
   "execution_count": 13,
   "metadata": {},
   "outputs": [
    {
     "name": "stdout",
     "output_type": "stream",
     "text": [
      "<class 'pandas.core.frame.DataFrame'>\n",
      "RangeIndex: 23699 entries, 0 to 23698\n",
      "Data columns (total 22 columns):\n",
      " #   Column                Non-Null Count  Dtype         \n",
      "---  ------                --------------  -----         \n",
      " 0   total_images          23699 non-null  int64         \n",
      " 1   last_price            23699 non-null  int32         \n",
      " 2   total_area            23699 non-null  float64       \n",
      " 3   first_day_exposition  23699 non-null  datetime64[ns]\n",
      " 4   rooms                 23699 non-null  int64         \n",
      " 5   ceiling_height        23699 non-null  float64       \n",
      " 6   floors_total          23699 non-null  int32         \n",
      " 7   living_area           23699 non-null  int32         \n",
      " 8   floor                 23699 non-null  int64         \n",
      " 9   is_apartment          2775 non-null   object        \n",
      " 10  studio                23699 non-null  bool          \n",
      " 11  open_plan             23699 non-null  bool          \n",
      " 12  kitchen_area          21421 non-null  float64       \n",
      " 13  balcony               12180 non-null  float64       \n",
      " 14  locality_name         23650 non-null  object        \n",
      " 15  airports_nearest      18157 non-null  float64       \n",
      " 16  city_centers_nearest  18180 non-null  float64       \n",
      " 17  parks_around_3000     18181 non-null  float64       \n",
      " 18  parks_nearest         8079 non-null   float64       \n",
      " 19  ponds_around_3000     18181 non-null  float64       \n",
      " 20  ponds_nearest         9110 non-null   float64       \n",
      " 21  days_exposition       20518 non-null  float64       \n",
      "dtypes: bool(2), datetime64[ns](1), float64(11), int32(3), int64(3), object(2)\n",
      "memory usage: 3.4+ MB\n"
     ]
    }
   ],
   "source": [
    "#создадим переменную в которой отсутствуют пропуски в столбце living_area\n",
    "nan_living_area = estate_data[['total_area','living_area']].dropna(subset = ['living_area'])\n",
    "#создадим новый столбец который содержит доли жилойплощади относительно общей площади\n",
    "nan_living_area['part'] = nan_living_area['living_area']/nan_living_area['total_area']\n",
    "#вставим в пустые ячейки общую площадь умноженную на медианное значение доли жилой площади\n",
    "estate_data['living_area'] = estate_data['living_area'].fillna(estate_data['total_area']*nan_living_area['part'].median()).astype('int')\n",
    "#проверим количество нулевых значений\n",
    "estate_data.info()"
   ]
  },
  {
   "cell_type": "markdown",
   "metadata": {},
   "source": [
    "### Столбец is_apartment"
   ]
  },
  {
   "cell_type": "markdown",
   "metadata": {},
   "source": [
    "Для выполнения поставленных задач, данные из столбца не неужны. Тем не менее тип данных необходимо изменить на bool. Также заполним нулевые значения, значением False исходя из того, что если жильё не является аппартаментами, то человек не будет заполнять эту графу."
   ]
  },
  {
   "cell_type": "code",
   "execution_count": 14,
   "metadata": {},
   "outputs": [
    {
     "name": "stdout",
     "output_type": "stream",
     "text": [
      "<class 'pandas.core.frame.DataFrame'>\n",
      "RangeIndex: 23699 entries, 0 to 23698\n",
      "Data columns (total 22 columns):\n",
      " #   Column                Non-Null Count  Dtype         \n",
      "---  ------                --------------  -----         \n",
      " 0   total_images          23699 non-null  int64         \n",
      " 1   last_price            23699 non-null  int32         \n",
      " 2   total_area            23699 non-null  float64       \n",
      " 3   first_day_exposition  23699 non-null  datetime64[ns]\n",
      " 4   rooms                 23699 non-null  int64         \n",
      " 5   ceiling_height        23699 non-null  float64       \n",
      " 6   floors_total          23699 non-null  int32         \n",
      " 7   living_area           23699 non-null  int32         \n",
      " 8   floor                 23699 non-null  int64         \n",
      " 9   is_apartment          23699 non-null  bool          \n",
      " 10  studio                23699 non-null  bool          \n",
      " 11  open_plan             23699 non-null  bool          \n",
      " 12  kitchen_area          21421 non-null  float64       \n",
      " 13  balcony               12180 non-null  float64       \n",
      " 14  locality_name         23650 non-null  object        \n",
      " 15  airports_nearest      18157 non-null  float64       \n",
      " 16  city_centers_nearest  18180 non-null  float64       \n",
      " 17  parks_around_3000     18181 non-null  float64       \n",
      " 18  parks_nearest         8079 non-null   float64       \n",
      " 19  ponds_around_3000     18181 non-null  float64       \n",
      " 20  ponds_nearest         9110 non-null   float64       \n",
      " 21  days_exposition       20518 non-null  float64       \n",
      "dtypes: bool(3), datetime64[ns](1), float64(11), int32(3), int64(3), object(1)\n",
      "memory usage: 3.2+ MB\n"
     ]
    }
   ],
   "source": [
    "estate_data['is_apartment'] = estate_data['is_apartment'].fillna(False)\n",
    "estate_data.info()"
   ]
  },
  {
   "cell_type": "markdown",
   "metadata": {},
   "source": [
    "### Столбец kitchen_area"
   ]
  },
  {
   "cell_type": "markdown",
   "metadata": {},
   "source": [
    "Данные по столбцу заполним так же, как и по столбцу **living_area**, заисключение квартир-студий, там будем считать, что площадь кухни равна 0"
   ]
  },
  {
   "cell_type": "code",
   "execution_count": 15,
   "metadata": {},
   "outputs": [
    {
     "name": "stdout",
     "output_type": "stream",
     "text": [
      "<class 'pandas.core.frame.DataFrame'>\n",
      "RangeIndex: 23699 entries, 0 to 23698\n",
      "Data columns (total 22 columns):\n",
      " #   Column                Non-Null Count  Dtype         \n",
      "---  ------                --------------  -----         \n",
      " 0   total_images          23699 non-null  int64         \n",
      " 1   last_price            23699 non-null  int32         \n",
      " 2   total_area            23699 non-null  float64       \n",
      " 3   first_day_exposition  23699 non-null  datetime64[ns]\n",
      " 4   rooms                 23699 non-null  int64         \n",
      " 5   ceiling_height        23699 non-null  float64       \n",
      " 6   floors_total          23699 non-null  int32         \n",
      " 7   living_area           23699 non-null  int32         \n",
      " 8   floor                 23699 non-null  int64         \n",
      " 9   is_apartment          23699 non-null  bool          \n",
      " 10  studio                23699 non-null  bool          \n",
      " 11  open_plan             23699 non-null  bool          \n",
      " 12  kitchen_area          23699 non-null  int32         \n",
      " 13  balcony               12251 non-null  float64       \n",
      " 14  locality_name         23650 non-null  object        \n",
      " 15  airports_nearest      18236 non-null  float64       \n",
      " 16  city_centers_nearest  18259 non-null  float64       \n",
      " 17  parks_around_3000     18260 non-null  float64       \n",
      " 18  parks_nearest         8247 non-null   float64       \n",
      " 19  ponds_around_3000     18260 non-null  float64       \n",
      " 20  ponds_nearest         9238 non-null   float64       \n",
      " 21  days_exposition       20532 non-null  float64       \n",
      "dtypes: bool(3), datetime64[ns](1), float64(10), int32(4), int64(3), object(1)\n",
      "memory usage: 3.1+ MB\n"
     ]
    }
   ],
   "source": [
    "#всем пропущенным значениям площадей кухни для студий присвоим 0\n",
    "estate_data[estate_data['rooms']==0] = estate_data[estate_data['rooms']==0].fillna(0)\n",
    "#создадим переменную в которой отсутствуют пропуски в столбце kitchen_area\n",
    "nan_kitchen_area = estate_data[['total_area','kitchen_area']].dropna(subset = ['kitchen_area'])\n",
    "#создадим новый столбец который содержит доли жилойплощади относительно общей площади\n",
    "nan_kitchen_area['part'] = nan_kitchen_area['kitchen_area']/nan_kitchen_area['total_area']\n",
    "#вставим в пустые ячейки общую площадь умноженную на медианное значение доли жилой площади\n",
    "estate_data['kitchen_area'] = estate_data['kitchen_area'].fillna(estate_data['total_area']*nan_kitchen_area['part'].median()).astype('int')\n",
    "#проверим количество нулевых значений\n",
    "estate_data.info()"
   ]
  },
  {
   "cell_type": "markdown",
   "metadata": {},
   "source": [
    "### Столбец balcony"
   ]
  },
  {
   "cell_type": "markdown",
   "metadata": {},
   "source": [
    "Данный столбец заполними сходя из логики, что если бы балкон был, то его наличие бы указали.Так же изменим тип данных на int"
   ]
  },
  {
   "cell_type": "code",
   "execution_count": 16,
   "metadata": {},
   "outputs": [],
   "source": [
    "estate_data['balcony'] = estate_data['balcony'].fillna(0).astype('int')"
   ]
  },
  {
   "cell_type": "markdown",
   "metadata": {},
   "source": [
    "### Столбец locality_name"
   ]
  },
  {
   "cell_type": "markdown",
   "metadata": {},
   "source": [
    "Отсутствует всего 49 значений, это к счастью 0.2 % от общего количества объявлений, что не повлияет на результаты исследований. Заполнить их не предоставляется возможным, строки удалять не будем, но взаимосвязь данных этих позиций с местом расположения установить не получится. Тем неменее значения NaN заполним 0."
   ]
  },
  {
   "cell_type": "code",
   "execution_count": 17,
   "metadata": {},
   "outputs": [],
   "source": [
    "estate_data['locality_name'] = estate_data['locality_name'].fillna(0)"
   ]
  },
  {
   "cell_type": "markdown",
   "metadata": {},
   "source": [
    "### Столбцы airports_nearest, parks_around_3000, parks_nearest, ponds_around_3000, ponds_nearest"
   ]
  },
  {
   "cell_type": "markdown",
   "metadata": {},
   "source": [
    "Для решения предстоящих вопросах, данные в этих столбцах нам не нужны, поэтому не будем тратить пока на их заполнение время."
   ]
  },
  {
   "cell_type": "markdown",
   "metadata": {},
   "source": [
    "### Столбец city_centers_nearest"
   ]
  },
  {
   "cell_type": "code",
   "execution_count": 18,
   "metadata": {},
   "outputs": [
    {
     "name": "stdout",
     "output_type": "stream",
     "text": [
      "Доля пропущенных значений составляет : 23.0%\n"
     ]
    }
   ],
   "source": [
    "#Доля пропущенных значений в столбце city_centers_nearest\n",
    "proportion = estate_data['city_centers_nearest'].isna().sum() / estate_data['city_centers_nearest'].shape[0]\n",
    "print(f'Доля пропущенных значений составляет : {proportion:.1%}')"
   ]
  },
  {
   "cell_type": "markdown",
   "metadata": {},
   "source": [
    "Доля пропущенных в столбце city_centers_nearest значений составляет - 23.3%, что достаточно много. Восстановить их не представляется возможным. Можно было бы косвенно определить значение по группировке расстояний от прудов и парков в определённых городах, но эти столбцы так же имеют много пропусков, которые так же не представляется возможным предугадать. Оставим, как есть, посмотрим как пойдёт исследование стоимости квартиры в зависимости от удалённости от центра."
   ]
  },
  {
   "cell_type": "markdown",
   "metadata": {},
   "source": [
    "### Столбец days_exposition"
   ]
  },
  {
   "cell_type": "markdown",
   "metadata": {},
   "source": [
    "В столбце имеются пропущенные данные, а так же тип данных не подходит. Тип данных изменим на int, а пропуски заполним медианным значением."
   ]
  },
  {
   "cell_type": "code",
   "execution_count": 19,
   "metadata": {},
   "outputs": [],
   "source": [
    "estate_data['days_exposition'] = estate_data['days_exposition'].fillna(estate_data['days_exposition'].median()).astype('int')"
   ]
  },
  {
   "cell_type": "markdown",
   "metadata": {},
   "source": [
    "### Вывод по предобработке"
   ]
  },
  {
   "cell_type": "markdown",
   "metadata": {},
   "source": [
    "Все необходимые для исследований столбцы заполнены значениями и приведены к типу данных который подразумевается из содержания значений в этих столбцах."
   ]
  },
  {
   "cell_type": "markdown",
   "metadata": {},
   "source": [
    "## Расчёты и добавление результатов в таблицу"
   ]
  },
  {
   "cell_type": "markdown",
   "metadata": {},
   "source": [
    "По заданию Заказчика необходимо расчитать и добавить в таблицу:    \n",
    "1) цену квадратного метра;    \n",
    "2) день недели, месяц и год публикации объявления;    \n",
    "3) этаж квартиры; варианты — первый, последний, другой;    \n",
    "4) соотношение жилой и общей площади, а также отношение площади кухни к общей."
   ]
  },
  {
   "cell_type": "markdown",
   "metadata": {},
   "source": [
    "### Расчёт и добавление стоимости квадратного метра"
   ]
  },
  {
   "cell_type": "markdown",
   "metadata": {},
   "source": [
    "Стоимость квадратного метра это отношение общей стоимости квартиры к её полной площади"
   ]
  },
  {
   "cell_type": "code",
   "execution_count": 20,
   "metadata": {},
   "outputs": [
    {
     "data": {
      "text/html": [
       "<div>\n",
       "<style scoped>\n",
       "    .dataframe tbody tr th:only-of-type {\n",
       "        vertical-align: middle;\n",
       "    }\n",
       "\n",
       "    .dataframe tbody tr th {\n",
       "        vertical-align: top;\n",
       "    }\n",
       "\n",
       "    .dataframe thead th {\n",
       "        text-align: right;\n",
       "    }\n",
       "</style>\n",
       "<table border=\"1\" class=\"dataframe\">\n",
       "  <thead>\n",
       "    <tr style=\"text-align: right;\">\n",
       "      <th></th>\n",
       "      <th>total_area</th>\n",
       "      <th>last_price</th>\n",
       "      <th>price_meter</th>\n",
       "    </tr>\n",
       "  </thead>\n",
       "  <tbody>\n",
       "    <tr>\n",
       "      <th>0</th>\n",
       "      <td>108.00</td>\n",
       "      <td>13000000</td>\n",
       "      <td>120370</td>\n",
       "    </tr>\n",
       "    <tr>\n",
       "      <th>1</th>\n",
       "      <td>40.40</td>\n",
       "      <td>3350000</td>\n",
       "      <td>82920</td>\n",
       "    </tr>\n",
       "    <tr>\n",
       "      <th>2</th>\n",
       "      <td>56.00</td>\n",
       "      <td>5196000</td>\n",
       "      <td>92785</td>\n",
       "    </tr>\n",
       "    <tr>\n",
       "      <th>3</th>\n",
       "      <td>159.00</td>\n",
       "      <td>64900000</td>\n",
       "      <td>408176</td>\n",
       "    </tr>\n",
       "    <tr>\n",
       "      <th>4</th>\n",
       "      <td>100.00</td>\n",
       "      <td>10000000</td>\n",
       "      <td>100000</td>\n",
       "    </tr>\n",
       "    <tr>\n",
       "      <th>...</th>\n",
       "      <td>...</td>\n",
       "      <td>...</td>\n",
       "      <td>...</td>\n",
       "    </tr>\n",
       "    <tr>\n",
       "      <th>23694</th>\n",
       "      <td>133.81</td>\n",
       "      <td>9700000</td>\n",
       "      <td>72490</td>\n",
       "    </tr>\n",
       "    <tr>\n",
       "      <th>23695</th>\n",
       "      <td>59.00</td>\n",
       "      <td>3100000</td>\n",
       "      <td>52542</td>\n",
       "    </tr>\n",
       "    <tr>\n",
       "      <th>23696</th>\n",
       "      <td>56.70</td>\n",
       "      <td>2500000</td>\n",
       "      <td>44091</td>\n",
       "    </tr>\n",
       "    <tr>\n",
       "      <th>23697</th>\n",
       "      <td>76.75</td>\n",
       "      <td>11475000</td>\n",
       "      <td>149511</td>\n",
       "    </tr>\n",
       "    <tr>\n",
       "      <th>23698</th>\n",
       "      <td>32.30</td>\n",
       "      <td>1350000</td>\n",
       "      <td>41795</td>\n",
       "    </tr>\n",
       "  </tbody>\n",
       "</table>\n",
       "<p>23699 rows × 3 columns</p>\n",
       "</div>"
      ],
      "text/plain": [
       "       total_area  last_price  price_meter\n",
       "0          108.00    13000000       120370\n",
       "1           40.40     3350000        82920\n",
       "2           56.00     5196000        92785\n",
       "3          159.00    64900000       408176\n",
       "4          100.00    10000000       100000\n",
       "...           ...         ...          ...\n",
       "23694      133.81     9700000        72490\n",
       "23695       59.00     3100000        52542\n",
       "23696       56.70     2500000        44091\n",
       "23697       76.75    11475000       149511\n",
       "23698       32.30     1350000        41795\n",
       "\n",
       "[23699 rows x 3 columns]"
      ]
     },
     "execution_count": 20,
     "metadata": {},
     "output_type": "execute_result"
    }
   ],
   "source": [
    "#Создаём новый столбец с уеной за квадратный метр и приводим его к типуданных int\n",
    "estate_data['price_meter'] = (estate_data['last_price'] / estate_data['total_area']).astype('int')\n",
    "#Выводим срез данных что бы проверить как получилось\n",
    "estate_data[['total_area', 'last_price','price_meter']]"
   ]
  },
  {
   "cell_type": "markdown",
   "metadata": {},
   "source": [
    "### Добавление дня недели, месяца и года публикации объявления"
   ]
  },
  {
   "cell_type": "code",
   "execution_count": 21,
   "metadata": {},
   "outputs": [
    {
     "data": {
      "text/html": [
       "<div>\n",
       "<style scoped>\n",
       "    .dataframe tbody tr th:only-of-type {\n",
       "        vertical-align: middle;\n",
       "    }\n",
       "\n",
       "    .dataframe tbody tr th {\n",
       "        vertical-align: top;\n",
       "    }\n",
       "\n",
       "    .dataframe thead th {\n",
       "        text-align: right;\n",
       "    }\n",
       "</style>\n",
       "<table border=\"1\" class=\"dataframe\">\n",
       "  <thead>\n",
       "    <tr style=\"text-align: right;\">\n",
       "      <th></th>\n",
       "      <th>first_day_exposition</th>\n",
       "      <th>day_of_week</th>\n",
       "      <th>number_of_month</th>\n",
       "      <th>number_of_year</th>\n",
       "    </tr>\n",
       "  </thead>\n",
       "  <tbody>\n",
       "    <tr>\n",
       "      <th>0</th>\n",
       "      <td>2019-03-07</td>\n",
       "      <td>3</td>\n",
       "      <td>3</td>\n",
       "      <td>2019</td>\n",
       "    </tr>\n",
       "    <tr>\n",
       "      <th>1</th>\n",
       "      <td>2018-12-04</td>\n",
       "      <td>1</td>\n",
       "      <td>12</td>\n",
       "      <td>2018</td>\n",
       "    </tr>\n",
       "    <tr>\n",
       "      <th>2</th>\n",
       "      <td>2015-08-20</td>\n",
       "      <td>3</td>\n",
       "      <td>8</td>\n",
       "      <td>2015</td>\n",
       "    </tr>\n",
       "    <tr>\n",
       "      <th>3</th>\n",
       "      <td>2015-07-24</td>\n",
       "      <td>4</td>\n",
       "      <td>7</td>\n",
       "      <td>2015</td>\n",
       "    </tr>\n",
       "    <tr>\n",
       "      <th>4</th>\n",
       "      <td>2018-06-19</td>\n",
       "      <td>1</td>\n",
       "      <td>6</td>\n",
       "      <td>2018</td>\n",
       "    </tr>\n",
       "    <tr>\n",
       "      <th>...</th>\n",
       "      <td>...</td>\n",
       "      <td>...</td>\n",
       "      <td>...</td>\n",
       "      <td>...</td>\n",
       "    </tr>\n",
       "    <tr>\n",
       "      <th>23694</th>\n",
       "      <td>2017-03-21</td>\n",
       "      <td>1</td>\n",
       "      <td>3</td>\n",
       "      <td>2017</td>\n",
       "    </tr>\n",
       "    <tr>\n",
       "      <th>23695</th>\n",
       "      <td>2018-01-15</td>\n",
       "      <td>0</td>\n",
       "      <td>1</td>\n",
       "      <td>2018</td>\n",
       "    </tr>\n",
       "    <tr>\n",
       "      <th>23696</th>\n",
       "      <td>2018-02-11</td>\n",
       "      <td>6</td>\n",
       "      <td>2</td>\n",
       "      <td>2018</td>\n",
       "    </tr>\n",
       "    <tr>\n",
       "      <th>23697</th>\n",
       "      <td>2017-03-28</td>\n",
       "      <td>1</td>\n",
       "      <td>3</td>\n",
       "      <td>2017</td>\n",
       "    </tr>\n",
       "    <tr>\n",
       "      <th>23698</th>\n",
       "      <td>2017-07-21</td>\n",
       "      <td>4</td>\n",
       "      <td>7</td>\n",
       "      <td>2017</td>\n",
       "    </tr>\n",
       "  </tbody>\n",
       "</table>\n",
       "<p>23699 rows × 4 columns</p>\n",
       "</div>"
      ],
      "text/plain": [
       "      first_day_exposition  day_of_week  number_of_month  number_of_year\n",
       "0               2019-03-07            3                3            2019\n",
       "1               2018-12-04            1               12            2018\n",
       "2               2015-08-20            3                8            2015\n",
       "3               2015-07-24            4                7            2015\n",
       "4               2018-06-19            1                6            2018\n",
       "...                    ...          ...              ...             ...\n",
       "23694           2017-03-21            1                3            2017\n",
       "23695           2018-01-15            0                1            2018\n",
       "23696           2018-02-11            6                2            2018\n",
       "23697           2017-03-28            1                3            2017\n",
       "23698           2017-07-21            4                7            2017\n",
       "\n",
       "[23699 rows x 4 columns]"
      ]
     },
     "execution_count": 21,
     "metadata": {},
     "output_type": "execute_result"
    }
   ],
   "source": [
    "#Добавляю столбец с днём недели\n",
    "estate_data['day_of_week'] = estate_data['first_day_exposition'].dt.weekday\n",
    "#Добавляю столбец с месяцем\n",
    "estate_data['number_of_month'] = estate_data['first_day_exposition'].dt.month\n",
    "#Добавляю столбец с днём недели\n",
    "estate_data['number_of_year'] = estate_data['first_day_exposition'].dt.year\n",
    "#Проверяем\n",
    "estate_data[['first_day_exposition','day_of_week','number_of_month','number_of_year']]"
   ]
  },
  {
   "cell_type": "markdown",
   "metadata": {},
   "source": [
    "### Добавление этажа квартиры - первый, последний, другой"
   ]
  },
  {
   "cell_type": "markdown",
   "metadata": {},
   "source": [
    "Для отнесения этажа квартиры к какой либо группе, напишем функцию, которая будет сравнивать этаж квартиры с количеством этажей в доме и возвращать значение группы."
   ]
  },
  {
   "cell_type": "code",
   "execution_count": 22,
   "metadata": {},
   "outputs": [
    {
     "data": {
      "text/html": [
       "<div>\n",
       "<style scoped>\n",
       "    .dataframe tbody tr th:only-of-type {\n",
       "        vertical-align: middle;\n",
       "    }\n",
       "\n",
       "    .dataframe tbody tr th {\n",
       "        vertical-align: top;\n",
       "    }\n",
       "\n",
       "    .dataframe thead th {\n",
       "        text-align: right;\n",
       "    }\n",
       "</style>\n",
       "<table border=\"1\" class=\"dataframe\">\n",
       "  <thead>\n",
       "    <tr style=\"text-align: right;\">\n",
       "      <th></th>\n",
       "      <th>floor</th>\n",
       "      <th>floors_total</th>\n",
       "      <th>group_floor</th>\n",
       "    </tr>\n",
       "  </thead>\n",
       "  <tbody>\n",
       "    <tr>\n",
       "      <th>30</th>\n",
       "      <td>2</td>\n",
       "      <td>9</td>\n",
       "      <td>другой</td>\n",
       "    </tr>\n",
       "    <tr>\n",
       "      <th>31</th>\n",
       "      <td>4</td>\n",
       "      <td>16</td>\n",
       "      <td>другой</td>\n",
       "    </tr>\n",
       "    <tr>\n",
       "      <th>32</th>\n",
       "      <td>4</td>\n",
       "      <td>5</td>\n",
       "      <td>другой</td>\n",
       "    </tr>\n",
       "    <tr>\n",
       "      <th>33</th>\n",
       "      <td>5</td>\n",
       "      <td>9</td>\n",
       "      <td>другой</td>\n",
       "    </tr>\n",
       "    <tr>\n",
       "      <th>34</th>\n",
       "      <td>3</td>\n",
       "      <td>16</td>\n",
       "      <td>другой</td>\n",
       "    </tr>\n",
       "    <tr>\n",
       "      <th>35</th>\n",
       "      <td>4</td>\n",
       "      <td>5</td>\n",
       "      <td>другой</td>\n",
       "    </tr>\n",
       "    <tr>\n",
       "      <th>36</th>\n",
       "      <td>9</td>\n",
       "      <td>9</td>\n",
       "      <td>последний</td>\n",
       "    </tr>\n",
       "    <tr>\n",
       "      <th>37</th>\n",
       "      <td>1</td>\n",
       "      <td>5</td>\n",
       "      <td>первый</td>\n",
       "    </tr>\n",
       "    <tr>\n",
       "      <th>38</th>\n",
       "      <td>9</td>\n",
       "      <td>18</td>\n",
       "      <td>другой</td>\n",
       "    </tr>\n",
       "    <tr>\n",
       "      <th>39</th>\n",
       "      <td>2</td>\n",
       "      <td>9</td>\n",
       "      <td>другой</td>\n",
       "    </tr>\n",
       "  </tbody>\n",
       "</table>\n",
       "</div>"
      ],
      "text/plain": [
       "    floor  floors_total group_floor\n",
       "30      2             9      другой\n",
       "31      4            16      другой\n",
       "32      4             5      другой\n",
       "33      5             9      другой\n",
       "34      3            16      другой\n",
       "35      4             5      другой\n",
       "36      9             9   последний\n",
       "37      1             5      первый\n",
       "38      9            18      другой\n",
       "39      2             9      другой"
      ]
     },
     "execution_count": 22,
     "metadata": {},
     "output_type": "execute_result"
    }
   ],
   "source": [
    "#функция группировки этажей\n",
    "def group_floor(row):\n",
    "    if row['floor'] == 1:\n",
    "        return 'первый'\n",
    "    if row['floor'] == row['floors_total']:\n",
    "        return 'последний'\n",
    "    else:\n",
    "        return 'другой'\n",
    "#проверим работу функции на срезе из датафрейма\n",
    "data = estate_data[30:40].copy()\n",
    "data['group_floor'] = data.apply(group_floor, axis=1)\n",
    "data[['floor', 'floors_total', 'group_floor']]"
   ]
  },
  {
   "cell_type": "markdown",
   "metadata": {},
   "source": [
    "Функция работает корректно, применим её к нашему датафрейму"
   ]
  },
  {
   "cell_type": "code",
   "execution_count": 23,
   "metadata": {},
   "outputs": [],
   "source": [
    "#Добавим новый столбец, значения для которого заполнить функция group_floor\n",
    "estate_data['group_floor'] = estate_data.apply(group_floor, axis=1)"
   ]
  },
  {
   "cell_type": "markdown",
   "metadata": {},
   "source": [
    "### Добавление соотношение жилой и общей площади, а также отношение площади кухни к общей"
   ]
  },
  {
   "cell_type": "code",
   "execution_count": 24,
   "metadata": {},
   "outputs": [
    {
     "data": {
      "text/html": [
       "<div>\n",
       "<style scoped>\n",
       "    .dataframe tbody tr th:only-of-type {\n",
       "        vertical-align: middle;\n",
       "    }\n",
       "\n",
       "    .dataframe tbody tr th {\n",
       "        vertical-align: top;\n",
       "    }\n",
       "\n",
       "    .dataframe thead th {\n",
       "        text-align: right;\n",
       "    }\n",
       "</style>\n",
       "<table border=\"1\" class=\"dataframe\">\n",
       "  <thead>\n",
       "    <tr style=\"text-align: right;\">\n",
       "      <th></th>\n",
       "      <th>living_area</th>\n",
       "      <th>kitchen_area</th>\n",
       "      <th>total_area</th>\n",
       "      <th>living_total_part</th>\n",
       "      <th>kitchen_total_part</th>\n",
       "    </tr>\n",
       "  </thead>\n",
       "  <tbody>\n",
       "    <tr>\n",
       "      <th>0</th>\n",
       "      <td>51</td>\n",
       "      <td>25</td>\n",
       "      <td>108.00</td>\n",
       "      <td>0.47</td>\n",
       "      <td>0.23</td>\n",
       "    </tr>\n",
       "    <tr>\n",
       "      <th>1</th>\n",
       "      <td>18</td>\n",
       "      <td>11</td>\n",
       "      <td>40.40</td>\n",
       "      <td>0.45</td>\n",
       "      <td>0.27</td>\n",
       "    </tr>\n",
       "    <tr>\n",
       "      <th>2</th>\n",
       "      <td>34</td>\n",
       "      <td>8</td>\n",
       "      <td>56.00</td>\n",
       "      <td>0.61</td>\n",
       "      <td>0.14</td>\n",
       "    </tr>\n",
       "    <tr>\n",
       "      <th>3</th>\n",
       "      <td>90</td>\n",
       "      <td>27</td>\n",
       "      <td>159.00</td>\n",
       "      <td>0.57</td>\n",
       "      <td>0.17</td>\n",
       "    </tr>\n",
       "    <tr>\n",
       "      <th>4</th>\n",
       "      <td>32</td>\n",
       "      <td>41</td>\n",
       "      <td>100.00</td>\n",
       "      <td>0.32</td>\n",
       "      <td>0.41</td>\n",
       "    </tr>\n",
       "    <tr>\n",
       "      <th>...</th>\n",
       "      <td>...</td>\n",
       "      <td>...</td>\n",
       "      <td>...</td>\n",
       "      <td>...</td>\n",
       "      <td>...</td>\n",
       "    </tr>\n",
       "    <tr>\n",
       "      <th>23694</th>\n",
       "      <td>73</td>\n",
       "      <td>13</td>\n",
       "      <td>133.81</td>\n",
       "      <td>0.55</td>\n",
       "      <td>0.10</td>\n",
       "    </tr>\n",
       "    <tr>\n",
       "      <th>23695</th>\n",
       "      <td>38</td>\n",
       "      <td>8</td>\n",
       "      <td>59.00</td>\n",
       "      <td>0.64</td>\n",
       "      <td>0.14</td>\n",
       "    </tr>\n",
       "    <tr>\n",
       "      <th>23696</th>\n",
       "      <td>29</td>\n",
       "      <td>9</td>\n",
       "      <td>56.70</td>\n",
       "      <td>0.51</td>\n",
       "      <td>0.16</td>\n",
       "    </tr>\n",
       "    <tr>\n",
       "      <th>23697</th>\n",
       "      <td>43</td>\n",
       "      <td>23</td>\n",
       "      <td>76.75</td>\n",
       "      <td>0.56</td>\n",
       "      <td>0.30</td>\n",
       "    </tr>\n",
       "    <tr>\n",
       "      <th>23698</th>\n",
       "      <td>12</td>\n",
       "      <td>9</td>\n",
       "      <td>32.30</td>\n",
       "      <td>0.37</td>\n",
       "      <td>0.28</td>\n",
       "    </tr>\n",
       "  </tbody>\n",
       "</table>\n",
       "<p>23699 rows × 5 columns</p>\n",
       "</div>"
      ],
      "text/plain": [
       "       living_area  kitchen_area  total_area  living_total_part  \\\n",
       "0               51            25      108.00               0.47   \n",
       "1               18            11       40.40               0.45   \n",
       "2               34             8       56.00               0.61   \n",
       "3               90            27      159.00               0.57   \n",
       "4               32            41      100.00               0.32   \n",
       "...            ...           ...         ...                ...   \n",
       "23694           73            13      133.81               0.55   \n",
       "23695           38             8       59.00               0.64   \n",
       "23696           29             9       56.70               0.51   \n",
       "23697           43            23       76.75               0.56   \n",
       "23698           12             9       32.30               0.37   \n",
       "\n",
       "       kitchen_total_part  \n",
       "0                    0.23  \n",
       "1                    0.27  \n",
       "2                    0.14  \n",
       "3                    0.17  \n",
       "4                    0.41  \n",
       "...                   ...  \n",
       "23694                0.10  \n",
       "23695                0.14  \n",
       "23696                0.16  \n",
       "23697                0.30  \n",
       "23698                0.28  \n",
       "\n",
       "[23699 rows x 5 columns]"
      ]
     },
     "execution_count": 24,
     "metadata": {},
     "output_type": "execute_result"
    }
   ],
   "source": [
    "#Добавление столбца living_total_part, доля жилой площади\n",
    "estate_data['living_total_part'] = round((estate_data['living_area']/estate_data['total_area']), 2)\n",
    "#Добавление столбца kitchen_total_part, доля площади кухни\n",
    "estate_data['kitchen_total_part'] = round((estate_data['kitchen_area']/estate_data['total_area']), 2)\n",
    "#Проверка\n",
    "estate_data[['living_area','kitchen_area','total_area','living_total_part','kitchen_total_part']]"
   ]
  },
  {
   "cell_type": "markdown",
   "metadata": {},
   "source": [
    "## Исследовательский анализ данных"
   ]
  },
  {
   "cell_type": "markdown",
   "metadata": {},
   "source": [
    "### Изучение параметров: площадь,цена, число комнат, высота потолков"
   ]
  },
  {
   "cell_type": "markdown",
   "metadata": {},
   "source": [
    "Изучим распределние величин для параметров: площадь,цена, число комнат, высота потолков"
   ]
  },
  {
   "cell_type": "code",
   "execution_count": 25,
   "metadata": {
    "scrolled": false
   },
   "outputs": [
    {
     "data": {
      "text/plain": [
       "count    23699.000000\n",
       "mean        60.348651\n",
       "std         35.654083\n",
       "min         12.000000\n",
       "25%         40.000000\n",
       "50%         52.000000\n",
       "75%         69.900000\n",
       "max        900.000000\n",
       "Name: total_area, dtype: float64"
      ]
     },
     "execution_count": 25,
     "metadata": {},
     "output_type": "execute_result"
    }
   ],
   "source": [
    "#Площадь\n",
    "estate_data['total_area'].describe()"
   ]
  },
  {
   "cell_type": "code",
   "execution_count": 26,
   "metadata": {},
   "outputs": [
    {
     "name": "stdout",
     "output_type": "stream",
     "text": [
      "Распределение площади квартир\n"
     ]
    },
    {
     "data": {
      "image/png": "[encoded data removed]",
      "text/plain": [
       "<Figure size 504x360 with 1 Axes>"
      ]
     },
     "metadata": {
      "needs_background": "light"
     },
     "output_type": "display_data"
    }
   ],
   "source": [
    "print('Распределение площади квартир')\n",
    "estate_data.plot(y = 'total_area', bins = 100, grid = True, kind = 'hist', figsize = (7,5));"
   ]
  },
  {
   "cell_type": "markdown",
   "metadata": {},
   "source": [
    "<div class=\"alert alert-info\"> <b>Комментарий студента v1: </b> Код ниже исправил в соответствии с твоим замечанием</div>"
   ]
  },
  {
   "cell_type": "markdown",
   "metadata": {},
   "source": [
    "<div class=\"alert alert-success\">\n",
    "<b>Комментарий ревьюера v 2.0 ✔️:</b> Хорошо"
   ]
  },
  {
   "cell_type": "markdown",
   "metadata": {},
   "source": [
    "Квартиры с площадью больше 175 можно убрать, так как считаю их за выбросы. Квартиры с площадью 12 метров оставлю, к сожалению такие бывают."
   ]
  },
  {
   "cell_type": "code",
   "execution_count": 27,
   "metadata": {},
   "outputs": [
    {
     "data": {
      "text/plain": [
       "count    23357.000000\n",
       "mean        57.549131\n",
       "std         25.019586\n",
       "min         12.000000\n",
       "25%         40.000000\n",
       "50%         51.500000\n",
       "75%         68.200000\n",
       "max        174.500000\n",
       "Name: total_area, dtype: float64"
      ]
     },
     "execution_count": 27,
     "metadata": {},
     "output_type": "execute_result"
    },
    {
     "data": {
      "image/png": "[encoded data removed]",
      "text/plain": [
       "<Figure size 504x360 with 1 Axes>"
      ]
     },
     "metadata": {
      "needs_background": "light"
     },
     "output_type": "display_data"
    }
   ],
   "source": [
    "#Новый код\n",
    "estate_data = estate_data[estate_data['total_area'] < 175]\n",
    "estate_data.plot(y = 'total_area', bins = 100, grid = True, kind = 'hist', figsize = (7,5))\n",
    "estate_data['total_area'].describe()"
   ]
  },
  {
   "cell_type": "code",
   "execution_count": 28,
   "metadata": {},
   "outputs": [
    {
     "name": "stdout",
     "output_type": "stream",
     "text": [
      "Распределение цены квартир\n"
     ]
    },
    {
     "data": {
      "text/plain": [
       "count    2.335700e+04\n",
       "mean     5.892565e+06\n",
       "std      5.195150e+06\n",
       "min      1.219000e+04\n",
       "25%      3.400000e+06\n",
       "50%      4.600000e+06\n",
       "75%      6.630000e+06\n",
       "max      1.350000e+08\n",
       "Name: last_price, dtype: float64"
      ]
     },
     "execution_count": 28,
     "metadata": {},
     "output_type": "execute_result"
    }
   ],
   "source": [
    "#Цена\n",
    "print('Распределение цены квартир')\n",
    "estate_data['last_price'].describe()"
   ]
  },
  {
   "cell_type": "markdown",
   "metadata": {},
   "source": [
    "Слишком большая разница между std и mean, большая разница, в несколько порядков между 75% и max. Имеет место выбросы в виде слишком дорогих квартир, посчитаем их количество и при возможности удалим."
   ]
  },
  {
   "cell_type": "code",
   "execution_count": 29,
   "metadata": {},
   "outputs": [
    {
     "data": {
      "text/plain": [
       "897"
      ]
     },
     "execution_count": 29,
     "metadata": {},
     "output_type": "execute_result"
    }
   ],
   "source": [
    "estate_data.loc[estate_data['last_price']>1.5e+07, 'last_price'].count()"
   ]
  },
  {
   "cell_type": "markdown",
   "metadata": {},
   "source": [
    "Достаточно мало, можем удалить и посмотреть на наше распределение цены"
   ]
  },
  {
   "cell_type": "code",
   "execution_count": 30,
   "metadata": {},
   "outputs": [
    {
     "data": {
      "text/plain": [
       "count    2.242200e+04\n",
       "mean     5.132910e+06\n",
       "std      2.670403e+06\n",
       "min      1.219000e+04\n",
       "25%      3.350000e+06\n",
       "50%      4.500000e+06\n",
       "75%      6.297160e+06\n",
       "max      1.500000e+07\n",
       "Name: last_price, dtype: float64"
      ]
     },
     "execution_count": 30,
     "metadata": {},
     "output_type": "execute_result"
    }
   ],
   "source": [
    "estate_data = estate_data[estate_data['last_price']<1.5e+07]\n",
    "estate_data['last_price'].describe()"
   ]
  },
  {
   "cell_type": "code",
   "execution_count": 31,
   "metadata": {},
   "outputs": [
    {
     "data": {
      "image/png": "[encoded data removed]",
      "text/plain": [
       "<Figure size 504x360 with 1 Axes>"
      ]
     },
     "metadata": {
      "needs_background": "light"
     },
     "output_type": "display_data"
    }
   ],
   "source": [
    "estate_data.plot(y = 'last_price', bins = 30, grid = True, kind = 'hist', figsize = (7,5));"
   ]
  },
  {
   "cell_type": "markdown",
   "metadata": {},
   "source": [
    "Так на много лучше."
   ]
  },
  {
   "cell_type": "code",
   "execution_count": 32,
   "metadata": {},
   "outputs": [
    {
     "name": "stdout",
     "output_type": "stream",
     "text": [
      "Распределение по количеству комнат\n"
     ]
    },
    {
     "data": {
      "text/plain": [
       "count    22422.000000\n",
       "mean         1.971724\n",
       "std          0.940590\n",
       "min          0.000000\n",
       "25%          1.000000\n",
       "50%          2.000000\n",
       "75%          3.000000\n",
       "max          7.000000\n",
       "Name: rooms, dtype: float64"
      ]
     },
     "execution_count": 32,
     "metadata": {},
     "output_type": "execute_result"
    }
   ],
   "source": [
    "#Число комнат\n",
    "print('Распределение по количеству комнат')\n",
    "estate_data['rooms'].describe()"
   ]
  },
  {
   "cell_type": "code",
   "execution_count": 33,
   "metadata": {},
   "outputs": [
    {
     "data": {
      "image/png": "[encoded data removed]",
      "text/plain": [
       "<Figure size 504x360 with 1 Axes>"
      ]
     },
     "metadata": {
      "needs_background": "light"
     },
     "output_type": "display_data"
    }
   ],
   "source": [
    "estate_data.plot(y = 'rooms', bins = 7, grid = True, kind = 'hist', figsize = (7,5));"
   ]
  },
  {
   "cell_type": "code",
   "execution_count": 34,
   "metadata": {},
   "outputs": [
    {
     "name": "stdout",
     "output_type": "stream",
     "text": [
      "Распределение по высоте потолков\n"
     ]
    },
    {
     "data": {
      "text/plain": [
       "count    22422.000000\n",
       "mean         2.717837\n",
       "std          0.796787\n",
       "min          1.000000\n",
       "25%          2.550000\n",
       "50%          2.650000\n",
       "75%          2.750000\n",
       "max         32.000000\n",
       "Name: ceiling_height, dtype: float64"
      ]
     },
     "execution_count": 34,
     "metadata": {},
     "output_type": "execute_result"
    }
   ],
   "source": [
    "#Высота потолков\n",
    "print('Распределение по высоте потолков')\n",
    "estate_data['ceiling_height'].describe()"
   ]
  },
  {
   "cell_type": "code",
   "execution_count": 35,
   "metadata": {},
   "outputs": [
    {
     "data": {
      "image/png": "[encoded data removed]",
      "text/plain": [
       "<Figure size 504x360 with 1 Axes>"
      ]
     },
     "metadata": {
      "needs_background": "light"
     },
     "output_type": "display_data"
    }
   ],
   "source": [
    "estate_data.plot(y = 'ceiling_height', bins = 30, grid = True, kind = 'hist', figsize = (7,5));"
   ]
  },
  {
   "cell_type": "markdown",
   "metadata": {},
   "source": [
    "Имеют место выбросы, найдём их и удалим"
   ]
  },
  {
   "cell_type": "code",
   "execution_count": 36,
   "metadata": {},
   "outputs": [
    {
     "data": {
      "text/plain": [
       "38"
      ]
     },
     "execution_count": 36,
     "metadata": {},
     "output_type": "execute_result"
    }
   ],
   "source": [
    "# Было estate_data.loc[estate_data['ceiling_height']>5, 'ceiling_height'].count()\n",
    "# Стало\n",
    "estate_data.query('ceiling_height < 2 | ceiling_height > 5')['ceiling_height'].count()"
   ]
  },
  {
   "cell_type": "markdown",
   "metadata": {},
   "source": [
    "Достаточно мало, можем удалить и посмотреть на наше распределение высоты потолков"
   ]
  },
  {
   "cell_type": "code",
   "execution_count": 37,
   "metadata": {},
   "outputs": [
    {
     "data": {
      "text/plain": [
       "count    22384.000000\n",
       "mean         2.690368\n",
       "std          0.212974\n",
       "min          2.000000\n",
       "25%          2.550000\n",
       "50%          2.650000\n",
       "75%          2.750000\n",
       "max          5.000000\n",
       "Name: ceiling_height, dtype: float64"
      ]
     },
     "execution_count": 37,
     "metadata": {},
     "output_type": "execute_result"
    },
    {
     "data": {
      "image/png": "[encoded data removed]",
      "text/plain": [
       "<Figure size 504x360 with 1 Axes>"
      ]
     },
     "metadata": {
      "needs_background": "light"
     },
     "output_type": "display_data"
    }
   ],
   "source": [
    "# Было estate_data = estate_data[estate_data['ceiling_height']<=5]\n",
    "# Стало\n",
    "estate_data = estate_data.query('ceiling_height >= 2 & ceiling_height <= 5')\n",
    "estate_data.plot(y = 'ceiling_height', bins = 20, grid = True, kind = 'hist', figsize = (7,5))\n",
    "estate_data['ceiling_height'].describe()"
   ]
  },
  {
   "cell_type": "markdown",
   "metadata": {},
   "source": [
    "#### Вывод"
   ]
  },
  {
   "cell_type": "markdown",
   "metadata": {},
   "source": [
    "Параметры площадь, число комнат, высота потолков рисуют на гистограмме распределение пуассона. Цена квартиры имеет нормальное распределение на гистограмме.    \n",
    "Больше всего квартир:\n",
    "- либо площадью от 30 до 50 квадратных метров    \n",
    "- либо стоимостью от 0,3 до 0,5e+07 \n",
    "- либо с количеством комнат от 1 до 2\n",
    "- либо с высотой потолков то 2,4 до 2,7"
   ]
  },
  {
   "cell_type": "markdown",
   "metadata": {},
   "source": [
    "### Изучение времени продажи квартиры"
   ]
  },
  {
   "cell_type": "markdown",
   "metadata": {},
   "source": [
    "Построим гистограмму. Посчитаем среднее и медиану. Выясним сколько обычно занимает продажа квартиры."
   ]
  },
  {
   "cell_type": "code",
   "execution_count": 38,
   "metadata": {},
   "outputs": [
    {
     "data": {
      "text/plain": [
       "count    22384.00000\n",
       "mean       165.90596\n",
       "std        202.82306\n",
       "min          0.00000\n",
       "25%         45.00000\n",
       "50%         95.00000\n",
       "75%        195.00000\n",
       "max       1580.00000\n",
       "Name: days_exposition, dtype: float64"
      ]
     },
     "execution_count": 38,
     "metadata": {},
     "output_type": "execute_result"
    }
   ],
   "source": [
    "estate_data['days_exposition'].describe()"
   ]
  },
  {
   "cell_type": "code",
   "execution_count": 39,
   "metadata": {},
   "outputs": [
    {
     "data": {
      "image/png": "[encoded data removed]",
      "text/plain": [
       "<Figure size 504x360 with 1 Axes>"
      ]
     },
     "metadata": {
      "needs_background": "light"
     },
     "output_type": "display_data"
    }
   ],
   "source": [
    "estate_data.plot(y = 'days_exposition', bins = 50, kind='hist', grid = True, figsize = (7,5));"
   ]
  },
  {
   "cell_type": "code",
   "execution_count": 40,
   "metadata": {},
   "outputs": [
    {
     "data": {
      "image/png": "[encoded data removed]",
      "text/plain": [
       "<Figure size 432x288 with 1 Axes>"
      ]
     },
     "metadata": {
      "needs_background": "light"
     },
     "output_type": "display_data"
    }
   ],
   "source": [
    "import matplotlib.pyplot as plt\n",
    "plt.boxplot(estate_data['days_exposition']);"
   ]
  },
  {
   "cell_type": "markdown",
   "metadata": {},
   "source": [
    "Распределение данных по времени продажи похоже на распределение Пуассона. Среднее время продажи квартиры составляет 166 дней. Больше всего квартир продаётся в срок до 200 дней."
   ]
  },
  {
   "cell_type": "markdown",
   "metadata": {},
   "source": [
    "### Поиск редких и выбивающихся значений, аномалий."
   ]
  },
  {
   "cell_type": "code",
   "execution_count": 41,
   "metadata": {},
   "outputs": [
    {
     "data": {
      "image/png": "[encoded data removed]",
      "text/plain": [
       "<Figure size 504x360 with 1 Axes>"
      ]
     },
     "metadata": {
      "needs_background": "light"
     },
     "output_type": "display_data"
    }
   ],
   "source": [
    "estate_data.plot(y = 'days_exposition', bins = 100, kind='hist', grid = True, figsize = (7,5),\\\n",
    "                 range = (0,200));"
   ]
  },
  {
   "cell_type": "markdown",
   "metadata": {},
   "source": [
    "В диапозоне наибольшего кол-ва продаж, обнаружили аномалии, которые необходимо идентифицировать в диапозоне от 30 дней до 100."
   ]
  },
  {
   "cell_type": "code",
   "execution_count": 42,
   "metadata": {},
   "outputs": [
    {
     "data": {
      "text/plain": [
       "days_exposition\n",
       "95    2854\n",
       "45     878\n",
       "60     538\n",
       "30     199\n",
       "90     154\n",
       "dtype: int64"
      ]
     },
     "execution_count": 42,
     "metadata": {},
     "output_type": "execute_result"
    }
   ],
   "source": [
    "estate_data.query('30 <= days_exposition <= 100').value_counts(estate_data['days_exposition']).head()"
   ]
  },
  {
   "cell_type": "markdown",
   "metadata": {},
   "source": [
    "Видим, что выбросы сосредоточились при значениях 95,45,60. Обратим вниание, что days_exposition это \"сколько дней было размещено объявление\", что совсем не означает продажу квартиры. В соответствии с заданием уберём эти значения. По условиям размещения объявлений Яндекс Недвижимость, оказалось, что сроки размещения объявлений являются как раз 45, 60, 95 в зависимости от типа недвижимости и условий размещения. Это как раз и объясняет эти аномалии, по прошествии этих дней, у людей снимались объявления автоматически."
   ]
  },
  {
   "cell_type": "code",
   "execution_count": 43,
   "metadata": {},
   "outputs": [
    {
     "data": {
      "image/png": "[encoded data removed]",
      "text/plain": [
       "<Figure size 504x360 with 1 Axes>"
      ]
     },
     "metadata": {
      "needs_background": "light"
     },
     "output_type": "display_data"
    },
    {
     "data": {
      "image/png": "[encoded data removed]",
      "text/plain": [
       "<Figure size 504x360 with 1 Axes>"
      ]
     },
     "metadata": {
      "needs_background": "light"
     },
     "output_type": "display_data"
    }
   ],
   "source": [
    "estate_data = estate_data.query('days_exposition!=95 & days_exposition!=45 & days_exposition!=60')\n",
    "estate_data.plot(y = 'days_exposition', bins = 50, kind='hist', grid = True, figsize = (7,5))\n",
    "estate_data.plot(y = 'days_exposition', bins = 100, kind='hist', grid = True, figsize = (7,5), \\\n",
    "                 range = (0,200));"
   ]
  },
  {
   "cell_type": "code",
   "execution_count": 44,
   "metadata": {},
   "outputs": [
    {
     "data": {
      "text/plain": [
       "count    18114.000000\n",
       "mean       186.083637\n",
       "std        220.440189\n",
       "min          0.000000\n",
       "25%         40.000000\n",
       "50%        106.000000\n",
       "75%        242.000000\n",
       "max       1580.000000\n",
       "Name: days_exposition, dtype: float64"
      ]
     },
     "execution_count": 44,
     "metadata": {},
     "output_type": "execute_result"
    },
    {
     "data": {
      "image/png": "[encoded data removed]",
      "text/plain": [
       "<Figure size 432x288 with 1 Axes>"
      ]
     },
     "metadata": {
      "needs_background": "light"
     },
     "output_type": "display_data"
    }
   ],
   "source": [
    "plt.boxplot(estate_data['days_exposition'])\n",
    "estate_data['days_exposition'].describe()"
   ]
  },
  {
   "cell_type": "markdown",
   "metadata": {},
   "source": [
    " #### Вывод"
   ]
  },
  {
   "cell_type": "markdown",
   "metadata": {},
   "source": [
    "После удаления аномалий медианное значение поднялось с 95 до 106, среднее с 165 до 186. Большинство снятий квартир с объявлений, либо продаж теперь приходится на период с 5 до 242. Распределение времени снятия квартир с объявлений похоже на распределение Пуассона."
   ]
  },
  {
   "cell_type": "markdown",
   "metadata": {},
   "source": [
    "### Влияние факторов на стоимость квартиры"
   ]
  },
  {
   "cell_type": "markdown",
   "metadata": {},
   "source": [
    "Разберёмся какие факторы больше всего влияют на стоимость квартиры: площадь, число комнат, этаж (первый или последний), удалённость от центра, а так же дата размещения объявления. Для этого определим степень корреляции и построим точечные графики."
   ]
  },
  {
   "cell_type": "code",
   "execution_count": 45,
   "metadata": {},
   "outputs": [
    {
     "name": "stdout",
     "output_type": "stream",
     "text": [
      "Корреляция площади и цены:0.7557007008659173\n"
     ]
    },
    {
     "data": {
      "image/png": "[encoded data removed]",
      "text/plain": [
       "<Figure size 504x360 with 1 Axes>"
      ]
     },
     "metadata": {
      "needs_background": "light"
     },
     "output_type": "display_data"
    }
   ],
   "source": [
    "print('Корреляция площади и цены',end=':')\n",
    "print(estate_data['total_area'].corr(estate_data['last_price']))\n",
    "estate_data.plot(y = 'total_area', x = 'last_price', kind = 'scatter', figsize = (7,5), \\\n",
    "                 grid = True, alpha = 0.2);"
   ]
  },
  {
   "cell_type": "code",
   "execution_count": 46,
   "metadata": {},
   "outputs": [
    {
     "name": "stdout",
     "output_type": "stream",
     "text": [
      "Корреляция цены квартиры и числа комнат:0.49820737884764266\n"
     ]
    },
    {
     "data": {
      "image/png": "[encoded data removed]",
      "text/plain": [
       "<Figure size 504x360 with 1 Axes>"
      ]
     },
     "metadata": {
      "needs_background": "light"
     },
     "output_type": "display_data"
    }
   ],
   "source": [
    "print('Корреляция цены квартиры и числа комнат',end=':')\n",
    "print(estate_data['last_price'].corr(estate_data['rooms']))\n",
    "#Объявим новую переменную, которая будет являться сводной таблицей по числу комнат и среднему значению цены квартиры \n",
    "mean_price_room = estate_data.pivot_table(index = 'rooms', values = 'last_price', aggfunc = 'mean')\n",
    "mean_price_room.plot(y = 'last_price', figsize = (7,5), grid = True );"
   ]
  },
  {
   "cell_type": "code",
   "execution_count": 47,
   "metadata": {},
   "outputs": [
    {
     "data": {
      "image/png": "[encoded data removed]",
      "text/plain": [
       "<Figure size 504x360 with 1 Axes>"
      ]
     },
     "metadata": {
      "needs_background": "light"
     },
     "output_type": "display_data"
    }
   ],
   "source": [
    "#Объявим новую переменную, которая будет являться сводной таблицей по этажу и среднему значению цены квартиры \n",
    "mean_price_floor = estate_data[estate_data['group_floor']!='другой'].\\\n",
    "                   pivot_table(index = 'group_floor', values = 'last_price', aggfunc = 'mean')\n",
    "mean_price_floor.plot(y = 'last_price', figsize = (7,5), grid = True );"
   ]
  },
  {
   "cell_type": "code",
   "execution_count": 48,
   "metadata": {},
   "outputs": [
    {
     "name": "stdout",
     "output_type": "stream",
     "text": [
      "Корреляция удалённости от центра и цены квартиры:-0.35069945017209153\n"
     ]
    },
    {
     "data": {
      "image/png": "[encoded data removed]",
      "text/plain": [
       "<Figure size 504x360 with 1 Axes>"
      ]
     },
     "metadata": {
      "needs_background": "light"
     },
     "output_type": "display_data"
    }
   ],
   "source": [
    "print('Корреляция удалённости от центра и цены квартиры',end=':')\n",
    "print(estate_data['city_centers_nearest'].corr(estate_data['last_price']))\n",
    "estate_data.plot(y = 'last_price', x = 'city_centers_nearest', kind = 'scatter', figsize = (7,5),\\\n",
    "                 grid = True, alpha = 0.3);"
   ]
  },
  {
   "cell_type": "code",
   "execution_count": 49,
   "metadata": {},
   "outputs": [
    {
     "name": "stdout",
     "output_type": "stream",
     "text": [
      "Корреляция дня недели объявления и цены квартиры:-0.00891254382444898\n"
     ]
    },
    {
     "data": {
      "image/png": "[encoded data removed]",
      "text/plain": [
       "<Figure size 504x360 with 1 Axes>"
      ]
     },
     "metadata": {
      "needs_background": "light"
     },
     "output_type": "display_data"
    }
   ],
   "source": [
    "print('Корреляция дня недели объявления и цены квартиры',end=':')\n",
    "print(estate_data['last_price'].corr(estate_data['day_of_week']))\n",
    "#Объявим новую переменную, которая будет являться сводной таблицей по дням недели и среднему значению цены квартиры \n",
    "mean_price_day = estate_data.pivot_table(index = 'day_of_week', values = 'last_price', \\\n",
    "                                         aggfunc = 'mean')\n",
    "mean_price_day.plot(y = 'last_price', figsize = (7,5), grid = True );"
   ]
  },
  {
   "cell_type": "code",
   "execution_count": 50,
   "metadata": {},
   "outputs": [
    {
     "name": "stdout",
     "output_type": "stream",
     "text": [
      "Корреляция месяца объявления и цены квартиры:0.004965427148466913\n"
     ]
    },
    {
     "data": {
      "image/png": "[encoded data removed]",
      "text/plain": [
       "<Figure size 504x360 with 1 Axes>"
      ]
     },
     "metadata": {
      "needs_background": "light"
     },
     "output_type": "display_data"
    }
   ],
   "source": [
    "print('Корреляция месяца объявления и цены квартиры',end=':')\n",
    "print(estate_data['last_price'].corr(estate_data['number_of_month']))\n",
    "#Объявим новую переменную, которая будет являться сводной таблицей по месяцам и среднему значению цены квартиры \n",
    "mean_price_month = estate_data.pivot_table(index = 'number_of_month', values = 'last_price', \\\n",
    "                                           aggfunc = 'mean')\n",
    "mean_price_month.plot(y = 'last_price', figsize = (7,5), grid = True );"
   ]
  },
  {
   "cell_type": "code",
   "execution_count": 51,
   "metadata": {},
   "outputs": [
    {
     "name": "stdout",
     "output_type": "stream",
     "text": [
      "Корреляция года объявления и цены квартиры:-0.046609279886906864\n"
     ]
    },
    {
     "data": {
      "image/png": "[encoded data removed]",
      "text/plain": [
       "<Figure size 504x360 with 1 Axes>"
      ]
     },
     "metadata": {
      "needs_background": "light"
     },
     "output_type": "display_data"
    }
   ],
   "source": [
    "print('Корреляция года объявления и цены квартиры',end=':')\n",
    "print(estate_data['last_price'].corr(estate_data['number_of_year']))\n",
    "#Объявим новую переменную, которая будет являться сводной таблицей по годам и среднему значению цены квартиры \n",
    "mean_price_month = estate_data.pivot_table(index = 'number_of_year', values = 'last_price',\\\n",
    "                                           aggfunc = 'mean')\n",
    "mean_price_month.plot(y = 'last_price', figsize = (7,5), grid = True );"
   ]
  },
  {
   "cell_type": "markdown",
   "metadata": {},
   "source": [
    "### Вывод"
   ]
  },
  {
   "cell_type": "markdown",
   "metadata": {},
   "source": [
    "Больше всего на цену квартиры влияет площадь квартиры, чем больше площадь, тем больше цена.\n",
    "Так же цена квартиры хорошо коррелируется с числом комнат, чем больше комнат тем больше цена, скорее потому, что увеличивается площадь.\n",
    "Корреляция цены с расстоянием от центра не велика, но имеется и она обратная - чем ближе к центру, тем дороже квартира.\n",
    "Из исследования выяснилось, что цена квартиры на последнем этаже дороже чем на первом, примерно на 15 %.\n",
    "В начале недели, цена квартиры по объявлениям выше, чем в выходные. Самые дорогие квартиры выкладывают в сентябре, а в июле, цена по объявлениям в среднем ниже. \n",
    "С 2014 года цены на квартиры по объявлениям плавно спускаются, имея минимум в 2018 году."
   ]
  },
  {
   "cell_type": "markdown",
   "metadata": {},
   "source": [
    "## Задания по датафрейму"
   ]
  },
  {
   "cell_type": "markdown",
   "metadata": {},
   "source": [
    "### Задача 1"
   ]
  },
  {
   "cell_type": "markdown",
   "metadata": {},
   "source": [
    "Выберите 10 населённых пунктов с наибольшим числом объявлений. Посчитайте среднюю цену квадратного метра в этих населённых пунктах. Выделите населённые пункты с самой высокой и низкой стоимостью жилья."
   ]
  },
  {
   "cell_type": "code",
   "execution_count": 52,
   "metadata": {},
   "outputs": [
    {
     "name": "stdout",
     "output_type": "stream",
     "text": [
      "Самая высокая стоимость жилья - Санкт-Петербург равна 5940701.9\n"
     ]
    },
    {
     "data": {
      "text/html": [
       "<div>\n",
       "<style scoped>\n",
       "    .dataframe tbody tr th:only-of-type {\n",
       "        vertical-align: middle;\n",
       "    }\n",
       "\n",
       "    .dataframe tbody tr th {\n",
       "        vertical-align: top;\n",
       "    }\n",
       "\n",
       "    .dataframe thead th {\n",
       "        text-align: right;\n",
       "    }\n",
       "</style>\n",
       "<table border=\"1\" class=\"dataframe\">\n",
       "  <thead>\n",
       "    <tr style=\"text-align: right;\">\n",
       "      <th></th>\n",
       "      <th>mean_total_price</th>\n",
       "      <th>count_notice</th>\n",
       "      <th>mean_price_meter</th>\n",
       "    </tr>\n",
       "    <tr>\n",
       "      <th>locality_name</th>\n",
       "      <th></th>\n",
       "      <th></th>\n",
       "      <th></th>\n",
       "    </tr>\n",
       "  </thead>\n",
       "  <tbody>\n",
       "    <tr>\n",
       "      <th>Санкт-Петербург</th>\n",
       "      <td>5.940702e+06</td>\n",
       "      <td>12004.0</td>\n",
       "      <td>106004.904282</td>\n",
       "    </tr>\n",
       "    <tr>\n",
       "      <th>посёлок Мурино</th>\n",
       "      <td>3.667226e+06</td>\n",
       "      <td>477.0</td>\n",
       "      <td>85640.440252</td>\n",
       "    </tr>\n",
       "    <tr>\n",
       "      <th>посёлок Шушары</th>\n",
       "      <td>4.060418e+06</td>\n",
       "      <td>373.0</td>\n",
       "      <td>78095.769437</td>\n",
       "    </tr>\n",
       "    <tr>\n",
       "      <th>Всеволожск</th>\n",
       "      <td>3.605020e+06</td>\n",
       "      <td>308.0</td>\n",
       "      <td>66769.142857</td>\n",
       "    </tr>\n",
       "    <tr>\n",
       "      <th>Пушкин</th>\n",
       "      <td>5.415414e+06</td>\n",
       "      <td>276.0</td>\n",
       "      <td>100309.086957</td>\n",
       "    </tr>\n",
       "    <tr>\n",
       "      <th>Колпино</th>\n",
       "      <td>3.787902e+06</td>\n",
       "      <td>272.0</td>\n",
       "      <td>75141.867647</td>\n",
       "    </tr>\n",
       "    <tr>\n",
       "      <th>деревня Кудрово</th>\n",
       "      <td>4.226996e+06</td>\n",
       "      <td>269.0</td>\n",
       "      <td>92163.386617</td>\n",
       "    </tr>\n",
       "    <tr>\n",
       "      <th>посёлок Парголово</th>\n",
       "      <td>4.386047e+06</td>\n",
       "      <td>264.0</td>\n",
       "      <td>89998.337121</td>\n",
       "    </tr>\n",
       "    <tr>\n",
       "      <th>Гатчина</th>\n",
       "      <td>3.326857e+06</td>\n",
       "      <td>245.0</td>\n",
       "      <td>67596.783673</td>\n",
       "    </tr>\n",
       "    <tr>\n",
       "      <th>Выборг</th>\n",
       "      <td>3.042683e+06</td>\n",
       "      <td>180.0</td>\n",
       "      <td>56887.066667</td>\n",
       "    </tr>\n",
       "  </tbody>\n",
       "</table>\n",
       "</div>"
      ],
      "text/plain": [
       "                   mean_total_price  count_notice  mean_price_meter\n",
       "locality_name                                                      \n",
       "Санкт-Петербург        5.940702e+06       12004.0     106004.904282\n",
       "посёлок Мурино         3.667226e+06         477.0      85640.440252\n",
       "посёлок Шушары         4.060418e+06         373.0      78095.769437\n",
       "Всеволожск             3.605020e+06         308.0      66769.142857\n",
       "Пушкин                 5.415414e+06         276.0     100309.086957\n",
       "Колпино                3.787902e+06         272.0      75141.867647\n",
       "деревня Кудрово        4.226996e+06         269.0      92163.386617\n",
       "посёлок Парголово      4.386047e+06         264.0      89998.337121\n",
       "Гатчина                3.326857e+06         245.0      67596.783673\n",
       "Выборг                 3.042683e+06         180.0      56887.066667"
      ]
     },
     "execution_count": 52,
     "metadata": {},
     "output_type": "execute_result"
    }
   ],
   "source": [
    "#Объявим новую переменную, которая содержит датафрейм с 10 населёнными пунктов с наибольшим числом объявлений\n",
    "top_locality = estate_data.pivot_table(\n",
    "    index = 'locality_name', values = ['last_price', 'price_meter'], \\\n",
    "    aggfunc = {'last_price': 'mean', 'price_meter': ['count', 'mean']})\n",
    "# переименовываем столбцы\n",
    "top_locality.columns = ['mean_total_price', 'count_notice', 'mean_price_meter'] \n",
    "# выделяем 10 паселённых пунктов\n",
    "top_locality = top_locality.sort_values(by='count_notice', ascending = False).head(10)\n",
    "print('Самая высокая стоимость жилья ',end='- ')\n",
    "print(top_locality[top_locality['mean_total_price']==top_locality['mean_total_price']\\\n",
    "                   .max()].index[0], end=' равна ')\n",
    "print(round(top_locality['mean_total_price'].max(),1))\n",
    "top_locality"
   ]
  },
  {
   "cell_type": "markdown",
   "metadata": {},
   "source": [
    "Самая высокая средняя стоимость жилья в Санкт-Петербурге и  равна она 5951080 р. Лидеры по количеству объявлений Санкт-Петербург и посёлки Мурино, Шушары. Все населённый пункты ТОП-10 находятся в относительной близости к Санкт Петербургу в Ленинградской области, список ТОП-10 по количеству объявлениям закрывает Выборг с количеством 180 штук"
   ]
  },
  {
   "cell_type": "markdown",
   "metadata": {},
   "source": [
    "### Задача 2"
   ]
  },
  {
   "cell_type": "markdown",
   "metadata": {},
   "source": [
    "Изучите предложения квартир: для каждой квартиры есть информация о расстоянии до центра. Выделите квартиры в Санкт-Петербурге (locality_name). Ваша задача — выяснить, какая область входит в центр. Создайте столбец с расстоянием до центра в километрах: округлите до целых значений. После этого посчитайте среднюю цену для каждого километра. Постройте график: он должен показывать, как цена зависит от удалённости от центра. Определите границу, где график сильно меняется — это и будет центральная зона"
   ]
  },
  {
   "cell_type": "code",
   "execution_count": 53,
   "metadata": {},
   "outputs": [
    {
     "data": {
      "image/png": "[encoded data removed]",
      "text/plain": [
       "<Figure size 504x360 with 1 Axes>"
      ]
     },
     "metadata": {
      "needs_background": "light"
     },
     "output_type": "display_data"
    }
   ],
   "source": [
    "#Создаём новый столбец в котором будет расстояние до центра в километрах\n",
    "estate_data['centers_nearest_km'] = estate_data['city_centers_nearest']/1000\n",
    "#Заполним пропущенные значения и переведём в тип данных int\n",
    "estate_data['centers_nearest_km'] = estate_data['centers_nearest_km'].fillna(111111).astype('int')\n",
    "#Создадим новый датафрейм с объявлениями Санкт Питербурга\n",
    "estate_piter = estate_data.query('(locality_name == \"Санкт-Петербург\")&(centers_nearest_km!=111111)')\n",
    "estate_piter = estate_piter.pivot_table(index = 'centers_nearest_km', values = 'last_price', \\\n",
    "                                        aggfunc = 'mean')\n",
    "estate_piter.plot(grid = True, figsize = (7,5));"
   ]
  },
  {
   "cell_type": "markdown",
   "metadata": {},
   "source": [
    "Резкое падение цены наблюдается после 4х километров, значит там заканчивается область центра города."
   ]
  },
  {
   "cell_type": "markdown",
   "metadata": {},
   "source": [
    "### Задача 3"
   ]
  },
  {
   "cell_type": "markdown",
   "metadata": {},
   "source": [
    "Выделите сегмент квартир в центре. Проанализируйте эту территорию и изучите следующие параметры: площадь, цена, число комнат, высота потолков. Также выделите факторы, которые влияют на стоимость квартиры (число комнат, этаж, удалённость от центра, дата размещения объявления). Сделайте выводы. Отличаются ли они от общих выводов по всей базе?"
   ]
  },
  {
   "cell_type": "markdown",
   "metadata": {},
   "source": [
    "Для решения этой задачи неоходимо выбрать город, возьмём за основу Санкт-Петербург, так как по нему больше всего объявлений."
   ]
  },
  {
   "cell_type": "code",
   "execution_count": 54,
   "metadata": {},
   "outputs": [],
   "source": [
    "#Переназначим переменную, которая будет содержать все объявления Санкт-Петербурга, в центре\n",
    "#центром будем считать расстояние в 4км\n",
    "estate_piter = estate_data.query('(locality_name == \"Санкт-Петербург\")&(centers_nearest_km <= 4)')"
   ]
  },
  {
   "cell_type": "markdown",
   "metadata": {},
   "source": [
    "Выясним как распределяются данные в нашем новом датафрейме"
   ]
  },
  {
   "cell_type": "code",
   "execution_count": 55,
   "metadata": {},
   "outputs": [
    {
     "data": {
      "text/plain": [
       "count    1299.000000\n",
       "mean       76.103187\n",
       "std        29.140845\n",
       "min        12.000000\n",
       "25%        54.700000\n",
       "50%        72.300000\n",
       "75%        95.000000\n",
       "max       168.600000\n",
       "Name: total_area, dtype: float64"
      ]
     },
     "execution_count": 55,
     "metadata": {},
     "output_type": "execute_result"
    },
    {
     "data": {
      "image/png": "[encoded data removed]",
      "text/plain": [
       "<Figure size 504x360 with 1 Axes>"
      ]
     },
     "metadata": {
      "needs_background": "light"
     },
     "output_type": "display_data"
    }
   ],
   "source": [
    "#Площадь\n",
    "estate_piter.plot(y = 'total_area', grid=True, figsize = (7,5), kind = 'hist', bins = 30)\n",
    "estate_piter['total_area'].describe()"
   ]
  },
  {
   "cell_type": "code",
   "execution_count": 56,
   "metadata": {},
   "outputs": [
    {
     "data": {
      "text/plain": [
       "count    1.299000e+03\n",
       "mean     8.467605e+06\n",
       "std      2.858860e+06\n",
       "min      1.600000e+06\n",
       "25%      6.300000e+06\n",
       "50%      8.100000e+06\n",
       "75%      1.050000e+07\n",
       "max      1.499000e+07\n",
       "Name: last_price, dtype: float64"
      ]
     },
     "execution_count": 56,
     "metadata": {},
     "output_type": "execute_result"
    },
    {
     "data": {
      "image/png": "[encoded data removed]",
      "text/plain": [
       "<Figure size 504x360 with 1 Axes>"
      ]
     },
     "metadata": {
      "needs_background": "light"
     },
     "output_type": "display_data"
    }
   ],
   "source": [
    "#Цена\n",
    "estate_piter.plot(y = 'last_price', grid=True, figsize = (7,5), kind = 'hist', bins = 30)\n",
    "estate_piter['last_price'].describe()"
   ]
  },
  {
   "cell_type": "code",
   "execution_count": 57,
   "metadata": {},
   "outputs": [
    {
     "data": {
      "text/plain": [
       "count    1299.000000\n",
       "mean        2.661278\n",
       "std         1.162115\n",
       "min         0.000000\n",
       "25%         2.000000\n",
       "50%         3.000000\n",
       "75%         3.000000\n",
       "max         7.000000\n",
       "Name: rooms, dtype: float64"
      ]
     },
     "execution_count": 57,
     "metadata": {},
     "output_type": "execute_result"
    },
    {
     "data": {
      "image/png": "[encoded data removed]",
      "text/plain": [
       "<Figure size 504x360 with 1 Axes>"
      ]
     },
     "metadata": {
      "needs_background": "light"
     },
     "output_type": "display_data"
    }
   ],
   "source": [
    "#Число комнат\n",
    "estate_piter.plot(y = 'rooms', grid=True, figsize = (7,5), kind = 'hist', bins = 7)\n",
    "estate_piter['rooms'].describe()"
   ]
  },
  {
   "cell_type": "code",
   "execution_count": 58,
   "metadata": {},
   "outputs": [
    {
     "data": {
      "text/plain": [
       "count    1299.000000\n",
       "mean        3.017821\n",
       "std         0.333815\n",
       "min         2.400000\n",
       "25%         2.750000\n",
       "50%         3.000000\n",
       "75%         3.200000\n",
       "max         4.800000\n",
       "Name: ceiling_height, dtype: float64"
      ]
     },
     "execution_count": 58,
     "metadata": {},
     "output_type": "execute_result"
    },
    {
     "data": {
      "image/png": "[encoded data removed]",
      "text/plain": [
       "<Figure size 504x360 with 1 Axes>"
      ]
     },
     "metadata": {
      "needs_background": "light"
     },
     "output_type": "display_data"
    }
   ],
   "source": [
    "#Высота потолков\n",
    "estate_piter.plot(y = 'ceiling_height', grid=True, figsize = (7,5), kind = 'hist', bins = 10)\n",
    "estate_piter['ceiling_height'].describe()"
   ]
  },
  {
   "cell_type": "markdown",
   "metadata": {},
   "source": [
    "Тип распределения данных в центре Петербурга не отличается от типа распределения тех же данных всего датафрейма. Распределение по количеству комнат явно имеет более явный вид, по отношению к распределению значений из всего датафрейма. А распределение по высоте потолков наоборот, имеет более чёткую структуру при анализе данных из исходного датафрейма. В центре Петербурга расположено больше квартир площадью от 60 до 80 квадратных метров, в то время, как в общей базе большинство квартир с площадью от 30 до 50 квадратных метров. В центре Питера большинство объявлений приходятся на 2х и 3х комнатные квартиры, так же как и в общей базе. Цена большинства квартир в центре варьируется от 6 до 8 миллионов в то время как в общей базе от 3 миллионов до 5ти, что логично, потому что в центре культурной столицы квартиры дороже, чем в области. Что касается потолков, то в центре Петербурга они тоже выше  - 3 метра против 2,50-2,70 из общей базы. Возможно потому, что в центре Петербурга стоят дома старой планировки с высокими потолками."
   ]
  },
  {
   "cell_type": "markdown",
   "metadata": {},
   "source": [
    "Распределения данных являются нормальными, выясним какие параметры влияют на стоимость квартиры (число комнат, этаж, удалённость от центра, дата размещения объявления)"
   ]
  },
  {
   "cell_type": "code",
   "execution_count": 59,
   "metadata": {},
   "outputs": [
    {
     "name": "stdout",
     "output_type": "stream",
     "text": [
      "Корреляция числа комнат и цены:0.4882474571282505\n"
     ]
    },
    {
     "data": {
      "image/png": "[encoded data removed]",
      "text/plain": [
       "<Figure size 504x360 with 1 Axes>"
      ]
     },
     "metadata": {
      "needs_background": "light"
     },
     "output_type": "display_data"
    }
   ],
   "source": [
    "print('Корреляция числа комнат и цены',end=':')\n",
    "print(estate_piter['last_price'].corr(estate_piter['rooms']))\n",
    "estate_piter.pivot_table(\n",
    "    index = 'rooms', values = 'last_price', aggfunc = 'mean').plot(\n",
    "    y = 'last_price', figsize = (7,5), grid = True );"
   ]
  },
  {
   "cell_type": "code",
   "execution_count": 60,
   "metadata": {},
   "outputs": [
    {
     "data": {
      "image/png": "[encoded data removed]",
      "text/plain": [
       "<Figure size 504x360 with 1 Axes>"
      ]
     },
     "metadata": {
      "needs_background": "light"
     },
     "output_type": "display_data"
    }
   ],
   "source": [
    "estate_piter[estate_piter['group_floor']!='другой'].pivot_table(\n",
    "    index = 'group_floor', values = 'last_price', aggfunc = 'mean').plot(\n",
    "    y = 'last_price', figsize = (7,5), grid = True );"
   ]
  },
  {
   "cell_type": "code",
   "execution_count": 61,
   "metadata": {},
   "outputs": [
    {
     "name": "stdout",
     "output_type": "stream",
     "text": [
      "Корреляция удалённости от центра и цены квартиры:-0.0348040824443669\n"
     ]
    },
    {
     "data": {
      "image/png": "[encoded data removed]",
      "text/plain": [
       "<Figure size 504x360 with 1 Axes>"
      ]
     },
     "metadata": {
      "needs_background": "light"
     },
     "output_type": "display_data"
    }
   ],
   "source": [
    "print('Корреляция удалённости от центра и цены квартиры',end=':')\n",
    "print(estate_piter['city_centers_nearest'].corr(estate_piter['last_price']))\n",
    "estate_piter.plot(y = 'last_price', x = 'city_centers_nearest', kind = 'scatter', \\\n",
    "                  figsize = (7,5), grid = True, alpha = 0.6);"
   ]
  },
  {
   "cell_type": "code",
   "execution_count": 62,
   "metadata": {},
   "outputs": [
    {
     "name": "stdout",
     "output_type": "stream",
     "text": [
      "Корреляция дня недели объявления и цены квартиры:-0.018606575306670977\n"
     ]
    },
    {
     "data": {
      "image/png": "[encoded data removed]",
      "text/plain": [
       "<Figure size 504x360 with 1 Axes>"
      ]
     },
     "metadata": {
      "needs_background": "light"
     },
     "output_type": "display_data"
    }
   ],
   "source": [
    "print('Корреляция дня недели объявления и цены квартиры',end=':')\n",
    "print(estate_piter['last_price'].corr(estate_piter['day_of_week']))\n",
    "estate_piter.pivot_table(\n",
    "    index = 'day_of_week', values = 'last_price', aggfunc = 'mean')\\\n",
    ".plot(y = 'last_price', figsize = (7,5), grid = True );"
   ]
  },
  {
   "cell_type": "code",
   "execution_count": 63,
   "metadata": {},
   "outputs": [
    {
     "name": "stdout",
     "output_type": "stream",
     "text": [
      "Корреляция месяца объявления и цены квартиры:-0.04793745497450958\n"
     ]
    },
    {
     "data": {
      "image/png": "[encoded data removed]",
      "text/plain": [
       "<Figure size 504x360 with 1 Axes>"
      ]
     },
     "metadata": {
      "needs_background": "light"
     },
     "output_type": "display_data"
    }
   ],
   "source": [
    "print('Корреляция месяца объявления и цены квартиры',end=':')\n",
    "print(estate_piter['last_price'].corr(estate_piter['number_of_month']))\n",
    "estate_piter.pivot_table(\n",
    "    index = 'number_of_month', values = 'last_price', aggfunc = 'mean')\\\n",
    ".plot(y = 'last_price', figsize = (7,5), grid = True );"
   ]
  },
  {
   "cell_type": "code",
   "execution_count": 64,
   "metadata": {},
   "outputs": [
    {
     "name": "stdout",
     "output_type": "stream",
     "text": [
      "Корреляция года объявления и цены квартиры:-0.0706655929904291\n"
     ]
    },
    {
     "data": {
      "image/png": "[encoded data removed]",
      "text/plain": [
       "<Figure size 504x360 with 1 Axes>"
      ]
     },
     "metadata": {
      "needs_background": "light"
     },
     "output_type": "display_data"
    }
   ],
   "source": [
    "print('Корреляция года объявления и цены квартиры',end=':')\n",
    "print(estate_piter['last_price'].corr(estate_piter['number_of_year']))\n",
    "estate_piter.pivot_table(\n",
    "    index = 'number_of_year', values = 'last_price', aggfunc = 'mean')\\\n",
    ".plot(y = 'last_price', figsize = (7,5), grid = True );"
   ]
  },
  {
   "cell_type": "markdown",
   "metadata": {},
   "source": [
    "#### Вывод"
   ]
  },
  {
   "cell_type": "markdown",
   "metadata": {},
   "source": [
    "Данные по параметрам имеют нормальное распределение. В целом анализ влияния данных даёт такой же результа, как и при анализе данных всего датафрейма, в отличие только влияние дня недели на цену квартиры. В питербурге, квартиры, которые выкладывались в выходные дни имели цену дороже, чем в остальные. Центром считается облаять в радиусе 4км, так как после 4 км, цены на квартиры начинают значительно быстрее падать, что показывает удалённость от центра. Корреляция удалённости от центра и цены квартиры очень  мала, потому что мы взяли квартиры в центре."
   ]
  },
  {
   "cell_type": "markdown",
   "metadata": {},
   "source": [
    "## Общий вывод"
   ]
  },
  {
   "cell_type": "markdown",
   "metadata": {},
   "source": [
    "Мы обработали полученный архив данных - обработали пропущенные значения там, где это необходимо, заменили типы данных на необходимые для удобной работы. Посчитали и добавили в таблицу цену квадратного метра жилья, вывели из даты дни недели, месяцы и года размещения объявлений, добавили категории по этажам квартир. Изучили следующие параметры на наличие выбивающихся значений - площадь, цена, число комнат, высота потолков. Были определены аномалии в данных параметрах.Мы выявили при помощи диаграммы размаха, что нормальные значения продажи квартир варьируются от 1 до 600 дней.    \n",
    "Больше всего на стоимость квартиры влияют площадь квартиры и число комнат. Цена квартиры из выборки дешевеет с 2014 по 2018 год, с 2019 года начинается незначительный рост. Цена квартиры по объявлению выкладываемые в выходные дни меньше."
   ]
  }
 ],
 "metadata": {
  "ExecuteTimeLog": [
   {
    "duration": 483,
    "start_time": "2022-05-08T21:38:06.187Z"
   },
   {
    "duration": 82,
    "start_time": "2022-05-08T21:38:22.625Z"
   },
   {
    "duration": 82,
    "start_time": "2022-05-08T21:40:59.382Z"
   },
   {
    "duration": 83,
    "start_time": "2022-05-08T21:41:07.037Z"
   },
   {
    "duration": 164,
    "start_time": "2022-05-08T21:46:49.799Z"
   },
   {
    "duration": 163,
    "start_time": "2022-05-08T21:47:32.146Z"
   },
   {
    "duration": 166,
    "start_time": "2022-05-08T21:48:08.203Z"
   },
   {
    "duration": 172,
    "start_time": "2022-05-08T21:48:14.969Z"
   },
   {
    "duration": 80,
    "start_time": "2022-05-08T21:48:29.135Z"
   },
   {
    "duration": 92,
    "start_time": "2022-05-08T21:49:47.312Z"
   },
   {
    "duration": 82,
    "start_time": "2022-05-08T21:49:59.883Z"
   },
   {
    "duration": 508,
    "start_time": "2022-05-08T21:50:10.320Z"
   },
   {
    "duration": 77,
    "start_time": "2022-05-08T21:50:10.830Z"
   },
   {
    "duration": 48,
    "start_time": "2022-05-09T09:29:53.681Z"
   },
   {
    "duration": 477,
    "start_time": "2022-05-09T09:30:01.292Z"
   },
   {
    "duration": 71,
    "start_time": "2022-05-09T09:30:01.771Z"
   },
   {
    "duration": 73,
    "start_time": "2022-05-09T09:30:36.169Z"
   },
   {
    "duration": 74,
    "start_time": "2022-05-09T09:31:06.063Z"
   },
   {
    "duration": 73,
    "start_time": "2022-05-09T09:31:12.622Z"
   },
   {
    "duration": 512,
    "start_time": "2022-05-09T09:31:34.273Z"
   },
   {
    "duration": 70,
    "start_time": "2022-05-09T09:31:34.787Z"
   },
   {
    "duration": 72,
    "start_time": "2022-05-09T09:31:46.873Z"
   },
   {
    "duration": 133,
    "start_time": "2022-05-09T09:32:02.786Z"
   },
   {
    "duration": 70,
    "start_time": "2022-05-09T09:32:13.618Z"
   },
   {
    "duration": 89,
    "start_time": "2022-05-09T09:35:42.626Z"
   },
   {
    "duration": 132,
    "start_time": "2022-05-09T09:36:26.954Z"
   },
   {
    "duration": 128,
    "start_time": "2022-05-09T09:36:31.387Z"
   },
   {
    "duration": 15,
    "start_time": "2022-05-09T09:37:49.663Z"
   },
   {
    "duration": 5,
    "start_time": "2022-05-09T10:05:36.972Z"
   },
   {
    "duration": 6,
    "start_time": "2022-05-09T10:07:46.801Z"
   },
   {
    "duration": 16,
    "start_time": "2022-05-09T10:09:18.362Z"
   },
   {
    "duration": 62,
    "start_time": "2022-05-09T10:29:00.460Z"
   },
   {
    "duration": 15,
    "start_time": "2022-05-09T10:29:06.306Z"
   },
   {
    "duration": 15,
    "start_time": "2022-05-09T10:29:29.955Z"
   },
   {
    "duration": 1993,
    "start_time": "2022-05-09T10:30:53.565Z"
   },
   {
    "duration": 2106,
    "start_time": "2022-05-09T10:30:55.738Z"
   },
   {
    "duration": 5,
    "start_time": "2022-05-09T10:31:16.313Z"
   },
   {
    "duration": 145,
    "start_time": "2022-05-09T10:35:00.669Z"
   },
   {
    "duration": 1095,
    "start_time": "2022-05-09T10:35:22.291Z"
   },
   {
    "duration": 1082,
    "start_time": "2022-05-09T10:35:49.416Z"
   },
   {
    "duration": 10,
    "start_time": "2022-05-09T10:36:42.663Z"
   },
   {
    "duration": 10,
    "start_time": "2022-05-09T10:37:21.980Z"
   },
   {
    "duration": 10,
    "start_time": "2022-05-09T10:37:32.939Z"
   },
   {
    "duration": 49,
    "start_time": "2022-05-10T08:11:32.242Z"
   },
   {
    "duration": 453,
    "start_time": "2022-05-10T08:11:47.454Z"
   },
   {
    "duration": 99,
    "start_time": "2022-05-10T08:11:47.909Z"
   },
   {
    "duration": 15,
    "start_time": "2022-05-10T08:11:48.010Z"
   },
   {
    "duration": 16,
    "start_time": "2022-05-10T08:11:48.027Z"
   },
   {
    "duration": 4,
    "start_time": "2022-05-10T08:11:48.045Z"
   },
   {
    "duration": 11,
    "start_time": "2022-05-10T08:11:48.050Z"
   },
   {
    "duration": 120,
    "start_time": "2022-05-10T08:11:48.063Z"
   },
   {
    "duration": 15,
    "start_time": "2022-05-10T08:14:20.388Z"
   },
   {
    "duration": 26,
    "start_time": "2022-05-10T08:14:35.228Z"
   },
   {
    "duration": 754,
    "start_time": "2022-05-10T08:15:36.846Z"
   },
   {
    "duration": 584,
    "start_time": "2022-05-10T08:16:23.406Z"
   },
   {
    "duration": 1088,
    "start_time": "2022-05-10T08:16:44.588Z"
   },
   {
    "duration": 27,
    "start_time": "2022-05-10T08:17:03.262Z"
   },
   {
    "duration": 17,
    "start_time": "2022-05-10T08:17:06.190Z"
   },
   {
    "duration": 8,
    "start_time": "2022-05-10T08:28:12.460Z"
   },
   {
    "duration": 10,
    "start_time": "2022-05-10T08:28:17.817Z"
   },
   {
    "duration": 6,
    "start_time": "2022-05-10T08:28:25.707Z"
   },
   {
    "duration": 10,
    "start_time": "2022-05-10T08:28:51.769Z"
   },
   {
    "duration": 6,
    "start_time": "2022-05-10T08:29:19.884Z"
   },
   {
    "duration": 15,
    "start_time": "2022-05-10T08:36:40.428Z"
   },
   {
    "duration": 103,
    "start_time": "2022-05-10T08:43:28.351Z"
   },
   {
    "duration": 4,
    "start_time": "2022-05-10T08:43:59.117Z"
   },
   {
    "duration": 3,
    "start_time": "2022-05-10T08:44:19.711Z"
   },
   {
    "duration": 9,
    "start_time": "2022-05-10T08:44:59.267Z"
   },
   {
    "duration": 12,
    "start_time": "2022-05-10T08:45:36.640Z"
   },
   {
    "duration": 9,
    "start_time": "2022-05-10T08:46:07.131Z"
   },
   {
    "duration": 6,
    "start_time": "2022-05-10T08:48:36.456Z"
   },
   {
    "duration": 6,
    "start_time": "2022-05-10T08:48:38.987Z"
   },
   {
    "duration": 8,
    "start_time": "2022-05-10T08:48:52.077Z"
   },
   {
    "duration": 56,
    "start_time": "2022-05-10T08:49:09.034Z"
   },
   {
    "duration": 10,
    "start_time": "2022-05-10T08:51:10.668Z"
   },
   {
    "duration": 52,
    "start_time": "2022-05-10T08:52:56.080Z"
   },
   {
    "duration": 26,
    "start_time": "2022-05-10T08:53:43.452Z"
   },
   {
    "duration": 642,
    "start_time": "2022-05-10T10:57:07.995Z"
   },
   {
    "duration": 198,
    "start_time": "2022-05-10T10:57:08.641Z"
   },
   {
    "duration": 32,
    "start_time": "2022-05-10T10:57:08.842Z"
   },
   {
    "duration": 59,
    "start_time": "2022-05-10T10:57:08.878Z"
   },
   {
    "duration": 9,
    "start_time": "2022-05-10T10:57:08.940Z"
   },
   {
    "duration": 15,
    "start_time": "2022-05-10T10:57:08.952Z"
   },
   {
    "duration": 71,
    "start_time": "2022-05-10T10:57:08.969Z"
   },
   {
    "duration": 64,
    "start_time": "2022-05-10T10:59:32.054Z"
   },
   {
    "duration": 23,
    "start_time": "2022-05-10T10:59:53.764Z"
   },
   {
    "duration": 210,
    "start_time": "2022-05-10T11:01:47.967Z"
   },
   {
    "duration": 27,
    "start_time": "2022-05-10T11:02:13.464Z"
   },
   {
    "duration": 40,
    "start_time": "2022-05-10T11:03:25.224Z"
   },
   {
    "duration": 25,
    "start_time": "2022-05-10T11:03:34.493Z"
   },
   {
    "duration": 27,
    "start_time": "2022-05-10T11:04:04.076Z"
   },
   {
    "duration": 31,
    "start_time": "2022-05-10T11:04:24.827Z"
   },
   {
    "duration": 40,
    "start_time": "2022-05-10T11:05:51.228Z"
   },
   {
    "duration": 6,
    "start_time": "2022-05-10T11:06:31.570Z"
   },
   {
    "duration": 9,
    "start_time": "2022-05-10T11:06:50.765Z"
   },
   {
    "duration": 33,
    "start_time": "2022-05-10T11:18:21.220Z"
   },
   {
    "duration": 602,
    "start_time": "2022-05-10T11:18:30.061Z"
   },
   {
    "duration": 136,
    "start_time": "2022-05-10T11:18:30.666Z"
   },
   {
    "duration": 33,
    "start_time": "2022-05-10T11:18:30.804Z"
   },
   {
    "duration": 26,
    "start_time": "2022-05-10T11:18:30.841Z"
   },
   {
    "duration": 67,
    "start_time": "2022-05-10T11:18:30.870Z"
   },
   {
    "duration": 8,
    "start_time": "2022-05-10T11:18:30.940Z"
   },
   {
    "duration": 25,
    "start_time": "2022-05-10T11:18:30.952Z"
   },
   {
    "duration": 66,
    "start_time": "2022-05-10T11:18:30.980Z"
   },
   {
    "duration": 105,
    "start_time": "2022-05-10T11:18:31.049Z"
   },
   {
    "duration": 1773,
    "start_time": "2022-05-10T11:19:54.192Z"
   },
   {
    "duration": 784,
    "start_time": "2022-05-10T11:20:08.361Z"
   },
   {
    "duration": 138,
    "start_time": "2022-05-10T11:20:09.148Z"
   },
   {
    "duration": 21,
    "start_time": "2022-05-10T11:20:09.288Z"
   },
   {
    "duration": 25,
    "start_time": "2022-05-10T11:20:09.325Z"
   },
   {
    "duration": 7,
    "start_time": "2022-05-10T11:20:09.352Z"
   },
   {
    "duration": 21,
    "start_time": "2022-05-10T11:20:09.361Z"
   },
   {
    "duration": 78,
    "start_time": "2022-05-10T11:20:09.384Z"
   },
   {
    "duration": 1880,
    "start_time": "2022-05-10T11:20:09.465Z"
   },
   {
    "duration": 22,
    "start_time": "2022-05-10T11:20:22.085Z"
   },
   {
    "duration": 11,
    "start_time": "2022-05-10T11:21:21.673Z"
   },
   {
    "duration": 28,
    "start_time": "2022-05-10T11:21:29.351Z"
   },
   {
    "duration": 24,
    "start_time": "2022-05-10T11:21:46.854Z"
   },
   {
    "duration": 26,
    "start_time": "2022-05-10T11:24:16.339Z"
   },
   {
    "duration": 27,
    "start_time": "2022-05-10T11:27:26.706Z"
   },
   {
    "duration": 8,
    "start_time": "2022-05-10T11:27:32.548Z"
   },
   {
    "duration": 11,
    "start_time": "2022-05-10T11:27:35.164Z"
   },
   {
    "duration": 24,
    "start_time": "2022-05-10T11:27:50.270Z"
   },
   {
    "duration": 16,
    "start_time": "2022-05-10T11:28:10.267Z"
   },
   {
    "duration": 15,
    "start_time": "2022-05-10T11:28:19.805Z"
   },
   {
    "duration": 9,
    "start_time": "2022-05-10T11:28:44.356Z"
   },
   {
    "duration": 121,
    "start_time": "2022-05-10T11:29:12.350Z"
   },
   {
    "duration": 115,
    "start_time": "2022-05-10T11:32:59.239Z"
   },
   {
    "duration": 28,
    "start_time": "2022-05-10T11:33:30.051Z"
   },
   {
    "duration": 879,
    "start_time": "2022-05-10T11:33:42.724Z"
   },
   {
    "duration": 70,
    "start_time": "2022-05-10T11:33:57.043Z"
   },
   {
    "duration": 1530,
    "start_time": "2022-05-10T11:34:18.796Z"
   },
   {
    "duration": 206,
    "start_time": "2022-05-10T11:35:46.784Z"
   },
   {
    "duration": 99,
    "start_time": "2022-05-10T11:36:08.749Z"
   },
   {
    "duration": 24,
    "start_time": "2022-05-10T11:36:19.321Z"
   },
   {
    "duration": 26,
    "start_time": "2022-05-10T11:40:10.834Z"
   },
   {
    "duration": 56,
    "start_time": "2022-05-10T11:40:44.158Z"
   },
   {
    "duration": 6626,
    "start_time": "2022-05-10T11:47:25.259Z"
   },
   {
    "duration": 3647,
    "start_time": "2022-05-10T11:47:35.038Z"
   },
   {
    "duration": 6441,
    "start_time": "2022-05-10T11:47:58.733Z"
   },
   {
    "duration": 40,
    "start_time": "2022-05-10T11:48:45.874Z"
   },
   {
    "duration": 76,
    "start_time": "2022-05-10T11:48:49.561Z"
   },
   {
    "duration": 22,
    "start_time": "2022-05-10T11:48:59.479Z"
   },
   {
    "duration": 21,
    "start_time": "2022-05-10T11:49:21.315Z"
   },
   {
    "duration": 29,
    "start_time": "2022-05-10T11:49:31.454Z"
   },
   {
    "duration": 52,
    "start_time": "2022-05-10T11:49:36.697Z"
   },
   {
    "duration": 68,
    "start_time": "2022-05-10T11:50:05.652Z"
   },
   {
    "duration": 21,
    "start_time": "2022-05-10T11:51:53.303Z"
   },
   {
    "duration": 35,
    "start_time": "2022-05-10T11:51:58.774Z"
   },
   {
    "duration": 10,
    "start_time": "2022-05-10T12:24:49.399Z"
   },
   {
    "duration": 19,
    "start_time": "2022-05-10T12:25:01.691Z"
   },
   {
    "duration": 92,
    "start_time": "2022-05-10T12:26:51.749Z"
   },
   {
    "duration": 12,
    "start_time": "2022-05-10T12:39:52.542Z"
   },
   {
    "duration": 59,
    "start_time": "2022-05-10T12:40:00.589Z"
   },
   {
    "duration": 859,
    "start_time": "2022-05-10T12:42:25.396Z"
   },
   {
    "duration": 101,
    "start_time": "2022-05-10T12:42:40.598Z"
   },
   {
    "duration": 898,
    "start_time": "2022-05-10T12:42:47.762Z"
   },
   {
    "duration": 763,
    "start_time": "2022-05-10T12:42:55.769Z"
   },
   {
    "duration": 180,
    "start_time": "2022-05-10T12:43:22.812Z"
   },
   {
    "duration": 94,
    "start_time": "2022-05-10T12:43:28.924Z"
   },
   {
    "duration": 123,
    "start_time": "2022-05-10T12:43:33.473Z"
   },
   {
    "duration": 10,
    "start_time": "2022-05-10T12:43:44.642Z"
   },
   {
    "duration": 11,
    "start_time": "2022-05-10T12:44:23.139Z"
   },
   {
    "duration": 20,
    "start_time": "2022-05-10T12:45:42.663Z"
   },
   {
    "duration": 25,
    "start_time": "2022-05-10T12:46:05.330Z"
   },
   {
    "duration": 24,
    "start_time": "2022-05-10T12:46:10.447Z"
   },
   {
    "duration": 26,
    "start_time": "2022-05-10T12:48:50.985Z"
   },
   {
    "duration": 17,
    "start_time": "2022-05-10T12:48:59.172Z"
   },
   {
    "duration": 23,
    "start_time": "2022-05-10T12:49:15.448Z"
   },
   {
    "duration": 18,
    "start_time": "2022-05-10T12:49:19.511Z"
   },
   {
    "duration": 22,
    "start_time": "2022-05-10T12:50:09.101Z"
   },
   {
    "duration": 15,
    "start_time": "2022-05-10T12:51:32.522Z"
   },
   {
    "duration": 13,
    "start_time": "2022-05-10T12:53:17.370Z"
   },
   {
    "duration": 12,
    "start_time": "2022-05-10T12:53:27.469Z"
   },
   {
    "duration": 1701,
    "start_time": "2022-05-10T12:53:54.479Z"
   },
   {
    "duration": 59,
    "start_time": "2022-05-10T12:54:12.318Z"
   },
   {
    "duration": 8,
    "start_time": "2022-05-10T12:55:48.154Z"
   },
   {
    "duration": 15,
    "start_time": "2022-05-10T12:55:52.886Z"
   },
   {
    "duration": 11,
    "start_time": "2022-05-10T12:56:24.786Z"
   },
   {
    "duration": 14,
    "start_time": "2022-05-10T12:57:09.234Z"
   },
   {
    "duration": 12,
    "start_time": "2022-05-10T12:57:28.218Z"
   },
   {
    "duration": 65,
    "start_time": "2022-05-10T12:59:16.738Z"
   },
   {
    "duration": 22,
    "start_time": "2022-05-10T13:01:11.445Z"
   },
   {
    "duration": 31,
    "start_time": "2022-05-10T13:01:20.295Z"
   },
   {
    "duration": 83,
    "start_time": "2022-05-10T13:02:00.133Z"
   },
   {
    "duration": 194,
    "start_time": "2022-05-10T13:06:41.532Z"
   },
   {
    "duration": 192,
    "start_time": "2022-05-10T13:07:15.823Z"
   },
   {
    "duration": 22,
    "start_time": "2022-05-10T13:08:36.330Z"
   },
   {
    "duration": 21,
    "start_time": "2022-05-10T13:08:50.485Z"
   },
   {
    "duration": 28,
    "start_time": "2022-05-10T13:10:34.808Z"
   },
   {
    "duration": 21,
    "start_time": "2022-05-10T13:11:06.935Z"
   },
   {
    "duration": 19,
    "start_time": "2022-05-10T13:11:38.050Z"
   },
   {
    "duration": 12,
    "start_time": "2022-05-10T13:12:05.379Z"
   },
   {
    "duration": 19,
    "start_time": "2022-05-10T13:12:12.878Z"
   },
   {
    "duration": 67,
    "start_time": "2022-05-10T13:12:31.125Z"
   },
   {
    "duration": 68,
    "start_time": "2022-05-10T13:12:44.021Z"
   },
   {
    "duration": 689,
    "start_time": "2022-05-10T13:12:55.517Z"
   },
   {
    "duration": 144,
    "start_time": "2022-05-10T13:12:56.210Z"
   },
   {
    "duration": 24,
    "start_time": "2022-05-10T13:12:56.357Z"
   },
   {
    "duration": 49,
    "start_time": "2022-05-10T13:12:56.384Z"
   },
   {
    "duration": 7,
    "start_time": "2022-05-10T13:12:56.436Z"
   },
   {
    "duration": 25,
    "start_time": "2022-05-10T13:12:56.446Z"
   },
   {
    "duration": 74,
    "start_time": "2022-05-10T13:12:56.474Z"
   },
   {
    "duration": 48,
    "start_time": "2022-05-10T13:12:56.550Z"
   },
   {
    "duration": 107,
    "start_time": "2022-05-10T13:12:56.601Z"
   },
   {
    "duration": 201,
    "start_time": "2022-05-10T13:13:36.223Z"
   },
   {
    "duration": 124,
    "start_time": "2022-05-10T13:16:00.166Z"
   },
   {
    "duration": 80,
    "start_time": "2022-05-10T13:16:22.227Z"
   },
   {
    "duration": 19,
    "start_time": "2022-05-10T13:16:54.101Z"
   },
   {
    "duration": 16,
    "start_time": "2022-05-10T13:17:02.128Z"
   },
   {
    "duration": 28,
    "start_time": "2022-05-10T13:17:12.605Z"
   },
   {
    "duration": 825,
    "start_time": "2022-05-10T13:17:22.613Z"
   },
   {
    "duration": 145,
    "start_time": "2022-05-10T13:17:23.442Z"
   },
   {
    "duration": 43,
    "start_time": "2022-05-10T13:17:23.592Z"
   },
   {
    "duration": 25,
    "start_time": "2022-05-10T13:17:23.638Z"
   },
   {
    "duration": 7,
    "start_time": "2022-05-10T13:17:23.666Z"
   },
   {
    "duration": 52,
    "start_time": "2022-05-10T13:17:23.676Z"
   },
   {
    "duration": 42,
    "start_time": "2022-05-10T13:17:23.730Z"
   },
   {
    "duration": 66,
    "start_time": "2022-05-10T13:17:23.774Z"
   },
   {
    "duration": 28,
    "start_time": "2022-05-10T13:17:23.843Z"
   },
   {
    "duration": 107,
    "start_time": "2022-05-10T13:18:05.209Z"
   },
   {
    "duration": 64,
    "start_time": "2022-05-10T13:19:03.465Z"
   },
   {
    "duration": 15,
    "start_time": "2022-05-10T13:19:24.095Z"
   },
   {
    "duration": 17,
    "start_time": "2022-05-10T13:19:37.980Z"
   },
   {
    "duration": 15,
    "start_time": "2022-05-10T13:20:28.294Z"
   },
   {
    "duration": 13,
    "start_time": "2022-05-10T13:46:56.361Z"
   },
   {
    "duration": 9,
    "start_time": "2022-05-10T13:47:25.873Z"
   },
   {
    "duration": 85,
    "start_time": "2022-05-10T13:47:44.931Z"
   },
   {
    "duration": 23,
    "start_time": "2022-05-10T13:47:52.726Z"
   },
   {
    "duration": 10,
    "start_time": "2022-05-10T13:48:39.491Z"
   },
   {
    "duration": 11,
    "start_time": "2022-05-10T13:48:56.466Z"
   },
   {
    "duration": 8,
    "start_time": "2022-05-10T13:49:03.339Z"
   },
   {
    "duration": 169,
    "start_time": "2022-05-10T13:49:30.716Z"
   },
   {
    "duration": 14,
    "start_time": "2022-05-10T13:49:35.824Z"
   },
   {
    "duration": 21,
    "start_time": "2022-05-10T13:50:03.329Z"
   },
   {
    "duration": 627,
    "start_time": "2022-05-10T13:50:19.729Z"
   },
   {
    "duration": 134,
    "start_time": "2022-05-10T13:50:20.360Z"
   },
   {
    "duration": 35,
    "start_time": "2022-05-10T13:50:20.496Z"
   },
   {
    "duration": 23,
    "start_time": "2022-05-10T13:50:20.534Z"
   },
   {
    "duration": 7,
    "start_time": "2022-05-10T13:50:20.560Z"
   },
   {
    "duration": 29,
    "start_time": "2022-05-10T13:50:20.569Z"
   },
   {
    "duration": 63,
    "start_time": "2022-05-10T13:50:20.600Z"
   },
   {
    "duration": 61,
    "start_time": "2022-05-10T13:50:20.665Z"
   },
   {
    "duration": 17,
    "start_time": "2022-05-10T13:50:20.728Z"
   },
   {
    "duration": 15,
    "start_time": "2022-05-10T13:50:20.749Z"
   },
   {
    "duration": 655,
    "start_time": "2022-05-10T13:50:36.328Z"
   },
   {
    "duration": 131,
    "start_time": "2022-05-10T13:50:36.986Z"
   },
   {
    "duration": 23,
    "start_time": "2022-05-10T13:50:37.124Z"
   },
   {
    "duration": 24,
    "start_time": "2022-05-10T13:50:37.150Z"
   },
   {
    "duration": 7,
    "start_time": "2022-05-10T13:50:37.176Z"
   },
   {
    "duration": 17,
    "start_time": "2022-05-10T13:50:37.224Z"
   },
   {
    "duration": 41,
    "start_time": "2022-05-10T13:50:37.243Z"
   },
   {
    "duration": 63,
    "start_time": "2022-05-10T13:50:37.286Z"
   },
   {
    "duration": 20,
    "start_time": "2022-05-10T13:50:37.351Z"
   },
   {
    "duration": 15,
    "start_time": "2022-05-10T13:50:37.374Z"
   },
   {
    "duration": 161,
    "start_time": "2022-05-10T13:51:08.017Z"
   },
   {
    "duration": 96,
    "start_time": "2022-05-10T13:51:18.366Z"
   },
   {
    "duration": 100,
    "start_time": "2022-05-10T13:51:34.174Z"
   },
   {
    "duration": 103,
    "start_time": "2022-05-10T13:51:41.801Z"
   },
   {
    "duration": 101,
    "start_time": "2022-05-10T13:51:48.885Z"
   },
   {
    "duration": 118,
    "start_time": "2022-05-10T13:51:55.774Z"
   },
   {
    "duration": 150,
    "start_time": "2022-05-10T13:52:05.725Z"
   },
   {
    "duration": 14,
    "start_time": "2022-05-10T13:52:14.556Z"
   },
   {
    "duration": 102,
    "start_time": "2022-05-10T13:52:19.565Z"
   },
   {
    "duration": 8,
    "start_time": "2022-05-10T13:52:47.134Z"
   },
   {
    "duration": 7,
    "start_time": "2022-05-10T13:56:48.740Z"
   },
   {
    "duration": 24,
    "start_time": "2022-05-10T14:08:41.609Z"
   },
   {
    "duration": 498,
    "start_time": "2022-05-10T19:22:23.448Z"
   },
   {
    "duration": 101,
    "start_time": "2022-05-10T19:22:23.948Z"
   },
   {
    "duration": 15,
    "start_time": "2022-05-10T19:22:24.051Z"
   },
   {
    "duration": 16,
    "start_time": "2022-05-10T19:22:24.068Z"
   },
   {
    "duration": 5,
    "start_time": "2022-05-10T19:22:24.086Z"
   },
   {
    "duration": 47,
    "start_time": "2022-05-10T19:22:24.093Z"
   },
   {
    "duration": 30,
    "start_time": "2022-05-10T19:22:24.142Z"
   },
   {
    "duration": 27,
    "start_time": "2022-05-10T19:22:24.173Z"
   },
   {
    "duration": 28,
    "start_time": "2022-05-10T19:22:24.201Z"
   },
   {
    "duration": 20,
    "start_time": "2022-05-10T19:22:24.232Z"
   },
   {
    "duration": 11,
    "start_time": "2022-05-10T19:39:21.999Z"
   },
   {
    "duration": 19,
    "start_time": "2022-05-10T19:39:32.052Z"
   },
   {
    "duration": 15,
    "start_time": "2022-05-10T19:40:50.332Z"
   },
   {
    "duration": 11,
    "start_time": "2022-05-10T19:42:16.442Z"
   },
   {
    "duration": 12,
    "start_time": "2022-05-10T19:43:50.585Z"
   },
   {
    "duration": 28,
    "start_time": "2022-05-10T19:44:02.316Z"
   },
   {
    "duration": 622,
    "start_time": "2022-05-10T19:49:33.827Z"
   },
   {
    "duration": 109,
    "start_time": "2022-05-10T19:49:34.454Z"
   },
   {
    "duration": 16,
    "start_time": "2022-05-10T19:49:34.565Z"
   },
   {
    "duration": 45,
    "start_time": "2022-05-10T19:49:34.583Z"
   },
   {
    "duration": 12,
    "start_time": "2022-05-10T19:49:34.630Z"
   },
   {
    "duration": 13,
    "start_time": "2022-05-10T19:49:34.645Z"
   },
   {
    "duration": 30,
    "start_time": "2022-05-10T19:49:34.660Z"
   },
   {
    "duration": 58,
    "start_time": "2022-05-10T19:49:34.692Z"
   },
   {
    "duration": 3,
    "start_time": "2022-05-10T19:49:34.752Z"
   },
   {
    "duration": 102,
    "start_time": "2022-05-10T19:49:34.757Z"
   },
   {
    "duration": 0,
    "start_time": "2022-05-10T19:49:34.861Z"
   },
   {
    "duration": 37,
    "start_time": "2022-05-10T19:50:20.079Z"
   },
   {
    "duration": 7,
    "start_time": "2022-05-10T19:50:41.202Z"
   },
   {
    "duration": 6,
    "start_time": "2022-05-10T19:51:39.359Z"
   },
   {
    "duration": 9,
    "start_time": "2022-05-10T19:52:27.572Z"
   },
   {
    "duration": 16,
    "start_time": "2022-05-10T19:53:11.274Z"
   },
   {
    "duration": 9,
    "start_time": "2022-05-10T19:53:30.789Z"
   },
   {
    "duration": 649,
    "start_time": "2022-05-10T19:54:14.108Z"
   },
   {
    "duration": 122,
    "start_time": "2022-05-10T19:54:14.759Z"
   },
   {
    "duration": 16,
    "start_time": "2022-05-10T19:54:14.882Z"
   },
   {
    "duration": 33,
    "start_time": "2022-05-10T19:54:14.901Z"
   },
   {
    "duration": 6,
    "start_time": "2022-05-10T19:54:14.936Z"
   },
   {
    "duration": 15,
    "start_time": "2022-05-10T19:54:14.945Z"
   },
   {
    "duration": 31,
    "start_time": "2022-05-10T19:54:14.962Z"
   },
   {
    "duration": 33,
    "start_time": "2022-05-10T19:54:15.028Z"
   },
   {
    "duration": 4,
    "start_time": "2022-05-10T19:54:15.063Z"
   },
   {
    "duration": 35,
    "start_time": "2022-05-10T19:54:15.070Z"
   },
   {
    "duration": 33,
    "start_time": "2022-05-10T19:54:15.107Z"
   },
   {
    "duration": 7,
    "start_time": "2022-05-10T19:54:39.744Z"
   },
   {
    "duration": 14,
    "start_time": "2022-05-10T19:54:52.727Z"
   },
   {
    "duration": 4,
    "start_time": "2022-05-10T19:55:51.110Z"
   },
   {
    "duration": 8,
    "start_time": "2022-05-10T19:58:23.073Z"
   },
   {
    "duration": 10,
    "start_time": "2022-05-10T19:58:48.390Z"
   },
   {
    "duration": 70,
    "start_time": "2022-05-10T19:59:10.475Z"
   },
   {
    "duration": 17,
    "start_time": "2022-05-10T20:00:07.339Z"
   },
   {
    "duration": 119,
    "start_time": "2022-05-10T20:28:56.074Z"
   },
   {
    "duration": 14,
    "start_time": "2022-05-10T20:29:02.144Z"
   },
   {
    "duration": 32,
    "start_time": "2022-05-10T20:30:32.417Z"
   },
   {
    "duration": 22,
    "start_time": "2022-05-10T20:30:45.525Z"
   },
   {
    "duration": 25,
    "start_time": "2022-05-10T20:33:36.864Z"
   },
   {
    "duration": 7,
    "start_time": "2022-05-10T20:35:59.096Z"
   },
   {
    "duration": 4,
    "start_time": "2022-05-10T20:36:31.267Z"
   },
   {
    "duration": 20,
    "start_time": "2022-05-10T20:36:43.828Z"
   },
   {
    "duration": 5,
    "start_time": "2022-05-10T20:36:50.238Z"
   },
   {
    "duration": 7,
    "start_time": "2022-05-10T20:37:52.866Z"
   },
   {
    "duration": 6,
    "start_time": "2022-05-10T20:47:44.159Z"
   },
   {
    "duration": 9,
    "start_time": "2022-05-10T20:48:37.631Z"
   },
   {
    "duration": 69,
    "start_time": "2022-05-11T07:50:57.493Z"
   },
   {
    "duration": 808,
    "start_time": "2022-05-11T07:51:04.052Z"
   },
   {
    "duration": 134,
    "start_time": "2022-05-11T07:51:04.863Z"
   },
   {
    "duration": 21,
    "start_time": "2022-05-11T07:51:04.999Z"
   },
   {
    "duration": 22,
    "start_time": "2022-05-11T07:51:05.023Z"
   },
   {
    "duration": 37,
    "start_time": "2022-05-11T07:51:05.047Z"
   },
   {
    "duration": 19,
    "start_time": "2022-05-11T07:51:05.086Z"
   },
   {
    "duration": 87,
    "start_time": "2022-05-11T07:51:05.107Z"
   },
   {
    "duration": 54,
    "start_time": "2022-05-11T07:51:05.197Z"
   },
   {
    "duration": 6,
    "start_time": "2022-05-11T07:51:05.254Z"
   },
   {
    "duration": 32,
    "start_time": "2022-05-11T07:51:05.283Z"
   },
   {
    "duration": 65,
    "start_time": "2022-05-11T07:51:05.317Z"
   },
   {
    "duration": 35,
    "start_time": "2022-05-11T07:51:05.385Z"
   },
   {
    "duration": 63,
    "start_time": "2022-05-11T07:51:05.422Z"
   },
   {
    "duration": 9,
    "start_time": "2022-05-11T07:51:05.488Z"
   },
   {
    "duration": 8,
    "start_time": "2022-05-11T07:51:05.500Z"
   },
   {
    "duration": 16,
    "start_time": "2022-05-11T07:51:05.511Z"
   },
   {
    "duration": 5,
    "start_time": "2022-05-11T07:54:10.271Z"
   },
   {
    "duration": 7,
    "start_time": "2022-05-11T07:54:30.992Z"
   },
   {
    "duration": 230,
    "start_time": "2022-05-11T08:00:20.991Z"
   },
   {
    "duration": 109,
    "start_time": "2022-05-11T08:00:33.083Z"
   },
   {
    "duration": 6,
    "start_time": "2022-05-11T08:01:11.601Z"
   },
   {
    "duration": 95,
    "start_time": "2022-05-11T08:01:15.891Z"
   },
   {
    "duration": 5,
    "start_time": "2022-05-11T08:01:18.922Z"
   },
   {
    "duration": 6,
    "start_time": "2022-05-11T08:01:28.033Z"
   },
   {
    "duration": 5,
    "start_time": "2022-05-11T08:01:59.984Z"
   },
   {
    "duration": 15,
    "start_time": "2022-05-11T08:09:51.783Z"
   },
   {
    "duration": 5,
    "start_time": "2022-05-11T08:10:00.836Z"
   },
   {
    "duration": 8,
    "start_time": "2022-05-11T08:20:18.281Z"
   },
   {
    "duration": 5,
    "start_time": "2022-05-11T08:20:39.101Z"
   },
   {
    "duration": 5,
    "start_time": "2022-05-11T08:20:55.694Z"
   },
   {
    "duration": 600,
    "start_time": "2022-05-11T08:21:23.377Z"
   },
   {
    "duration": 137,
    "start_time": "2022-05-11T08:21:23.979Z"
   },
   {
    "duration": 21,
    "start_time": "2022-05-11T08:21:24.118Z"
   },
   {
    "duration": 48,
    "start_time": "2022-05-11T08:21:24.141Z"
   },
   {
    "duration": 8,
    "start_time": "2022-05-11T08:21:24.192Z"
   },
   {
    "duration": 24,
    "start_time": "2022-05-11T08:21:24.202Z"
   },
   {
    "duration": 64,
    "start_time": "2022-05-11T08:21:24.229Z"
   },
   {
    "duration": 107,
    "start_time": "2022-05-11T08:21:24.295Z"
   },
   {
    "duration": 0,
    "start_time": "2022-05-11T08:21:24.405Z"
   },
   {
    "duration": 0,
    "start_time": "2022-05-11T08:21:24.406Z"
   },
   {
    "duration": 0,
    "start_time": "2022-05-11T08:21:24.408Z"
   },
   {
    "duration": 0,
    "start_time": "2022-05-11T08:21:24.409Z"
   },
   {
    "duration": 0,
    "start_time": "2022-05-11T08:21:24.411Z"
   },
   {
    "duration": 0,
    "start_time": "2022-05-11T08:21:24.412Z"
   },
   {
    "duration": 0,
    "start_time": "2022-05-11T08:21:24.414Z"
   },
   {
    "duration": 0,
    "start_time": "2022-05-11T08:21:24.416Z"
   },
   {
    "duration": 0,
    "start_time": "2022-05-11T08:21:24.418Z"
   },
   {
    "duration": 9,
    "start_time": "2022-05-11T08:21:36.309Z"
   },
   {
    "duration": 100,
    "start_time": "2022-05-11T08:22:00.751Z"
   },
   {
    "duration": 5,
    "start_time": "2022-05-11T08:22:19.217Z"
   },
   {
    "duration": 7749,
    "start_time": "2022-05-11T08:25:16.820Z"
   },
   {
    "duration": 2030,
    "start_time": "2022-05-11T08:33:32.518Z"
   },
   {
    "duration": 670,
    "start_time": "2022-05-11T08:34:02.964Z"
   },
   {
    "duration": 132,
    "start_time": "2022-05-11T08:34:03.636Z"
   },
   {
    "duration": 27,
    "start_time": "2022-05-11T08:34:03.776Z"
   },
   {
    "duration": 24,
    "start_time": "2022-05-11T08:34:03.805Z"
   },
   {
    "duration": 10,
    "start_time": "2022-05-11T08:34:03.834Z"
   },
   {
    "duration": 20,
    "start_time": "2022-05-11T08:34:03.883Z"
   },
   {
    "duration": 42,
    "start_time": "2022-05-11T08:34:03.906Z"
   },
   {
    "duration": 89,
    "start_time": "2022-05-11T08:34:03.950Z"
   },
   {
    "duration": 5,
    "start_time": "2022-05-11T08:34:04.041Z"
   },
   {
    "duration": 124,
    "start_time": "2022-05-11T08:34:04.048Z"
   },
   {
    "duration": 0,
    "start_time": "2022-05-11T08:34:04.175Z"
   },
   {
    "duration": 0,
    "start_time": "2022-05-11T08:34:04.181Z"
   },
   {
    "duration": 0,
    "start_time": "2022-05-11T08:34:04.183Z"
   },
   {
    "duration": 0,
    "start_time": "2022-05-11T08:34:04.184Z"
   },
   {
    "duration": 0,
    "start_time": "2022-05-11T08:34:04.186Z"
   },
   {
    "duration": 0,
    "start_time": "2022-05-11T08:34:04.188Z"
   },
   {
    "duration": 0,
    "start_time": "2022-05-11T08:34:04.189Z"
   },
   {
    "duration": 8,
    "start_time": "2022-05-11T08:34:54.592Z"
   },
   {
    "duration": 952,
    "start_time": "2022-05-11T10:43:35.873Z"
   },
   {
    "duration": 160,
    "start_time": "2022-05-11T10:43:36.828Z"
   },
   {
    "duration": 18,
    "start_time": "2022-05-11T10:43:36.991Z"
   },
   {
    "duration": 27,
    "start_time": "2022-05-11T10:43:37.013Z"
   },
   {
    "duration": 8,
    "start_time": "2022-05-11T10:43:37.043Z"
   },
   {
    "duration": 20,
    "start_time": "2022-05-11T10:43:37.053Z"
   },
   {
    "duration": 66,
    "start_time": "2022-05-11T10:43:37.076Z"
   },
   {
    "duration": 19,
    "start_time": "2022-05-11T10:43:37.145Z"
   },
   {
    "duration": 4,
    "start_time": "2022-05-11T10:43:37.166Z"
   },
   {
    "duration": 21,
    "start_time": "2022-05-11T10:43:37.172Z"
   },
   {
    "duration": 59,
    "start_time": "2022-05-11T10:43:37.194Z"
   },
   {
    "duration": 21,
    "start_time": "2022-05-11T10:43:37.255Z"
   },
   {
    "duration": 23,
    "start_time": "2022-05-11T10:43:37.278Z"
   },
   {
    "duration": 41,
    "start_time": "2022-05-11T10:43:37.303Z"
   },
   {
    "duration": 9,
    "start_time": "2022-05-11T10:43:37.346Z"
   },
   {
    "duration": 6,
    "start_time": "2022-05-11T10:43:37.357Z"
   },
   {
    "duration": 12,
    "start_time": "2022-05-11T10:43:37.366Z"
   },
   {
    "duration": 80,
    "start_time": "2022-05-11T10:46:57.464Z"
   },
   {
    "duration": 5,
    "start_time": "2022-05-11T10:47:03.541Z"
   },
   {
    "duration": 26,
    "start_time": "2022-05-11T10:47:54.202Z"
   },
   {
    "duration": 175,
    "start_time": "2022-05-11T10:48:59.162Z"
   },
   {
    "duration": 16,
    "start_time": "2022-05-11T10:49:04.401Z"
   },
   {
    "duration": 5,
    "start_time": "2022-05-11T10:51:52.011Z"
   },
   {
    "duration": 538,
    "start_time": "2022-05-11T10:52:00.755Z"
   },
   {
    "duration": 139,
    "start_time": "2022-05-11T10:52:01.296Z"
   },
   {
    "duration": 20,
    "start_time": "2022-05-11T10:52:01.438Z"
   },
   {
    "duration": 37,
    "start_time": "2022-05-11T10:52:01.460Z"
   },
   {
    "duration": 7,
    "start_time": "2022-05-11T10:52:01.501Z"
   },
   {
    "duration": 50,
    "start_time": "2022-05-11T10:52:01.511Z"
   },
   {
    "duration": 80,
    "start_time": "2022-05-11T10:52:01.563Z"
   },
   {
    "duration": 53,
    "start_time": "2022-05-11T10:52:01.645Z"
   },
   {
    "duration": 97,
    "start_time": "2022-05-11T10:52:01.700Z"
   },
   {
    "duration": 53,
    "start_time": "2022-05-11T10:52:01.799Z"
   },
   {
    "duration": 69,
    "start_time": "2022-05-11T10:52:01.854Z"
   },
   {
    "duration": 43,
    "start_time": "2022-05-11T10:52:01.925Z"
   },
   {
    "duration": 43,
    "start_time": "2022-05-11T10:52:01.971Z"
   },
   {
    "duration": 35,
    "start_time": "2022-05-11T10:52:02.018Z"
   },
   {
    "duration": 7,
    "start_time": "2022-05-11T10:52:02.055Z"
   },
   {
    "duration": 6,
    "start_time": "2022-05-11T10:52:02.064Z"
   },
   {
    "duration": 23,
    "start_time": "2022-05-11T10:52:02.072Z"
   },
   {
    "duration": 37,
    "start_time": "2022-05-11T10:52:02.098Z"
   },
   {
    "duration": 34,
    "start_time": "2022-05-11T10:52:02.138Z"
   },
   {
    "duration": 15,
    "start_time": "2022-05-11T10:52:32.913Z"
   },
   {
    "duration": 84,
    "start_time": "2022-05-11T10:55:19.576Z"
   },
   {
    "duration": 1036,
    "start_time": "2022-05-11T10:57:32.185Z"
   },
   {
    "duration": 37,
    "start_time": "2022-05-11T10:57:48.093Z"
   },
   {
    "duration": 567,
    "start_time": "2022-05-11T10:58:22.634Z"
   },
   {
    "duration": 138,
    "start_time": "2022-05-11T10:58:23.203Z"
   },
   {
    "duration": 21,
    "start_time": "2022-05-11T10:58:23.344Z"
   },
   {
    "duration": 21,
    "start_time": "2022-05-11T10:58:23.367Z"
   },
   {
    "duration": 6,
    "start_time": "2022-05-11T10:58:23.390Z"
   },
   {
    "duration": 47,
    "start_time": "2022-05-11T10:58:23.398Z"
   },
   {
    "duration": 18,
    "start_time": "2022-05-11T10:58:23.448Z"
   },
   {
    "duration": 38,
    "start_time": "2022-05-11T10:58:23.469Z"
   },
   {
    "duration": 47,
    "start_time": "2022-05-11T10:58:23.509Z"
   },
   {
    "duration": 4,
    "start_time": "2022-05-11T10:58:23.561Z"
   },
   {
    "duration": 26,
    "start_time": "2022-05-11T10:58:23.567Z"
   },
   {
    "duration": 52,
    "start_time": "2022-05-11T10:58:23.595Z"
   },
   {
    "duration": 25,
    "start_time": "2022-05-11T10:58:23.650Z"
   },
   {
    "duration": 30,
    "start_time": "2022-05-11T10:58:23.678Z"
   },
   {
    "duration": 30,
    "start_time": "2022-05-11T10:58:23.710Z"
   },
   {
    "duration": 18,
    "start_time": "2022-05-11T10:58:23.742Z"
   },
   {
    "duration": 8,
    "start_time": "2022-05-11T10:58:23.762Z"
   },
   {
    "duration": 9,
    "start_time": "2022-05-11T10:58:23.772Z"
   },
   {
    "duration": 19,
    "start_time": "2022-05-11T10:58:23.783Z"
   },
   {
    "duration": 109,
    "start_time": "2022-05-11T10:59:24.101Z"
   },
   {
    "duration": 38,
    "start_time": "2022-05-11T11:02:35.875Z"
   },
   {
    "duration": 38,
    "start_time": "2022-05-11T11:02:59.387Z"
   },
   {
    "duration": 227,
    "start_time": "2022-05-11T11:04:08.124Z"
   },
   {
    "duration": 34,
    "start_time": "2022-05-11T11:04:14.074Z"
   },
   {
    "duration": 21,
    "start_time": "2022-05-11T11:04:56.164Z"
   },
   {
    "duration": 36,
    "start_time": "2022-05-11T11:05:11.926Z"
   },
   {
    "duration": 29,
    "start_time": "2022-05-11T11:05:14.414Z"
   },
   {
    "duration": 27,
    "start_time": "2022-05-11T11:05:50.977Z"
   },
   {
    "duration": 33,
    "start_time": "2022-05-11T11:06:31.084Z"
   },
   {
    "duration": 30,
    "start_time": "2022-05-11T11:06:44.375Z"
   },
   {
    "duration": 511,
    "start_time": "2022-05-11T11:10:51.707Z"
   },
   {
    "duration": 111,
    "start_time": "2022-05-11T11:10:52.221Z"
   },
   {
    "duration": 22,
    "start_time": "2022-05-11T11:10:52.334Z"
   },
   {
    "duration": 19,
    "start_time": "2022-05-11T11:10:52.359Z"
   },
   {
    "duration": 5,
    "start_time": "2022-05-11T11:10:52.380Z"
   },
   {
    "duration": 15,
    "start_time": "2022-05-11T11:10:52.386Z"
   },
   {
    "duration": 36,
    "start_time": "2022-05-11T11:10:52.403Z"
   },
   {
    "duration": 43,
    "start_time": "2022-05-11T11:10:52.442Z"
   },
   {
    "duration": 3,
    "start_time": "2022-05-11T11:10:52.487Z"
   },
   {
    "duration": 8,
    "start_time": "2022-05-11T11:10:52.493Z"
   },
   {
    "duration": 37,
    "start_time": "2022-05-11T11:10:52.503Z"
   },
   {
    "duration": 24,
    "start_time": "2022-05-11T11:10:52.543Z"
   },
   {
    "duration": 18,
    "start_time": "2022-05-11T11:10:52.568Z"
   },
   {
    "duration": 52,
    "start_time": "2022-05-11T11:10:52.588Z"
   },
   {
    "duration": 11,
    "start_time": "2022-05-11T11:10:52.642Z"
   },
   {
    "duration": 3,
    "start_time": "2022-05-11T11:10:52.655Z"
   },
   {
    "duration": 9,
    "start_time": "2022-05-11T11:10:52.660Z"
   },
   {
    "duration": 10,
    "start_time": "2022-05-11T11:10:52.671Z"
   },
   {
    "duration": 19,
    "start_time": "2022-05-11T11:10:52.683Z"
   },
   {
    "duration": 22,
    "start_time": "2022-05-11T11:11:31.657Z"
   },
   {
    "duration": 27,
    "start_time": "2022-05-11T11:12:40.242Z"
   },
   {
    "duration": 74,
    "start_time": "2022-05-11T12:28:08.571Z"
   },
   {
    "duration": 9,
    "start_time": "2022-05-11T12:28:48.992Z"
   },
   {
    "duration": 13,
    "start_time": "2022-05-11T12:32:34.092Z"
   },
   {
    "duration": 25,
    "start_time": "2022-05-11T12:33:33.225Z"
   },
   {
    "duration": 3,
    "start_time": "2022-05-11T12:39:02.313Z"
   },
   {
    "duration": 133,
    "start_time": "2022-05-12T20:14:06.106Z"
   },
   {
    "duration": 1130,
    "start_time": "2022-05-12T20:14:16.965Z"
   },
   {
    "duration": 201,
    "start_time": "2022-05-12T20:14:18.099Z"
   },
   {
    "duration": 33,
    "start_time": "2022-05-12T20:14:18.303Z"
   },
   {
    "duration": 56,
    "start_time": "2022-05-12T20:14:18.341Z"
   },
   {
    "duration": 9,
    "start_time": "2022-05-12T20:14:18.403Z"
   },
   {
    "duration": 35,
    "start_time": "2022-05-12T20:14:18.415Z"
   },
   {
    "duration": 13,
    "start_time": "2022-05-12T20:14:18.453Z"
   },
   {
    "duration": 11,
    "start_time": "2022-05-12T20:14:18.469Z"
   },
   {
    "duration": 41,
    "start_time": "2022-05-12T20:14:18.486Z"
   },
   {
    "duration": 16,
    "start_time": "2022-05-12T20:14:18.532Z"
   },
   {
    "duration": 16,
    "start_time": "2022-05-12T20:14:18.551Z"
   },
   {
    "duration": 81,
    "start_time": "2022-05-12T20:14:18.571Z"
   },
   {
    "duration": 54,
    "start_time": "2022-05-12T20:14:18.655Z"
   },
   {
    "duration": 33,
    "start_time": "2022-05-12T20:14:18.713Z"
   },
   {
    "duration": 54,
    "start_time": "2022-05-12T20:14:18.749Z"
   },
   {
    "duration": 8,
    "start_time": "2022-05-12T20:14:18.807Z"
   },
   {
    "duration": 23,
    "start_time": "2022-05-12T20:14:18.819Z"
   },
   {
    "duration": 9,
    "start_time": "2022-05-12T20:14:18.846Z"
   },
   {
    "duration": 30,
    "start_time": "2022-05-12T20:14:18.858Z"
   },
   {
    "duration": 50,
    "start_time": "2022-05-12T20:14:18.892Z"
   },
   {
    "duration": 40,
    "start_time": "2022-05-12T20:14:18.945Z"
   },
   {
    "duration": 8,
    "start_time": "2022-05-12T20:14:18.997Z"
   },
   {
    "duration": 183,
    "start_time": "2022-05-12T20:14:19.008Z"
   },
   {
    "duration": 6,
    "start_time": "2022-05-12T20:15:32.279Z"
   },
   {
    "duration": 143,
    "start_time": "2022-05-12T20:16:14.215Z"
   },
   {
    "duration": 2808,
    "start_time": "2022-05-12T20:16:28.269Z"
   },
   {
    "duration": 23,
    "start_time": "2022-05-12T20:17:13.899Z"
   },
   {
    "duration": 17,
    "start_time": "2022-05-12T20:24:02.206Z"
   },
   {
    "duration": 943,
    "start_time": "2022-05-12T20:24:42.348Z"
   },
   {
    "duration": 173,
    "start_time": "2022-05-12T20:24:43.294Z"
   },
   {
    "duration": 45,
    "start_time": "2022-05-12T20:24:43.469Z"
   },
   {
    "duration": 45,
    "start_time": "2022-05-12T20:24:43.518Z"
   },
   {
    "duration": 24,
    "start_time": "2022-05-12T20:24:43.566Z"
   },
   {
    "duration": 36,
    "start_time": "2022-05-12T20:24:43.593Z"
   },
   {
    "duration": 11,
    "start_time": "2022-05-12T20:24:43.632Z"
   },
   {
    "duration": 14,
    "start_time": "2022-05-12T20:24:43.647Z"
   },
   {
    "duration": 11,
    "start_time": "2022-05-12T20:24:43.664Z"
   },
   {
    "duration": 200,
    "start_time": "2022-05-12T20:24:43.681Z"
   },
   {
    "duration": 0,
    "start_time": "2022-05-12T20:24:43.894Z"
   },
   {
    "duration": 0,
    "start_time": "2022-05-12T20:24:43.896Z"
   },
   {
    "duration": 0,
    "start_time": "2022-05-12T20:24:43.898Z"
   },
   {
    "duration": 0,
    "start_time": "2022-05-12T20:24:43.900Z"
   },
   {
    "duration": 0,
    "start_time": "2022-05-12T20:24:43.901Z"
   },
   {
    "duration": 0,
    "start_time": "2022-05-12T20:24:43.903Z"
   },
   {
    "duration": 0,
    "start_time": "2022-05-12T20:24:43.905Z"
   },
   {
    "duration": 0,
    "start_time": "2022-05-12T20:24:43.906Z"
   },
   {
    "duration": 1,
    "start_time": "2022-05-12T20:24:43.909Z"
   },
   {
    "duration": 0,
    "start_time": "2022-05-12T20:24:43.911Z"
   },
   {
    "duration": 0,
    "start_time": "2022-05-12T20:24:43.915Z"
   },
   {
    "duration": 0,
    "start_time": "2022-05-12T20:24:43.917Z"
   },
   {
    "duration": 0,
    "start_time": "2022-05-12T20:24:43.921Z"
   },
   {
    "duration": 26,
    "start_time": "2022-05-12T20:26:40.123Z"
   },
   {
    "duration": 16,
    "start_time": "2022-05-12T20:27:50.559Z"
   },
   {
    "duration": 16,
    "start_time": "2022-05-12T20:28:23.313Z"
   },
   {
    "duration": 18,
    "start_time": "2022-05-12T20:28:30.956Z"
   },
   {
    "duration": 22,
    "start_time": "2022-05-12T20:28:35.752Z"
   },
   {
    "duration": 16,
    "start_time": "2022-05-12T20:30:29.920Z"
   },
   {
    "duration": 64,
    "start_time": "2022-05-12T20:39:49.139Z"
   },
   {
    "duration": 43,
    "start_time": "2022-05-12T20:42:47.783Z"
   },
   {
    "duration": 689,
    "start_time": "2022-05-13T09:14:32.612Z"
   },
   {
    "duration": 135,
    "start_time": "2022-05-13T09:14:33.304Z"
   },
   {
    "duration": 28,
    "start_time": "2022-05-13T09:14:33.441Z"
   },
   {
    "duration": 24,
    "start_time": "2022-05-13T09:14:33.471Z"
   },
   {
    "duration": 6,
    "start_time": "2022-05-13T09:14:33.499Z"
   },
   {
    "duration": 53,
    "start_time": "2022-05-13T09:14:33.507Z"
   },
   {
    "duration": 7,
    "start_time": "2022-05-13T09:14:33.563Z"
   },
   {
    "duration": 23,
    "start_time": "2022-05-13T09:14:33.572Z"
   },
   {
    "duration": 5,
    "start_time": "2022-05-13T09:14:33.598Z"
   },
   {
    "duration": 63,
    "start_time": "2022-05-13T09:14:33.606Z"
   },
   {
    "duration": 33,
    "start_time": "2022-05-13T09:14:33.672Z"
   },
   {
    "duration": 48,
    "start_time": "2022-05-13T09:14:33.708Z"
   },
   {
    "duration": 35,
    "start_time": "2022-05-13T09:14:33.758Z"
   },
   {
    "duration": 8,
    "start_time": "2022-05-13T09:14:33.797Z"
   },
   {
    "duration": 4,
    "start_time": "2022-05-13T09:14:33.807Z"
   },
   {
    "duration": 40,
    "start_time": "2022-05-13T09:14:33.814Z"
   },
   {
    "duration": 5,
    "start_time": "2022-05-13T09:14:33.856Z"
   },
   {
    "duration": 24,
    "start_time": "2022-05-13T09:14:33.863Z"
   },
   {
    "duration": 66,
    "start_time": "2022-05-13T09:14:33.890Z"
   },
   {
    "duration": 43,
    "start_time": "2022-05-13T09:14:33.959Z"
   },
   {
    "duration": 132,
    "start_time": "2022-05-13T09:14:34.004Z"
   },
   {
    "duration": 42,
    "start_time": "2022-05-13T09:15:10.619Z"
   },
   {
    "duration": 9,
    "start_time": "2022-05-13T09:15:36.268Z"
   },
   {
    "duration": 10,
    "start_time": "2022-05-13T09:16:45.245Z"
   },
   {
    "duration": 5,
    "start_time": "2022-05-13T09:17:40.068Z"
   },
   {
    "duration": 601,
    "start_time": "2022-05-13T09:17:43.582Z"
   },
   {
    "duration": 64,
    "start_time": "2022-05-13T09:20:09.597Z"
   },
   {
    "duration": 42,
    "start_time": "2022-05-13T09:20:14.870Z"
   },
   {
    "duration": 16,
    "start_time": "2022-05-13T09:21:05.513Z"
   },
   {
    "duration": 65,
    "start_time": "2022-05-13T12:18:22.719Z"
   },
   {
    "duration": 591,
    "start_time": "2022-05-13T12:18:37.537Z"
   },
   {
    "duration": 102,
    "start_time": "2022-05-13T12:18:38.130Z"
   },
   {
    "duration": 23,
    "start_time": "2022-05-13T12:18:38.233Z"
   },
   {
    "duration": 42,
    "start_time": "2022-05-13T12:18:38.260Z"
   },
   {
    "duration": 6,
    "start_time": "2022-05-13T12:18:38.305Z"
   },
   {
    "duration": 15,
    "start_time": "2022-05-13T12:18:38.313Z"
   },
   {
    "duration": 11,
    "start_time": "2022-05-13T12:18:38.330Z"
   },
   {
    "duration": 49,
    "start_time": "2022-05-13T12:18:38.342Z"
   },
   {
    "duration": 4,
    "start_time": "2022-05-13T12:18:38.393Z"
   },
   {
    "duration": 17,
    "start_time": "2022-05-13T12:18:38.399Z"
   },
   {
    "duration": 20,
    "start_time": "2022-05-13T12:18:38.418Z"
   },
   {
    "duration": 61,
    "start_time": "2022-05-13T12:18:38.439Z"
   },
   {
    "duration": 18,
    "start_time": "2022-05-13T12:18:38.501Z"
   },
   {
    "duration": 5,
    "start_time": "2022-05-13T12:18:38.522Z"
   },
   {
    "duration": 5,
    "start_time": "2022-05-13T12:18:38.529Z"
   },
   {
    "duration": 6,
    "start_time": "2022-05-13T12:18:38.535Z"
   },
   {
    "duration": 37,
    "start_time": "2022-05-13T12:18:38.550Z"
   },
   {
    "duration": 15,
    "start_time": "2022-05-13T12:18:38.589Z"
   },
   {
    "duration": 20,
    "start_time": "2022-05-13T12:18:38.606Z"
   },
   {
    "duration": 12,
    "start_time": "2022-05-13T12:18:38.627Z"
   },
   {
    "duration": 398,
    "start_time": "2022-05-13T12:18:38.641Z"
   },
   {
    "duration": 9,
    "start_time": "2022-05-13T12:18:39.043Z"
   },
   {
    "duration": 73,
    "start_time": "2022-05-13T12:23:03.326Z"
   },
   {
    "duration": 6,
    "start_time": "2022-05-13T12:23:09.707Z"
   },
   {
    "duration": 33,
    "start_time": "2022-05-13T12:23:54.388Z"
   },
   {
    "duration": 536,
    "start_time": "2022-05-13T12:24:04.722Z"
   },
   {
    "duration": 101,
    "start_time": "2022-05-13T12:24:05.260Z"
   },
   {
    "duration": 20,
    "start_time": "2022-05-13T12:24:05.365Z"
   },
   {
    "duration": 15,
    "start_time": "2022-05-13T12:24:05.386Z"
   },
   {
    "duration": 5,
    "start_time": "2022-05-13T12:24:05.403Z"
   },
   {
    "duration": 15,
    "start_time": "2022-05-13T12:24:05.409Z"
   },
   {
    "duration": 22,
    "start_time": "2022-05-13T12:24:05.426Z"
   },
   {
    "duration": 41,
    "start_time": "2022-05-13T12:24:05.449Z"
   },
   {
    "duration": 4,
    "start_time": "2022-05-13T12:24:05.492Z"
   },
   {
    "duration": 22,
    "start_time": "2022-05-13T12:24:05.497Z"
   },
   {
    "duration": 24,
    "start_time": "2022-05-13T12:24:05.521Z"
   },
   {
    "duration": 18,
    "start_time": "2022-05-13T12:24:05.551Z"
   },
   {
    "duration": 36,
    "start_time": "2022-05-13T12:24:05.571Z"
   },
   {
    "duration": 18,
    "start_time": "2022-05-13T12:24:05.610Z"
   },
   {
    "duration": 17,
    "start_time": "2022-05-13T12:24:05.630Z"
   },
   {
    "duration": 6,
    "start_time": "2022-05-13T12:24:05.649Z"
   },
   {
    "duration": 26,
    "start_time": "2022-05-13T12:24:05.656Z"
   },
   {
    "duration": 8,
    "start_time": "2022-05-13T12:24:05.684Z"
   },
   {
    "duration": 22,
    "start_time": "2022-05-13T12:24:05.693Z"
   },
   {
    "duration": 23,
    "start_time": "2022-05-13T12:24:05.716Z"
   },
   {
    "duration": 27,
    "start_time": "2022-05-13T12:24:05.741Z"
   },
   {
    "duration": 526,
    "start_time": "2022-05-13T12:24:05.769Z"
   },
   {
    "duration": 5,
    "start_time": "2022-05-13T12:24:06.297Z"
   },
   {
    "duration": 32,
    "start_time": "2022-05-13T12:25:49.200Z"
   },
   {
    "duration": 513,
    "start_time": "2022-05-13T12:28:01.356Z"
   },
   {
    "duration": 99,
    "start_time": "2022-05-13T12:28:01.872Z"
   },
   {
    "duration": 15,
    "start_time": "2022-05-13T12:28:01.972Z"
   },
   {
    "duration": 17,
    "start_time": "2022-05-13T12:28:01.989Z"
   },
   {
    "duration": 4,
    "start_time": "2022-05-13T12:28:02.009Z"
   },
   {
    "duration": 16,
    "start_time": "2022-05-13T12:28:02.044Z"
   },
   {
    "duration": 17,
    "start_time": "2022-05-13T12:28:02.062Z"
   },
   {
    "duration": 21,
    "start_time": "2022-05-13T12:28:02.081Z"
   },
   {
    "duration": 16,
    "start_time": "2022-05-13T12:28:02.104Z"
   },
   {
    "duration": 30,
    "start_time": "2022-05-13T12:28:02.121Z"
   },
   {
    "duration": 30,
    "start_time": "2022-05-13T12:28:02.153Z"
   },
   {
    "duration": 15,
    "start_time": "2022-05-13T12:28:02.185Z"
   },
   {
    "duration": 28,
    "start_time": "2022-05-13T12:28:02.201Z"
   },
   {
    "duration": 21,
    "start_time": "2022-05-13T12:28:02.231Z"
   },
   {
    "duration": 27,
    "start_time": "2022-05-13T12:28:02.257Z"
   },
   {
    "duration": 19,
    "start_time": "2022-05-13T12:28:02.286Z"
   },
   {
    "duration": 26,
    "start_time": "2022-05-13T12:28:02.307Z"
   },
   {
    "duration": 19,
    "start_time": "2022-05-13T12:28:02.335Z"
   },
   {
    "duration": 40,
    "start_time": "2022-05-13T12:28:02.356Z"
   },
   {
    "duration": 13,
    "start_time": "2022-05-13T12:28:02.398Z"
   },
   {
    "duration": 387,
    "start_time": "2022-05-13T12:28:02.412Z"
   },
   {
    "duration": 5,
    "start_time": "2022-05-13T12:28:02.801Z"
   },
   {
    "duration": 19,
    "start_time": "2022-05-13T12:31:12.822Z"
   },
   {
    "duration": 15,
    "start_time": "2022-05-13T12:31:26.904Z"
   },
   {
    "duration": 25,
    "start_time": "2022-05-13T12:31:34.733Z"
   },
   {
    "duration": 36,
    "start_time": "2022-05-13T12:31:48.092Z"
   },
   {
    "duration": 32,
    "start_time": "2022-05-13T12:31:56.241Z"
   },
   {
    "duration": 134,
    "start_time": "2022-05-13T12:32:31.892Z"
   },
   {
    "duration": 124,
    "start_time": "2022-05-13T12:33:58.531Z"
   },
   {
    "duration": 47,
    "start_time": "2022-05-13T12:34:12.055Z"
   },
   {
    "duration": 66,
    "start_time": "2022-05-13T12:34:19.576Z"
   },
   {
    "duration": 88,
    "start_time": "2022-05-13T12:34:38.943Z"
   },
   {
    "duration": 88,
    "start_time": "2022-05-13T12:34:48.285Z"
   },
   {
    "duration": 38,
    "start_time": "2022-05-13T12:35:08.579Z"
   },
   {
    "duration": 36,
    "start_time": "2022-05-13T12:35:19.912Z"
   },
   {
    "duration": 645,
    "start_time": "2022-05-13T12:35:48.904Z"
   },
   {
    "duration": 144,
    "start_time": "2022-05-13T12:35:49.551Z"
   },
   {
    "duration": 23,
    "start_time": "2022-05-13T12:35:49.697Z"
   },
   {
    "duration": 38,
    "start_time": "2022-05-13T12:35:49.722Z"
   },
   {
    "duration": 15,
    "start_time": "2022-05-13T12:35:49.763Z"
   },
   {
    "duration": 50,
    "start_time": "2022-05-13T12:35:49.779Z"
   },
   {
    "duration": 10,
    "start_time": "2022-05-13T12:35:49.831Z"
   },
   {
    "duration": 55,
    "start_time": "2022-05-13T12:35:49.847Z"
   },
   {
    "duration": 4,
    "start_time": "2022-05-13T12:35:49.904Z"
   },
   {
    "duration": 45,
    "start_time": "2022-05-13T12:35:49.909Z"
   },
   {
    "duration": 70,
    "start_time": "2022-05-13T12:35:49.956Z"
   },
   {
    "duration": 28,
    "start_time": "2022-05-13T12:35:50.028Z"
   },
   {
    "duration": 56,
    "start_time": "2022-05-13T12:35:50.058Z"
   },
   {
    "duration": 10,
    "start_time": "2022-05-13T12:35:50.117Z"
   },
   {
    "duration": 24,
    "start_time": "2022-05-13T12:35:50.129Z"
   },
   {
    "duration": 41,
    "start_time": "2022-05-13T12:35:50.155Z"
   },
   {
    "duration": 18,
    "start_time": "2022-05-13T12:35:50.198Z"
   },
   {
    "duration": 36,
    "start_time": "2022-05-13T12:35:50.219Z"
   },
   {
    "duration": 58,
    "start_time": "2022-05-13T12:35:50.257Z"
   },
   {
    "duration": 11,
    "start_time": "2022-05-13T12:35:50.317Z"
   },
   {
    "duration": 572,
    "start_time": "2022-05-13T12:35:50.330Z"
   },
   {
    "duration": 27,
    "start_time": "2022-05-13T12:35:50.904Z"
   },
   {
    "duration": 590,
    "start_time": "2022-05-13T12:36:32.925Z"
   },
   {
    "duration": 160,
    "start_time": "2022-05-13T12:36:33.517Z"
   },
   {
    "duration": 20,
    "start_time": "2022-05-13T12:36:33.681Z"
   },
   {
    "duration": 20,
    "start_time": "2022-05-13T12:36:33.703Z"
   },
   {
    "duration": 5,
    "start_time": "2022-05-13T12:36:33.726Z"
   },
   {
    "duration": 62,
    "start_time": "2022-05-13T12:36:33.733Z"
   },
   {
    "duration": 5,
    "start_time": "2022-05-13T12:36:33.797Z"
   },
   {
    "duration": 20,
    "start_time": "2022-05-13T12:36:33.804Z"
   },
   {
    "duration": 3,
    "start_time": "2022-05-13T12:36:33.826Z"
   },
   {
    "duration": 33,
    "start_time": "2022-05-13T12:36:33.831Z"
   },
   {
    "duration": 28,
    "start_time": "2022-05-13T12:36:33.866Z"
   },
   {
    "duration": 17,
    "start_time": "2022-05-13T12:36:33.896Z"
   },
   {
    "duration": 36,
    "start_time": "2022-05-13T12:36:33.914Z"
   },
   {
    "duration": 5,
    "start_time": "2022-05-13T12:36:33.957Z"
   },
   {
    "duration": 34,
    "start_time": "2022-05-13T12:36:33.964Z"
   },
   {
    "duration": 7,
    "start_time": "2022-05-13T12:36:34.000Z"
   },
   {
    "duration": 5,
    "start_time": "2022-05-13T12:36:34.009Z"
   },
   {
    "duration": 13,
    "start_time": "2022-05-13T12:36:34.015Z"
   },
   {
    "duration": 50,
    "start_time": "2022-05-13T12:36:34.030Z"
   },
   {
    "duration": 16,
    "start_time": "2022-05-13T12:36:34.082Z"
   },
   {
    "duration": 411,
    "start_time": "2022-05-13T12:36:34.099Z"
   },
   {
    "duration": 18,
    "start_time": "2022-05-13T12:36:34.512Z"
   },
   {
    "duration": 30,
    "start_time": "2022-05-13T13:01:18.156Z"
   },
   {
    "duration": 18,
    "start_time": "2022-05-13T13:01:28.800Z"
   },
   {
    "duration": 17,
    "start_time": "2022-05-13T13:01:52.899Z"
   },
   {
    "duration": 836,
    "start_time": "2022-05-13T13:09:41.291Z"
   },
   {
    "duration": 207,
    "start_time": "2022-05-13T13:10:31.682Z"
   },
   {
    "duration": 432,
    "start_time": "2022-05-13T13:12:03.269Z"
   },
   {
    "duration": 206,
    "start_time": "2022-05-13T13:12:39.831Z"
   },
   {
    "duration": 213,
    "start_time": "2022-05-13T13:12:43.368Z"
   },
   {
    "duration": 3510,
    "start_time": "2022-05-13T13:13:09.931Z"
   },
   {
    "duration": 210,
    "start_time": "2022-05-13T13:13:37.641Z"
   },
   {
    "duration": 195,
    "start_time": "2022-05-13T13:13:48.692Z"
   },
   {
    "duration": 17,
    "start_time": "2022-05-13T13:13:59.752Z"
   },
   {
    "duration": 19,
    "start_time": "2022-05-13T13:16:57.255Z"
   },
   {
    "duration": 1486,
    "start_time": "2022-05-13T13:17:15.344Z"
   },
   {
    "duration": 6,
    "start_time": "2022-05-13T13:17:29.313Z"
   },
   {
    "duration": 8,
    "start_time": "2022-05-13T13:20:13.842Z"
   },
   {
    "duration": 22,
    "start_time": "2022-05-13T13:20:49.073Z"
   },
   {
    "duration": 5,
    "start_time": "2022-05-13T13:21:04.423Z"
   },
   {
    "duration": 19,
    "start_time": "2022-05-13T13:21:09.555Z"
   },
   {
    "duration": 204,
    "start_time": "2022-05-13T13:22:14.343Z"
   },
   {
    "duration": 246,
    "start_time": "2022-05-13T13:22:35.627Z"
   },
   {
    "duration": 205,
    "start_time": "2022-05-13T13:22:40.625Z"
   },
   {
    "duration": 6,
    "start_time": "2022-05-13T13:24:55.673Z"
   },
   {
    "duration": 5,
    "start_time": "2022-05-13T13:25:02.900Z"
   },
   {
    "duration": 24,
    "start_time": "2022-05-13T13:25:15.735Z"
   },
   {
    "duration": 5,
    "start_time": "2022-05-13T13:25:27.014Z"
   },
   {
    "duration": 15,
    "start_time": "2022-05-13T13:26:25.146Z"
   },
   {
    "duration": 292,
    "start_time": "2022-05-13T13:27:49.894Z"
   },
   {
    "duration": 17,
    "start_time": "2022-05-13T13:28:34.343Z"
   },
   {
    "duration": 208,
    "start_time": "2022-05-13T13:32:27.991Z"
   },
   {
    "duration": 221,
    "start_time": "2022-05-13T13:32:38.603Z"
   },
   {
    "duration": 235,
    "start_time": "2022-05-13T13:32:44.431Z"
   },
   {
    "duration": 9,
    "start_time": "2022-05-13T13:33:33.733Z"
   },
   {
    "duration": 186,
    "start_time": "2022-05-13T13:33:56.603Z"
   },
   {
    "duration": 232,
    "start_time": "2022-05-13T13:34:03.720Z"
   },
   {
    "duration": 151,
    "start_time": "2022-05-13T13:34:13.101Z"
   },
   {
    "duration": 153,
    "start_time": "2022-05-13T13:34:16.855Z"
   },
   {
    "duration": 240,
    "start_time": "2022-05-13T13:34:20.333Z"
   },
   {
    "duration": 164,
    "start_time": "2022-05-13T13:34:25.713Z"
   },
   {
    "duration": 247,
    "start_time": "2022-05-13T13:34:31.472Z"
   },
   {
    "duration": 167,
    "start_time": "2022-05-13T13:35:10.273Z"
   },
   {
    "duration": 9,
    "start_time": "2022-05-13T13:36:07.811Z"
   },
   {
    "duration": 244,
    "start_time": "2022-05-13T13:36:15.531Z"
   },
   {
    "duration": 10,
    "start_time": "2022-05-13T13:37:30.070Z"
   },
   {
    "duration": 180,
    "start_time": "2022-05-13T13:37:49.157Z"
   },
   {
    "duration": 164,
    "start_time": "2022-05-13T13:37:58.337Z"
   },
   {
    "duration": 160,
    "start_time": "2022-05-13T13:38:01.900Z"
   },
   {
    "duration": 293,
    "start_time": "2022-05-13T13:38:10.431Z"
   },
   {
    "duration": 192,
    "start_time": "2022-05-13T13:38:36.080Z"
   },
   {
    "duration": 73,
    "start_time": "2022-05-14T07:52:38.181Z"
   },
   {
    "duration": 744,
    "start_time": "2022-05-14T07:52:45.237Z"
   },
   {
    "duration": 132,
    "start_time": "2022-05-14T07:52:45.984Z"
   },
   {
    "duration": 22,
    "start_time": "2022-05-14T07:52:46.118Z"
   },
   {
    "duration": 43,
    "start_time": "2022-05-14T07:52:46.143Z"
   },
   {
    "duration": 7,
    "start_time": "2022-05-14T07:52:46.189Z"
   },
   {
    "duration": 17,
    "start_time": "2022-05-14T07:52:46.198Z"
   },
   {
    "duration": 7,
    "start_time": "2022-05-14T07:52:46.218Z"
   },
   {
    "duration": 67,
    "start_time": "2022-05-14T07:52:46.228Z"
   },
   {
    "duration": 5,
    "start_time": "2022-05-14T07:52:46.297Z"
   },
   {
    "duration": 25,
    "start_time": "2022-05-14T07:52:46.304Z"
   },
   {
    "duration": 56,
    "start_time": "2022-05-14T07:52:46.332Z"
   },
   {
    "duration": 25,
    "start_time": "2022-05-14T07:52:46.390Z"
   },
   {
    "duration": 65,
    "start_time": "2022-05-14T07:52:46.417Z"
   },
   {
    "duration": 6,
    "start_time": "2022-05-14T07:52:46.486Z"
   },
   {
    "duration": 9,
    "start_time": "2022-05-14T07:52:46.494Z"
   },
   {
    "duration": 6,
    "start_time": "2022-05-14T07:52:46.506Z"
   },
   {
    "duration": 5,
    "start_time": "2022-05-14T07:52:46.514Z"
   },
   {
    "duration": 20,
    "start_time": "2022-05-14T07:52:46.521Z"
   },
   {
    "duration": 34,
    "start_time": "2022-05-14T07:52:46.581Z"
   },
   {
    "duration": 20,
    "start_time": "2022-05-14T07:52:46.617Z"
   },
   {
    "duration": 620,
    "start_time": "2022-05-14T07:52:46.639Z"
   },
   {
    "duration": 40,
    "start_time": "2022-05-14T07:52:47.261Z"
   },
   {
    "duration": 11,
    "start_time": "2022-05-14T07:52:47.303Z"
   },
   {
    "duration": 1021,
    "start_time": "2022-05-14T07:52:47.316Z"
   },
   {
    "duration": 14,
    "start_time": "2022-05-14T07:52:48.339Z"
   },
   {
    "duration": 28,
    "start_time": "2022-05-14T07:52:48.355Z"
   },
   {
    "duration": 17,
    "start_time": "2022-05-14T07:52:48.385Z"
   },
   {
    "duration": 332,
    "start_time": "2022-05-14T07:52:48.404Z"
   },
   {
    "duration": 12,
    "start_time": "2022-05-14T07:52:48.738Z"
   },
   {
    "duration": 292,
    "start_time": "2022-05-14T07:52:48.752Z"
   },
   {
    "duration": 14,
    "start_time": "2022-05-14T07:52:49.046Z"
   },
   {
    "duration": 327,
    "start_time": "2022-05-14T07:52:49.081Z"
   },
   {
    "duration": 8,
    "start_time": "2022-05-14T07:52:49.411Z"
   },
   {
    "duration": 335,
    "start_time": "2022-05-14T07:55:04.734Z"
   },
   {
    "duration": 330,
    "start_time": "2022-05-14T07:55:17.671Z"
   },
   {
    "duration": 37,
    "start_time": "2022-05-14T07:57:28.208Z"
   },
   {
    "duration": 616,
    "start_time": "2022-05-14T07:57:44.874Z"
   },
   {
    "duration": 135,
    "start_time": "2022-05-14T07:57:45.492Z"
   },
   {
    "duration": 24,
    "start_time": "2022-05-14T07:57:45.630Z"
   },
   {
    "duration": 46,
    "start_time": "2022-05-14T07:57:45.658Z"
   },
   {
    "duration": 37,
    "start_time": "2022-05-14T07:57:45.707Z"
   },
   {
    "duration": 7,
    "start_time": "2022-05-14T07:57:45.746Z"
   },
   {
    "duration": 16,
    "start_time": "2022-05-14T07:57:45.782Z"
   },
   {
    "duration": 8,
    "start_time": "2022-05-14T07:57:45.800Z"
   },
   {
    "duration": 21,
    "start_time": "2022-05-14T07:57:45.810Z"
   },
   {
    "duration": 5,
    "start_time": "2022-05-14T07:57:45.834Z"
   },
   {
    "duration": 61,
    "start_time": "2022-05-14T07:57:45.841Z"
   },
   {
    "duration": 34,
    "start_time": "2022-05-14T07:57:45.904Z"
   },
   {
    "duration": 52,
    "start_time": "2022-05-14T07:57:45.940Z"
   },
   {
    "duration": 43,
    "start_time": "2022-05-14T07:57:45.995Z"
   },
   {
    "duration": 6,
    "start_time": "2022-05-14T07:57:46.040Z"
   },
   {
    "duration": 35,
    "start_time": "2022-05-14T07:57:46.047Z"
   },
   {
    "duration": 8,
    "start_time": "2022-05-14T07:57:46.084Z"
   },
   {
    "duration": 5,
    "start_time": "2022-05-14T07:57:46.094Z"
   },
   {
    "duration": 22,
    "start_time": "2022-05-14T07:57:46.101Z"
   },
   {
    "duration": 61,
    "start_time": "2022-05-14T07:57:46.125Z"
   },
   {
    "duration": 18,
    "start_time": "2022-05-14T07:57:46.188Z"
   },
   {
    "duration": 605,
    "start_time": "2022-05-14T07:57:46.209Z"
   },
   {
    "duration": 24,
    "start_time": "2022-05-14T07:57:46.816Z"
   },
   {
    "duration": 11,
    "start_time": "2022-05-14T07:57:46.842Z"
   },
   {
    "duration": 750,
    "start_time": "2022-05-14T07:57:46.855Z"
   },
   {
    "duration": 13,
    "start_time": "2022-05-14T07:57:47.607Z"
   },
   {
    "duration": 63,
    "start_time": "2022-05-14T07:57:47.622Z"
   },
   {
    "duration": 17,
    "start_time": "2022-05-14T07:57:47.690Z"
   },
   {
    "duration": 696,
    "start_time": "2022-05-14T07:57:47.709Z"
   },
   {
    "duration": 12,
    "start_time": "2022-05-14T07:57:48.407Z"
   },
   {
    "duration": 564,
    "start_time": "2022-05-14T07:57:48.422Z"
   },
   {
    "duration": 12,
    "start_time": "2022-05-14T07:57:48.988Z"
   },
   {
    "duration": 612,
    "start_time": "2022-05-14T07:57:49.002Z"
   },
   {
    "duration": 7,
    "start_time": "2022-05-14T07:57:49.616Z"
   },
   {
    "duration": 663,
    "start_time": "2022-05-14T07:57:49.681Z"
   },
   {
    "duration": 38,
    "start_time": "2022-05-14T07:58:27.530Z"
   },
   {
    "duration": 36,
    "start_time": "2022-05-14T08:02:55.435Z"
   },
   {
    "duration": 469,
    "start_time": "2022-05-14T08:08:27.513Z"
   },
   {
    "duration": 365,
    "start_time": "2022-05-14T08:08:33.888Z"
   },
   {
    "duration": 116,
    "start_time": "2022-05-14T08:17:47.899Z"
   },
   {
    "duration": 7,
    "start_time": "2022-05-14T08:26:07.219Z"
   },
   {
    "duration": 112,
    "start_time": "2022-05-14T08:26:20.215Z"
   },
   {
    "duration": 23,
    "start_time": "2022-05-14T08:26:24.621Z"
   },
   {
    "duration": 6,
    "start_time": "2022-05-14T08:26:34.475Z"
   },
   {
    "duration": 6,
    "start_time": "2022-05-14T08:26:51.943Z"
   },
   {
    "duration": 24,
    "start_time": "2022-05-14T08:27:00.944Z"
   },
   {
    "duration": 7,
    "start_time": "2022-05-14T08:27:11.911Z"
   },
   {
    "duration": 11,
    "start_time": "2022-05-14T08:28:03.232Z"
   },
   {
    "duration": 49,
    "start_time": "2022-05-14T10:17:52.893Z"
   },
   {
    "duration": 473,
    "start_time": "2022-05-14T10:18:12.019Z"
   },
   {
    "duration": 103,
    "start_time": "2022-05-14T10:18:12.494Z"
   },
   {
    "duration": 16,
    "start_time": "2022-05-14T10:18:12.598Z"
   },
   {
    "duration": 17,
    "start_time": "2022-05-14T10:18:12.617Z"
   },
   {
    "duration": 55,
    "start_time": "2022-05-14T10:18:12.635Z"
   },
   {
    "duration": 5,
    "start_time": "2022-05-14T10:18:12.692Z"
   },
   {
    "duration": 14,
    "start_time": "2022-05-14T10:18:12.698Z"
   },
   {
    "duration": 8,
    "start_time": "2022-05-14T10:18:12.714Z"
   },
   {
    "duration": 16,
    "start_time": "2022-05-14T10:18:12.724Z"
   },
   {
    "duration": 4,
    "start_time": "2022-05-14T10:18:12.777Z"
   },
   {
    "duration": 22,
    "start_time": "2022-05-14T10:18:12.784Z"
   },
   {
    "duration": 32,
    "start_time": "2022-05-14T10:18:12.808Z"
   },
   {
    "duration": 35,
    "start_time": "2022-05-14T10:18:12.842Z"
   },
   {
    "duration": 33,
    "start_time": "2022-05-14T10:18:12.878Z"
   },
   {
    "duration": 4,
    "start_time": "2022-05-14T10:18:12.913Z"
   },
   {
    "duration": 19,
    "start_time": "2022-05-14T10:18:12.918Z"
   },
   {
    "duration": 21,
    "start_time": "2022-05-14T10:18:12.939Z"
   },
   {
    "duration": 26,
    "start_time": "2022-05-14T10:18:12.962Z"
   },
   {
    "duration": 39,
    "start_time": "2022-05-14T10:18:12.989Z"
   },
   {
    "duration": 44,
    "start_time": "2022-05-14T10:18:13.030Z"
   },
   {
    "duration": 36,
    "start_time": "2022-05-14T10:18:13.076Z"
   },
   {
    "duration": 14,
    "start_time": "2022-05-14T10:18:13.113Z"
   },
   {
    "duration": 384,
    "start_time": "2022-05-14T10:18:13.129Z"
   },
   {
    "duration": 18,
    "start_time": "2022-05-14T10:18:13.516Z"
   },
   {
    "duration": 9,
    "start_time": "2022-05-14T10:18:13.536Z"
   },
   {
    "duration": 759,
    "start_time": "2022-05-14T10:18:13.547Z"
   },
   {
    "duration": 10,
    "start_time": "2022-05-14T10:18:14.308Z"
   },
   {
    "duration": 6,
    "start_time": "2022-05-14T10:18:14.322Z"
   },
   {
    "duration": 14,
    "start_time": "2022-05-14T10:18:14.329Z"
   },
   {
    "duration": 215,
    "start_time": "2022-05-14T10:18:14.368Z"
   },
   {
    "duration": 10,
    "start_time": "2022-05-14T10:18:14.585Z"
   },
   {
    "duration": 195,
    "start_time": "2022-05-14T10:18:14.597Z"
   },
   {
    "duration": 11,
    "start_time": "2022-05-14T10:18:14.793Z"
   },
   {
    "duration": 321,
    "start_time": "2022-05-14T10:18:14.806Z"
   },
   {
    "duration": 7,
    "start_time": "2022-05-14T10:18:15.130Z"
   },
   {
    "duration": 267,
    "start_time": "2022-05-14T10:18:15.139Z"
   },
   {
    "duration": 10,
    "start_time": "2022-05-14T10:18:15.408Z"
   },
   {
    "duration": 99,
    "start_time": "2022-05-14T10:18:15.420Z"
   },
   {
    "duration": 12,
    "start_time": "2022-05-14T10:18:37.460Z"
   },
   {
    "duration": 229,
    "start_time": "2022-05-14T10:18:45.631Z"
   },
   {
    "duration": 245,
    "start_time": "2022-05-14T10:18:56.084Z"
   },
   {
    "duration": 229,
    "start_time": "2022-05-14T10:19:03.293Z"
   },
   {
    "duration": 156,
    "start_time": "2022-05-14T10:21:44.203Z"
   },
   {
    "duration": 11,
    "start_time": "2022-05-14T10:22:07.435Z"
   },
   {
    "duration": 208,
    "start_time": "2022-05-14T10:22:20.768Z"
   },
   {
    "duration": 993,
    "start_time": "2022-05-14T10:26:02.163Z"
   },
   {
    "duration": 9,
    "start_time": "2022-05-14T10:26:21.706Z"
   },
   {
    "duration": 147,
    "start_time": "2022-05-14T10:26:38.077Z"
   },
   {
    "duration": 140,
    "start_time": "2022-05-14T10:26:47.997Z"
   },
   {
    "duration": 125,
    "start_time": "2022-05-14T10:27:01.448Z"
   },
   {
    "duration": 119,
    "start_time": "2022-05-14T10:28:00.663Z"
   },
   {
    "duration": 166,
    "start_time": "2022-05-14T10:40:27.808Z"
   },
   {
    "duration": 411,
    "start_time": "2022-05-14T10:40:43.046Z"
   },
   {
    "duration": 177,
    "start_time": "2022-05-14T10:42:17.593Z"
   },
   {
    "duration": 10,
    "start_time": "2022-05-14T10:44:01.282Z"
   },
   {
    "duration": 66,
    "start_time": "2022-05-14T10:49:15.593Z"
   },
   {
    "duration": 176,
    "start_time": "2022-05-14T10:59:01.450Z"
   },
   {
    "duration": 18,
    "start_time": "2022-05-14T10:59:10.839Z"
   },
   {
    "duration": 14,
    "start_time": "2022-05-14T10:59:16.187Z"
   },
   {
    "duration": 17,
    "start_time": "2022-05-14T10:59:32.547Z"
   },
   {
    "duration": 10,
    "start_time": "2022-05-14T11:27:57.025Z"
   },
   {
    "duration": 473,
    "start_time": "2022-05-14T11:28:56.144Z"
   },
   {
    "duration": 383,
    "start_time": "2022-05-14T11:29:08.895Z"
   },
   {
    "duration": 781,
    "start_time": "2022-05-14T11:29:19.609Z"
   },
   {
    "duration": 866,
    "start_time": "2022-05-14T11:29:32.541Z"
   },
   {
    "duration": 228,
    "start_time": "2022-05-14T11:29:39.916Z"
   },
   {
    "duration": 8,
    "start_time": "2022-05-14T11:30:21.536Z"
   },
   {
    "duration": 224,
    "start_time": "2022-05-14T11:30:44.836Z"
   },
   {
    "duration": 527,
    "start_time": "2022-05-14T11:30:58.154Z"
   },
   {
    "duration": 493,
    "start_time": "2022-05-14T11:31:03.956Z"
   },
   {
    "duration": 487,
    "start_time": "2022-05-14T11:35:00.546Z"
   },
   {
    "duration": 626,
    "start_time": "2022-05-14T11:35:18.289Z"
   },
   {
    "duration": 108,
    "start_time": "2022-05-14T14:38:05.147Z"
   },
   {
    "duration": 105,
    "start_time": "2022-05-14T14:39:04.819Z"
   },
   {
    "duration": 107,
    "start_time": "2022-05-14T14:39:49.380Z"
   },
   {
    "duration": 42,
    "start_time": "2022-05-14T14:40:03.013Z"
   },
   {
    "duration": 464,
    "start_time": "2022-05-14T14:40:09.190Z"
   },
   {
    "duration": 91,
    "start_time": "2022-05-14T14:40:09.656Z"
   },
   {
    "duration": 28,
    "start_time": "2022-05-14T14:40:09.749Z"
   },
   {
    "duration": 17,
    "start_time": "2022-05-14T14:40:09.780Z"
   },
   {
    "duration": 27,
    "start_time": "2022-05-14T14:40:09.798Z"
   },
   {
    "duration": 5,
    "start_time": "2022-05-14T14:40:09.827Z"
   },
   {
    "duration": 42,
    "start_time": "2022-05-14T14:40:09.834Z"
   },
   {
    "duration": 8,
    "start_time": "2022-05-14T14:40:09.878Z"
   },
   {
    "duration": 18,
    "start_time": "2022-05-14T14:40:09.888Z"
   },
   {
    "duration": 3,
    "start_time": "2022-05-14T14:40:09.910Z"
   },
   {
    "duration": 16,
    "start_time": "2022-05-14T14:40:09.915Z"
   },
   {
    "duration": 55,
    "start_time": "2022-05-14T14:40:09.933Z"
   },
   {
    "duration": 17,
    "start_time": "2022-05-14T14:40:09.990Z"
   },
   {
    "duration": 31,
    "start_time": "2022-05-14T14:40:10.008Z"
   },
   {
    "duration": 4,
    "start_time": "2022-05-14T14:40:10.040Z"
   },
   {
    "duration": 6,
    "start_time": "2022-05-14T14:40:10.070Z"
   },
   {
    "duration": 8,
    "start_time": "2022-05-14T14:40:10.077Z"
   },
   {
    "duration": 7,
    "start_time": "2022-05-14T14:40:10.086Z"
   },
   {
    "duration": 9,
    "start_time": "2022-05-14T14:40:10.094Z"
   },
   {
    "duration": 14,
    "start_time": "2022-05-14T14:40:10.105Z"
   },
   {
    "duration": 24,
    "start_time": "2022-05-14T14:40:10.120Z"
   },
   {
    "duration": 38,
    "start_time": "2022-05-14T14:40:10.145Z"
   },
   {
    "duration": 343,
    "start_time": "2022-05-14T14:40:10.184Z"
   },
   {
    "duration": 17,
    "start_time": "2022-05-14T14:40:10.528Z"
   },
   {
    "duration": 8,
    "start_time": "2022-05-14T14:40:10.547Z"
   },
   {
    "duration": 969,
    "start_time": "2022-05-14T14:40:10.556Z"
   },
   {
    "duration": 12,
    "start_time": "2022-05-14T14:40:11.527Z"
   },
   {
    "duration": 6,
    "start_time": "2022-05-14T14:40:11.543Z"
   },
   {
    "duration": 30,
    "start_time": "2022-05-14T14:40:11.551Z"
   },
   {
    "duration": 178,
    "start_time": "2022-05-14T14:40:11.582Z"
   },
   {
    "duration": 15,
    "start_time": "2022-05-14T14:40:11.762Z"
   },
   {
    "duration": 161,
    "start_time": "2022-05-14T14:40:11.778Z"
   },
   {
    "duration": 8,
    "start_time": "2022-05-14T14:40:11.941Z"
   },
   {
    "duration": 185,
    "start_time": "2022-05-14T14:40:11.951Z"
   },
   {
    "duration": 5,
    "start_time": "2022-05-14T14:40:12.138Z"
   },
   {
    "duration": 216,
    "start_time": "2022-05-14T14:40:12.144Z"
   },
   {
    "duration": 13,
    "start_time": "2022-05-14T14:40:12.362Z"
   },
   {
    "duration": 197,
    "start_time": "2022-05-14T14:40:12.377Z"
   },
   {
    "duration": 104,
    "start_time": "2022-05-14T14:40:12.576Z"
   },
   {
    "duration": 270,
    "start_time": "2022-05-14T14:40:12.681Z"
   },
   {
    "duration": 87,
    "start_time": "2022-05-14T14:40:12.952Z"
   },
   {
    "duration": 468,
    "start_time": "2022-05-14T14:40:13.041Z"
   },
   {
    "duration": 105,
    "start_time": "2022-05-14T14:40:13.510Z"
   },
   {
    "duration": 5,
    "start_time": "2022-05-14T14:40:13.617Z"
   },
   {
    "duration": 113,
    "start_time": "2022-05-14T14:40:36.046Z"
   },
   {
    "duration": 6,
    "start_time": "2022-05-14T14:43:38.378Z"
   },
   {
    "duration": 5,
    "start_time": "2022-05-14T14:43:52.683Z"
   },
   {
    "duration": 171,
    "start_time": "2022-05-14T14:47:52.533Z"
   },
   {
    "duration": 175,
    "start_time": "2022-05-14T14:48:23.879Z"
   },
   {
    "duration": 179,
    "start_time": "2022-05-14T14:54:21.519Z"
   },
   {
    "duration": 181,
    "start_time": "2022-05-14T14:54:28.360Z"
   },
   {
    "duration": 167,
    "start_time": "2022-05-14T14:54:35.509Z"
   },
   {
    "duration": 163,
    "start_time": "2022-05-14T14:54:55.682Z"
   },
   {
    "duration": 68,
    "start_time": "2022-05-14T14:57:26.515Z"
   },
   {
    "duration": 9,
    "start_time": "2022-05-14T14:57:36.887Z"
   },
   {
    "duration": 8,
    "start_time": "2022-05-14T14:57:39.740Z"
   },
   {
    "duration": 168,
    "start_time": "2022-05-14T14:58:03.859Z"
   },
   {
    "duration": 11,
    "start_time": "2022-05-14T15:03:38.724Z"
   },
   {
    "duration": 15,
    "start_time": "2022-05-14T15:04:31.885Z"
   },
   {
    "duration": 228,
    "start_time": "2022-05-14T15:05:23.913Z"
   },
   {
    "duration": 130,
    "start_time": "2022-05-14T15:06:57.558Z"
   },
   {
    "duration": 512,
    "start_time": "2022-05-14T15:11:02.126Z"
   },
   {
    "duration": 133,
    "start_time": "2022-05-14T15:12:31.852Z"
   },
   {
    "duration": 124,
    "start_time": "2022-05-14T15:14:43.731Z"
   },
   {
    "duration": 127,
    "start_time": "2022-05-14T15:14:50.821Z"
   },
   {
    "duration": 179,
    "start_time": "2022-05-14T15:17:23.569Z"
   },
   {
    "duration": 221,
    "start_time": "2022-05-14T15:18:33.503Z"
   },
   {
    "duration": 508,
    "start_time": "2022-05-14T15:19:52.749Z"
   },
   {
    "duration": 91,
    "start_time": "2022-05-14T15:19:53.259Z"
   },
   {
    "duration": 24,
    "start_time": "2022-05-14T15:19:53.352Z"
   },
   {
    "duration": 16,
    "start_time": "2022-05-14T15:19:53.378Z"
   },
   {
    "duration": 24,
    "start_time": "2022-05-14T15:19:53.395Z"
   },
   {
    "duration": 7,
    "start_time": "2022-05-14T15:19:53.421Z"
   },
   {
    "duration": 16,
    "start_time": "2022-05-14T15:19:53.429Z"
   },
   {
    "duration": 7,
    "start_time": "2022-05-14T15:19:53.470Z"
   },
   {
    "duration": 15,
    "start_time": "2022-05-14T15:19:53.479Z"
   },
   {
    "duration": 12,
    "start_time": "2022-05-14T15:19:53.497Z"
   },
   {
    "duration": 16,
    "start_time": "2022-05-14T15:19:53.510Z"
   },
   {
    "duration": 22,
    "start_time": "2022-05-14T15:19:53.527Z"
   },
   {
    "duration": 15,
    "start_time": "2022-05-14T15:19:53.571Z"
   },
   {
    "duration": 28,
    "start_time": "2022-05-14T15:19:53.587Z"
   },
   {
    "duration": 4,
    "start_time": "2022-05-14T15:19:53.617Z"
   },
   {
    "duration": 6,
    "start_time": "2022-05-14T15:19:53.623Z"
   },
   {
    "duration": 5,
    "start_time": "2022-05-14T15:19:53.631Z"
   },
   {
    "duration": 34,
    "start_time": "2022-05-14T15:19:53.638Z"
   },
   {
    "duration": 7,
    "start_time": "2022-05-14T15:19:53.674Z"
   },
   {
    "duration": 16,
    "start_time": "2022-05-14T15:19:53.683Z"
   },
   {
    "duration": 24,
    "start_time": "2022-05-14T15:19:53.701Z"
   },
   {
    "duration": 12,
    "start_time": "2022-05-14T15:19:53.728Z"
   },
   {
    "duration": 328,
    "start_time": "2022-05-14T15:19:53.772Z"
   },
   {
    "duration": 18,
    "start_time": "2022-05-14T15:19:54.101Z"
   },
   {
    "duration": 8,
    "start_time": "2022-05-14T15:19:54.121Z"
   },
   {
    "duration": 468,
    "start_time": "2022-05-14T15:19:54.131Z"
   },
   {
    "duration": 9,
    "start_time": "2022-05-14T15:19:54.600Z"
   },
   {
    "duration": 4,
    "start_time": "2022-05-14T15:19:54.613Z"
   },
   {
    "duration": 10,
    "start_time": "2022-05-14T15:19:54.671Z"
   },
   {
    "duration": 420,
    "start_time": "2022-05-14T15:19:54.683Z"
   },
   {
    "duration": 8,
    "start_time": "2022-05-14T15:19:55.105Z"
   },
   {
    "duration": 301,
    "start_time": "2022-05-14T15:19:55.115Z"
   },
   {
    "duration": 60,
    "start_time": "2022-05-14T15:19:55.417Z"
   },
   {
    "duration": 326,
    "start_time": "2022-05-14T15:19:55.478Z"
   },
   {
    "duration": 5,
    "start_time": "2022-05-14T15:19:55.805Z"
   },
   {
    "duration": 404,
    "start_time": "2022-05-14T15:19:55.811Z"
   },
   {
    "duration": 61,
    "start_time": "2022-05-14T15:19:56.216Z"
   },
   {
    "duration": 333,
    "start_time": "2022-05-14T15:19:56.279Z"
   },
   {
    "duration": 197,
    "start_time": "2022-05-14T15:19:56.614Z"
   },
   {
    "duration": 308,
    "start_time": "2022-05-14T15:19:56.812Z"
   },
   {
    "duration": 13,
    "start_time": "2022-05-14T15:19:57.121Z"
   },
   {
    "duration": 838,
    "start_time": "2022-05-14T15:19:57.136Z"
   },
   {
    "duration": 152,
    "start_time": "2022-05-14T15:19:57.976Z"
   },
   {
    "duration": 172,
    "start_time": "2022-05-14T15:19:58.129Z"
   },
   {
    "duration": 145,
    "start_time": "2022-05-14T15:19:58.303Z"
   },
   {
    "duration": 139,
    "start_time": "2022-05-14T15:19:58.450Z"
   },
   {
    "duration": 222,
    "start_time": "2022-05-14T15:19:58.590Z"
   },
   {
    "duration": 152,
    "start_time": "2022-05-14T15:20:24.110Z"
   },
   {
    "duration": 175,
    "start_time": "2022-05-14T15:20:27.796Z"
   },
   {
    "duration": 196,
    "start_time": "2022-05-14T15:21:19.626Z"
   },
   {
    "duration": 258,
    "start_time": "2022-05-14T15:22:30.230Z"
   },
   {
    "duration": 271,
    "start_time": "2022-05-14T15:23:27.409Z"
   },
   {
    "duration": 176,
    "start_time": "2022-05-14T15:23:52.590Z"
   },
   {
    "duration": 5,
    "start_time": "2022-05-14T15:24:46.028Z"
   },
   {
    "duration": 633,
    "start_time": "2022-05-14T15:24:51.556Z"
   },
   {
    "duration": 122,
    "start_time": "2022-05-14T15:24:52.192Z"
   },
   {
    "duration": 20,
    "start_time": "2022-05-14T15:24:52.316Z"
   },
   {
    "duration": 37,
    "start_time": "2022-05-14T15:24:52.339Z"
   },
   {
    "duration": 25,
    "start_time": "2022-05-14T15:24:52.378Z"
   },
   {
    "duration": 5,
    "start_time": "2022-05-14T15:24:52.405Z"
   },
   {
    "duration": 12,
    "start_time": "2022-05-14T15:24:52.412Z"
   },
   {
    "duration": 6,
    "start_time": "2022-05-14T15:24:52.426Z"
   },
   {
    "duration": 46,
    "start_time": "2022-05-14T15:24:52.434Z"
   },
   {
    "duration": 3,
    "start_time": "2022-05-14T15:24:52.484Z"
   },
   {
    "duration": 16,
    "start_time": "2022-05-14T15:24:52.489Z"
   },
   {
    "duration": 21,
    "start_time": "2022-05-14T15:24:52.508Z"
   },
   {
    "duration": 49,
    "start_time": "2022-05-14T15:24:52.531Z"
   },
   {
    "duration": 29,
    "start_time": "2022-05-14T15:24:52.582Z"
   },
   {
    "duration": 5,
    "start_time": "2022-05-14T15:24:52.613Z"
   },
   {
    "duration": 5,
    "start_time": "2022-05-14T15:24:52.619Z"
   },
   {
    "duration": 5,
    "start_time": "2022-05-14T15:24:52.626Z"
   },
   {
    "duration": 5,
    "start_time": "2022-05-14T15:24:52.633Z"
   },
   {
    "duration": 34,
    "start_time": "2022-05-14T15:24:52.640Z"
   },
   {
    "duration": 13,
    "start_time": "2022-05-14T15:24:52.675Z"
   },
   {
    "duration": 23,
    "start_time": "2022-05-14T15:24:52.690Z"
   },
   {
    "duration": 12,
    "start_time": "2022-05-14T15:24:52.715Z"
   },
   {
    "duration": 548,
    "start_time": "2022-05-14T15:24:52.728Z"
   },
   {
    "duration": 22,
    "start_time": "2022-05-14T15:24:53.278Z"
   },
   {
    "duration": 9,
    "start_time": "2022-05-14T15:24:53.302Z"
   },
   {
    "duration": 628,
    "start_time": "2022-05-14T15:24:53.313Z"
   },
   {
    "duration": 12,
    "start_time": "2022-05-14T15:24:53.942Z"
   },
   {
    "duration": 6,
    "start_time": "2022-05-14T15:24:53.972Z"
   },
   {
    "duration": 15,
    "start_time": "2022-05-14T15:24:53.980Z"
   },
   {
    "duration": 242,
    "start_time": "2022-05-14T15:24:53.996Z"
   },
   {
    "duration": 9,
    "start_time": "2022-05-14T15:24:54.240Z"
   },
   {
    "duration": 323,
    "start_time": "2022-05-14T15:24:54.250Z"
   },
   {
    "duration": 9,
    "start_time": "2022-05-14T15:24:54.574Z"
   },
   {
    "duration": 394,
    "start_time": "2022-05-14T15:24:54.585Z"
   },
   {
    "duration": 5,
    "start_time": "2022-05-14T15:24:54.981Z"
   },
   {
    "duration": 696,
    "start_time": "2022-05-14T15:24:54.988Z"
   },
   {
    "duration": 11,
    "start_time": "2022-05-14T15:24:55.686Z"
   },
   {
    "duration": 516,
    "start_time": "2022-05-14T15:24:55.700Z"
   },
   {
    "duration": 107,
    "start_time": "2022-05-14T15:24:56.219Z"
   },
   {
    "duration": 316,
    "start_time": "2022-05-14T15:24:56.328Z"
   },
   {
    "duration": 16,
    "start_time": "2022-05-14T15:24:56.646Z"
   },
   {
    "duration": 791,
    "start_time": "2022-05-14T15:24:56.670Z"
   },
   {
    "duration": 113,
    "start_time": "2022-05-14T15:24:57.462Z"
   },
   {
    "duration": 199,
    "start_time": "2022-05-14T15:24:57.577Z"
   },
   {
    "duration": 146,
    "start_time": "2022-05-14T15:24:57.777Z"
   },
   {
    "duration": 145,
    "start_time": "2022-05-14T15:24:57.925Z"
   },
   {
    "duration": 187,
    "start_time": "2022-05-14T15:24:58.072Z"
   },
   {
    "duration": 7,
    "start_time": "2022-05-14T15:25:21.245Z"
   },
   {
    "duration": 4,
    "start_time": "2022-05-14T15:26:20.427Z"
   },
   {
    "duration": 10,
    "start_time": "2022-05-14T15:26:27.070Z"
   },
   {
    "duration": 457,
    "start_time": "2022-05-14T15:26:33.305Z"
   },
   {
    "duration": 91,
    "start_time": "2022-05-14T15:26:33.764Z"
   },
   {
    "duration": 14,
    "start_time": "2022-05-14T15:26:33.870Z"
   },
   {
    "duration": 15,
    "start_time": "2022-05-14T15:26:33.886Z"
   },
   {
    "duration": 24,
    "start_time": "2022-05-14T15:26:33.903Z"
   },
   {
    "duration": 5,
    "start_time": "2022-05-14T15:26:33.929Z"
   },
   {
    "duration": 41,
    "start_time": "2022-05-14T15:26:33.935Z"
   },
   {
    "duration": 9,
    "start_time": "2022-05-14T15:26:33.978Z"
   },
   {
    "duration": 17,
    "start_time": "2022-05-14T15:26:33.990Z"
   },
   {
    "duration": 3,
    "start_time": "2022-05-14T15:26:34.011Z"
   },
   {
    "duration": 16,
    "start_time": "2022-05-14T15:26:34.016Z"
   },
   {
    "duration": 47,
    "start_time": "2022-05-14T15:26:34.034Z"
   },
   {
    "duration": 16,
    "start_time": "2022-05-14T15:26:34.082Z"
   },
   {
    "duration": 29,
    "start_time": "2022-05-14T15:26:34.100Z"
   },
   {
    "duration": 5,
    "start_time": "2022-05-14T15:26:34.131Z"
   },
   {
    "duration": 34,
    "start_time": "2022-05-14T15:26:34.137Z"
   },
   {
    "duration": 4,
    "start_time": "2022-05-14T15:26:34.173Z"
   },
   {
    "duration": 10,
    "start_time": "2022-05-14T15:26:34.179Z"
   },
   {
    "duration": 5,
    "start_time": "2022-05-14T15:26:34.191Z"
   },
   {
    "duration": 12,
    "start_time": "2022-05-14T15:26:34.198Z"
   },
   {
    "duration": 20,
    "start_time": "2022-05-14T15:26:34.212Z"
   },
   {
    "duration": 46,
    "start_time": "2022-05-14T15:26:34.234Z"
   },
   {
    "duration": 274,
    "start_time": "2022-05-14T15:26:34.282Z"
   },
   {
    "duration": 23,
    "start_time": "2022-05-14T15:26:34.557Z"
   },
   {
    "duration": 10,
    "start_time": "2022-05-14T15:26:34.582Z"
   },
   {
    "duration": 502,
    "start_time": "2022-05-14T15:26:34.594Z"
   },
   {
    "duration": 12,
    "start_time": "2022-05-14T15:26:35.100Z"
   },
   {
    "duration": 8,
    "start_time": "2022-05-14T15:26:35.114Z"
   },
   {
    "duration": 18,
    "start_time": "2022-05-14T15:26:35.125Z"
   },
   {
    "duration": 253,
    "start_time": "2022-05-14T15:26:35.144Z"
   },
   {
    "duration": 8,
    "start_time": "2022-05-14T15:26:35.399Z"
   },
   {
    "duration": 156,
    "start_time": "2022-05-14T15:26:35.409Z"
   },
   {
    "duration": 10,
    "start_time": "2022-05-14T15:26:35.570Z"
   },
   {
    "duration": 184,
    "start_time": "2022-05-14T15:26:35.582Z"
   },
   {
    "duration": 5,
    "start_time": "2022-05-14T15:26:35.770Z"
   },
   {
    "duration": 232,
    "start_time": "2022-05-14T15:26:35.777Z"
   },
   {
    "duration": 8,
    "start_time": "2022-05-14T15:26:36.011Z"
   },
   {
    "duration": 215,
    "start_time": "2022-05-14T15:26:36.021Z"
   },
   {
    "duration": 100,
    "start_time": "2022-05-14T15:26:36.237Z"
   },
   {
    "duration": 273,
    "start_time": "2022-05-14T15:26:36.338Z"
   },
   {
    "duration": 12,
    "start_time": "2022-05-14T15:26:36.613Z"
   },
   {
    "duration": 820,
    "start_time": "2022-05-14T15:26:36.627Z"
   },
   {
    "duration": 227,
    "start_time": "2022-05-14T15:26:37.449Z"
   },
   {
    "duration": 542,
    "start_time": "2022-05-14T15:26:37.678Z"
   },
   {
    "duration": 462,
    "start_time": "2022-05-14T15:26:38.222Z"
   },
   {
    "duration": 320,
    "start_time": "2022-05-14T15:26:38.686Z"
   },
   {
    "duration": 257,
    "start_time": "2022-05-14T15:26:39.009Z"
   },
   {
    "duration": 453,
    "start_time": "2022-05-14T15:27:51.900Z"
   },
   {
    "duration": 133,
    "start_time": "2022-05-14T15:27:52.355Z"
   },
   {
    "duration": 21,
    "start_time": "2022-05-14T15:27:52.490Z"
   },
   {
    "duration": 23,
    "start_time": "2022-05-14T15:27:52.513Z"
   },
   {
    "duration": 64,
    "start_time": "2022-05-14T15:27:52.538Z"
   },
   {
    "duration": 5,
    "start_time": "2022-05-14T15:27:52.605Z"
   },
   {
    "duration": 16,
    "start_time": "2022-05-14T15:27:52.613Z"
   },
   {
    "duration": 6,
    "start_time": "2022-05-14T15:27:52.631Z"
   },
   {
    "duration": 41,
    "start_time": "2022-05-14T15:27:52.639Z"
   },
   {
    "duration": 4,
    "start_time": "2022-05-14T15:27:52.684Z"
   },
   {
    "duration": 24,
    "start_time": "2022-05-14T15:27:52.690Z"
   },
   {
    "duration": 55,
    "start_time": "2022-05-14T15:27:52.716Z"
   },
   {
    "duration": 23,
    "start_time": "2022-05-14T15:27:52.773Z"
   },
   {
    "duration": 45,
    "start_time": "2022-05-14T15:27:52.798Z"
   },
   {
    "duration": 5,
    "start_time": "2022-05-14T15:27:52.845Z"
   },
   {
    "duration": 6,
    "start_time": "2022-05-14T15:27:52.872Z"
   },
   {
    "duration": 5,
    "start_time": "2022-05-14T15:27:52.880Z"
   },
   {
    "duration": 4,
    "start_time": "2022-05-14T15:27:52.887Z"
   },
   {
    "duration": 6,
    "start_time": "2022-05-14T15:27:52.893Z"
   },
   {
    "duration": 19,
    "start_time": "2022-05-14T15:27:52.901Z"
   },
   {
    "duration": 64,
    "start_time": "2022-05-14T15:27:52.922Z"
   },
   {
    "duration": 17,
    "start_time": "2022-05-14T15:27:52.988Z"
   },
   {
    "duration": 536,
    "start_time": "2022-05-14T15:27:53.007Z"
   },
   {
    "duration": 29,
    "start_time": "2022-05-14T15:27:53.545Z"
   },
   {
    "duration": 9,
    "start_time": "2022-05-14T15:27:53.576Z"
   },
   {
    "duration": 584,
    "start_time": "2022-05-14T15:27:53.587Z"
   },
   {
    "duration": 11,
    "start_time": "2022-05-14T15:27:54.173Z"
   },
   {
    "duration": 6,
    "start_time": "2022-05-14T15:27:54.188Z"
   },
   {
    "duration": 15,
    "start_time": "2022-05-14T15:27:54.195Z"
   },
   {
    "duration": 354,
    "start_time": "2022-05-14T15:27:54.212Z"
   },
   {
    "duration": 11,
    "start_time": "2022-05-14T15:27:54.568Z"
   },
   {
    "duration": 310,
    "start_time": "2022-05-14T15:27:54.581Z"
   },
   {
    "duration": 9,
    "start_time": "2022-05-14T15:27:54.893Z"
   },
   {
    "duration": 378,
    "start_time": "2022-05-14T15:27:54.904Z"
   },
   {
    "duration": 5,
    "start_time": "2022-05-14T15:27:55.284Z"
   },
   {
    "duration": 416,
    "start_time": "2022-05-14T15:27:55.291Z"
   },
   {
    "duration": 8,
    "start_time": "2022-05-14T15:27:55.709Z"
   },
   {
    "duration": 402,
    "start_time": "2022-05-14T15:27:55.771Z"
   },
   {
    "duration": 122,
    "start_time": "2022-05-14T15:27:56.175Z"
   },
   {
    "duration": 267,
    "start_time": "2022-05-14T15:27:56.299Z"
   },
   {
    "duration": 14,
    "start_time": "2022-05-14T15:27:56.567Z"
   },
   {
    "duration": 558,
    "start_time": "2022-05-14T15:27:56.583Z"
   },
   {
    "duration": 113,
    "start_time": "2022-05-14T15:27:57.143Z"
   },
   {
    "duration": 246,
    "start_time": "2022-05-14T15:27:57.258Z"
   },
   {
    "duration": 134,
    "start_time": "2022-05-14T15:27:57.506Z"
   },
   {
    "duration": 140,
    "start_time": "2022-05-14T15:27:57.642Z"
   },
   {
    "duration": 193,
    "start_time": "2022-05-14T15:27:57.784Z"
   },
   {
    "duration": 508,
    "start_time": "2022-05-14T15:29:26.165Z"
   },
   {
    "duration": 95,
    "start_time": "2022-05-14T15:29:26.677Z"
   },
   {
    "duration": 14,
    "start_time": "2022-05-14T15:29:26.775Z"
   },
   {
    "duration": 15,
    "start_time": "2022-05-14T15:29:26.790Z"
   },
   {
    "duration": 25,
    "start_time": "2022-05-14T15:29:26.806Z"
   },
   {
    "duration": 4,
    "start_time": "2022-05-14T15:29:26.833Z"
   },
   {
    "duration": 41,
    "start_time": "2022-05-14T15:29:26.839Z"
   },
   {
    "duration": 5,
    "start_time": "2022-05-14T15:29:26.881Z"
   },
   {
    "duration": 15,
    "start_time": "2022-05-14T15:29:26.889Z"
   },
   {
    "duration": 3,
    "start_time": "2022-05-14T15:29:26.906Z"
   },
   {
    "duration": 19,
    "start_time": "2022-05-14T15:29:26.910Z"
   },
   {
    "duration": 51,
    "start_time": "2022-05-14T15:29:26.930Z"
   },
   {
    "duration": 15,
    "start_time": "2022-05-14T15:29:26.982Z"
   },
   {
    "duration": 29,
    "start_time": "2022-05-14T15:29:26.998Z"
   },
   {
    "duration": 4,
    "start_time": "2022-05-14T15:29:27.028Z"
   },
   {
    "duration": 7,
    "start_time": "2022-05-14T15:29:27.034Z"
   },
   {
    "duration": 31,
    "start_time": "2022-05-14T15:29:27.043Z"
   },
   {
    "duration": 6,
    "start_time": "2022-05-14T15:29:27.076Z"
   },
   {
    "duration": 18,
    "start_time": "2022-05-14T15:29:27.084Z"
   },
   {
    "duration": 29,
    "start_time": "2022-05-14T15:29:27.104Z"
   },
   {
    "duration": 45,
    "start_time": "2022-05-14T15:29:27.135Z"
   },
   {
    "duration": 534,
    "start_time": "2022-05-14T15:29:27.182Z"
   },
   {
    "duration": 22,
    "start_time": "2022-05-14T15:29:27.718Z"
   },
   {
    "duration": 9,
    "start_time": "2022-05-14T15:29:27.743Z"
   },
   {
    "duration": 632,
    "start_time": "2022-05-14T15:29:27.771Z"
   },
   {
    "duration": 12,
    "start_time": "2022-05-14T15:29:28.405Z"
   },
   {
    "duration": 6,
    "start_time": "2022-05-14T15:29:28.421Z"
   },
   {
    "duration": 15,
    "start_time": "2022-05-14T15:29:28.428Z"
   },
   {
    "duration": 251,
    "start_time": "2022-05-14T15:29:28.445Z"
   },
   {
    "duration": 9,
    "start_time": "2022-05-14T15:29:28.698Z"
   },
   {
    "duration": 177,
    "start_time": "2022-05-14T15:29:28.708Z"
   },
   {
    "duration": 9,
    "start_time": "2022-05-14T15:29:28.887Z"
   },
   {
    "duration": 186,
    "start_time": "2022-05-14T15:29:28.898Z"
   },
   {
    "duration": 6,
    "start_time": "2022-05-14T15:29:29.085Z"
   },
   {
    "duration": 215,
    "start_time": "2022-05-14T15:29:29.092Z"
   },
   {
    "duration": 8,
    "start_time": "2022-05-14T15:29:29.309Z"
   },
   {
    "duration": 454,
    "start_time": "2022-05-14T15:29:29.318Z"
   },
   {
    "duration": 197,
    "start_time": "2022-05-14T15:29:29.774Z"
   },
   {
    "duration": 787,
    "start_time": "2022-05-14T15:29:29.973Z"
   },
   {
    "duration": 23,
    "start_time": "2022-05-14T15:29:30.762Z"
   },
   {
    "duration": 836,
    "start_time": "2022-05-14T15:29:30.787Z"
   },
   {
    "duration": 156,
    "start_time": "2022-05-14T15:29:31.625Z"
   },
   {
    "duration": 301,
    "start_time": "2022-05-14T15:29:31.783Z"
   },
   {
    "duration": 138,
    "start_time": "2022-05-14T15:29:32.086Z"
   },
   {
    "duration": 147,
    "start_time": "2022-05-14T15:29:32.226Z"
   },
   {
    "duration": 190,
    "start_time": "2022-05-14T15:29:32.375Z"
   },
   {
    "duration": 176,
    "start_time": "2022-05-14T15:31:19.211Z"
   },
   {
    "duration": 139,
    "start_time": "2022-05-14T15:33:00.884Z"
   },
   {
    "duration": 140,
    "start_time": "2022-05-14T15:34:03.889Z"
   },
   {
    "duration": 143,
    "start_time": "2022-05-14T15:35:57.008Z"
   },
   {
    "duration": 242,
    "start_time": "2022-05-14T15:39:20.620Z"
   },
   {
    "duration": 4,
    "start_time": "2022-05-14T15:55:17.043Z"
   },
   {
    "duration": 25,
    "start_time": "2022-05-14T15:55:25.669Z"
   },
   {
    "duration": 69,
    "start_time": "2022-05-14T15:59:14.185Z"
   },
   {
    "duration": 26,
    "start_time": "2022-05-14T15:59:19.408Z"
   },
   {
    "duration": 115,
    "start_time": "2022-05-14T16:02:54.936Z"
   },
   {
    "duration": 8,
    "start_time": "2022-05-14T16:03:08.238Z"
   },
   {
    "duration": 19,
    "start_time": "2022-05-14T16:03:16.466Z"
   },
   {
    "duration": 28,
    "start_time": "2022-05-14T16:03:32.143Z"
   },
   {
    "duration": 113,
    "start_time": "2022-05-14T16:03:53.940Z"
   },
   {
    "duration": 19,
    "start_time": "2022-05-14T16:03:59.626Z"
   },
   {
    "duration": 148,
    "start_time": "2022-05-14T16:04:20.438Z"
   },
   {
    "duration": 20,
    "start_time": "2022-05-14T16:04:33.613Z"
   },
   {
    "duration": 38,
    "start_time": "2022-05-14T16:05:37.684Z"
   },
   {
    "duration": 27,
    "start_time": "2022-05-14T16:10:20.995Z"
   },
   {
    "duration": 31,
    "start_time": "2022-05-14T16:13:07.379Z"
   },
   {
    "duration": 28,
    "start_time": "2022-05-14T16:13:21.233Z"
   },
   {
    "duration": 25,
    "start_time": "2022-05-14T16:14:34.738Z"
   },
   {
    "duration": 26,
    "start_time": "2022-05-14T16:14:51.961Z"
   },
   {
    "duration": 366,
    "start_time": "2022-05-14T16:17:13.961Z"
   },
   {
    "duration": 26,
    "start_time": "2022-05-14T16:20:10.212Z"
   },
   {
    "duration": 28,
    "start_time": "2022-05-14T16:20:33.885Z"
   },
   {
    "duration": 28,
    "start_time": "2022-05-14T16:20:39.206Z"
   },
   {
    "duration": 25,
    "start_time": "2022-05-14T16:20:46.544Z"
   },
   {
    "duration": 23,
    "start_time": "2022-05-14T16:25:56.724Z"
   },
   {
    "duration": 32,
    "start_time": "2022-05-14T16:26:06.887Z"
   },
   {
    "duration": 27,
    "start_time": "2022-05-14T16:26:10.613Z"
   },
   {
    "duration": 26,
    "start_time": "2022-05-14T16:26:23.386Z"
   },
   {
    "duration": 26,
    "start_time": "2022-05-14T16:26:52.887Z"
   },
   {
    "duration": 23,
    "start_time": "2022-05-14T16:27:09.695Z"
   },
   {
    "duration": 22,
    "start_time": "2022-05-14T16:27:17.015Z"
   },
   {
    "duration": 23,
    "start_time": "2022-05-14T16:27:23.921Z"
   },
   {
    "duration": 23,
    "start_time": "2022-05-14T16:27:32.763Z"
   },
   {
    "duration": 25,
    "start_time": "2022-05-14T16:28:01.007Z"
   },
   {
    "duration": 22,
    "start_time": "2022-05-14T16:28:04.715Z"
   },
   {
    "duration": 24,
    "start_time": "2022-05-14T16:28:41.888Z"
   },
   {
    "duration": 24,
    "start_time": "2022-05-14T16:29:15.691Z"
   },
   {
    "duration": 37,
    "start_time": "2022-05-14T16:30:04.896Z"
   },
   {
    "duration": 48,
    "start_time": "2022-05-14T20:27:32.465Z"
   },
   {
    "duration": 517,
    "start_time": "2022-05-14T20:27:38.927Z"
   },
   {
    "duration": 104,
    "start_time": "2022-05-14T20:27:39.447Z"
   },
   {
    "duration": 16,
    "start_time": "2022-05-14T20:27:39.553Z"
   },
   {
    "duration": 31,
    "start_time": "2022-05-14T20:27:39.571Z"
   },
   {
    "duration": 38,
    "start_time": "2022-05-14T20:27:39.604Z"
   },
   {
    "duration": 5,
    "start_time": "2022-05-14T20:27:39.644Z"
   },
   {
    "duration": 22,
    "start_time": "2022-05-14T20:27:39.650Z"
   },
   {
    "duration": 16,
    "start_time": "2022-05-14T20:27:39.673Z"
   },
   {
    "duration": 28,
    "start_time": "2022-05-14T20:27:39.691Z"
   },
   {
    "duration": 8,
    "start_time": "2022-05-14T20:27:39.721Z"
   },
   {
    "duration": 17,
    "start_time": "2022-05-14T20:27:39.731Z"
   },
   {
    "duration": 23,
    "start_time": "2022-05-14T20:27:39.750Z"
   },
   {
    "duration": 15,
    "start_time": "2022-05-14T20:27:39.775Z"
   },
   {
    "duration": 54,
    "start_time": "2022-05-14T20:27:39.792Z"
   },
   {
    "duration": 4,
    "start_time": "2022-05-14T20:27:39.848Z"
   },
   {
    "duration": 5,
    "start_time": "2022-05-14T20:27:39.854Z"
   },
   {
    "duration": 6,
    "start_time": "2022-05-14T20:27:39.860Z"
   },
   {
    "duration": 6,
    "start_time": "2022-05-14T20:27:39.867Z"
   },
   {
    "duration": 16,
    "start_time": "2022-05-14T20:27:39.875Z"
   },
   {
    "duration": 49,
    "start_time": "2022-05-14T20:27:39.892Z"
   },
   {
    "duration": 12,
    "start_time": "2022-05-14T20:27:39.942Z"
   },
   {
    "duration": 370,
    "start_time": "2022-05-14T20:27:39.956Z"
   },
   {
    "duration": 16,
    "start_time": "2022-05-14T20:27:40.328Z"
   },
   {
    "duration": 9,
    "start_time": "2022-05-14T20:27:40.345Z"
   },
   {
    "duration": 717,
    "start_time": "2022-05-14T20:27:40.356Z"
   },
   {
    "duration": 9,
    "start_time": "2022-05-14T20:27:41.075Z"
   },
   {
    "duration": 5,
    "start_time": "2022-05-14T20:27:41.086Z"
   },
   {
    "duration": 33,
    "start_time": "2022-05-14T20:27:41.095Z"
   },
   {
    "duration": 200,
    "start_time": "2022-05-14T20:27:41.129Z"
   },
   {
    "duration": 10,
    "start_time": "2022-05-14T20:27:41.330Z"
   },
   {
    "duration": 178,
    "start_time": "2022-05-14T20:27:41.341Z"
   },
   {
    "duration": 9,
    "start_time": "2022-05-14T20:27:41.521Z"
   },
   {
    "duration": 206,
    "start_time": "2022-05-14T20:27:41.531Z"
   },
   {
    "duration": 5,
    "start_time": "2022-05-14T20:27:41.739Z"
   },
   {
    "duration": 237,
    "start_time": "2022-05-14T20:27:41.746Z"
   },
   {
    "duration": 9,
    "start_time": "2022-05-14T20:27:41.985Z"
   },
   {
    "duration": 227,
    "start_time": "2022-05-14T20:27:41.996Z"
   },
   {
    "duration": 114,
    "start_time": "2022-05-14T20:27:42.225Z"
   },
   {
    "duration": 289,
    "start_time": "2022-05-14T20:27:42.341Z"
   },
   {
    "duration": 92,
    "start_time": "2022-05-14T20:27:42.632Z"
   },
   {
    "duration": 517,
    "start_time": "2022-05-14T20:27:42.726Z"
   },
   {
    "duration": 117,
    "start_time": "2022-05-14T20:27:43.245Z"
   },
   {
    "duration": 223,
    "start_time": "2022-05-14T20:27:43.364Z"
   },
   {
    "duration": 154,
    "start_time": "2022-05-14T20:27:43.589Z"
   },
   {
    "duration": 151,
    "start_time": "2022-05-14T20:27:43.745Z"
   },
   {
    "duration": 217,
    "start_time": "2022-05-14T20:27:43.899Z"
   },
   {
    "duration": 173,
    "start_time": "2022-05-14T20:27:44.123Z"
   },
   {
    "duration": 175,
    "start_time": "2022-05-14T20:27:44.298Z"
   },
   {
    "duration": 173,
    "start_time": "2022-05-14T20:27:44.475Z"
   },
   {
    "duration": 132,
    "start_time": "2022-05-14T20:27:44.650Z"
   },
   {
    "duration": 18,
    "start_time": "2022-05-14T20:27:44.784Z"
   },
   {
    "duration": 4,
    "start_time": "2022-05-14T20:31:00.331Z"
   },
   {
    "duration": 77,
    "start_time": "2022-05-14T20:31:11.875Z"
   },
   {
    "duration": 39,
    "start_time": "2022-05-14T20:31:32.663Z"
   },
   {
    "duration": 2,
    "start_time": "2022-05-14T20:32:44.339Z"
   },
   {
    "duration": 33,
    "start_time": "2022-05-14T20:35:08.440Z"
   },
   {
    "duration": 397,
    "start_time": "2022-05-14T20:35:52.567Z"
   },
   {
    "duration": 16,
    "start_time": "2022-05-14T20:36:04.361Z"
   },
   {
    "duration": 12,
    "start_time": "2022-05-14T20:38:07.335Z"
   },
   {
    "duration": 15,
    "start_time": "2022-05-14T20:38:32.929Z"
   },
   {
    "duration": 17,
    "start_time": "2022-05-14T20:39:21.474Z"
   },
   {
    "duration": 15,
    "start_time": "2022-05-14T20:40:02.565Z"
   },
   {
    "duration": 38,
    "start_time": "2022-05-14T20:45:20.681Z"
   },
   {
    "duration": 27,
    "start_time": "2022-05-14T20:46:16.845Z"
   },
   {
    "duration": 160,
    "start_time": "2022-05-14T20:46:21.567Z"
   },
   {
    "duration": 490,
    "start_time": "2022-05-14T20:55:48.851Z"
   },
   {
    "duration": 101,
    "start_time": "2022-05-14T20:55:49.343Z"
   },
   {
    "duration": 16,
    "start_time": "2022-05-14T20:55:49.446Z"
   },
   {
    "duration": 15,
    "start_time": "2022-05-14T20:55:49.464Z"
   },
   {
    "duration": 48,
    "start_time": "2022-05-14T20:55:49.481Z"
   },
   {
    "duration": 4,
    "start_time": "2022-05-14T20:55:49.531Z"
   },
   {
    "duration": 14,
    "start_time": "2022-05-14T20:55:49.537Z"
   },
   {
    "duration": 11,
    "start_time": "2022-05-14T20:55:49.552Z"
   },
   {
    "duration": 18,
    "start_time": "2022-05-14T20:55:49.564Z"
   },
   {
    "duration": 3,
    "start_time": "2022-05-14T20:55:49.585Z"
   },
   {
    "duration": 42,
    "start_time": "2022-05-14T20:55:49.590Z"
   },
   {
    "duration": 24,
    "start_time": "2022-05-14T20:55:49.634Z"
   },
   {
    "duration": 18,
    "start_time": "2022-05-14T20:55:49.660Z"
   },
   {
    "duration": 65,
    "start_time": "2022-05-14T20:55:49.679Z"
   },
   {
    "duration": 5,
    "start_time": "2022-05-14T20:55:49.746Z"
   },
   {
    "duration": 9,
    "start_time": "2022-05-14T20:55:49.753Z"
   },
   {
    "duration": 7,
    "start_time": "2022-05-14T20:55:49.764Z"
   },
   {
    "duration": 8,
    "start_time": "2022-05-14T20:55:49.773Z"
   },
   {
    "duration": 17,
    "start_time": "2022-05-14T20:55:49.783Z"
   },
   {
    "duration": 26,
    "start_time": "2022-05-14T20:55:49.822Z"
   },
   {
    "duration": 14,
    "start_time": "2022-05-14T20:55:49.850Z"
   },
   {
    "duration": 374,
    "start_time": "2022-05-14T20:55:49.865Z"
   },
   {
    "duration": 17,
    "start_time": "2022-05-14T20:55:50.241Z"
   },
   {
    "duration": 7,
    "start_time": "2022-05-14T20:55:50.260Z"
   },
   {
    "duration": 479,
    "start_time": "2022-05-14T20:55:50.269Z"
   },
   {
    "duration": 10,
    "start_time": "2022-05-14T20:55:50.750Z"
   },
   {
    "duration": 5,
    "start_time": "2022-05-14T20:55:50.762Z"
   },
   {
    "duration": 17,
    "start_time": "2022-05-14T20:55:50.771Z"
   },
   {
    "duration": 254,
    "start_time": "2022-05-14T20:55:50.790Z"
   },
   {
    "duration": 10,
    "start_time": "2022-05-14T20:55:51.047Z"
   },
   {
    "duration": 183,
    "start_time": "2022-05-14T20:55:51.059Z"
   },
   {
    "duration": 10,
    "start_time": "2022-05-14T20:55:51.244Z"
   },
   {
    "duration": 204,
    "start_time": "2022-05-14T20:55:51.256Z"
   },
   {
    "duration": 5,
    "start_time": "2022-05-14T20:55:51.462Z"
   },
   {
    "duration": 230,
    "start_time": "2022-05-14T20:55:51.468Z"
   },
   {
    "duration": 9,
    "start_time": "2022-05-14T20:55:51.700Z"
   },
   {
    "duration": 229,
    "start_time": "2022-05-14T20:55:51.710Z"
   },
   {
    "duration": 115,
    "start_time": "2022-05-14T20:55:51.941Z"
   },
   {
    "duration": 286,
    "start_time": "2022-05-14T20:55:52.058Z"
   },
   {
    "duration": 14,
    "start_time": "2022-05-14T20:55:52.346Z"
   },
   {
    "duration": 591,
    "start_time": "2022-05-14T20:55:52.362Z"
   },
   {
    "duration": 119,
    "start_time": "2022-05-14T20:55:52.955Z"
   },
   {
    "duration": 235,
    "start_time": "2022-05-14T20:55:53.076Z"
   },
   {
    "duration": 138,
    "start_time": "2022-05-14T20:55:53.313Z"
   },
   {
    "duration": 154,
    "start_time": "2022-05-14T20:55:53.453Z"
   },
   {
    "duration": 217,
    "start_time": "2022-05-14T20:55:53.610Z"
   },
   {
    "duration": 170,
    "start_time": "2022-05-14T20:55:53.829Z"
   },
   {
    "duration": 158,
    "start_time": "2022-05-14T20:55:54.001Z"
   },
   {
    "duration": 163,
    "start_time": "2022-05-14T20:55:54.161Z"
   },
   {
    "duration": 31,
    "start_time": "2022-05-14T20:55:54.326Z"
   },
   {
    "duration": 169,
    "start_time": "2022-05-14T20:55:54.359Z"
   },
   {
    "duration": 2,
    "start_time": "2022-05-14T20:55:54.530Z"
   },
   {
    "duration": 14,
    "start_time": "2022-05-14T20:57:25.156Z"
   },
   {
    "duration": 993,
    "start_time": "2022-05-14T20:59:17.748Z"
   },
   {
    "duration": 190,
    "start_time": "2022-05-14T21:00:17.090Z"
   },
   {
    "duration": 294,
    "start_time": "2022-05-14T21:00:40.517Z"
   },
   {
    "duration": 279,
    "start_time": "2022-05-14T21:00:51.421Z"
   },
   {
    "duration": 193,
    "start_time": "2022-05-14T21:01:49.144Z"
   },
   {
    "duration": 294,
    "start_time": "2022-05-14T21:03:27.463Z"
   },
   {
    "duration": 300,
    "start_time": "2022-05-14T21:04:16.785Z"
   },
   {
    "duration": 208,
    "start_time": "2022-05-14T21:04:32.408Z"
   },
   {
    "duration": 5,
    "start_time": "2022-05-14T21:05:53.312Z"
   },
   {
    "duration": 3370,
    "start_time": "2022-05-14T21:06:00.554Z"
   },
   {
    "duration": 163,
    "start_time": "2022-05-14T21:07:00.242Z"
   },
   {
    "duration": 13,
    "start_time": "2022-05-14T21:11:26.804Z"
   },
   {
    "duration": 10,
    "start_time": "2022-05-14T21:11:33.460Z"
   },
   {
    "duration": 188,
    "start_time": "2022-05-14T21:14:54.149Z"
   },
   {
    "duration": 193,
    "start_time": "2022-05-14T21:15:06.784Z"
   },
   {
    "duration": 202,
    "start_time": "2022-05-14T21:15:13.004Z"
   },
   {
    "duration": 179,
    "start_time": "2022-05-14T21:15:21.355Z"
   },
   {
    "duration": 168,
    "start_time": "2022-05-14T21:16:03.444Z"
   },
   {
    "duration": 183,
    "start_time": "2022-05-14T21:16:16.013Z"
   },
   {
    "duration": 3192,
    "start_time": "2022-05-14T21:17:24.750Z"
   },
   {
    "duration": 178,
    "start_time": "2022-05-14T21:17:55.999Z"
   },
   {
    "duration": 201,
    "start_time": "2022-05-14T21:19:15.665Z"
   },
   {
    "duration": 35552,
    "start_time": "2022-05-14T21:19:45.635Z"
   },
   {
    "duration": 10102,
    "start_time": "2022-05-14T21:22:01.240Z"
   },
   {
    "duration": 182,
    "start_time": "2022-05-14T21:22:42.142Z"
   },
   {
    "duration": 46,
    "start_time": "2022-05-15T08:06:31.097Z"
   },
   {
    "duration": 432,
    "start_time": "2022-05-15T08:06:36.227Z"
   },
   {
    "duration": 87,
    "start_time": "2022-05-15T08:06:36.661Z"
   },
   {
    "duration": 14,
    "start_time": "2022-05-15T08:06:36.750Z"
   },
   {
    "duration": 33,
    "start_time": "2022-05-15T08:06:36.766Z"
   },
   {
    "duration": 24,
    "start_time": "2022-05-15T08:06:36.800Z"
   },
   {
    "duration": 5,
    "start_time": "2022-05-15T08:06:36.825Z"
   },
   {
    "duration": 17,
    "start_time": "2022-05-15T08:06:36.831Z"
   },
   {
    "duration": 6,
    "start_time": "2022-05-15T08:06:36.850Z"
   },
   {
    "duration": 35,
    "start_time": "2022-05-15T08:06:36.858Z"
   },
   {
    "duration": 3,
    "start_time": "2022-05-15T08:06:36.896Z"
   },
   {
    "duration": 20,
    "start_time": "2022-05-15T08:06:36.900Z"
   },
   {
    "duration": 23,
    "start_time": "2022-05-15T08:06:36.921Z"
   },
   {
    "duration": 16,
    "start_time": "2022-05-15T08:06:36.945Z"
   },
   {
    "duration": 54,
    "start_time": "2022-05-15T08:06:36.962Z"
   },
   {
    "duration": 4,
    "start_time": "2022-05-15T08:06:37.018Z"
   },
   {
    "duration": 8,
    "start_time": "2022-05-15T08:06:37.024Z"
   },
   {
    "duration": 8,
    "start_time": "2022-05-15T08:06:37.034Z"
   },
   {
    "duration": 13,
    "start_time": "2022-05-15T08:06:37.044Z"
   },
   {
    "duration": 34,
    "start_time": "2022-05-15T08:06:37.058Z"
   },
   {
    "duration": 23,
    "start_time": "2022-05-15T08:06:37.094Z"
   },
   {
    "duration": 12,
    "start_time": "2022-05-15T08:06:37.119Z"
   },
   {
    "duration": 356,
    "start_time": "2022-05-15T08:06:37.132Z"
   },
   {
    "duration": 18,
    "start_time": "2022-05-15T08:06:37.489Z"
   },
   {
    "duration": 9,
    "start_time": "2022-05-15T08:06:37.509Z"
   },
   {
    "duration": 660,
    "start_time": "2022-05-15T08:06:37.520Z"
   },
   {
    "duration": 13,
    "start_time": "2022-05-15T08:06:38.182Z"
   },
   {
    "duration": 6,
    "start_time": "2022-05-15T08:06:38.196Z"
   },
   {
    "duration": 12,
    "start_time": "2022-05-15T08:06:38.205Z"
   },
   {
    "duration": 207,
    "start_time": "2022-05-15T08:06:38.218Z"
   },
   {
    "duration": 8,
    "start_time": "2022-05-15T08:06:38.427Z"
   },
   {
    "duration": 178,
    "start_time": "2022-05-15T08:06:38.437Z"
   },
   {
    "duration": 9,
    "start_time": "2022-05-15T08:06:38.616Z"
   },
   {
    "duration": 198,
    "start_time": "2022-05-15T08:06:38.627Z"
   },
   {
    "duration": 5,
    "start_time": "2022-05-15T08:06:38.827Z"
   },
   {
    "duration": 228,
    "start_time": "2022-05-15T08:06:38.833Z"
   },
   {
    "duration": 8,
    "start_time": "2022-05-15T08:06:39.062Z"
   },
   {
    "duration": 213,
    "start_time": "2022-05-15T08:06:39.071Z"
   },
   {
    "duration": 105,
    "start_time": "2022-05-15T08:06:39.288Z"
   },
   {
    "duration": 311,
    "start_time": "2022-05-15T08:06:39.395Z"
   },
   {
    "duration": 188,
    "start_time": "2022-05-15T08:06:39.708Z"
   },
   {
    "duration": 1023,
    "start_time": "2022-05-15T08:06:39.897Z"
   },
   {
    "duration": 173,
    "start_time": "2022-05-15T08:06:40.922Z"
   },
   {
    "duration": 215,
    "start_time": "2022-05-15T08:06:41.097Z"
   },
   {
    "duration": 136,
    "start_time": "2022-05-15T08:06:41.314Z"
   },
   {
    "duration": 137,
    "start_time": "2022-05-15T08:06:41.452Z"
   },
   {
    "duration": 189,
    "start_time": "2022-05-15T08:06:41.591Z"
   },
   {
    "duration": 160,
    "start_time": "2022-05-15T08:06:41.781Z"
   },
   {
    "duration": 160,
    "start_time": "2022-05-15T08:06:41.942Z"
   },
   {
    "duration": 171,
    "start_time": "2022-05-15T08:06:42.103Z"
   },
   {
    "duration": 115,
    "start_time": "2022-05-15T08:06:42.276Z"
   },
   {
    "duration": 168,
    "start_time": "2022-05-15T08:06:42.392Z"
   },
   {
    "duration": 9,
    "start_time": "2022-05-15T08:06:42.562Z"
   },
   {
    "duration": 196,
    "start_time": "2022-05-15T08:06:42.572Z"
   },
   {
    "duration": 176,
    "start_time": "2022-05-15T08:06:42.770Z"
   },
   {
    "duration": 196,
    "start_time": "2022-05-15T08:06:42.948Z"
   },
   {
    "duration": 172,
    "start_time": "2022-05-15T08:06:43.146Z"
   },
   {
    "duration": 252,
    "start_time": "2022-05-15T08:06:56.021Z"
   },
   {
    "duration": 155,
    "start_time": "2022-05-15T08:10:30.993Z"
   },
   {
    "duration": 140,
    "start_time": "2022-05-15T08:18:13.400Z"
   },
   {
    "duration": 127,
    "start_time": "2022-05-15T08:20:54.298Z"
   },
   {
    "duration": 125,
    "start_time": "2022-05-15T08:26:04.779Z"
   },
   {
    "duration": 231,
    "start_time": "2022-05-15T08:27:10.505Z"
   },
   {
    "duration": 149,
    "start_time": "2022-05-15T08:28:43.993Z"
   },
   {
    "duration": 147,
    "start_time": "2022-05-15T08:28:54.018Z"
   },
   {
    "duration": 160,
    "start_time": "2022-05-15T08:28:56.987Z"
   },
   {
    "duration": 160,
    "start_time": "2022-05-15T08:29:02.452Z"
   },
   {
    "duration": 154,
    "start_time": "2022-05-15T08:29:05.460Z"
   },
   {
    "duration": 158,
    "start_time": "2022-05-15T08:30:02.088Z"
   },
   {
    "duration": 150,
    "start_time": "2022-05-15T08:31:51.172Z"
   },
   {
    "duration": 141,
    "start_time": "2022-05-15T08:32:51.478Z"
   },
   {
    "duration": 148,
    "start_time": "2022-05-15T08:34:05.354Z"
   }
  ],
  "kernelspec": {
   "display_name": "Python 3 (ipykernel)",
   "language": "python",
   "name": "python3"
  },
  "language_info": {
   "codemirror_mode": {
    "name": "ipython",
    "version": 3
   },
   "file_extension": ".py",
   "mimetype": "text/x-python",
   "name": "python",
   "nbconvert_exporter": "python",
   "pygments_lexer": "ipython3",
   "version": "3.9.7"
  },
  "toc": {
   "base_numbering": 1,
   "nav_menu": {
    "height": "453px",
    "width": "333px"
   },
   "number_sections": true,
   "sideBar": true,
   "skip_h1_title": true,
   "title_cell": "Содержание",
   "title_sidebar": "Contents",
   "toc_cell": true,
   "toc_position": {
    "height": "700px",
    "left": "21px",
    "top": "111.125px",
    "width": "556.766px"
   },
   "toc_section_display": true,
   "toc_window_display": false
  }
 },
 "nbformat": 4,
 "nbformat_minor": 4
}
