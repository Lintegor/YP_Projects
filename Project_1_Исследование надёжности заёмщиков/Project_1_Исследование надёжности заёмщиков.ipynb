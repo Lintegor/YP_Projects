{
 "cells": [
  {
   "cell_type": "markdown",
   "id": "359090ed",
   "metadata": {
    "toc": true
   },
   "source": [
    "<h1>Исследование надёжности заёмщиков<span class=\"tocSkip\"></span></h1>\n",
    "<div class=\"toc\"><ul class=\"toc-item\"><li><span><a href=\"#Шаг-1.-Обзор-данных\" data-toc-modified-id=\"Шаг-1.-Обзор-данных-1\"><span class=\"toc-item-num\">1&nbsp;&nbsp;</span>Шаг 1. Обзор данных</a></span></li><li><span><a href=\"#Шаг-2.1-Заполнение-пропусков-\" data-toc-modified-id=\"Шаг-2.1-Заполнение-пропусков--2\"><span class=\"toc-item-num\">2&nbsp;&nbsp;</span>Шаг 2.1 Заполнение пропусков <a name=\"Шаг 2.1 Заполнение пропусков\"></a></a></span></li><li><span><a href=\"#Шаг-2.2-Проверка-данных-на-аномалии-и-исправления\" data-toc-modified-id=\"Шаг-2.2-Проверка-данных-на-аномалии-и-исправления-3\"><span class=\"toc-item-num\">3&nbsp;&nbsp;</span>Шаг 2.2 Проверка данных на аномалии и исправления<a name=\"4.2  Шаг 2.2 Проверка данных на аномалии и исправления\"></a></a></span><ul class=\"toc-item\"><li><span><a href=\"#Проверка-и-исправление-столбца-children\" data-toc-modified-id=\"Проверка-и-исправление-столбца-children-3.1\"><span class=\"toc-item-num\">3.1&nbsp;&nbsp;</span>Проверка и исправление столбца children</a></span></li><li><span><a href=\"#Проверка-и-исправление-столбцов-dob_years-и-income_type\" data-toc-modified-id=\"Проверка-и-исправление-столбцов-dob_years-и-income_type-3.2\"><span class=\"toc-item-num\">3.2&nbsp;&nbsp;</span>Проверка и исправление столбцов dob_years и income_type</a></span></li><li><span><a href=\"#Проверка-и-исправление-столбцов-education-и-education_id\" data-toc-modified-id=\"Проверка-и-исправление-столбцов-education-и-education_id-3.3\"><span class=\"toc-item-num\">3.3&nbsp;&nbsp;</span>Проверка и исправление столбцов education и education_id</a></span></li><li><span><a href=\"#Проверка-и-исправление-столбцов-family_status-и-family_status_id\" data-toc-modified-id=\"Проверка-и-исправление-столбцов-family_status-и-family_status_id-3.4\"><span class=\"toc-item-num\">3.4&nbsp;&nbsp;</span>Проверка и исправление столбцов family_status и family_status_id</a></span></li><li><span><a href=\"#Проверка-и-исправление-столбца-gender\" data-toc-modified-id=\"Проверка-и-исправление-столбца-gender-3.5\"><span class=\"toc-item-num\">3.5&nbsp;&nbsp;</span>Проверка и исправление столбца gender</a></span></li><li><span><a href=\"#Проверка-и-исправление-столбцa-purpose\" data-toc-modified-id=\"Проверка-и-исправление-столбцa-purpose-3.6\"><span class=\"toc-item-num\">3.6&nbsp;&nbsp;</span>Проверка и исправление столбцa purpose</a></span></li><li><span><a href=\"#Проверка-и-исправление-столбцов-days_employed-и-total_income\" data-toc-modified-id=\"Проверка-и-исправление-столбцов-days_employed-и-total_income-3.7\"><span class=\"toc-item-num\">3.7&nbsp;&nbsp;</span>Проверка и исправление столбцов days_employed и total_income</a></span></li></ul></li><li><span><a href=\"#Шаг-2.3.-Изменение-типов-данных.\" data-toc-modified-id=\"Шаг-2.3.-Изменение-типов-данных.-4\"><span class=\"toc-item-num\">4&nbsp;&nbsp;</span>Шаг 2.3. Изменение типов данных.</a></span></li><li><span><a href=\"#Шаг-2.4.-Удаление-дубликатов.\" data-toc-modified-id=\"Шаг-2.4.-Удаление-дубликатов.-5\"><span class=\"toc-item-num\">5&nbsp;&nbsp;</span>Шаг 2.4. Удаление дубликатов.</a></span></li><li><span><a href=\"#Шаг-2.5.-Формирование-дополнительных-датафреймов-словарей,-декомпозиция-исходного-датафрейма.\" data-toc-modified-id=\"Шаг-2.5.-Формирование-дополнительных-датафреймов-словарей,-декомпозиция-исходного-датафрейма.-6\"><span class=\"toc-item-num\">6&nbsp;&nbsp;</span>Шаг 2.5. Формирование дополнительных датафреймов словарей, декомпозиция исходного датафрейма.</a></span></li><li><span><a href=\"#Шаг-2.6.-Категоризация-дохода.\" data-toc-modified-id=\"Шаг-2.6.-Категоризация-дохода.-7\"><span class=\"toc-item-num\">7&nbsp;&nbsp;</span>Шаг 2.6. Категоризация дохода.</a></span></li><li><span><a href=\"#Шаг-2.7.-Категоризация-целей-кредита.\" data-toc-modified-id=\"Шаг-2.7.-Категоризация-целей-кредита.-8\"><span class=\"toc-item-num\">8&nbsp;&nbsp;</span>Шаг 2.7. Категоризация целей кредита.</a></span></li><li><span><a href=\"#Ответы-на-вопросы.\" data-toc-modified-id=\"Ответы-на-вопросы.-9\"><span class=\"toc-item-num\">9&nbsp;&nbsp;</span>Ответы на вопросы.</a></span><ul class=\"toc-item\"><li><span><a href=\"#Вопрос-1:--Есть-ли-зависимость-между-количеством-детей-и-возвратом-кредита-в-срок?\" data-toc-modified-id=\"Вопрос-1:--Есть-ли-зависимость-между-количеством-детей-и-возвратом-кредита-в-срок?-9.1\"><span class=\"toc-item-num\">9.1&nbsp;&nbsp;</span>Вопрос 1:  Есть ли зависимость между количеством детей и возвратом кредита в срок?</a></span></li><li><span><a href=\"#Вывод-1:\" data-toc-modified-id=\"Вывод-1:-9.2\"><span class=\"toc-item-num\">9.2&nbsp;&nbsp;</span>Вывод 1:</a></span></li><li><span><a href=\"#Вопрос-2:--Есть-ли-зависимость-между-семейным-положением-и-возвратом-кредита-в-срок?\" data-toc-modified-id=\"Вопрос-2:--Есть-ли-зависимость-между-семейным-положением-и-возвратом-кредита-в-срок?-9.3\"><span class=\"toc-item-num\">9.3&nbsp;&nbsp;</span>Вопрос 2:  Есть ли зависимость между семейным положением и возвратом кредита в срок?</a></span></li><li><span><a href=\"#Вывод-2:\" data-toc-modified-id=\"Вывод-2:-9.4\"><span class=\"toc-item-num\">9.4&nbsp;&nbsp;</span>Вывод 2:</a></span></li><li><span><a href=\"#Вопрос-3:--Есть-ли-зависимость-между-уровнем-дохода-и-возвратом-кредита-в-срок?\" data-toc-modified-id=\"Вопрос-3:--Есть-ли-зависимость-между-уровнем-дохода-и-возвратом-кредита-в-срок?-9.5\"><span class=\"toc-item-num\">9.5&nbsp;&nbsp;</span>Вопрос 3:  Есть ли зависимость между уровнем дохода и возвратом кредита в срок?</a></span></li><li><span><a href=\"#Вывод-3:\" data-toc-modified-id=\"Вывод-3:-9.6\"><span class=\"toc-item-num\">9.6&nbsp;&nbsp;</span>Вывод 3:</a></span></li><li><span><a href=\"#Вопрос-4:--Как-разные-цели-кредита-влияют-на-его-возврат-в-срок?\" data-toc-modified-id=\"Вопрос-4:--Как-разные-цели-кредита-влияют-на-его-возврат-в-срок?-9.7\"><span class=\"toc-item-num\">9.7&nbsp;&nbsp;</span>Вопрос 4:  Как разные цели кредита влияют на его возврат в срок?</a></span></li><li><span><a href=\"#Вывод-4:\" data-toc-modified-id=\"Вывод-4:-9.8\"><span class=\"toc-item-num\">9.8&nbsp;&nbsp;</span>Вывод 4:</a></span></li></ul></li><li><span><a href=\"#Общий-вывод:\" data-toc-modified-id=\"Общий-вывод:-10\"><span class=\"toc-item-num\">10&nbsp;&nbsp;</span>Общий вывод:</a></span></li></ul></div>"
   ]
  },
  {
   "cell_type": "markdown",
   "id": "df1a3319",
   "metadata": {},
   "source": [
    "## Шаг 1. Обзор данных"
   ]
  },
  {
   "cell_type": "code",
   "execution_count": 1,
   "id": "789c0041",
   "metadata": {},
   "outputs": [],
   "source": [
    "import pandas as pd #импорт библиотеки pandas для работы с датафреймом\n",
    "import os #Для загрузки данных с разных источников"
   ]
  },
  {
   "cell_type": "markdown",
   "id": "ff500255",
   "metadata": {},
   "source": [
    "Объявим переменную **static_borrower**, запишем туда датафрейм **data.csv**, который хранит статистику о платёжеспособности клиентов и выведем его на экран."
   ]
  },
  {
   "cell_type": "code",
   "execution_count": 2,
   "id": "1d216932",
   "metadata": {},
   "outputs": [],
   "source": [
    "#Загрузка файла с данными\n",
    "pth1 = '/datasets/data.csv'\n",
    "pth2 = 'data.csv'\n",
    "if os.path.exists(pth1):\n",
    "    static_borrower = pd.read_csv(pth1)\n",
    "elif os.path.exists(pth2):\n",
    "    static_borrower = pd.read_csv(pth2)\n",
    "else:\n",
    "    print('Somthing is rong')"
   ]
  },
  {
   "cell_type": "code",
   "execution_count": 3,
   "id": "6e1c895c",
   "metadata": {
    "scrolled": false
   },
   "outputs": [
    {
     "data": {
      "text/html": [
       "<div>\n",
       "<style scoped>\n",
       "    .dataframe tbody tr th:only-of-type {\n",
       "        vertical-align: middle;\n",
       "    }\n",
       "\n",
       "    .dataframe tbody tr th {\n",
       "        vertical-align: top;\n",
       "    }\n",
       "\n",
       "    .dataframe thead th {\n",
       "        text-align: right;\n",
       "    }\n",
       "</style>\n",
       "<table border=\"1\" class=\"dataframe\">\n",
       "  <thead>\n",
       "    <tr style=\"text-align: right;\">\n",
       "      <th></th>\n",
       "      <th>children</th>\n",
       "      <th>days_employed</th>\n",
       "      <th>dob_years</th>\n",
       "      <th>education</th>\n",
       "      <th>education_id</th>\n",
       "      <th>family_status</th>\n",
       "      <th>family_status_id</th>\n",
       "      <th>gender</th>\n",
       "      <th>income_type</th>\n",
       "      <th>debt</th>\n",
       "      <th>total_income</th>\n",
       "      <th>purpose</th>\n",
       "    </tr>\n",
       "  </thead>\n",
       "  <tbody>\n",
       "    <tr>\n",
       "      <th>0</th>\n",
       "      <td>1</td>\n",
       "      <td>-8437.673028</td>\n",
       "      <td>42</td>\n",
       "      <td>высшее</td>\n",
       "      <td>0</td>\n",
       "      <td>женат / замужем</td>\n",
       "      <td>0</td>\n",
       "      <td>F</td>\n",
       "      <td>сотрудник</td>\n",
       "      <td>0</td>\n",
       "      <td>253875.639453</td>\n",
       "      <td>покупка жилья</td>\n",
       "    </tr>\n",
       "    <tr>\n",
       "      <th>1</th>\n",
       "      <td>1</td>\n",
       "      <td>-4024.803754</td>\n",
       "      <td>36</td>\n",
       "      <td>среднее</td>\n",
       "      <td>1</td>\n",
       "      <td>женат / замужем</td>\n",
       "      <td>0</td>\n",
       "      <td>F</td>\n",
       "      <td>сотрудник</td>\n",
       "      <td>0</td>\n",
       "      <td>112080.014102</td>\n",
       "      <td>приобретение автомобиля</td>\n",
       "    </tr>\n",
       "    <tr>\n",
       "      <th>2</th>\n",
       "      <td>0</td>\n",
       "      <td>-5623.422610</td>\n",
       "      <td>33</td>\n",
       "      <td>Среднее</td>\n",
       "      <td>1</td>\n",
       "      <td>женат / замужем</td>\n",
       "      <td>0</td>\n",
       "      <td>M</td>\n",
       "      <td>сотрудник</td>\n",
       "      <td>0</td>\n",
       "      <td>145885.952297</td>\n",
       "      <td>покупка жилья</td>\n",
       "    </tr>\n",
       "    <tr>\n",
       "      <th>3</th>\n",
       "      <td>3</td>\n",
       "      <td>-4124.747207</td>\n",
       "      <td>32</td>\n",
       "      <td>среднее</td>\n",
       "      <td>1</td>\n",
       "      <td>женат / замужем</td>\n",
       "      <td>0</td>\n",
       "      <td>M</td>\n",
       "      <td>сотрудник</td>\n",
       "      <td>0</td>\n",
       "      <td>267628.550329</td>\n",
       "      <td>дополнительное образование</td>\n",
       "    </tr>\n",
       "    <tr>\n",
       "      <th>4</th>\n",
       "      <td>0</td>\n",
       "      <td>340266.072047</td>\n",
       "      <td>53</td>\n",
       "      <td>среднее</td>\n",
       "      <td>1</td>\n",
       "      <td>гражданский брак</td>\n",
       "      <td>1</td>\n",
       "      <td>F</td>\n",
       "      <td>пенсионер</td>\n",
       "      <td>0</td>\n",
       "      <td>158616.077870</td>\n",
       "      <td>сыграть свадьбу</td>\n",
       "    </tr>\n",
       "  </tbody>\n",
       "</table>\n",
       "</div>"
      ],
      "text/plain": [
       "   children  days_employed  dob_years education  education_id  \\\n",
       "0         1   -8437.673028         42    высшее             0   \n",
       "1         1   -4024.803754         36   среднее             1   \n",
       "2         0   -5623.422610         33   Среднее             1   \n",
       "3         3   -4124.747207         32   среднее             1   \n",
       "4         0  340266.072047         53   среднее             1   \n",
       "\n",
       "      family_status  family_status_id gender income_type  debt   total_income  \\\n",
       "0   женат / замужем                 0      F   сотрудник     0  253875.639453   \n",
       "1   женат / замужем                 0      F   сотрудник     0  112080.014102   \n",
       "2   женат / замужем                 0      M   сотрудник     0  145885.952297   \n",
       "3   женат / замужем                 0      M   сотрудник     0  267628.550329   \n",
       "4  гражданский брак                 1      F   пенсионер     0  158616.077870   \n",
       "\n",
       "                      purpose  \n",
       "0               покупка жилья  \n",
       "1     приобретение автомобиля  \n",
       "2               покупка жилья  \n",
       "3  дополнительное образование  \n",
       "4             сыграть свадьбу  "
      ]
     },
     "execution_count": 3,
     "metadata": {},
     "output_type": "execute_result"
    }
   ],
   "source": [
    "static_borrower.head()"
   ]
  },
  {
   "cell_type": "markdown",
   "id": "b24a0e70",
   "metadata": {},
   "source": [
    "Выведем информацию по датафрейму **static_borrower**, а так же проверим правильность написания наименований колонок."
   ]
  },
  {
   "cell_type": "code",
   "execution_count": 4,
   "id": "97c0defa",
   "metadata": {},
   "outputs": [
    {
     "name": "stdout",
     "output_type": "stream",
     "text": [
      "<class 'pandas.core.frame.DataFrame'>\n",
      "RangeIndex: 21525 entries, 0 to 21524\n",
      "Data columns (total 12 columns):\n",
      " #   Column            Non-Null Count  Dtype  \n",
      "---  ------            --------------  -----  \n",
      " 0   children          21525 non-null  int64  \n",
      " 1   days_employed     19351 non-null  float64\n",
      " 2   dob_years         21525 non-null  int64  \n",
      " 3   education         21525 non-null  object \n",
      " 4   education_id      21525 non-null  int64  \n",
      " 5   family_status     21525 non-null  object \n",
      " 6   family_status_id  21525 non-null  int64  \n",
      " 7   gender            21525 non-null  object \n",
      " 8   income_type       21525 non-null  object \n",
      " 9   debt              21525 non-null  int64  \n",
      " 10  total_income      19351 non-null  float64\n",
      " 11  purpose           21525 non-null  object \n",
      "dtypes: float64(2), int64(5), object(5)\n",
      "memory usage: 2.0+ MB\n"
     ]
    }
   ],
   "source": [
    "static_borrower.info()"
   ]
  },
  {
   "cell_type": "markdown",
   "id": "8e0c5655",
   "metadata": {},
   "source": [
    "В наименованиях колонок ошибок нет, из ТЗ заказчика нам известно следующее описание столбцов:  \n",
    "`children` — количество детей в семье    \n",
    "`days_employed` — общий трудовой стаж в днях    \n",
    "`dob_years` — возраст клиента в годах    \n",
    "`education` — уровень образования клиента    \n",
    "`education_id` — идентификатор уровня образования    \n",
    "`family_status` — семейное положение    \n",
    "`family_status_id` — идентификатор семейного положения    \n",
    "`gender` — пол клиента    \n",
    "`income_type` — тип занятости    \n",
    "`debt` — имел ли задолженность по возврату кредитов    \n",
    "`total_income` — ежемесячный доход   \n",
    "`purpose` — цель получения кредита    "
   ]
  },
  {
   "cell_type": "markdown",
   "id": "37c00957",
   "metadata": {},
   "source": [
    "## Шаг 2.1 Заполнение пропусков <a name=\"Шаг 2.1 Заполнение пропусков\"></a> "
   ]
  },
  {
   "cell_type": "markdown",
   "id": "88f1051f",
   "metadata": {},
   "source": [
    "Выполним предобработку данных, для начала проверим наличие пропущенных значений в датафрейме **static_borrower**. Из информации по датафрейму видно, что нулевые значения имеются в столбцах **days_employed**, **total_income**, посчитаем их с помощью функции **_isna()_**"
   ]
  },
  {
   "cell_type": "code",
   "execution_count": 5,
   "id": "961e7cf3",
   "metadata": {
    "scrolled": true
   },
   "outputs": [
    {
     "data": {
      "text/plain": [
       "children               0\n",
       "days_employed       2174\n",
       "dob_years              0\n",
       "education              0\n",
       "education_id           0\n",
       "family_status          0\n",
       "family_status_id       0\n",
       "gender                 0\n",
       "income_type            0\n",
       "debt                   0\n",
       "total_income        2174\n",
       "purpose                0\n",
       "dtype: int64"
      ]
     },
     "execution_count": 5,
     "metadata": {},
     "output_type": "execute_result"
    }
   ],
   "source": [
    "static_borrower.isna().sum()"
   ]
  },
  {
   "cell_type": "markdown",
   "id": "cdc2f291",
   "metadata": {},
   "source": [
    "Определим долю пропущенных значений в каждом из столбцов с пропусками, разделив количество пропусков **static_borrower['days_employed'].isna().sum()** на общее количество значений **static_borrower.shape[0]**:"
   ]
  },
  {
   "cell_type": "code",
   "execution_count": 6,
   "id": "8003305b",
   "metadata": {
    "scrolled": true
   },
   "outputs": [
    {
     "name": "stdout",
     "output_type": "stream",
     "text": [
      "Доля пропущенных значений в столбце days_employed = 10.10%\n",
      "Доля пропущенных значений в столбце total_income = 10.10%\n"
     ]
    }
   ],
   "source": [
    "print('Доля пропущенных значений в столбце days_employed = {:.2%}'\n",
    "      .format(static_borrower['days_employed'].isna().sum()/static_borrower.shape[0]))\n",
    "\n",
    "print('Доля пропущенных значений в столбце total_income = {:.2%}'\n",
    "      .format(static_borrower['total_income'].isna().sum()/static_borrower.shape[0]))"
   ]
  },
  {
   "cell_type": "markdown",
   "id": "14f6459f",
   "metadata": {},
   "source": [
    "Доля пропущенных значений в столбцах составляет 10.1 %, что является достаточно весомым, удалить их мы не можем поэтому заполним.    \n",
    "Данные пропуски обусловлены скорее всего техническими факторами, на что указывает одинаковое количество пропусков в двух столбцах **days_employed** и **total_income**.    \n",
    "Данные колонки содержат количественные значения, заполним пропущенные ячейки медианным значением посчитанным по оставшимся заполненным значениям. Но до этого необходимо исправить отрицательные значения в столбце **days_employed**, перезаписав его значениями по модулю. Так как отрицательного рабочего стажа не бывает, его либо нет и он равен 0, либо он имеет значение в кол-ве дней."
   ]
  },
  {
   "cell_type": "code",
   "execution_count": 7,
   "id": "847f668e",
   "metadata": {},
   "outputs": [
    {
     "data": {
      "text/html": [
       "<div>\n",
       "<style scoped>\n",
       "    .dataframe tbody tr th:only-of-type {\n",
       "        vertical-align: middle;\n",
       "    }\n",
       "\n",
       "    .dataframe tbody tr th {\n",
       "        vertical-align: top;\n",
       "    }\n",
       "\n",
       "    .dataframe thead th {\n",
       "        text-align: right;\n",
       "    }\n",
       "</style>\n",
       "<table border=\"1\" class=\"dataframe\">\n",
       "  <thead>\n",
       "    <tr style=\"text-align: right;\">\n",
       "      <th></th>\n",
       "      <th>children</th>\n",
       "      <th>days_employed</th>\n",
       "      <th>dob_years</th>\n",
       "      <th>education</th>\n",
       "      <th>education_id</th>\n",
       "      <th>family_status</th>\n",
       "      <th>family_status_id</th>\n",
       "      <th>gender</th>\n",
       "      <th>income_type</th>\n",
       "      <th>debt</th>\n",
       "      <th>total_income</th>\n",
       "      <th>purpose</th>\n",
       "    </tr>\n",
       "  </thead>\n",
       "  <tbody>\n",
       "    <tr>\n",
       "      <th>0</th>\n",
       "      <td>1</td>\n",
       "      <td>8437.673028</td>\n",
       "      <td>42</td>\n",
       "      <td>высшее</td>\n",
       "      <td>0</td>\n",
       "      <td>женат / замужем</td>\n",
       "      <td>0</td>\n",
       "      <td>F</td>\n",
       "      <td>сотрудник</td>\n",
       "      <td>0</td>\n",
       "      <td>253875.639453</td>\n",
       "      <td>покупка жилья</td>\n",
       "    </tr>\n",
       "    <tr>\n",
       "      <th>1</th>\n",
       "      <td>1</td>\n",
       "      <td>4024.803754</td>\n",
       "      <td>36</td>\n",
       "      <td>среднее</td>\n",
       "      <td>1</td>\n",
       "      <td>женат / замужем</td>\n",
       "      <td>0</td>\n",
       "      <td>F</td>\n",
       "      <td>сотрудник</td>\n",
       "      <td>0</td>\n",
       "      <td>112080.014102</td>\n",
       "      <td>приобретение автомобиля</td>\n",
       "    </tr>\n",
       "    <tr>\n",
       "      <th>2</th>\n",
       "      <td>0</td>\n",
       "      <td>5623.422610</td>\n",
       "      <td>33</td>\n",
       "      <td>Среднее</td>\n",
       "      <td>1</td>\n",
       "      <td>женат / замужем</td>\n",
       "      <td>0</td>\n",
       "      <td>M</td>\n",
       "      <td>сотрудник</td>\n",
       "      <td>0</td>\n",
       "      <td>145885.952297</td>\n",
       "      <td>покупка жилья</td>\n",
       "    </tr>\n",
       "    <tr>\n",
       "      <th>3</th>\n",
       "      <td>3</td>\n",
       "      <td>4124.747207</td>\n",
       "      <td>32</td>\n",
       "      <td>среднее</td>\n",
       "      <td>1</td>\n",
       "      <td>женат / замужем</td>\n",
       "      <td>0</td>\n",
       "      <td>M</td>\n",
       "      <td>сотрудник</td>\n",
       "      <td>0</td>\n",
       "      <td>267628.550329</td>\n",
       "      <td>дополнительное образование</td>\n",
       "    </tr>\n",
       "    <tr>\n",
       "      <th>4</th>\n",
       "      <td>0</td>\n",
       "      <td>340266.072047</td>\n",
       "      <td>53</td>\n",
       "      <td>среднее</td>\n",
       "      <td>1</td>\n",
       "      <td>гражданский брак</td>\n",
       "      <td>1</td>\n",
       "      <td>F</td>\n",
       "      <td>пенсионер</td>\n",
       "      <td>0</td>\n",
       "      <td>158616.077870</td>\n",
       "      <td>сыграть свадьбу</td>\n",
       "    </tr>\n",
       "  </tbody>\n",
       "</table>\n",
       "</div>"
      ],
      "text/plain": [
       "   children  days_employed  dob_years education  education_id  \\\n",
       "0         1    8437.673028         42    высшее             0   \n",
       "1         1    4024.803754         36   среднее             1   \n",
       "2         0    5623.422610         33   Среднее             1   \n",
       "3         3    4124.747207         32   среднее             1   \n",
       "4         0  340266.072047         53   среднее             1   \n",
       "\n",
       "      family_status  family_status_id gender income_type  debt   total_income  \\\n",
       "0   женат / замужем                 0      F   сотрудник     0  253875.639453   \n",
       "1   женат / замужем                 0      F   сотрудник     0  112080.014102   \n",
       "2   женат / замужем                 0      M   сотрудник     0  145885.952297   \n",
       "3   женат / замужем                 0      M   сотрудник     0  267628.550329   \n",
       "4  гражданский брак                 1      F   пенсионер     0  158616.077870   \n",
       "\n",
       "                      purpose  \n",
       "0               покупка жилья  \n",
       "1     приобретение автомобиля  \n",
       "2               покупка жилья  \n",
       "3  дополнительное образование  \n",
       "4             сыграть свадьбу  "
      ]
     },
     "execution_count": 7,
     "metadata": {},
     "output_type": "execute_result"
    }
   ],
   "source": [
    "static_borrower['days_employed'] = static_borrower['days_employed'].abs() #перезапись столбца days_employed значениями по модулю\n",
    "static_borrower.head()"
   ]
  },
  {
   "cell_type": "markdown",
   "id": "4ac3aee6",
   "metadata": {},
   "source": [
    "Теперь найдём медианные значения среди заполненных ячеек в столбцах **days_employed** и **total_income** и сохраним их в переменные **days_employed_median** и **total_income_median** соответственно, затем выведем на экран их значения.    \n",
    "Столбец из заполненных значений получим применив фильтр **static_borrower['days_employed'].isna() == False**, потому что функция isna() возвращает False, если значения в ячейках отличны от NaN или None."
   ]
  },
  {
   "cell_type": "code",
   "execution_count": 8,
   "id": "fdc204db",
   "metadata": {
    "scrolled": true
   },
   "outputs": [
    {
     "name": "stdout",
     "output_type": "stream",
     "text": [
      "Медианное значение для заполнение пропусков в столбце days_employed = 2194.220566878695\n",
      "Медианное значение для заполнение пропусков в столбце total_income = 145017.93753253992\n"
     ]
    }
   ],
   "source": [
    "days_employed_median = static_borrower.loc[static_borrower['days_employed']\\\n",
    "                                      .isna() == False,'days_employed'].median()\n",
    "\n",
    "print('Медианное значение для заполнение пропусков в столбце days_employed =', days_employed_median)\n",
    "\n",
    "total_income_median = static_borrower.loc[static_borrower['total_income']\\\n",
    "                                     .isna() == False, 'total_income'].median()\n",
    "\n",
    "print('Медианное значение для заполнение пропусков в столбце total_income =', total_income_median)"
   ]
  },
  {
   "cell_type": "markdown",
   "id": "85524338",
   "metadata": {},
   "source": [
    "Заполним пропущенные значения в столбцах **days_employed** и **total_income** значениями **days_employed_median** и **total_income_median** соответственно и перезапишем датафрейм **static_borrower**"
   ]
  },
  {
   "cell_type": "code",
   "execution_count": 9,
   "id": "d40a480c",
   "metadata": {},
   "outputs": [],
   "source": [
    "#заполнение колонки days_employed\n",
    "static_borrower['days_employed'] = static_borrower['days_employed'].fillna(days_employed_median) \n",
    "#заполнение колонки days_employed\n",
    "static_borrower['total_income'] = static_borrower['total_income'].fillna(total_income_median) "
   ]
  },
  {
   "cell_type": "markdown",
   "id": "c365497a",
   "metadata": {},
   "source": [
    "Выведем информацию по исправленному датафрейму и проверим наличие нулевых значений в обновлённых колонках."
   ]
  },
  {
   "cell_type": "code",
   "execution_count": 10,
   "id": "5da596ee",
   "metadata": {},
   "outputs": [
    {
     "name": "stdout",
     "output_type": "stream",
     "text": [
      "<class 'pandas.core.frame.DataFrame'>\n",
      "RangeIndex: 21525 entries, 0 to 21524\n",
      "Data columns (total 12 columns):\n",
      " #   Column            Non-Null Count  Dtype  \n",
      "---  ------            --------------  -----  \n",
      " 0   children          21525 non-null  int64  \n",
      " 1   days_employed     21525 non-null  float64\n",
      " 2   dob_years         21525 non-null  int64  \n",
      " 3   education         21525 non-null  object \n",
      " 4   education_id      21525 non-null  int64  \n",
      " 5   family_status     21525 non-null  object \n",
      " 6   family_status_id  21525 non-null  int64  \n",
      " 7   gender            21525 non-null  object \n",
      " 8   income_type       21525 non-null  object \n",
      " 9   debt              21525 non-null  int64  \n",
      " 10  total_income      21525 non-null  float64\n",
      " 11  purpose           21525 non-null  object \n",
      "dtypes: float64(2), int64(5), object(5)\n",
      "memory usage: 2.0+ MB\n"
     ]
    }
   ],
   "source": [
    "static_borrower.info()"
   ]
  },
  {
   "cell_type": "markdown",
   "id": "cdae2f53",
   "metadata": {},
   "source": [
    "## Шаг 2.2 Проверка данных на аномалии и исправления<a name=\"4.2  Шаг 2.2 Проверка данных на аномалии и исправления\"></a>"
   ]
  },
  {
   "cell_type": "markdown",
   "id": "3b7c9741",
   "metadata": {},
   "source": [
    "Проверим наш датафрейм на аномалии, тоесть на те значения:    \n",
    "- которых там быть не должно,но они подходят по типу данных    \n",
    "- которые значительно отличаются от значений в столбце и могут повлиять на статистику    \n",
    "- которые не подходят по логике других столбцов\n",
    "\n",
    "Для этого выведем имеющиеся значения и их количество в солбцах с категориальными значениями методом **value_counts()**. А для столбцов количественных значений применим сортировку в порядке возрастания/убывания методом **sort_values**. "
   ]
  },
  {
   "cell_type": "markdown",
   "id": "80068b3a",
   "metadata": {},
   "source": [
    "### Проверка и исправление столбца children"
   ]
  },
  {
   "cell_type": "code",
   "execution_count": 11,
   "id": "491ca37f",
   "metadata": {},
   "outputs": [
    {
     "data": {
      "text/plain": [
       " 0     14149\n",
       " 1      4818\n",
       " 2      2055\n",
       " 3       330\n",
       " 20       76\n",
       "-1        47\n",
       " 4        41\n",
       " 5         9\n",
       "Name: children, dtype: int64"
      ]
     },
     "execution_count": 11,
     "metadata": {},
     "output_type": "execute_result"
    }
   ],
   "source": [
    "#столбец children\n",
    "static_borrower['children'].value_counts()"
   ]
  },
  {
   "cell_type": "markdown",
   "id": "2d940405",
   "metadata": {},
   "source": [
    "В столбце **children** имеются аномальные данные, а именно:    \n",
    "- число детей 20, что маловероятно, скорее всего здесь имеет место быть опечатка, испарвим это значение на 2    \n",
    "- число детей -1, тоже опечатка, исправим значение на 1    \n",
    "\n",
    "Заменим данные значения методом **replace()** и снова проверим все уникальные значения в столбце **children**"
   ]
  },
  {
   "cell_type": "code",
   "execution_count": 12,
   "id": "40dc4dd4",
   "metadata": {},
   "outputs": [
    {
     "data": {
      "text/plain": [
       "0    14149\n",
       "1     4865\n",
       "2     2131\n",
       "3      330\n",
       "4       41\n",
       "5        9\n",
       "Name: children, dtype: int64"
      ]
     },
     "execution_count": 12,
     "metadata": {},
     "output_type": "execute_result"
    }
   ],
   "source": [
    "static_borrower['children'] = static_borrower['children'].replace(20,2) # замена 20 на 2\n",
    "static_borrower['children'] = static_borrower['children'].replace(-1,1) # замена -1 на 1\n",
    "#вывод всех уникальных значений в столбце\n",
    "static_borrower['children'].value_counts()"
   ]
  },
  {
   "cell_type": "markdown",
   "id": "e90ceb9c",
   "metadata": {},
   "source": [
    "Аномалии в столбце **children** исправлены, следующий столбец **dob_years**."
   ]
  },
  {
   "cell_type": "markdown",
   "id": "8c327fa8",
   "metadata": {},
   "source": [
    "### Проверка и исправление столбцов dob_years и income_type"
   ]
  },
  {
   "cell_type": "code",
   "execution_count": 13,
   "id": "23d00343",
   "metadata": {},
   "outputs": [
    {
     "data": {
      "text/plain": [
       "count    21525.000000\n",
       "mean        43.293380\n",
       "std         12.574584\n",
       "min          0.000000\n",
       "25%         33.000000\n",
       "50%         42.000000\n",
       "75%         53.000000\n",
       "max         75.000000\n",
       "Name: dob_years, dtype: float64"
      ]
     },
     "execution_count": 13,
     "metadata": {},
     "output_type": "execute_result"
    }
   ],
   "source": [
    "#столбец dob_years\n",
    "static_borrower['dob_years'].describe()"
   ]
  },
  {
   "cell_type": "markdown",
   "id": "8d0db132",
   "metadata": {},
   "source": [
    "Как видно из вывода функции, в датафрейме имеются люди с возрастом 0 лет, что не возможно, это очередная аномалия. Эти значения можно заполнить медианным значением, но для того, что бы значения соответствовали действительности и логически подходили к другим столбцам, это не подходит, потому что в датафрейме имеются пенсионеры. Поэтому нули для занятых сотрудников заполним медианным значением из выборки по занятым сотрудникам, а для пенсионеров нули зполним медианным значением среди выборки пенсионеров. Но перед тем как искать медиану для той или иной категории граждан, необходимо в столбце **income_type** проверить регистры и уникальные значения. "
   ]
  },
  {
   "cell_type": "code",
   "execution_count": 14,
   "id": "c90aef9f",
   "metadata": {},
   "outputs": [
    {
     "data": {
      "text/plain": [
       "сотрудник          11119\n",
       "компаньон           5085\n",
       "пенсионер           3856\n",
       "госслужащий         1459\n",
       "безработный            2\n",
       "предприниматель        2\n",
       "студент                1\n",
       "в декрете              1\n",
       "Name: income_type, dtype: int64"
      ]
     },
     "execution_count": 14,
     "metadata": {},
     "output_type": "execute_result"
    }
   ],
   "source": [
    "static_borrower['income_type'].value_counts() # поиск уникальных значений столбца income_type "
   ]
  },
  {
   "cell_type": "markdown",
   "id": "72f38d89",
   "metadata": {},
   "source": [
    "Поиск уникальных значений по столбцу **income_type** показал, что регистр в столбце одинаковый, ошибок форматирования нет, а значит фильтры по категориям заёмщиков для поиска медианных значений охватит все необходимые категории."
   ]
  },
  {
   "cell_type": "code",
   "execution_count": 15,
   "id": "cc34d838",
   "metadata": {},
   "outputs": [
    {
     "name": "stdout",
     "output_type": "stream",
     "text": [
      "Медианное значение для заполнение нулей в столбце dob_years для пенсионеров = 60.0\n",
      "Медианное значение для заполнение нулей в столбце dob_years для занятых = 39.0\n"
     ]
    }
   ],
   "source": [
    "for_retiree_median = static_borrower.loc[static_borrower['income_type'] == 'пенсионер', 'dob_years']\\\n",
    "                                    .median()\n",
    "print('Медианное значение для заполнение нулей в столбце dob_years для пенсионеров =', \\\n",
    "      for_retiree_median)\n",
    "busy_median = static_borrower.loc[static_borrower['income_type'] != 'пенсионер', 'dob_years']\\\n",
    "                             .median()\n",
    "print('Медианное значение для заполнение нулей в столбце dob_years для занятых =', busy_median)"
   ]
  },
  {
   "cell_type": "markdown",
   "id": "c42c30d8",
   "metadata": {},
   "source": [
    "Заменим нулевые значения медианными и проверим их наличие в датафрейме"
   ]
  },
  {
   "cell_type": "code",
   "execution_count": 16,
   "id": "58f8e1f5",
   "metadata": {},
   "outputs": [
    {
     "name": "stdout",
     "output_type": "stream",
     "text": [
      "Минимальный возраст заёмщика =  19\n"
     ]
    }
   ],
   "source": [
    "# замена нулей для пенсионеров\n",
    "static_borrower.loc[(static_borrower['dob_years'] == 0) & \\\n",
    "                    (static_borrower['income_type'] == 'пенсионер') , 'dob_years'] = \\\n",
    "                     static_borrower['dob_years'].replace(0,for_retiree_median)\n",
    "# замена нулей для занятых\n",
    "static_borrower.loc[(static_borrower['dob_years'] == 0) & (static_borrower['income_type'] != 'пенсионер') , 'dob_years'] = \\\n",
    "static_borrower['dob_years'].replace(0,busy_median)\n",
    "# поиск нулей в столбце dob_years\n",
    "print('Минимальный возраст заёмщика = ' ,static_borrower['dob_years'].min())"
   ]
  },
  {
   "cell_type": "markdown",
   "id": "287e45e4",
   "metadata": {},
   "source": [
    "### Проверка и исправление столбцов education и education_id"
   ]
  },
  {
   "cell_type": "code",
   "execution_count": 17,
   "id": "588562a7",
   "metadata": {},
   "outputs": [
    {
     "data": {
      "text/plain": [
       "education            education_id\n",
       "среднее              1               13750\n",
       "высшее               0                4718\n",
       "СРЕДНЕЕ              1                 772\n",
       "Среднее              1                 711\n",
       "неоконченное высшее  2                 668\n",
       "ВЫСШЕЕ               0                 274\n",
       "Высшее               0                 268\n",
       "начальное            3                 250\n",
       "Неоконченное высшее  2                  47\n",
       "НЕОКОНЧЕННОЕ ВЫСШЕЕ  2                  29\n",
       "НАЧАЛЬНОЕ            3                  17\n",
       "Начальное            3                  15\n",
       "ученая степень       4                   4\n",
       "УЧЕНАЯ СТЕПЕНЬ       4                   1\n",
       "Ученая степень       4                   1\n",
       "dtype: int64"
      ]
     },
     "execution_count": 17,
     "metadata": {},
     "output_type": "execute_result"
    }
   ],
   "source": [
    "static_borrower[['education', 'education_id']].value_counts()"
   ]
  },
  {
   "cell_type": "markdown",
   "id": "b810544b",
   "metadata": {},
   "source": [
    "Приведём столбец **education** к нижнему регистру, затем стова проверим уникальные значения"
   ]
  },
  {
   "cell_type": "code",
   "execution_count": 18,
   "id": "a38d76cb",
   "metadata": {},
   "outputs": [
    {
     "data": {
      "text/plain": [
       "среднее                15233\n",
       "высшее                  5260\n",
       "неоконченное высшее      744\n",
       "начальное                282\n",
       "ученая степень             6\n",
       "Name: education, dtype: int64"
      ]
     },
     "execution_count": 18,
     "metadata": {},
     "output_type": "execute_result"
    }
   ],
   "source": [
    "static_borrower['education'] = static_borrower['education'].str.lower()\n",
    "static_borrower['education'].value_counts()"
   ]
  },
  {
   "cell_type": "markdown",
   "id": "9225311e",
   "metadata": {},
   "source": [
    "Проверим следующие столбцы **family_status** и **family_status_id**"
   ]
  },
  {
   "cell_type": "markdown",
   "id": "76f08bcf",
   "metadata": {},
   "source": [
    "### Проверка и исправление столбцов family_status и family_status_id"
   ]
  },
  {
   "cell_type": "code",
   "execution_count": 19,
   "id": "f15fa118",
   "metadata": {},
   "outputs": [
    {
     "data": {
      "text/plain": [
       "family_status          family_status_id\n",
       "женат / замужем        0                   12380\n",
       "гражданский брак       1                    4177\n",
       "Не женат / не замужем  4                    2813\n",
       "в разводе              3                    1195\n",
       "вдовец / вдова         2                     960\n",
       "dtype: int64"
      ]
     },
     "execution_count": 19,
     "metadata": {},
     "output_type": "execute_result"
    }
   ],
   "source": [
    "static_borrower[['family_status', 'family_status_id']].value_counts()"
   ]
  },
  {
   "cell_type": "markdown",
   "id": "a1a2bed8",
   "metadata": {},
   "source": [
    "Здесь всё в порядке, повторений нет, логика значений столбца **family_status** не противоречит толбцу **family_status_id**.    \n",
    "Перейдём к следующему столбцу **gender**"
   ]
  },
  {
   "cell_type": "markdown",
   "id": "9b4a9f2a",
   "metadata": {},
   "source": [
    "### Проверка и исправление столбца gender"
   ]
  },
  {
   "cell_type": "code",
   "execution_count": 20,
   "id": "2cb9f375",
   "metadata": {},
   "outputs": [
    {
     "data": {
      "text/plain": [
       "F      14236\n",
       "M       7288\n",
       "XNA        1\n",
       "Name: gender, dtype: int64"
      ]
     },
     "execution_count": 20,
     "metadata": {},
     "output_type": "execute_result"
    }
   ],
   "source": [
    "static_borrower['gender'].value_counts()"
   ]
  },
  {
   "cell_type": "markdown",
   "id": "e1adc720",
   "metadata": {},
   "source": [
    "В результате имеем третий вид пола XNA и у нас есть два варианта, либо удалить его, учитывая что он 1 на 21500 значений, либо оставить как есть. Я выбрал первый варинт."
   ]
  },
  {
   "cell_type": "code",
   "execution_count": 21,
   "id": "9369791c",
   "metadata": {},
   "outputs": [
    {
     "data": {
      "text/plain": [
       "F    14236\n",
       "M     7288\n",
       "Name: gender, dtype: int64"
      ]
     },
     "execution_count": 21,
     "metadata": {},
     "output_type": "execute_result"
    }
   ],
   "source": [
    "static_borrower = static_borrower.loc[static_borrower['gender'] != 'XNA']\n",
    "static_borrower['gender'].value_counts()"
   ]
  },
  {
   "cell_type": "markdown",
   "id": "538f1f56",
   "metadata": {},
   "source": [
    "Переходим к следующему столбцу **purpose** "
   ]
  },
  {
   "cell_type": "markdown",
   "id": "d3f6e7d9",
   "metadata": {},
   "source": [
    "### Проверка и исправление столбцa purpose"
   ]
  },
  {
   "cell_type": "code",
   "execution_count": 22,
   "id": "4e78d454",
   "metadata": {},
   "outputs": [
    {
     "data": {
      "text/plain": [
       "свадьба                                   797\n",
       "на проведение свадьбы                     777\n",
       "сыграть свадьбу                           774\n",
       "операции с недвижимостью                  676\n",
       "покупка коммерческой недвижимости         664\n",
       "покупка жилья для сдачи                   653\n",
       "операции с жильем                         653\n",
       "операции с коммерческой недвижимостью     651\n",
       "покупка жилья                             647\n",
       "жилье                                     647\n",
       "покупка жилья для семьи                   641\n",
       "строительство собственной недвижимости    635\n",
       "недвижимость                              634\n",
       "операции со своей недвижимостью           630\n",
       "строительство жилой недвижимости          626\n",
       "покупка недвижимости                      623\n",
       "строительство недвижимости                620\n",
       "покупка своего жилья                      620\n",
       "ремонт жилью                              612\n",
       "покупка жилой недвижимости                607\n",
       "на покупку своего автомобиля              505\n",
       "заняться высшим образованием              496\n",
       "автомобиль                                495\n",
       "сделка с подержанным автомобилем          489\n",
       "свой автомобиль                           480\n",
       "на покупку подержанного автомобиля        479\n",
       "автомобили                                478\n",
       "на покупку автомобиля                     472\n",
       "дополнительное образование                462\n",
       "приобретение автомобиля                   462\n",
       "сделка с автомобилем                      455\n",
       "высшее образование                        453\n",
       "образование                               447\n",
       "получение дополнительного образования     447\n",
       "получение образования                     443\n",
       "профильное образование                    436\n",
       "получение высшего образования             426\n",
       "заняться образованием                     412\n",
       "Name: purpose, dtype: int64"
      ]
     },
     "execution_count": 22,
     "metadata": {},
     "output_type": "execute_result"
    }
   ],
   "source": [
    "static_borrower['purpose'].value_counts()"
   ]
  },
  {
   "cell_type": "markdown",
   "id": "d83bfa19",
   "metadata": {},
   "source": [
    "В данном столбце аномалий нет, здесь имеется одинаковые по смыслу, но разные по написанию значения, тоесть неявные дубликаты, удаление не явных дубликот займёмся в п.5 Шаге 2.4"
   ]
  },
  {
   "cell_type": "markdown",
   "id": "2be90d7f",
   "metadata": {},
   "source": [
    "Теперь перейдём к столбцам с количественными значениями **days_employed** и **total_income**. С помощью функции describe() выведем информацию о их значениях."
   ]
  },
  {
   "cell_type": "markdown",
   "id": "48ccf24b",
   "metadata": {},
   "source": [
    "### Проверка и исправление столбцов days_employed и total_income"
   ]
  },
  {
   "cell_type": "code",
   "execution_count": 23,
   "id": "3d9846e2",
   "metadata": {},
   "outputs": [
    {
     "data": {
      "text/html": [
       "<div>\n",
       "<style scoped>\n",
       "    .dataframe tbody tr th:only-of-type {\n",
       "        vertical-align: middle;\n",
       "    }\n",
       "\n",
       "    .dataframe tbody tr th {\n",
       "        vertical-align: top;\n",
       "    }\n",
       "\n",
       "    .dataframe thead th {\n",
       "        text-align: right;\n",
       "    }\n",
       "</style>\n",
       "<table border=\"1\" class=\"dataframe\">\n",
       "  <thead>\n",
       "    <tr style=\"text-align: right;\">\n",
       "      <th></th>\n",
       "      <th>days_employed</th>\n",
       "      <th>total_income</th>\n",
       "    </tr>\n",
       "  </thead>\n",
       "  <tbody>\n",
       "    <tr>\n",
       "      <th>count</th>\n",
       "      <td>21524.000000</td>\n",
       "      <td>2.152400e+04</td>\n",
       "    </tr>\n",
       "    <tr>\n",
       "      <th>mean</th>\n",
       "      <td>60380.728303</td>\n",
       "      <td>1.651577e+05</td>\n",
       "    </tr>\n",
       "    <tr>\n",
       "      <th>std</th>\n",
       "      <td>133260.067321</td>\n",
       "      <td>9.786799e+04</td>\n",
       "    </tr>\n",
       "    <tr>\n",
       "      <th>min</th>\n",
       "      <td>24.141633</td>\n",
       "      <td>2.066726e+04</td>\n",
       "    </tr>\n",
       "    <tr>\n",
       "      <th>25%</th>\n",
       "      <td>1025.593536</td>\n",
       "      <td>1.077960e+05</td>\n",
       "    </tr>\n",
       "    <tr>\n",
       "      <th>50%</th>\n",
       "      <td>2194.220567</td>\n",
       "      <td>1.450179e+05</td>\n",
       "    </tr>\n",
       "    <tr>\n",
       "      <th>75%</th>\n",
       "      <td>4779.672511</td>\n",
       "      <td>1.955387e+05</td>\n",
       "    </tr>\n",
       "    <tr>\n",
       "      <th>max</th>\n",
       "      <td>401755.400475</td>\n",
       "      <td>2.265604e+06</td>\n",
       "    </tr>\n",
       "  </tbody>\n",
       "</table>\n",
       "</div>"
      ],
      "text/plain": [
       "       days_employed  total_income\n",
       "count   21524.000000  2.152400e+04\n",
       "mean    60380.728303  1.651577e+05\n",
       "std    133260.067321  9.786799e+04\n",
       "min        24.141633  2.066726e+04\n",
       "25%      1025.593536  1.077960e+05\n",
       "50%      2194.220567  1.450179e+05\n",
       "75%      4779.672511  1.955387e+05\n",
       "max    401755.400475  2.265604e+06"
      ]
     },
     "execution_count": 23,
     "metadata": {},
     "output_type": "execute_result"
    }
   ],
   "source": [
    "static_borrower[['days_employed','total_income']].describe()"
   ]
  },
  {
   "cell_type": "markdown",
   "id": "40644b7f",
   "metadata": {},
   "source": [
    "К ежемесечным доходу вопросов нет, чего не скажешь о трудовом стаже. Трудовое законодательство РФ позволяет работать с 16 лет. Определим максимальный возраст из датафрейма и проверим максимально возможное количество дней трудового стажа. Затем выясним сколько позиций выходят за рамки этого значения."
   ]
  },
  {
   "cell_type": "code",
   "execution_count": 24,
   "id": "34c64f08",
   "metadata": {},
   "outputs": [
    {
     "data": {
      "text/html": [
       "<div>\n",
       "<style scoped>\n",
       "    .dataframe tbody tr th:only-of-type {\n",
       "        vertical-align: middle;\n",
       "    }\n",
       "\n",
       "    .dataframe tbody tr th {\n",
       "        vertical-align: top;\n",
       "    }\n",
       "\n",
       "    .dataframe thead th {\n",
       "        text-align: right;\n",
       "    }\n",
       "</style>\n",
       "<table border=\"1\" class=\"dataframe\">\n",
       "  <thead>\n",
       "    <tr style=\"text-align: right;\">\n",
       "      <th></th>\n",
       "      <th>children</th>\n",
       "      <th>days_employed</th>\n",
       "      <th>dob_years</th>\n",
       "      <th>education</th>\n",
       "      <th>education_id</th>\n",
       "      <th>family_status</th>\n",
       "      <th>family_status_id</th>\n",
       "      <th>gender</th>\n",
       "      <th>income_type</th>\n",
       "      <th>debt</th>\n",
       "      <th>total_income</th>\n",
       "      <th>purpose</th>\n",
       "    </tr>\n",
       "  </thead>\n",
       "  <tbody>\n",
       "    <tr>\n",
       "      <th>4</th>\n",
       "      <td>0</td>\n",
       "      <td>340266.072047</td>\n",
       "      <td>53</td>\n",
       "      <td>среднее</td>\n",
       "      <td>1</td>\n",
       "      <td>гражданский брак</td>\n",
       "      <td>1</td>\n",
       "      <td>F</td>\n",
       "      <td>пенсионер</td>\n",
       "      <td>0</td>\n",
       "      <td>158616.077870</td>\n",
       "      <td>сыграть свадьбу</td>\n",
       "    </tr>\n",
       "    <tr>\n",
       "      <th>18</th>\n",
       "      <td>0</td>\n",
       "      <td>400281.136913</td>\n",
       "      <td>53</td>\n",
       "      <td>среднее</td>\n",
       "      <td>1</td>\n",
       "      <td>вдовец / вдова</td>\n",
       "      <td>2</td>\n",
       "      <td>F</td>\n",
       "      <td>пенсионер</td>\n",
       "      <td>0</td>\n",
       "      <td>56823.777243</td>\n",
       "      <td>на покупку подержанного автомобиля</td>\n",
       "    </tr>\n",
       "    <tr>\n",
       "      <th>24</th>\n",
       "      <td>1</td>\n",
       "      <td>338551.952911</td>\n",
       "      <td>57</td>\n",
       "      <td>среднее</td>\n",
       "      <td>1</td>\n",
       "      <td>Не женат / не замужем</td>\n",
       "      <td>4</td>\n",
       "      <td>F</td>\n",
       "      <td>пенсионер</td>\n",
       "      <td>0</td>\n",
       "      <td>290547.235997</td>\n",
       "      <td>операции с коммерческой недвижимостью</td>\n",
       "    </tr>\n",
       "    <tr>\n",
       "      <th>25</th>\n",
       "      <td>0</td>\n",
       "      <td>363548.489348</td>\n",
       "      <td>67</td>\n",
       "      <td>среднее</td>\n",
       "      <td>1</td>\n",
       "      <td>женат / замужем</td>\n",
       "      <td>0</td>\n",
       "      <td>M</td>\n",
       "      <td>пенсионер</td>\n",
       "      <td>0</td>\n",
       "      <td>55112.757732</td>\n",
       "      <td>покупка недвижимости</td>\n",
       "    </tr>\n",
       "    <tr>\n",
       "      <th>30</th>\n",
       "      <td>1</td>\n",
       "      <td>335581.668515</td>\n",
       "      <td>62</td>\n",
       "      <td>среднее</td>\n",
       "      <td>1</td>\n",
       "      <td>женат / замужем</td>\n",
       "      <td>0</td>\n",
       "      <td>F</td>\n",
       "      <td>пенсионер</td>\n",
       "      <td>0</td>\n",
       "      <td>171456.067993</td>\n",
       "      <td>операции с коммерческой недвижимостью</td>\n",
       "    </tr>\n",
       "    <tr>\n",
       "      <th>...</th>\n",
       "      <td>...</td>\n",
       "      <td>...</td>\n",
       "      <td>...</td>\n",
       "      <td>...</td>\n",
       "      <td>...</td>\n",
       "      <td>...</td>\n",
       "      <td>...</td>\n",
       "      <td>...</td>\n",
       "      <td>...</td>\n",
       "      <td>...</td>\n",
       "      <td>...</td>\n",
       "      <td>...</td>\n",
       "    </tr>\n",
       "    <tr>\n",
       "      <th>21505</th>\n",
       "      <td>0</td>\n",
       "      <td>338904.866406</td>\n",
       "      <td>53</td>\n",
       "      <td>среднее</td>\n",
       "      <td>1</td>\n",
       "      <td>гражданский брак</td>\n",
       "      <td>1</td>\n",
       "      <td>M</td>\n",
       "      <td>пенсионер</td>\n",
       "      <td>0</td>\n",
       "      <td>75439.993167</td>\n",
       "      <td>сыграть свадьбу</td>\n",
       "    </tr>\n",
       "    <tr>\n",
       "      <th>21508</th>\n",
       "      <td>0</td>\n",
       "      <td>386497.714078</td>\n",
       "      <td>62</td>\n",
       "      <td>среднее</td>\n",
       "      <td>1</td>\n",
       "      <td>женат / замужем</td>\n",
       "      <td>0</td>\n",
       "      <td>M</td>\n",
       "      <td>пенсионер</td>\n",
       "      <td>0</td>\n",
       "      <td>72638.590915</td>\n",
       "      <td>недвижимость</td>\n",
       "    </tr>\n",
       "    <tr>\n",
       "      <th>21509</th>\n",
       "      <td>0</td>\n",
       "      <td>362161.054124</td>\n",
       "      <td>59</td>\n",
       "      <td>высшее</td>\n",
       "      <td>0</td>\n",
       "      <td>женат / замужем</td>\n",
       "      <td>0</td>\n",
       "      <td>M</td>\n",
       "      <td>пенсионер</td>\n",
       "      <td>0</td>\n",
       "      <td>73029.059379</td>\n",
       "      <td>операции с недвижимостью</td>\n",
       "    </tr>\n",
       "    <tr>\n",
       "      <th>21518</th>\n",
       "      <td>0</td>\n",
       "      <td>373995.710838</td>\n",
       "      <td>59</td>\n",
       "      <td>среднее</td>\n",
       "      <td>1</td>\n",
       "      <td>женат / замужем</td>\n",
       "      <td>0</td>\n",
       "      <td>F</td>\n",
       "      <td>пенсионер</td>\n",
       "      <td>0</td>\n",
       "      <td>153864.650328</td>\n",
       "      <td>сделка с автомобилем</td>\n",
       "    </tr>\n",
       "    <tr>\n",
       "      <th>21521</th>\n",
       "      <td>0</td>\n",
       "      <td>343937.404131</td>\n",
       "      <td>67</td>\n",
       "      <td>среднее</td>\n",
       "      <td>1</td>\n",
       "      <td>женат / замужем</td>\n",
       "      <td>0</td>\n",
       "      <td>F</td>\n",
       "      <td>пенсионер</td>\n",
       "      <td>0</td>\n",
       "      <td>155999.806512</td>\n",
       "      <td>сделка с автомобилем</td>\n",
       "    </tr>\n",
       "  </tbody>\n",
       "</table>\n",
       "<p>3445 rows × 12 columns</p>\n",
       "</div>"
      ],
      "text/plain": [
       "       children  days_employed  dob_years education  education_id  \\\n",
       "4             0  340266.072047         53   среднее             1   \n",
       "18            0  400281.136913         53   среднее             1   \n",
       "24            1  338551.952911         57   среднее             1   \n",
       "25            0  363548.489348         67   среднее             1   \n",
       "30            1  335581.668515         62   среднее             1   \n",
       "...         ...            ...        ...       ...           ...   \n",
       "21505         0  338904.866406         53   среднее             1   \n",
       "21508         0  386497.714078         62   среднее             1   \n",
       "21509         0  362161.054124         59    высшее             0   \n",
       "21518         0  373995.710838         59   среднее             1   \n",
       "21521         0  343937.404131         67   среднее             1   \n",
       "\n",
       "               family_status  family_status_id gender income_type  debt  \\\n",
       "4           гражданский брак                 1      F   пенсионер     0   \n",
       "18            вдовец / вдова                 2      F   пенсионер     0   \n",
       "24     Не женат / не замужем                 4      F   пенсионер     0   \n",
       "25           женат / замужем                 0      M   пенсионер     0   \n",
       "30           женат / замужем                 0      F   пенсионер     0   \n",
       "...                      ...               ...    ...         ...   ...   \n",
       "21505       гражданский брак                 1      M   пенсионер     0   \n",
       "21508        женат / замужем                 0      M   пенсионер     0   \n",
       "21509        женат / замужем                 0      M   пенсионер     0   \n",
       "21518        женат / замужем                 0      F   пенсионер     0   \n",
       "21521        женат / замужем                 0      F   пенсионер     0   \n",
       "\n",
       "        total_income                                purpose  \n",
       "4      158616.077870                        сыграть свадьбу  \n",
       "18      56823.777243     на покупку подержанного автомобиля  \n",
       "24     290547.235997  операции с коммерческой недвижимостью  \n",
       "25      55112.757732                   покупка недвижимости  \n",
       "30     171456.067993  операции с коммерческой недвижимостью  \n",
       "...              ...                                    ...  \n",
       "21505   75439.993167                        сыграть свадьбу  \n",
       "21508   72638.590915                           недвижимость  \n",
       "21509   73029.059379               операции с недвижимостью  \n",
       "21518  153864.650328                   сделка с автомобилем  \n",
       "21521  155999.806512                   сделка с автомобилем  \n",
       "\n",
       "[3445 rows x 12 columns]"
      ]
     },
     "metadata": {},
     "output_type": "display_data"
    }
   ],
   "source": [
    "max_old = static_borrower['dob_years'].max() #самый старый в датафрейме\n",
    "max_days_employed = (max_old - 16) * 365  # максимально возможное количество дней трудового стажа\n",
    "display(static_borrower.loc[static_borrower['days_employed'] > max_days_employed]) # все позиции в которых трудовой стаж \n",
    "#превышает максимально возможный"
   ]
  },
  {
   "cell_type": "markdown",
   "id": "c92719e0",
   "metadata": {},
   "source": [
    "3445 позиций имеют завышенный трудовой стаж, которого не может быть. Приравняем все эти значения к максимально возможному."
   ]
  },
  {
   "cell_type": "code",
   "execution_count": 25,
   "id": "e534d415",
   "metadata": {},
   "outputs": [],
   "source": [
    "static_borrower.loc[static_borrower['days_employed'] > max_days_employed, 'days_employed'] = max_days_employed"
   ]
  },
  {
   "cell_type": "markdown",
   "id": "6e0a42dd",
   "metadata": {},
   "source": [
    "## Шаг 2.3. Изменение типов данных."
   ]
  },
  {
   "cell_type": "markdown",
   "id": "fc470ecf",
   "metadata": {},
   "source": [
    "В столбцах **days_employed**, **dob_years**  и **total_income** видим(п.1 Шаг 1) значения типа float. Данные значения переведём в целочисленные типа int."
   ]
  },
  {
   "cell_type": "code",
   "execution_count": 26,
   "id": "39935a44",
   "metadata": {},
   "outputs": [],
   "source": [
    "static_borrower[['days_employed','dob_years','total_income']] = \\\n",
    "static_borrower[['days_employed','dob_years','total_income']].astype('int')"
   ]
  },
  {
   "cell_type": "markdown",
   "id": "9bc44a4b",
   "metadata": {},
   "source": [
    "## Шаг 2.4. Удаление дубликатов."
   ]
  },
  {
   "cell_type": "markdown",
   "id": "27949610",
   "metadata": {},
   "source": [
    "Для начала определим наличие и количество явных дубликатов с помощью функции **duplicated().sum()**"
   ]
  },
  {
   "cell_type": "code",
   "execution_count": 27,
   "id": "997a2c6b",
   "metadata": {},
   "outputs": [
    {
     "name": "stdout",
     "output_type": "stream",
     "text": [
      "Количество явных дубликатов = 71\n"
     ]
    }
   ],
   "source": [
    "print('Количество явных дубликатов =', static_borrower.duplicated().sum())"
   ]
  },
  {
   "cell_type": "markdown",
   "id": "3758913c",
   "metadata": {},
   "source": [
    "Удалим явные дубликаты из датафрейма и изменим индексацию"
   ]
  },
  {
   "cell_type": "code",
   "execution_count": 28,
   "id": "7c554486",
   "metadata": {},
   "outputs": [
    {
     "name": "stdout",
     "output_type": "stream",
     "text": [
      "Количество явных дубликатов = 0\n"
     ]
    }
   ],
   "source": [
    "static_borrower = static_borrower.drop_duplicates().reset_index(drop=True)\n",
    "print('Количество явных дубликатов =', static_borrower.duplicated().sum())"
   ]
  },
  {
   "cell_type": "markdown",
   "id": "541b600f",
   "metadata": {},
   "source": [
    "С явными дубликатами мы разобрались, остались не явные. По результатам шага 2.2 нам известно, что дубликаты остались только в столбце **purpose**, где имеются одинаковые по смыслу но разные по написанию цели кредита. "
   ]
  },
  {
   "cell_type": "code",
   "execution_count": 29,
   "id": "d3cc50c0",
   "metadata": {},
   "outputs": [],
   "source": [
    "# функция категоризации целей кредита\n",
    "def category_purpose(purpose):\n",
    "    if  'авто' in purpose:\n",
    "        return 'операции с автомобилем'\n",
    "    elif 'недвиж' in purpose or 'жиль' in purpose:\n",
    "        return 'операции с недвижимостью'\n",
    "    elif 'свадьб' in purpose:\n",
    "        return 'проведение свадьбы'\n",
    "    elif 'образо' in purpose:\n",
    "        return 'получение образования'"
   ]
  },
  {
   "cell_type": "markdown",
   "id": "ea27530b",
   "metadata": {},
   "source": [
    "Перезапишем столбец **purpose** c применением функции **category_purpose**"
   ]
  },
  {
   "cell_type": "code",
   "execution_count": 30,
   "id": "c53cbd26",
   "metadata": {},
   "outputs": [
    {
     "data": {
      "text/plain": [
       "операции с недвижимостью    10810\n",
       "операции с автомобилем       4306\n",
       "получение образования        4013\n",
       "проведение свадьбы           2324\n",
       "Name: purpose, dtype: int64"
      ]
     },
     "execution_count": 30,
     "metadata": {},
     "output_type": "execute_result"
    }
   ],
   "source": [
    "static_borrower['purpose'] = static_borrower['purpose'].apply(category_purpose)\n",
    "static_borrower['purpose'].value_counts()"
   ]
  },
  {
   "cell_type": "markdown",
   "id": "6c2d1786",
   "metadata": {},
   "source": [
    "## Шаг 2.5. Формирование дополнительных датафреймов словарей, декомпозиция исходного датафрейма."
   ]
  },
  {
   "cell_type": "markdown",
   "id": "ceff8dc0",
   "metadata": {},
   "source": [
    "Перед декомпозицией исходного датафрейма, сформирем дополнительные датафреймы из столбцов **education_id** и **education** и столбцов **family_status_id** и **family_status**, для сохранения инфорации в них."
   ]
  },
  {
   "cell_type": "code",
   "execution_count": 31,
   "id": "d5dd799e",
   "metadata": {},
   "outputs": [],
   "source": [
    "save_education = static_borrower[['education', 'education_id']] #новый датафрейм словарь из столбцов education_id и education\n",
    "save_family_status = static_borrower[['family_status', 'family_status_id']] #новый датафрейм словарь из столбцов education_id и education"
   ]
  },
  {
   "cell_type": "markdown",
   "id": "02bf2da0",
   "metadata": {},
   "source": [
    "Теперь можем удалить столбцы **education** и **family_status** из исходного датафрейма"
   ]
  },
  {
   "cell_type": "code",
   "execution_count": 32,
   "id": "f60b354e",
   "metadata": {},
   "outputs": [],
   "source": [
    "static_borrower = static_borrower.drop(['education', 'family_status'], axis = 1)"
   ]
  },
  {
   "cell_type": "markdown",
   "id": "052ec88d",
   "metadata": {},
   "source": [
    "## Шаг 2.6. Категоризация дохода."
   ]
  },
  {
   "cell_type": "markdown",
   "id": "67922279",
   "metadata": {},
   "source": [
    "Распределим доходы потенциальных заёмщиков по категориям:    \n",
    "- 0–30000 — **E**;\n",
    "- 30001–50000 — **D**;    \n",
    "- 50001–200000 — **C**;    \n",
    "- 200001–1000000 — **B**;    \n",
    "- 1000001 и выше — **A**   \n",
    "\n",
    "Для этого напишем функцию **category_income**, которая будет определять категорию дохода в зависимости от значения в столбце **total_income**, проверим её работоспособность."
   ]
  },
  {
   "cell_type": "code",
   "execution_count": 33,
   "id": "3bac5a10",
   "metadata": {},
   "outputs": [
    {
     "name": "stdout",
     "output_type": "stream",
     "text": [
      "Заработная плата 250000 это категория B\n"
     ]
    }
   ],
   "source": [
    "def category_income(income):\n",
    "    if income <= 30000:\n",
    "        return 'E'\n",
    "    if 30000 < income <= 50000:\n",
    "        return 'D'\n",
    "    if 50000 < income <= 200000:\n",
    "        return 'C'\n",
    "    if 200000 < income <= 1000000:\n",
    "        return 'B'\n",
    "    if income > 1000000:\n",
    "        return 'A'\n",
    "print('Заработная плата 250000 это категория', category_income(250000))"
   ]
  },
  {
   "cell_type": "markdown",
   "id": "ac6ec0cd",
   "metadata": {},
   "source": [
    "Создадим новый столбец **total_income_id** после столбца **total_income** в нашем датафрейме"
   ]
  },
  {
   "cell_type": "code",
   "execution_count": 34,
   "id": "374d385a",
   "metadata": {},
   "outputs": [],
   "source": [
    "static_borrower.insert(9, 'total_income_id', static_borrower['total_income'].apply(category_income))"
   ]
  },
  {
   "cell_type": "markdown",
   "id": "76e2afa2",
   "metadata": {},
   "source": [
    "Сохраним стобцы **total_income_id** и **total_income** в новый датафрейм **save_total_income**, а затем удалим столбец **total_income**"
   ]
  },
  {
   "cell_type": "code",
   "execution_count": 35,
   "id": "71672616",
   "metadata": {},
   "outputs": [
    {
     "data": {
      "text/html": [
       "<div>\n",
       "<style scoped>\n",
       "    .dataframe tbody tr th:only-of-type {\n",
       "        vertical-align: middle;\n",
       "    }\n",
       "\n",
       "    .dataframe tbody tr th {\n",
       "        vertical-align: top;\n",
       "    }\n",
       "\n",
       "    .dataframe thead th {\n",
       "        text-align: right;\n",
       "    }\n",
       "</style>\n",
       "<table border=\"1\" class=\"dataframe\">\n",
       "  <thead>\n",
       "    <tr style=\"text-align: right;\">\n",
       "      <th></th>\n",
       "      <th>children</th>\n",
       "      <th>days_employed</th>\n",
       "      <th>dob_years</th>\n",
       "      <th>education_id</th>\n",
       "      <th>family_status_id</th>\n",
       "      <th>gender</th>\n",
       "      <th>income_type</th>\n",
       "      <th>debt</th>\n",
       "      <th>total_income_id</th>\n",
       "      <th>purpose</th>\n",
       "    </tr>\n",
       "  </thead>\n",
       "  <tbody>\n",
       "    <tr>\n",
       "      <th>0</th>\n",
       "      <td>1</td>\n",
       "      <td>8437</td>\n",
       "      <td>42</td>\n",
       "      <td>0</td>\n",
       "      <td>0</td>\n",
       "      <td>F</td>\n",
       "      <td>сотрудник</td>\n",
       "      <td>0</td>\n",
       "      <td>B</td>\n",
       "      <td>операции с недвижимостью</td>\n",
       "    </tr>\n",
       "    <tr>\n",
       "      <th>1</th>\n",
       "      <td>1</td>\n",
       "      <td>4024</td>\n",
       "      <td>36</td>\n",
       "      <td>1</td>\n",
       "      <td>0</td>\n",
       "      <td>F</td>\n",
       "      <td>сотрудник</td>\n",
       "      <td>0</td>\n",
       "      <td>C</td>\n",
       "      <td>операции с автомобилем</td>\n",
       "    </tr>\n",
       "    <tr>\n",
       "      <th>2</th>\n",
       "      <td>0</td>\n",
       "      <td>5623</td>\n",
       "      <td>33</td>\n",
       "      <td>1</td>\n",
       "      <td>0</td>\n",
       "      <td>M</td>\n",
       "      <td>сотрудник</td>\n",
       "      <td>0</td>\n",
       "      <td>C</td>\n",
       "      <td>операции с недвижимостью</td>\n",
       "    </tr>\n",
       "    <tr>\n",
       "      <th>3</th>\n",
       "      <td>3</td>\n",
       "      <td>4124</td>\n",
       "      <td>32</td>\n",
       "      <td>1</td>\n",
       "      <td>0</td>\n",
       "      <td>M</td>\n",
       "      <td>сотрудник</td>\n",
       "      <td>0</td>\n",
       "      <td>B</td>\n",
       "      <td>получение образования</td>\n",
       "    </tr>\n",
       "    <tr>\n",
       "      <th>4</th>\n",
       "      <td>0</td>\n",
       "      <td>21535</td>\n",
       "      <td>53</td>\n",
       "      <td>1</td>\n",
       "      <td>1</td>\n",
       "      <td>F</td>\n",
       "      <td>пенсионер</td>\n",
       "      <td>0</td>\n",
       "      <td>C</td>\n",
       "      <td>проведение свадьбы</td>\n",
       "    </tr>\n",
       "  </tbody>\n",
       "</table>\n",
       "</div>"
      ],
      "text/plain": [
       "   children  days_employed  dob_years  education_id  family_status_id gender  \\\n",
       "0         1           8437         42             0                 0      F   \n",
       "1         1           4024         36             1                 0      F   \n",
       "2         0           5623         33             1                 0      M   \n",
       "3         3           4124         32             1                 0      M   \n",
       "4         0          21535         53             1                 1      F   \n",
       "\n",
       "  income_type  debt total_income_id                   purpose  \n",
       "0   сотрудник     0               B  операции с недвижимостью  \n",
       "1   сотрудник     0               C    операции с автомобилем  \n",
       "2   сотрудник     0               C  операции с недвижимостью  \n",
       "3   сотрудник     0               B     получение образования  \n",
       "4   пенсионер     0               C        проведение свадьбы  "
      ]
     },
     "execution_count": 35,
     "metadata": {},
     "output_type": "execute_result"
    }
   ],
   "source": [
    "#новый датафрейм словарь из столбцов total_income и total_income_id\n",
    "save_total_income = static_borrower[['total_income', 'total_income_id']] \n",
    "#удаление столбца total_income из исходного датафрейма\n",
    "static_borrower = static_borrower.drop('total_income', axis=1)\n",
    "static_borrower.head()"
   ]
  },
  {
   "cell_type": "markdown",
   "id": "cc9155bc",
   "metadata": {},
   "source": [
    "## Шаг 2.7. Категоризация целей кредита."
   ]
  },
  {
   "cell_type": "markdown",
   "id": "535fc945",
   "metadata": {},
   "source": [
    "После удаления неявных дубликатов из столбца **purpose**(п.5 Шаг 2.4), в нём остались только категоризированные значения, дальше разделять на категории не имеет смысла."
   ]
  },
  {
   "cell_type": "markdown",
   "id": "ae37f126",
   "metadata": {},
   "source": [
    "## Ответы на вопросы."
   ]
  },
  {
   "cell_type": "markdown",
   "id": "f9d57ed8",
   "metadata": {},
   "source": [
    "### Вопрос 1:  Есть ли зависимость между количеством детей и возвратом кредита в срок?"
   ]
  },
  {
   "cell_type": "markdown",
   "id": "c14e05ef",
   "metadata": {},
   "source": [
    "Для ответа на этот вопрос сгруппируем с помощью метода **pivot_table** датафрейм **static_borrower** по столбцу **children** значения для подсчёта суммы и кол-ва возьмём из столбца **debt**"
   ]
  },
  {
   "cell_type": "code",
   "execution_count": 36,
   "id": "6ceb44ba",
   "metadata": {
    "scrolled": true
   },
   "outputs": [
    {
     "data": {
      "text/html": [
       "<div>\n",
       "<style scoped>\n",
       "    .dataframe tbody tr th:only-of-type {\n",
       "        vertical-align: middle;\n",
       "    }\n",
       "\n",
       "    .dataframe tbody tr th {\n",
       "        vertical-align: top;\n",
       "    }\n",
       "\n",
       "    .dataframe thead tr th {\n",
       "        text-align: left;\n",
       "    }\n",
       "\n",
       "    .dataframe thead tr:last-of-type th {\n",
       "        text-align: right;\n",
       "    }\n",
       "</style>\n",
       "<table border=\"1\" class=\"dataframe\">\n",
       "  <thead>\n",
       "    <tr>\n",
       "      <th></th>\n",
       "      <th>sum</th>\n",
       "      <th>count</th>\n",
       "    </tr>\n",
       "    <tr>\n",
       "      <th></th>\n",
       "      <th>debt</th>\n",
       "      <th>debt</th>\n",
       "    </tr>\n",
       "    <tr>\n",
       "      <th>children</th>\n",
       "      <th></th>\n",
       "      <th></th>\n",
       "    </tr>\n",
       "  </thead>\n",
       "  <tbody>\n",
       "    <tr>\n",
       "      <th>0</th>\n",
       "      <td>1063</td>\n",
       "      <td>14090</td>\n",
       "    </tr>\n",
       "    <tr>\n",
       "      <th>1</th>\n",
       "      <td>445</td>\n",
       "      <td>4855</td>\n",
       "    </tr>\n",
       "    <tr>\n",
       "      <th>2</th>\n",
       "      <td>202</td>\n",
       "      <td>2128</td>\n",
       "    </tr>\n",
       "    <tr>\n",
       "      <th>3</th>\n",
       "      <td>27</td>\n",
       "      <td>330</td>\n",
       "    </tr>\n",
       "    <tr>\n",
       "      <th>4</th>\n",
       "      <td>4</td>\n",
       "      <td>41</td>\n",
       "    </tr>\n",
       "    <tr>\n",
       "      <th>5</th>\n",
       "      <td>0</td>\n",
       "      <td>9</td>\n",
       "    </tr>\n",
       "  </tbody>\n",
       "</table>\n",
       "</div>"
      ],
      "text/plain": [
       "           sum  count\n",
       "          debt   debt\n",
       "children             \n",
       "0         1063  14090\n",
       "1          445   4855\n",
       "2          202   2128\n",
       "3           27    330\n",
       "4            4     41\n",
       "5            0      9"
      ]
     },
     "execution_count": 36,
     "metadata": {},
     "output_type": "execute_result"
    }
   ],
   "source": [
    "frame_of_children = static_borrower.pivot_table(index = ['children'], values = 'debt',\\\n",
    "                                                aggfunc = ['sum','count'])\n",
    "frame_of_children"
   ]
  },
  {
   "cell_type": "markdown",
   "id": "cd4ee6ba",
   "metadata": {},
   "source": [
    "У нас получился датафрейм **frame_of_children**, добавим в него столбец **share** с расчётом доли должников в зависимости от наличия и количества детей"
   ]
  },
  {
   "cell_type": "code",
   "execution_count": 37,
   "id": "d06d7f0e",
   "metadata": {},
   "outputs": [
    {
     "data": {
      "text/html": [
       "<div>\n",
       "<style scoped>\n",
       "    .dataframe tbody tr th:only-of-type {\n",
       "        vertical-align: middle;\n",
       "    }\n",
       "\n",
       "    .dataframe tbody tr th {\n",
       "        vertical-align: top;\n",
       "    }\n",
       "\n",
       "    .dataframe thead th {\n",
       "        text-align: right;\n",
       "    }\n",
       "</style>\n",
       "<table border=\"1\" class=\"dataframe\">\n",
       "  <thead>\n",
       "    <tr style=\"text-align: right;\">\n",
       "      <th></th>\n",
       "      <th>sum_debt</th>\n",
       "      <th>count_debt</th>\n",
       "      <th>share</th>\n",
       "    </tr>\n",
       "    <tr>\n",
       "      <th>children</th>\n",
       "      <th></th>\n",
       "      <th></th>\n",
       "      <th></th>\n",
       "    </tr>\n",
       "  </thead>\n",
       "  <tbody>\n",
       "    <tr>\n",
       "      <th>5</th>\n",
       "      <td>0</td>\n",
       "      <td>9</td>\n",
       "      <td>0.0</td>\n",
       "    </tr>\n",
       "    <tr>\n",
       "      <th>0</th>\n",
       "      <td>1063</td>\n",
       "      <td>14090</td>\n",
       "      <td>7.5</td>\n",
       "    </tr>\n",
       "    <tr>\n",
       "      <th>3</th>\n",
       "      <td>27</td>\n",
       "      <td>330</td>\n",
       "      <td>8.2</td>\n",
       "    </tr>\n",
       "    <tr>\n",
       "      <th>1</th>\n",
       "      <td>445</td>\n",
       "      <td>4855</td>\n",
       "      <td>9.2</td>\n",
       "    </tr>\n",
       "    <tr>\n",
       "      <th>2</th>\n",
       "      <td>202</td>\n",
       "      <td>2128</td>\n",
       "      <td>9.5</td>\n",
       "    </tr>\n",
       "    <tr>\n",
       "      <th>4</th>\n",
       "      <td>4</td>\n",
       "      <td>41</td>\n",
       "      <td>9.8</td>\n",
       "    </tr>\n",
       "  </tbody>\n",
       "</table>\n",
       "</div>"
      ],
      "text/plain": [
       "          sum_debt  count_debt  share\n",
       "children                             \n",
       "5                0           9    0.0\n",
       "0             1063       14090    7.5\n",
       "3               27         330    8.2\n",
       "1              445        4855    9.2\n",
       "2              202        2128    9.5\n",
       "4                4          41    9.8"
      ]
     },
     "execution_count": 37,
     "metadata": {},
     "output_type": "execute_result"
    }
   ],
   "source": [
    "frame_of_children['share'] = (frame_of_children['sum']/frame_of_children['count'])*100\n",
    "frame_of_children = frame_of_children.round(1)\n",
    "# объединим наименования столбцов таблицы\n",
    "frame_of_children.columns = ['sum_debt', 'count_debt', 'share']\n",
    "# отсортируем по столбцу share\n",
    "frame_of_children.sort_values(by='share')"
   ]
  },
  {
   "cell_type": "markdown",
   "id": "de0f721c",
   "metadata": {},
   "source": [
    "### Вывод 1"
   ]
  },
  {
   "cell_type": "markdown",
   "id": "4c97842c",
   "metadata": {},
   "source": [
    "Как видно из последнего столбца **share** датафрейма **frame_of_family** доля должников у заёмщиков без детей меньше и составляет 7.5 %. Тоесть у тех людей, у которых нет детей реже возникают задолжности по платежам, что объяснимо, исходя из того, что трат у таких людей меньше. Долю должников для родителей 5х детей не рассматривает, так как для статистики таких родителей мало, всего 9 из 21454."
   ]
  },
  {
   "cell_type": "markdown",
   "id": "4e910734",
   "metadata": {},
   "source": [
    "### Вопрос 2:  Есть ли зависимость между семейным положением и возвратом кредита в срок?"
   ]
  },
  {
   "cell_type": "markdown",
   "id": "1f873e56",
   "metadata": {},
   "source": [
    "Для ответа на этот вопрос сгруппируем с помощью метода **pivot_table** датафрейм **static_borrower** по столбцу **family_status_id** значения для подсчёта суммы и кол-ва возьмём из столбца **debt**"
   ]
  },
  {
   "cell_type": "code",
   "execution_count": 38,
   "id": "bbf242b5",
   "metadata": {},
   "outputs": [
    {
     "data": {
      "text/html": [
       "<div>\n",
       "<style scoped>\n",
       "    .dataframe tbody tr th:only-of-type {\n",
       "        vertical-align: middle;\n",
       "    }\n",
       "\n",
       "    .dataframe tbody tr th {\n",
       "        vertical-align: top;\n",
       "    }\n",
       "\n",
       "    .dataframe thead tr th {\n",
       "        text-align: left;\n",
       "    }\n",
       "\n",
       "    .dataframe thead tr:last-of-type th {\n",
       "        text-align: right;\n",
       "    }\n",
       "</style>\n",
       "<table border=\"1\" class=\"dataframe\">\n",
       "  <thead>\n",
       "    <tr>\n",
       "      <th></th>\n",
       "      <th>sum</th>\n",
       "      <th>count</th>\n",
       "    </tr>\n",
       "    <tr>\n",
       "      <th></th>\n",
       "      <th>debt</th>\n",
       "      <th>debt</th>\n",
       "    </tr>\n",
       "    <tr>\n",
       "      <th>family_status_id</th>\n",
       "      <th></th>\n",
       "      <th></th>\n",
       "    </tr>\n",
       "  </thead>\n",
       "  <tbody>\n",
       "    <tr>\n",
       "      <th>0</th>\n",
       "      <td>931</td>\n",
       "      <td>12339</td>\n",
       "    </tr>\n",
       "    <tr>\n",
       "      <th>1</th>\n",
       "      <td>388</td>\n",
       "      <td>4150</td>\n",
       "    </tr>\n",
       "    <tr>\n",
       "      <th>2</th>\n",
       "      <td>63</td>\n",
       "      <td>959</td>\n",
       "    </tr>\n",
       "    <tr>\n",
       "      <th>3</th>\n",
       "      <td>85</td>\n",
       "      <td>1195</td>\n",
       "    </tr>\n",
       "    <tr>\n",
       "      <th>4</th>\n",
       "      <td>274</td>\n",
       "      <td>2810</td>\n",
       "    </tr>\n",
       "  </tbody>\n",
       "</table>\n",
       "</div>"
      ],
      "text/plain": [
       "                  sum  count\n",
       "                 debt   debt\n",
       "family_status_id            \n",
       "0                 931  12339\n",
       "1                 388   4150\n",
       "2                  63    959\n",
       "3                  85   1195\n",
       "4                 274   2810"
      ]
     },
     "execution_count": 38,
     "metadata": {},
     "output_type": "execute_result"
    }
   ],
   "source": [
    "frame_of_family = static_borrower.pivot_table(index = ['family_status_id'], values = 'debt', aggfunc = ['sum','count'])\n",
    "frame_of_family"
   ]
  },
  {
   "cell_type": "markdown",
   "id": "ca57ddf9",
   "metadata": {},
   "source": [
    "У нас получился датафрейм **frame_of_family**, добавим в него столбец **share** с расчётом доли должников в зависимости от семейного положения."
   ]
  },
  {
   "cell_type": "code",
   "execution_count": 39,
   "id": "5593171e",
   "metadata": {},
   "outputs": [],
   "source": [
    "frame_of_family['share'] = (frame_of_family['sum']/frame_of_family['count'])*100\n",
    "frame_of_family = frame_of_family.round(1)\n",
    "# объединим наименования столбцов таблицы\n",
    "frame_of_family.columns = ['sum_debt', 'count_debt', 'share']\n",
    "# отсортируем по столбцу share\n",
    "frame_of_family = frame_of_family.sort_values(by='share')"
   ]
  },
  {
   "cell_type": "markdown",
   "id": "ed878adc",
   "metadata": {},
   "source": [
    "Объединим датафрейм **frame_of_family** с таблицей словарём **save_family_status**, при этом удалим дубликаты из датафрейма **save_family_status** без его перезаписи **save_family_status.drop_duplicates().reset_index(drop=True)**"
   ]
  },
  {
   "cell_type": "code",
   "execution_count": 40,
   "id": "76300f71",
   "metadata": {},
   "outputs": [
    {
     "data": {
      "text/html": [
       "<div>\n",
       "<style scoped>\n",
       "    .dataframe tbody tr th:only-of-type {\n",
       "        vertical-align: middle;\n",
       "    }\n",
       "\n",
       "    .dataframe tbody tr th {\n",
       "        vertical-align: top;\n",
       "    }\n",
       "\n",
       "    .dataframe thead th {\n",
       "        text-align: right;\n",
       "    }\n",
       "</style>\n",
       "<table border=\"1\" class=\"dataframe\">\n",
       "  <thead>\n",
       "    <tr style=\"text-align: right;\">\n",
       "      <th></th>\n",
       "      <th>family_status</th>\n",
       "      <th>share</th>\n",
       "    </tr>\n",
       "  </thead>\n",
       "  <tbody>\n",
       "    <tr>\n",
       "      <th>0</th>\n",
       "      <td>вдовец / вдова</td>\n",
       "      <td>6.6</td>\n",
       "    </tr>\n",
       "    <tr>\n",
       "      <th>1</th>\n",
       "      <td>в разводе</td>\n",
       "      <td>7.1</td>\n",
       "    </tr>\n",
       "    <tr>\n",
       "      <th>2</th>\n",
       "      <td>женат / замужем</td>\n",
       "      <td>7.5</td>\n",
       "    </tr>\n",
       "    <tr>\n",
       "      <th>3</th>\n",
       "      <td>гражданский брак</td>\n",
       "      <td>9.3</td>\n",
       "    </tr>\n",
       "    <tr>\n",
       "      <th>4</th>\n",
       "      <td>Не женат / не замужем</td>\n",
       "      <td>9.8</td>\n",
       "    </tr>\n",
       "  </tbody>\n",
       "</table>\n",
       "</div>"
      ],
      "text/plain": [
       "           family_status  share\n",
       "0         вдовец / вдова    6.6\n",
       "1              в разводе    7.1\n",
       "2        женат / замужем    7.5\n",
       "3       гражданский брак    9.3\n",
       "4  Не женат / не замужем    9.8"
      ]
     },
     "execution_count": 40,
     "metadata": {},
     "output_type": "execute_result"
    }
   ],
   "source": [
    "frame_of_family = frame_of_family.merge(save_family_status.drop_duplicates().reset_index(drop=True), on='family_status_id', how = 'left')\n",
    "frame_of_family[['family_status', 'share']]"
   ]
  },
  {
   "cell_type": "markdown",
   "id": "31abb6f6",
   "metadata": {},
   "source": [
    "### Вывод 2"
   ]
  },
  {
   "cell_type": "markdown",
   "id": "cb5a3659",
   "metadata": {},
   "source": [
    "Как видно из результатов исследования, семейное положение влияет на долю должников. Так наименьший процент должников среди вдов и вдовцов - 6.6 %, возможно потому, что уже имеется нажитое вместе имущество, расходы не велики на развлечения и прочие радости жизни, в основном это наверняка пожилые, зрелые люди, отлично умеющие распоряжаться своими доходами.    \n",
    "Наибольший процент должников среди не женатых/ не замужних 9.8 %, скоре всего здесь большая часть молодых, ещё не очень умеющих распоряжаться своими доходами людей у которых траты на повседневную жизнь больше нежели у остальных."
   ]
  },
  {
   "cell_type": "markdown",
   "id": "346f53b0",
   "metadata": {},
   "source": [
    "### Вопрос 3:  Есть ли зависимость между уровнем дохода и возвратом кредита в срок?"
   ]
  },
  {
   "cell_type": "markdown",
   "id": "e30af4c3",
   "metadata": {},
   "source": [
    "Для ответа на этот вопрос сгруппируем с помощью метода **pivot_table** датафрейм **static_borrower** по столбцу **total_income_id** значения для подсчёта суммы и кол-ва возьмём из столбца **debt**"
   ]
  },
  {
   "cell_type": "code",
   "execution_count": 41,
   "id": "fd65aaac",
   "metadata": {},
   "outputs": [
    {
     "data": {
      "text/html": [
       "<div>\n",
       "<style scoped>\n",
       "    .dataframe tbody tr th:only-of-type {\n",
       "        vertical-align: middle;\n",
       "    }\n",
       "\n",
       "    .dataframe tbody tr th {\n",
       "        vertical-align: top;\n",
       "    }\n",
       "\n",
       "    .dataframe thead tr th {\n",
       "        text-align: left;\n",
       "    }\n",
       "\n",
       "    .dataframe thead tr:last-of-type th {\n",
       "        text-align: right;\n",
       "    }\n",
       "</style>\n",
       "<table border=\"1\" class=\"dataframe\">\n",
       "  <thead>\n",
       "    <tr>\n",
       "      <th></th>\n",
       "      <th>sum</th>\n",
       "      <th>count</th>\n",
       "    </tr>\n",
       "    <tr>\n",
       "      <th></th>\n",
       "      <th>debt</th>\n",
       "      <th>debt</th>\n",
       "    </tr>\n",
       "    <tr>\n",
       "      <th>total_income_id</th>\n",
       "      <th></th>\n",
       "      <th></th>\n",
       "    </tr>\n",
       "  </thead>\n",
       "  <tbody>\n",
       "    <tr>\n",
       "      <th>A</th>\n",
       "      <td>2</td>\n",
       "      <td>25</td>\n",
       "    </tr>\n",
       "    <tr>\n",
       "      <th>B</th>\n",
       "      <td>356</td>\n",
       "      <td>5040</td>\n",
       "    </tr>\n",
       "    <tr>\n",
       "      <th>C</th>\n",
       "      <td>1360</td>\n",
       "      <td>16016</td>\n",
       "    </tr>\n",
       "    <tr>\n",
       "      <th>D</th>\n",
       "      <td>21</td>\n",
       "      <td>350</td>\n",
       "    </tr>\n",
       "    <tr>\n",
       "      <th>E</th>\n",
       "      <td>2</td>\n",
       "      <td>22</td>\n",
       "    </tr>\n",
       "  </tbody>\n",
       "</table>\n",
       "</div>"
      ],
      "text/plain": [
       "                  sum  count\n",
       "                 debt   debt\n",
       "total_income_id             \n",
       "A                   2     25\n",
       "B                 356   5040\n",
       "C                1360  16016\n",
       "D                  21    350\n",
       "E                   2     22"
      ]
     },
     "execution_count": 41,
     "metadata": {},
     "output_type": "execute_result"
    }
   ],
   "source": [
    "frame_of_income = static_borrower.pivot_table(index = ['total_income_id'], values = 'debt', aggfunc = ['sum','count'])\n",
    "frame_of_income"
   ]
  },
  {
   "cell_type": "markdown",
   "id": "73c3bc8a",
   "metadata": {},
   "source": [
    "У нас получился датафрейм **frame_of_income**, добавим в него столбец **share** с расчётом доли должников в зависимости от семейного положения"
   ]
  },
  {
   "cell_type": "code",
   "execution_count": 42,
   "id": "77b79215",
   "metadata": {},
   "outputs": [
    {
     "data": {
      "text/html": [
       "<div>\n",
       "<style scoped>\n",
       "    .dataframe tbody tr th:only-of-type {\n",
       "        vertical-align: middle;\n",
       "    }\n",
       "\n",
       "    .dataframe tbody tr th {\n",
       "        vertical-align: top;\n",
       "    }\n",
       "\n",
       "    .dataframe thead th {\n",
       "        text-align: right;\n",
       "    }\n",
       "</style>\n",
       "<table border=\"1\" class=\"dataframe\">\n",
       "  <thead>\n",
       "    <tr style=\"text-align: right;\">\n",
       "      <th></th>\n",
       "      <th>sum_debt</th>\n",
       "      <th>count_debt</th>\n",
       "      <th>share</th>\n",
       "    </tr>\n",
       "    <tr>\n",
       "      <th>total_income_id</th>\n",
       "      <th></th>\n",
       "      <th></th>\n",
       "      <th></th>\n",
       "    </tr>\n",
       "  </thead>\n",
       "  <tbody>\n",
       "    <tr>\n",
       "      <th>D</th>\n",
       "      <td>21</td>\n",
       "      <td>350</td>\n",
       "      <td>6.0</td>\n",
       "    </tr>\n",
       "    <tr>\n",
       "      <th>B</th>\n",
       "      <td>356</td>\n",
       "      <td>5040</td>\n",
       "      <td>7.1</td>\n",
       "    </tr>\n",
       "    <tr>\n",
       "      <th>A</th>\n",
       "      <td>2</td>\n",
       "      <td>25</td>\n",
       "      <td>8.0</td>\n",
       "    </tr>\n",
       "    <tr>\n",
       "      <th>C</th>\n",
       "      <td>1360</td>\n",
       "      <td>16016</td>\n",
       "      <td>8.5</td>\n",
       "    </tr>\n",
       "    <tr>\n",
       "      <th>E</th>\n",
       "      <td>2</td>\n",
       "      <td>22</td>\n",
       "      <td>9.1</td>\n",
       "    </tr>\n",
       "  </tbody>\n",
       "</table>\n",
       "</div>"
      ],
      "text/plain": [
       "                 sum_debt  count_debt  share\n",
       "total_income_id                             \n",
       "D                      21         350    6.0\n",
       "B                     356        5040    7.1\n",
       "A                       2          25    8.0\n",
       "C                    1360       16016    8.5\n",
       "E                       2          22    9.1"
      ]
     },
     "execution_count": 42,
     "metadata": {},
     "output_type": "execute_result"
    }
   ],
   "source": [
    "frame_of_income['share'] = (frame_of_income['sum']/frame_of_income['count'])*100\n",
    "frame_of_income = frame_of_income.round(1)\n",
    "# объединим наименования столбцов таблицы\n",
    "frame_of_income.columns = ['sum_debt', 'count_debt', 'share']\n",
    "# отсортируем по столбцу share\n",
    "frame_of_income = frame_of_income.sort_values(by='share')\n",
    "frame_of_income"
   ]
  },
  {
   "cell_type": "markdown",
   "id": "3ad9b1da",
   "metadata": {},
   "source": [
    "### Вывод 3"
   ]
  },
  {
   "cell_type": "markdown",
   "id": "555aa2d4",
   "metadata": {},
   "source": [
    "Как видно из исследования наименьшая доля должников 6 % у людей с уровнем дохода D (30001–50000 у.е. в месяц). Наибольшее количество должников 9.1 % с уровнем дохода E (до 30000 у.е. в месяц). Это объяснимо, потому что это самый низкий доход из нашего датафрейма. Но выводы по этому вопросу не могут быть однозначны, так как данных по уровням дохода А,Е мало(25,22 человек это около 0.1 % от общего количества)."
   ]
  },
  {
   "cell_type": "markdown",
   "id": "84b44236",
   "metadata": {},
   "source": [
    "### Вопрос 4:  Как разные цели кредита влияют на его возврат в срок?"
   ]
  },
  {
   "cell_type": "markdown",
   "id": "4bfc9e5e",
   "metadata": {},
   "source": [
    "Для ответа на этот вопрос сгруппируем с помощью метода **pivot_table** датафрейм **static_borrower** по столбцу **purpose** значения для подсчёта суммы и кол-ва возьмём из столбца **debt**"
   ]
  },
  {
   "cell_type": "code",
   "execution_count": 43,
   "id": "85307e1a",
   "metadata": {},
   "outputs": [
    {
     "data": {
      "text/html": [
       "<div>\n",
       "<style scoped>\n",
       "    .dataframe tbody tr th:only-of-type {\n",
       "        vertical-align: middle;\n",
       "    }\n",
       "\n",
       "    .dataframe tbody tr th {\n",
       "        vertical-align: top;\n",
       "    }\n",
       "\n",
       "    .dataframe thead tr th {\n",
       "        text-align: left;\n",
       "    }\n",
       "\n",
       "    .dataframe thead tr:last-of-type th {\n",
       "        text-align: right;\n",
       "    }\n",
       "</style>\n",
       "<table border=\"1\" class=\"dataframe\">\n",
       "  <thead>\n",
       "    <tr>\n",
       "      <th></th>\n",
       "      <th>sum</th>\n",
       "      <th>count</th>\n",
       "    </tr>\n",
       "    <tr>\n",
       "      <th></th>\n",
       "      <th>debt</th>\n",
       "      <th>debt</th>\n",
       "    </tr>\n",
       "    <tr>\n",
       "      <th>purpose</th>\n",
       "      <th></th>\n",
       "      <th></th>\n",
       "    </tr>\n",
       "  </thead>\n",
       "  <tbody>\n",
       "    <tr>\n",
       "      <th>операции с автомобилем</th>\n",
       "      <td>403</td>\n",
       "      <td>4306</td>\n",
       "    </tr>\n",
       "    <tr>\n",
       "      <th>операции с недвижимостью</th>\n",
       "      <td>782</td>\n",
       "      <td>10810</td>\n",
       "    </tr>\n",
       "    <tr>\n",
       "      <th>получение образования</th>\n",
       "      <td>370</td>\n",
       "      <td>4013</td>\n",
       "    </tr>\n",
       "    <tr>\n",
       "      <th>проведение свадьбы</th>\n",
       "      <td>186</td>\n",
       "      <td>2324</td>\n",
       "    </tr>\n",
       "  </tbody>\n",
       "</table>\n",
       "</div>"
      ],
      "text/plain": [
       "                          sum  count\n",
       "                         debt   debt\n",
       "purpose                             \n",
       "операции с автомобилем    403   4306\n",
       "операции с недвижимостью  782  10810\n",
       "получение образования     370   4013\n",
       "проведение свадьбы        186   2324"
      ]
     },
     "execution_count": 43,
     "metadata": {},
     "output_type": "execute_result"
    }
   ],
   "source": [
    "frame_of_purpose = static_borrower.pivot_table(index = ['purpose'], values = 'debt', aggfunc = ['sum','count'])\n",
    "frame_of_purpose"
   ]
  },
  {
   "cell_type": "markdown",
   "id": "721f267a",
   "metadata": {},
   "source": [
    "У нас получился датафрейм **frame_of_purpose**, добавим в него столбец **share** с расчётом доли должников в зависимости от семейного положения"
   ]
  },
  {
   "cell_type": "code",
   "execution_count": 44,
   "id": "baacc05f",
   "metadata": {},
   "outputs": [
    {
     "data": {
      "text/plain": [
       "purpose\n",
       "операции с недвижимостью    7.2\n",
       "проведение свадьбы          8.0\n",
       "получение образования       9.2\n",
       "операции с автомобилем      9.4\n",
       "Name: share, dtype: float64"
      ]
     },
     "execution_count": 44,
     "metadata": {},
     "output_type": "execute_result"
    }
   ],
   "source": [
    "frame_of_purpose['share'] = (frame_of_purpose['sum']/frame_of_purpose['count'])*100\n",
    "frame_of_purpose = frame_of_purpose.round(1)\n",
    "# объединим наименования столбцов таблицы\n",
    "frame_of_purpose.columns = ['sum_debt', 'count_debt', 'share']\n",
    "# отсортируем по столбцу share\n",
    "frame_of_purpose = frame_of_purpose.sort_values(by='share')\n",
    "# выведем интересующий нас результат\n",
    "frame_of_purpose['share']"
   ]
  },
  {
   "cell_type": "markdown",
   "id": "66eb77a0",
   "metadata": {},
   "source": [
    "### Вывод 4"
   ]
  },
  {
   "cell_type": "markdown",
   "id": "307a4076",
   "metadata": {},
   "source": [
    "Как видно из результата исследования, лучше всех отдают кредит люди берущие деньги на недвижимость и строительство, доля должников у обоих категорий 7.2 %. Что объяснимо, так как это жизненно необходимые потребности в жилье, к этому люди, в большинстве своём, идут обдуманно, взвесив свои доходы и просрочка по оплате может дорого стоить. Наибольший процент должников у тех, кто берёт кредит на автомобиль, возможно потому, что сумма на автомобиль достаточно велика в отличии от свадьбы и образования, а просрочка по платежам не несёт больших рисков остаться без жизненно необходимого."
   ]
  },
  {
   "cell_type": "markdown",
   "id": "ef6672e4",
   "metadata": {},
   "source": [
    "## Общий вывод:"
   ]
  },
  {
   "cell_type": "markdown",
   "id": "521c37f2",
   "metadata": {},
   "source": [
    "Основываясь на полученные данные можно прийти к следующему выводу: Семейное положение и наличие детей в семье безусловно влияют на факт погашения кредита. Так мы можем увидеть, что вероятность клиента имеющего 4 ребёнка стать должником составляет 9.8%, а вероятность клиента принадлежащего к группе \"не женат / не замужем\" стать должником составляет 9.8%. Поэтому логично будет предположить, что наиболее безопасными для банка заемщиками являются семьи без детей и люди являющиеся вдовой/вдовцом."
   ]
  }
 ],
 "metadata": {
  "ExecuteTimeLog": [
   {
    "duration": 489,
    "start_time": "2022-04-22T18:53:33.403Z"
   },
   {
    "duration": 79,
    "start_time": "2022-04-22T18:53:40.991Z"
   },
   {
    "duration": 2,
    "start_time": "2022-04-22T19:01:44.418Z"
   },
   {
    "duration": 82,
    "start_time": "2022-04-22T19:06:10.799Z"
   },
   {
    "duration": 2,
    "start_time": "2022-04-22T19:15:18.001Z"
   },
   {
    "duration": 72,
    "start_time": "2022-04-22T19:15:19.148Z"
   },
   {
    "duration": 442,
    "start_time": "2022-04-22T19:21:43.006Z"
   },
   {
    "duration": 105,
    "start_time": "2022-04-22T19:21:43.450Z"
   },
   {
    "duration": 20,
    "start_time": "2022-04-22T19:31:08.375Z"
   },
   {
    "duration": 10,
    "start_time": "2022-04-22T19:31:19.597Z"
   },
   {
    "duration": 197,
    "start_time": "2022-04-22T19:32:21.223Z"
   },
   {
    "duration": 18,
    "start_time": "2022-04-22T19:33:04.211Z"
   },
   {
    "duration": 65,
    "start_time": "2022-04-22T19:43:46.631Z"
   },
   {
    "duration": 10,
    "start_time": "2022-04-22T19:44:29.420Z"
   },
   {
    "duration": 5,
    "start_time": "2022-04-22T19:44:44.252Z"
   },
   {
    "duration": 4,
    "start_time": "2022-04-22T19:47:33.546Z"
   },
   {
    "duration": 190,
    "start_time": "2022-04-22T19:47:42.211Z"
   },
   {
    "duration": 200,
    "start_time": "2022-04-22T19:47:52.334Z"
   },
   {
    "duration": 4,
    "start_time": "2022-04-22T19:48:01.193Z"
   },
   {
    "duration": 228,
    "start_time": "2022-04-22T19:48:06.543Z"
   },
   {
    "duration": 4,
    "start_time": "2022-04-22T19:48:20.995Z"
   },
   {
    "duration": 7,
    "start_time": "2022-04-22T19:49:02.576Z"
   },
   {
    "duration": 211,
    "start_time": "2022-04-22T19:49:12.075Z"
   },
   {
    "duration": 213,
    "start_time": "2022-04-22T19:50:01.575Z"
   },
   {
    "duration": 210,
    "start_time": "2022-04-22T19:50:31.075Z"
   },
   {
    "duration": 205,
    "start_time": "2022-04-22T19:50:49.017Z"
   },
   {
    "duration": 196,
    "start_time": "2022-04-22T19:55:14.963Z"
   },
   {
    "duration": 183,
    "start_time": "2022-04-22T19:55:20.350Z"
   },
   {
    "duration": 184,
    "start_time": "2022-04-22T19:55:27.612Z"
   },
   {
    "duration": 4,
    "start_time": "2022-04-22T19:57:20.251Z"
   },
   {
    "duration": 185,
    "start_time": "2022-04-22T19:59:05.240Z"
   },
   {
    "duration": 4,
    "start_time": "2022-04-22T19:59:14.687Z"
   },
   {
    "duration": 4,
    "start_time": "2022-04-22T19:59:21.183Z"
   },
   {
    "duration": 4,
    "start_time": "2022-04-22T19:59:25.431Z"
   },
   {
    "duration": 4,
    "start_time": "2022-04-22T19:59:28.332Z"
   },
   {
    "duration": 6,
    "start_time": "2022-04-22T20:00:06.872Z"
   },
   {
    "duration": 5,
    "start_time": "2022-04-22T20:00:14.758Z"
   },
   {
    "duration": 6,
    "start_time": "2022-04-22T20:16:39.589Z"
   },
   {
    "duration": 20,
    "start_time": "2022-04-22T20:17:47.494Z"
   },
   {
    "duration": 10,
    "start_time": "2022-04-22T20:17:57.905Z"
   },
   {
    "duration": 15,
    "start_time": "2022-04-22T20:26:00.608Z"
   },
   {
    "duration": 20,
    "start_time": "2022-04-22T20:26:10.901Z"
   },
   {
    "duration": 20,
    "start_time": "2022-04-22T20:30:18.283Z"
   },
   {
    "duration": 20,
    "start_time": "2022-04-22T20:30:23.719Z"
   },
   {
    "duration": 5,
    "start_time": "2022-04-22T20:34:49.957Z"
   },
   {
    "duration": 5,
    "start_time": "2022-04-22T20:34:54.461Z"
   },
   {
    "duration": 4,
    "start_time": "2022-04-22T21:00:51.357Z"
   },
   {
    "duration": 5,
    "start_time": "2022-04-22T21:00:54.466Z"
   },
   {
    "duration": 6,
    "start_time": "2022-04-22T21:01:07.184Z"
   },
   {
    "duration": 6,
    "start_time": "2022-04-22T21:12:35.890Z"
   },
   {
    "duration": 4,
    "start_time": "2022-04-22T21:13:19.977Z"
   },
   {
    "duration": 6,
    "start_time": "2022-04-22T21:17:17.255Z"
   },
   {
    "duration": 8,
    "start_time": "2022-04-22T21:17:49.947Z"
   },
   {
    "duration": 12,
    "start_time": "2022-04-22T21:19:16.837Z"
   },
   {
    "duration": 8,
    "start_time": "2022-04-22T21:20:07.770Z"
   },
   {
    "duration": 8,
    "start_time": "2022-04-22T21:21:28.302Z"
   },
   {
    "duration": 3,
    "start_time": "2022-04-22T21:21:37.091Z"
   },
   {
    "duration": 9,
    "start_time": "2022-04-22T21:21:39.889Z"
   },
   {
    "duration": 394,
    "start_time": "2022-04-22T21:21:56.046Z"
   },
   {
    "duration": 95,
    "start_time": "2022-04-22T21:21:56.441Z"
   },
   {
    "duration": 66,
    "start_time": "2022-04-22T21:21:56.539Z"
   },
   {
    "duration": 10,
    "start_time": "2022-04-22T21:21:56.610Z"
   },
   {
    "duration": 8,
    "start_time": "2022-04-22T21:21:56.622Z"
   },
   {
    "duration": 4,
    "start_time": "2022-04-22T21:21:56.633Z"
   },
   {
    "duration": 10,
    "start_time": "2022-04-22T21:21:56.639Z"
   },
   {
    "duration": 4,
    "start_time": "2022-04-22T21:22:04.314Z"
   },
   {
    "duration": 8,
    "start_time": "2022-04-22T21:22:07.098Z"
   },
   {
    "duration": 5,
    "start_time": "2022-04-22T21:38:04.339Z"
   },
   {
    "duration": 11,
    "start_time": "2022-04-22T21:38:19.490Z"
   },
   {
    "duration": 412,
    "start_time": "2022-04-22T21:38:43.182Z"
   },
   {
    "duration": 103,
    "start_time": "2022-04-22T21:38:43.596Z"
   },
   {
    "duration": 22,
    "start_time": "2022-04-22T21:38:43.700Z"
   },
   {
    "duration": 11,
    "start_time": "2022-04-22T21:38:43.724Z"
   },
   {
    "duration": 4,
    "start_time": "2022-04-22T21:38:43.737Z"
   },
   {
    "duration": 5,
    "start_time": "2022-04-22T21:38:43.743Z"
   },
   {
    "duration": 12,
    "start_time": "2022-04-22T21:38:43.749Z"
   },
   {
    "duration": 11,
    "start_time": "2022-04-22T21:38:55.387Z"
   },
   {
    "duration": 68,
    "start_time": "2022-04-22T21:47:04.843Z"
   },
   {
    "duration": 443,
    "start_time": "2022-04-22T21:47:12.075Z"
   },
   {
    "duration": 99,
    "start_time": "2022-04-22T21:47:12.520Z"
   },
   {
    "duration": 14,
    "start_time": "2022-04-22T21:47:12.621Z"
   },
   {
    "duration": 9,
    "start_time": "2022-04-22T21:47:12.638Z"
   },
   {
    "duration": 5,
    "start_time": "2022-04-22T21:47:12.649Z"
   },
   {
    "duration": 4,
    "start_time": "2022-04-22T21:47:12.655Z"
   },
   {
    "duration": 10,
    "start_time": "2022-04-22T21:47:12.661Z"
   },
   {
    "duration": 95,
    "start_time": "2022-04-22T21:47:12.673Z"
   },
   {
    "duration": 11,
    "start_time": "2022-04-22T21:47:55.943Z"
   },
   {
    "duration": 10,
    "start_time": "2022-04-22T21:48:31.829Z"
   },
   {
    "duration": 10,
    "start_time": "2022-04-22T21:49:10.538Z"
   },
   {
    "duration": 6,
    "start_time": "2022-04-22T21:49:39.442Z"
   },
   {
    "duration": 11,
    "start_time": "2022-04-22T21:50:04.373Z"
   },
   {
    "duration": 85,
    "start_time": "2022-04-22T21:50:17.419Z"
   },
   {
    "duration": 84,
    "start_time": "2022-04-22T21:50:19.657Z"
   },
   {
    "duration": 3,
    "start_time": "2022-04-22T21:50:21.688Z"
   },
   {
    "duration": 78,
    "start_time": "2022-04-22T21:50:23.400Z"
   },
   {
    "duration": 14,
    "start_time": "2022-04-22T21:50:26.577Z"
   },
   {
    "duration": 10,
    "start_time": "2022-04-22T21:50:32.981Z"
   },
   {
    "duration": 5,
    "start_time": "2022-04-22T21:50:36.068Z"
   },
   {
    "duration": 4,
    "start_time": "2022-04-22T21:50:38.740Z"
   },
   {
    "duration": 11,
    "start_time": "2022-04-22T21:50:42.825Z"
   },
   {
    "duration": 21,
    "start_time": "2022-04-22T21:50:46.129Z"
   },
   {
    "duration": 15,
    "start_time": "2022-04-22T21:50:55.624Z"
   },
   {
    "duration": 5,
    "start_time": "2022-04-22T21:51:02.846Z"
   },
   {
    "duration": 86,
    "start_time": "2022-04-22T21:51:20.368Z"
   },
   {
    "duration": 10,
    "start_time": "2022-04-22T21:51:25.484Z"
   },
   {
    "duration": 5,
    "start_time": "2022-04-22T21:51:27.759Z"
   },
   {
    "duration": 3,
    "start_time": "2022-04-22T21:51:30.672Z"
   },
   {
    "duration": 22,
    "start_time": "2022-04-22T21:51:45.704Z"
   },
   {
    "duration": 8,
    "start_time": "2022-04-22T21:52:06.942Z"
   },
   {
    "duration": 7,
    "start_time": "2022-04-22T21:52:11.707Z"
   },
   {
    "duration": 11,
    "start_time": "2022-04-22T21:52:18.544Z"
   },
   {
    "duration": 83,
    "start_time": "2022-04-22T21:52:27.294Z"
   },
   {
    "duration": 20,
    "start_time": "2022-04-22T21:52:44.090Z"
   },
   {
    "duration": 22,
    "start_time": "2022-04-22T21:53:02.130Z"
   },
   {
    "duration": 442,
    "start_time": "2022-04-22T21:53:09.700Z"
   },
   {
    "duration": 91,
    "start_time": "2022-04-22T21:53:10.145Z"
   },
   {
    "duration": 15,
    "start_time": "2022-04-22T21:53:10.238Z"
   },
   {
    "duration": 17,
    "start_time": "2022-04-22T21:53:10.255Z"
   },
   {
    "duration": 5,
    "start_time": "2022-04-22T21:53:10.273Z"
   },
   {
    "duration": 47,
    "start_time": "2022-04-22T21:53:10.280Z"
   },
   {
    "duration": 12,
    "start_time": "2022-04-22T21:53:10.329Z"
   },
   {
    "duration": 21,
    "start_time": "2022-04-22T21:53:10.343Z"
   },
   {
    "duration": 5,
    "start_time": "2022-04-22T21:53:18.336Z"
   },
   {
    "duration": 15,
    "start_time": "2022-04-22T21:54:22.140Z"
   },
   {
    "duration": 494,
    "start_time": "2022-04-24T19:56:02.465Z"
   },
   {
    "duration": 116,
    "start_time": "2022-04-24T19:56:02.962Z"
   },
   {
    "duration": 21,
    "start_time": "2022-04-24T19:56:03.081Z"
   },
   {
    "duration": 14,
    "start_time": "2022-04-24T19:56:03.104Z"
   },
   {
    "duration": 33,
    "start_time": "2022-04-24T19:56:03.120Z"
   },
   {
    "duration": 33,
    "start_time": "2022-04-24T19:56:03.155Z"
   },
   {
    "duration": 12,
    "start_time": "2022-04-24T19:56:03.190Z"
   },
   {
    "duration": 5,
    "start_time": "2022-04-24T19:56:03.204Z"
   },
   {
    "duration": 59,
    "start_time": "2022-04-24T19:56:03.211Z"
   },
   {
    "duration": 4,
    "start_time": "2022-04-24T20:44:18.477Z"
   },
   {
    "duration": 58,
    "start_time": "2022-04-24T20:45:30.266Z"
   },
   {
    "duration": 7,
    "start_time": "2022-04-24T20:45:49.438Z"
   },
   {
    "duration": 112,
    "start_time": "2022-04-24T20:51:11.353Z"
   },
   {
    "duration": 11,
    "start_time": "2022-04-24T20:51:22.263Z"
   },
   {
    "duration": 36,
    "start_time": "2022-04-24T20:51:30.348Z"
   },
   {
    "duration": 34,
    "start_time": "2022-04-24T20:52:00.376Z"
   },
   {
    "duration": 9,
    "start_time": "2022-04-24T20:53:35.834Z"
   },
   {
    "duration": 8,
    "start_time": "2022-04-24T20:57:30.101Z"
   },
   {
    "duration": 14,
    "start_time": "2022-04-24T20:59:09.602Z"
   },
   {
    "duration": 9,
    "start_time": "2022-04-24T21:00:27.980Z"
   },
   {
    "duration": 659,
    "start_time": "2022-04-24T21:00:53.594Z"
   },
   {
    "duration": 180,
    "start_time": "2022-04-24T21:00:54.257Z"
   },
   {
    "duration": 26,
    "start_time": "2022-04-24T21:00:54.439Z"
   },
   {
    "duration": 13,
    "start_time": "2022-04-24T21:00:54.467Z"
   },
   {
    "duration": 8,
    "start_time": "2022-04-24T21:00:54.482Z"
   },
   {
    "duration": 64,
    "start_time": "2022-04-24T21:00:54.493Z"
   },
   {
    "duration": 12,
    "start_time": "2022-04-24T21:00:54.559Z"
   },
   {
    "duration": 5,
    "start_time": "2022-04-24T21:00:54.573Z"
   },
   {
    "duration": 23,
    "start_time": "2022-04-24T21:00:54.580Z"
   },
   {
    "duration": 47,
    "start_time": "2022-04-24T21:00:54.606Z"
   },
   {
    "duration": 17,
    "start_time": "2022-04-24T21:00:54.655Z"
   },
   {
    "duration": 51,
    "start_time": "2022-04-25T11:43:56.012Z"
   },
   {
    "duration": 398,
    "start_time": "2022-04-25T11:44:02.974Z"
   },
   {
    "duration": 95,
    "start_time": "2022-04-25T11:44:03.374Z"
   },
   {
    "duration": 17,
    "start_time": "2022-04-25T11:44:03.470Z"
   },
   {
    "duration": 11,
    "start_time": "2022-04-25T11:44:03.488Z"
   },
   {
    "duration": 24,
    "start_time": "2022-04-25T11:44:03.501Z"
   },
   {
    "duration": 28,
    "start_time": "2022-04-25T11:44:03.527Z"
   },
   {
    "duration": 10,
    "start_time": "2022-04-25T11:44:03.557Z"
   },
   {
    "duration": 9,
    "start_time": "2022-04-25T11:44:03.569Z"
   },
   {
    "duration": 42,
    "start_time": "2022-04-25T11:44:03.581Z"
   },
   {
    "duration": 6,
    "start_time": "2022-04-25T11:44:03.625Z"
   },
   {
    "duration": 10,
    "start_time": "2022-04-25T11:44:03.633Z"
   },
   {
    "duration": 6,
    "start_time": "2022-04-25T11:50:11.960Z"
   },
   {
    "duration": 25,
    "start_time": "2022-04-25T11:53:05.580Z"
   },
   {
    "duration": 8,
    "start_time": "2022-04-25T12:03:47.810Z"
   },
   {
    "duration": 8,
    "start_time": "2022-04-25T12:05:55.679Z"
   },
   {
    "duration": 10,
    "start_time": "2022-04-25T12:07:59.932Z"
   },
   {
    "duration": 7,
    "start_time": "2022-04-25T12:10:38.523Z"
   },
   {
    "duration": 10,
    "start_time": "2022-04-25T12:11:58.131Z"
   },
   {
    "duration": 504,
    "start_time": "2022-04-25T12:21:06.918Z"
   },
   {
    "duration": 412,
    "start_time": "2022-04-25T12:21:07.425Z"
   },
   {
    "duration": 14,
    "start_time": "2022-04-25T12:21:07.839Z"
   },
   {
    "duration": 15,
    "start_time": "2022-04-25T12:21:07.855Z"
   },
   {
    "duration": 27,
    "start_time": "2022-04-25T12:21:07.872Z"
   },
   {
    "duration": 37,
    "start_time": "2022-04-25T12:21:07.901Z"
   },
   {
    "duration": 10,
    "start_time": "2022-04-25T12:21:07.939Z"
   },
   {
    "duration": 26,
    "start_time": "2022-04-25T12:21:07.951Z"
   },
   {
    "duration": 29,
    "start_time": "2022-04-25T12:21:07.979Z"
   },
   {
    "duration": 15,
    "start_time": "2022-04-25T12:21:08.010Z"
   },
   {
    "duration": 16,
    "start_time": "2022-04-25T12:21:08.026Z"
   },
   {
    "duration": 14,
    "start_time": "2022-04-25T12:21:08.044Z"
   },
   {
    "duration": 26,
    "start_time": "2022-04-25T12:21:08.060Z"
   },
   {
    "duration": 25,
    "start_time": "2022-04-25T12:21:08.089Z"
   },
   {
    "duration": 11,
    "start_time": "2022-04-25T12:21:08.116Z"
   },
   {
    "duration": 22,
    "start_time": "2022-04-25T12:21:41.615Z"
   },
   {
    "duration": 465,
    "start_time": "2022-04-25T12:22:19.589Z"
   },
   {
    "duration": 93,
    "start_time": "2022-04-25T12:22:20.057Z"
   },
   {
    "duration": 27,
    "start_time": "2022-04-25T12:22:20.152Z"
   },
   {
    "duration": 11,
    "start_time": "2022-04-25T12:22:20.184Z"
   },
   {
    "duration": 5,
    "start_time": "2022-04-25T12:22:20.223Z"
   },
   {
    "duration": 28,
    "start_time": "2022-04-25T12:22:20.230Z"
   },
   {
    "duration": 10,
    "start_time": "2022-04-25T12:22:20.260Z"
   },
   {
    "duration": 5,
    "start_time": "2022-04-25T12:22:20.272Z"
   },
   {
    "duration": 49,
    "start_time": "2022-04-25T12:22:20.278Z"
   },
   {
    "duration": 5,
    "start_time": "2022-04-25T12:22:20.330Z"
   },
   {
    "duration": 12,
    "start_time": "2022-04-25T12:22:20.337Z"
   },
   {
    "duration": 8,
    "start_time": "2022-04-25T12:22:20.351Z"
   },
   {
    "duration": 14,
    "start_time": "2022-04-25T12:22:20.361Z"
   },
   {
    "duration": 18,
    "start_time": "2022-04-25T12:22:20.377Z"
   },
   {
    "duration": 27,
    "start_time": "2022-04-25T12:22:20.397Z"
   },
   {
    "duration": 8,
    "start_time": "2022-04-25T12:22:38.328Z"
   },
   {
    "duration": 18,
    "start_time": "2022-04-25T12:26:06.246Z"
   },
   {
    "duration": 16,
    "start_time": "2022-04-25T12:26:16.165Z"
   },
   {
    "duration": 191,
    "start_time": "2022-04-25T12:27:08.406Z"
   },
   {
    "duration": 11,
    "start_time": "2022-04-25T12:28:31.826Z"
   },
   {
    "duration": 14,
    "start_time": "2022-04-25T12:30:12.387Z"
   },
   {
    "duration": 11,
    "start_time": "2022-04-25T12:49:05.535Z"
   },
   {
    "duration": 11,
    "start_time": "2022-04-25T12:49:44.555Z"
   },
   {
    "duration": 11,
    "start_time": "2022-04-25T12:50:32.763Z"
   },
   {
    "duration": 12,
    "start_time": "2022-04-25T12:58:35.639Z"
   },
   {
    "duration": 75,
    "start_time": "2022-04-25T13:01:28.983Z"
   },
   {
    "duration": 9,
    "start_time": "2022-04-25T13:01:38.836Z"
   },
   {
    "duration": 15,
    "start_time": "2022-04-25T13:02:11.153Z"
   },
   {
    "duration": 16,
    "start_time": "2022-04-25T13:02:15.224Z"
   },
   {
    "duration": 394,
    "start_time": "2022-04-25T13:02:36.847Z"
   },
   {
    "duration": 91,
    "start_time": "2022-04-25T13:02:37.243Z"
   },
   {
    "duration": 24,
    "start_time": "2022-04-25T13:02:37.336Z"
   },
   {
    "duration": 14,
    "start_time": "2022-04-25T13:02:37.363Z"
   },
   {
    "duration": 9,
    "start_time": "2022-04-25T13:02:37.379Z"
   },
   {
    "duration": 50,
    "start_time": "2022-04-25T13:02:37.390Z"
   },
   {
    "duration": 13,
    "start_time": "2022-04-25T13:02:37.443Z"
   },
   {
    "duration": 6,
    "start_time": "2022-04-25T13:02:37.458Z"
   },
   {
    "duration": 26,
    "start_time": "2022-04-25T13:02:37.466Z"
   },
   {
    "duration": 34,
    "start_time": "2022-04-25T13:02:37.495Z"
   },
   {
    "duration": 12,
    "start_time": "2022-04-25T13:02:37.532Z"
   },
   {
    "duration": 12,
    "start_time": "2022-04-25T13:02:37.546Z"
   },
   {
    "duration": 21,
    "start_time": "2022-04-25T13:02:37.560Z"
   },
   {
    "duration": 15,
    "start_time": "2022-04-25T13:02:37.585Z"
   },
   {
    "duration": 34,
    "start_time": "2022-04-25T13:02:37.602Z"
   },
   {
    "duration": 12,
    "start_time": "2022-04-25T13:02:37.638Z"
   },
   {
    "duration": 18,
    "start_time": "2022-04-25T13:02:37.652Z"
   },
   {
    "duration": 25,
    "start_time": "2022-04-25T13:02:57.408Z"
   },
   {
    "duration": 211,
    "start_time": "2022-04-25T13:04:50.181Z"
   },
   {
    "duration": 109,
    "start_time": "2022-04-25T13:05:16.651Z"
   },
   {
    "duration": 14,
    "start_time": "2022-04-25T13:05:25.532Z"
   },
   {
    "duration": 8,
    "start_time": "2022-04-25T13:08:57.458Z"
   },
   {
    "duration": 17,
    "start_time": "2022-04-25T13:10:09.516Z"
   },
   {
    "duration": 9,
    "start_time": "2022-04-25T13:12:42.234Z"
   },
   {
    "duration": 258,
    "start_time": "2022-04-25T13:19:34.822Z"
   },
   {
    "duration": 4,
    "start_time": "2022-04-25T13:20:38.999Z"
   },
   {
    "duration": 5,
    "start_time": "2022-04-25T13:21:11.205Z"
   },
   {
    "duration": 11,
    "start_time": "2022-04-25T13:22:03.366Z"
   },
   {
    "duration": 5,
    "start_time": "2022-04-25T13:35:31.897Z"
   },
   {
    "duration": 7,
    "start_time": "2022-04-25T13:39:00.397Z"
   },
   {
    "duration": 4,
    "start_time": "2022-04-25T13:40:20.338Z"
   },
   {
    "duration": 235,
    "start_time": "2022-04-25T13:42:24.588Z"
   },
   {
    "duration": 3,
    "start_time": "2022-04-25T13:45:32.178Z"
   },
   {
    "duration": 707,
    "start_time": "2022-04-25T13:52:14.337Z"
   },
   {
    "duration": 907,
    "start_time": "2022-04-25T13:54:58.169Z"
   },
   {
    "duration": 716,
    "start_time": "2022-04-25T13:55:11.208Z"
   },
   {
    "duration": 689,
    "start_time": "2022-04-25T13:55:28.764Z"
   },
   {
    "duration": 887,
    "start_time": "2022-04-25T14:02:06.442Z"
   },
   {
    "duration": 4740,
    "start_time": "2022-04-25T14:08:44.554Z"
   },
   {
    "duration": 4640,
    "start_time": "2022-04-25T14:09:13.307Z"
   },
   {
    "duration": 200,
    "start_time": "2022-04-25T14:10:23.380Z"
   },
   {
    "duration": 20,
    "start_time": "2022-04-25T14:11:12.399Z"
   },
   {
    "duration": 7,
    "start_time": "2022-04-25T14:11:16.938Z"
   },
   {
    "duration": 11,
    "start_time": "2022-04-25T14:11:28.829Z"
   },
   {
    "duration": 446,
    "start_time": "2022-04-25T14:12:11.822Z"
   },
   {
    "duration": 98,
    "start_time": "2022-04-25T14:12:12.271Z"
   },
   {
    "duration": 16,
    "start_time": "2022-04-25T14:12:12.371Z"
   },
   {
    "duration": 17,
    "start_time": "2022-04-25T14:12:12.389Z"
   },
   {
    "duration": 9,
    "start_time": "2022-04-25T14:12:12.422Z"
   },
   {
    "duration": 35,
    "start_time": "2022-04-25T14:12:12.432Z"
   },
   {
    "duration": 9,
    "start_time": "2022-04-25T14:12:12.469Z"
   },
   {
    "duration": 7,
    "start_time": "2022-04-25T14:12:12.481Z"
   },
   {
    "duration": 52,
    "start_time": "2022-04-25T14:12:12.491Z"
   },
   {
    "duration": 7,
    "start_time": "2022-04-25T14:12:12.546Z"
   },
   {
    "duration": 8,
    "start_time": "2022-04-25T14:12:12.555Z"
   },
   {
    "duration": 6,
    "start_time": "2022-04-25T14:12:12.565Z"
   },
   {
    "duration": 11,
    "start_time": "2022-04-25T14:12:12.572Z"
   },
   {
    "duration": 24,
    "start_time": "2022-04-25T14:12:12.622Z"
   },
   {
    "duration": 25,
    "start_time": "2022-04-25T14:12:12.648Z"
   },
   {
    "duration": 15,
    "start_time": "2022-04-25T14:12:12.675Z"
   },
   {
    "duration": 49,
    "start_time": "2022-04-25T14:12:12.692Z"
   },
   {
    "duration": 16,
    "start_time": "2022-04-25T14:12:12.746Z"
   },
   {
    "duration": 7,
    "start_time": "2022-04-25T14:12:12.763Z"
   },
   {
    "duration": 6,
    "start_time": "2022-04-25T14:12:12.772Z"
   },
   {
    "duration": 8,
    "start_time": "2022-04-25T14:12:12.781Z"
   },
   {
    "duration": 4498,
    "start_time": "2022-04-25T14:12:12.791Z"
   },
   {
    "duration": 14,
    "start_time": "2022-04-25T14:12:17.292Z"
   },
   {
    "duration": 502,
    "start_time": "2022-04-25T14:38:34.427Z"
   },
   {
    "duration": 124,
    "start_time": "2022-04-25T14:38:34.932Z"
   },
   {
    "duration": 18,
    "start_time": "2022-04-25T14:38:35.058Z"
   },
   {
    "duration": 15,
    "start_time": "2022-04-25T14:38:35.079Z"
   },
   {
    "duration": 33,
    "start_time": "2022-04-25T14:38:35.097Z"
   },
   {
    "duration": 31,
    "start_time": "2022-04-25T14:38:35.132Z"
   },
   {
    "duration": 12,
    "start_time": "2022-04-25T14:38:35.165Z"
   },
   {
    "duration": 12,
    "start_time": "2022-04-25T14:38:35.179Z"
   },
   {
    "duration": 56,
    "start_time": "2022-04-25T14:38:35.193Z"
   },
   {
    "duration": 8,
    "start_time": "2022-04-25T14:38:35.252Z"
   },
   {
    "duration": 9,
    "start_time": "2022-04-25T14:38:35.262Z"
   },
   {
    "duration": 11,
    "start_time": "2022-04-25T14:38:35.273Z"
   },
   {
    "duration": 39,
    "start_time": "2022-04-25T14:38:35.285Z"
   },
   {
    "duration": 22,
    "start_time": "2022-04-25T14:38:35.326Z"
   },
   {
    "duration": 24,
    "start_time": "2022-04-25T14:38:35.350Z"
   },
   {
    "duration": 14,
    "start_time": "2022-04-25T14:38:35.377Z"
   },
   {
    "duration": 50,
    "start_time": "2022-04-25T14:38:35.394Z"
   },
   {
    "duration": 11,
    "start_time": "2022-04-25T14:38:35.446Z"
   },
   {
    "duration": 8,
    "start_time": "2022-04-25T14:38:35.458Z"
   },
   {
    "duration": 10,
    "start_time": "2022-04-25T14:38:35.468Z"
   },
   {
    "duration": 16,
    "start_time": "2022-04-25T14:38:35.480Z"
   },
   {
    "duration": 4526,
    "start_time": "2022-04-25T14:38:35.521Z"
   },
   {
    "duration": 18,
    "start_time": "2022-04-25T14:38:40.049Z"
   },
   {
    "duration": 5,
    "start_time": "2022-04-25T14:44:57.569Z"
   },
   {
    "duration": 7,
    "start_time": "2022-04-25T14:45:20.438Z"
   },
   {
    "duration": 19,
    "start_time": "2022-04-25T14:45:33.446Z"
   },
   {
    "duration": 20,
    "start_time": "2022-04-25T14:45:52.380Z"
   },
   {
    "duration": 28,
    "start_time": "2022-04-25T14:46:32.572Z"
   },
   {
    "duration": 6,
    "start_time": "2022-04-25T14:47:08.120Z"
   },
   {
    "duration": 6,
    "start_time": "2022-04-25T14:47:25.133Z"
   },
   {
    "duration": 20,
    "start_time": "2022-04-25T14:50:59.182Z"
   },
   {
    "duration": 81,
    "start_time": "2022-04-25T19:36:51.601Z"
   },
   {
    "duration": 386,
    "start_time": "2022-04-25T19:37:00.077Z"
   },
   {
    "duration": 85,
    "start_time": "2022-04-25T19:37:00.465Z"
   },
   {
    "duration": 17,
    "start_time": "2022-04-25T19:37:00.558Z"
   },
   {
    "duration": 9,
    "start_time": "2022-04-25T19:37:00.577Z"
   },
   {
    "duration": 5,
    "start_time": "2022-04-25T19:37:00.588Z"
   },
   {
    "duration": 49,
    "start_time": "2022-04-25T19:37:00.595Z"
   },
   {
    "duration": 17,
    "start_time": "2022-04-25T19:37:00.646Z"
   },
   {
    "duration": 7,
    "start_time": "2022-04-25T19:37:00.665Z"
   },
   {
    "duration": 31,
    "start_time": "2022-04-25T19:37:00.674Z"
   },
   {
    "duration": 5,
    "start_time": "2022-04-25T19:37:00.707Z"
   },
   {
    "duration": 17,
    "start_time": "2022-04-25T19:37:00.714Z"
   },
   {
    "duration": 36,
    "start_time": "2022-04-25T19:37:00.733Z"
   },
   {
    "duration": 13,
    "start_time": "2022-04-25T19:37:00.771Z"
   },
   {
    "duration": 18,
    "start_time": "2022-04-25T19:37:00.786Z"
   },
   {
    "duration": 29,
    "start_time": "2022-04-25T19:37:00.806Z"
   },
   {
    "duration": 34,
    "start_time": "2022-04-25T19:37:00.839Z"
   },
   {
    "duration": 23,
    "start_time": "2022-04-25T19:37:00.875Z"
   },
   {
    "duration": 11,
    "start_time": "2022-04-25T19:37:00.900Z"
   },
   {
    "duration": 14,
    "start_time": "2022-04-25T19:37:00.913Z"
   },
   {
    "duration": 34,
    "start_time": "2022-04-25T19:37:00.932Z"
   },
   {
    "duration": 17,
    "start_time": "2022-04-25T19:37:00.968Z"
   },
   {
    "duration": 3998,
    "start_time": "2022-04-25T19:37:00.986Z"
   },
   {
    "duration": 12,
    "start_time": "2022-04-25T19:37:04.986Z"
   },
   {
    "duration": 11,
    "start_time": "2022-04-25T19:37:05.000Z"
   },
   {
    "duration": 40,
    "start_time": "2022-04-25T19:37:05.030Z"
   },
   {
    "duration": 30,
    "start_time": "2022-04-25T19:37:05.072Z"
   },
   {
    "duration": 16,
    "start_time": "2022-04-25T19:41:12.281Z"
   },
   {
    "duration": 15,
    "start_time": "2022-04-25T19:41:23.705Z"
   },
   {
    "duration": 50,
    "start_time": "2022-04-25T20:13:42.412Z"
   },
   {
    "duration": 36,
    "start_time": "2022-04-25T20:14:00.405Z"
   },
   {
    "duration": 39,
    "start_time": "2022-04-25T20:14:07.618Z"
   },
   {
    "duration": 36,
    "start_time": "2022-04-25T20:14:49.843Z"
   },
   {
    "duration": 402,
    "start_time": "2022-04-25T20:26:36.768Z"
   },
   {
    "duration": 83,
    "start_time": "2022-04-25T20:26:37.173Z"
   },
   {
    "duration": 20,
    "start_time": "2022-04-25T20:26:37.258Z"
   },
   {
    "duration": 9,
    "start_time": "2022-04-25T20:26:37.280Z"
   },
   {
    "duration": 4,
    "start_time": "2022-04-25T20:26:37.291Z"
   },
   {
    "duration": 47,
    "start_time": "2022-04-25T20:26:37.297Z"
   },
   {
    "duration": 44,
    "start_time": "2022-04-25T20:26:37.345Z"
   },
   {
    "duration": 5,
    "start_time": "2022-04-25T20:26:37.391Z"
   },
   {
    "duration": 16,
    "start_time": "2022-04-25T20:26:37.398Z"
   },
   {
    "duration": 5,
    "start_time": "2022-04-25T20:26:37.417Z"
   },
   {
    "duration": 52,
    "start_time": "2022-04-25T20:26:37.423Z"
   },
   {
    "duration": 5,
    "start_time": "2022-04-25T20:26:37.477Z"
   },
   {
    "duration": 12,
    "start_time": "2022-04-25T20:26:37.484Z"
   },
   {
    "duration": 14,
    "start_time": "2022-04-25T20:26:37.497Z"
   },
   {
    "duration": 29,
    "start_time": "2022-04-25T20:26:37.512Z"
   },
   {
    "duration": 37,
    "start_time": "2022-04-25T20:26:37.543Z"
   },
   {
    "duration": 27,
    "start_time": "2022-04-25T20:26:37.582Z"
   },
   {
    "duration": 24,
    "start_time": "2022-04-25T20:26:37.611Z"
   },
   {
    "duration": 11,
    "start_time": "2022-04-25T20:26:37.637Z"
   },
   {
    "duration": 27,
    "start_time": "2022-04-25T20:26:37.650Z"
   },
   {
    "duration": 11,
    "start_time": "2022-04-25T20:26:37.679Z"
   },
   {
    "duration": 11,
    "start_time": "2022-04-25T20:26:37.692Z"
   },
   {
    "duration": 27,
    "start_time": "2022-04-25T20:26:37.705Z"
   },
   {
    "duration": 43,
    "start_time": "2022-04-25T20:26:37.734Z"
   },
   {
    "duration": 3874,
    "start_time": "2022-04-25T20:26:37.779Z"
   },
   {
    "duration": 17,
    "start_time": "2022-04-25T20:26:41.655Z"
   },
   {
    "duration": 10,
    "start_time": "2022-04-25T20:52:17.682Z"
   },
   {
    "duration": 13,
    "start_time": "2022-04-25T20:53:51.667Z"
   },
   {
    "duration": 6,
    "start_time": "2022-04-25T20:53:58.968Z"
   },
   {
    "duration": 204,
    "start_time": "2022-04-25T20:55:32.184Z"
   },
   {
    "duration": 6,
    "start_time": "2022-04-25T21:14:46.242Z"
   },
   {
    "duration": 89,
    "start_time": "2022-04-25T21:15:03.184Z"
   },
   {
    "duration": 384,
    "start_time": "2022-04-25T21:15:18.569Z"
   },
   {
    "duration": 117,
    "start_time": "2022-04-25T21:15:18.956Z"
   },
   {
    "duration": 14,
    "start_time": "2022-04-25T21:15:19.075Z"
   },
   {
    "duration": 13,
    "start_time": "2022-04-25T21:15:19.091Z"
   },
   {
    "duration": 19,
    "start_time": "2022-04-25T21:15:19.123Z"
   },
   {
    "duration": 55,
    "start_time": "2022-04-25T21:15:19.143Z"
   },
   {
    "duration": 10,
    "start_time": "2022-04-25T21:15:19.200Z"
   },
   {
    "duration": 6,
    "start_time": "2022-04-25T21:15:19.211Z"
   },
   {
    "duration": 25,
    "start_time": "2022-04-25T21:15:19.219Z"
   },
   {
    "duration": 30,
    "start_time": "2022-04-25T21:15:19.246Z"
   },
   {
    "duration": 9,
    "start_time": "2022-04-25T21:15:19.278Z"
   },
   {
    "duration": 7,
    "start_time": "2022-04-25T21:15:19.288Z"
   },
   {
    "duration": 8,
    "start_time": "2022-04-25T21:15:19.296Z"
   },
   {
    "duration": 10,
    "start_time": "2022-04-25T21:15:19.307Z"
   },
   {
    "duration": 37,
    "start_time": "2022-04-25T21:15:19.319Z"
   },
   {
    "duration": 24,
    "start_time": "2022-04-25T21:15:19.358Z"
   },
   {
    "duration": 16,
    "start_time": "2022-04-25T21:15:19.383Z"
   },
   {
    "duration": 11,
    "start_time": "2022-04-25T21:15:19.401Z"
   },
   {
    "duration": 15,
    "start_time": "2022-04-25T21:15:19.414Z"
   },
   {
    "duration": 43,
    "start_time": "2022-04-25T21:15:19.432Z"
   },
   {
    "duration": 8,
    "start_time": "2022-04-25T21:15:19.476Z"
   },
   {
    "duration": 171,
    "start_time": "2022-04-25T21:15:19.487Z"
   },
   {
    "duration": 0,
    "start_time": "2022-04-25T21:15:19.660Z"
   },
   {
    "duration": 0,
    "start_time": "2022-04-25T21:15:19.662Z"
   },
   {
    "duration": 0,
    "start_time": "2022-04-25T21:15:19.663Z"
   },
   {
    "duration": 0,
    "start_time": "2022-04-25T21:15:19.664Z"
   },
   {
    "duration": 0,
    "start_time": "2022-04-25T21:15:19.668Z"
   },
   {
    "duration": 0,
    "start_time": "2022-04-25T21:15:19.669Z"
   },
   {
    "duration": 0,
    "start_time": "2022-04-25T21:15:19.671Z"
   },
   {
    "duration": 406,
    "start_time": "2022-04-25T21:16:14.043Z"
   },
   {
    "duration": 95,
    "start_time": "2022-04-25T21:16:14.456Z"
   },
   {
    "duration": 23,
    "start_time": "2022-04-25T21:16:14.553Z"
   },
   {
    "duration": 9,
    "start_time": "2022-04-25T21:16:14.578Z"
   },
   {
    "duration": 7,
    "start_time": "2022-04-25T21:16:14.589Z"
   },
   {
    "duration": 22,
    "start_time": "2022-04-25T21:16:14.598Z"
   },
   {
    "duration": 16,
    "start_time": "2022-04-25T21:16:14.623Z"
   },
   {
    "duration": 41,
    "start_time": "2022-04-25T21:16:14.641Z"
   },
   {
    "duration": 14,
    "start_time": "2022-04-25T21:16:14.684Z"
   },
   {
    "duration": 5,
    "start_time": "2022-04-25T21:16:14.700Z"
   },
   {
    "duration": 8,
    "start_time": "2022-04-25T21:16:14.706Z"
   },
   {
    "duration": 6,
    "start_time": "2022-04-25T21:16:14.715Z"
   },
   {
    "duration": 48,
    "start_time": "2022-04-25T21:16:14.730Z"
   },
   {
    "duration": 8,
    "start_time": "2022-04-25T21:16:14.781Z"
   },
   {
    "duration": 16,
    "start_time": "2022-04-25T21:16:14.791Z"
   },
   {
    "duration": 10,
    "start_time": "2022-04-25T21:16:14.808Z"
   },
   {
    "duration": 37,
    "start_time": "2022-04-25T21:16:14.819Z"
   },
   {
    "duration": 27,
    "start_time": "2022-04-25T21:16:14.858Z"
   },
   {
    "duration": 9,
    "start_time": "2022-04-25T21:16:14.887Z"
   },
   {
    "duration": 6,
    "start_time": "2022-04-25T21:16:14.898Z"
   },
   {
    "duration": 11,
    "start_time": "2022-04-25T21:16:14.905Z"
   },
   {
    "duration": 46,
    "start_time": "2022-04-25T21:16:14.918Z"
   },
   {
    "duration": 20,
    "start_time": "2022-04-25T21:16:14.966Z"
   },
   {
    "duration": 33,
    "start_time": "2022-04-25T21:16:14.987Z"
   },
   {
    "duration": 4251,
    "start_time": "2022-04-25T21:16:15.021Z"
   },
   {
    "duration": 11,
    "start_time": "2022-04-25T21:16:19.274Z"
   },
   {
    "duration": 9,
    "start_time": "2022-04-25T21:16:19.286Z"
   },
   {
    "duration": 32,
    "start_time": "2022-04-25T21:16:19.296Z"
   },
   {
    "duration": 81,
    "start_time": "2022-04-25T21:16:49.360Z"
   },
   {
    "duration": 412,
    "start_time": "2022-04-25T21:17:05.861Z"
   },
   {
    "duration": 94,
    "start_time": "2022-04-25T21:17:06.275Z"
   },
   {
    "duration": 15,
    "start_time": "2022-04-25T21:17:06.373Z"
   },
   {
    "duration": 10,
    "start_time": "2022-04-25T21:17:06.389Z"
   },
   {
    "duration": 24,
    "start_time": "2022-04-25T21:17:06.400Z"
   },
   {
    "duration": 32,
    "start_time": "2022-04-25T21:17:06.426Z"
   },
   {
    "duration": 25,
    "start_time": "2022-04-25T21:17:06.460Z"
   },
   {
    "duration": 4,
    "start_time": "2022-04-25T21:17:06.487Z"
   },
   {
    "duration": 14,
    "start_time": "2022-04-25T21:17:06.493Z"
   },
   {
    "duration": 5,
    "start_time": "2022-04-25T21:17:06.509Z"
   },
   {
    "duration": 18,
    "start_time": "2022-04-25T21:17:06.516Z"
   },
   {
    "duration": 40,
    "start_time": "2022-04-25T21:17:06.536Z"
   },
   {
    "duration": 8,
    "start_time": "2022-04-25T21:17:06.578Z"
   },
   {
    "duration": 9,
    "start_time": "2022-04-25T21:17:06.588Z"
   },
   {
    "duration": 17,
    "start_time": "2022-04-25T21:17:06.599Z"
   },
   {
    "duration": 22,
    "start_time": "2022-04-25T21:17:06.617Z"
   },
   {
    "duration": 43,
    "start_time": "2022-04-25T21:17:06.641Z"
   },
   {
    "duration": 11,
    "start_time": "2022-04-25T21:17:06.686Z"
   },
   {
    "duration": 6,
    "start_time": "2022-04-25T21:17:06.699Z"
   },
   {
    "duration": 5,
    "start_time": "2022-04-25T21:17:06.707Z"
   },
   {
    "duration": 8,
    "start_time": "2022-04-25T21:17:06.714Z"
   },
   {
    "duration": 45,
    "start_time": "2022-04-25T21:17:06.734Z"
   },
   {
    "duration": 25,
    "start_time": "2022-04-25T21:17:06.781Z"
   },
   {
    "duration": 45,
    "start_time": "2022-04-25T21:17:06.808Z"
   },
   {
    "duration": 3912,
    "start_time": "2022-04-25T21:17:06.859Z"
   },
   {
    "duration": 11,
    "start_time": "2022-04-25T21:17:10.773Z"
   },
   {
    "duration": 6,
    "start_time": "2022-04-25T21:17:10.787Z"
   },
   {
    "duration": 32,
    "start_time": "2022-04-25T21:17:10.794Z"
   },
   {
    "duration": 484,
    "start_time": "2022-04-25T21:17:35.766Z"
   },
   {
    "duration": 123,
    "start_time": "2022-04-25T21:17:36.253Z"
   },
   {
    "duration": 14,
    "start_time": "2022-04-25T21:17:36.378Z"
   },
   {
    "duration": 10,
    "start_time": "2022-04-25T21:17:36.393Z"
   },
   {
    "duration": 5,
    "start_time": "2022-04-25T21:17:36.405Z"
   },
   {
    "duration": 27,
    "start_time": "2022-04-25T21:17:36.431Z"
   },
   {
    "duration": 22,
    "start_time": "2022-04-25T21:17:36.460Z"
   },
   {
    "duration": 6,
    "start_time": "2022-04-25T21:17:36.484Z"
   },
   {
    "duration": 21,
    "start_time": "2022-04-25T21:17:36.493Z"
   },
   {
    "duration": 11,
    "start_time": "2022-04-25T21:17:36.517Z"
   },
   {
    "duration": 46,
    "start_time": "2022-04-25T21:17:36.531Z"
   },
   {
    "duration": 7,
    "start_time": "2022-04-25T21:17:36.579Z"
   },
   {
    "duration": 11,
    "start_time": "2022-04-25T21:17:36.588Z"
   },
   {
    "duration": 13,
    "start_time": "2022-04-25T21:17:36.601Z"
   },
   {
    "duration": 25,
    "start_time": "2022-04-25T21:17:36.616Z"
   },
   {
    "duration": 43,
    "start_time": "2022-04-25T21:17:36.644Z"
   },
   {
    "duration": 16,
    "start_time": "2022-04-25T21:17:36.689Z"
   },
   {
    "duration": 13,
    "start_time": "2022-04-25T21:17:36.706Z"
   },
   {
    "duration": 15,
    "start_time": "2022-04-25T21:17:36.721Z"
   },
   {
    "duration": 13,
    "start_time": "2022-04-25T21:17:36.739Z"
   },
   {
    "duration": 32,
    "start_time": "2022-04-25T21:17:36.754Z"
   },
   {
    "duration": 7,
    "start_time": "2022-04-25T21:17:36.787Z"
   },
   {
    "duration": 19,
    "start_time": "2022-04-25T21:17:36.795Z"
   },
   {
    "duration": 43,
    "start_time": "2022-04-25T21:17:36.815Z"
   },
   {
    "duration": 3951,
    "start_time": "2022-04-25T21:17:36.860Z"
   },
   {
    "duration": 21,
    "start_time": "2022-04-25T21:17:40.813Z"
   },
   {
    "duration": 43,
    "start_time": "2022-04-25T21:17:40.836Z"
   },
   {
    "duration": 7,
    "start_time": "2022-04-25T21:17:40.882Z"
   },
   {
    "duration": 76,
    "start_time": "2022-04-25T21:19:51.266Z"
   },
   {
    "duration": 22,
    "start_time": "2022-04-25T21:20:14.434Z"
   },
   {
    "duration": 536,
    "start_time": "2022-04-26T08:39:45.515Z"
   },
   {
    "duration": 132,
    "start_time": "2022-04-26T08:39:46.054Z"
   },
   {
    "duration": 28,
    "start_time": "2022-04-26T08:39:46.188Z"
   },
   {
    "duration": 16,
    "start_time": "2022-04-26T08:39:46.218Z"
   },
   {
    "duration": 8,
    "start_time": "2022-04-26T08:39:46.237Z"
   },
   {
    "duration": 67,
    "start_time": "2022-04-26T08:39:46.247Z"
   },
   {
    "duration": 13,
    "start_time": "2022-04-26T08:39:46.317Z"
   },
   {
    "duration": 8,
    "start_time": "2022-04-26T08:39:46.333Z"
   },
   {
    "duration": 29,
    "start_time": "2022-04-26T08:39:46.344Z"
   },
   {
    "duration": 8,
    "start_time": "2022-04-26T08:39:46.375Z"
   },
   {
    "duration": 19,
    "start_time": "2022-04-26T08:39:46.394Z"
   },
   {
    "duration": 12,
    "start_time": "2022-04-26T08:39:46.416Z"
   },
   {
    "duration": 12,
    "start_time": "2022-04-26T08:39:46.430Z"
   },
   {
    "duration": 21,
    "start_time": "2022-04-26T08:39:46.447Z"
   },
   {
    "duration": 38,
    "start_time": "2022-04-26T08:39:46.471Z"
   },
   {
    "duration": 29,
    "start_time": "2022-04-26T08:39:46.511Z"
   },
   {
    "duration": 26,
    "start_time": "2022-04-26T08:39:46.542Z"
   },
   {
    "duration": 15,
    "start_time": "2022-04-26T08:39:46.570Z"
   },
   {
    "duration": 14,
    "start_time": "2022-04-26T08:39:46.596Z"
   },
   {
    "duration": 12,
    "start_time": "2022-04-26T08:39:46.613Z"
   },
   {
    "duration": 18,
    "start_time": "2022-04-26T08:39:46.627Z"
   },
   {
    "duration": 27,
    "start_time": "2022-04-26T08:39:46.647Z"
   },
   {
    "duration": 7,
    "start_time": "2022-04-26T08:39:46.676Z"
   },
   {
    "duration": 30,
    "start_time": "2022-04-26T08:39:46.701Z"
   },
   {
    "duration": 99,
    "start_time": "2022-04-26T08:39:46.733Z"
   },
   {
    "duration": 5450,
    "start_time": "2022-04-26T08:39:46.834Z"
   },
   {
    "duration": 21,
    "start_time": "2022-04-26T08:39:52.298Z"
   },
   {
    "duration": 16,
    "start_time": "2022-04-26T08:39:52.321Z"
   },
   {
    "duration": 18,
    "start_time": "2022-04-26T08:39:52.339Z"
   },
   {
    "duration": 20,
    "start_time": "2022-04-26T08:44:45.129Z"
   },
   {
    "duration": 106,
    "start_time": "2022-04-26T08:45:09.257Z"
   },
   {
    "duration": 26,
    "start_time": "2022-04-26T08:51:55.599Z"
   },
   {
    "duration": 26,
    "start_time": "2022-04-26T08:53:11.908Z"
   },
   {
    "duration": 13,
    "start_time": "2022-04-26T08:55:57.667Z"
   },
   {
    "duration": 707,
    "start_time": "2022-04-26T08:56:17.943Z"
   },
   {
    "duration": 181,
    "start_time": "2022-04-26T08:56:18.654Z"
   },
   {
    "duration": 23,
    "start_time": "2022-04-26T08:56:18.837Z"
   },
   {
    "duration": 38,
    "start_time": "2022-04-26T08:56:18.862Z"
   },
   {
    "duration": 9,
    "start_time": "2022-04-26T08:56:18.904Z"
   },
   {
    "duration": 76,
    "start_time": "2022-04-26T08:56:18.917Z"
   },
   {
    "duration": 18,
    "start_time": "2022-04-26T08:56:18.995Z"
   },
   {
    "duration": 7,
    "start_time": "2022-04-26T08:56:19.016Z"
   },
   {
    "duration": 46,
    "start_time": "2022-04-26T08:56:19.025Z"
   },
   {
    "duration": 28,
    "start_time": "2022-04-26T08:56:19.074Z"
   },
   {
    "duration": 23,
    "start_time": "2022-04-26T08:56:19.105Z"
   },
   {
    "duration": 10,
    "start_time": "2022-04-26T08:56:19.130Z"
   },
   {
    "duration": 12,
    "start_time": "2022-04-26T08:56:19.142Z"
   },
   {
    "duration": 15,
    "start_time": "2022-04-26T08:56:19.192Z"
   },
   {
    "duration": 24,
    "start_time": "2022-04-26T08:56:19.210Z"
   },
   {
    "duration": 16,
    "start_time": "2022-04-26T08:56:19.236Z"
   },
   {
    "duration": 23,
    "start_time": "2022-04-26T08:56:19.294Z"
   },
   {
    "duration": 21,
    "start_time": "2022-04-26T08:56:19.320Z"
   },
   {
    "duration": 10,
    "start_time": "2022-04-26T08:56:19.343Z"
   },
   {
    "duration": 44,
    "start_time": "2022-04-26T08:56:19.355Z"
   },
   {
    "duration": 17,
    "start_time": "2022-04-26T08:56:19.401Z"
   },
   {
    "duration": 36,
    "start_time": "2022-04-26T08:56:19.421Z"
   },
   {
    "duration": 62,
    "start_time": "2022-04-26T08:56:19.459Z"
   },
   {
    "duration": 16,
    "start_time": "2022-04-26T08:56:19.523Z"
   },
   {
    "duration": 10,
    "start_time": "2022-04-26T08:56:19.541Z"
   },
   {
    "duration": 59,
    "start_time": "2022-04-26T08:56:19.553Z"
   },
   {
    "duration": 62,
    "start_time": "2022-04-26T08:56:19.615Z"
   },
   {
    "duration": 2063,
    "start_time": "2022-04-26T08:56:19.692Z"
   },
   {
    "duration": 0,
    "start_time": "2022-04-26T08:56:21.759Z"
   },
   {
    "duration": 0,
    "start_time": "2022-04-26T08:56:21.760Z"
   },
   {
    "duration": 0,
    "start_time": "2022-04-26T08:56:21.762Z"
   },
   {
    "duration": 35,
    "start_time": "2022-04-26T08:57:06.749Z"
   },
   {
    "duration": 15,
    "start_time": "2022-04-26T08:57:39.955Z"
   },
   {
    "duration": 502,
    "start_time": "2022-04-26T08:57:58.238Z"
   },
   {
    "duration": 175,
    "start_time": "2022-04-26T08:57:58.744Z"
   },
   {
    "duration": 35,
    "start_time": "2022-04-26T08:57:58.922Z"
   },
   {
    "duration": 42,
    "start_time": "2022-04-26T08:57:58.961Z"
   },
   {
    "duration": 9,
    "start_time": "2022-04-26T08:57:59.006Z"
   },
   {
    "duration": 31,
    "start_time": "2022-04-26T08:57:59.017Z"
   },
   {
    "duration": 46,
    "start_time": "2022-04-26T08:57:59.050Z"
   },
   {
    "duration": 7,
    "start_time": "2022-04-26T08:57:59.098Z"
   },
   {
    "duration": 141,
    "start_time": "2022-04-26T08:57:59.107Z"
   },
   {
    "duration": 9,
    "start_time": "2022-04-26T08:57:59.253Z"
   },
   {
    "duration": 18,
    "start_time": "2022-04-26T08:57:59.264Z"
   },
   {
    "duration": 7,
    "start_time": "2022-04-26T08:57:59.284Z"
   },
   {
    "duration": 10,
    "start_time": "2022-04-26T08:57:59.293Z"
   },
   {
    "duration": 14,
    "start_time": "2022-04-26T08:57:59.305Z"
   },
   {
    "duration": 41,
    "start_time": "2022-04-26T08:57:59.322Z"
   },
   {
    "duration": 42,
    "start_time": "2022-04-26T08:57:59.366Z"
   },
   {
    "duration": 27,
    "start_time": "2022-04-26T08:57:59.411Z"
   },
   {
    "duration": 16,
    "start_time": "2022-04-26T08:57:59.442Z"
   },
   {
    "duration": 38,
    "start_time": "2022-04-26T08:57:59.460Z"
   },
   {
    "duration": 7,
    "start_time": "2022-04-26T08:57:59.500Z"
   },
   {
    "duration": 15,
    "start_time": "2022-04-26T08:57:59.509Z"
   },
   {
    "duration": 67,
    "start_time": "2022-04-26T08:57:59.526Z"
   },
   {
    "duration": 36,
    "start_time": "2022-04-26T08:57:59.595Z"
   },
   {
    "duration": 3,
    "start_time": "2022-04-26T08:57:59.634Z"
   },
   {
    "duration": 10,
    "start_time": "2022-04-26T08:57:59.640Z"
   },
   {
    "duration": 62,
    "start_time": "2022-04-26T08:57:59.652Z"
   },
   {
    "duration": 51,
    "start_time": "2022-04-26T08:57:59.719Z"
   },
   {
    "duration": 5275,
    "start_time": "2022-04-26T08:57:59.792Z"
   },
   {
    "duration": 28,
    "start_time": "2022-04-26T08:58:05.070Z"
   },
   {
    "duration": 15,
    "start_time": "2022-04-26T08:58:05.100Z"
   },
   {
    "duration": 12,
    "start_time": "2022-04-26T08:58:05.118Z"
   },
   {
    "duration": 25,
    "start_time": "2022-04-26T08:59:13.870Z"
   },
   {
    "duration": 107,
    "start_time": "2022-04-26T08:59:41.142Z"
   },
   {
    "duration": 25,
    "start_time": "2022-04-26T08:59:48.341Z"
   },
   {
    "duration": 10,
    "start_time": "2022-04-26T09:00:50.411Z"
   },
   {
    "duration": 480,
    "start_time": "2022-04-26T09:16:03.894Z"
   },
   {
    "duration": 120,
    "start_time": "2022-04-26T09:16:04.377Z"
   },
   {
    "duration": 21,
    "start_time": "2022-04-26T09:16:04.503Z"
   },
   {
    "duration": 13,
    "start_time": "2022-04-26T09:16:04.526Z"
   },
   {
    "duration": 9,
    "start_time": "2022-04-26T09:16:04.541Z"
   },
   {
    "duration": 62,
    "start_time": "2022-04-26T09:16:04.553Z"
   },
   {
    "duration": 11,
    "start_time": "2022-04-26T09:16:04.617Z"
   },
   {
    "duration": 7,
    "start_time": "2022-04-26T09:16:04.630Z"
   },
   {
    "duration": 52,
    "start_time": "2022-04-26T09:16:04.641Z"
   },
   {
    "duration": 7,
    "start_time": "2022-04-26T09:16:04.695Z"
   },
   {
    "duration": 11,
    "start_time": "2022-04-26T09:16:04.704Z"
   },
   {
    "duration": 7,
    "start_time": "2022-04-26T09:16:04.718Z"
   },
   {
    "duration": 11,
    "start_time": "2022-04-26T09:16:04.726Z"
   },
   {
    "duration": 12,
    "start_time": "2022-04-26T09:16:04.739Z"
   },
   {
    "duration": 22,
    "start_time": "2022-04-26T09:16:04.794Z"
   },
   {
    "duration": 14,
    "start_time": "2022-04-26T09:16:04.818Z"
   },
   {
    "duration": 21,
    "start_time": "2022-04-26T09:16:04.834Z"
   },
   {
    "duration": 46,
    "start_time": "2022-04-26T09:16:04.857Z"
   },
   {
    "duration": 9,
    "start_time": "2022-04-26T09:16:04.905Z"
   },
   {
    "duration": 7,
    "start_time": "2022-04-26T09:16:04.916Z"
   },
   {
    "duration": 12,
    "start_time": "2022-04-26T09:16:04.925Z"
   },
   {
    "duration": 58,
    "start_time": "2022-04-26T09:16:04.939Z"
   },
   {
    "duration": 35,
    "start_time": "2022-04-26T09:16:04.999Z"
   },
   {
    "duration": 13,
    "start_time": "2022-04-26T09:16:05.036Z"
   },
   {
    "duration": 9,
    "start_time": "2022-04-26T09:16:05.051Z"
   },
   {
    "duration": 23,
    "start_time": "2022-04-26T09:16:05.093Z"
   },
   {
    "duration": 42,
    "start_time": "2022-04-26T09:16:05.120Z"
   },
   {
    "duration": 1942,
    "start_time": "2022-04-26T09:16:05.164Z"
   },
   {
    "duration": 0,
    "start_time": "2022-04-26T09:16:07.108Z"
   },
   {
    "duration": 0,
    "start_time": "2022-04-26T09:16:07.111Z"
   },
   {
    "duration": 0,
    "start_time": "2022-04-26T09:16:07.112Z"
   },
   {
    "duration": 32,
    "start_time": "2022-04-26T09:16:50.458Z"
   },
   {
    "duration": 57,
    "start_time": "2022-04-26T09:17:16.354Z"
   },
   {
    "duration": 559,
    "start_time": "2022-04-26T09:19:02.650Z"
   },
   {
    "duration": 128,
    "start_time": "2022-04-26T09:19:03.213Z"
   },
   {
    "duration": 22,
    "start_time": "2022-04-26T09:19:03.343Z"
   },
   {
    "duration": 27,
    "start_time": "2022-04-26T09:19:03.367Z"
   },
   {
    "duration": 7,
    "start_time": "2022-04-26T09:19:03.397Z"
   },
   {
    "duration": 44,
    "start_time": "2022-04-26T09:19:03.407Z"
   },
   {
    "duration": 43,
    "start_time": "2022-04-26T09:19:03.453Z"
   },
   {
    "duration": 7,
    "start_time": "2022-04-26T09:19:03.499Z"
   },
   {
    "duration": 28,
    "start_time": "2022-04-26T09:19:03.509Z"
   },
   {
    "duration": 36,
    "start_time": "2022-04-26T09:19:03.540Z"
   },
   {
    "duration": 19,
    "start_time": "2022-04-26T09:19:03.578Z"
   },
   {
    "duration": 24,
    "start_time": "2022-04-26T09:19:03.599Z"
   },
   {
    "duration": 14,
    "start_time": "2022-04-26T09:19:03.626Z"
   },
   {
    "duration": 31,
    "start_time": "2022-04-26T09:19:03.648Z"
   },
   {
    "duration": 35,
    "start_time": "2022-04-26T09:19:03.694Z"
   },
   {
    "duration": 20,
    "start_time": "2022-04-26T09:19:03.733Z"
   },
   {
    "duration": 57,
    "start_time": "2022-04-26T09:19:03.756Z"
   },
   {
    "duration": 22,
    "start_time": "2022-04-26T09:19:03.816Z"
   },
   {
    "duration": 16,
    "start_time": "2022-04-26T09:19:03.841Z"
   },
   {
    "duration": 41,
    "start_time": "2022-04-26T09:19:03.860Z"
   },
   {
    "duration": 22,
    "start_time": "2022-04-26T09:19:03.903Z"
   },
   {
    "duration": 34,
    "start_time": "2022-04-26T09:19:03.928Z"
   },
   {
    "duration": 54,
    "start_time": "2022-04-26T09:19:03.965Z"
   },
   {
    "duration": 84,
    "start_time": "2022-04-26T09:19:04.021Z"
   },
   {
    "duration": 8,
    "start_time": "2022-04-26T09:19:04.108Z"
   },
   {
    "duration": 39,
    "start_time": "2022-04-26T09:19:04.119Z"
   },
   {
    "duration": 98,
    "start_time": "2022-04-26T09:19:04.160Z"
   },
   {
    "duration": 5451,
    "start_time": "2022-04-26T09:19:04.261Z"
   },
   {
    "duration": 18,
    "start_time": "2022-04-26T09:19:09.715Z"
   },
   {
    "duration": 13,
    "start_time": "2022-04-26T09:19:09.735Z"
   },
   {
    "duration": 9,
    "start_time": "2022-04-26T09:19:09.750Z"
   },
   {
    "duration": 7,
    "start_time": "2022-04-26T09:19:49.056Z"
   },
   {
    "duration": 3028,
    "start_time": "2022-04-26T09:19:53.506Z"
   },
   {
    "duration": 12,
    "start_time": "2022-04-26T09:27:22.281Z"
   },
   {
    "duration": 535,
    "start_time": "2022-04-26T09:27:31.298Z"
   },
   {
    "duration": 125,
    "start_time": "2022-04-26T09:27:31.836Z"
   },
   {
    "duration": 32,
    "start_time": "2022-04-26T09:27:31.964Z"
   },
   {
    "duration": 14,
    "start_time": "2022-04-26T09:27:32.000Z"
   },
   {
    "duration": 28,
    "start_time": "2022-04-26T09:27:32.017Z"
   },
   {
    "duration": 45,
    "start_time": "2022-04-26T09:27:32.048Z"
   },
   {
    "duration": 19,
    "start_time": "2022-04-26T09:27:32.095Z"
   },
   {
    "duration": 7,
    "start_time": "2022-04-26T09:27:32.117Z"
   },
   {
    "duration": 48,
    "start_time": "2022-04-26T09:27:32.126Z"
   },
   {
    "duration": 18,
    "start_time": "2022-04-26T09:27:32.177Z"
   },
   {
    "duration": 11,
    "start_time": "2022-04-26T09:27:32.198Z"
   },
   {
    "duration": 24,
    "start_time": "2022-04-26T09:27:32.212Z"
   },
   {
    "duration": 21,
    "start_time": "2022-04-26T09:27:32.239Z"
   },
   {
    "duration": 51,
    "start_time": "2022-04-26T09:27:32.265Z"
   },
   {
    "duration": 91,
    "start_time": "2022-04-26T09:27:32.319Z"
   },
   {
    "duration": 15,
    "start_time": "2022-04-26T09:27:32.412Z"
   },
   {
    "duration": 25,
    "start_time": "2022-04-26T09:27:32.429Z"
   },
   {
    "duration": 43,
    "start_time": "2022-04-26T09:27:32.457Z"
   },
   {
    "duration": 10,
    "start_time": "2022-04-26T09:27:32.503Z"
   },
   {
    "duration": 13,
    "start_time": "2022-04-26T09:27:32.515Z"
   },
   {
    "duration": 15,
    "start_time": "2022-04-26T09:27:32.531Z"
   },
   {
    "duration": 48,
    "start_time": "2022-04-26T09:27:32.548Z"
   },
   {
    "duration": 37,
    "start_time": "2022-04-26T09:27:32.598Z"
   },
   {
    "duration": 6,
    "start_time": "2022-04-26T09:27:32.637Z"
   },
   {
    "duration": 16,
    "start_time": "2022-04-26T09:27:32.646Z"
   },
   {
    "duration": 69,
    "start_time": "2022-04-26T09:27:32.664Z"
   },
   {
    "duration": 58,
    "start_time": "2022-04-26T09:27:32.735Z"
   },
   {
    "duration": 5186,
    "start_time": "2022-04-26T09:27:32.796Z"
   },
   {
    "duration": 16,
    "start_time": "2022-04-26T09:27:37.993Z"
   },
   {
    "duration": 15,
    "start_time": "2022-04-26T09:27:38.011Z"
   },
   {
    "duration": 9,
    "start_time": "2022-04-26T09:27:38.028Z"
   },
   {
    "duration": 547,
    "start_time": "2022-04-26T13:02:19.515Z"
   },
   {
    "duration": 137,
    "start_time": "2022-04-26T13:02:20.065Z"
   },
   {
    "duration": 28,
    "start_time": "2022-04-26T13:02:20.205Z"
   },
   {
    "duration": 14,
    "start_time": "2022-04-26T13:02:20.235Z"
   },
   {
    "duration": 6,
    "start_time": "2022-04-26T13:02:20.252Z"
   },
   {
    "duration": 65,
    "start_time": "2022-04-26T13:02:20.260Z"
   },
   {
    "duration": 15,
    "start_time": "2022-04-26T13:02:20.327Z"
   },
   {
    "duration": 5,
    "start_time": "2022-04-26T13:02:20.344Z"
   },
   {
    "duration": 45,
    "start_time": "2022-04-26T13:02:20.352Z"
   },
   {
    "duration": 13,
    "start_time": "2022-04-26T13:02:20.401Z"
   },
   {
    "duration": 23,
    "start_time": "2022-04-26T13:02:20.416Z"
   },
   {
    "duration": 11,
    "start_time": "2022-04-26T13:02:20.442Z"
   },
   {
    "duration": 9,
    "start_time": "2022-04-26T13:02:20.455Z"
   },
   {
    "duration": 17,
    "start_time": "2022-04-26T13:02:20.492Z"
   },
   {
    "duration": 44,
    "start_time": "2022-04-26T13:02:20.514Z"
   },
   {
    "duration": 14,
    "start_time": "2022-04-26T13:02:20.561Z"
   },
   {
    "duration": 42,
    "start_time": "2022-04-26T13:02:20.577Z"
   },
   {
    "duration": 25,
    "start_time": "2022-04-26T13:02:20.622Z"
   },
   {
    "duration": 10,
    "start_time": "2022-04-26T13:02:20.649Z"
   },
   {
    "duration": 6,
    "start_time": "2022-04-26T13:02:20.661Z"
   },
   {
    "duration": 16,
    "start_time": "2022-04-26T13:02:20.683Z"
   },
   {
    "duration": 50,
    "start_time": "2022-04-26T13:02:20.704Z"
   },
   {
    "duration": 35,
    "start_time": "2022-04-26T13:02:20.756Z"
   },
   {
    "duration": 7,
    "start_time": "2022-04-26T13:02:20.793Z"
   },
   {
    "duration": 41,
    "start_time": "2022-04-26T13:02:20.803Z"
   },
   {
    "duration": 49,
    "start_time": "2022-04-26T13:02:20.846Z"
   },
   {
    "duration": 54,
    "start_time": "2022-04-26T13:02:20.903Z"
   },
   {
    "duration": 6186,
    "start_time": "2022-04-26T13:02:20.959Z"
   },
   {
    "duration": 15,
    "start_time": "2022-04-26T13:02:27.147Z"
   },
   {
    "duration": 22,
    "start_time": "2022-04-26T13:02:27.165Z"
   },
   {
    "duration": 40,
    "start_time": "2022-04-26T13:02:27.197Z"
   },
   {
    "duration": 104,
    "start_time": "2022-04-26T19:32:32.749Z"
   },
   {
    "duration": 118,
    "start_time": "2022-04-26T19:32:53.607Z"
   },
   {
    "duration": 3,
    "start_time": "2022-04-26T19:33:15.027Z"
   },
   {
    "duration": 4,
    "start_time": "2022-04-26T19:36:38.849Z"
   },
   {
    "duration": 4,
    "start_time": "2022-04-26T19:36:51.881Z"
   },
   {
    "duration": 39,
    "start_time": "2022-04-26T19:41:49.174Z"
   },
   {
    "duration": 359,
    "start_time": "2022-04-26T19:42:04.092Z"
   },
   {
    "duration": 72,
    "start_time": "2022-04-26T19:42:04.453Z"
   },
   {
    "duration": 20,
    "start_time": "2022-04-26T19:42:04.527Z"
   },
   {
    "duration": 10,
    "start_time": "2022-04-26T19:42:04.549Z"
   },
   {
    "duration": 5,
    "start_time": "2022-04-26T19:42:04.561Z"
   },
   {
    "duration": 19,
    "start_time": "2022-04-26T19:42:04.567Z"
   },
   {
    "duration": 9,
    "start_time": "2022-04-26T19:42:04.587Z"
   },
   {
    "duration": 5,
    "start_time": "2022-04-26T19:42:04.598Z"
   },
   {
    "duration": 54,
    "start_time": "2022-04-26T19:42:04.604Z"
   },
   {
    "duration": 4,
    "start_time": "2022-04-26T19:42:04.661Z"
   },
   {
    "duration": 8,
    "start_time": "2022-04-26T19:42:04.667Z"
   },
   {
    "duration": 7,
    "start_time": "2022-04-26T19:42:04.676Z"
   },
   {
    "duration": 7,
    "start_time": "2022-04-26T19:42:04.684Z"
   },
   {
    "duration": 11,
    "start_time": "2022-04-26T19:42:04.692Z"
   },
   {
    "duration": 47,
    "start_time": "2022-04-26T19:42:04.704Z"
   },
   {
    "duration": 9,
    "start_time": "2022-04-26T19:42:04.753Z"
   },
   {
    "duration": 16,
    "start_time": "2022-04-26T19:42:04.763Z"
   },
   {
    "duration": 10,
    "start_time": "2022-04-26T19:42:04.780Z"
   },
   {
    "duration": 6,
    "start_time": "2022-04-26T19:42:04.791Z"
   },
   {
    "duration": 6,
    "start_time": "2022-04-26T19:42:04.799Z"
   },
   {
    "duration": 42,
    "start_time": "2022-04-26T19:42:04.806Z"
   },
   {
    "duration": 16,
    "start_time": "2022-04-26T19:42:04.849Z"
   },
   {
    "duration": 19,
    "start_time": "2022-04-26T19:42:04.867Z"
   },
   {
    "duration": 3,
    "start_time": "2022-04-26T19:42:04.888Z"
   },
   {
    "duration": 7,
    "start_time": "2022-04-26T19:42:04.892Z"
   },
   {
    "duration": 17,
    "start_time": "2022-04-26T19:42:04.901Z"
   },
   {
    "duration": 30,
    "start_time": "2022-04-26T19:42:04.948Z"
   },
   {
    "duration": 3346,
    "start_time": "2022-04-26T19:42:04.981Z"
   },
   {
    "duration": 26,
    "start_time": "2022-04-26T19:42:08.328Z"
   },
   {
    "duration": 9,
    "start_time": "2022-04-26T19:42:08.356Z"
   },
   {
    "duration": 11,
    "start_time": "2022-04-26T19:42:08.366Z"
   },
   {
    "duration": 5,
    "start_time": "2022-04-26T19:42:08.378Z"
   },
   {
    "duration": 12,
    "start_time": "2022-04-26T19:42:08.385Z"
   },
   {
    "duration": 21,
    "start_time": "2022-04-26T19:42:26.113Z"
   },
   {
    "duration": 405,
    "start_time": "2022-04-26T19:46:33.619Z"
   },
   {
    "duration": 79,
    "start_time": "2022-04-26T19:46:34.026Z"
   },
   {
    "duration": 14,
    "start_time": "2022-04-26T19:46:34.106Z"
   },
   {
    "duration": 9,
    "start_time": "2022-04-26T19:46:34.122Z"
   },
   {
    "duration": 18,
    "start_time": "2022-04-26T19:46:34.132Z"
   },
   {
    "duration": 17,
    "start_time": "2022-04-26T19:46:34.152Z"
   },
   {
    "duration": 8,
    "start_time": "2022-04-26T19:46:34.171Z"
   },
   {
    "duration": 5,
    "start_time": "2022-04-26T19:46:34.180Z"
   },
   {
    "duration": 13,
    "start_time": "2022-04-26T19:46:34.187Z"
   },
   {
    "duration": 5,
    "start_time": "2022-04-26T19:46:34.202Z"
   },
   {
    "duration": 41,
    "start_time": "2022-04-26T19:46:34.208Z"
   },
   {
    "duration": 7,
    "start_time": "2022-04-26T19:46:34.250Z"
   },
   {
    "duration": 6,
    "start_time": "2022-04-26T19:46:34.259Z"
   },
   {
    "duration": 10,
    "start_time": "2022-04-26T19:46:34.266Z"
   },
   {
    "duration": 13,
    "start_time": "2022-04-26T19:46:34.277Z"
   },
   {
    "duration": 10,
    "start_time": "2022-04-26T19:46:34.292Z"
   },
   {
    "duration": 50,
    "start_time": "2022-04-26T19:46:34.303Z"
   },
   {
    "duration": 9,
    "start_time": "2022-04-26T19:46:34.355Z"
   },
   {
    "duration": 6,
    "start_time": "2022-04-26T19:46:34.365Z"
   },
   {
    "duration": 5,
    "start_time": "2022-04-26T19:46:34.372Z"
   },
   {
    "duration": 7,
    "start_time": "2022-04-26T19:46:34.378Z"
   },
   {
    "duration": 15,
    "start_time": "2022-04-26T19:46:34.386Z"
   },
   {
    "duration": 51,
    "start_time": "2022-04-26T19:46:34.403Z"
   },
   {
    "duration": 3,
    "start_time": "2022-04-26T19:46:34.455Z"
   },
   {
    "duration": 6,
    "start_time": "2022-04-26T19:46:34.460Z"
   },
   {
    "duration": 18,
    "start_time": "2022-04-26T19:46:34.467Z"
   },
   {
    "duration": 29,
    "start_time": "2022-04-26T19:46:34.487Z"
   },
   {
    "duration": 3235,
    "start_time": "2022-04-26T19:46:34.519Z"
   },
   {
    "duration": 11,
    "start_time": "2022-04-26T19:46:37.758Z"
   },
   {
    "duration": 6,
    "start_time": "2022-04-26T19:46:37.770Z"
   },
   {
    "duration": 8,
    "start_time": "2022-04-26T19:46:37.777Z"
   },
   {
    "duration": 4,
    "start_time": "2022-04-26T19:46:37.787Z"
   },
   {
    "duration": 97,
    "start_time": "2022-04-26T19:46:37.792Z"
   },
   {
    "duration": 395,
    "start_time": "2022-04-26T19:46:56.313Z"
   },
   {
    "duration": 76,
    "start_time": "2022-04-26T19:46:56.711Z"
   },
   {
    "duration": 15,
    "start_time": "2022-04-26T19:46:56.789Z"
   },
   {
    "duration": 9,
    "start_time": "2022-04-26T19:46:56.806Z"
   },
   {
    "duration": 4,
    "start_time": "2022-04-26T19:46:56.816Z"
   },
   {
    "duration": 27,
    "start_time": "2022-04-26T19:46:56.849Z"
   },
   {
    "duration": 9,
    "start_time": "2022-04-26T19:46:56.878Z"
   },
   {
    "duration": 5,
    "start_time": "2022-04-26T19:46:56.888Z"
   },
   {
    "duration": 17,
    "start_time": "2022-04-26T19:46:56.895Z"
   },
   {
    "duration": 5,
    "start_time": "2022-04-26T19:46:56.914Z"
   },
   {
    "duration": 47,
    "start_time": "2022-04-26T19:46:56.920Z"
   },
   {
    "duration": 7,
    "start_time": "2022-04-26T19:46:56.969Z"
   },
   {
    "duration": 9,
    "start_time": "2022-04-26T19:46:56.978Z"
   },
   {
    "duration": 9,
    "start_time": "2022-04-26T19:46:56.989Z"
   },
   {
    "duration": 14,
    "start_time": "2022-04-26T19:46:57.000Z"
   },
   {
    "duration": 33,
    "start_time": "2022-04-26T19:46:57.016Z"
   },
   {
    "duration": 18,
    "start_time": "2022-04-26T19:46:57.055Z"
   },
   {
    "duration": 9,
    "start_time": "2022-04-26T19:46:57.075Z"
   },
   {
    "duration": 7,
    "start_time": "2022-04-26T19:46:57.086Z"
   },
   {
    "duration": 6,
    "start_time": "2022-04-26T19:46:57.094Z"
   },
   {
    "duration": 7,
    "start_time": "2022-04-26T19:46:57.102Z"
   },
   {
    "duration": 58,
    "start_time": "2022-04-26T19:46:57.110Z"
   },
   {
    "duration": 20,
    "start_time": "2022-04-26T19:46:57.169Z"
   },
   {
    "duration": 3,
    "start_time": "2022-04-26T19:46:57.191Z"
   },
   {
    "duration": 6,
    "start_time": "2022-04-26T19:46:57.196Z"
   },
   {
    "duration": 17,
    "start_time": "2022-04-26T19:46:57.204Z"
   },
   {
    "duration": 58,
    "start_time": "2022-04-26T19:46:57.223Z"
   },
   {
    "duration": 3769,
    "start_time": "2022-04-26T19:46:57.284Z"
   },
   {
    "duration": 12,
    "start_time": "2022-04-26T19:47:01.055Z"
   },
   {
    "duration": 12,
    "start_time": "2022-04-26T19:47:01.069Z"
   },
   {
    "duration": 11,
    "start_time": "2022-04-26T19:47:01.082Z"
   },
   {
    "duration": 5,
    "start_time": "2022-04-26T19:47:01.095Z"
   },
   {
    "duration": 27,
    "start_time": "2022-04-26T19:47:01.102Z"
   },
   {
    "duration": 71,
    "start_time": "2022-04-26T19:47:09.365Z"
   },
   {
    "duration": 393,
    "start_time": "2022-04-26T19:47:14.778Z"
   },
   {
    "duration": 74,
    "start_time": "2022-04-26T19:47:15.173Z"
   },
   {
    "duration": 14,
    "start_time": "2022-04-26T19:47:15.249Z"
   },
   {
    "duration": 8,
    "start_time": "2022-04-26T19:47:15.265Z"
   },
   {
    "duration": 4,
    "start_time": "2022-04-26T19:47:15.275Z"
   },
   {
    "duration": 19,
    "start_time": "2022-04-26T19:47:15.280Z"
   },
   {
    "duration": 8,
    "start_time": "2022-04-26T19:47:15.300Z"
   },
   {
    "duration": 4,
    "start_time": "2022-04-26T19:47:15.310Z"
   },
   {
    "duration": 13,
    "start_time": "2022-04-26T19:47:15.348Z"
   },
   {
    "duration": 5,
    "start_time": "2022-04-26T19:47:15.364Z"
   },
   {
    "duration": 8,
    "start_time": "2022-04-26T19:47:15.370Z"
   },
   {
    "duration": 7,
    "start_time": "2022-04-26T19:47:15.379Z"
   },
   {
    "duration": 6,
    "start_time": "2022-04-26T19:47:15.387Z"
   },
   {
    "duration": 9,
    "start_time": "2022-04-26T19:47:15.395Z"
   },
   {
    "duration": 51,
    "start_time": "2022-04-26T19:47:15.406Z"
   },
   {
    "duration": 9,
    "start_time": "2022-04-26T19:47:15.459Z"
   },
   {
    "duration": 15,
    "start_time": "2022-04-26T19:47:15.469Z"
   },
   {
    "duration": 11,
    "start_time": "2022-04-26T19:47:15.485Z"
   },
   {
    "duration": 7,
    "start_time": "2022-04-26T19:47:15.497Z"
   },
   {
    "duration": 5,
    "start_time": "2022-04-26T19:47:15.505Z"
   },
   {
    "duration": 37,
    "start_time": "2022-04-26T19:47:15.511Z"
   },
   {
    "duration": 15,
    "start_time": "2022-04-26T19:47:15.550Z"
   },
   {
    "duration": 19,
    "start_time": "2022-04-26T19:47:15.567Z"
   },
   {
    "duration": 4,
    "start_time": "2022-04-26T19:47:15.588Z"
   },
   {
    "duration": 6,
    "start_time": "2022-04-26T19:47:15.593Z"
   },
   {
    "duration": 18,
    "start_time": "2022-04-26T19:47:15.600Z"
   },
   {
    "duration": 32,
    "start_time": "2022-04-26T19:47:15.646Z"
   },
   {
    "duration": 3390,
    "start_time": "2022-04-26T19:47:15.682Z"
   },
   {
    "duration": 10,
    "start_time": "2022-04-26T19:47:19.074Z"
   },
   {
    "duration": 10,
    "start_time": "2022-04-26T19:47:19.086Z"
   },
   {
    "duration": 6,
    "start_time": "2022-04-26T19:47:19.098Z"
   },
   {
    "duration": 4,
    "start_time": "2022-04-26T19:47:19.106Z"
   },
   {
    "duration": 42,
    "start_time": "2022-04-26T19:47:19.112Z"
   },
   {
    "duration": 70,
    "start_time": "2022-04-26T19:48:41.725Z"
   },
   {
    "duration": 109,
    "start_time": "2022-04-26T19:49:52.385Z"
   },
   {
    "duration": 385,
    "start_time": "2022-04-26T19:52:52.289Z"
   },
   {
    "duration": 84,
    "start_time": "2022-04-26T19:52:52.676Z"
   },
   {
    "duration": 16,
    "start_time": "2022-04-26T19:52:52.762Z"
   },
   {
    "duration": 9,
    "start_time": "2022-04-26T19:52:52.780Z"
   },
   {
    "duration": 4,
    "start_time": "2022-04-26T19:52:52.790Z"
   },
   {
    "duration": 17,
    "start_time": "2022-04-26T19:52:52.796Z"
   },
   {
    "duration": 35,
    "start_time": "2022-04-26T19:52:52.815Z"
   },
   {
    "duration": 8,
    "start_time": "2022-04-26T19:52:52.852Z"
   },
   {
    "duration": 17,
    "start_time": "2022-04-26T19:52:52.862Z"
   },
   {
    "duration": 5,
    "start_time": "2022-04-26T19:52:52.882Z"
   },
   {
    "duration": 10,
    "start_time": "2022-04-26T19:52:52.888Z"
   },
   {
    "duration": 7,
    "start_time": "2022-04-26T19:52:52.899Z"
   },
   {
    "duration": 7,
    "start_time": "2022-04-26T19:52:52.907Z"
   },
   {
    "duration": 44,
    "start_time": "2022-04-26T19:52:52.916Z"
   },
   {
    "duration": 18,
    "start_time": "2022-04-26T19:52:52.962Z"
   },
   {
    "duration": 11,
    "start_time": "2022-04-26T19:52:52.981Z"
   },
   {
    "duration": 16,
    "start_time": "2022-04-26T19:52:52.993Z"
   },
   {
    "duration": 41,
    "start_time": "2022-04-26T19:52:53.011Z"
   },
   {
    "duration": 11,
    "start_time": "2022-04-26T19:52:53.054Z"
   },
   {
    "duration": 5,
    "start_time": "2022-04-26T19:52:53.067Z"
   },
   {
    "duration": 9,
    "start_time": "2022-04-26T19:52:53.074Z"
   },
   {
    "duration": 16,
    "start_time": "2022-04-26T19:52:53.085Z"
   },
   {
    "duration": 46,
    "start_time": "2022-04-26T19:52:53.102Z"
   },
   {
    "duration": 4,
    "start_time": "2022-04-26T19:52:53.150Z"
   },
   {
    "duration": 6,
    "start_time": "2022-04-26T19:52:53.156Z"
   },
   {
    "duration": 20,
    "start_time": "2022-04-26T19:52:53.163Z"
   },
   {
    "duration": 32,
    "start_time": "2022-04-26T19:52:53.184Z"
   },
   {
    "duration": 3241,
    "start_time": "2022-04-26T19:52:53.248Z"
   },
   {
    "duration": 11,
    "start_time": "2022-04-26T19:52:56.491Z"
   },
   {
    "duration": 5,
    "start_time": "2022-04-26T19:52:56.504Z"
   },
   {
    "duration": 7,
    "start_time": "2022-04-26T19:52:56.511Z"
   },
   {
    "duration": 4,
    "start_time": "2022-04-26T19:52:56.519Z"
   },
   {
    "duration": 11,
    "start_time": "2022-04-26T19:52:56.548Z"
   },
   {
    "duration": 18,
    "start_time": "2022-04-26T19:52:56.560Z"
   },
   {
    "duration": 48,
    "start_time": "2022-04-26T20:18:19.999Z"
   },
   {
    "duration": 386,
    "start_time": "2022-04-26T20:18:40.181Z"
   },
   {
    "duration": 109,
    "start_time": "2022-04-26T20:18:40.568Z"
   },
   {
    "duration": 24,
    "start_time": "2022-04-26T20:18:40.680Z"
   },
   {
    "duration": 15,
    "start_time": "2022-04-26T20:18:40.706Z"
   },
   {
    "duration": 27,
    "start_time": "2022-04-26T20:18:40.723Z"
   },
   {
    "duration": 29,
    "start_time": "2022-04-26T20:18:40.752Z"
   },
   {
    "duration": 11,
    "start_time": "2022-04-26T20:18:40.783Z"
   },
   {
    "duration": 8,
    "start_time": "2022-04-26T20:18:40.796Z"
   },
   {
    "duration": 52,
    "start_time": "2022-04-26T20:18:40.805Z"
   },
   {
    "duration": 7,
    "start_time": "2022-04-26T20:18:40.860Z"
   },
   {
    "duration": 9,
    "start_time": "2022-04-26T20:18:40.868Z"
   },
   {
    "duration": 8,
    "start_time": "2022-04-26T20:18:40.879Z"
   },
   {
    "duration": 7,
    "start_time": "2022-04-26T20:18:40.888Z"
   },
   {
    "duration": 13,
    "start_time": "2022-04-26T20:18:40.897Z"
   },
   {
    "duration": 25,
    "start_time": "2022-04-26T20:18:40.949Z"
   },
   {
    "duration": 14,
    "start_time": "2022-04-26T20:18:40.977Z"
   },
   {
    "duration": 16,
    "start_time": "2022-04-26T20:18:40.993Z"
   },
   {
    "duration": 43,
    "start_time": "2022-04-26T20:18:41.012Z"
   },
   {
    "duration": 8,
    "start_time": "2022-04-26T20:18:41.056Z"
   },
   {
    "duration": 5,
    "start_time": "2022-04-26T20:18:41.066Z"
   },
   {
    "duration": 10,
    "start_time": "2022-04-26T20:18:41.073Z"
   },
   {
    "duration": 23,
    "start_time": "2022-04-26T20:18:41.085Z"
   },
   {
    "duration": 58,
    "start_time": "2022-04-26T20:18:41.110Z"
   },
   {
    "duration": 5,
    "start_time": "2022-04-26T20:18:41.169Z"
   },
   {
    "duration": 7,
    "start_time": "2022-04-26T20:18:41.177Z"
   },
   {
    "duration": 19,
    "start_time": "2022-04-26T20:18:41.185Z"
   },
   {
    "duration": 60,
    "start_time": "2022-04-26T20:18:41.206Z"
   },
   {
    "duration": 4245,
    "start_time": "2022-04-26T20:18:41.270Z"
   },
   {
    "duration": 12,
    "start_time": "2022-04-26T20:18:45.517Z"
   },
   {
    "duration": 8,
    "start_time": "2022-04-26T20:18:45.547Z"
   },
   {
    "duration": 7,
    "start_time": "2022-04-26T20:18:45.557Z"
   },
   {
    "duration": 5,
    "start_time": "2022-04-26T20:18:45.566Z"
   },
   {
    "duration": 15,
    "start_time": "2022-04-26T20:18:45.573Z"
   },
   {
    "duration": 58,
    "start_time": "2022-04-26T20:18:45.590Z"
   },
   {
    "duration": 6,
    "start_time": "2022-04-26T20:18:45.650Z"
   },
   {
    "duration": 22,
    "start_time": "2022-04-26T20:19:14.448Z"
   },
   {
    "duration": 6,
    "start_time": "2022-04-26T20:20:19.843Z"
   },
   {
    "duration": 7,
    "start_time": "2022-04-26T20:22:07.580Z"
   },
   {
    "duration": 63,
    "start_time": "2022-04-26T20:23:47.597Z"
   },
   {
    "duration": 7,
    "start_time": "2022-04-26T20:24:22.939Z"
   },
   {
    "duration": 4,
    "start_time": "2022-04-26T20:24:41.775Z"
   },
   {
    "duration": 15,
    "start_time": "2022-04-26T20:24:46.534Z"
   },
   {
    "duration": 11,
    "start_time": "2022-04-26T20:26:40.794Z"
   },
   {
    "duration": 9,
    "start_time": "2022-04-26T20:26:45.633Z"
   },
   {
    "duration": 7,
    "start_time": "2022-04-26T20:35:26.420Z"
   },
   {
    "duration": 1258,
    "start_time": "2022-04-26T20:35:39.386Z"
   },
   {
    "duration": 5,
    "start_time": "2022-04-26T20:36:42.196Z"
   },
   {
    "duration": 7,
    "start_time": "2022-04-26T20:36:59.823Z"
   },
   {
    "duration": 5,
    "start_time": "2022-04-26T20:37:11.422Z"
   },
   {
    "duration": 4,
    "start_time": "2022-04-26T20:38:03.489Z"
   },
   {
    "duration": 6,
    "start_time": "2022-04-26T20:38:21.068Z"
   },
   {
    "duration": 7,
    "start_time": "2022-04-26T20:38:56.988Z"
   },
   {
    "duration": 9,
    "start_time": "2022-04-26T20:39:32.007Z"
   },
   {
    "duration": 7,
    "start_time": "2022-04-26T20:39:36.787Z"
   },
   {
    "duration": 10,
    "start_time": "2022-04-26T20:39:50.493Z"
   },
   {
    "duration": 5,
    "start_time": "2022-04-26T20:41:20.963Z"
   },
   {
    "duration": 6,
    "start_time": "2022-04-26T20:46:04.105Z"
   },
   {
    "duration": 112,
    "start_time": "2022-04-26T20:48:57.063Z"
   },
   {
    "duration": 10,
    "start_time": "2022-04-26T20:53:23.481Z"
   },
   {
    "duration": 10,
    "start_time": "2022-04-26T20:54:30.489Z"
   },
   {
    "duration": 1812,
    "start_time": "2022-04-26T20:55:23.399Z"
   },
   {
    "duration": 1796,
    "start_time": "2022-04-26T20:55:38.667Z"
   },
   {
    "duration": 6,
    "start_time": "2022-04-26T20:56:03.988Z"
   },
   {
    "duration": 14,
    "start_time": "2022-04-26T21:07:44.589Z"
   },
   {
    "duration": 11,
    "start_time": "2022-04-26T21:07:52.304Z"
   },
   {
    "duration": 119,
    "start_time": "2022-04-26T21:08:28.967Z"
   },
   {
    "duration": 12,
    "start_time": "2022-04-26T21:08:37.537Z"
   },
   {
    "duration": 10,
    "start_time": "2022-04-26T21:09:17.267Z"
   },
   {
    "duration": 9,
    "start_time": "2022-04-26T21:10:33.900Z"
   },
   {
    "duration": 10,
    "start_time": "2022-04-26T21:11:46.431Z"
   },
   {
    "duration": 10,
    "start_time": "2022-04-26T21:12:34.378Z"
   },
   {
    "duration": 1721,
    "start_time": "2022-04-26T21:12:57.323Z"
   },
   {
    "duration": 1807,
    "start_time": "2022-04-26T21:13:10.012Z"
   },
   {
    "duration": 1795,
    "start_time": "2022-04-26T21:13:29.032Z"
   },
   {
    "duration": 580,
    "start_time": "2022-04-27T08:07:31.481Z"
   },
   {
    "duration": 88,
    "start_time": "2022-04-27T08:07:32.064Z"
   },
   {
    "duration": 22,
    "start_time": "2022-04-27T08:07:32.154Z"
   },
   {
    "duration": 19,
    "start_time": "2022-04-27T08:07:32.179Z"
   },
   {
    "duration": 5,
    "start_time": "2022-04-27T08:07:32.200Z"
   },
   {
    "duration": 25,
    "start_time": "2022-04-27T08:07:32.206Z"
   },
   {
    "duration": 31,
    "start_time": "2022-04-27T08:07:32.233Z"
   },
   {
    "duration": 7,
    "start_time": "2022-04-27T08:07:32.266Z"
   },
   {
    "duration": 26,
    "start_time": "2022-04-27T08:07:32.277Z"
   },
   {
    "duration": 4,
    "start_time": "2022-04-27T08:07:32.307Z"
   },
   {
    "duration": 11,
    "start_time": "2022-04-27T08:07:32.313Z"
   },
   {
    "duration": 29,
    "start_time": "2022-04-27T08:07:32.326Z"
   },
   {
    "duration": 12,
    "start_time": "2022-04-27T08:07:32.361Z"
   },
   {
    "duration": 23,
    "start_time": "2022-04-27T08:07:32.376Z"
   },
   {
    "duration": 23,
    "start_time": "2022-04-27T08:07:32.402Z"
   },
   {
    "duration": 14,
    "start_time": "2022-04-27T08:07:32.426Z"
   },
   {
    "duration": 31,
    "start_time": "2022-04-27T08:07:32.458Z"
   },
   {
    "duration": 28,
    "start_time": "2022-04-27T08:07:32.490Z"
   },
   {
    "duration": 29,
    "start_time": "2022-04-27T08:07:32.519Z"
   },
   {
    "duration": 20,
    "start_time": "2022-04-27T08:07:32.549Z"
   },
   {
    "duration": 38,
    "start_time": "2022-04-27T08:07:32.571Z"
   },
   {
    "duration": 38,
    "start_time": "2022-04-27T08:07:32.612Z"
   },
   {
    "duration": 45,
    "start_time": "2022-04-27T08:07:32.652Z"
   },
   {
    "duration": 4,
    "start_time": "2022-04-27T08:07:32.700Z"
   },
   {
    "duration": 24,
    "start_time": "2022-04-27T08:07:32.706Z"
   },
   {
    "duration": 35,
    "start_time": "2022-04-27T08:07:32.732Z"
   },
   {
    "duration": 47,
    "start_time": "2022-04-27T08:07:32.771Z"
   },
   {
    "duration": 5146,
    "start_time": "2022-04-27T08:07:32.824Z"
   },
   {
    "duration": 17,
    "start_time": "2022-04-27T08:07:37.973Z"
   },
   {
    "duration": 8,
    "start_time": "2022-04-27T08:07:37.993Z"
   },
   {
    "duration": 12,
    "start_time": "2022-04-27T08:07:38.003Z"
   },
   {
    "duration": 5,
    "start_time": "2022-04-27T08:07:38.018Z"
   },
   {
    "duration": 41,
    "start_time": "2022-04-27T08:07:38.026Z"
   },
   {
    "duration": 25,
    "start_time": "2022-04-27T08:07:38.070Z"
   },
   {
    "duration": 9,
    "start_time": "2022-04-27T08:07:38.096Z"
   },
   {
    "duration": 2716,
    "start_time": "2022-04-27T08:07:38.106Z"
   },
   {
    "duration": 12,
    "start_time": "2022-04-27T08:12:19.763Z"
   },
   {
    "duration": 7,
    "start_time": "2022-04-27T08:12:28.191Z"
   },
   {
    "duration": 9,
    "start_time": "2022-04-27T08:12:52.520Z"
   },
   {
    "duration": 3,
    "start_time": "2022-04-27T08:21:14.409Z"
   },
   {
    "duration": 14,
    "start_time": "2022-04-27T08:21:43.479Z"
   },
   {
    "duration": 8,
    "start_time": "2022-04-27T08:37:02.070Z"
   },
   {
    "duration": 8,
    "start_time": "2022-04-27T08:37:20.039Z"
   },
   {
    "duration": 8,
    "start_time": "2022-04-27T08:37:27.872Z"
   },
   {
    "duration": 11,
    "start_time": "2022-04-27T08:43:22.397Z"
   },
   {
    "duration": 9,
    "start_time": "2022-04-27T08:43:35.889Z"
   },
   {
    "duration": 18,
    "start_time": "2022-04-27T08:46:05.719Z"
   },
   {
    "duration": 38,
    "start_time": "2022-04-27T08:46:17.764Z"
   },
   {
    "duration": 27,
    "start_time": "2022-04-27T08:46:47.329Z"
   },
   {
    "duration": 38,
    "start_time": "2022-04-27T08:46:56.930Z"
   },
   {
    "duration": 40,
    "start_time": "2022-04-27T08:47:54.207Z"
   },
   {
    "duration": 21,
    "start_time": "2022-04-27T08:48:15.431Z"
   },
   {
    "duration": 20,
    "start_time": "2022-04-27T08:48:30.881Z"
   },
   {
    "duration": 20,
    "start_time": "2022-04-27T08:48:34.808Z"
   },
   {
    "duration": 17,
    "start_time": "2022-04-27T08:48:39.270Z"
   },
   {
    "duration": 16,
    "start_time": "2022-04-27T08:49:16.931Z"
   },
   {
    "duration": 9,
    "start_time": "2022-04-27T08:56:33.232Z"
   },
   {
    "duration": 13,
    "start_time": "2022-04-27T09:03:48.930Z"
   },
   {
    "duration": 12,
    "start_time": "2022-04-27T09:06:06.359Z"
   },
   {
    "duration": 16,
    "start_time": "2022-04-27T09:06:36.280Z"
   },
   {
    "duration": 21,
    "start_time": "2022-04-27T09:07:15.637Z"
   },
   {
    "duration": 21,
    "start_time": "2022-04-27T09:10:00.250Z"
   },
   {
    "duration": 16,
    "start_time": "2022-04-27T09:10:28.191Z"
   },
   {
    "duration": 18,
    "start_time": "2022-04-27T09:10:48.619Z"
   },
   {
    "duration": 7,
    "start_time": "2022-04-27T09:11:53.250Z"
   },
   {
    "duration": 10,
    "start_time": "2022-04-27T09:12:18.930Z"
   },
   {
    "duration": 13,
    "start_time": "2022-04-27T09:35:59.813Z"
   },
   {
    "duration": 11,
    "start_time": "2022-04-27T09:36:37.800Z"
   },
   {
    "duration": 379,
    "start_time": "2022-04-27T09:36:48.184Z"
   },
   {
    "duration": 82,
    "start_time": "2022-04-27T09:36:48.565Z"
   },
   {
    "duration": 16,
    "start_time": "2022-04-27T09:36:48.649Z"
   },
   {
    "duration": 10,
    "start_time": "2022-04-27T09:36:48.667Z"
   },
   {
    "duration": 4,
    "start_time": "2022-04-27T09:36:48.681Z"
   },
   {
    "duration": 22,
    "start_time": "2022-04-27T09:36:48.686Z"
   },
   {
    "duration": 9,
    "start_time": "2022-04-27T09:36:48.710Z"
   },
   {
    "duration": 33,
    "start_time": "2022-04-27T09:36:48.721Z"
   },
   {
    "duration": 15,
    "start_time": "2022-04-27T09:36:48.756Z"
   },
   {
    "duration": 4,
    "start_time": "2022-04-27T09:36:48.773Z"
   },
   {
    "duration": 10,
    "start_time": "2022-04-27T09:36:48.779Z"
   },
   {
    "duration": 13,
    "start_time": "2022-04-27T09:36:48.791Z"
   },
   {
    "duration": 10,
    "start_time": "2022-04-27T09:36:48.806Z"
   },
   {
    "duration": 10,
    "start_time": "2022-04-27T09:36:48.818Z"
   },
   {
    "duration": 38,
    "start_time": "2022-04-27T09:36:48.829Z"
   },
   {
    "duration": 10,
    "start_time": "2022-04-27T09:36:48.869Z"
   },
   {
    "duration": 16,
    "start_time": "2022-04-27T09:36:48.881Z"
   },
   {
    "duration": 14,
    "start_time": "2022-04-27T09:36:48.899Z"
   },
   {
    "duration": 9,
    "start_time": "2022-04-27T09:36:48.914Z"
   },
   {
    "duration": 31,
    "start_time": "2022-04-27T09:36:48.924Z"
   },
   {
    "duration": 14,
    "start_time": "2022-04-27T09:36:48.957Z"
   },
   {
    "duration": 18,
    "start_time": "2022-04-27T09:36:48.972Z"
   },
   {
    "duration": 19,
    "start_time": "2022-04-27T09:36:48.992Z"
   },
   {
    "duration": 4,
    "start_time": "2022-04-27T09:36:49.013Z"
   },
   {
    "duration": 10,
    "start_time": "2022-04-27T09:36:49.018Z"
   },
   {
    "duration": 32,
    "start_time": "2022-04-27T09:36:49.029Z"
   },
   {
    "duration": 30,
    "start_time": "2022-04-27T09:36:49.063Z"
   },
   {
    "duration": 3423,
    "start_time": "2022-04-27T09:36:49.095Z"
   },
   {
    "duration": 10,
    "start_time": "2022-04-27T09:36:52.520Z"
   },
   {
    "duration": 25,
    "start_time": "2022-04-27T09:36:52.532Z"
   },
   {
    "duration": 16,
    "start_time": "2022-04-27T09:36:52.558Z"
   },
   {
    "duration": 21,
    "start_time": "2022-04-27T09:36:52.576Z"
   },
   {
    "duration": 16,
    "start_time": "2022-04-27T09:36:52.599Z"
   },
   {
    "duration": 26,
    "start_time": "2022-04-27T09:36:52.616Z"
   },
   {
    "duration": 17,
    "start_time": "2022-04-27T09:36:52.644Z"
   },
   {
    "duration": 10,
    "start_time": "2022-04-27T09:36:52.662Z"
   },
   {
    "duration": 16,
    "start_time": "2022-04-27T09:38:53.035Z"
   },
   {
    "duration": 14,
    "start_time": "2022-04-27T09:39:17.528Z"
   },
   {
    "duration": 22,
    "start_time": "2022-04-27T09:39:24.925Z"
   },
   {
    "duration": 15,
    "start_time": "2022-04-27T09:40:16.728Z"
   },
   {
    "duration": 20,
    "start_time": "2022-04-27T09:40:21.487Z"
   },
   {
    "duration": 431,
    "start_time": "2022-04-27T09:40:27.549Z"
   },
   {
    "duration": 92,
    "start_time": "2022-04-27T09:40:27.982Z"
   },
   {
    "duration": 23,
    "start_time": "2022-04-27T09:40:28.076Z"
   },
   {
    "duration": 16,
    "start_time": "2022-04-27T09:40:28.101Z"
   },
   {
    "duration": 20,
    "start_time": "2022-04-27T09:40:28.119Z"
   },
   {
    "duration": 44,
    "start_time": "2022-04-27T09:40:28.141Z"
   },
   {
    "duration": 12,
    "start_time": "2022-04-27T09:40:28.187Z"
   },
   {
    "duration": 20,
    "start_time": "2022-04-27T09:40:28.201Z"
   },
   {
    "duration": 40,
    "start_time": "2022-04-27T09:40:28.223Z"
   },
   {
    "duration": 20,
    "start_time": "2022-04-27T09:40:28.267Z"
   },
   {
    "duration": 26,
    "start_time": "2022-04-27T09:40:28.289Z"
   },
   {
    "duration": 16,
    "start_time": "2022-04-27T09:40:28.316Z"
   },
   {
    "duration": 12,
    "start_time": "2022-04-27T09:40:28.334Z"
   },
   {
    "duration": 36,
    "start_time": "2022-04-27T09:40:28.348Z"
   },
   {
    "duration": 21,
    "start_time": "2022-04-27T09:40:28.386Z"
   },
   {
    "duration": 25,
    "start_time": "2022-04-27T09:40:28.409Z"
   },
   {
    "duration": 23,
    "start_time": "2022-04-27T09:40:28.436Z"
   },
   {
    "duration": 25,
    "start_time": "2022-04-27T09:40:28.464Z"
   },
   {
    "duration": 18,
    "start_time": "2022-04-27T09:40:28.491Z"
   },
   {
    "duration": 10,
    "start_time": "2022-04-27T09:40:28.511Z"
   },
   {
    "duration": 38,
    "start_time": "2022-04-27T09:40:28.523Z"
   },
   {
    "duration": 39,
    "start_time": "2022-04-27T09:40:28.563Z"
   },
   {
    "duration": 25,
    "start_time": "2022-04-27T09:40:28.604Z"
   },
   {
    "duration": 4,
    "start_time": "2022-04-27T09:40:28.630Z"
   },
   {
    "duration": 25,
    "start_time": "2022-04-27T09:40:28.636Z"
   },
   {
    "duration": 41,
    "start_time": "2022-04-27T09:40:28.666Z"
   },
   {
    "duration": 34,
    "start_time": "2022-04-27T09:40:28.709Z"
   },
   {
    "duration": 3804,
    "start_time": "2022-04-27T09:40:28.747Z"
   },
   {
    "duration": 29,
    "start_time": "2022-04-27T09:40:32.553Z"
   },
   {
    "duration": 24,
    "start_time": "2022-04-27T09:40:32.584Z"
   },
   {
    "duration": 25,
    "start_time": "2022-04-27T09:40:32.610Z"
   },
   {
    "duration": 38,
    "start_time": "2022-04-27T09:40:32.637Z"
   },
   {
    "duration": 25,
    "start_time": "2022-04-27T09:40:32.676Z"
   },
   {
    "duration": 48,
    "start_time": "2022-04-27T09:40:32.702Z"
   },
   {
    "duration": 29,
    "start_time": "2022-04-27T09:40:32.752Z"
   },
   {
    "duration": 31,
    "start_time": "2022-04-27T09:40:32.783Z"
   },
   {
    "duration": 15,
    "start_time": "2022-04-27T09:40:44.899Z"
   },
   {
    "duration": 14,
    "start_time": "2022-04-27T09:40:52.012Z"
   },
   {
    "duration": 424,
    "start_time": "2022-04-27T09:40:58.917Z"
   },
   {
    "duration": 84,
    "start_time": "2022-04-27T09:40:59.343Z"
   },
   {
    "duration": 15,
    "start_time": "2022-04-27T09:40:59.429Z"
   },
   {
    "duration": 16,
    "start_time": "2022-04-27T09:40:59.457Z"
   },
   {
    "duration": 8,
    "start_time": "2022-04-27T09:40:59.475Z"
   },
   {
    "duration": 23,
    "start_time": "2022-04-27T09:40:59.485Z"
   },
   {
    "duration": 9,
    "start_time": "2022-04-27T09:40:59.510Z"
   },
   {
    "duration": 7,
    "start_time": "2022-04-27T09:40:59.520Z"
   },
   {
    "duration": 45,
    "start_time": "2022-04-27T09:40:59.528Z"
   },
   {
    "duration": 5,
    "start_time": "2022-04-27T09:40:59.575Z"
   },
   {
    "duration": 8,
    "start_time": "2022-04-27T09:40:59.582Z"
   },
   {
    "duration": 8,
    "start_time": "2022-04-27T09:40:59.591Z"
   },
   {
    "duration": 6,
    "start_time": "2022-04-27T09:40:59.600Z"
   },
   {
    "duration": 10,
    "start_time": "2022-04-27T09:40:59.609Z"
   },
   {
    "duration": 19,
    "start_time": "2022-04-27T09:40:59.660Z"
   },
   {
    "duration": 15,
    "start_time": "2022-04-27T09:40:59.681Z"
   },
   {
    "duration": 20,
    "start_time": "2022-04-27T09:40:59.697Z"
   },
   {
    "duration": 11,
    "start_time": "2022-04-27T09:40:59.719Z"
   },
   {
    "duration": 26,
    "start_time": "2022-04-27T09:40:59.732Z"
   },
   {
    "duration": 19,
    "start_time": "2022-04-27T09:40:59.760Z"
   },
   {
    "duration": 10,
    "start_time": "2022-04-27T09:40:59.781Z"
   },
   {
    "duration": 20,
    "start_time": "2022-04-27T09:40:59.792Z"
   },
   {
    "duration": 21,
    "start_time": "2022-04-27T09:40:59.814Z"
   },
   {
    "duration": 4,
    "start_time": "2022-04-27T09:40:59.836Z"
   },
   {
    "duration": 33,
    "start_time": "2022-04-27T09:40:59.842Z"
   },
   {
    "duration": 20,
    "start_time": "2022-04-27T09:40:59.877Z"
   },
   {
    "duration": 33,
    "start_time": "2022-04-27T09:40:59.899Z"
   },
   {
    "duration": 3891,
    "start_time": "2022-04-27T09:40:59.933Z"
   },
   {
    "duration": 12,
    "start_time": "2022-04-27T09:41:03.825Z"
   },
   {
    "duration": 7,
    "start_time": "2022-04-27T09:41:03.858Z"
   },
   {
    "duration": 11,
    "start_time": "2022-04-27T09:41:03.867Z"
   },
   {
    "duration": 8,
    "start_time": "2022-04-27T09:41:03.880Z"
   },
   {
    "duration": 12,
    "start_time": "2022-04-27T09:41:03.890Z"
   },
   {
    "duration": 20,
    "start_time": "2022-04-27T09:41:03.904Z"
   },
   {
    "duration": 48,
    "start_time": "2022-04-27T09:41:03.926Z"
   },
   {
    "duration": 19,
    "start_time": "2022-04-27T09:41:03.976Z"
   },
   {
    "duration": 459,
    "start_time": "2022-04-27T09:41:20.043Z"
   },
   {
    "duration": 88,
    "start_time": "2022-04-27T09:41:20.504Z"
   },
   {
    "duration": 16,
    "start_time": "2022-04-27T09:41:20.594Z"
   },
   {
    "duration": 35,
    "start_time": "2022-04-27T09:41:20.611Z"
   },
   {
    "duration": 41,
    "start_time": "2022-04-27T09:41:20.649Z"
   },
   {
    "duration": 31,
    "start_time": "2022-04-27T09:41:20.692Z"
   },
   {
    "duration": 15,
    "start_time": "2022-04-27T09:41:20.725Z"
   },
   {
    "duration": 21,
    "start_time": "2022-04-27T09:41:20.741Z"
   },
   {
    "duration": 58,
    "start_time": "2022-04-27T09:41:20.767Z"
   },
   {
    "duration": 17,
    "start_time": "2022-04-27T09:41:20.827Z"
   },
   {
    "duration": 27,
    "start_time": "2022-04-27T09:41:20.846Z"
   },
   {
    "duration": 14,
    "start_time": "2022-04-27T09:41:20.875Z"
   },
   {
    "duration": 15,
    "start_time": "2022-04-27T09:41:20.891Z"
   },
   {
    "duration": 16,
    "start_time": "2022-04-27T09:41:20.909Z"
   },
   {
    "duration": 31,
    "start_time": "2022-04-27T09:41:20.927Z"
   },
   {
    "duration": 26,
    "start_time": "2022-04-27T09:41:20.960Z"
   },
   {
    "duration": 20,
    "start_time": "2022-04-27T09:41:20.988Z"
   },
   {
    "duration": 42,
    "start_time": "2022-04-27T09:41:21.010Z"
   },
   {
    "duration": 10,
    "start_time": "2022-04-27T09:41:21.056Z"
   },
   {
    "duration": 21,
    "start_time": "2022-04-27T09:41:21.068Z"
   },
   {
    "duration": 13,
    "start_time": "2022-04-27T09:41:21.091Z"
   },
   {
    "duration": 40,
    "start_time": "2022-04-27T09:41:21.105Z"
   },
   {
    "duration": 34,
    "start_time": "2022-04-27T09:41:21.147Z"
   },
   {
    "duration": 14,
    "start_time": "2022-04-27T09:41:21.183Z"
   },
   {
    "duration": 17,
    "start_time": "2022-04-27T09:41:21.199Z"
   },
   {
    "duration": 32,
    "start_time": "2022-04-27T09:41:21.218Z"
   },
   {
    "duration": 43,
    "start_time": "2022-04-27T09:41:21.252Z"
   },
   {
    "duration": 4476,
    "start_time": "2022-04-27T09:41:21.297Z"
   },
   {
    "duration": 14,
    "start_time": "2022-04-27T09:41:25.775Z"
   },
   {
    "duration": 10,
    "start_time": "2022-04-27T09:41:25.790Z"
   },
   {
    "duration": 8,
    "start_time": "2022-04-27T09:41:25.802Z"
   },
   {
    "duration": 10,
    "start_time": "2022-04-27T09:41:25.812Z"
   },
   {
    "duration": 31,
    "start_time": "2022-04-27T09:41:25.824Z"
   },
   {
    "duration": 43,
    "start_time": "2022-04-27T09:41:25.857Z"
   },
   {
    "duration": 20,
    "start_time": "2022-04-27T09:41:25.902Z"
   },
   {
    "duration": 16,
    "start_time": "2022-04-27T09:41:25.924Z"
   },
   {
    "duration": 79,
    "start_time": "2022-04-27T09:42:41.683Z"
   },
   {
    "duration": 18,
    "start_time": "2022-04-27T09:42:53.084Z"
   },
   {
    "duration": 147,
    "start_time": "2022-04-27T09:45:47.282Z"
   },
   {
    "duration": 18,
    "start_time": "2022-04-27T09:46:13.522Z"
   },
   {
    "duration": 387,
    "start_time": "2022-04-27T09:46:20.963Z"
   },
   {
    "duration": 86,
    "start_time": "2022-04-27T09:46:21.355Z"
   },
   {
    "duration": 19,
    "start_time": "2022-04-27T09:46:21.443Z"
   },
   {
    "duration": 11,
    "start_time": "2022-04-27T09:46:21.464Z"
   },
   {
    "duration": 5,
    "start_time": "2022-04-27T09:46:21.477Z"
   },
   {
    "duration": 23,
    "start_time": "2022-04-27T09:46:21.484Z"
   },
   {
    "duration": 14,
    "start_time": "2022-04-27T09:46:21.509Z"
   },
   {
    "duration": 9,
    "start_time": "2022-04-27T09:46:21.556Z"
   },
   {
    "duration": 30,
    "start_time": "2022-04-27T09:46:21.568Z"
   },
   {
    "duration": 8,
    "start_time": "2022-04-27T09:46:21.601Z"
   },
   {
    "duration": 9,
    "start_time": "2022-04-27T09:46:21.611Z"
   },
   {
    "duration": 34,
    "start_time": "2022-04-27T09:46:21.622Z"
   },
   {
    "duration": 8,
    "start_time": "2022-04-27T09:46:21.657Z"
   },
   {
    "duration": 10,
    "start_time": "2022-04-27T09:46:21.667Z"
   },
   {
    "duration": 23,
    "start_time": "2022-04-27T09:46:21.679Z"
   },
   {
    "duration": 10,
    "start_time": "2022-04-27T09:46:21.704Z"
   },
   {
    "duration": 52,
    "start_time": "2022-04-27T09:46:21.716Z"
   },
   {
    "duration": 26,
    "start_time": "2022-04-27T09:46:21.769Z"
   },
   {
    "duration": 8,
    "start_time": "2022-04-27T09:46:21.797Z"
   },
   {
    "duration": 6,
    "start_time": "2022-04-27T09:46:21.807Z"
   },
   {
    "duration": 11,
    "start_time": "2022-04-27T09:46:21.815Z"
   },
   {
    "duration": 23,
    "start_time": "2022-04-27T09:46:21.828Z"
   },
   {
    "duration": 23,
    "start_time": "2022-04-27T09:46:21.853Z"
   },
   {
    "duration": 14,
    "start_time": "2022-04-27T09:46:21.877Z"
   },
   {
    "duration": 13,
    "start_time": "2022-04-27T09:46:21.893Z"
   },
   {
    "duration": 21,
    "start_time": "2022-04-27T09:46:21.908Z"
   },
   {
    "duration": 41,
    "start_time": "2022-04-27T09:46:21.931Z"
   },
   {
    "duration": 3431,
    "start_time": "2022-04-27T09:46:21.974Z"
   },
   {
    "duration": 11,
    "start_time": "2022-04-27T09:46:25.407Z"
   },
   {
    "duration": 10,
    "start_time": "2022-04-27T09:46:25.420Z"
   },
   {
    "duration": 6,
    "start_time": "2022-04-27T09:46:25.432Z"
   },
   {
    "duration": 15,
    "start_time": "2022-04-27T09:46:25.440Z"
   },
   {
    "duration": 25,
    "start_time": "2022-04-27T09:46:25.456Z"
   },
   {
    "duration": 22,
    "start_time": "2022-04-27T09:46:25.482Z"
   },
   {
    "duration": 19,
    "start_time": "2022-04-27T09:46:25.505Z"
   },
   {
    "duration": 14,
    "start_time": "2022-04-27T09:46:25.526Z"
   },
   {
    "duration": 18,
    "start_time": "2022-04-27T10:22:27.763Z"
   },
   {
    "duration": 152,
    "start_time": "2022-04-27T10:24:40.145Z"
   },
   {
    "duration": 67,
    "start_time": "2022-04-27T10:31:17.948Z"
   },
   {
    "duration": 18,
    "start_time": "2022-04-27T10:31:29.326Z"
   },
   {
    "duration": 20,
    "start_time": "2022-04-27T10:33:47.241Z"
   },
   {
    "duration": 21,
    "start_time": "2022-04-27T10:34:01.552Z"
   },
   {
    "duration": 26,
    "start_time": "2022-04-27T10:34:15.870Z"
   },
   {
    "duration": 29,
    "start_time": "2022-04-27T10:34:41.810Z"
   },
   {
    "duration": 33,
    "start_time": "2022-04-27T10:35:07.542Z"
   },
   {
    "duration": 8,
    "start_time": "2022-04-27T10:35:48.740Z"
   },
   {
    "duration": 26,
    "start_time": "2022-04-27T10:36:10.382Z"
   },
   {
    "duration": 27,
    "start_time": "2022-04-27T10:36:25.495Z"
   },
   {
    "duration": 28,
    "start_time": "2022-04-27T10:36:38.934Z"
   },
   {
    "duration": 29,
    "start_time": "2022-04-27T10:36:56.813Z"
   },
   {
    "duration": 7,
    "start_time": "2022-04-27T10:42:34.123Z"
   },
   {
    "duration": 389,
    "start_time": "2022-04-27T10:42:43.588Z"
   },
   {
    "duration": 81,
    "start_time": "2022-04-27T10:42:43.979Z"
   },
   {
    "duration": 15,
    "start_time": "2022-04-27T10:42:44.062Z"
   },
   {
    "duration": 10,
    "start_time": "2022-04-27T10:42:44.079Z"
   },
   {
    "duration": 5,
    "start_time": "2022-04-27T10:42:44.090Z"
   },
   {
    "duration": 22,
    "start_time": "2022-04-27T10:42:44.097Z"
   },
   {
    "duration": 38,
    "start_time": "2022-04-27T10:42:44.121Z"
   },
   {
    "duration": 5,
    "start_time": "2022-04-27T10:42:44.161Z"
   },
   {
    "duration": 19,
    "start_time": "2022-04-27T10:42:44.167Z"
   },
   {
    "duration": 5,
    "start_time": "2022-04-27T10:42:44.189Z"
   },
   {
    "duration": 9,
    "start_time": "2022-04-27T10:42:44.195Z"
   },
   {
    "duration": 8,
    "start_time": "2022-04-27T10:42:44.205Z"
   },
   {
    "duration": 7,
    "start_time": "2022-04-27T10:42:44.214Z"
   },
   {
    "duration": 11,
    "start_time": "2022-04-27T10:42:44.255Z"
   },
   {
    "duration": 21,
    "start_time": "2022-04-27T10:42:44.267Z"
   },
   {
    "duration": 11,
    "start_time": "2022-04-27T10:42:44.289Z"
   },
   {
    "duration": 16,
    "start_time": "2022-04-27T10:42:44.302Z"
   },
   {
    "duration": 40,
    "start_time": "2022-04-27T10:42:44.319Z"
   },
   {
    "duration": 6,
    "start_time": "2022-04-27T10:42:44.361Z"
   },
   {
    "duration": 5,
    "start_time": "2022-04-27T10:42:44.369Z"
   },
   {
    "duration": 11,
    "start_time": "2022-04-27T10:42:44.376Z"
   },
   {
    "duration": 18,
    "start_time": "2022-04-27T10:42:44.389Z"
   },
   {
    "duration": 47,
    "start_time": "2022-04-27T10:42:44.409Z"
   },
   {
    "duration": 5,
    "start_time": "2022-04-27T10:42:44.458Z"
   },
   {
    "duration": 16,
    "start_time": "2022-04-27T10:42:44.465Z"
   },
   {
    "duration": 23,
    "start_time": "2022-04-27T10:42:44.482Z"
   },
   {
    "duration": 32,
    "start_time": "2022-04-27T10:42:44.507Z"
   },
   {
    "duration": 3584,
    "start_time": "2022-04-27T10:42:44.556Z"
   },
   {
    "duration": 23,
    "start_time": "2022-04-27T10:42:48.142Z"
   },
   {
    "duration": 12,
    "start_time": "2022-04-27T10:42:48.166Z"
   },
   {
    "duration": 25,
    "start_time": "2022-04-27T10:42:48.179Z"
   },
   {
    "duration": 16,
    "start_time": "2022-04-27T10:42:48.206Z"
   },
   {
    "duration": 19,
    "start_time": "2022-04-27T10:42:48.224Z"
   },
   {
    "duration": 32,
    "start_time": "2022-04-27T10:42:48.244Z"
   },
   {
    "duration": 18,
    "start_time": "2022-04-27T10:42:48.277Z"
   },
   {
    "duration": 15,
    "start_time": "2022-04-27T10:42:48.297Z"
   },
   {
    "duration": 34,
    "start_time": "2022-04-27T10:42:48.313Z"
   },
   {
    "duration": 26,
    "start_time": "2022-04-27T10:42:48.349Z"
   },
   {
    "duration": 17,
    "start_time": "2022-04-27T10:43:01.632Z"
   },
   {
    "duration": 3,
    "start_time": "2022-04-27T10:43:48.368Z"
   },
   {
    "duration": 87,
    "start_time": "2022-04-27T10:43:48.373Z"
   },
   {
    "duration": 14,
    "start_time": "2022-04-27T10:43:48.462Z"
   },
   {
    "duration": 19,
    "start_time": "2022-04-27T10:43:48.477Z"
   },
   {
    "duration": 21,
    "start_time": "2022-04-27T10:43:48.497Z"
   },
   {
    "duration": 20,
    "start_time": "2022-04-27T10:43:48.520Z"
   },
   {
    "duration": 7,
    "start_time": "2022-04-27T10:43:48.542Z"
   },
   {
    "duration": 20,
    "start_time": "2022-04-27T10:43:48.551Z"
   },
   {
    "duration": 20,
    "start_time": "2022-04-27T10:43:48.573Z"
   },
   {
    "duration": 15,
    "start_time": "2022-04-27T10:43:48.595Z"
   },
   {
    "duration": 25,
    "start_time": "2022-04-27T10:43:48.612Z"
   },
   {
    "duration": 16,
    "start_time": "2022-04-27T10:43:48.638Z"
   },
   {
    "duration": 20,
    "start_time": "2022-04-27T10:43:48.656Z"
   },
   {
    "duration": 18,
    "start_time": "2022-04-27T10:43:48.677Z"
   },
   {
    "duration": 21,
    "start_time": "2022-04-27T10:43:48.697Z"
   },
   {
    "duration": 17,
    "start_time": "2022-04-27T10:43:48.720Z"
   },
   {
    "duration": 25,
    "start_time": "2022-04-27T10:43:48.739Z"
   },
   {
    "duration": 17,
    "start_time": "2022-04-27T10:43:48.766Z"
   },
   {
    "duration": 17,
    "start_time": "2022-04-27T10:43:48.785Z"
   },
   {
    "duration": 13,
    "start_time": "2022-04-27T10:43:48.804Z"
   },
   {
    "duration": 24,
    "start_time": "2022-04-27T10:43:48.819Z"
   },
   {
    "duration": 27,
    "start_time": "2022-04-27T10:43:48.845Z"
   },
   {
    "duration": 19,
    "start_time": "2022-04-27T10:43:48.874Z"
   },
   {
    "duration": 5,
    "start_time": "2022-04-27T10:43:48.895Z"
   },
   {
    "duration": 16,
    "start_time": "2022-04-27T10:43:48.902Z"
   },
   {
    "duration": 25,
    "start_time": "2022-04-27T10:43:48.920Z"
   },
   {
    "duration": 36,
    "start_time": "2022-04-27T10:43:48.947Z"
   },
   {
    "duration": 3426,
    "start_time": "2022-04-27T10:43:48.985Z"
   },
   {
    "duration": 11,
    "start_time": "2022-04-27T10:43:52.413Z"
   },
   {
    "duration": 50,
    "start_time": "2022-04-27T10:43:52.425Z"
   },
   {
    "duration": 21,
    "start_time": "2022-04-27T10:43:52.477Z"
   },
   {
    "duration": 14,
    "start_time": "2022-04-27T10:43:52.500Z"
   },
   {
    "duration": 31,
    "start_time": "2022-04-27T10:43:52.515Z"
   },
   {
    "duration": 41,
    "start_time": "2022-04-27T10:43:52.547Z"
   },
   {
    "duration": 48,
    "start_time": "2022-04-27T10:43:52.590Z"
   },
   {
    "duration": 15,
    "start_time": "2022-04-27T10:43:52.640Z"
   },
   {
    "duration": 44,
    "start_time": "2022-04-27T10:43:52.656Z"
   },
   {
    "duration": 29,
    "start_time": "2022-04-27T10:43:52.702Z"
   },
   {
    "duration": 390,
    "start_time": "2022-04-27T10:45:53.159Z"
   },
   {
    "duration": 76,
    "start_time": "2022-04-27T10:45:53.551Z"
   },
   {
    "duration": 14,
    "start_time": "2022-04-27T10:45:53.629Z"
   },
   {
    "duration": 17,
    "start_time": "2022-04-27T10:45:53.644Z"
   },
   {
    "duration": 12,
    "start_time": "2022-04-27T10:45:53.664Z"
   },
   {
    "duration": 42,
    "start_time": "2022-04-27T10:45:53.678Z"
   },
   {
    "duration": 10,
    "start_time": "2022-04-27T10:45:53.722Z"
   },
   {
    "duration": 26,
    "start_time": "2022-04-27T10:45:53.733Z"
   },
   {
    "duration": 42,
    "start_time": "2022-04-27T10:45:53.761Z"
   },
   {
    "duration": 18,
    "start_time": "2022-04-27T10:45:53.804Z"
   },
   {
    "duration": 10,
    "start_time": "2022-04-27T10:45:53.824Z"
   },
   {
    "duration": 21,
    "start_time": "2022-04-27T10:45:53.835Z"
   },
   {
    "duration": 16,
    "start_time": "2022-04-27T10:45:53.858Z"
   },
   {
    "duration": 14,
    "start_time": "2022-04-27T10:45:53.877Z"
   },
   {
    "duration": 18,
    "start_time": "2022-04-27T10:45:53.892Z"
   },
   {
    "duration": 22,
    "start_time": "2022-04-27T10:45:53.911Z"
   },
   {
    "duration": 21,
    "start_time": "2022-04-27T10:45:53.934Z"
   },
   {
    "duration": 17,
    "start_time": "2022-04-27T10:45:53.956Z"
   },
   {
    "duration": 7,
    "start_time": "2022-04-27T10:45:53.975Z"
   },
   {
    "duration": 18,
    "start_time": "2022-04-27T10:45:53.983Z"
   },
   {
    "duration": 12,
    "start_time": "2022-04-27T10:45:54.003Z"
   },
   {
    "duration": 23,
    "start_time": "2022-04-27T10:45:54.016Z"
   },
   {
    "duration": 29,
    "start_time": "2022-04-27T10:45:54.041Z"
   },
   {
    "duration": 4,
    "start_time": "2022-04-27T10:45:54.072Z"
   },
   {
    "duration": 15,
    "start_time": "2022-04-27T10:45:54.077Z"
   },
   {
    "duration": 26,
    "start_time": "2022-04-27T10:45:54.094Z"
   },
   {
    "duration": 32,
    "start_time": "2022-04-27T10:45:54.122Z"
   },
   {
    "duration": 3226,
    "start_time": "2022-04-27T10:45:54.156Z"
   },
   {
    "duration": 11,
    "start_time": "2022-04-27T10:45:57.385Z"
   },
   {
    "duration": 10,
    "start_time": "2022-04-27T10:45:57.397Z"
   },
   {
    "duration": 7,
    "start_time": "2022-04-27T10:45:57.409Z"
   },
   {
    "duration": 4,
    "start_time": "2022-04-27T10:45:57.418Z"
   },
   {
    "duration": 12,
    "start_time": "2022-04-27T10:45:57.423Z"
   },
   {
    "duration": 20,
    "start_time": "2022-04-27T10:45:57.455Z"
   },
   {
    "duration": 18,
    "start_time": "2022-04-27T10:45:57.476Z"
   },
   {
    "duration": 14,
    "start_time": "2022-04-27T10:45:57.495Z"
   },
   {
    "duration": 17,
    "start_time": "2022-04-27T10:45:57.510Z"
   },
   {
    "duration": 15,
    "start_time": "2022-04-27T10:45:57.555Z"
   },
   {
    "duration": 2368,
    "start_time": "2022-04-27T11:25:52.977Z"
   },
   {
    "duration": 428,
    "start_time": "2022-04-27T11:26:00.423Z"
   },
   {
    "duration": 81,
    "start_time": "2022-04-27T11:26:00.853Z"
   },
   {
    "duration": 15,
    "start_time": "2022-04-27T11:26:00.935Z"
   },
   {
    "duration": 18,
    "start_time": "2022-04-27T11:26:00.955Z"
   },
   {
    "duration": 7,
    "start_time": "2022-04-27T11:26:00.975Z"
   },
   {
    "duration": 25,
    "start_time": "2022-04-27T11:26:00.983Z"
   },
   {
    "duration": 10,
    "start_time": "2022-04-27T11:26:01.010Z"
   },
   {
    "duration": 15,
    "start_time": "2022-04-27T11:26:01.022Z"
   },
   {
    "duration": 26,
    "start_time": "2022-04-27T11:26:01.038Z"
   },
   {
    "duration": 9,
    "start_time": "2022-04-27T11:26:01.065Z"
   },
   {
    "duration": 25,
    "start_time": "2022-04-27T11:26:01.075Z"
   },
   {
    "duration": 26,
    "start_time": "2022-04-27T11:26:01.101Z"
   },
   {
    "duration": 18,
    "start_time": "2022-04-27T11:26:01.128Z"
   },
   {
    "duration": 48,
    "start_time": "2022-04-27T11:26:01.149Z"
   },
   {
    "duration": 23,
    "start_time": "2022-04-27T11:26:01.199Z"
   },
   {
    "duration": 12,
    "start_time": "2022-04-27T11:26:01.224Z"
   },
   {
    "duration": 17,
    "start_time": "2022-04-27T11:26:01.238Z"
   },
   {
    "duration": 24,
    "start_time": "2022-04-27T11:26:01.256Z"
   },
   {
    "duration": 31,
    "start_time": "2022-04-27T11:26:01.281Z"
   },
   {
    "duration": 25,
    "start_time": "2022-04-27T11:26:01.313Z"
   },
   {
    "duration": 13,
    "start_time": "2022-04-27T11:26:01.339Z"
   },
   {
    "duration": 24,
    "start_time": "2022-04-27T11:26:01.353Z"
   },
   {
    "duration": 25,
    "start_time": "2022-04-27T11:26:01.379Z"
   },
   {
    "duration": 34,
    "start_time": "2022-04-27T11:26:01.406Z"
   },
   {
    "duration": 18,
    "start_time": "2022-04-27T11:26:01.442Z"
   },
   {
    "duration": 70,
    "start_time": "2022-04-27T11:26:01.461Z"
   },
   {
    "duration": 73,
    "start_time": "2022-04-27T11:26:01.533Z"
   },
   {
    "duration": 3333,
    "start_time": "2022-04-27T11:26:01.608Z"
   },
   {
    "duration": 13,
    "start_time": "2022-04-27T11:26:04.953Z"
   },
   {
    "duration": 10,
    "start_time": "2022-04-27T11:26:04.967Z"
   },
   {
    "duration": 6,
    "start_time": "2022-04-27T11:26:04.979Z"
   },
   {
    "duration": 5,
    "start_time": "2022-04-27T11:26:04.986Z"
   },
   {
    "duration": 13,
    "start_time": "2022-04-27T11:26:04.992Z"
   },
   {
    "duration": 47,
    "start_time": "2022-04-27T11:26:05.007Z"
   },
   {
    "duration": 19,
    "start_time": "2022-04-27T11:26:05.056Z"
   },
   {
    "duration": 15,
    "start_time": "2022-04-27T11:26:05.076Z"
   },
   {
    "duration": 16,
    "start_time": "2022-04-27T11:26:05.092Z"
   },
   {
    "duration": 12,
    "start_time": "2022-04-27T11:26:05.110Z"
   },
   {
    "duration": 44,
    "start_time": "2022-04-27T11:26:05.123Z"
   },
   {
    "duration": 19,
    "start_time": "2022-04-27T11:39:10.384Z"
   },
   {
    "duration": 21,
    "start_time": "2022-04-27T11:39:14.602Z"
   },
   {
    "duration": 20,
    "start_time": "2022-04-27T11:39:23.192Z"
   },
   {
    "duration": 19,
    "start_time": "2022-04-27T11:39:43.223Z"
   },
   {
    "duration": 523,
    "start_time": "2022-04-27T11:39:50.814Z"
   },
   {
    "duration": 78,
    "start_time": "2022-04-27T11:39:51.340Z"
   },
   {
    "duration": 21,
    "start_time": "2022-04-27T11:39:51.420Z"
   },
   {
    "duration": 16,
    "start_time": "2022-04-27T11:39:51.454Z"
   },
   {
    "duration": 24,
    "start_time": "2022-04-27T11:39:51.473Z"
   },
   {
    "duration": 27,
    "start_time": "2022-04-27T11:39:51.498Z"
   },
   {
    "duration": 10,
    "start_time": "2022-04-27T11:39:51.527Z"
   },
   {
    "duration": 17,
    "start_time": "2022-04-27T11:39:51.538Z"
   },
   {
    "duration": 14,
    "start_time": "2022-04-27T11:39:51.557Z"
   },
   {
    "duration": 5,
    "start_time": "2022-04-27T11:39:51.573Z"
   },
   {
    "duration": 10,
    "start_time": "2022-04-27T11:39:51.580Z"
   },
   {
    "duration": 8,
    "start_time": "2022-04-27T11:39:51.593Z"
   },
   {
    "duration": 7,
    "start_time": "2022-04-27T11:39:51.603Z"
   },
   {
    "duration": 44,
    "start_time": "2022-04-27T11:39:51.613Z"
   },
   {
    "duration": 18,
    "start_time": "2022-04-27T11:39:51.658Z"
   },
   {
    "duration": 9,
    "start_time": "2022-04-27T11:39:51.678Z"
   },
   {
    "duration": 15,
    "start_time": "2022-04-27T11:39:51.689Z"
   },
   {
    "duration": 13,
    "start_time": "2022-04-27T11:39:51.706Z"
   },
   {
    "duration": 39,
    "start_time": "2022-04-27T11:39:51.721Z"
   },
   {
    "duration": 7,
    "start_time": "2022-04-27T11:39:51.762Z"
   },
   {
    "duration": 10,
    "start_time": "2022-04-27T11:39:51.770Z"
   },
   {
    "duration": 21,
    "start_time": "2022-04-27T11:39:51.781Z"
   },
   {
    "duration": 29,
    "start_time": "2022-04-27T11:39:51.803Z"
   },
   {
    "duration": 4,
    "start_time": "2022-04-27T11:39:51.855Z"
   },
   {
    "duration": 15,
    "start_time": "2022-04-27T11:39:51.862Z"
   },
   {
    "duration": 36,
    "start_time": "2022-04-27T11:39:51.878Z"
   },
   {
    "duration": 54,
    "start_time": "2022-04-27T11:39:51.916Z"
   },
   {
    "duration": 3702,
    "start_time": "2022-04-27T11:39:51.972Z"
   },
   {
    "duration": 15,
    "start_time": "2022-04-27T11:39:55.677Z"
   },
   {
    "duration": 7,
    "start_time": "2022-04-27T11:39:55.694Z"
   },
   {
    "duration": 8,
    "start_time": "2022-04-27T11:39:55.703Z"
   },
   {
    "duration": 5,
    "start_time": "2022-04-27T11:39:55.713Z"
   },
   {
    "duration": 41,
    "start_time": "2022-04-27T11:39:55.720Z"
   },
   {
    "duration": 24,
    "start_time": "2022-04-27T11:39:55.763Z"
   },
   {
    "duration": 24,
    "start_time": "2022-04-27T11:39:55.789Z"
   },
   {
    "duration": 41,
    "start_time": "2022-04-27T11:39:55.815Z"
   },
   {
    "duration": 26,
    "start_time": "2022-04-27T11:39:55.858Z"
   },
   {
    "duration": 16,
    "start_time": "2022-04-27T11:39:55.885Z"
   },
   {
    "duration": 23,
    "start_time": "2022-04-27T11:39:55.902Z"
   },
   {
    "duration": 20,
    "start_time": "2022-04-27T11:40:03.971Z"
   },
   {
    "duration": 4,
    "start_time": "2022-04-27T11:43:47.665Z"
   },
   {
    "duration": 3,
    "start_time": "2022-04-27T11:46:40.212Z"
   },
   {
    "duration": 4,
    "start_time": "2022-04-27T11:46:43.415Z"
   },
   {
    "duration": 650,
    "start_time": "2022-04-27T11:48:40.312Z"
   },
   {
    "duration": 4,
    "start_time": "2022-04-27T11:49:11.753Z"
   },
   {
    "duration": 407,
    "start_time": "2022-04-27T11:51:20.947Z"
   },
   {
    "duration": 79,
    "start_time": "2022-04-27T11:51:21.356Z"
   },
   {
    "duration": 24,
    "start_time": "2022-04-27T11:51:21.437Z"
   },
   {
    "duration": 10,
    "start_time": "2022-04-27T11:51:21.463Z"
   },
   {
    "duration": 5,
    "start_time": "2022-04-27T11:51:21.474Z"
   },
   {
    "duration": 32,
    "start_time": "2022-04-27T11:51:21.481Z"
   },
   {
    "duration": 9,
    "start_time": "2022-04-27T11:51:21.514Z"
   },
   {
    "duration": 6,
    "start_time": "2022-04-27T11:51:21.524Z"
   },
   {
    "duration": 33,
    "start_time": "2022-04-27T11:51:21.532Z"
   },
   {
    "duration": 5,
    "start_time": "2022-04-27T11:51:21.567Z"
   },
   {
    "duration": 8,
    "start_time": "2022-04-27T11:51:21.574Z"
   },
   {
    "duration": 8,
    "start_time": "2022-04-27T11:51:21.584Z"
   },
   {
    "duration": 7,
    "start_time": "2022-04-27T11:51:21.593Z"
   },
   {
    "duration": 11,
    "start_time": "2022-04-27T11:51:21.602Z"
   },
   {
    "duration": 51,
    "start_time": "2022-04-27T11:51:21.614Z"
   },
   {
    "duration": 11,
    "start_time": "2022-04-27T11:51:21.668Z"
   },
   {
    "duration": 19,
    "start_time": "2022-04-27T11:51:21.681Z"
   },
   {
    "duration": 26,
    "start_time": "2022-04-27T11:51:21.702Z"
   },
   {
    "duration": 25,
    "start_time": "2022-04-27T11:51:21.730Z"
   },
   {
    "duration": 4,
    "start_time": "2022-04-27T11:51:21.757Z"
   },
   {
    "duration": 11,
    "start_time": "2022-04-27T11:51:21.763Z"
   },
   {
    "duration": 17,
    "start_time": "2022-04-27T11:51:21.775Z"
   },
   {
    "duration": 20,
    "start_time": "2022-04-27T11:51:21.793Z"
   },
   {
    "duration": 3,
    "start_time": "2022-04-27T11:51:21.814Z"
   },
   {
    "duration": 7,
    "start_time": "2022-04-27T11:51:21.819Z"
   },
   {
    "duration": 46,
    "start_time": "2022-04-27T11:51:21.828Z"
   },
   {
    "duration": 32,
    "start_time": "2022-04-27T11:51:21.875Z"
   },
   {
    "duration": 3411,
    "start_time": "2022-04-27T11:51:21.911Z"
   },
   {
    "duration": 12,
    "start_time": "2022-04-27T11:51:25.324Z"
   },
   {
    "duration": 22,
    "start_time": "2022-04-27T11:51:25.337Z"
   },
   {
    "duration": 8,
    "start_time": "2022-04-27T11:51:25.360Z"
   },
   {
    "duration": 6,
    "start_time": "2022-04-27T11:51:25.370Z"
   },
   {
    "duration": 12,
    "start_time": "2022-04-27T11:51:25.378Z"
   },
   {
    "duration": 18,
    "start_time": "2022-04-27T11:51:25.392Z"
   },
   {
    "duration": 42,
    "start_time": "2022-04-27T11:51:25.412Z"
   },
   {
    "duration": 15,
    "start_time": "2022-04-27T11:51:25.456Z"
   },
   {
    "duration": 18,
    "start_time": "2022-04-27T11:51:25.472Z"
   },
   {
    "duration": 13,
    "start_time": "2022-04-27T11:51:25.491Z"
   },
   {
    "duration": 4,
    "start_time": "2022-04-27T11:51:25.505Z"
   },
   {
    "duration": 708,
    "start_time": "2022-04-27T11:51:25.511Z"
   },
   {
    "duration": 0,
    "start_time": "2022-04-27T11:51:26.220Z"
   },
   {
    "duration": 589,
    "start_time": "2022-04-27T11:58:34.215Z"
   },
   {
    "duration": 608,
    "start_time": "2022-04-27T11:59:51.803Z"
   },
   {
    "duration": 8,
    "start_time": "2022-04-27T12:01:38.349Z"
   },
   {
    "duration": 5,
    "start_time": "2022-04-27T12:01:45.235Z"
   },
   {
    "duration": 3,
    "start_time": "2022-04-27T12:04:48.445Z"
   },
   {
    "duration": 18,
    "start_time": "2022-04-27T12:04:50.746Z"
   },
   {
    "duration": 625,
    "start_time": "2022-04-27T12:05:03.452Z"
   },
   {
    "duration": 626,
    "start_time": "2022-04-27T12:05:19.997Z"
   },
   {
    "duration": 9,
    "start_time": "2022-04-27T12:05:37.095Z"
   },
   {
    "duration": 419,
    "start_time": "2022-04-27T12:06:40.115Z"
   },
   {
    "duration": 82,
    "start_time": "2022-04-27T12:06:40.536Z"
   },
   {
    "duration": 16,
    "start_time": "2022-04-27T12:06:40.619Z"
   },
   {
    "duration": 19,
    "start_time": "2022-04-27T12:06:40.637Z"
   },
   {
    "duration": 5,
    "start_time": "2022-04-27T12:06:40.658Z"
   },
   {
    "duration": 28,
    "start_time": "2022-04-27T12:06:40.664Z"
   },
   {
    "duration": 10,
    "start_time": "2022-04-27T12:06:40.693Z"
   },
   {
    "duration": 4,
    "start_time": "2022-04-27T12:06:40.705Z"
   },
   {
    "duration": 20,
    "start_time": "2022-04-27T12:06:40.710Z"
   },
   {
    "duration": 26,
    "start_time": "2022-04-27T12:06:40.732Z"
   },
   {
    "duration": 14,
    "start_time": "2022-04-27T12:06:40.760Z"
   },
   {
    "duration": 17,
    "start_time": "2022-04-27T12:06:40.775Z"
   },
   {
    "duration": 8,
    "start_time": "2022-04-27T12:06:40.794Z"
   },
   {
    "duration": 10,
    "start_time": "2022-04-27T12:06:40.805Z"
   },
   {
    "duration": 15,
    "start_time": "2022-04-27T12:06:40.817Z"
   },
   {
    "duration": 26,
    "start_time": "2022-04-27T12:06:40.834Z"
   },
   {
    "duration": 16,
    "start_time": "2022-04-27T12:06:40.862Z"
   },
   {
    "duration": 16,
    "start_time": "2022-04-27T12:06:40.880Z"
   },
   {
    "duration": 12,
    "start_time": "2022-04-27T12:06:40.898Z"
   },
   {
    "duration": 14,
    "start_time": "2022-04-27T12:06:40.911Z"
   },
   {
    "duration": 30,
    "start_time": "2022-04-27T12:06:40.926Z"
   },
   {
    "duration": 34,
    "start_time": "2022-04-27T12:06:40.958Z"
   },
   {
    "duration": 30,
    "start_time": "2022-04-27T12:06:40.993Z"
   },
   {
    "duration": 11,
    "start_time": "2022-04-27T12:06:41.025Z"
   },
   {
    "duration": 19,
    "start_time": "2022-04-27T12:06:41.037Z"
   },
   {
    "duration": 43,
    "start_time": "2022-04-27T12:06:41.058Z"
   },
   {
    "duration": 34,
    "start_time": "2022-04-27T12:06:41.102Z"
   },
   {
    "duration": 3375,
    "start_time": "2022-04-27T12:06:41.137Z"
   },
   {
    "duration": 11,
    "start_time": "2022-04-27T12:06:44.514Z"
   },
   {
    "duration": 23,
    "start_time": "2022-04-27T12:06:44.527Z"
   },
   {
    "duration": 24,
    "start_time": "2022-04-27T12:06:44.554Z"
   },
   {
    "duration": 30,
    "start_time": "2022-04-27T12:06:44.580Z"
   },
   {
    "duration": 19,
    "start_time": "2022-04-27T12:06:44.611Z"
   },
   {
    "duration": 33,
    "start_time": "2022-04-27T12:06:44.632Z"
   },
   {
    "duration": 18,
    "start_time": "2022-04-27T12:06:44.667Z"
   },
   {
    "duration": 14,
    "start_time": "2022-04-27T12:06:44.686Z"
   },
   {
    "duration": 22,
    "start_time": "2022-04-27T12:06:44.701Z"
   },
   {
    "duration": 33,
    "start_time": "2022-04-27T12:06:44.725Z"
   },
   {
    "duration": 689,
    "start_time": "2022-04-27T12:06:44.760Z"
   },
   {
    "duration": 0,
    "start_time": "2022-04-27T12:06:45.451Z"
   },
   {
    "duration": 7,
    "start_time": "2022-04-27T12:06:56.861Z"
   },
   {
    "duration": 5,
    "start_time": "2022-04-27T12:07:12.912Z"
   },
   {
    "duration": 11,
    "start_time": "2022-04-27T12:13:18.583Z"
   },
   {
    "duration": 5429,
    "start_time": "2022-04-27T12:15:10.755Z"
   },
   {
    "duration": 437,
    "start_time": "2022-04-27T12:15:34.817Z"
   },
   {
    "duration": 89,
    "start_time": "2022-04-27T12:15:35.257Z"
   },
   {
    "duration": 16,
    "start_time": "2022-04-27T12:15:35.347Z"
   },
   {
    "duration": 18,
    "start_time": "2022-04-27T12:15:35.366Z"
   },
   {
    "duration": 44,
    "start_time": "2022-04-27T12:15:35.386Z"
   },
   {
    "duration": 28,
    "start_time": "2022-04-27T12:15:35.431Z"
   },
   {
    "duration": 9,
    "start_time": "2022-04-27T12:15:35.461Z"
   },
   {
    "duration": 6,
    "start_time": "2022-04-27T12:15:35.472Z"
   },
   {
    "duration": 17,
    "start_time": "2022-04-27T12:15:35.479Z"
   },
   {
    "duration": 5,
    "start_time": "2022-04-27T12:15:35.499Z"
   },
   {
    "duration": 7,
    "start_time": "2022-04-27T12:15:35.505Z"
   },
   {
    "duration": 8,
    "start_time": "2022-04-27T12:15:35.514Z"
   },
   {
    "duration": 36,
    "start_time": "2022-04-27T12:15:35.524Z"
   },
   {
    "duration": 10,
    "start_time": "2022-04-27T12:15:35.562Z"
   },
   {
    "duration": 16,
    "start_time": "2022-04-27T12:15:35.573Z"
   },
   {
    "duration": 10,
    "start_time": "2022-04-27T12:15:35.590Z"
   },
   {
    "duration": 22,
    "start_time": "2022-04-27T12:15:35.602Z"
   },
   {
    "duration": 37,
    "start_time": "2022-04-27T12:15:35.626Z"
   },
   {
    "duration": 7,
    "start_time": "2022-04-27T12:15:35.664Z"
   },
   {
    "duration": 7,
    "start_time": "2022-04-27T12:15:35.672Z"
   },
   {
    "duration": 12,
    "start_time": "2022-04-27T12:15:35.681Z"
   },
   {
    "duration": 28,
    "start_time": "2022-04-27T12:15:35.695Z"
   },
   {
    "duration": 39,
    "start_time": "2022-04-27T12:15:35.724Z"
   },
   {
    "duration": 5,
    "start_time": "2022-04-27T12:15:35.765Z"
   },
   {
    "duration": 10,
    "start_time": "2022-04-27T12:15:35.771Z"
   },
   {
    "duration": 22,
    "start_time": "2022-04-27T12:15:35.782Z"
   },
   {
    "duration": 53,
    "start_time": "2022-04-27T12:15:35.806Z"
   },
   {
    "duration": 3435,
    "start_time": "2022-04-27T12:15:35.863Z"
   },
   {
    "duration": 12,
    "start_time": "2022-04-27T12:15:39.300Z"
   },
   {
    "duration": 11,
    "start_time": "2022-04-27T12:15:39.314Z"
   },
   {
    "duration": 11,
    "start_time": "2022-04-27T12:15:39.327Z"
   },
   {
    "duration": 17,
    "start_time": "2022-04-27T12:15:39.339Z"
   },
   {
    "duration": 16,
    "start_time": "2022-04-27T12:15:39.358Z"
   },
   {
    "duration": 24,
    "start_time": "2022-04-27T12:15:39.375Z"
   },
   {
    "duration": 19,
    "start_time": "2022-04-27T12:15:39.400Z"
   },
   {
    "duration": 34,
    "start_time": "2022-04-27T12:15:39.421Z"
   },
   {
    "duration": 17,
    "start_time": "2022-04-27T12:15:39.457Z"
   },
   {
    "duration": 15,
    "start_time": "2022-04-27T12:15:39.476Z"
   },
   {
    "duration": 8,
    "start_time": "2022-04-27T12:15:39.493Z"
   },
   {
    "duration": 22,
    "start_time": "2022-04-27T12:15:39.502Z"
   },
   {
    "duration": 2514,
    "start_time": "2022-04-27T12:16:40.045Z"
   },
   {
    "duration": 393,
    "start_time": "2022-04-27T12:16:47.003Z"
   },
   {
    "duration": 81,
    "start_time": "2022-04-27T12:16:47.398Z"
   },
   {
    "duration": 17,
    "start_time": "2022-04-27T12:16:47.480Z"
   },
   {
    "duration": 14,
    "start_time": "2022-04-27T12:16:47.499Z"
   },
   {
    "duration": 6,
    "start_time": "2022-04-27T12:16:47.516Z"
   },
   {
    "duration": 46,
    "start_time": "2022-04-27T12:16:47.523Z"
   },
   {
    "duration": 9,
    "start_time": "2022-04-27T12:16:47.571Z"
   },
   {
    "duration": 5,
    "start_time": "2022-04-27T12:16:47.582Z"
   },
   {
    "duration": 17,
    "start_time": "2022-04-27T12:16:47.589Z"
   },
   {
    "duration": 9,
    "start_time": "2022-04-27T12:16:47.608Z"
   },
   {
    "duration": 10,
    "start_time": "2022-04-27T12:16:47.619Z"
   },
   {
    "duration": 30,
    "start_time": "2022-04-27T12:16:47.630Z"
   },
   {
    "duration": 7,
    "start_time": "2022-04-27T12:16:47.662Z"
   },
   {
    "duration": 10,
    "start_time": "2022-04-27T12:16:47.672Z"
   },
   {
    "duration": 17,
    "start_time": "2022-04-27T12:16:47.683Z"
   },
   {
    "duration": 9,
    "start_time": "2022-04-27T12:16:47.702Z"
   },
   {
    "duration": 49,
    "start_time": "2022-04-27T12:16:47.713Z"
   },
   {
    "duration": 15,
    "start_time": "2022-04-27T12:16:47.764Z"
   },
   {
    "duration": 7,
    "start_time": "2022-04-27T12:16:47.780Z"
   },
   {
    "duration": 7,
    "start_time": "2022-04-27T12:16:47.789Z"
   },
   {
    "duration": 9,
    "start_time": "2022-04-27T12:16:47.797Z"
   },
   {
    "duration": 18,
    "start_time": "2022-04-27T12:16:47.808Z"
   },
   {
    "duration": 40,
    "start_time": "2022-04-27T12:16:47.827Z"
   },
   {
    "duration": 4,
    "start_time": "2022-04-27T12:16:47.869Z"
   },
   {
    "duration": 9,
    "start_time": "2022-04-27T12:16:47.874Z"
   },
   {
    "duration": 18,
    "start_time": "2022-04-27T12:16:47.884Z"
   },
   {
    "duration": 50,
    "start_time": "2022-04-27T12:16:47.904Z"
   },
   {
    "duration": 3317,
    "start_time": "2022-04-27T12:16:47.956Z"
   },
   {
    "duration": 11,
    "start_time": "2022-04-27T12:16:51.275Z"
   },
   {
    "duration": 6,
    "start_time": "2022-04-27T12:16:51.288Z"
   },
   {
    "duration": 6,
    "start_time": "2022-04-27T12:16:51.296Z"
   },
   {
    "duration": 9,
    "start_time": "2022-04-27T12:16:51.303Z"
   },
   {
    "duration": 12,
    "start_time": "2022-04-27T12:16:51.313Z"
   },
   {
    "duration": 44,
    "start_time": "2022-04-27T12:16:51.326Z"
   },
   {
    "duration": 19,
    "start_time": "2022-04-27T12:16:51.372Z"
   },
   {
    "duration": 13,
    "start_time": "2022-04-27T12:16:51.393Z"
   },
   {
    "duration": 17,
    "start_time": "2022-04-27T12:16:51.407Z"
   },
   {
    "duration": 41,
    "start_time": "2022-04-27T12:16:51.426Z"
   },
   {
    "duration": 5,
    "start_time": "2022-04-27T12:16:51.469Z"
   },
   {
    "duration": 17,
    "start_time": "2022-04-27T12:16:51.475Z"
   },
   {
    "duration": 419,
    "start_time": "2022-04-27T12:17:45.096Z"
   },
   {
    "duration": 88,
    "start_time": "2022-04-27T12:17:45.518Z"
   },
   {
    "duration": 14,
    "start_time": "2022-04-27T12:17:45.608Z"
   },
   {
    "duration": 9,
    "start_time": "2022-04-27T12:17:45.623Z"
   },
   {
    "duration": 5,
    "start_time": "2022-04-27T12:17:45.655Z"
   },
   {
    "duration": 24,
    "start_time": "2022-04-27T12:17:45.661Z"
   },
   {
    "duration": 9,
    "start_time": "2022-04-27T12:17:45.687Z"
   },
   {
    "duration": 5,
    "start_time": "2022-04-27T12:17:45.698Z"
   },
   {
    "duration": 17,
    "start_time": "2022-04-27T12:17:45.705Z"
   },
   {
    "duration": 5,
    "start_time": "2022-04-27T12:17:45.754Z"
   },
   {
    "duration": 14,
    "start_time": "2022-04-27T12:17:45.761Z"
   },
   {
    "duration": 9,
    "start_time": "2022-04-27T12:17:45.776Z"
   },
   {
    "duration": 8,
    "start_time": "2022-04-27T12:17:45.786Z"
   },
   {
    "duration": 9,
    "start_time": "2022-04-27T12:17:45.797Z"
   },
   {
    "duration": 52,
    "start_time": "2022-04-27T12:17:45.808Z"
   },
   {
    "duration": 11,
    "start_time": "2022-04-27T12:17:45.862Z"
   },
   {
    "duration": 17,
    "start_time": "2022-04-27T12:17:45.875Z"
   },
   {
    "duration": 19,
    "start_time": "2022-04-27T12:17:45.893Z"
   },
   {
    "duration": 7,
    "start_time": "2022-04-27T12:17:45.913Z"
   },
   {
    "duration": 33,
    "start_time": "2022-04-27T12:17:45.922Z"
   },
   {
    "duration": 16,
    "start_time": "2022-04-27T12:17:45.956Z"
   },
   {
    "duration": 24,
    "start_time": "2022-04-27T12:17:45.973Z"
   },
   {
    "duration": 21,
    "start_time": "2022-04-27T12:17:45.999Z"
   },
   {
    "duration": 4,
    "start_time": "2022-04-27T12:17:46.022Z"
   },
   {
    "duration": 34,
    "start_time": "2022-04-27T12:17:46.028Z"
   },
   {
    "duration": 25,
    "start_time": "2022-04-27T12:17:46.064Z"
   },
   {
    "duration": 31,
    "start_time": "2022-04-27T12:17:46.091Z"
   },
   {
    "duration": 3698,
    "start_time": "2022-04-27T12:17:46.123Z"
   },
   {
    "duration": 31,
    "start_time": "2022-04-27T12:17:49.824Z"
   },
   {
    "duration": 23,
    "start_time": "2022-04-27T12:17:49.858Z"
   },
   {
    "duration": 12,
    "start_time": "2022-04-27T12:17:49.884Z"
   },
   {
    "duration": 6,
    "start_time": "2022-04-27T12:17:49.898Z"
   },
   {
    "duration": 18,
    "start_time": "2022-04-27T12:17:49.905Z"
   },
   {
    "duration": 32,
    "start_time": "2022-04-27T12:17:49.925Z"
   },
   {
    "duration": 26,
    "start_time": "2022-04-27T12:17:49.959Z"
   },
   {
    "duration": 20,
    "start_time": "2022-04-27T12:17:49.987Z"
   },
   {
    "duration": 47,
    "start_time": "2022-04-27T12:17:50.009Z"
   },
   {
    "duration": 15,
    "start_time": "2022-04-27T12:17:50.058Z"
   },
   {
    "duration": 11,
    "start_time": "2022-04-27T12:17:50.075Z"
   },
   {
    "duration": 19,
    "start_time": "2022-04-27T12:17:50.087Z"
   },
   {
    "duration": 545,
    "start_time": "2022-04-27T12:18:36.140Z"
   },
   {
    "duration": 123,
    "start_time": "2022-04-27T12:18:36.687Z"
   },
   {
    "duration": 16,
    "start_time": "2022-04-27T12:18:36.811Z"
   },
   {
    "duration": 29,
    "start_time": "2022-04-27T12:18:36.829Z"
   },
   {
    "duration": 14,
    "start_time": "2022-04-27T12:18:36.861Z"
   },
   {
    "duration": 42,
    "start_time": "2022-04-27T12:18:36.877Z"
   },
   {
    "duration": 31,
    "start_time": "2022-04-27T12:18:36.921Z"
   },
   {
    "duration": 14,
    "start_time": "2022-04-27T12:18:36.954Z"
   },
   {
    "duration": 46,
    "start_time": "2022-04-27T12:18:36.970Z"
   },
   {
    "duration": 29,
    "start_time": "2022-04-27T12:18:37.018Z"
   },
   {
    "duration": 20,
    "start_time": "2022-04-27T12:18:37.049Z"
   },
   {
    "duration": 19,
    "start_time": "2022-04-27T12:18:37.072Z"
   },
   {
    "duration": 29,
    "start_time": "2022-04-27T12:18:37.094Z"
   },
   {
    "duration": 22,
    "start_time": "2022-04-27T12:18:37.127Z"
   },
   {
    "duration": 47,
    "start_time": "2022-04-27T12:18:37.151Z"
   },
   {
    "duration": 15,
    "start_time": "2022-04-27T12:18:37.201Z"
   },
   {
    "duration": 36,
    "start_time": "2022-04-27T12:18:37.219Z"
   },
   {
    "duration": 15,
    "start_time": "2022-04-27T12:18:37.257Z"
   },
   {
    "duration": 22,
    "start_time": "2022-04-27T12:18:37.274Z"
   },
   {
    "duration": 11,
    "start_time": "2022-04-27T12:18:37.298Z"
   },
   {
    "duration": 29,
    "start_time": "2022-04-27T12:18:37.311Z"
   },
   {
    "duration": 34,
    "start_time": "2022-04-27T12:18:37.342Z"
   },
   {
    "duration": 26,
    "start_time": "2022-04-27T12:18:37.378Z"
   },
   {
    "duration": 20,
    "start_time": "2022-04-27T12:18:37.406Z"
   },
   {
    "duration": 29,
    "start_time": "2022-04-27T12:18:37.427Z"
   },
   {
    "duration": 41,
    "start_time": "2022-04-27T12:18:37.459Z"
   },
   {
    "duration": 49,
    "start_time": "2022-04-27T12:18:37.502Z"
   },
   {
    "duration": 4217,
    "start_time": "2022-04-27T12:18:37.554Z"
   },
   {
    "duration": 17,
    "start_time": "2022-04-27T12:18:41.774Z"
   },
   {
    "duration": 34,
    "start_time": "2022-04-27T12:18:41.793Z"
   },
   {
    "duration": 24,
    "start_time": "2022-04-27T12:18:41.829Z"
   },
   {
    "duration": 24,
    "start_time": "2022-04-27T12:18:41.855Z"
   },
   {
    "duration": 24,
    "start_time": "2022-04-27T12:18:41.881Z"
   },
   {
    "duration": 58,
    "start_time": "2022-04-27T12:18:41.907Z"
   },
   {
    "duration": 41,
    "start_time": "2022-04-27T12:18:41.967Z"
   },
   {
    "duration": 22,
    "start_time": "2022-04-27T12:18:42.010Z"
   },
   {
    "duration": 30,
    "start_time": "2022-04-27T12:18:42.035Z"
   },
   {
    "duration": 28,
    "start_time": "2022-04-27T12:18:42.067Z"
   },
   {
    "duration": 27,
    "start_time": "2022-04-27T12:18:42.097Z"
   },
   {
    "duration": 2849,
    "start_time": "2022-04-27T12:19:26.945Z"
   },
   {
    "duration": 394,
    "start_time": "2022-04-27T12:19:35.204Z"
   },
   {
    "duration": 84,
    "start_time": "2022-04-27T12:19:35.599Z"
   },
   {
    "duration": 14,
    "start_time": "2022-04-27T12:19:35.685Z"
   },
   {
    "duration": 12,
    "start_time": "2022-04-27T12:19:35.701Z"
   },
   {
    "duration": 5,
    "start_time": "2022-04-27T12:19:35.715Z"
   },
   {
    "duration": 42,
    "start_time": "2022-04-27T12:19:35.722Z"
   },
   {
    "duration": 9,
    "start_time": "2022-04-27T12:19:35.766Z"
   },
   {
    "duration": 19,
    "start_time": "2022-04-27T12:19:35.777Z"
   },
   {
    "duration": 17,
    "start_time": "2022-04-27T12:19:35.797Z"
   },
   {
    "duration": 5,
    "start_time": "2022-04-27T12:19:35.817Z"
   },
   {
    "duration": 17,
    "start_time": "2022-04-27T12:19:35.824Z"
   },
   {
    "duration": 10,
    "start_time": "2022-04-27T12:19:35.855Z"
   },
   {
    "duration": 14,
    "start_time": "2022-04-27T12:19:35.867Z"
   },
   {
    "duration": 28,
    "start_time": "2022-04-27T12:19:35.882Z"
   },
   {
    "duration": 31,
    "start_time": "2022-04-27T12:19:35.912Z"
   },
   {
    "duration": 10,
    "start_time": "2022-04-27T12:19:35.945Z"
   },
   {
    "duration": 20,
    "start_time": "2022-04-27T12:19:35.956Z"
   },
   {
    "duration": 13,
    "start_time": "2022-04-27T12:19:35.978Z"
   },
   {
    "duration": 7,
    "start_time": "2022-04-27T12:19:35.992Z"
   },
   {
    "duration": 9,
    "start_time": "2022-04-27T12:19:36.001Z"
   },
   {
    "duration": 17,
    "start_time": "2022-04-27T12:19:36.012Z"
   },
   {
    "duration": 33,
    "start_time": "2022-04-27T12:19:36.031Z"
   },
   {
    "duration": 21,
    "start_time": "2022-04-27T12:19:36.066Z"
   },
   {
    "duration": 4,
    "start_time": "2022-04-27T12:19:36.088Z"
   },
   {
    "duration": 15,
    "start_time": "2022-04-27T12:19:36.093Z"
   },
   {
    "duration": 31,
    "start_time": "2022-04-27T12:19:36.110Z"
   },
   {
    "duration": 37,
    "start_time": "2022-04-27T12:19:36.143Z"
   },
   {
    "duration": 3994,
    "start_time": "2022-04-27T12:19:36.183Z"
   },
   {
    "duration": 13,
    "start_time": "2022-04-27T12:19:40.179Z"
   },
   {
    "duration": 18,
    "start_time": "2022-04-27T12:19:40.193Z"
   },
   {
    "duration": 10,
    "start_time": "2022-04-27T12:19:40.213Z"
   },
   {
    "duration": 6,
    "start_time": "2022-04-27T12:19:40.224Z"
   },
   {
    "duration": 29,
    "start_time": "2022-04-27T12:19:40.232Z"
   },
   {
    "duration": 21,
    "start_time": "2022-04-27T12:19:40.262Z"
   },
   {
    "duration": 18,
    "start_time": "2022-04-27T12:19:40.285Z"
   },
   {
    "duration": 15,
    "start_time": "2022-04-27T12:19:40.305Z"
   },
   {
    "duration": 48,
    "start_time": "2022-04-27T12:19:40.322Z"
   },
   {
    "duration": 10,
    "start_time": "2022-04-27T12:19:40.372Z"
   },
   {
    "duration": 19,
    "start_time": "2022-04-27T12:19:40.383Z"
   },
   {
    "duration": 148,
    "start_time": "2022-04-27T12:20:43.363Z"
   },
   {
    "duration": 74,
    "start_time": "2022-04-27T12:20:48.123Z"
   },
   {
    "duration": 404,
    "start_time": "2022-04-27T12:21:03.365Z"
   },
   {
    "duration": 84,
    "start_time": "2022-04-27T12:21:03.771Z"
   },
   {
    "duration": 16,
    "start_time": "2022-04-27T12:21:03.858Z"
   },
   {
    "duration": 24,
    "start_time": "2022-04-27T12:21:03.876Z"
   },
   {
    "duration": 13,
    "start_time": "2022-04-27T12:21:03.903Z"
   },
   {
    "duration": 48,
    "start_time": "2022-04-27T12:21:03.919Z"
   },
   {
    "duration": 11,
    "start_time": "2022-04-27T12:21:03.969Z"
   },
   {
    "duration": 17,
    "start_time": "2022-04-27T12:21:03.982Z"
   },
   {
    "duration": 33,
    "start_time": "2022-04-27T12:21:04.000Z"
   },
   {
    "duration": 16,
    "start_time": "2022-04-27T12:21:04.035Z"
   },
   {
    "duration": 18,
    "start_time": "2022-04-27T12:21:04.053Z"
   },
   {
    "duration": 23,
    "start_time": "2022-04-27T12:21:04.072Z"
   },
   {
    "duration": 12,
    "start_time": "2022-04-27T12:21:04.097Z"
   },
   {
    "duration": 12,
    "start_time": "2022-04-27T12:21:04.112Z"
   },
   {
    "duration": 15,
    "start_time": "2022-04-27T12:21:04.125Z"
   },
   {
    "duration": 10,
    "start_time": "2022-04-27T12:21:04.142Z"
   },
   {
    "duration": 24,
    "start_time": "2022-04-27T12:21:04.154Z"
   },
   {
    "duration": 12,
    "start_time": "2022-04-27T12:21:04.180Z"
   },
   {
    "duration": 7,
    "start_time": "2022-04-27T12:21:04.194Z"
   },
   {
    "duration": 5,
    "start_time": "2022-04-27T12:21:04.202Z"
   },
   {
    "duration": 9,
    "start_time": "2022-04-27T12:21:04.208Z"
   },
   {
    "duration": 17,
    "start_time": "2022-04-27T12:21:04.218Z"
   },
   {
    "duration": 37,
    "start_time": "2022-04-27T12:21:04.236Z"
   },
   {
    "duration": 3,
    "start_time": "2022-04-27T12:21:04.275Z"
   },
   {
    "duration": 7,
    "start_time": "2022-04-27T12:21:04.280Z"
   },
   {
    "duration": 22,
    "start_time": "2022-04-27T12:21:04.289Z"
   },
   {
    "duration": 56,
    "start_time": "2022-04-27T12:21:04.312Z"
   },
   {
    "duration": 3722,
    "start_time": "2022-04-27T12:21:04.370Z"
   },
   {
    "duration": 12,
    "start_time": "2022-04-27T12:21:08.094Z"
   },
   {
    "duration": 28,
    "start_time": "2022-04-27T12:21:08.107Z"
   },
   {
    "duration": 24,
    "start_time": "2022-04-27T12:21:08.137Z"
   },
   {
    "duration": 13,
    "start_time": "2022-04-27T12:21:08.163Z"
   },
   {
    "duration": 23,
    "start_time": "2022-04-27T12:21:08.177Z"
   },
   {
    "duration": 28,
    "start_time": "2022-04-27T12:21:08.201Z"
   },
   {
    "duration": 18,
    "start_time": "2022-04-27T12:21:08.231Z"
   },
   {
    "duration": 19,
    "start_time": "2022-04-27T12:21:08.250Z"
   },
   {
    "duration": 22,
    "start_time": "2022-04-27T12:21:08.270Z"
   },
   {
    "duration": 28,
    "start_time": "2022-04-27T12:21:08.293Z"
   },
   {
    "duration": 26,
    "start_time": "2022-04-27T12:21:08.323Z"
   },
   {
    "duration": 408,
    "start_time": "2022-04-27T12:37:01.263Z"
   },
   {
    "duration": 23,
    "start_time": "2022-04-27T12:38:21.903Z"
   },
   {
    "duration": 12,
    "start_time": "2022-04-27T12:39:57.034Z"
   },
   {
    "duration": 2617,
    "start_time": "2022-04-27T12:42:26.422Z"
   },
   {
    "duration": 400,
    "start_time": "2022-04-27T12:42:38.861Z"
   },
   {
    "duration": 81,
    "start_time": "2022-04-27T12:42:39.264Z"
   },
   {
    "duration": 15,
    "start_time": "2022-04-27T12:42:39.354Z"
   },
   {
    "duration": 21,
    "start_time": "2022-04-27T12:42:39.371Z"
   },
   {
    "duration": 19,
    "start_time": "2022-04-27T12:42:39.393Z"
   },
   {
    "duration": 26,
    "start_time": "2022-04-27T12:42:39.413Z"
   },
   {
    "duration": 17,
    "start_time": "2022-04-27T12:42:39.441Z"
   },
   {
    "duration": 19,
    "start_time": "2022-04-27T12:42:39.459Z"
   },
   {
    "duration": 43,
    "start_time": "2022-04-27T12:42:39.479Z"
   },
   {
    "duration": 22,
    "start_time": "2022-04-27T12:42:39.525Z"
   },
   {
    "duration": 29,
    "start_time": "2022-04-27T12:42:39.549Z"
   },
   {
    "duration": 18,
    "start_time": "2022-04-27T12:42:39.580Z"
   },
   {
    "duration": 22,
    "start_time": "2022-04-27T12:42:39.600Z"
   },
   {
    "duration": 29,
    "start_time": "2022-04-27T12:42:39.624Z"
   },
   {
    "duration": 18,
    "start_time": "2022-04-27T12:42:39.654Z"
   },
   {
    "duration": 33,
    "start_time": "2022-04-27T12:42:39.674Z"
   },
   {
    "duration": 36,
    "start_time": "2022-04-27T12:42:39.709Z"
   },
   {
    "duration": 23,
    "start_time": "2022-04-27T12:42:39.747Z"
   },
   {
    "duration": 23,
    "start_time": "2022-04-27T12:42:39.772Z"
   },
   {
    "duration": 23,
    "start_time": "2022-04-27T12:42:39.797Z"
   },
   {
    "duration": 26,
    "start_time": "2022-04-27T12:42:39.822Z"
   },
   {
    "duration": 32,
    "start_time": "2022-04-27T12:42:39.850Z"
   },
   {
    "duration": 43,
    "start_time": "2022-04-27T12:42:39.883Z"
   },
   {
    "duration": 7,
    "start_time": "2022-04-27T12:42:39.927Z"
   },
   {
    "duration": 25,
    "start_time": "2022-04-27T12:42:39.936Z"
   },
   {
    "duration": 41,
    "start_time": "2022-04-27T12:42:39.963Z"
   },
   {
    "duration": 36,
    "start_time": "2022-04-27T12:42:40.006Z"
   },
   {
    "duration": 4056,
    "start_time": "2022-04-27T12:42:40.046Z"
   },
   {
    "duration": 13,
    "start_time": "2022-04-27T12:42:44.104Z"
   },
   {
    "duration": 27,
    "start_time": "2022-04-27T12:42:44.119Z"
   },
   {
    "duration": 28,
    "start_time": "2022-04-27T12:42:44.148Z"
   },
   {
    "duration": 25,
    "start_time": "2022-04-27T12:42:44.178Z"
   },
   {
    "duration": 31,
    "start_time": "2022-04-27T12:42:44.205Z"
   },
   {
    "duration": 42,
    "start_time": "2022-04-27T12:42:44.237Z"
   },
   {
    "duration": 19,
    "start_time": "2022-04-27T12:42:44.280Z"
   },
   {
    "duration": 18,
    "start_time": "2022-04-27T12:42:44.301Z"
   },
   {
    "duration": 34,
    "start_time": "2022-04-27T12:42:44.321Z"
   },
   {
    "duration": 17,
    "start_time": "2022-04-27T12:42:44.357Z"
   },
   {
    "duration": 41,
    "start_time": "2022-04-27T12:42:44.376Z"
   },
   {
    "duration": 19,
    "start_time": "2022-04-27T12:42:44.419Z"
   },
   {
    "duration": 26,
    "start_time": "2022-04-27T12:42:44.439Z"
   },
   {
    "duration": 92,
    "start_time": "2022-04-27T12:42:44.467Z"
   },
   {
    "duration": 22,
    "start_time": "2022-04-27T12:43:31.013Z"
   },
   {
    "duration": 528,
    "start_time": "2022-04-27T12:44:05.017Z"
   },
   {
    "duration": 111,
    "start_time": "2022-04-27T12:44:05.548Z"
   },
   {
    "duration": 22,
    "start_time": "2022-04-27T12:44:05.661Z"
   },
   {
    "duration": 14,
    "start_time": "2022-04-27T12:44:05.686Z"
   },
   {
    "duration": 8,
    "start_time": "2022-04-27T12:44:05.702Z"
   },
   {
    "duration": 50,
    "start_time": "2022-04-27T12:44:05.712Z"
   },
   {
    "duration": 11,
    "start_time": "2022-04-27T12:44:05.764Z"
   },
   {
    "duration": 6,
    "start_time": "2022-04-27T12:44:05.777Z"
   },
   {
    "duration": 30,
    "start_time": "2022-04-27T12:44:05.785Z"
   },
   {
    "duration": 6,
    "start_time": "2022-04-27T12:44:05.819Z"
   },
   {
    "duration": 31,
    "start_time": "2022-04-27T12:44:05.827Z"
   },
   {
    "duration": 10,
    "start_time": "2022-04-27T12:44:05.860Z"
   },
   {
    "duration": 7,
    "start_time": "2022-04-27T12:44:05.871Z"
   },
   {
    "duration": 16,
    "start_time": "2022-04-27T12:44:05.880Z"
   },
   {
    "duration": 18,
    "start_time": "2022-04-27T12:44:05.897Z"
   },
   {
    "duration": 10,
    "start_time": "2022-04-27T12:44:05.917Z"
   },
   {
    "duration": 41,
    "start_time": "2022-04-27T12:44:05.928Z"
   },
   {
    "duration": 10,
    "start_time": "2022-04-27T12:44:05.971Z"
   },
   {
    "duration": 7,
    "start_time": "2022-04-27T12:44:05.983Z"
   },
   {
    "duration": 17,
    "start_time": "2022-04-27T12:44:05.991Z"
   },
   {
    "duration": 10,
    "start_time": "2022-04-27T12:44:06.010Z"
   },
   {
    "duration": 34,
    "start_time": "2022-04-27T12:44:06.022Z"
   },
   {
    "duration": 29,
    "start_time": "2022-04-27T12:44:06.058Z"
   },
   {
    "duration": 5,
    "start_time": "2022-04-27T12:44:06.089Z"
   },
   {
    "duration": 8,
    "start_time": "2022-04-27T12:44:06.095Z"
   },
   {
    "duration": 50,
    "start_time": "2022-04-27T12:44:06.105Z"
   },
   {
    "duration": 45,
    "start_time": "2022-04-27T12:44:06.157Z"
   },
   {
    "duration": 3496,
    "start_time": "2022-04-27T12:44:06.206Z"
   },
   {
    "duration": 12,
    "start_time": "2022-04-27T12:44:09.705Z"
   },
   {
    "duration": 19,
    "start_time": "2022-04-27T12:44:09.719Z"
   },
   {
    "duration": 18,
    "start_time": "2022-04-27T12:44:09.740Z"
   },
   {
    "duration": 25,
    "start_time": "2022-04-27T12:44:09.760Z"
   },
   {
    "duration": 22,
    "start_time": "2022-04-27T12:44:09.787Z"
   },
   {
    "duration": 44,
    "start_time": "2022-04-27T12:44:09.811Z"
   },
   {
    "duration": 26,
    "start_time": "2022-04-27T12:44:09.857Z"
   },
   {
    "duration": 18,
    "start_time": "2022-04-27T12:44:09.884Z"
   },
   {
    "duration": 31,
    "start_time": "2022-04-27T12:44:09.904Z"
   },
   {
    "duration": 21,
    "start_time": "2022-04-27T12:44:09.937Z"
   },
   {
    "duration": 42,
    "start_time": "2022-04-27T12:44:09.960Z"
   },
   {
    "duration": 27,
    "start_time": "2022-04-27T12:44:10.003Z"
   },
   {
    "duration": 19,
    "start_time": "2022-04-27T12:44:10.032Z"
   },
   {
    "duration": 74,
    "start_time": "2022-04-27T12:44:10.053Z"
   },
   {
    "duration": 20,
    "start_time": "2022-04-27T12:45:14.556Z"
   },
   {
    "duration": 853,
    "start_time": "2022-04-27T12:45:50.259Z"
   },
   {
    "duration": 115,
    "start_time": "2022-04-27T12:45:51.114Z"
   },
   {
    "duration": 16,
    "start_time": "2022-04-27T12:45:51.231Z"
   },
   {
    "duration": 25,
    "start_time": "2022-04-27T12:45:51.249Z"
   },
   {
    "duration": 22,
    "start_time": "2022-04-27T12:45:51.276Z"
   },
   {
    "duration": 44,
    "start_time": "2022-04-27T12:45:51.300Z"
   },
   {
    "duration": 11,
    "start_time": "2022-04-27T12:45:51.346Z"
   },
   {
    "duration": 18,
    "start_time": "2022-04-27T12:45:51.359Z"
   },
   {
    "duration": 72,
    "start_time": "2022-04-27T12:45:51.379Z"
   },
   {
    "duration": 20,
    "start_time": "2022-04-27T12:45:51.454Z"
   },
   {
    "duration": 36,
    "start_time": "2022-04-27T12:45:51.476Z"
   },
   {
    "duration": 9,
    "start_time": "2022-04-27T12:45:51.514Z"
   },
   {
    "duration": 7,
    "start_time": "2022-04-27T12:45:51.525Z"
   },
   {
    "duration": 11,
    "start_time": "2022-04-27T12:45:51.534Z"
   },
   {
    "duration": 16,
    "start_time": "2022-04-27T12:45:51.546Z"
   },
   {
    "duration": 11,
    "start_time": "2022-04-27T12:45:51.564Z"
   },
   {
    "duration": 17,
    "start_time": "2022-04-27T12:45:51.576Z"
   },
   {
    "duration": 11,
    "start_time": "2022-04-27T12:45:51.595Z"
   },
   {
    "duration": 9,
    "start_time": "2022-04-27T12:45:51.608Z"
   },
   {
    "duration": 6,
    "start_time": "2022-04-27T12:45:51.619Z"
   },
   {
    "duration": 35,
    "start_time": "2022-04-27T12:45:51.627Z"
   },
   {
    "duration": 23,
    "start_time": "2022-04-27T12:45:51.664Z"
   },
   {
    "duration": 22,
    "start_time": "2022-04-27T12:45:51.689Z"
   },
   {
    "duration": 4,
    "start_time": "2022-04-27T12:45:51.714Z"
   },
   {
    "duration": 11,
    "start_time": "2022-04-27T12:45:51.720Z"
   },
   {
    "duration": 41,
    "start_time": "2022-04-27T12:45:51.733Z"
   },
   {
    "duration": 34,
    "start_time": "2022-04-27T12:45:51.776Z"
   },
   {
    "duration": 3766,
    "start_time": "2022-04-27T12:45:51.814Z"
   },
   {
    "duration": 12,
    "start_time": "2022-04-27T12:45:55.582Z"
   },
   {
    "duration": 11,
    "start_time": "2022-04-27T12:45:55.595Z"
   },
   {
    "duration": 8,
    "start_time": "2022-04-27T12:45:55.608Z"
   },
   {
    "duration": 5,
    "start_time": "2022-04-27T12:45:55.617Z"
   },
   {
    "duration": 35,
    "start_time": "2022-04-27T12:45:55.624Z"
   },
   {
    "duration": 28,
    "start_time": "2022-04-27T12:45:55.661Z"
   },
   {
    "duration": 25,
    "start_time": "2022-04-27T12:45:55.692Z"
   },
   {
    "duration": 40,
    "start_time": "2022-04-27T12:45:55.720Z"
   },
   {
    "duration": 25,
    "start_time": "2022-04-27T12:45:55.763Z"
   },
   {
    "duration": 13,
    "start_time": "2022-04-27T12:45:55.790Z"
   },
   {
    "duration": 15,
    "start_time": "2022-04-27T12:45:55.805Z"
   },
   {
    "duration": 51,
    "start_time": "2022-04-27T12:45:55.822Z"
   },
   {
    "duration": 14,
    "start_time": "2022-04-27T12:45:55.875Z"
   },
   {
    "duration": 20,
    "start_time": "2022-04-27T12:45:55.890Z"
   },
   {
    "duration": 427,
    "start_time": "2022-04-27T12:46:51.721Z"
   },
   {
    "duration": 77,
    "start_time": "2022-04-27T12:46:52.150Z"
   },
   {
    "duration": 14,
    "start_time": "2022-04-27T12:46:52.229Z"
   },
   {
    "duration": 9,
    "start_time": "2022-04-27T12:46:52.255Z"
   },
   {
    "duration": 4,
    "start_time": "2022-04-27T12:46:52.266Z"
   },
   {
    "duration": 18,
    "start_time": "2022-04-27T12:46:52.272Z"
   },
   {
    "duration": 10,
    "start_time": "2022-04-27T12:46:52.292Z"
   },
   {
    "duration": 4,
    "start_time": "2022-04-27T12:46:52.304Z"
   },
   {
    "duration": 51,
    "start_time": "2022-04-27T12:46:52.310Z"
   },
   {
    "duration": 5,
    "start_time": "2022-04-27T12:46:52.362Z"
   },
   {
    "duration": 10,
    "start_time": "2022-04-27T12:46:52.369Z"
   },
   {
    "duration": 7,
    "start_time": "2022-04-27T12:46:52.381Z"
   },
   {
    "duration": 6,
    "start_time": "2022-04-27T12:46:52.389Z"
   },
   {
    "duration": 10,
    "start_time": "2022-04-27T12:46:52.398Z"
   },
   {
    "duration": 51,
    "start_time": "2022-04-27T12:46:52.409Z"
   },
   {
    "duration": 10,
    "start_time": "2022-04-27T12:46:52.461Z"
   },
   {
    "duration": 16,
    "start_time": "2022-04-27T12:46:52.473Z"
   },
   {
    "duration": 19,
    "start_time": "2022-04-27T12:46:52.490Z"
   },
   {
    "duration": 10,
    "start_time": "2022-04-27T12:46:52.511Z"
   },
   {
    "duration": 7,
    "start_time": "2022-04-27T12:46:52.523Z"
   },
   {
    "duration": 11,
    "start_time": "2022-04-27T12:46:52.553Z"
   },
   {
    "duration": 21,
    "start_time": "2022-04-27T12:46:52.566Z"
   },
   {
    "duration": 20,
    "start_time": "2022-04-27T12:46:52.588Z"
   },
   {
    "duration": 4,
    "start_time": "2022-04-27T12:46:52.610Z"
   },
   {
    "duration": 41,
    "start_time": "2022-04-27T12:46:52.615Z"
   },
   {
    "duration": 41,
    "start_time": "2022-04-27T12:46:52.658Z"
   },
   {
    "duration": 33,
    "start_time": "2022-04-27T12:46:52.700Z"
   },
   {
    "duration": 3778,
    "start_time": "2022-04-27T12:46:52.735Z"
   },
   {
    "duration": 12,
    "start_time": "2022-04-27T12:46:56.515Z"
   },
   {
    "duration": 11,
    "start_time": "2022-04-27T12:46:56.528Z"
   },
   {
    "duration": 6,
    "start_time": "2022-04-27T12:46:56.554Z"
   },
   {
    "duration": 11,
    "start_time": "2022-04-27T12:46:56.562Z"
   },
   {
    "duration": 11,
    "start_time": "2022-04-27T12:46:56.574Z"
   },
   {
    "duration": 18,
    "start_time": "2022-04-27T12:46:56.587Z"
   },
   {
    "duration": 18,
    "start_time": "2022-04-27T12:46:56.607Z"
   },
   {
    "duration": 42,
    "start_time": "2022-04-27T12:46:56.626Z"
   },
   {
    "duration": 17,
    "start_time": "2022-04-27T12:46:56.669Z"
   },
   {
    "duration": 8,
    "start_time": "2022-04-27T12:46:56.687Z"
   },
   {
    "duration": 13,
    "start_time": "2022-04-27T12:46:56.697Z"
   },
   {
    "duration": 53,
    "start_time": "2022-04-27T12:46:56.711Z"
   },
   {
    "duration": 14,
    "start_time": "2022-04-27T12:46:56.767Z"
   },
   {
    "duration": 2,
    "start_time": "2022-04-27T12:46:56.782Z"
   },
   {
    "duration": 11,
    "start_time": "2022-04-27T12:47:12.053Z"
   },
   {
    "duration": 2,
    "start_time": "2022-04-27T12:50:07.676Z"
   },
   {
    "duration": 464,
    "start_time": "2022-04-27T14:16:05.356Z"
   },
   {
    "duration": 83,
    "start_time": "2022-04-27T14:16:05.822Z"
   },
   {
    "duration": 15,
    "start_time": "2022-04-27T14:16:05.907Z"
   },
   {
    "duration": 16,
    "start_time": "2022-04-27T14:16:05.924Z"
   },
   {
    "duration": 15,
    "start_time": "2022-04-27T14:16:05.943Z"
   },
   {
    "duration": 31,
    "start_time": "2022-04-27T14:16:05.960Z"
   },
   {
    "duration": 9,
    "start_time": "2022-04-27T14:16:05.992Z"
   },
   {
    "duration": 10,
    "start_time": "2022-04-27T14:16:06.003Z"
   },
   {
    "duration": 36,
    "start_time": "2022-04-27T14:16:06.014Z"
   },
   {
    "duration": 13,
    "start_time": "2022-04-27T14:16:06.055Z"
   },
   {
    "duration": 13,
    "start_time": "2022-04-27T14:16:06.071Z"
   },
   {
    "duration": 12,
    "start_time": "2022-04-27T14:16:06.085Z"
   },
   {
    "duration": 8,
    "start_time": "2022-04-27T14:16:06.098Z"
   },
   {
    "duration": 12,
    "start_time": "2022-04-27T14:16:06.110Z"
   },
   {
    "duration": 30,
    "start_time": "2022-04-27T14:16:06.124Z"
   },
   {
    "duration": 11,
    "start_time": "2022-04-27T14:16:06.156Z"
   },
   {
    "duration": 19,
    "start_time": "2022-04-27T14:16:06.168Z"
   },
   {
    "duration": 28,
    "start_time": "2022-04-27T14:16:06.189Z"
   },
   {
    "duration": 8,
    "start_time": "2022-04-27T14:16:06.219Z"
   },
   {
    "duration": 10,
    "start_time": "2022-04-27T14:16:06.229Z"
   },
   {
    "duration": 17,
    "start_time": "2022-04-27T14:16:06.240Z"
   },
   {
    "duration": 24,
    "start_time": "2022-04-27T14:16:06.259Z"
   },
   {
    "duration": 27,
    "start_time": "2022-04-27T14:16:06.285Z"
   },
   {
    "duration": 5,
    "start_time": "2022-04-27T14:16:06.313Z"
   },
   {
    "duration": 17,
    "start_time": "2022-04-27T14:16:06.319Z"
   },
   {
    "duration": 35,
    "start_time": "2022-04-27T14:16:06.338Z"
   },
   {
    "duration": 32,
    "start_time": "2022-04-27T14:16:06.375Z"
   },
   {
    "duration": 3936,
    "start_time": "2022-04-27T14:16:06.409Z"
   },
   {
    "duration": 16,
    "start_time": "2022-04-27T14:16:10.355Z"
   },
   {
    "duration": 8,
    "start_time": "2022-04-27T14:16:10.374Z"
   },
   {
    "duration": 10,
    "start_time": "2022-04-27T14:16:10.384Z"
   },
   {
    "duration": 5,
    "start_time": "2022-04-27T14:16:10.397Z"
   },
   {
    "duration": 15,
    "start_time": "2022-04-27T14:16:10.403Z"
   },
   {
    "duration": 56,
    "start_time": "2022-04-27T14:16:10.420Z"
   },
   {
    "duration": 20,
    "start_time": "2022-04-27T14:16:10.478Z"
   },
   {
    "duration": 14,
    "start_time": "2022-04-27T14:16:10.499Z"
   },
   {
    "duration": 50,
    "start_time": "2022-04-27T14:16:10.515Z"
   },
   {
    "duration": 9,
    "start_time": "2022-04-27T14:16:10.567Z"
   },
   {
    "duration": 17,
    "start_time": "2022-04-27T14:16:10.578Z"
   },
   {
    "duration": 20,
    "start_time": "2022-04-27T14:16:10.596Z"
   },
   {
    "duration": 42,
    "start_time": "2022-04-27T14:16:10.620Z"
   },
   {
    "duration": 38,
    "start_time": "2022-04-27T14:20:28.514Z"
   },
   {
    "duration": 14,
    "start_time": "2022-04-27T14:21:49.393Z"
   },
   {
    "duration": 2544,
    "start_time": "2022-04-27T14:22:07.023Z"
   },
   {
    "duration": 435,
    "start_time": "2022-04-27T14:22:15.021Z"
   },
   {
    "duration": 84,
    "start_time": "2022-04-27T14:22:15.458Z"
   },
   {
    "duration": 25,
    "start_time": "2022-04-27T14:22:15.545Z"
   },
   {
    "duration": 23,
    "start_time": "2022-04-27T14:22:15.572Z"
   },
   {
    "duration": 6,
    "start_time": "2022-04-27T14:22:15.597Z"
   },
   {
    "duration": 32,
    "start_time": "2022-04-27T14:22:15.605Z"
   },
   {
    "duration": 24,
    "start_time": "2022-04-27T14:22:15.639Z"
   },
   {
    "duration": 18,
    "start_time": "2022-04-27T14:22:15.665Z"
   },
   {
    "duration": 16,
    "start_time": "2022-04-27T14:22:15.685Z"
   },
   {
    "duration": 6,
    "start_time": "2022-04-27T14:22:15.703Z"
   },
   {
    "duration": 10,
    "start_time": "2022-04-27T14:22:15.711Z"
   },
   {
    "duration": 8,
    "start_time": "2022-04-27T14:22:15.723Z"
   },
   {
    "duration": 26,
    "start_time": "2022-04-27T14:22:15.733Z"
   },
   {
    "duration": 15,
    "start_time": "2022-04-27T14:22:15.761Z"
   },
   {
    "duration": 15,
    "start_time": "2022-04-27T14:22:15.779Z"
   },
   {
    "duration": 10,
    "start_time": "2022-04-27T14:22:15.796Z"
   },
   {
    "duration": 57,
    "start_time": "2022-04-27T14:22:15.808Z"
   },
   {
    "duration": 22,
    "start_time": "2022-04-27T14:22:15.867Z"
   },
   {
    "duration": 8,
    "start_time": "2022-04-27T14:22:15.891Z"
   },
   {
    "duration": 6,
    "start_time": "2022-04-27T14:22:15.900Z"
   },
   {
    "duration": 10,
    "start_time": "2022-04-27T14:22:15.907Z"
   },
   {
    "duration": 40,
    "start_time": "2022-04-27T14:22:15.919Z"
   },
   {
    "duration": 28,
    "start_time": "2022-04-27T14:22:15.962Z"
   },
   {
    "duration": 4,
    "start_time": "2022-04-27T14:22:15.992Z"
   },
   {
    "duration": 7,
    "start_time": "2022-04-27T14:22:15.998Z"
   },
   {
    "duration": 47,
    "start_time": "2022-04-27T14:22:16.007Z"
   },
   {
    "duration": 52,
    "start_time": "2022-04-27T14:22:16.056Z"
   },
   {
    "duration": 4283,
    "start_time": "2022-04-27T14:22:16.113Z"
   },
   {
    "duration": 17,
    "start_time": "2022-04-27T14:22:20.399Z"
   },
   {
    "duration": 17,
    "start_time": "2022-04-27T14:22:20.418Z"
   },
   {
    "duration": 18,
    "start_time": "2022-04-27T14:22:20.437Z"
   },
   {
    "duration": 9,
    "start_time": "2022-04-27T14:22:20.458Z"
   },
   {
    "duration": 18,
    "start_time": "2022-04-27T14:22:20.469Z"
   },
   {
    "duration": 26,
    "start_time": "2022-04-27T14:22:20.489Z"
   },
   {
    "duration": 47,
    "start_time": "2022-04-27T14:22:20.517Z"
   },
   {
    "duration": 15,
    "start_time": "2022-04-27T14:22:20.566Z"
   },
   {
    "duration": 29,
    "start_time": "2022-04-27T14:22:20.583Z"
   },
   {
    "duration": 12,
    "start_time": "2022-04-27T14:22:20.614Z"
   },
   {
    "duration": 46,
    "start_time": "2022-04-27T14:22:20.628Z"
   },
   {
    "duration": 27,
    "start_time": "2022-04-27T14:22:20.676Z"
   },
   {
    "duration": 20,
    "start_time": "2022-04-27T14:22:20.705Z"
   },
   {
    "duration": 58,
    "start_time": "2022-04-27T14:22:20.727Z"
   },
   {
    "duration": 18,
    "start_time": "2022-04-27T14:22:20.787Z"
   },
   {
    "duration": 417,
    "start_time": "2022-04-27T14:23:41.162Z"
   },
   {
    "duration": 84,
    "start_time": "2022-04-27T14:23:41.581Z"
   },
   {
    "duration": 15,
    "start_time": "2022-04-27T14:23:41.667Z"
   },
   {
    "duration": 17,
    "start_time": "2022-04-27T14:23:41.684Z"
   },
   {
    "duration": 15,
    "start_time": "2022-04-27T14:23:41.703Z"
   },
   {
    "duration": 40,
    "start_time": "2022-04-27T14:23:41.720Z"
   },
   {
    "duration": 9,
    "start_time": "2022-04-27T14:23:41.762Z"
   },
   {
    "duration": 23,
    "start_time": "2022-04-27T14:23:41.773Z"
   },
   {
    "duration": 45,
    "start_time": "2022-04-27T14:23:41.797Z"
   },
   {
    "duration": 22,
    "start_time": "2022-04-27T14:23:41.844Z"
   },
   {
    "duration": 15,
    "start_time": "2022-04-27T14:23:41.868Z"
   },
   {
    "duration": 21,
    "start_time": "2022-04-27T14:23:41.884Z"
   },
   {
    "duration": 22,
    "start_time": "2022-04-27T14:23:41.907Z"
   },
   {
    "duration": 20,
    "start_time": "2022-04-27T14:23:41.933Z"
   },
   {
    "duration": 36,
    "start_time": "2022-04-27T14:23:41.955Z"
   },
   {
    "duration": 44,
    "start_time": "2022-04-27T14:23:41.994Z"
   },
   {
    "duration": 41,
    "start_time": "2022-04-27T14:23:42.040Z"
   },
   {
    "duration": 20,
    "start_time": "2022-04-27T14:23:42.083Z"
   },
   {
    "duration": 23,
    "start_time": "2022-04-27T14:23:42.105Z"
   },
   {
    "duration": 20,
    "start_time": "2022-04-27T14:23:42.130Z"
   },
   {
    "duration": 32,
    "start_time": "2022-04-27T14:23:42.152Z"
   },
   {
    "duration": 37,
    "start_time": "2022-04-27T14:23:42.186Z"
   },
   {
    "duration": 28,
    "start_time": "2022-04-27T14:23:42.226Z"
   },
   {
    "duration": 9,
    "start_time": "2022-04-27T14:23:42.256Z"
   },
   {
    "duration": 22,
    "start_time": "2022-04-27T14:23:42.267Z"
   },
   {
    "duration": 43,
    "start_time": "2022-04-27T14:23:42.291Z"
   },
   {
    "duration": 47,
    "start_time": "2022-04-27T14:23:42.336Z"
   },
   {
    "duration": 4245,
    "start_time": "2022-04-27T14:23:42.385Z"
   },
   {
    "duration": 27,
    "start_time": "2022-04-27T14:23:46.632Z"
   },
   {
    "duration": 7,
    "start_time": "2022-04-27T14:23:46.661Z"
   },
   {
    "duration": 9,
    "start_time": "2022-04-27T14:23:46.670Z"
   },
   {
    "duration": 6,
    "start_time": "2022-04-27T14:23:46.681Z"
   },
   {
    "duration": 18,
    "start_time": "2022-04-27T14:23:46.689Z"
   },
   {
    "duration": 47,
    "start_time": "2022-04-27T14:23:46.709Z"
   },
   {
    "duration": 20,
    "start_time": "2022-04-27T14:23:46.758Z"
   },
   {
    "duration": 16,
    "start_time": "2022-04-27T14:23:46.779Z"
   },
   {
    "duration": 19,
    "start_time": "2022-04-27T14:23:46.797Z"
   },
   {
    "duration": 44,
    "start_time": "2022-04-27T14:23:46.817Z"
   },
   {
    "duration": 17,
    "start_time": "2022-04-27T14:23:46.862Z"
   },
   {
    "duration": 21,
    "start_time": "2022-04-27T14:23:46.880Z"
   },
   {
    "duration": 15,
    "start_time": "2022-04-27T14:23:46.906Z"
   },
   {
    "duration": 48,
    "start_time": "2022-04-27T14:23:46.922Z"
   },
   {
    "duration": 13,
    "start_time": "2022-04-27T14:23:46.972Z"
   },
   {
    "duration": 75,
    "start_time": "2022-04-27T14:39:24.269Z"
   },
   {
    "duration": 552,
    "start_time": "2022-05-02T19:19:57.811Z"
   },
   {
    "duration": 108,
    "start_time": "2022-05-02T19:19:58.366Z"
   },
   {
    "duration": 21,
    "start_time": "2022-05-02T19:19:58.476Z"
   },
   {
    "duration": 12,
    "start_time": "2022-05-02T19:19:58.499Z"
   },
   {
    "duration": 7,
    "start_time": "2022-05-02T19:19:58.514Z"
   },
   {
    "duration": 32,
    "start_time": "2022-05-02T19:19:58.551Z"
   },
   {
    "duration": 12,
    "start_time": "2022-05-02T19:19:58.585Z"
   },
   {
    "duration": 5,
    "start_time": "2022-05-02T19:19:58.599Z"
   },
   {
    "duration": 62,
    "start_time": "2022-05-02T19:19:58.606Z"
   },
   {
    "duration": 6,
    "start_time": "2022-05-02T19:19:58.670Z"
   },
   {
    "duration": 25,
    "start_time": "2022-05-02T19:19:58.678Z"
   },
   {
    "duration": 15,
    "start_time": "2022-05-02T19:19:58.705Z"
   },
   {
    "duration": 11,
    "start_time": "2022-05-02T19:19:58.722Z"
   },
   {
    "duration": 12,
    "start_time": "2022-05-02T19:19:58.755Z"
   },
   {
    "duration": 22,
    "start_time": "2022-05-02T19:19:58.770Z"
   },
   {
    "duration": 17,
    "start_time": "2022-05-02T19:19:58.794Z"
   },
   {
    "duration": 58,
    "start_time": "2022-05-02T19:19:58.814Z"
   },
   {
    "duration": 14,
    "start_time": "2022-05-02T19:19:58.874Z"
   },
   {
    "duration": 10,
    "start_time": "2022-05-02T19:19:58.890Z"
   },
   {
    "duration": 6,
    "start_time": "2022-05-02T19:19:58.902Z"
   },
   {
    "duration": 44,
    "start_time": "2022-05-02T19:19:58.910Z"
   },
   {
    "duration": 25,
    "start_time": "2022-05-02T19:19:58.956Z"
   },
   {
    "duration": 33,
    "start_time": "2022-05-02T19:19:58.983Z"
   },
   {
    "duration": 6,
    "start_time": "2022-05-02T19:19:59.051Z"
   },
   {
    "duration": 8,
    "start_time": "2022-05-02T19:19:59.059Z"
   },
   {
    "duration": 28,
    "start_time": "2022-05-02T19:19:59.069Z"
   },
   {
    "duration": 79,
    "start_time": "2022-05-02T19:19:59.100Z"
   },
   {
    "duration": 4770,
    "start_time": "2022-05-02T19:19:59.181Z"
   },
   {
    "duration": 14,
    "start_time": "2022-05-02T19:20:03.954Z"
   },
   {
    "duration": 7,
    "start_time": "2022-05-02T19:20:03.970Z"
   },
   {
    "duration": 10,
    "start_time": "2022-05-02T19:20:03.979Z"
   },
   {
    "duration": 6,
    "start_time": "2022-05-02T19:20:03.991Z"
   },
   {
    "duration": 20,
    "start_time": "2022-05-02T19:20:03.999Z"
   },
   {
    "duration": 29,
    "start_time": "2022-05-02T19:20:04.051Z"
   },
   {
    "duration": 26,
    "start_time": "2022-05-02T19:20:04.082Z"
   },
   {
    "duration": 49,
    "start_time": "2022-05-02T19:20:04.111Z"
   },
   {
    "duration": 27,
    "start_time": "2022-05-02T19:20:04.162Z"
   },
   {
    "duration": 14,
    "start_time": "2022-05-02T19:20:04.191Z"
   },
   {
    "duration": 51,
    "start_time": "2022-05-02T19:20:04.207Z"
   },
   {
    "duration": 30,
    "start_time": "2022-05-02T19:20:04.260Z"
   },
   {
    "duration": 20,
    "start_time": "2022-05-02T19:20:04.295Z"
   },
   {
    "duration": 65,
    "start_time": "2022-05-02T19:20:04.317Z"
   },
   {
    "duration": 17,
    "start_time": "2022-05-02T19:20:04.384Z"
   },
   {
    "duration": 38,
    "start_time": "2022-05-02T19:22:20.650Z"
   },
   {
    "duration": 19,
    "start_time": "2022-05-02T19:23:49.895Z"
   },
   {
    "duration": 527,
    "start_time": "2022-05-02T19:30:45.768Z"
   },
   {
    "duration": 108,
    "start_time": "2022-05-02T19:30:46.297Z"
   },
   {
    "duration": 21,
    "start_time": "2022-05-02T19:30:46.818Z"
   },
   {
    "duration": 14,
    "start_time": "2022-05-02T19:30:47.710Z"
   },
   {
    "duration": 6,
    "start_time": "2022-05-02T19:30:48.056Z"
   },
   {
    "duration": 36,
    "start_time": "2022-05-02T19:30:48.617Z"
   },
   {
    "duration": 26,
    "start_time": "2022-05-02T19:30:48.956Z"
   },
   {
    "duration": 7,
    "start_time": "2022-05-02T19:30:49.317Z"
   },
   {
    "duration": 20,
    "start_time": "2022-05-02T19:30:49.843Z"
   },
   {
    "duration": 7,
    "start_time": "2022-05-02T19:30:50.554Z"
   },
   {
    "duration": 9,
    "start_time": "2022-05-02T19:30:50.905Z"
   },
   {
    "duration": 10,
    "start_time": "2022-05-02T19:30:51.737Z"
   },
   {
    "duration": 9,
    "start_time": "2022-05-02T19:30:52.100Z"
   },
   {
    "duration": 13,
    "start_time": "2022-05-02T19:30:52.439Z"
   },
   {
    "duration": 23,
    "start_time": "2022-05-02T19:30:52.817Z"
   },
   {
    "duration": 15,
    "start_time": "2022-05-02T19:30:53.580Z"
   },
   {
    "duration": 23,
    "start_time": "2022-05-02T19:30:53.947Z"
   },
   {
    "duration": 13,
    "start_time": "2022-05-02T19:30:54.818Z"
   },
   {
    "duration": 11,
    "start_time": "2022-05-02T19:30:55.685Z"
   },
   {
    "duration": 6,
    "start_time": "2022-05-02T19:30:56.054Z"
   },
   {
    "duration": 10,
    "start_time": "2022-05-02T19:30:56.809Z"
   },
   {
    "duration": 23,
    "start_time": "2022-05-02T19:30:57.539Z"
   },
   {
    "duration": 34,
    "start_time": "2022-05-02T19:31:00.330Z"
   },
   {
    "duration": 7,
    "start_time": "2022-05-02T19:31:01.074Z"
   },
   {
    "duration": 8,
    "start_time": "2022-05-02T19:31:03.991Z"
   },
   {
    "duration": 29,
    "start_time": "2022-05-02T19:31:06.184Z"
   },
   {
    "duration": 70,
    "start_time": "2022-05-02T19:31:07.066Z"
   },
   {
    "duration": 972,
    "start_time": "2022-05-02T19:31:20.681Z"
   },
   {
    "duration": 50,
    "start_time": "2022-05-02T19:31:34.814Z"
   },
   {
    "duration": 10,
    "start_time": "2022-05-02T19:32:04.054Z"
   },
   {
    "duration": 7,
    "start_time": "2022-05-02T19:32:05.435Z"
   },
   {
    "duration": 994,
    "start_time": "2022-05-02T19:32:25.439Z"
   },
   {
    "duration": 21,
    "start_time": "2022-05-02T19:32:29.615Z"
   },
   {
    "duration": 6,
    "start_time": "2022-05-02T19:32:37.410Z"
   },
   {
    "duration": 92,
    "start_time": "2022-05-02T19:33:19.302Z"
   },
   {
    "duration": 3187,
    "start_time": "2022-05-02T19:33:28.201Z"
   },
   {
    "duration": 21,
    "start_time": "2022-05-02T19:33:35.667Z"
   },
   {
    "duration": 10,
    "start_time": "2022-05-02T19:34:34.458Z"
   },
   {
    "duration": 19,
    "start_time": "2022-05-02T19:34:48.427Z"
   },
   {
    "duration": 5,
    "start_time": "2022-05-02T19:35:51.545Z"
   },
   {
    "duration": 9,
    "start_time": "2022-05-02T19:35:55.608Z"
   },
   {
    "duration": 10,
    "start_time": "2022-05-02T19:36:11.192Z"
   },
   {
    "duration": 3637,
    "start_time": "2022-05-02T19:36:14.733Z"
   },
   {
    "duration": 10,
    "start_time": "2022-05-02T19:36:30.423Z"
   },
   {
    "duration": 591,
    "start_time": "2022-05-02T19:43:42.473Z"
   },
   {
    "duration": 137,
    "start_time": "2022-05-02T19:43:43.067Z"
   },
   {
    "duration": 20,
    "start_time": "2022-05-02T19:43:43.206Z"
   },
   {
    "duration": 32,
    "start_time": "2022-05-02T19:43:43.228Z"
   },
   {
    "duration": 7,
    "start_time": "2022-05-02T19:43:43.262Z"
   },
   {
    "duration": 30,
    "start_time": "2022-05-02T19:43:43.272Z"
   },
   {
    "duration": 48,
    "start_time": "2022-05-02T19:43:43.304Z"
   },
   {
    "duration": 7,
    "start_time": "2022-05-02T19:43:43.354Z"
   },
   {
    "duration": 21,
    "start_time": "2022-05-02T19:43:43.364Z"
   },
   {
    "duration": 10,
    "start_time": "2022-05-02T19:43:43.387Z"
   },
   {
    "duration": 24,
    "start_time": "2022-05-02T19:43:43.399Z"
   },
   {
    "duration": 36,
    "start_time": "2022-05-02T19:43:43.425Z"
   },
   {
    "duration": 10,
    "start_time": "2022-05-02T19:43:43.463Z"
   },
   {
    "duration": 16,
    "start_time": "2022-05-02T19:43:43.475Z"
   },
   {
    "duration": 65,
    "start_time": "2022-05-02T19:43:43.493Z"
   },
   {
    "duration": 16,
    "start_time": "2022-05-02T19:43:43.561Z"
   },
   {
    "duration": 31,
    "start_time": "2022-05-02T19:43:43.580Z"
   },
   {
    "duration": 49,
    "start_time": "2022-05-02T19:43:43.613Z"
   },
   {
    "duration": 9,
    "start_time": "2022-05-02T19:43:43.664Z"
   },
   {
    "duration": 7,
    "start_time": "2022-05-02T19:43:43.676Z"
   },
   {
    "duration": 13,
    "start_time": "2022-05-02T19:43:43.685Z"
   },
   {
    "duration": 59,
    "start_time": "2022-05-02T19:43:43.701Z"
   },
   {
    "duration": 32,
    "start_time": "2022-05-02T19:43:43.762Z"
   },
   {
    "duration": 5,
    "start_time": "2022-05-02T19:43:43.797Z"
   },
   {
    "duration": 12,
    "start_time": "2022-05-02T19:43:43.805Z"
   },
   {
    "duration": 51,
    "start_time": "2022-05-02T19:43:43.820Z"
   },
   {
    "duration": 48,
    "start_time": "2022-05-02T19:43:43.874Z"
   },
   {
    "duration": 4624,
    "start_time": "2022-05-02T19:43:43.924Z"
   },
   {
    "duration": 14,
    "start_time": "2022-05-02T19:43:48.552Z"
   },
   {
    "duration": 26,
    "start_time": "2022-05-02T19:43:48.569Z"
   },
   {
    "duration": 8,
    "start_time": "2022-05-02T19:43:48.598Z"
   },
   {
    "duration": 13,
    "start_time": "2022-05-02T19:43:48.608Z"
   },
   {
    "duration": 6,
    "start_time": "2022-05-02T19:43:48.656Z"
   },
   {
    "duration": 20,
    "start_time": "2022-05-02T19:43:48.664Z"
   },
   {
    "duration": 29,
    "start_time": "2022-05-02T19:43:48.686Z"
   },
   {
    "duration": 56,
    "start_time": "2022-05-02T19:43:48.718Z"
   },
   {
    "duration": 23,
    "start_time": "2022-05-02T19:43:48.777Z"
   },
   {
    "duration": 55,
    "start_time": "2022-05-02T19:43:48.802Z"
   },
   {
    "duration": 21,
    "start_time": "2022-05-02T19:43:48.860Z"
   },
   {
    "duration": 32,
    "start_time": "2022-05-02T19:43:48.884Z"
   },
   {
    "duration": 71,
    "start_time": "2022-05-02T19:43:48.918Z"
   },
   {
    "duration": 22,
    "start_time": "2022-05-02T19:43:48.992Z"
   },
   {
    "duration": 68,
    "start_time": "2022-05-02T19:43:49.016Z"
   },
   {
    "duration": 20,
    "start_time": "2022-05-02T19:43:49.087Z"
   },
   {
    "duration": 4269,
    "start_time": "2022-05-02T19:44:03.452Z"
   },
   {
    "duration": 570,
    "start_time": "2022-05-02T19:45:14.721Z"
   },
   {
    "duration": 113,
    "start_time": "2022-05-02T19:45:15.294Z"
   },
   {
    "duration": 22,
    "start_time": "2022-05-02T19:45:15.409Z"
   },
   {
    "duration": 30,
    "start_time": "2022-05-02T19:45:15.433Z"
   },
   {
    "duration": 10,
    "start_time": "2022-05-02T19:45:15.466Z"
   },
   {
    "duration": 38,
    "start_time": "2022-05-02T19:45:15.479Z"
   },
   {
    "duration": 38,
    "start_time": "2022-05-02T19:45:15.519Z"
   },
   {
    "duration": 7,
    "start_time": "2022-05-02T19:45:15.562Z"
   },
   {
    "duration": 31,
    "start_time": "2022-05-02T19:45:15.572Z"
   },
   {
    "duration": 10,
    "start_time": "2022-05-02T19:45:15.606Z"
   },
   {
    "duration": 38,
    "start_time": "2022-05-02T19:45:15.618Z"
   },
   {
    "duration": 16,
    "start_time": "2022-05-02T19:45:15.658Z"
   },
   {
    "duration": 25,
    "start_time": "2022-05-02T19:45:15.676Z"
   },
   {
    "duration": 14,
    "start_time": "2022-05-02T19:45:15.707Z"
   },
   {
    "duration": 48,
    "start_time": "2022-05-02T19:45:15.724Z"
   },
   {
    "duration": 24,
    "start_time": "2022-05-02T19:45:15.775Z"
   },
   {
    "duration": 31,
    "start_time": "2022-05-02T19:45:15.802Z"
   },
   {
    "duration": 21,
    "start_time": "2022-05-02T19:45:15.853Z"
   },
   {
    "duration": 17,
    "start_time": "2022-05-02T19:45:15.877Z"
   },
   {
    "duration": 9,
    "start_time": "2022-05-02T19:45:15.896Z"
   },
   {
    "duration": 18,
    "start_time": "2022-05-02T19:45:15.907Z"
   },
   {
    "duration": 43,
    "start_time": "2022-05-02T19:45:15.927Z"
   },
   {
    "duration": 32,
    "start_time": "2022-05-02T19:45:15.973Z"
   },
   {
    "duration": 5,
    "start_time": "2022-05-02T19:45:16.007Z"
   },
   {
    "duration": 41,
    "start_time": "2022-05-02T19:45:16.014Z"
   },
   {
    "duration": 28,
    "start_time": "2022-05-02T19:45:16.057Z"
   },
   {
    "duration": 65,
    "start_time": "2022-05-02T19:45:16.087Z"
   },
   {
    "duration": 5732,
    "start_time": "2022-05-02T19:45:16.155Z"
   },
   {
    "duration": 15,
    "start_time": "2022-05-02T19:45:21.889Z"
   },
   {
    "duration": 46,
    "start_time": "2022-05-02T19:45:21.907Z"
   },
   {
    "duration": 7,
    "start_time": "2022-05-02T19:45:21.955Z"
   },
   {
    "duration": 9,
    "start_time": "2022-05-02T19:45:21.965Z"
   },
   {
    "duration": 9,
    "start_time": "2022-05-02T19:45:21.977Z"
   },
   {
    "duration": 16,
    "start_time": "2022-05-02T19:45:21.989Z"
   },
   {
    "duration": 67,
    "start_time": "2022-05-02T19:45:22.008Z"
   },
   {
    "duration": 31,
    "start_time": "2022-05-02T19:45:22.078Z"
   },
   {
    "duration": 48,
    "start_time": "2022-05-02T19:45:22.111Z"
   },
   {
    "duration": 32,
    "start_time": "2022-05-02T19:45:22.162Z"
   },
   {
    "duration": 14,
    "start_time": "2022-05-02T19:45:22.196Z"
   },
   {
    "duration": 51,
    "start_time": "2022-05-02T19:45:22.213Z"
   },
   {
    "duration": 33,
    "start_time": "2022-05-02T19:45:22.269Z"
   },
   {
    "duration": 21,
    "start_time": "2022-05-02T19:45:22.304Z"
   },
   {
    "duration": 46,
    "start_time": "2022-05-02T19:45:22.351Z"
   },
   {
    "duration": 19,
    "start_time": "2022-05-02T19:45:22.400Z"
   },
   {
    "duration": 563,
    "start_time": "2022-05-02T19:45:22.421Z"
   },
   {
    "duration": 1566,
    "start_time": "2022-05-02T19:45:22.986Z"
   },
   {
    "duration": 11,
    "start_time": "2022-05-02T19:45:24.555Z"
   },
   {
    "duration": 7,
    "start_time": "2022-05-02T19:45:24.568Z"
   },
   {
    "duration": 2003,
    "start_time": "2022-05-02T19:45:24.577Z"
   },
   {
    "duration": 34,
    "start_time": "2022-05-02T19:49:51.246Z"
   },
   {
    "duration": 13,
    "start_time": "2022-05-02T19:50:05.162Z"
   },
   {
    "duration": 182,
    "start_time": "2022-05-03T07:09:38.357Z"
   },
   {
    "duration": 42,
    "start_time": "2022-05-03T07:29:50.617Z"
   },
   {
    "duration": 421,
    "start_time": "2022-05-03T07:29:58.043Z"
   },
   {
    "duration": 81,
    "start_time": "2022-05-03T07:29:58.466Z"
   },
   {
    "duration": 16,
    "start_time": "2022-05-03T07:29:58.549Z"
   },
   {
    "duration": 10,
    "start_time": "2022-05-03T07:29:58.568Z"
   },
   {
    "duration": 5,
    "start_time": "2022-05-03T07:29:58.580Z"
   },
   {
    "duration": 20,
    "start_time": "2022-05-03T07:29:58.586Z"
   },
   {
    "duration": 9,
    "start_time": "2022-05-03T07:29:58.607Z"
   },
   {
    "duration": 41,
    "start_time": "2022-05-03T07:29:58.617Z"
   },
   {
    "duration": 17,
    "start_time": "2022-05-03T07:29:58.659Z"
   },
   {
    "duration": 6,
    "start_time": "2022-05-03T07:29:58.679Z"
   },
   {
    "duration": 11,
    "start_time": "2022-05-03T07:29:58.687Z"
   },
   {
    "duration": 8,
    "start_time": "2022-05-03T07:29:58.701Z"
   },
   {
    "duration": 7,
    "start_time": "2022-05-03T07:29:58.711Z"
   },
   {
    "duration": 12,
    "start_time": "2022-05-03T07:29:58.755Z"
   },
   {
    "duration": 17,
    "start_time": "2022-05-03T07:29:58.769Z"
   },
   {
    "duration": 12,
    "start_time": "2022-05-03T07:29:58.787Z"
   },
   {
    "duration": 17,
    "start_time": "2022-05-03T07:29:58.800Z"
   },
   {
    "duration": 12,
    "start_time": "2022-05-03T07:29:58.854Z"
   },
   {
    "duration": 6,
    "start_time": "2022-05-03T07:29:58.868Z"
   },
   {
    "duration": 13,
    "start_time": "2022-05-03T07:29:58.876Z"
   },
   {
    "duration": 4,
    "start_time": "2022-05-03T07:29:58.891Z"
   },
   {
    "duration": 10,
    "start_time": "2022-05-03T07:29:58.897Z"
   },
   {
    "duration": 53,
    "start_time": "2022-05-03T07:29:58.909Z"
   },
   {
    "duration": 32,
    "start_time": "2022-05-03T07:29:58.964Z"
   },
   {
    "duration": 5,
    "start_time": "2022-05-03T07:29:58.998Z"
   },
   {
    "duration": 9,
    "start_time": "2022-05-03T07:29:59.005Z"
   },
   {
    "duration": 50,
    "start_time": "2022-05-03T07:29:59.016Z"
   },
   {
    "duration": 51,
    "start_time": "2022-05-03T07:29:59.072Z"
   },
   {
    "duration": 113,
    "start_time": "2022-05-03T07:29:59.125Z"
   },
   {
    "duration": 0,
    "start_time": "2022-05-03T07:29:59.240Z"
   },
   {
    "duration": 0,
    "start_time": "2022-05-03T07:29:59.241Z"
   },
   {
    "duration": 0,
    "start_time": "2022-05-03T07:29:59.243Z"
   },
   {
    "duration": 0,
    "start_time": "2022-05-03T07:29:59.244Z"
   },
   {
    "duration": 0,
    "start_time": "2022-05-03T07:29:59.246Z"
   },
   {
    "duration": 0,
    "start_time": "2022-05-03T07:29:59.254Z"
   },
   {
    "duration": 0,
    "start_time": "2022-05-03T07:29:59.256Z"
   },
   {
    "duration": 0,
    "start_time": "2022-05-03T07:29:59.257Z"
   },
   {
    "duration": 0,
    "start_time": "2022-05-03T07:29:59.258Z"
   },
   {
    "duration": 0,
    "start_time": "2022-05-03T07:29:59.261Z"
   },
   {
    "duration": 0,
    "start_time": "2022-05-03T07:29:59.262Z"
   },
   {
    "duration": 0,
    "start_time": "2022-05-03T07:29:59.263Z"
   },
   {
    "duration": 0,
    "start_time": "2022-05-03T07:29:59.265Z"
   },
   {
    "duration": 0,
    "start_time": "2022-05-03T07:29:59.267Z"
   },
   {
    "duration": 0,
    "start_time": "2022-05-03T07:29:59.268Z"
   },
   {
    "duration": 0,
    "start_time": "2022-05-03T07:29:59.270Z"
   },
   {
    "duration": 0,
    "start_time": "2022-05-03T07:29:59.271Z"
   },
   {
    "duration": 0,
    "start_time": "2022-05-03T07:29:59.273Z"
   },
   {
    "duration": 0,
    "start_time": "2022-05-03T07:29:59.275Z"
   },
   {
    "duration": 0,
    "start_time": "2022-05-03T07:29:59.276Z"
   },
   {
    "duration": 0,
    "start_time": "2022-05-03T07:29:59.278Z"
   },
   {
    "duration": 26,
    "start_time": "2022-05-03T07:31:29.880Z"
   },
   {
    "duration": 384,
    "start_time": "2022-05-03T07:31:55.978Z"
   },
   {
    "duration": 77,
    "start_time": "2022-05-03T07:31:56.364Z"
   },
   {
    "duration": 15,
    "start_time": "2022-05-03T07:31:56.454Z"
   },
   {
    "duration": 11,
    "start_time": "2022-05-03T07:31:56.471Z"
   },
   {
    "duration": 9,
    "start_time": "2022-05-03T07:31:56.484Z"
   },
   {
    "duration": 24,
    "start_time": "2022-05-03T07:31:56.494Z"
   },
   {
    "duration": 10,
    "start_time": "2022-05-03T07:31:56.519Z"
   },
   {
    "duration": 26,
    "start_time": "2022-05-03T07:31:56.530Z"
   },
   {
    "duration": 21,
    "start_time": "2022-05-03T07:31:56.559Z"
   },
   {
    "duration": 6,
    "start_time": "2022-05-03T07:31:56.582Z"
   },
   {
    "duration": 9,
    "start_time": "2022-05-03T07:31:56.589Z"
   },
   {
    "duration": 9,
    "start_time": "2022-05-03T07:31:56.600Z"
   },
   {
    "duration": 18,
    "start_time": "2022-05-03T07:31:56.611Z"
   },
   {
    "duration": 28,
    "start_time": "2022-05-03T07:31:56.631Z"
   },
   {
    "duration": 16,
    "start_time": "2022-05-03T07:31:56.660Z"
   },
   {
    "duration": 12,
    "start_time": "2022-05-03T07:31:56.677Z"
   },
   {
    "duration": 16,
    "start_time": "2022-05-03T07:31:56.691Z"
   },
   {
    "duration": 14,
    "start_time": "2022-05-03T07:31:56.708Z"
   },
   {
    "duration": 33,
    "start_time": "2022-05-03T07:31:56.723Z"
   },
   {
    "duration": 47,
    "start_time": "2022-05-03T07:31:56.758Z"
   },
   {
    "duration": 89,
    "start_time": "2022-05-03T07:31:56.807Z"
   },
   {
    "duration": 0,
    "start_time": "2022-05-03T07:31:56.899Z"
   },
   {
    "duration": 0,
    "start_time": "2022-05-03T07:31:56.900Z"
   },
   {
    "duration": 0,
    "start_time": "2022-05-03T07:31:56.900Z"
   },
   {
    "duration": 0,
    "start_time": "2022-05-03T07:31:56.902Z"
   },
   {
    "duration": 0,
    "start_time": "2022-05-03T07:31:56.902Z"
   },
   {
    "duration": 0,
    "start_time": "2022-05-03T07:31:56.903Z"
   },
   {
    "duration": 0,
    "start_time": "2022-05-03T07:31:56.904Z"
   },
   {
    "duration": 0,
    "start_time": "2022-05-03T07:31:56.905Z"
   },
   {
    "duration": 0,
    "start_time": "2022-05-03T07:31:56.906Z"
   },
   {
    "duration": 0,
    "start_time": "2022-05-03T07:31:56.908Z"
   },
   {
    "duration": 0,
    "start_time": "2022-05-03T07:31:56.908Z"
   },
   {
    "duration": 0,
    "start_time": "2022-05-03T07:31:56.909Z"
   },
   {
    "duration": 0,
    "start_time": "2022-05-03T07:31:56.910Z"
   },
   {
    "duration": 0,
    "start_time": "2022-05-03T07:31:56.911Z"
   },
   {
    "duration": 0,
    "start_time": "2022-05-03T07:31:56.912Z"
   },
   {
    "duration": 0,
    "start_time": "2022-05-03T07:31:56.912Z"
   },
   {
    "duration": 0,
    "start_time": "2022-05-03T07:31:56.913Z"
   },
   {
    "duration": 0,
    "start_time": "2022-05-03T07:31:56.914Z"
   },
   {
    "duration": 0,
    "start_time": "2022-05-03T07:31:56.915Z"
   },
   {
    "duration": 0,
    "start_time": "2022-05-03T07:31:56.916Z"
   },
   {
    "duration": 0,
    "start_time": "2022-05-03T07:31:56.916Z"
   },
   {
    "duration": 0,
    "start_time": "2022-05-03T07:31:56.917Z"
   },
   {
    "duration": 0,
    "start_time": "2022-05-03T07:31:56.918Z"
   },
   {
    "duration": 0,
    "start_time": "2022-05-03T07:31:56.919Z"
   },
   {
    "duration": 0,
    "start_time": "2022-05-03T07:31:56.955Z"
   },
   {
    "duration": 0,
    "start_time": "2022-05-03T07:31:56.956Z"
   },
   {
    "duration": 0,
    "start_time": "2022-05-03T07:31:56.957Z"
   },
   {
    "duration": 0,
    "start_time": "2022-05-03T07:31:56.957Z"
   },
   {
    "duration": 0,
    "start_time": "2022-05-03T07:31:56.958Z"
   },
   {
    "duration": 14,
    "start_time": "2022-05-03T07:35:20.686Z"
   },
   {
    "duration": 411,
    "start_time": "2022-05-03T07:36:14.499Z"
   },
   {
    "duration": 80,
    "start_time": "2022-05-03T07:36:14.911Z"
   },
   {
    "duration": 16,
    "start_time": "2022-05-03T07:36:14.992Z"
   },
   {
    "duration": 30,
    "start_time": "2022-05-03T07:36:15.012Z"
   },
   {
    "duration": 9,
    "start_time": "2022-05-03T07:36:15.045Z"
   },
   {
    "duration": 37,
    "start_time": "2022-05-03T07:36:15.056Z"
   },
   {
    "duration": 19,
    "start_time": "2022-05-03T07:36:15.095Z"
   },
   {
    "duration": 4,
    "start_time": "2022-05-03T07:36:15.116Z"
   },
   {
    "duration": 23,
    "start_time": "2022-05-03T07:36:15.122Z"
   },
   {
    "duration": 6,
    "start_time": "2022-05-03T07:36:15.149Z"
   },
   {
    "duration": 15,
    "start_time": "2022-05-03T07:36:15.157Z"
   },
   {
    "duration": 17,
    "start_time": "2022-05-03T07:36:15.174Z"
   },
   {
    "duration": 13,
    "start_time": "2022-05-03T07:36:15.193Z"
   },
   {
    "duration": 14,
    "start_time": "2022-05-03T07:36:15.208Z"
   },
   {
    "duration": 35,
    "start_time": "2022-05-03T07:36:15.224Z"
   },
   {
    "duration": 11,
    "start_time": "2022-05-03T07:36:15.261Z"
   },
   {
    "duration": 22,
    "start_time": "2022-05-03T07:36:15.274Z"
   },
   {
    "duration": 12,
    "start_time": "2022-05-03T07:36:15.298Z"
   },
   {
    "duration": 6,
    "start_time": "2022-05-03T07:36:15.311Z"
   },
   {
    "duration": 7,
    "start_time": "2022-05-03T07:36:15.319Z"
   },
   {
    "duration": 97,
    "start_time": "2022-05-03T07:36:15.327Z"
   },
   {
    "duration": 0,
    "start_time": "2022-05-03T07:36:15.426Z"
   },
   {
    "duration": 0,
    "start_time": "2022-05-03T07:36:15.427Z"
   },
   {
    "duration": 0,
    "start_time": "2022-05-03T07:36:15.428Z"
   },
   {
    "duration": 0,
    "start_time": "2022-05-03T07:36:15.429Z"
   },
   {
    "duration": 0,
    "start_time": "2022-05-03T07:36:15.430Z"
   },
   {
    "duration": 0,
    "start_time": "2022-05-03T07:36:15.431Z"
   },
   {
    "duration": 0,
    "start_time": "2022-05-03T07:36:15.432Z"
   },
   {
    "duration": 0,
    "start_time": "2022-05-03T07:36:15.433Z"
   },
   {
    "duration": 0,
    "start_time": "2022-05-03T07:36:15.455Z"
   },
   {
    "duration": 1,
    "start_time": "2022-05-03T07:36:15.455Z"
   },
   {
    "duration": 0,
    "start_time": "2022-05-03T07:36:15.456Z"
   },
   {
    "duration": 0,
    "start_time": "2022-05-03T07:36:15.457Z"
   },
   {
    "duration": 0,
    "start_time": "2022-05-03T07:36:15.458Z"
   },
   {
    "duration": 0,
    "start_time": "2022-05-03T07:36:15.459Z"
   },
   {
    "duration": 0,
    "start_time": "2022-05-03T07:36:15.460Z"
   },
   {
    "duration": 0,
    "start_time": "2022-05-03T07:36:15.461Z"
   },
   {
    "duration": 0,
    "start_time": "2022-05-03T07:36:15.462Z"
   },
   {
    "duration": 0,
    "start_time": "2022-05-03T07:36:15.463Z"
   },
   {
    "duration": 0,
    "start_time": "2022-05-03T07:36:15.464Z"
   },
   {
    "duration": 0,
    "start_time": "2022-05-03T07:36:15.465Z"
   },
   {
    "duration": 0,
    "start_time": "2022-05-03T07:36:15.466Z"
   },
   {
    "duration": 0,
    "start_time": "2022-05-03T07:36:15.467Z"
   },
   {
    "duration": 0,
    "start_time": "2022-05-03T07:36:15.468Z"
   },
   {
    "duration": 0,
    "start_time": "2022-05-03T07:36:15.469Z"
   },
   {
    "duration": 0,
    "start_time": "2022-05-03T07:36:15.469Z"
   },
   {
    "duration": 0,
    "start_time": "2022-05-03T07:36:15.470Z"
   },
   {
    "duration": 0,
    "start_time": "2022-05-03T07:36:15.471Z"
   },
   {
    "duration": 0,
    "start_time": "2022-05-03T07:36:15.472Z"
   },
   {
    "duration": 0,
    "start_time": "2022-05-03T07:36:15.473Z"
   },
   {
    "duration": 452,
    "start_time": "2022-05-03T07:39:19.537Z"
   },
   {
    "duration": 76,
    "start_time": "2022-05-03T07:39:19.991Z"
   },
   {
    "duration": 16,
    "start_time": "2022-05-03T07:39:20.069Z"
   },
   {
    "duration": 17,
    "start_time": "2022-05-03T07:39:20.087Z"
   },
   {
    "duration": 7,
    "start_time": "2022-05-03T07:39:20.106Z"
   },
   {
    "duration": 21,
    "start_time": "2022-05-03T07:39:20.115Z"
   },
   {
    "duration": 9,
    "start_time": "2022-05-03T07:39:20.154Z"
   },
   {
    "duration": 10,
    "start_time": "2022-05-03T07:39:20.165Z"
   },
   {
    "duration": 24,
    "start_time": "2022-05-03T07:39:20.176Z"
   },
   {
    "duration": 5,
    "start_time": "2022-05-03T07:39:20.202Z"
   },
   {
    "duration": 30,
    "start_time": "2022-05-03T07:39:20.209Z"
   },
   {
    "duration": 17,
    "start_time": "2022-05-03T07:39:20.240Z"
   },
   {
    "duration": 16,
    "start_time": "2022-05-03T07:39:20.259Z"
   },
   {
    "duration": 28,
    "start_time": "2022-05-03T07:39:20.276Z"
   },
   {
    "duration": 16,
    "start_time": "2022-05-03T07:39:20.305Z"
   },
   {
    "duration": 14,
    "start_time": "2022-05-03T07:39:20.322Z"
   },
   {
    "duration": 23,
    "start_time": "2022-05-03T07:39:20.338Z"
   },
   {
    "duration": 12,
    "start_time": "2022-05-03T07:39:20.364Z"
   },
   {
    "duration": 16,
    "start_time": "2022-05-03T07:39:20.378Z"
   },
   {
    "duration": 56,
    "start_time": "2022-05-03T07:39:20.396Z"
   },
   {
    "duration": 13,
    "start_time": "2022-05-03T07:39:20.454Z"
   },
   {
    "duration": 30,
    "start_time": "2022-05-03T07:39:20.469Z"
   },
   {
    "duration": 32,
    "start_time": "2022-05-03T07:39:20.501Z"
   },
   {
    "duration": 6,
    "start_time": "2022-05-03T07:39:20.535Z"
   },
   {
    "duration": 10,
    "start_time": "2022-05-03T07:39:20.556Z"
   },
   {
    "duration": 41,
    "start_time": "2022-05-03T07:39:20.568Z"
   },
   {
    "duration": 32,
    "start_time": "2022-05-03T07:39:20.611Z"
   },
   {
    "duration": 62,
    "start_time": "2022-05-03T07:39:20.647Z"
   },
   {
    "duration": 0,
    "start_time": "2022-05-03T07:39:20.711Z"
   },
   {
    "duration": 0,
    "start_time": "2022-05-03T07:39:20.712Z"
   },
   {
    "duration": 0,
    "start_time": "2022-05-03T07:39:20.713Z"
   },
   {
    "duration": 0,
    "start_time": "2022-05-03T07:39:20.714Z"
   },
   {
    "duration": 0,
    "start_time": "2022-05-03T07:39:20.715Z"
   },
   {
    "duration": 0,
    "start_time": "2022-05-03T07:39:20.716Z"
   },
   {
    "duration": 0,
    "start_time": "2022-05-03T07:39:20.716Z"
   },
   {
    "duration": 0,
    "start_time": "2022-05-03T07:39:20.717Z"
   },
   {
    "duration": 0,
    "start_time": "2022-05-03T07:39:20.718Z"
   },
   {
    "duration": 0,
    "start_time": "2022-05-03T07:39:20.720Z"
   },
   {
    "duration": 0,
    "start_time": "2022-05-03T07:39:20.721Z"
   },
   {
    "duration": 0,
    "start_time": "2022-05-03T07:39:20.722Z"
   },
   {
    "duration": 0,
    "start_time": "2022-05-03T07:39:20.723Z"
   },
   {
    "duration": 0,
    "start_time": "2022-05-03T07:39:20.724Z"
   },
   {
    "duration": 0,
    "start_time": "2022-05-03T07:39:20.725Z"
   },
   {
    "duration": 1,
    "start_time": "2022-05-03T07:39:20.725Z"
   },
   {
    "duration": 0,
    "start_time": "2022-05-03T07:39:20.726Z"
   },
   {
    "duration": 0,
    "start_time": "2022-05-03T07:39:20.754Z"
   },
   {
    "duration": 0,
    "start_time": "2022-05-03T07:39:20.756Z"
   },
   {
    "duration": 0,
    "start_time": "2022-05-03T07:39:20.757Z"
   },
   {
    "duration": 0,
    "start_time": "2022-05-03T07:39:20.758Z"
   },
   {
    "duration": 5,
    "start_time": "2022-05-03T07:40:29.815Z"
   },
   {
    "duration": 174,
    "start_time": "2022-05-03T07:47:14.376Z"
   },
   {
    "duration": 5,
    "start_time": "2022-05-03T07:47:48.283Z"
   },
   {
    "duration": 419,
    "start_time": "2022-05-03T08:02:06.445Z"
   },
   {
    "duration": 78,
    "start_time": "2022-05-03T08:02:06.866Z"
   },
   {
    "duration": 55,
    "start_time": "2022-05-03T08:02:06.946Z"
   },
   {
    "duration": 60,
    "start_time": "2022-05-03T08:02:07.015Z"
   },
   {
    "duration": 26,
    "start_time": "2022-05-03T08:02:07.086Z"
   },
   {
    "duration": 27,
    "start_time": "2022-05-03T08:02:07.114Z"
   },
   {
    "duration": 9,
    "start_time": "2022-05-03T08:02:07.143Z"
   },
   {
    "duration": 4,
    "start_time": "2022-05-03T08:02:07.154Z"
   },
   {
    "duration": 18,
    "start_time": "2022-05-03T08:02:07.160Z"
   },
   {
    "duration": 7,
    "start_time": "2022-05-03T08:02:07.181Z"
   },
   {
    "duration": 9,
    "start_time": "2022-05-03T08:02:07.190Z"
   },
   {
    "duration": 10,
    "start_time": "2022-05-03T08:02:07.201Z"
   },
   {
    "duration": 7,
    "start_time": "2022-05-03T08:02:07.212Z"
   },
   {
    "duration": 13,
    "start_time": "2022-05-03T08:02:07.255Z"
   },
   {
    "duration": 22,
    "start_time": "2022-05-03T08:02:07.271Z"
   },
   {
    "duration": 15,
    "start_time": "2022-05-03T08:02:07.295Z"
   },
   {
    "duration": 57,
    "start_time": "2022-05-03T08:02:07.312Z"
   },
   {
    "duration": 13,
    "start_time": "2022-05-03T08:02:07.371Z"
   },
   {
    "duration": 9,
    "start_time": "2022-05-03T08:02:07.386Z"
   },
   {
    "duration": 15,
    "start_time": "2022-05-03T08:02:07.397Z"
   },
   {
    "duration": 10,
    "start_time": "2022-05-03T08:02:07.414Z"
   },
   {
    "duration": 20,
    "start_time": "2022-05-03T08:02:07.455Z"
   },
   {
    "duration": 20,
    "start_time": "2022-05-03T08:02:07.476Z"
   },
   {
    "duration": 4,
    "start_time": "2022-05-03T08:02:07.498Z"
   },
   {
    "duration": 9,
    "start_time": "2022-05-03T08:02:07.504Z"
   },
   {
    "duration": 47,
    "start_time": "2022-05-03T08:02:07.515Z"
   },
   {
    "duration": 35,
    "start_time": "2022-05-03T08:02:07.565Z"
   },
   {
    "duration": 5,
    "start_time": "2022-05-03T08:02:07.603Z"
   },
   {
    "duration": 9,
    "start_time": "2022-05-03T08:02:07.611Z"
   },
   {
    "duration": 42,
    "start_time": "2022-05-03T08:02:07.623Z"
   },
   {
    "duration": 16,
    "start_time": "2022-05-03T08:02:07.667Z"
   },
   {
    "duration": 6,
    "start_time": "2022-05-03T08:02:07.685Z"
   },
   {
    "duration": 12,
    "start_time": "2022-05-03T08:02:07.693Z"
   },
   {
    "duration": 12,
    "start_time": "2022-05-03T08:02:07.707Z"
   },
   {
    "duration": 34,
    "start_time": "2022-05-03T08:02:07.721Z"
   },
   {
    "duration": 21,
    "start_time": "2022-05-03T08:02:07.757Z"
   },
   {
    "duration": 18,
    "start_time": "2022-05-03T08:02:07.780Z"
   },
   {
    "duration": 19,
    "start_time": "2022-05-03T08:02:07.800Z"
   },
   {
    "duration": 49,
    "start_time": "2022-05-03T08:02:07.821Z"
   },
   {
    "duration": 12,
    "start_time": "2022-05-03T08:02:07.872Z"
   },
   {
    "duration": 15,
    "start_time": "2022-05-03T08:02:07.886Z"
   },
   {
    "duration": 21,
    "start_time": "2022-05-03T08:02:07.903Z"
   },
   {
    "duration": 17,
    "start_time": "2022-05-03T08:02:07.955Z"
   },
   {
    "duration": 24,
    "start_time": "2022-05-03T08:02:07.974Z"
   },
   {
    "duration": 14,
    "start_time": "2022-05-03T08:02:07.999Z"
   },
   {
    "duration": 667,
    "start_time": "2022-05-03T08:02:08.014Z"
   },
   {
    "duration": 92,
    "start_time": "2022-05-03T08:02:08.682Z"
   },
   {
    "duration": 0,
    "start_time": "2022-05-03T08:02:08.775Z"
   },
   {
    "duration": 0,
    "start_time": "2022-05-03T08:02:08.777Z"
   },
   {
    "duration": 0,
    "start_time": "2022-05-03T08:02:08.778Z"
   },
   {
    "duration": 8,
    "start_time": "2022-05-03T08:03:39.252Z"
   }
  ],
  "kernelspec": {
   "display_name": "Python 3.9.7 ('base')",
   "language": "python",
   "name": "python3"
  },
  "language_info": {
   "codemirror_mode": {
    "name": "ipython",
    "version": 3
   },
   "file_extension": ".py",
   "mimetype": "text/x-python",
   "name": "python",
   "nbconvert_exporter": "python",
   "pygments_lexer": "ipython3",
   "version": "3.9.7"
  },
  "toc": {
   "base_numbering": 1,
   "nav_menu": {
    "height": "594.774px",
    "width": "556.753px"
   },
   "number_sections": true,
   "sideBar": true,
   "skip_h1_title": true,
   "title_cell": "Исследование надёжности заёмщиков",
   "title_sidebar": "Contents",
   "toc_cell": true,
   "toc_position": {
    "height": "calc(100% - 180px)",
    "left": "10px",
    "top": "150px",
    "width": "384px"
   },
   "toc_section_display": true,
   "toc_window_display": false
  },
  "vscode": {
   "interpreter": {
    "hash": "e75f4f9d416b177a77be22781e97d7661f03aa800be4029d5a3c049580378dcb"
   }
  }
 },
 "nbformat": 4,
 "nbformat_minor": 5
}
